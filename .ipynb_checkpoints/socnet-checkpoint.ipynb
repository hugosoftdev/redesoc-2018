{
 "cells": [
  {
   "cell_type": "markdown",
   "metadata": {},
   "source": [
    "# Desafios de Programação: Guia 8\n",
    "\n",
    "Formalmente, um **grafo** é um par $(N, E)$, onde $N$ é um conjunto qualquer e $E$ é um conjunto de pares ordenados de elementos de $N$, ou seja,\n",
    "\n",
    "$$E \\subseteq \\{(n, m) \\colon n \\in N \\textrm{ e } m \\in N\\}$$.\n",
    "\n",
    "Entendeu? Provavelmente não, então vamos tentar uma definição mais informal: um grafo contém elementos, chamados **nós**, e cada par desses elementos pode ou não ter uma conexão. Essas conexões, chamadas **arestas**, possuem direção: a aresta de $n$ para $m$ e a aresta de $m$ para $n$ são consideradas diferentes.\n",
    "\n",
    "Entendeu agora? Provavelmente ainda não... Mesmo sendo mais informal, essa descrição em texto é muito abstrata!"
   ]
  },
  {
   "cell_type": "markdown",
   "metadata": {},
   "source": [
    "## Instalando as dependências\n",
    "\n",
    "Precisamos de uma descrição mais visual, mas para isso precisamos antes instalar algumas dependências.\n",
    "\n",
    "    pip install networkx plotly\n",
    "\n",
    "Em algumas distribuições Linux você deve usar o comando `pip3`, pois o comando `pip` está associado a Python 2 por padrão."
   ]
  },
  {
   "cell_type": "markdown",
   "metadata": {},
   "source": [
    "## Importando a biblioteca\n",
    "\n",
    "Confirme que o arquivo `socnet.py` e este notebook estão na mesma pasta."
   ]
  },
  {
   "cell_type": "code",
   "execution_count": 1,
   "metadata": {},
   "outputs": [
    {
     "data": {
      "text/html": [
       "<script>requirejs.config({paths: { 'plotly': ['https://cdn.plot.ly/plotly-latest.min']},});if(!window.Plotly) {{require(['plotly'],function(plotly) {window.Plotly=plotly;});}}</script>"
      ],
      "text/vnd.plotly.v1+html": [
       "<script>requirejs.config({paths: { 'plotly': ['https://cdn.plot.ly/plotly-latest.min']},});if(!window.Plotly) {{require(['plotly'],function(plotly) {window.Plotly=plotly;});}}</script>"
      ]
     },
     "metadata": {},
     "output_type": "display_data"
    }
   ],
   "source": [
    "import socnet as sn"
   ]
  },
  {
   "cell_type": "markdown",
   "metadata": {},
   "source": [
    "## Configurando a biblioteca\n",
    "\n",
    "Por enquanto, mantenha os valores padrão. Você pode mudar depois."
   ]
  },
  {
   "cell_type": "code",
   "execution_count": 2,
   "metadata": {},
   "outputs": [],
   "source": [
    "sn.graph_width = 320\n",
    "sn.graph_height = 180\n",
    "\n",
    "sn.node_size = 20\n",
    "sn.node_color = (255, 255, 255)\n",
    "\n",
    "sn.edge_width = 1\n",
    "sn.edge_color = (0, 0, 0)"
   ]
  },
  {
   "cell_type": "markdown",
   "metadata": {},
   "source": [
    "## Carregando um grafo\n",
    "\n",
    "O arquivo `socnet.gml` está no [formato GML](http://www.fim.uni-passau.de/fileadmin/files/lehrstuhl/brandenburg/projekte/gml/gml-technical-report.pdf).\n",
    "\n",
    "O parâmetro `has_pos=True` indica que o próprio arquivo diz em qual posição cada nó deve estar na visualização. Se isso não fosse verdade, a biblioteca atribuiria posições aleatórias."
   ]
  },
  {
   "cell_type": "code",
   "execution_count": 3,
   "metadata": {},
   "outputs": [],
   "source": [
    "g = sn.load_graph('socnet.gml', has_pos=True)"
   ]
  },
  {
   "cell_type": "markdown",
   "metadata": {},
   "source": [
    "## Visualizando um grafo"
   ]
  },
  {
   "cell_type": "code",
   "execution_count": 4,
   "metadata": {},
   "outputs": [
    {
     "data": {
      "application/vnd.plotly.v1+json": {
       "data": [
        {
         "hoverinfo": "none",
         "line": {
          "color": "rgb(0, 0, 0)",
          "width": 1
         },
         "mode": "lines",
         "x": [
          0,
          0.33,
          null,
          0.3003062713421305,
          0.2855225877733855,
          null,
          0.3003062713421305,
          0.2629725579755741,
          null,
          0,
          0.33,
          null,
          0.3003062713421305,
          0.2629725579755741,
          null,
          0.3003062713421305,
          0.2855225877733855,
          null,
          0.33,
          0.66,
          null,
          0.6221212121212122,
          0.5888794484132436,
          null,
          0.6221212121212122,
          0.5888794484132436,
          null,
          0.66,
          1,
          null,
          0.9621212121212122,
          0.9288794484132434,
          null,
          0.9621212121212122,
          0.9288794484132434,
          null,
          0.66,
          0.33,
          null,
          0.35022071942550836,
          0.3526100389194443,
          null,
          0.35022071942550836,
          0.3833221014449805,
          null,
          1,
          0.66,
          null,
          0.6806532023433265,
          0.6835549327328607,
          null,
          0.6806532023433265,
          0.7140012524011855,
          null,
          0.33,
          0.66,
          null,
          0.6221212121212122,
          0.5888794484132436,
          null,
          0.6221212121212122,
          0.5888794484132436,
          null,
          0.66,
          1,
          null,
          0.9621212121212122,
          0.9288794484132434,
          null,
          0.9621212121212122,
          0.9288794484132434,
          null
         ],
         "y": [
          0.5,
          1,
          null,
          0.9550095020335311,
          0.8882926689752846,
          null,
          0.9550095020335311,
          0.9427605821595028,
          null,
          0.5,
          0,
          null,
          0.04499049796646893,
          0.0572394178404972,
          null,
          0.04499049796646893,
          0.11170733102471547,
          null,
          1,
          1,
          null,
          1,
          0.9652590189417244,
          null,
          1,
          1.0347409810582755,
          null,
          1,
          1,
          null,
          1,
          0.9652590189417244,
          null,
          1,
          1.0347409810582755,
          null,
          1,
          0,
          null,
          0.06127490735002531,
          0.13359437096827784,
          null,
          0.06127490735002531,
          0.09650302407543368,
          null,
          1,
          0,
          null,
          0.06074471277448944,
          0.13299554373343975,
          null,
          0.06074471277448944,
          0.09511088313140172,
          null,
          0,
          0,
          null,
          0,
          -0.034740981058275576,
          null,
          0,
          0.034740981058275576,
          null,
          0,
          0,
          null,
          0,
          -0.034740981058275576,
          null,
          0,
          0.034740981058275576,
          null
         ]
        },
        {
         "hoverinfo": "none",
         "marker": {
          "color": "rgb(255, 255, 255)",
          "line": {
           "color": "rgb(0, 0, 0)",
           "width": 1
          },
          "size": 20
         },
         "mode": "markers+text",
         "text": [],
         "textfont": {
          "color": "rgb(0, 0, 0)"
         },
         "textposition": "middle center",
         "x": [
          0,
          0.33,
          0.66,
          1,
          0.33,
          0.66,
          1
         ],
         "y": [
          0.5,
          1,
          1,
          1,
          0,
          0,
          0
         ]
        }
       ],
       "layout": {
        "height": 180,
        "margin": {
         "b": 0,
         "l": 0,
         "r": 0,
         "t": 0
        },
        "showlegend": false,
        "width": 320,
        "xaxis": {
         "showgrid": false,
         "showticklabels": false,
         "zeroline": false
        },
        "yaxis": {
         "showgrid": false,
         "showticklabels": false,
         "zeroline": false
        }
       }
      },
      "text/html": [
       "<div id=\"74a7007d-e5a6-4eca-b319-7580d2e211e3\" style=\"height: 180px; width: 320px;\" class=\"plotly-graph-div\"></div><script type=\"text/javascript\">require([\"plotly\"], function(Plotly) { window.PLOTLYENV=window.PLOTLYENV || {};window.PLOTLYENV.BASE_URL=\"https://plot.ly\";Plotly.newPlot(\"74a7007d-e5a6-4eca-b319-7580d2e211e3\", [{\"mode\": \"lines\", \"line\": {\"color\": \"rgb(0, 0, 0)\", \"width\": 1}, \"y\": [0.5, 1.0, null, 0.9550095020335311, 0.8882926689752846, null, 0.9550095020335311, 0.9427605821595028, null, 0.5, 0.0, null, 0.04499049796646893, 0.0572394178404972, null, 0.04499049796646893, 0.11170733102471547, null, 1.0, 1.0, null, 1.0, 0.9652590189417244, null, 1.0, 1.0347409810582755, null, 1.0, 1.0, null, 1.0, 0.9652590189417244, null, 1.0, 1.0347409810582755, null, 1.0, 0.0, null, 0.06127490735002531, 0.13359437096827784, null, 0.06127490735002531, 0.09650302407543368, null, 1.0, 0.0, null, 0.06074471277448944, 0.13299554373343975, null, 0.06074471277448944, 0.09511088313140172, null, 0.0, 0.0, null, 0.0, -0.034740981058275576, null, 0.0, 0.034740981058275576, null, 0.0, 0.0, null, 0.0, -0.034740981058275576, null, 0.0, 0.034740981058275576, null], \"hoverinfo\": \"none\", \"x\": [0.0, 0.33, null, 0.3003062713421305, 0.2855225877733855, null, 0.3003062713421305, 0.2629725579755741, null, 0.0, 0.33, null, 0.3003062713421305, 0.2629725579755741, null, 0.3003062713421305, 0.2855225877733855, null, 0.33, 0.66, null, 0.6221212121212122, 0.5888794484132436, null, 0.6221212121212122, 0.5888794484132436, null, 0.66, 1.0, null, 0.9621212121212122, 0.9288794484132434, null, 0.9621212121212122, 0.9288794484132434, null, 0.66, 0.33, null, 0.35022071942550836, 0.3526100389194443, null, 0.35022071942550836, 0.3833221014449805, null, 1.0, 0.66, null, 0.6806532023433265, 0.6835549327328607, null, 0.6806532023433265, 0.7140012524011855, null, 0.33, 0.66, null, 0.6221212121212122, 0.5888794484132436, null, 0.6221212121212122, 0.5888794484132436, null, 0.66, 1.0, null, 0.9621212121212122, 0.9288794484132434, null, 0.9621212121212122, 0.9288794484132434, null]}, {\"mode\": \"markers+text\", \"x\": [0.0, 0.33, 0.66, 1.0, 0.33, 0.66, 1.0], \"textposition\": \"middle center\", \"textfont\": {\"color\": \"rgb(0, 0, 0)\"}, \"marker\": {\"color\": \"rgb(255, 255, 255)\", \"line\": {\"color\": \"rgb(0, 0, 0)\", \"width\": 1}, \"size\": 20}, \"y\": [0.5, 1.0, 1.0, 1.0, 0.0, 0.0, 0.0], \"hoverinfo\": \"none\", \"text\": []}], {\"margin\": {\"r\": 0, \"b\": 0, \"t\": 0, \"l\": 0}, \"showlegend\": false, \"xaxis\": {\"showticklabels\": false, \"showgrid\": false, \"zeroline\": false}, \"yaxis\": {\"showticklabels\": false, \"showgrid\": false, \"zeroline\": false}, \"height\": 180, \"width\": 320}, {\"linkText\": \"Export to plot.ly\", \"displayModeBar\": false, \"showLink\": false})});</script>"
      ],
      "text/vnd.plotly.v1+html": [
       "<div id=\"74a7007d-e5a6-4eca-b319-7580d2e211e3\" style=\"height: 180px; width: 320px;\" class=\"plotly-graph-div\"></div><script type=\"text/javascript\">require([\"plotly\"], function(Plotly) { window.PLOTLYENV=window.PLOTLYENV || {};window.PLOTLYENV.BASE_URL=\"https://plot.ly\";Plotly.newPlot(\"74a7007d-e5a6-4eca-b319-7580d2e211e3\", [{\"mode\": \"lines\", \"line\": {\"color\": \"rgb(0, 0, 0)\", \"width\": 1}, \"y\": [0.5, 1.0, null, 0.9550095020335311, 0.8882926689752846, null, 0.9550095020335311, 0.9427605821595028, null, 0.5, 0.0, null, 0.04499049796646893, 0.0572394178404972, null, 0.04499049796646893, 0.11170733102471547, null, 1.0, 1.0, null, 1.0, 0.9652590189417244, null, 1.0, 1.0347409810582755, null, 1.0, 1.0, null, 1.0, 0.9652590189417244, null, 1.0, 1.0347409810582755, null, 1.0, 0.0, null, 0.06127490735002531, 0.13359437096827784, null, 0.06127490735002531, 0.09650302407543368, null, 1.0, 0.0, null, 0.06074471277448944, 0.13299554373343975, null, 0.06074471277448944, 0.09511088313140172, null, 0.0, 0.0, null, 0.0, -0.034740981058275576, null, 0.0, 0.034740981058275576, null, 0.0, 0.0, null, 0.0, -0.034740981058275576, null, 0.0, 0.034740981058275576, null], \"hoverinfo\": \"none\", \"x\": [0.0, 0.33, null, 0.3003062713421305, 0.2855225877733855, null, 0.3003062713421305, 0.2629725579755741, null, 0.0, 0.33, null, 0.3003062713421305, 0.2629725579755741, null, 0.3003062713421305, 0.2855225877733855, null, 0.33, 0.66, null, 0.6221212121212122, 0.5888794484132436, null, 0.6221212121212122, 0.5888794484132436, null, 0.66, 1.0, null, 0.9621212121212122, 0.9288794484132434, null, 0.9621212121212122, 0.9288794484132434, null, 0.66, 0.33, null, 0.35022071942550836, 0.3526100389194443, null, 0.35022071942550836, 0.3833221014449805, null, 1.0, 0.66, null, 0.6806532023433265, 0.6835549327328607, null, 0.6806532023433265, 0.7140012524011855, null, 0.33, 0.66, null, 0.6221212121212122, 0.5888794484132436, null, 0.6221212121212122, 0.5888794484132436, null, 0.66, 1.0, null, 0.9621212121212122, 0.9288794484132434, null, 0.9621212121212122, 0.9288794484132434, null]}, {\"mode\": \"markers+text\", \"x\": [0.0, 0.33, 0.66, 1.0, 0.33, 0.66, 1.0], \"textposition\": \"middle center\", \"textfont\": {\"color\": \"rgb(0, 0, 0)\"}, \"marker\": {\"color\": \"rgb(255, 255, 255)\", \"line\": {\"color\": \"rgb(0, 0, 0)\", \"width\": 1}, \"size\": 20}, \"y\": [0.5, 1.0, 1.0, 1.0, 0.0, 0.0, 0.0], \"hoverinfo\": \"none\", \"text\": []}], {\"margin\": {\"r\": 0, \"b\": 0, \"t\": 0, \"l\": 0}, \"showlegend\": false, \"xaxis\": {\"showticklabels\": false, \"showgrid\": false, \"zeroline\": false}, \"yaxis\": {\"showticklabels\": false, \"showgrid\": false, \"zeroline\": false}, \"height\": 180, \"width\": 320}, {\"linkText\": \"Export to plot.ly\", \"displayModeBar\": false, \"showLink\": false})});</script>"
      ]
     },
     "metadata": {},
     "output_type": "display_data"
    }
   ],
   "source": [
    "sn.show_graph(g)"
   ]
  },
  {
   "cell_type": "markdown",
   "metadata": {},
   "source": [
    "Pronto, isso é um grafo! Bolinhas e setas que ligam essas bolinhas.\n",
    "\n",
    "Releia as definições anteriores e confirme que estávamos falando disso o tempo todo!"
   ]
  },
  {
   "cell_type": "markdown",
   "metadata": {},
   "source": [
    "## Usando outras funcionalidades da biblioteca\n",
    "\n",
    "O grafo `g` tem $7$ nós:"
   ]
  },
  {
   "cell_type": "code",
   "execution_count": 5,
   "metadata": {},
   "outputs": [
    {
     "name": "stdout",
     "output_type": "stream",
     "text": [
      "7\n"
     ]
    }
   ],
   "source": [
    "print(g.number_of_nodes())"
   ]
  },
  {
   "cell_type": "markdown",
   "metadata": {},
   "source": [
    "Fiel à definição formal, a biblioteca aceita que nós possam ser qualquer coisa. Nesse grafo em particular, são os inteiros de $0$ a $6$."
   ]
  },
  {
   "cell_type": "code",
   "execution_count": 6,
   "metadata": {},
   "outputs": [
    {
     "name": "stdout",
     "output_type": "stream",
     "text": [
      "0\n",
      "1\n",
      "2\n",
      "3\n",
      "4\n",
      "5\n",
      "6\n"
     ]
    }
   ],
   "source": [
    "for n in g.nodes:\n",
    "    print(n)"
   ]
  },
  {
   "cell_type": "markdown",
   "metadata": {},
   "source": [
    "Usando uma sintaxe especial de colchetes, podemos ler e escrever atributos em nós."
   ]
  },
  {
   "cell_type": "code",
   "execution_count": 7,
   "metadata": {},
   "outputs": [
    {
     "name": "stdout",
     "output_type": "stream",
     "text": [
      "(255, 0, 0)\n"
     ]
    }
   ],
   "source": [
    "# atribui ao atributo chamado 'color' do nó 0 o valor (255, 0, 0)\n",
    "g.nodes[0]['color'] = (255, 0, 0)\n",
    "\n",
    "# imprime o atributo chamado 'color' do nó 0\n",
    "print(g.nodes[0]['color'])"
   ]
  },
  {
   "cell_type": "markdown",
   "metadata": {},
   "source": [
    "Usando outra sintaxe especial de colchetes, podemos ler e escrever atributos em arestas."
   ]
  },
  {
   "cell_type": "code",
   "execution_count": 8,
   "metadata": {},
   "outputs": [
    {
     "name": "stdout",
     "output_type": "stream",
     "text": [
      "(0, 0, 255)\n"
     ]
    }
   ],
   "source": [
    "# atribui ao atributo chamado 'color' da aresta (0, 1) o valor (0, 0, 255)\n",
    "g.edges[0, 1]['color'] = (0, 0, 255)\n",
    "\n",
    "# imprime o atributo chamado 'color' da aresta (0, 1)\n",
    "print(g.edges[0, 1]['color'])"
   ]
  },
  {
   "cell_type": "markdown",
   "metadata": {},
   "source": [
    "Se adicionamos um atributo `label` a cada nó e adicionamos o parâmetro `nlab=True` à função `show_graph`, podemos incluir nomes na visualização.\n",
    "\n",
    "Além disso, o atributo `color`, tanto em nós quanto em arestas, é usado na visualização."
   ]
  },
  {
   "cell_type": "code",
   "execution_count": 9,
   "metadata": {},
   "outputs": [
    {
     "data": {
      "application/vnd.plotly.v1+json": {
       "data": [
        {
         "hoverinfo": "none",
         "line": {
          "color": "rgb(0, 0, 255)",
          "width": 1
         },
         "mode": "lines",
         "x": [
          0,
          0.33,
          null,
          0.3003062713421305,
          0.2855225877733855,
          null,
          0.3003062713421305,
          0.2629725579755741,
          null
         ],
         "y": [
          0.5,
          1,
          null,
          0.9550095020335311,
          0.8882926689752846,
          null,
          0.9550095020335311,
          0.9427605821595028,
          null
         ]
        },
        {
         "hoverinfo": "none",
         "line": {
          "color": "rgb(0, 0, 0)",
          "width": 1
         },
         "mode": "lines",
         "x": [
          0,
          0.33,
          null,
          0.3003062713421305,
          0.2629725579755741,
          null,
          0.3003062713421305,
          0.2855225877733855,
          null,
          0.33,
          0.66,
          null,
          0.6221212121212122,
          0.5888794484132436,
          null,
          0.6221212121212122,
          0.5888794484132436,
          null,
          0.66,
          1,
          null,
          0.9621212121212122,
          0.9288794484132434,
          null,
          0.9621212121212122,
          0.9288794484132434,
          null,
          0.66,
          0.33,
          null,
          0.35022071942550836,
          0.3526100389194443,
          null,
          0.35022071942550836,
          0.3833221014449805,
          null,
          1,
          0.66,
          null,
          0.6806532023433265,
          0.6835549327328607,
          null,
          0.6806532023433265,
          0.7140012524011855,
          null,
          0.33,
          0.66,
          null,
          0.6221212121212122,
          0.5888794484132436,
          null,
          0.6221212121212122,
          0.5888794484132436,
          null,
          0.66,
          1,
          null,
          0.9621212121212122,
          0.9288794484132434,
          null,
          0.9621212121212122,
          0.9288794484132434,
          null
         ],
         "y": [
          0.5,
          0,
          null,
          0.04499049796646893,
          0.0572394178404972,
          null,
          0.04499049796646893,
          0.11170733102471547,
          null,
          1,
          1,
          null,
          1,
          0.9652590189417244,
          null,
          1,
          1.0347409810582755,
          null,
          1,
          1,
          null,
          1,
          0.9652590189417244,
          null,
          1,
          1.0347409810582755,
          null,
          1,
          0,
          null,
          0.06127490735002531,
          0.13359437096827784,
          null,
          0.06127490735002531,
          0.09650302407543368,
          null,
          1,
          0,
          null,
          0.06074471277448944,
          0.13299554373343975,
          null,
          0.06074471277448944,
          0.09511088313140172,
          null,
          0,
          0,
          null,
          0,
          -0.034740981058275576,
          null,
          0,
          0.034740981058275576,
          null,
          0,
          0,
          null,
          0,
          -0.034740981058275576,
          null,
          0,
          0.034740981058275576,
          null
         ]
        },
        {
         "hoverinfo": "none",
         "marker": {
          "color": "rgb(255, 255, 255)",
          "line": {
           "color": "rgb(0, 0, 0)",
           "width": 1
          },
          "size": 20
         },
         "mode": "markers+text",
         "text": [
          "1",
          "2",
          "3",
          "4",
          "5",
          "6"
         ],
         "textfont": {
          "color": "rgb(0, 0, 0)"
         },
         "textposition": "middle center",
         "x": [
          0.33,
          0.66,
          1,
          0.33,
          0.66,
          1
         ],
         "y": [
          1,
          1,
          1,
          0,
          0,
          0
         ]
        },
        {
         "hoverinfo": "none",
         "marker": {
          "color": "rgb(255, 0, 0)",
          "line": {
           "color": "rgb(0, 0, 0)",
           "width": 1
          },
          "size": 20
         },
         "mode": "markers+text",
         "text": [
          "0"
         ],
         "textfont": {
          "color": "rgb(255, 255, 255)"
         },
         "textposition": "middle center",
         "x": [
          0
         ],
         "y": [
          0.5
         ]
        }
       ],
       "layout": {
        "height": 180,
        "margin": {
         "b": 0,
         "l": 0,
         "r": 0,
         "t": 0
        },
        "showlegend": false,
        "width": 320,
        "xaxis": {
         "showgrid": false,
         "showticklabels": false,
         "zeroline": false
        },
        "yaxis": {
         "showgrid": false,
         "showticklabels": false,
         "zeroline": false
        }
       }
      },
      "text/html": [
       "<div id=\"f5b74676-b9d5-4c2c-a47c-3fc233c9606b\" style=\"height: 180px; width: 320px;\" class=\"plotly-graph-div\"></div><script type=\"text/javascript\">require([\"plotly\"], function(Plotly) { window.PLOTLYENV=window.PLOTLYENV || {};window.PLOTLYENV.BASE_URL=\"https://plot.ly\";Plotly.newPlot(\"f5b74676-b9d5-4c2c-a47c-3fc233c9606b\", [{\"mode\": \"lines\", \"line\": {\"color\": \"rgb(0, 0, 255)\", \"width\": 1}, \"y\": [0.5, 1.0, null, 0.9550095020335311, 0.8882926689752846, null, 0.9550095020335311, 0.9427605821595028, null], \"hoverinfo\": \"none\", \"x\": [0.0, 0.33, null, 0.3003062713421305, 0.2855225877733855, null, 0.3003062713421305, 0.2629725579755741, null]}, {\"mode\": \"lines\", \"line\": {\"color\": \"rgb(0, 0, 0)\", \"width\": 1}, \"y\": [0.5, 0.0, null, 0.04499049796646893, 0.0572394178404972, null, 0.04499049796646893, 0.11170733102471547, null, 1.0, 1.0, null, 1.0, 0.9652590189417244, null, 1.0, 1.0347409810582755, null, 1.0, 1.0, null, 1.0, 0.9652590189417244, null, 1.0, 1.0347409810582755, null, 1.0, 0.0, null, 0.06127490735002531, 0.13359437096827784, null, 0.06127490735002531, 0.09650302407543368, null, 1.0, 0.0, null, 0.06074471277448944, 0.13299554373343975, null, 0.06074471277448944, 0.09511088313140172, null, 0.0, 0.0, null, 0.0, -0.034740981058275576, null, 0.0, 0.034740981058275576, null, 0.0, 0.0, null, 0.0, -0.034740981058275576, null, 0.0, 0.034740981058275576, null], \"hoverinfo\": \"none\", \"x\": [0.0, 0.33, null, 0.3003062713421305, 0.2629725579755741, null, 0.3003062713421305, 0.2855225877733855, null, 0.33, 0.66, null, 0.6221212121212122, 0.5888794484132436, null, 0.6221212121212122, 0.5888794484132436, null, 0.66, 1.0, null, 0.9621212121212122, 0.9288794484132434, null, 0.9621212121212122, 0.9288794484132434, null, 0.66, 0.33, null, 0.35022071942550836, 0.3526100389194443, null, 0.35022071942550836, 0.3833221014449805, null, 1.0, 0.66, null, 0.6806532023433265, 0.6835549327328607, null, 0.6806532023433265, 0.7140012524011855, null, 0.33, 0.66, null, 0.6221212121212122, 0.5888794484132436, null, 0.6221212121212122, 0.5888794484132436, null, 0.66, 1.0, null, 0.9621212121212122, 0.9288794484132434, null, 0.9621212121212122, 0.9288794484132434, null]}, {\"mode\": \"markers+text\", \"x\": [0.33, 0.66, 1.0, 0.33, 0.66, 1.0], \"textposition\": \"middle center\", \"textfont\": {\"color\": \"rgb(0, 0, 0)\"}, \"marker\": {\"color\": \"rgb(255, 255, 255)\", \"line\": {\"color\": \"rgb(0, 0, 0)\", \"width\": 1}, \"size\": 20}, \"y\": [1.0, 1.0, 1.0, 0.0, 0.0, 0.0], \"hoverinfo\": \"none\", \"text\": [\"1\", \"2\", \"3\", \"4\", \"5\", \"6\"]}, {\"mode\": \"markers+text\", \"x\": [0.0], \"textposition\": \"middle center\", \"textfont\": {\"color\": \"rgb(255, 255, 255)\"}, \"marker\": {\"color\": \"rgb(255, 0, 0)\", \"line\": {\"color\": \"rgb(0, 0, 0)\", \"width\": 1}, \"size\": 20}, \"y\": [0.5], \"hoverinfo\": \"none\", \"text\": [\"0\"]}], {\"margin\": {\"r\": 0, \"b\": 0, \"t\": 0, \"l\": 0}, \"showlegend\": false, \"xaxis\": {\"showticklabels\": false, \"showgrid\": false, \"zeroline\": false}, \"yaxis\": {\"showticklabels\": false, \"showgrid\": false, \"zeroline\": false}, \"height\": 180, \"width\": 320}, {\"linkText\": \"Export to plot.ly\", \"displayModeBar\": false, \"showLink\": false})});</script>"
      ],
      "text/vnd.plotly.v1+html": [
       "<div id=\"f5b74676-b9d5-4c2c-a47c-3fc233c9606b\" style=\"height: 180px; width: 320px;\" class=\"plotly-graph-div\"></div><script type=\"text/javascript\">require([\"plotly\"], function(Plotly) { window.PLOTLYENV=window.PLOTLYENV || {};window.PLOTLYENV.BASE_URL=\"https://plot.ly\";Plotly.newPlot(\"f5b74676-b9d5-4c2c-a47c-3fc233c9606b\", [{\"mode\": \"lines\", \"line\": {\"color\": \"rgb(0, 0, 255)\", \"width\": 1}, \"y\": [0.5, 1.0, null, 0.9550095020335311, 0.8882926689752846, null, 0.9550095020335311, 0.9427605821595028, null], \"hoverinfo\": \"none\", \"x\": [0.0, 0.33, null, 0.3003062713421305, 0.2855225877733855, null, 0.3003062713421305, 0.2629725579755741, null]}, {\"mode\": \"lines\", \"line\": {\"color\": \"rgb(0, 0, 0)\", \"width\": 1}, \"y\": [0.5, 0.0, null, 0.04499049796646893, 0.0572394178404972, null, 0.04499049796646893, 0.11170733102471547, null, 1.0, 1.0, null, 1.0, 0.9652590189417244, null, 1.0, 1.0347409810582755, null, 1.0, 1.0, null, 1.0, 0.9652590189417244, null, 1.0, 1.0347409810582755, null, 1.0, 0.0, null, 0.06127490735002531, 0.13359437096827784, null, 0.06127490735002531, 0.09650302407543368, null, 1.0, 0.0, null, 0.06074471277448944, 0.13299554373343975, null, 0.06074471277448944, 0.09511088313140172, null, 0.0, 0.0, null, 0.0, -0.034740981058275576, null, 0.0, 0.034740981058275576, null, 0.0, 0.0, null, 0.0, -0.034740981058275576, null, 0.0, 0.034740981058275576, null], \"hoverinfo\": \"none\", \"x\": [0.0, 0.33, null, 0.3003062713421305, 0.2629725579755741, null, 0.3003062713421305, 0.2855225877733855, null, 0.33, 0.66, null, 0.6221212121212122, 0.5888794484132436, null, 0.6221212121212122, 0.5888794484132436, null, 0.66, 1.0, null, 0.9621212121212122, 0.9288794484132434, null, 0.9621212121212122, 0.9288794484132434, null, 0.66, 0.33, null, 0.35022071942550836, 0.3526100389194443, null, 0.35022071942550836, 0.3833221014449805, null, 1.0, 0.66, null, 0.6806532023433265, 0.6835549327328607, null, 0.6806532023433265, 0.7140012524011855, null, 0.33, 0.66, null, 0.6221212121212122, 0.5888794484132436, null, 0.6221212121212122, 0.5888794484132436, null, 0.66, 1.0, null, 0.9621212121212122, 0.9288794484132434, null, 0.9621212121212122, 0.9288794484132434, null]}, {\"mode\": \"markers+text\", \"x\": [0.33, 0.66, 1.0, 0.33, 0.66, 1.0], \"textposition\": \"middle center\", \"textfont\": {\"color\": \"rgb(0, 0, 0)\"}, \"marker\": {\"color\": \"rgb(255, 255, 255)\", \"line\": {\"color\": \"rgb(0, 0, 0)\", \"width\": 1}, \"size\": 20}, \"y\": [1.0, 1.0, 1.0, 0.0, 0.0, 0.0], \"hoverinfo\": \"none\", \"text\": [\"1\", \"2\", \"3\", \"4\", \"5\", \"6\"]}, {\"mode\": \"markers+text\", \"x\": [0.0], \"textposition\": \"middle center\", \"textfont\": {\"color\": \"rgb(255, 255, 255)\"}, \"marker\": {\"color\": \"rgb(255, 0, 0)\", \"line\": {\"color\": \"rgb(0, 0, 0)\", \"width\": 1}, \"size\": 20}, \"y\": [0.5], \"hoverinfo\": \"none\", \"text\": [\"0\"]}], {\"margin\": {\"r\": 0, \"b\": 0, \"t\": 0, \"l\": 0}, \"showlegend\": false, \"xaxis\": {\"showticklabels\": false, \"showgrid\": false, \"zeroline\": false}, \"yaxis\": {\"showticklabels\": false, \"showgrid\": false, \"zeroline\": false}, \"height\": 180, \"width\": 320}, {\"linkText\": \"Export to plot.ly\", \"displayModeBar\": false, \"showLink\": false})});</script>"
      ]
     },
     "metadata": {},
     "output_type": "display_data"
    }
   ],
   "source": [
    "for n in g.nodes:\n",
    "    g.nodes[n]['label'] = str(n)\n",
    "\n",
    "sn.show_graph(g, nlab=True)"
   ]
  },
  {
   "cell_type": "markdown",
   "metadata": {},
   "source": [
    "Por causa disso, existem também funções de conveniência para reinicializar esse atributo."
   ]
  },
  {
   "cell_type": "code",
   "execution_count": 10,
   "metadata": {},
   "outputs": [
    {
     "data": {
      "application/vnd.plotly.v1+json": {
       "data": [
        {
         "hoverinfo": "none",
         "line": {
          "color": "rgb(0, 0, 0)",
          "width": 1
         },
         "mode": "lines",
         "x": [
          0,
          0.33,
          null,
          0.3003062713421305,
          0.2855225877733855,
          null,
          0.3003062713421305,
          0.2629725579755741,
          null,
          0,
          0.33,
          null,
          0.3003062713421305,
          0.2629725579755741,
          null,
          0.3003062713421305,
          0.2855225877733855,
          null,
          0.33,
          0.66,
          null,
          0.6221212121212122,
          0.5888794484132436,
          null,
          0.6221212121212122,
          0.5888794484132436,
          null,
          0.66,
          1,
          null,
          0.9621212121212122,
          0.9288794484132434,
          null,
          0.9621212121212122,
          0.9288794484132434,
          null,
          0.66,
          0.33,
          null,
          0.35022071942550836,
          0.3526100389194443,
          null,
          0.35022071942550836,
          0.3833221014449805,
          null,
          1,
          0.66,
          null,
          0.6806532023433265,
          0.6835549327328607,
          null,
          0.6806532023433265,
          0.7140012524011855,
          null,
          0.33,
          0.66,
          null,
          0.6221212121212122,
          0.5888794484132436,
          null,
          0.6221212121212122,
          0.5888794484132436,
          null,
          0.66,
          1,
          null,
          0.9621212121212122,
          0.9288794484132434,
          null,
          0.9621212121212122,
          0.9288794484132434,
          null
         ],
         "y": [
          0.5,
          1,
          null,
          0.9550095020335311,
          0.8882926689752846,
          null,
          0.9550095020335311,
          0.9427605821595028,
          null,
          0.5,
          0,
          null,
          0.04499049796646893,
          0.0572394178404972,
          null,
          0.04499049796646893,
          0.11170733102471547,
          null,
          1,
          1,
          null,
          1,
          0.9652590189417244,
          null,
          1,
          1.0347409810582755,
          null,
          1,
          1,
          null,
          1,
          0.9652590189417244,
          null,
          1,
          1.0347409810582755,
          null,
          1,
          0,
          null,
          0.06127490735002531,
          0.13359437096827784,
          null,
          0.06127490735002531,
          0.09650302407543368,
          null,
          1,
          0,
          null,
          0.06074471277448944,
          0.13299554373343975,
          null,
          0.06074471277448944,
          0.09511088313140172,
          null,
          0,
          0,
          null,
          0,
          -0.034740981058275576,
          null,
          0,
          0.034740981058275576,
          null,
          0,
          0,
          null,
          0,
          -0.034740981058275576,
          null,
          0,
          0.034740981058275576,
          null
         ]
        },
        {
         "hoverinfo": "none",
         "marker": {
          "color": "rgb(255, 255, 255)",
          "line": {
           "color": "rgb(0, 0, 0)",
           "width": 1
          },
          "size": 20
         },
         "mode": "markers+text",
         "text": [
          "0",
          "1",
          "2",
          "3",
          "4",
          "5",
          "6"
         ],
         "textfont": {
          "color": "rgb(0, 0, 0)"
         },
         "textposition": "middle center",
         "x": [
          0,
          0.33,
          0.66,
          1,
          0.33,
          0.66,
          1
         ],
         "y": [
          0.5,
          1,
          1,
          1,
          0,
          0,
          0
         ]
        }
       ],
       "layout": {
        "height": 180,
        "margin": {
         "b": 0,
         "l": 0,
         "r": 0,
         "t": 0
        },
        "showlegend": false,
        "width": 320,
        "xaxis": {
         "showgrid": false,
         "showticklabels": false,
         "zeroline": false
        },
        "yaxis": {
         "showgrid": false,
         "showticklabels": false,
         "zeroline": false
        }
       }
      },
      "text/html": [
       "<div id=\"75dffcba-670f-4fd1-8ac4-95c5b98c70d8\" style=\"height: 180px; width: 320px;\" class=\"plotly-graph-div\"></div><script type=\"text/javascript\">require([\"plotly\"], function(Plotly) { window.PLOTLYENV=window.PLOTLYENV || {};window.PLOTLYENV.BASE_URL=\"https://plot.ly\";Plotly.newPlot(\"75dffcba-670f-4fd1-8ac4-95c5b98c70d8\", [{\"mode\": \"lines\", \"line\": {\"color\": \"rgb(0, 0, 0)\", \"width\": 1}, \"y\": [0.5, 1.0, null, 0.9550095020335311, 0.8882926689752846, null, 0.9550095020335311, 0.9427605821595028, null, 0.5, 0.0, null, 0.04499049796646893, 0.0572394178404972, null, 0.04499049796646893, 0.11170733102471547, null, 1.0, 1.0, null, 1.0, 0.9652590189417244, null, 1.0, 1.0347409810582755, null, 1.0, 1.0, null, 1.0, 0.9652590189417244, null, 1.0, 1.0347409810582755, null, 1.0, 0.0, null, 0.06127490735002531, 0.13359437096827784, null, 0.06127490735002531, 0.09650302407543368, null, 1.0, 0.0, null, 0.06074471277448944, 0.13299554373343975, null, 0.06074471277448944, 0.09511088313140172, null, 0.0, 0.0, null, 0.0, -0.034740981058275576, null, 0.0, 0.034740981058275576, null, 0.0, 0.0, null, 0.0, -0.034740981058275576, null, 0.0, 0.034740981058275576, null], \"hoverinfo\": \"none\", \"x\": [0.0, 0.33, null, 0.3003062713421305, 0.2855225877733855, null, 0.3003062713421305, 0.2629725579755741, null, 0.0, 0.33, null, 0.3003062713421305, 0.2629725579755741, null, 0.3003062713421305, 0.2855225877733855, null, 0.33, 0.66, null, 0.6221212121212122, 0.5888794484132436, null, 0.6221212121212122, 0.5888794484132436, null, 0.66, 1.0, null, 0.9621212121212122, 0.9288794484132434, null, 0.9621212121212122, 0.9288794484132434, null, 0.66, 0.33, null, 0.35022071942550836, 0.3526100389194443, null, 0.35022071942550836, 0.3833221014449805, null, 1.0, 0.66, null, 0.6806532023433265, 0.6835549327328607, null, 0.6806532023433265, 0.7140012524011855, null, 0.33, 0.66, null, 0.6221212121212122, 0.5888794484132436, null, 0.6221212121212122, 0.5888794484132436, null, 0.66, 1.0, null, 0.9621212121212122, 0.9288794484132434, null, 0.9621212121212122, 0.9288794484132434, null]}, {\"mode\": \"markers+text\", \"x\": [0.0, 0.33, 0.66, 1.0, 0.33, 0.66, 1.0], \"textposition\": \"middle center\", \"textfont\": {\"color\": \"rgb(0, 0, 0)\"}, \"marker\": {\"color\": \"rgb(255, 255, 255)\", \"line\": {\"color\": \"rgb(0, 0, 0)\", \"width\": 1}, \"size\": 20}, \"y\": [0.5, 1.0, 1.0, 1.0, 0.0, 0.0, 0.0], \"hoverinfo\": \"none\", \"text\": [\"0\", \"1\", \"2\", \"3\", \"4\", \"5\", \"6\"]}], {\"margin\": {\"r\": 0, \"b\": 0, \"t\": 0, \"l\": 0}, \"showlegend\": false, \"xaxis\": {\"showticklabels\": false, \"showgrid\": false, \"zeroline\": false}, \"yaxis\": {\"showticklabels\": false, \"showgrid\": false, \"zeroline\": false}, \"height\": 180, \"width\": 320}, {\"linkText\": \"Export to plot.ly\", \"displayModeBar\": false, \"showLink\": false})});</script>"
      ],
      "text/vnd.plotly.v1+html": [
       "<div id=\"75dffcba-670f-4fd1-8ac4-95c5b98c70d8\" style=\"height: 180px; width: 320px;\" class=\"plotly-graph-div\"></div><script type=\"text/javascript\">require([\"plotly\"], function(Plotly) { window.PLOTLYENV=window.PLOTLYENV || {};window.PLOTLYENV.BASE_URL=\"https://plot.ly\";Plotly.newPlot(\"75dffcba-670f-4fd1-8ac4-95c5b98c70d8\", [{\"mode\": \"lines\", \"line\": {\"color\": \"rgb(0, 0, 0)\", \"width\": 1}, \"y\": [0.5, 1.0, null, 0.9550095020335311, 0.8882926689752846, null, 0.9550095020335311, 0.9427605821595028, null, 0.5, 0.0, null, 0.04499049796646893, 0.0572394178404972, null, 0.04499049796646893, 0.11170733102471547, null, 1.0, 1.0, null, 1.0, 0.9652590189417244, null, 1.0, 1.0347409810582755, null, 1.0, 1.0, null, 1.0, 0.9652590189417244, null, 1.0, 1.0347409810582755, null, 1.0, 0.0, null, 0.06127490735002531, 0.13359437096827784, null, 0.06127490735002531, 0.09650302407543368, null, 1.0, 0.0, null, 0.06074471277448944, 0.13299554373343975, null, 0.06074471277448944, 0.09511088313140172, null, 0.0, 0.0, null, 0.0, -0.034740981058275576, null, 0.0, 0.034740981058275576, null, 0.0, 0.0, null, 0.0, -0.034740981058275576, null, 0.0, 0.034740981058275576, null], \"hoverinfo\": \"none\", \"x\": [0.0, 0.33, null, 0.3003062713421305, 0.2855225877733855, null, 0.3003062713421305, 0.2629725579755741, null, 0.0, 0.33, null, 0.3003062713421305, 0.2629725579755741, null, 0.3003062713421305, 0.2855225877733855, null, 0.33, 0.66, null, 0.6221212121212122, 0.5888794484132436, null, 0.6221212121212122, 0.5888794484132436, null, 0.66, 1.0, null, 0.9621212121212122, 0.9288794484132434, null, 0.9621212121212122, 0.9288794484132434, null, 0.66, 0.33, null, 0.35022071942550836, 0.3526100389194443, null, 0.35022071942550836, 0.3833221014449805, null, 1.0, 0.66, null, 0.6806532023433265, 0.6835549327328607, null, 0.6806532023433265, 0.7140012524011855, null, 0.33, 0.66, null, 0.6221212121212122, 0.5888794484132436, null, 0.6221212121212122, 0.5888794484132436, null, 0.66, 1.0, null, 0.9621212121212122, 0.9288794484132434, null, 0.9621212121212122, 0.9288794484132434, null]}, {\"mode\": \"markers+text\", \"x\": [0.0, 0.33, 0.66, 1.0, 0.33, 0.66, 1.0], \"textposition\": \"middle center\", \"textfont\": {\"color\": \"rgb(0, 0, 0)\"}, \"marker\": {\"color\": \"rgb(255, 255, 255)\", \"line\": {\"color\": \"rgb(0, 0, 0)\", \"width\": 1}, \"size\": 20}, \"y\": [0.5, 1.0, 1.0, 1.0, 0.0, 0.0, 0.0], \"hoverinfo\": \"none\", \"text\": [\"0\", \"1\", \"2\", \"3\", \"4\", \"5\", \"6\"]}], {\"margin\": {\"r\": 0, \"b\": 0, \"t\": 0, \"l\": 0}, \"showlegend\": false, \"xaxis\": {\"showticklabels\": false, \"showgrid\": false, \"zeroline\": false}, \"yaxis\": {\"showticklabels\": false, \"showgrid\": false, \"zeroline\": false}, \"height\": 180, \"width\": 320}, {\"linkText\": \"Export to plot.ly\", \"displayModeBar\": false, \"showLink\": false})});</script>"
      ]
     },
     "metadata": {},
     "output_type": "display_data"
    }
   ],
   "source": [
    "sn.reset_node_colors(g)\n",
    "sn.reset_edge_colors(g)\n",
    "\n",
    "sn.show_graph(g, nlab=True)"
   ]
  },
  {
   "cell_type": "markdown",
   "metadata": {},
   "source": [
    "Dado um nó $n$, dizemos que outro nó $m$ é seu **sucessor** se existe uma aresta de $n$ a $m$."
   ]
  },
  {
   "cell_type": "code",
   "execution_count": 11,
   "metadata": {},
   "outputs": [
    {
     "name": "stdout",
     "output_type": "stream",
     "text": [
      "sucessores de 0: 1, 4\n",
      "sucessores de 1: 2\n",
      "sucessores de 2: 3, 4\n",
      "sucessores de 3: 5\n",
      "sucessores de 4: 5\n",
      "sucessores de 5: 6\n",
      "sucessores de 6: \n"
     ]
    }
   ],
   "source": [
    "for n in g.nodes:\n",
    "    print('sucessores de {}:'.format(n), ', '.join([str(m) for m in g.successors(n)]))"
   ]
  },
  {
   "cell_type": "markdown",
   "metadata": {},
   "source": [
    "Dado um nó $n$, dizemos que outro nó $m$ é seu **predecessor** se existe uma aresta de $m$ a $n$."
   ]
  },
  {
   "cell_type": "code",
   "execution_count": 12,
   "metadata": {},
   "outputs": [
    {
     "name": "stdout",
     "output_type": "stream",
     "text": [
      "predecessores de 0: \n",
      "predecessores de 1: 0\n",
      "predecessores de 2: 1\n",
      "predecessores de 3: 2\n",
      "predecessores de 4: 0, 2\n",
      "predecessores de 5: 3, 4\n",
      "predecessores de 6: 5\n"
     ]
    }
   ],
   "source": [
    "for n in g.nodes:\n",
    "    print('predecessores de {}:'.format(n), ', '.join([str(m) for m in g.predecessors(n)]))"
   ]
  },
  {
   "cell_type": "markdown",
   "metadata": {},
   "source": [
    "## Visualizando um algoritmo\n",
    "\n",
    "A função `generate_frame` é parecida com a função `show_graph` mas, em vez de mostrar uma imagem estática, gera um *quadro* que pode ser usado para montar uma *animação*: basta usar a função `show_animation` para animar uma lista de quadros."
   ]
  },
  {
   "cell_type": "code",
   "execution_count": 13,
   "metadata": {},
   "outputs": [
    {
     "data": {
      "application/vnd.plotly.v1+json": {
       "data": [
        {
         "hoverinfo": "none",
         "line": {
          "color": "rgb(0, 0, 0)",
          "width": 1
         },
         "mode": "lines",
         "x": [
          0,
          0.33,
          null,
          0.3003062713421305,
          0.2855225877733855,
          null,
          0.3003062713421305,
          0.2629725579755741,
          null
         ],
         "y": [
          0.5,
          1,
          null,
          0.9550095020335311,
          0.8882926689752846,
          null,
          0.9550095020335311,
          0.9427605821595028,
          null
         ]
        },
        {
         "hoverinfo": "none",
         "line": {
          "color": "rgb(0, 0, 0)",
          "width": 1
         },
         "mode": "lines",
         "x": [
          0,
          0.33,
          null,
          0.3003062713421305,
          0.2629725579755741,
          null,
          0.3003062713421305,
          0.2855225877733855,
          null
         ],
         "y": [
          0.5,
          0,
          null,
          0.04499049796646893,
          0.0572394178404972,
          null,
          0.04499049796646893,
          0.11170733102471547,
          null
         ]
        },
        {
         "hoverinfo": "none",
         "line": {
          "color": "rgb(0, 0, 0)",
          "width": 1
         },
         "mode": "lines",
         "x": [
          0.33,
          0.66,
          null,
          0.6221212121212122,
          0.5888794484132436,
          null,
          0.6221212121212122,
          0.5888794484132436,
          null
         ],
         "y": [
          1,
          1,
          null,
          1,
          0.9652590189417244,
          null,
          1,
          1.0347409810582755,
          null
         ]
        },
        {
         "hoverinfo": "none",
         "line": {
          "color": "rgb(0, 0, 0)",
          "width": 1
         },
         "mode": "lines",
         "x": [
          0.66,
          1,
          null,
          0.9621212121212122,
          0.9288794484132434,
          null,
          0.9621212121212122,
          0.9288794484132434,
          null
         ],
         "y": [
          1,
          1,
          null,
          1,
          0.9652590189417244,
          null,
          1,
          1.0347409810582755,
          null
         ]
        },
        {
         "hoverinfo": "none",
         "line": {
          "color": "rgb(0, 0, 0)",
          "width": 1
         },
         "mode": "lines",
         "x": [
          0.66,
          0.33,
          null,
          0.35022071942550836,
          0.3526100389194443,
          null,
          0.35022071942550836,
          0.3833221014449805,
          null
         ],
         "y": [
          1,
          0,
          null,
          0.06127490735002531,
          0.13359437096827784,
          null,
          0.06127490735002531,
          0.09650302407543368,
          null
         ]
        },
        {
         "hoverinfo": "none",
         "line": {
          "color": "rgb(0, 0, 0)",
          "width": 1
         },
         "mode": "lines",
         "x": [
          1,
          0.66,
          null,
          0.6806532023433265,
          0.6835549327328607,
          null,
          0.6806532023433265,
          0.7140012524011855,
          null
         ],
         "y": [
          1,
          0,
          null,
          0.06074471277448944,
          0.13299554373343975,
          null,
          0.06074471277448944,
          0.09511088313140172,
          null
         ]
        },
        {
         "hoverinfo": "none",
         "line": {
          "color": "rgb(0, 0, 0)",
          "width": 1
         },
         "mode": "lines",
         "x": [
          0.33,
          0.66,
          null,
          0.6221212121212122,
          0.5888794484132436,
          null,
          0.6221212121212122,
          0.5888794484132436,
          null
         ],
         "y": [
          0,
          0,
          null,
          0,
          -0.034740981058275576,
          null,
          0,
          0.034740981058275576,
          null
         ]
        },
        {
         "hoverinfo": "none",
         "line": {
          "color": "rgb(0, 0, 0)",
          "width": 1
         },
         "mode": "lines",
         "x": [
          0.66,
          1,
          null,
          0.9621212121212122,
          0.9288794484132434,
          null,
          0.9621212121212122,
          0.9288794484132434,
          null
         ],
         "y": [
          0,
          0,
          null,
          0,
          -0.034740981058275576,
          null,
          0,
          0.034740981058275576,
          null
         ]
        },
        {
         "hoverinfo": "none",
         "marker": {
          "color": "rgb(0, 255, 0)",
          "line": {
           "color": "rgb(0, 0, 0)",
           "width": 1
          },
          "size": 20
         },
         "mode": "markers+text",
         "text": [
          "0"
         ],
         "textfont": {
          "color": "rgb(0, 0, 0)"
         },
         "textposition": "middle center",
         "x": [
          0
         ],
         "y": [
          0.5
         ]
        },
        {
         "hoverinfo": "none",
         "marker": {
          "color": "rgb(255, 255, 255)",
          "line": {
           "color": "rgb(0, 0, 0)",
           "width": 1
          },
          "size": 20
         },
         "mode": "markers+text",
         "text": [
          "1"
         ],
         "textfont": {
          "color": "rgb(0, 0, 0)"
         },
         "textposition": "middle center",
         "x": [
          0.33
         ],
         "y": [
          1
         ]
        },
        {
         "hoverinfo": "none",
         "marker": {
          "color": "rgb(255, 255, 255)",
          "line": {
           "color": "rgb(0, 0, 0)",
           "width": 1
          },
          "size": 20
         },
         "mode": "markers+text",
         "text": [
          "2"
         ],
         "textfont": {
          "color": "rgb(0, 0, 0)"
         },
         "textposition": "middle center",
         "x": [
          0.66
         ],
         "y": [
          1
         ]
        },
        {
         "hoverinfo": "none",
         "marker": {
          "color": "rgb(255, 255, 255)",
          "line": {
           "color": "rgb(0, 0, 0)",
           "width": 1
          },
          "size": 20
         },
         "mode": "markers+text",
         "text": [
          "3"
         ],
         "textfont": {
          "color": "rgb(0, 0, 0)"
         },
         "textposition": "middle center",
         "x": [
          1
         ],
         "y": [
          1
         ]
        },
        {
         "hoverinfo": "none",
         "marker": {
          "color": "rgb(255, 255, 255)",
          "line": {
           "color": "rgb(0, 0, 0)",
           "width": 1
          },
          "size": 20
         },
         "mode": "markers+text",
         "text": [
          "4"
         ],
         "textfont": {
          "color": "rgb(0, 0, 0)"
         },
         "textposition": "middle center",
         "x": [
          0.33
         ],
         "y": [
          0
         ]
        },
        {
         "hoverinfo": "none",
         "marker": {
          "color": "rgb(255, 255, 255)",
          "line": {
           "color": "rgb(0, 0, 0)",
           "width": 1
          },
          "size": 20
         },
         "mode": "markers+text",
         "text": [
          "5"
         ],
         "textfont": {
          "color": "rgb(0, 0, 0)"
         },
         "textposition": "middle center",
         "x": [
          0.66
         ],
         "y": [
          0
         ]
        },
        {
         "hoverinfo": "none",
         "marker": {
          "color": "rgb(255, 255, 255)",
          "line": {
           "color": "rgb(0, 0, 0)",
           "width": 1
          },
          "size": 20
         },
         "mode": "markers+text",
         "text": [
          "6"
         ],
         "textfont": {
          "color": "rgb(0, 0, 0)"
         },
         "textposition": "middle center",
         "x": [
          1
         ],
         "y": [
          0
         ]
        }
       ],
       "frames": [
        {
         "data": [
          {
           "hoverinfo": "none",
           "line": {
            "color": "rgb(0, 0, 0)",
            "width": 1
           },
           "mode": "lines",
           "x": [
            0,
            0.33,
            null,
            0.3003062713421305,
            0.2855225877733855,
            null,
            0.3003062713421305,
            0.2629725579755741,
            null
           ],
           "y": [
            0.5,
            1,
            null,
            0.9550095020335311,
            0.8882926689752846,
            null,
            0.9550095020335311,
            0.9427605821595028,
            null
           ]
          },
          {
           "hoverinfo": "none",
           "line": {
            "color": "rgb(0, 0, 0)",
            "width": 1
           },
           "mode": "lines",
           "x": [
            0,
            0.33,
            null,
            0.3003062713421305,
            0.2629725579755741,
            null,
            0.3003062713421305,
            0.2855225877733855,
            null
           ],
           "y": [
            0.5,
            0,
            null,
            0.04499049796646893,
            0.0572394178404972,
            null,
            0.04499049796646893,
            0.11170733102471547,
            null
           ]
          },
          {
           "hoverinfo": "none",
           "line": {
            "color": "rgb(0, 0, 0)",
            "width": 1
           },
           "mode": "lines",
           "x": [
            0.33,
            0.66,
            null,
            0.6221212121212122,
            0.5888794484132436,
            null,
            0.6221212121212122,
            0.5888794484132436,
            null
           ],
           "y": [
            1,
            1,
            null,
            1,
            0.9652590189417244,
            null,
            1,
            1.0347409810582755,
            null
           ]
          },
          {
           "hoverinfo": "none",
           "line": {
            "color": "rgb(0, 0, 0)",
            "width": 1
           },
           "mode": "lines",
           "x": [
            0.66,
            1,
            null,
            0.9621212121212122,
            0.9288794484132434,
            null,
            0.9621212121212122,
            0.9288794484132434,
            null
           ],
           "y": [
            1,
            1,
            null,
            1,
            0.9652590189417244,
            null,
            1,
            1.0347409810582755,
            null
           ]
          },
          {
           "hoverinfo": "none",
           "line": {
            "color": "rgb(0, 0, 0)",
            "width": 1
           },
           "mode": "lines",
           "x": [
            0.66,
            0.33,
            null,
            0.35022071942550836,
            0.3526100389194443,
            null,
            0.35022071942550836,
            0.3833221014449805,
            null
           ],
           "y": [
            1,
            0,
            null,
            0.06127490735002531,
            0.13359437096827784,
            null,
            0.06127490735002531,
            0.09650302407543368,
            null
           ]
          },
          {
           "hoverinfo": "none",
           "line": {
            "color": "rgb(0, 0, 0)",
            "width": 1
           },
           "mode": "lines",
           "x": [
            1,
            0.66,
            null,
            0.6806532023433265,
            0.6835549327328607,
            null,
            0.6806532023433265,
            0.7140012524011855,
            null
           ],
           "y": [
            1,
            0,
            null,
            0.06074471277448944,
            0.13299554373343975,
            null,
            0.06074471277448944,
            0.09511088313140172,
            null
           ]
          },
          {
           "hoverinfo": "none",
           "line": {
            "color": "rgb(0, 0, 0)",
            "width": 1
           },
           "mode": "lines",
           "x": [
            0.33,
            0.66,
            null,
            0.6221212121212122,
            0.5888794484132436,
            null,
            0.6221212121212122,
            0.5888794484132436,
            null
           ],
           "y": [
            0,
            0,
            null,
            0,
            -0.034740981058275576,
            null,
            0,
            0.034740981058275576,
            null
           ]
          },
          {
           "hoverinfo": "none",
           "line": {
            "color": "rgb(0, 0, 0)",
            "width": 1
           },
           "mode": "lines",
           "x": [
            0.66,
            1,
            null,
            0.9621212121212122,
            0.9288794484132434,
            null,
            0.9621212121212122,
            0.9288794484132434,
            null
           ],
           "y": [
            0,
            0,
            null,
            0,
            -0.034740981058275576,
            null,
            0,
            0.034740981058275576,
            null
           ]
          },
          {
           "hoverinfo": "none",
           "marker": {
            "color": "rgb(0, 255, 0)",
            "line": {
             "color": "rgb(0, 0, 0)",
             "width": 1
            },
            "size": 20
           },
           "mode": "markers+text",
           "text": [
            "0"
           ],
           "textfont": {
            "color": "rgb(0, 0, 0)"
           },
           "textposition": "middle center",
           "x": [
            0
           ],
           "y": [
            0.5
           ]
          },
          {
           "hoverinfo": "none",
           "marker": {
            "color": "rgb(255, 255, 255)",
            "line": {
             "color": "rgb(0, 0, 0)",
             "width": 1
            },
            "size": 20
           },
           "mode": "markers+text",
           "text": [
            "1"
           ],
           "textfont": {
            "color": "rgb(0, 0, 0)"
           },
           "textposition": "middle center",
           "x": [
            0.33
           ],
           "y": [
            1
           ]
          },
          {
           "hoverinfo": "none",
           "marker": {
            "color": "rgb(255, 255, 255)",
            "line": {
             "color": "rgb(0, 0, 0)",
             "width": 1
            },
            "size": 20
           },
           "mode": "markers+text",
           "text": [
            "2"
           ],
           "textfont": {
            "color": "rgb(0, 0, 0)"
           },
           "textposition": "middle center",
           "x": [
            0.66
           ],
           "y": [
            1
           ]
          },
          {
           "hoverinfo": "none",
           "marker": {
            "color": "rgb(255, 255, 255)",
            "line": {
             "color": "rgb(0, 0, 0)",
             "width": 1
            },
            "size": 20
           },
           "mode": "markers+text",
           "text": [
            "3"
           ],
           "textfont": {
            "color": "rgb(0, 0, 0)"
           },
           "textposition": "middle center",
           "x": [
            1
           ],
           "y": [
            1
           ]
          },
          {
           "hoverinfo": "none",
           "marker": {
            "color": "rgb(255, 255, 255)",
            "line": {
             "color": "rgb(0, 0, 0)",
             "width": 1
            },
            "size": 20
           },
           "mode": "markers+text",
           "text": [
            "4"
           ],
           "textfont": {
            "color": "rgb(0, 0, 0)"
           },
           "textposition": "middle center",
           "x": [
            0.33
           ],
           "y": [
            0
           ]
          },
          {
           "hoverinfo": "none",
           "marker": {
            "color": "rgb(255, 255, 255)",
            "line": {
             "color": "rgb(0, 0, 0)",
             "width": 1
            },
            "size": 20
           },
           "mode": "markers+text",
           "text": [
            "5"
           ],
           "textfont": {
            "color": "rgb(0, 0, 0)"
           },
           "textposition": "middle center",
           "x": [
            0.66
           ],
           "y": [
            0
           ]
          },
          {
           "hoverinfo": "none",
           "marker": {
            "color": "rgb(255, 255, 255)",
            "line": {
             "color": "rgb(0, 0, 0)",
             "width": 1
            },
            "size": 20
           },
           "mode": "markers+text",
           "text": [
            "6"
           ],
           "textfont": {
            "color": "rgb(0, 0, 0)"
           },
           "textposition": "middle center",
           "x": [
            1
           ],
           "y": [
            0
           ]
          }
         ],
         "name": 0
        },
        {
         "data": [
          {
           "hoverinfo": "none",
           "line": {
            "color": "rgb(0, 0, 0)",
            "width": 1
           },
           "mode": "lines",
           "x": [
            0,
            0.33,
            null,
            0.3003062713421305,
            0.2855225877733855,
            null,
            0.3003062713421305,
            0.2629725579755741,
            null
           ],
           "y": [
            0.5,
            1,
            null,
            0.9550095020335311,
            0.8882926689752846,
            null,
            0.9550095020335311,
            0.9427605821595028,
            null
           ]
          },
          {
           "hoverinfo": "none",
           "line": {
            "color": "rgb(0, 0, 0)",
            "width": 1
           },
           "mode": "lines",
           "x": [
            0,
            0.33,
            null,
            0.3003062713421305,
            0.2629725579755741,
            null,
            0.3003062713421305,
            0.2855225877733855,
            null
           ],
           "y": [
            0.5,
            0,
            null,
            0.04499049796646893,
            0.0572394178404972,
            null,
            0.04499049796646893,
            0.11170733102471547,
            null
           ]
          },
          {
           "hoverinfo": "none",
           "line": {
            "color": "rgb(0, 0, 0)",
            "width": 1
           },
           "mode": "lines",
           "x": [
            0.33,
            0.66,
            null,
            0.6221212121212122,
            0.5888794484132436,
            null,
            0.6221212121212122,
            0.5888794484132436,
            null
           ],
           "y": [
            1,
            1,
            null,
            1,
            0.9652590189417244,
            null,
            1,
            1.0347409810582755,
            null
           ]
          },
          {
           "hoverinfo": "none",
           "line": {
            "color": "rgb(0, 0, 0)",
            "width": 1
           },
           "mode": "lines",
           "x": [
            0.66,
            1,
            null,
            0.9621212121212122,
            0.9288794484132434,
            null,
            0.9621212121212122,
            0.9288794484132434,
            null
           ],
           "y": [
            1,
            1,
            null,
            1,
            0.9652590189417244,
            null,
            1,
            1.0347409810582755,
            null
           ]
          },
          {
           "hoverinfo": "none",
           "line": {
            "color": "rgb(0, 0, 0)",
            "width": 1
           },
           "mode": "lines",
           "x": [
            0.66,
            0.33,
            null,
            0.35022071942550836,
            0.3526100389194443,
            null,
            0.35022071942550836,
            0.3833221014449805,
            null
           ],
           "y": [
            1,
            0,
            null,
            0.06127490735002531,
            0.13359437096827784,
            null,
            0.06127490735002531,
            0.09650302407543368,
            null
           ]
          },
          {
           "hoverinfo": "none",
           "line": {
            "color": "rgb(0, 0, 0)",
            "width": 1
           },
           "mode": "lines",
           "x": [
            1,
            0.66,
            null,
            0.6806532023433265,
            0.6835549327328607,
            null,
            0.6806532023433265,
            0.7140012524011855,
            null
           ],
           "y": [
            1,
            0,
            null,
            0.06074471277448944,
            0.13299554373343975,
            null,
            0.06074471277448944,
            0.09511088313140172,
            null
           ]
          },
          {
           "hoverinfo": "none",
           "line": {
            "color": "rgb(0, 0, 0)",
            "width": 1
           },
           "mode": "lines",
           "x": [
            0.33,
            0.66,
            null,
            0.6221212121212122,
            0.5888794484132436,
            null,
            0.6221212121212122,
            0.5888794484132436,
            null
           ],
           "y": [
            0,
            0,
            null,
            0,
            -0.034740981058275576,
            null,
            0,
            0.034740981058275576,
            null
           ]
          },
          {
           "hoverinfo": "none",
           "line": {
            "color": "rgb(0, 0, 0)",
            "width": 1
           },
           "mode": "lines",
           "x": [
            0.66,
            1,
            null,
            0.9621212121212122,
            0.9288794484132434,
            null,
            0.9621212121212122,
            0.9288794484132434,
            null
           ],
           "y": [
            0,
            0,
            null,
            0,
            -0.034740981058275576,
            null,
            0,
            0.034740981058275576,
            null
           ]
          },
          {
           "hoverinfo": "none",
           "marker": {
            "color": "rgb(0, 255, 0)",
            "line": {
             "color": "rgb(0, 0, 0)",
             "width": 1
            },
            "size": 20
           },
           "mode": "markers+text",
           "text": [
            "0"
           ],
           "textfont": {
            "color": "rgb(0, 0, 0)"
           },
           "textposition": "middle center",
           "x": [
            0
           ],
           "y": [
            0.5
           ]
          },
          {
           "hoverinfo": "none",
           "marker": {
            "color": "rgb(0, 255, 0)",
            "line": {
             "color": "rgb(0, 0, 0)",
             "width": 1
            },
            "size": 20
           },
           "mode": "markers+text",
           "text": [
            "1"
           ],
           "textfont": {
            "color": "rgb(0, 0, 0)"
           },
           "textposition": "middle center",
           "x": [
            0.33
           ],
           "y": [
            1
           ]
          },
          {
           "hoverinfo": "none",
           "marker": {
            "color": "rgb(255, 255, 255)",
            "line": {
             "color": "rgb(0, 0, 0)",
             "width": 1
            },
            "size": 20
           },
           "mode": "markers+text",
           "text": [
            "2"
           ],
           "textfont": {
            "color": "rgb(0, 0, 0)"
           },
           "textposition": "middle center",
           "x": [
            0.66
           ],
           "y": [
            1
           ]
          },
          {
           "hoverinfo": "none",
           "marker": {
            "color": "rgb(255, 255, 255)",
            "line": {
             "color": "rgb(0, 0, 0)",
             "width": 1
            },
            "size": 20
           },
           "mode": "markers+text",
           "text": [
            "3"
           ],
           "textfont": {
            "color": "rgb(0, 0, 0)"
           },
           "textposition": "middle center",
           "x": [
            1
           ],
           "y": [
            1
           ]
          },
          {
           "hoverinfo": "none",
           "marker": {
            "color": "rgb(255, 255, 255)",
            "line": {
             "color": "rgb(0, 0, 0)",
             "width": 1
            },
            "size": 20
           },
           "mode": "markers+text",
           "text": [
            "4"
           ],
           "textfont": {
            "color": "rgb(0, 0, 0)"
           },
           "textposition": "middle center",
           "x": [
            0.33
           ],
           "y": [
            0
           ]
          },
          {
           "hoverinfo": "none",
           "marker": {
            "color": "rgb(255, 255, 255)",
            "line": {
             "color": "rgb(0, 0, 0)",
             "width": 1
            },
            "size": 20
           },
           "mode": "markers+text",
           "text": [
            "5"
           ],
           "textfont": {
            "color": "rgb(0, 0, 0)"
           },
           "textposition": "middle center",
           "x": [
            0.66
           ],
           "y": [
            0
           ]
          },
          {
           "hoverinfo": "none",
           "marker": {
            "color": "rgb(255, 255, 255)",
            "line": {
             "color": "rgb(0, 0, 0)",
             "width": 1
            },
            "size": 20
           },
           "mode": "markers+text",
           "text": [
            "6"
           ],
           "textfont": {
            "color": "rgb(0, 0, 0)"
           },
           "textposition": "middle center",
           "x": [
            1
           ],
           "y": [
            0
           ]
          }
         ],
         "name": 1
        },
        {
         "data": [
          {
           "hoverinfo": "none",
           "line": {
            "color": "rgb(0, 0, 0)",
            "width": 1
           },
           "mode": "lines",
           "x": [
            0,
            0.33,
            null,
            0.3003062713421305,
            0.2855225877733855,
            null,
            0.3003062713421305,
            0.2629725579755741,
            null
           ],
           "y": [
            0.5,
            1,
            null,
            0.9550095020335311,
            0.8882926689752846,
            null,
            0.9550095020335311,
            0.9427605821595028,
            null
           ]
          },
          {
           "hoverinfo": "none",
           "line": {
            "color": "rgb(0, 0, 0)",
            "width": 1
           },
           "mode": "lines",
           "x": [
            0,
            0.33,
            null,
            0.3003062713421305,
            0.2629725579755741,
            null,
            0.3003062713421305,
            0.2855225877733855,
            null
           ],
           "y": [
            0.5,
            0,
            null,
            0.04499049796646893,
            0.0572394178404972,
            null,
            0.04499049796646893,
            0.11170733102471547,
            null
           ]
          },
          {
           "hoverinfo": "none",
           "line": {
            "color": "rgb(0, 0, 0)",
            "width": 1
           },
           "mode": "lines",
           "x": [
            0.33,
            0.66,
            null,
            0.6221212121212122,
            0.5888794484132436,
            null,
            0.6221212121212122,
            0.5888794484132436,
            null
           ],
           "y": [
            1,
            1,
            null,
            1,
            0.9652590189417244,
            null,
            1,
            1.0347409810582755,
            null
           ]
          },
          {
           "hoverinfo": "none",
           "line": {
            "color": "rgb(0, 0, 0)",
            "width": 1
           },
           "mode": "lines",
           "x": [
            0.66,
            1,
            null,
            0.9621212121212122,
            0.9288794484132434,
            null,
            0.9621212121212122,
            0.9288794484132434,
            null
           ],
           "y": [
            1,
            1,
            null,
            1,
            0.9652590189417244,
            null,
            1,
            1.0347409810582755,
            null
           ]
          },
          {
           "hoverinfo": "none",
           "line": {
            "color": "rgb(0, 0, 0)",
            "width": 1
           },
           "mode": "lines",
           "x": [
            0.66,
            0.33,
            null,
            0.35022071942550836,
            0.3526100389194443,
            null,
            0.35022071942550836,
            0.3833221014449805,
            null
           ],
           "y": [
            1,
            0,
            null,
            0.06127490735002531,
            0.13359437096827784,
            null,
            0.06127490735002531,
            0.09650302407543368,
            null
           ]
          },
          {
           "hoverinfo": "none",
           "line": {
            "color": "rgb(0, 0, 0)",
            "width": 1
           },
           "mode": "lines",
           "x": [
            1,
            0.66,
            null,
            0.6806532023433265,
            0.6835549327328607,
            null,
            0.6806532023433265,
            0.7140012524011855,
            null
           ],
           "y": [
            1,
            0,
            null,
            0.06074471277448944,
            0.13299554373343975,
            null,
            0.06074471277448944,
            0.09511088313140172,
            null
           ]
          },
          {
           "hoverinfo": "none",
           "line": {
            "color": "rgb(0, 0, 0)",
            "width": 1
           },
           "mode": "lines",
           "x": [
            0.33,
            0.66,
            null,
            0.6221212121212122,
            0.5888794484132436,
            null,
            0.6221212121212122,
            0.5888794484132436,
            null
           ],
           "y": [
            0,
            0,
            null,
            0,
            -0.034740981058275576,
            null,
            0,
            0.034740981058275576,
            null
           ]
          },
          {
           "hoverinfo": "none",
           "line": {
            "color": "rgb(0, 0, 0)",
            "width": 1
           },
           "mode": "lines",
           "x": [
            0.66,
            1,
            null,
            0.9621212121212122,
            0.9288794484132434,
            null,
            0.9621212121212122,
            0.9288794484132434,
            null
           ],
           "y": [
            0,
            0,
            null,
            0,
            -0.034740981058275576,
            null,
            0,
            0.034740981058275576,
            null
           ]
          },
          {
           "hoverinfo": "none",
           "marker": {
            "color": "rgb(0, 255, 0)",
            "line": {
             "color": "rgb(0, 0, 0)",
             "width": 1
            },
            "size": 20
           },
           "mode": "markers+text",
           "text": [
            "0"
           ],
           "textfont": {
            "color": "rgb(0, 0, 0)"
           },
           "textposition": "middle center",
           "x": [
            0
           ],
           "y": [
            0.5
           ]
          },
          {
           "hoverinfo": "none",
           "marker": {
            "color": "rgb(0, 255, 0)",
            "line": {
             "color": "rgb(0, 0, 0)",
             "width": 1
            },
            "size": 20
           },
           "mode": "markers+text",
           "text": [
            "1"
           ],
           "textfont": {
            "color": "rgb(0, 0, 0)"
           },
           "textposition": "middle center",
           "x": [
            0.33
           ],
           "y": [
            1
           ]
          },
          {
           "hoverinfo": "none",
           "marker": {
            "color": "rgb(0, 255, 0)",
            "line": {
             "color": "rgb(0, 0, 0)",
             "width": 1
            },
            "size": 20
           },
           "mode": "markers+text",
           "text": [
            "2"
           ],
           "textfont": {
            "color": "rgb(0, 0, 0)"
           },
           "textposition": "middle center",
           "x": [
            0.66
           ],
           "y": [
            1
           ]
          },
          {
           "hoverinfo": "none",
           "marker": {
            "color": "rgb(255, 255, 255)",
            "line": {
             "color": "rgb(0, 0, 0)",
             "width": 1
            },
            "size": 20
           },
           "mode": "markers+text",
           "text": [
            "3"
           ],
           "textfont": {
            "color": "rgb(0, 0, 0)"
           },
           "textposition": "middle center",
           "x": [
            1
           ],
           "y": [
            1
           ]
          },
          {
           "hoverinfo": "none",
           "marker": {
            "color": "rgb(255, 255, 255)",
            "line": {
             "color": "rgb(0, 0, 0)",
             "width": 1
            },
            "size": 20
           },
           "mode": "markers+text",
           "text": [
            "4"
           ],
           "textfont": {
            "color": "rgb(0, 0, 0)"
           },
           "textposition": "middle center",
           "x": [
            0.33
           ],
           "y": [
            0
           ]
          },
          {
           "hoverinfo": "none",
           "marker": {
            "color": "rgb(255, 255, 255)",
            "line": {
             "color": "rgb(0, 0, 0)",
             "width": 1
            },
            "size": 20
           },
           "mode": "markers+text",
           "text": [
            "5"
           ],
           "textfont": {
            "color": "rgb(0, 0, 0)"
           },
           "textposition": "middle center",
           "x": [
            0.66
           ],
           "y": [
            0
           ]
          },
          {
           "hoverinfo": "none",
           "marker": {
            "color": "rgb(255, 255, 255)",
            "line": {
             "color": "rgb(0, 0, 0)",
             "width": 1
            },
            "size": 20
           },
           "mode": "markers+text",
           "text": [
            "6"
           ],
           "textfont": {
            "color": "rgb(0, 0, 0)"
           },
           "textposition": "middle center",
           "x": [
            1
           ],
           "y": [
            0
           ]
          }
         ],
         "name": 2
        },
        {
         "data": [
          {
           "hoverinfo": "none",
           "line": {
            "color": "rgb(0, 0, 0)",
            "width": 1
           },
           "mode": "lines",
           "x": [
            0,
            0.33,
            null,
            0.3003062713421305,
            0.2855225877733855,
            null,
            0.3003062713421305,
            0.2629725579755741,
            null
           ],
           "y": [
            0.5,
            1,
            null,
            0.9550095020335311,
            0.8882926689752846,
            null,
            0.9550095020335311,
            0.9427605821595028,
            null
           ]
          },
          {
           "hoverinfo": "none",
           "line": {
            "color": "rgb(0, 0, 0)",
            "width": 1
           },
           "mode": "lines",
           "x": [
            0,
            0.33,
            null,
            0.3003062713421305,
            0.2629725579755741,
            null,
            0.3003062713421305,
            0.2855225877733855,
            null
           ],
           "y": [
            0.5,
            0,
            null,
            0.04499049796646893,
            0.0572394178404972,
            null,
            0.04499049796646893,
            0.11170733102471547,
            null
           ]
          },
          {
           "hoverinfo": "none",
           "line": {
            "color": "rgb(0, 0, 0)",
            "width": 1
           },
           "mode": "lines",
           "x": [
            0.33,
            0.66,
            null,
            0.6221212121212122,
            0.5888794484132436,
            null,
            0.6221212121212122,
            0.5888794484132436,
            null
           ],
           "y": [
            1,
            1,
            null,
            1,
            0.9652590189417244,
            null,
            1,
            1.0347409810582755,
            null
           ]
          },
          {
           "hoverinfo": "none",
           "line": {
            "color": "rgb(0, 0, 0)",
            "width": 1
           },
           "mode": "lines",
           "x": [
            0.66,
            1,
            null,
            0.9621212121212122,
            0.9288794484132434,
            null,
            0.9621212121212122,
            0.9288794484132434,
            null
           ],
           "y": [
            1,
            1,
            null,
            1,
            0.9652590189417244,
            null,
            1,
            1.0347409810582755,
            null
           ]
          },
          {
           "hoverinfo": "none",
           "line": {
            "color": "rgb(0, 0, 0)",
            "width": 1
           },
           "mode": "lines",
           "x": [
            0.66,
            0.33,
            null,
            0.35022071942550836,
            0.3526100389194443,
            null,
            0.35022071942550836,
            0.3833221014449805,
            null
           ],
           "y": [
            1,
            0,
            null,
            0.06127490735002531,
            0.13359437096827784,
            null,
            0.06127490735002531,
            0.09650302407543368,
            null
           ]
          },
          {
           "hoverinfo": "none",
           "line": {
            "color": "rgb(0, 0, 0)",
            "width": 1
           },
           "mode": "lines",
           "x": [
            1,
            0.66,
            null,
            0.6806532023433265,
            0.6835549327328607,
            null,
            0.6806532023433265,
            0.7140012524011855,
            null
           ],
           "y": [
            1,
            0,
            null,
            0.06074471277448944,
            0.13299554373343975,
            null,
            0.06074471277448944,
            0.09511088313140172,
            null
           ]
          },
          {
           "hoverinfo": "none",
           "line": {
            "color": "rgb(0, 0, 0)",
            "width": 1
           },
           "mode": "lines",
           "x": [
            0.33,
            0.66,
            null,
            0.6221212121212122,
            0.5888794484132436,
            null,
            0.6221212121212122,
            0.5888794484132436,
            null
           ],
           "y": [
            0,
            0,
            null,
            0,
            -0.034740981058275576,
            null,
            0,
            0.034740981058275576,
            null
           ]
          },
          {
           "hoverinfo": "none",
           "line": {
            "color": "rgb(0, 0, 0)",
            "width": 1
           },
           "mode": "lines",
           "x": [
            0.66,
            1,
            null,
            0.9621212121212122,
            0.9288794484132434,
            null,
            0.9621212121212122,
            0.9288794484132434,
            null
           ],
           "y": [
            0,
            0,
            null,
            0,
            -0.034740981058275576,
            null,
            0,
            0.034740981058275576,
            null
           ]
          },
          {
           "hoverinfo": "none",
           "marker": {
            "color": "rgb(0, 255, 0)",
            "line": {
             "color": "rgb(0, 0, 0)",
             "width": 1
            },
            "size": 20
           },
           "mode": "markers+text",
           "text": [
            "0"
           ],
           "textfont": {
            "color": "rgb(0, 0, 0)"
           },
           "textposition": "middle center",
           "x": [
            0
           ],
           "y": [
            0.5
           ]
          },
          {
           "hoverinfo": "none",
           "marker": {
            "color": "rgb(0, 255, 0)",
            "line": {
             "color": "rgb(0, 0, 0)",
             "width": 1
            },
            "size": 20
           },
           "mode": "markers+text",
           "text": [
            "1"
           ],
           "textfont": {
            "color": "rgb(0, 0, 0)"
           },
           "textposition": "middle center",
           "x": [
            0.33
           ],
           "y": [
            1
           ]
          },
          {
           "hoverinfo": "none",
           "marker": {
            "color": "rgb(0, 255, 0)",
            "line": {
             "color": "rgb(0, 0, 0)",
             "width": 1
            },
            "size": 20
           },
           "mode": "markers+text",
           "text": [
            "2"
           ],
           "textfont": {
            "color": "rgb(0, 0, 0)"
           },
           "textposition": "middle center",
           "x": [
            0.66
           ],
           "y": [
            1
           ]
          },
          {
           "hoverinfo": "none",
           "marker": {
            "color": "rgb(0, 255, 0)",
            "line": {
             "color": "rgb(0, 0, 0)",
             "width": 1
            },
            "size": 20
           },
           "mode": "markers+text",
           "text": [
            "3"
           ],
           "textfont": {
            "color": "rgb(0, 0, 0)"
           },
           "textposition": "middle center",
           "x": [
            1
           ],
           "y": [
            1
           ]
          },
          {
           "hoverinfo": "none",
           "marker": {
            "color": "rgb(255, 255, 255)",
            "line": {
             "color": "rgb(0, 0, 0)",
             "width": 1
            },
            "size": 20
           },
           "mode": "markers+text",
           "text": [
            "4"
           ],
           "textfont": {
            "color": "rgb(0, 0, 0)"
           },
           "textposition": "middle center",
           "x": [
            0.33
           ],
           "y": [
            0
           ]
          },
          {
           "hoverinfo": "none",
           "marker": {
            "color": "rgb(255, 255, 255)",
            "line": {
             "color": "rgb(0, 0, 0)",
             "width": 1
            },
            "size": 20
           },
           "mode": "markers+text",
           "text": [
            "5"
           ],
           "textfont": {
            "color": "rgb(0, 0, 0)"
           },
           "textposition": "middle center",
           "x": [
            0.66
           ],
           "y": [
            0
           ]
          },
          {
           "hoverinfo": "none",
           "marker": {
            "color": "rgb(255, 255, 255)",
            "line": {
             "color": "rgb(0, 0, 0)",
             "width": 1
            },
            "size": 20
           },
           "mode": "markers+text",
           "text": [
            "6"
           ],
           "textfont": {
            "color": "rgb(0, 0, 0)"
           },
           "textposition": "middle center",
           "x": [
            1
           ],
           "y": [
            0
           ]
          }
         ],
         "name": 3
        },
        {
         "data": [
          {
           "hoverinfo": "none",
           "line": {
            "color": "rgb(0, 0, 0)",
            "width": 1
           },
           "mode": "lines",
           "x": [
            0,
            0.33,
            null,
            0.3003062713421305,
            0.2855225877733855,
            null,
            0.3003062713421305,
            0.2629725579755741,
            null
           ],
           "y": [
            0.5,
            1,
            null,
            0.9550095020335311,
            0.8882926689752846,
            null,
            0.9550095020335311,
            0.9427605821595028,
            null
           ]
          },
          {
           "hoverinfo": "none",
           "line": {
            "color": "rgb(0, 0, 0)",
            "width": 1
           },
           "mode": "lines",
           "x": [
            0,
            0.33,
            null,
            0.3003062713421305,
            0.2629725579755741,
            null,
            0.3003062713421305,
            0.2855225877733855,
            null
           ],
           "y": [
            0.5,
            0,
            null,
            0.04499049796646893,
            0.0572394178404972,
            null,
            0.04499049796646893,
            0.11170733102471547,
            null
           ]
          },
          {
           "hoverinfo": "none",
           "line": {
            "color": "rgb(0, 0, 0)",
            "width": 1
           },
           "mode": "lines",
           "x": [
            0.33,
            0.66,
            null,
            0.6221212121212122,
            0.5888794484132436,
            null,
            0.6221212121212122,
            0.5888794484132436,
            null
           ],
           "y": [
            1,
            1,
            null,
            1,
            0.9652590189417244,
            null,
            1,
            1.0347409810582755,
            null
           ]
          },
          {
           "hoverinfo": "none",
           "line": {
            "color": "rgb(0, 0, 0)",
            "width": 1
           },
           "mode": "lines",
           "x": [
            0.66,
            1,
            null,
            0.9621212121212122,
            0.9288794484132434,
            null,
            0.9621212121212122,
            0.9288794484132434,
            null
           ],
           "y": [
            1,
            1,
            null,
            1,
            0.9652590189417244,
            null,
            1,
            1.0347409810582755,
            null
           ]
          },
          {
           "hoverinfo": "none",
           "line": {
            "color": "rgb(0, 0, 0)",
            "width": 1
           },
           "mode": "lines",
           "x": [
            0.66,
            0.33,
            null,
            0.35022071942550836,
            0.3526100389194443,
            null,
            0.35022071942550836,
            0.3833221014449805,
            null
           ],
           "y": [
            1,
            0,
            null,
            0.06127490735002531,
            0.13359437096827784,
            null,
            0.06127490735002531,
            0.09650302407543368,
            null
           ]
          },
          {
           "hoverinfo": "none",
           "line": {
            "color": "rgb(0, 0, 0)",
            "width": 1
           },
           "mode": "lines",
           "x": [
            1,
            0.66,
            null,
            0.6806532023433265,
            0.6835549327328607,
            null,
            0.6806532023433265,
            0.7140012524011855,
            null
           ],
           "y": [
            1,
            0,
            null,
            0.06074471277448944,
            0.13299554373343975,
            null,
            0.06074471277448944,
            0.09511088313140172,
            null
           ]
          },
          {
           "hoverinfo": "none",
           "line": {
            "color": "rgb(0, 0, 0)",
            "width": 1
           },
           "mode": "lines",
           "x": [
            0.33,
            0.66,
            null,
            0.6221212121212122,
            0.5888794484132436,
            null,
            0.6221212121212122,
            0.5888794484132436,
            null
           ],
           "y": [
            0,
            0,
            null,
            0,
            -0.034740981058275576,
            null,
            0,
            0.034740981058275576,
            null
           ]
          },
          {
           "hoverinfo": "none",
           "line": {
            "color": "rgb(0, 0, 0)",
            "width": 1
           },
           "mode": "lines",
           "x": [
            0.66,
            1,
            null,
            0.9621212121212122,
            0.9288794484132434,
            null,
            0.9621212121212122,
            0.9288794484132434,
            null
           ],
           "y": [
            0,
            0,
            null,
            0,
            -0.034740981058275576,
            null,
            0,
            0.034740981058275576,
            null
           ]
          },
          {
           "hoverinfo": "none",
           "marker": {
            "color": "rgb(0, 255, 0)",
            "line": {
             "color": "rgb(0, 0, 0)",
             "width": 1
            },
            "size": 20
           },
           "mode": "markers+text",
           "text": [
            "0"
           ],
           "textfont": {
            "color": "rgb(0, 0, 0)"
           },
           "textposition": "middle center",
           "x": [
            0
           ],
           "y": [
            0.5
           ]
          },
          {
           "hoverinfo": "none",
           "marker": {
            "color": "rgb(0, 255, 0)",
            "line": {
             "color": "rgb(0, 0, 0)",
             "width": 1
            },
            "size": 20
           },
           "mode": "markers+text",
           "text": [
            "1"
           ],
           "textfont": {
            "color": "rgb(0, 0, 0)"
           },
           "textposition": "middle center",
           "x": [
            0.33
           ],
           "y": [
            1
           ]
          },
          {
           "hoverinfo": "none",
           "marker": {
            "color": "rgb(0, 255, 0)",
            "line": {
             "color": "rgb(0, 0, 0)",
             "width": 1
            },
            "size": 20
           },
           "mode": "markers+text",
           "text": [
            "2"
           ],
           "textfont": {
            "color": "rgb(0, 0, 0)"
           },
           "textposition": "middle center",
           "x": [
            0.66
           ],
           "y": [
            1
           ]
          },
          {
           "hoverinfo": "none",
           "marker": {
            "color": "rgb(0, 255, 0)",
            "line": {
             "color": "rgb(0, 0, 0)",
             "width": 1
            },
            "size": 20
           },
           "mode": "markers+text",
           "text": [
            "3"
           ],
           "textfont": {
            "color": "rgb(0, 0, 0)"
           },
           "textposition": "middle center",
           "x": [
            1
           ],
           "y": [
            1
           ]
          },
          {
           "hoverinfo": "none",
           "marker": {
            "color": "rgb(0, 255, 0)",
            "line": {
             "color": "rgb(0, 0, 0)",
             "width": 1
            },
            "size": 20
           },
           "mode": "markers+text",
           "text": [
            "4"
           ],
           "textfont": {
            "color": "rgb(0, 0, 0)"
           },
           "textposition": "middle center",
           "x": [
            0.33
           ],
           "y": [
            0
           ]
          },
          {
           "hoverinfo": "none",
           "marker": {
            "color": "rgb(255, 255, 255)",
            "line": {
             "color": "rgb(0, 0, 0)",
             "width": 1
            },
            "size": 20
           },
           "mode": "markers+text",
           "text": [
            "5"
           ],
           "textfont": {
            "color": "rgb(0, 0, 0)"
           },
           "textposition": "middle center",
           "x": [
            0.66
           ],
           "y": [
            0
           ]
          },
          {
           "hoverinfo": "none",
           "marker": {
            "color": "rgb(255, 255, 255)",
            "line": {
             "color": "rgb(0, 0, 0)",
             "width": 1
            },
            "size": 20
           },
           "mode": "markers+text",
           "text": [
            "6"
           ],
           "textfont": {
            "color": "rgb(0, 0, 0)"
           },
           "textposition": "middle center",
           "x": [
            1
           ],
           "y": [
            0
           ]
          }
         ],
         "name": 4
        },
        {
         "data": [
          {
           "hoverinfo": "none",
           "line": {
            "color": "rgb(0, 0, 0)",
            "width": 1
           },
           "mode": "lines",
           "x": [
            0,
            0.33,
            null,
            0.3003062713421305,
            0.2855225877733855,
            null,
            0.3003062713421305,
            0.2629725579755741,
            null
           ],
           "y": [
            0.5,
            1,
            null,
            0.9550095020335311,
            0.8882926689752846,
            null,
            0.9550095020335311,
            0.9427605821595028,
            null
           ]
          },
          {
           "hoverinfo": "none",
           "line": {
            "color": "rgb(0, 0, 0)",
            "width": 1
           },
           "mode": "lines",
           "x": [
            0,
            0.33,
            null,
            0.3003062713421305,
            0.2629725579755741,
            null,
            0.3003062713421305,
            0.2855225877733855,
            null
           ],
           "y": [
            0.5,
            0,
            null,
            0.04499049796646893,
            0.0572394178404972,
            null,
            0.04499049796646893,
            0.11170733102471547,
            null
           ]
          },
          {
           "hoverinfo": "none",
           "line": {
            "color": "rgb(0, 0, 0)",
            "width": 1
           },
           "mode": "lines",
           "x": [
            0.33,
            0.66,
            null,
            0.6221212121212122,
            0.5888794484132436,
            null,
            0.6221212121212122,
            0.5888794484132436,
            null
           ],
           "y": [
            1,
            1,
            null,
            1,
            0.9652590189417244,
            null,
            1,
            1.0347409810582755,
            null
           ]
          },
          {
           "hoverinfo": "none",
           "line": {
            "color": "rgb(0, 0, 0)",
            "width": 1
           },
           "mode": "lines",
           "x": [
            0.66,
            1,
            null,
            0.9621212121212122,
            0.9288794484132434,
            null,
            0.9621212121212122,
            0.9288794484132434,
            null
           ],
           "y": [
            1,
            1,
            null,
            1,
            0.9652590189417244,
            null,
            1,
            1.0347409810582755,
            null
           ]
          },
          {
           "hoverinfo": "none",
           "line": {
            "color": "rgb(0, 0, 0)",
            "width": 1
           },
           "mode": "lines",
           "x": [
            0.66,
            0.33,
            null,
            0.35022071942550836,
            0.3526100389194443,
            null,
            0.35022071942550836,
            0.3833221014449805,
            null
           ],
           "y": [
            1,
            0,
            null,
            0.06127490735002531,
            0.13359437096827784,
            null,
            0.06127490735002531,
            0.09650302407543368,
            null
           ]
          },
          {
           "hoverinfo": "none",
           "line": {
            "color": "rgb(0, 0, 0)",
            "width": 1
           },
           "mode": "lines",
           "x": [
            1,
            0.66,
            null,
            0.6806532023433265,
            0.6835549327328607,
            null,
            0.6806532023433265,
            0.7140012524011855,
            null
           ],
           "y": [
            1,
            0,
            null,
            0.06074471277448944,
            0.13299554373343975,
            null,
            0.06074471277448944,
            0.09511088313140172,
            null
           ]
          },
          {
           "hoverinfo": "none",
           "line": {
            "color": "rgb(0, 0, 0)",
            "width": 1
           },
           "mode": "lines",
           "x": [
            0.33,
            0.66,
            null,
            0.6221212121212122,
            0.5888794484132436,
            null,
            0.6221212121212122,
            0.5888794484132436,
            null
           ],
           "y": [
            0,
            0,
            null,
            0,
            -0.034740981058275576,
            null,
            0,
            0.034740981058275576,
            null
           ]
          },
          {
           "hoverinfo": "none",
           "line": {
            "color": "rgb(0, 0, 0)",
            "width": 1
           },
           "mode": "lines",
           "x": [
            0.66,
            1,
            null,
            0.9621212121212122,
            0.9288794484132434,
            null,
            0.9621212121212122,
            0.9288794484132434,
            null
           ],
           "y": [
            0,
            0,
            null,
            0,
            -0.034740981058275576,
            null,
            0,
            0.034740981058275576,
            null
           ]
          },
          {
           "hoverinfo": "none",
           "marker": {
            "color": "rgb(0, 255, 0)",
            "line": {
             "color": "rgb(0, 0, 0)",
             "width": 1
            },
            "size": 20
           },
           "mode": "markers+text",
           "text": [
            "0"
           ],
           "textfont": {
            "color": "rgb(0, 0, 0)"
           },
           "textposition": "middle center",
           "x": [
            0
           ],
           "y": [
            0.5
           ]
          },
          {
           "hoverinfo": "none",
           "marker": {
            "color": "rgb(0, 255, 0)",
            "line": {
             "color": "rgb(0, 0, 0)",
             "width": 1
            },
            "size": 20
           },
           "mode": "markers+text",
           "text": [
            "1"
           ],
           "textfont": {
            "color": "rgb(0, 0, 0)"
           },
           "textposition": "middle center",
           "x": [
            0.33
           ],
           "y": [
            1
           ]
          },
          {
           "hoverinfo": "none",
           "marker": {
            "color": "rgb(0, 255, 0)",
            "line": {
             "color": "rgb(0, 0, 0)",
             "width": 1
            },
            "size": 20
           },
           "mode": "markers+text",
           "text": [
            "2"
           ],
           "textfont": {
            "color": "rgb(0, 0, 0)"
           },
           "textposition": "middle center",
           "x": [
            0.66
           ],
           "y": [
            1
           ]
          },
          {
           "hoverinfo": "none",
           "marker": {
            "color": "rgb(0, 255, 0)",
            "line": {
             "color": "rgb(0, 0, 0)",
             "width": 1
            },
            "size": 20
           },
           "mode": "markers+text",
           "text": [
            "3"
           ],
           "textfont": {
            "color": "rgb(0, 0, 0)"
           },
           "textposition": "middle center",
           "x": [
            1
           ],
           "y": [
            1
           ]
          },
          {
           "hoverinfo": "none",
           "marker": {
            "color": "rgb(0, 255, 0)",
            "line": {
             "color": "rgb(0, 0, 0)",
             "width": 1
            },
            "size": 20
           },
           "mode": "markers+text",
           "text": [
            "4"
           ],
           "textfont": {
            "color": "rgb(0, 0, 0)"
           },
           "textposition": "middle center",
           "x": [
            0.33
           ],
           "y": [
            0
           ]
          },
          {
           "hoverinfo": "none",
           "marker": {
            "color": "rgb(0, 255, 0)",
            "line": {
             "color": "rgb(0, 0, 0)",
             "width": 1
            },
            "size": 20
           },
           "mode": "markers+text",
           "text": [
            "5"
           ],
           "textfont": {
            "color": "rgb(0, 0, 0)"
           },
           "textposition": "middle center",
           "x": [
            0.66
           ],
           "y": [
            0
           ]
          },
          {
           "hoverinfo": "none",
           "marker": {
            "color": "rgb(255, 255, 255)",
            "line": {
             "color": "rgb(0, 0, 0)",
             "width": 1
            },
            "size": 20
           },
           "mode": "markers+text",
           "text": [
            "6"
           ],
           "textfont": {
            "color": "rgb(0, 0, 0)"
           },
           "textposition": "middle center",
           "x": [
            1
           ],
           "y": [
            0
           ]
          }
         ],
         "name": 5
        },
        {
         "data": [
          {
           "hoverinfo": "none",
           "line": {
            "color": "rgb(0, 0, 0)",
            "width": 1
           },
           "mode": "lines",
           "x": [
            0,
            0.33,
            null,
            0.3003062713421305,
            0.2855225877733855,
            null,
            0.3003062713421305,
            0.2629725579755741,
            null
           ],
           "y": [
            0.5,
            1,
            null,
            0.9550095020335311,
            0.8882926689752846,
            null,
            0.9550095020335311,
            0.9427605821595028,
            null
           ]
          },
          {
           "hoverinfo": "none",
           "line": {
            "color": "rgb(0, 0, 0)",
            "width": 1
           },
           "mode": "lines",
           "x": [
            0,
            0.33,
            null,
            0.3003062713421305,
            0.2629725579755741,
            null,
            0.3003062713421305,
            0.2855225877733855,
            null
           ],
           "y": [
            0.5,
            0,
            null,
            0.04499049796646893,
            0.0572394178404972,
            null,
            0.04499049796646893,
            0.11170733102471547,
            null
           ]
          },
          {
           "hoverinfo": "none",
           "line": {
            "color": "rgb(0, 0, 0)",
            "width": 1
           },
           "mode": "lines",
           "x": [
            0.33,
            0.66,
            null,
            0.6221212121212122,
            0.5888794484132436,
            null,
            0.6221212121212122,
            0.5888794484132436,
            null
           ],
           "y": [
            1,
            1,
            null,
            1,
            0.9652590189417244,
            null,
            1,
            1.0347409810582755,
            null
           ]
          },
          {
           "hoverinfo": "none",
           "line": {
            "color": "rgb(0, 0, 0)",
            "width": 1
           },
           "mode": "lines",
           "x": [
            0.66,
            1,
            null,
            0.9621212121212122,
            0.9288794484132434,
            null,
            0.9621212121212122,
            0.9288794484132434,
            null
           ],
           "y": [
            1,
            1,
            null,
            1,
            0.9652590189417244,
            null,
            1,
            1.0347409810582755,
            null
           ]
          },
          {
           "hoverinfo": "none",
           "line": {
            "color": "rgb(0, 0, 0)",
            "width": 1
           },
           "mode": "lines",
           "x": [
            0.66,
            0.33,
            null,
            0.35022071942550836,
            0.3526100389194443,
            null,
            0.35022071942550836,
            0.3833221014449805,
            null
           ],
           "y": [
            1,
            0,
            null,
            0.06127490735002531,
            0.13359437096827784,
            null,
            0.06127490735002531,
            0.09650302407543368,
            null
           ]
          },
          {
           "hoverinfo": "none",
           "line": {
            "color": "rgb(0, 0, 0)",
            "width": 1
           },
           "mode": "lines",
           "x": [
            1,
            0.66,
            null,
            0.6806532023433265,
            0.6835549327328607,
            null,
            0.6806532023433265,
            0.7140012524011855,
            null
           ],
           "y": [
            1,
            0,
            null,
            0.06074471277448944,
            0.13299554373343975,
            null,
            0.06074471277448944,
            0.09511088313140172,
            null
           ]
          },
          {
           "hoverinfo": "none",
           "line": {
            "color": "rgb(0, 0, 0)",
            "width": 1
           },
           "mode": "lines",
           "x": [
            0.33,
            0.66,
            null,
            0.6221212121212122,
            0.5888794484132436,
            null,
            0.6221212121212122,
            0.5888794484132436,
            null
           ],
           "y": [
            0,
            0,
            null,
            0,
            -0.034740981058275576,
            null,
            0,
            0.034740981058275576,
            null
           ]
          },
          {
           "hoverinfo": "none",
           "line": {
            "color": "rgb(0, 0, 0)",
            "width": 1
           },
           "mode": "lines",
           "x": [
            0.66,
            1,
            null,
            0.9621212121212122,
            0.9288794484132434,
            null,
            0.9621212121212122,
            0.9288794484132434,
            null
           ],
           "y": [
            0,
            0,
            null,
            0,
            -0.034740981058275576,
            null,
            0,
            0.034740981058275576,
            null
           ]
          },
          {
           "hoverinfo": "none",
           "marker": {
            "color": "rgb(0, 255, 0)",
            "line": {
             "color": "rgb(0, 0, 0)",
             "width": 1
            },
            "size": 20
           },
           "mode": "markers+text",
           "text": [
            "0"
           ],
           "textfont": {
            "color": "rgb(0, 0, 0)"
           },
           "textposition": "middle center",
           "x": [
            0
           ],
           "y": [
            0.5
           ]
          },
          {
           "hoverinfo": "none",
           "marker": {
            "color": "rgb(0, 255, 0)",
            "line": {
             "color": "rgb(0, 0, 0)",
             "width": 1
            },
            "size": 20
           },
           "mode": "markers+text",
           "text": [
            "1"
           ],
           "textfont": {
            "color": "rgb(0, 0, 0)"
           },
           "textposition": "middle center",
           "x": [
            0.33
           ],
           "y": [
            1
           ]
          },
          {
           "hoverinfo": "none",
           "marker": {
            "color": "rgb(0, 255, 0)",
            "line": {
             "color": "rgb(0, 0, 0)",
             "width": 1
            },
            "size": 20
           },
           "mode": "markers+text",
           "text": [
            "2"
           ],
           "textfont": {
            "color": "rgb(0, 0, 0)"
           },
           "textposition": "middle center",
           "x": [
            0.66
           ],
           "y": [
            1
           ]
          },
          {
           "hoverinfo": "none",
           "marker": {
            "color": "rgb(0, 255, 0)",
            "line": {
             "color": "rgb(0, 0, 0)",
             "width": 1
            },
            "size": 20
           },
           "mode": "markers+text",
           "text": [
            "3"
           ],
           "textfont": {
            "color": "rgb(0, 0, 0)"
           },
           "textposition": "middle center",
           "x": [
            1
           ],
           "y": [
            1
           ]
          },
          {
           "hoverinfo": "none",
           "marker": {
            "color": "rgb(0, 255, 0)",
            "line": {
             "color": "rgb(0, 0, 0)",
             "width": 1
            },
            "size": 20
           },
           "mode": "markers+text",
           "text": [
            "4"
           ],
           "textfont": {
            "color": "rgb(0, 0, 0)"
           },
           "textposition": "middle center",
           "x": [
            0.33
           ],
           "y": [
            0
           ]
          },
          {
           "hoverinfo": "none",
           "marker": {
            "color": "rgb(0, 255, 0)",
            "line": {
             "color": "rgb(0, 0, 0)",
             "width": 1
            },
            "size": 20
           },
           "mode": "markers+text",
           "text": [
            "5"
           ],
           "textfont": {
            "color": "rgb(0, 0, 0)"
           },
           "textposition": "middle center",
           "x": [
            0.66
           ],
           "y": [
            0
           ]
          },
          {
           "hoverinfo": "none",
           "marker": {
            "color": "rgb(0, 255, 0)",
            "line": {
             "color": "rgb(0, 0, 0)",
             "width": 1
            },
            "size": 20
           },
           "mode": "markers+text",
           "text": [
            "6"
           ],
           "textfont": {
            "color": "rgb(0, 0, 0)"
           },
           "textposition": "middle center",
           "x": [
            1
           ],
           "y": [
            0
           ]
          }
         ],
         "name": 6
        }
       ],
       "layout": {
        "height": 256,
        "margin": {
         "b": 0,
         "l": 0,
         "r": 0,
         "t": 0
        },
        "showlegend": false,
        "sliders": [
         {
          "currentvalue": {
           "visible": false
          },
          "steps": [
           {
            "args": [
             [
              0
             ],
             {
              "frame": {
               "redraw": false
              },
              "mode": "immediate"
             }
            ],
            "label": "",
            "method": "animate"
           },
           {
            "args": [
             [
              1
             ],
             {
              "frame": {
               "redraw": false
              },
              "mode": "immediate"
             }
            ],
            "label": "",
            "method": "animate"
           },
           {
            "args": [
             [
              2
             ],
             {
              "frame": {
               "redraw": false
              },
              "mode": "immediate"
             }
            ],
            "label": "",
            "method": "animate"
           },
           {
            "args": [
             [
              3
             ],
             {
              "frame": {
               "redraw": false
              },
              "mode": "immediate"
             }
            ],
            "label": "",
            "method": "animate"
           },
           {
            "args": [
             [
              4
             ],
             {
              "frame": {
               "redraw": false
              },
              "mode": "immediate"
             }
            ],
            "label": "",
            "method": "animate"
           },
           {
            "args": [
             [
              5
             ],
             {
              "frame": {
               "redraw": false
              },
              "mode": "immediate"
             }
            ],
            "label": "",
            "method": "animate"
           },
           {
            "args": [
             [
              6
             ],
             {
              "frame": {
               "redraw": false
              },
              "mode": "immediate"
             }
            ],
            "label": "",
            "method": "animate"
           }
          ]
         }
        ],
        "updatemenus": [
         {
          "buttons": [
           {
            "args": [
             null,
             {
              "frame": {
               "redraw": false
              },
              "fromcurrent": true
             }
            ],
            "label": "Play",
            "method": "animate"
           },
           {
            "args": [
             [
              null
             ],
             {
              "frame": {
               "redraw": false
              },
              "mode": "immediate"
             }
            ],
            "label": "Pause",
            "method": "animate"
           }
          ],
          "showactive": true,
          "type": "buttons"
         }
        ],
        "width": 408,
        "xaxis": {
         "showgrid": false,
         "showticklabels": false,
         "zeroline": false
        },
        "yaxis": {
         "showgrid": false,
         "showticklabels": false,
         "zeroline": false
        }
       }
      },
      "text/html": [
       "<div id=\"91f59117-6aba-46c0-8ab3-dd18bcea7fc5\" style=\"height: 256.0px; width: 408.0px;\" class=\"plotly-graph-div\"></div><script type=\"text/javascript\">require([\"plotly\"], function(Plotly) { window.PLOTLYENV=window.PLOTLYENV || {};window.PLOTLYENV.BASE_URL=\"https://plot.ly\";\n",
       "        Plotly.plot(\n",
       "            '91f59117-6aba-46c0-8ab3-dd18bcea7fc5',\n",
       "            [{\"mode\": \"lines\", \"line\": {\"color\": \"rgb(0, 0, 0)\", \"width\": 1}, \"y\": [0.5, 1.0, null, 0.9550095020335311, 0.8882926689752846, null, 0.9550095020335311, 0.9427605821595028, null], \"hoverinfo\": \"none\", \"x\": [0.0, 0.33, null, 0.3003062713421305, 0.2855225877733855, null, 0.3003062713421305, 0.2629725579755741, null]}, {\"mode\": \"lines\", \"line\": {\"color\": \"rgb(0, 0, 0)\", \"width\": 1}, \"y\": [0.5, 0.0, null, 0.04499049796646893, 0.0572394178404972, null, 0.04499049796646893, 0.11170733102471547, null], \"hoverinfo\": \"none\", \"x\": [0.0, 0.33, null, 0.3003062713421305, 0.2629725579755741, null, 0.3003062713421305, 0.2855225877733855, null]}, {\"mode\": \"lines\", \"line\": {\"color\": \"rgb(0, 0, 0)\", \"width\": 1}, \"y\": [1.0, 1.0, null, 1.0, 0.9652590189417244, null, 1.0, 1.0347409810582755, null], \"hoverinfo\": \"none\", \"x\": [0.33, 0.66, null, 0.6221212121212122, 0.5888794484132436, null, 0.6221212121212122, 0.5888794484132436, null]}, {\"mode\": \"lines\", \"line\": {\"color\": \"rgb(0, 0, 0)\", \"width\": 1}, \"y\": [1.0, 1.0, null, 1.0, 0.9652590189417244, null, 1.0, 1.0347409810582755, null], \"hoverinfo\": \"none\", \"x\": [0.66, 1.0, null, 0.9621212121212122, 0.9288794484132434, null, 0.9621212121212122, 0.9288794484132434, null]}, {\"mode\": \"lines\", \"line\": {\"color\": \"rgb(0, 0, 0)\", \"width\": 1}, \"y\": [1.0, 0.0, null, 0.06127490735002531, 0.13359437096827784, null, 0.06127490735002531, 0.09650302407543368, null], \"hoverinfo\": \"none\", \"x\": [0.66, 0.33, null, 0.35022071942550836, 0.3526100389194443, null, 0.35022071942550836, 0.3833221014449805, null]}, {\"mode\": \"lines\", \"line\": {\"color\": \"rgb(0, 0, 0)\", \"width\": 1}, \"y\": [1.0, 0.0, null, 0.06074471277448944, 0.13299554373343975, null, 0.06074471277448944, 0.09511088313140172, null], \"hoverinfo\": \"none\", \"x\": [1.0, 0.66, null, 0.6806532023433265, 0.6835549327328607, null, 0.6806532023433265, 0.7140012524011855, null]}, {\"mode\": \"lines\", \"line\": {\"color\": \"rgb(0, 0, 0)\", \"width\": 1}, \"y\": [0.0, 0.0, null, 0.0, -0.034740981058275576, null, 0.0, 0.034740981058275576, null], \"hoverinfo\": \"none\", \"x\": [0.33, 0.66, null, 0.6221212121212122, 0.5888794484132436, null, 0.6221212121212122, 0.5888794484132436, null]}, {\"mode\": \"lines\", \"line\": {\"color\": \"rgb(0, 0, 0)\", \"width\": 1}, \"y\": [0.0, 0.0, null, 0.0, -0.034740981058275576, null, 0.0, 0.034740981058275576, null], \"hoverinfo\": \"none\", \"x\": [0.66, 1.0, null, 0.9621212121212122, 0.9288794484132434, null, 0.9621212121212122, 0.9288794484132434, null]}, {\"mode\": \"markers+text\", \"x\": [0.0], \"textposition\": \"middle center\", \"textfont\": {\"color\": \"rgb(0, 0, 0)\"}, \"marker\": {\"color\": \"rgb(0, 255, 0)\", \"line\": {\"color\": \"rgb(0, 0, 0)\", \"width\": 1}, \"size\": 20}, \"y\": [0.5], \"hoverinfo\": \"none\", \"text\": [\"0\"]}, {\"mode\": \"markers+text\", \"x\": [0.33], \"textposition\": \"middle center\", \"textfont\": {\"color\": \"rgb(0, 0, 0)\"}, \"marker\": {\"color\": \"rgb(255, 255, 255)\", \"line\": {\"color\": \"rgb(0, 0, 0)\", \"width\": 1}, \"size\": 20}, \"y\": [1.0], \"hoverinfo\": \"none\", \"text\": [\"1\"]}, {\"mode\": \"markers+text\", \"x\": [0.66], \"textposition\": \"middle center\", \"textfont\": {\"color\": \"rgb(0, 0, 0)\"}, \"marker\": {\"color\": \"rgb(255, 255, 255)\", \"line\": {\"color\": \"rgb(0, 0, 0)\", \"width\": 1}, \"size\": 20}, \"y\": [1.0], \"hoverinfo\": \"none\", \"text\": [\"2\"]}, {\"mode\": \"markers+text\", \"x\": [1.0], \"textposition\": \"middle center\", \"textfont\": {\"color\": \"rgb(0, 0, 0)\"}, \"marker\": {\"color\": \"rgb(255, 255, 255)\", \"line\": {\"color\": \"rgb(0, 0, 0)\", \"width\": 1}, \"size\": 20}, \"y\": [1.0], \"hoverinfo\": \"none\", \"text\": [\"3\"]}, {\"mode\": \"markers+text\", \"x\": [0.33], \"textposition\": \"middle center\", \"textfont\": {\"color\": \"rgb(0, 0, 0)\"}, \"marker\": {\"color\": \"rgb(255, 255, 255)\", \"line\": {\"color\": \"rgb(0, 0, 0)\", \"width\": 1}, \"size\": 20}, \"y\": [0.0], \"hoverinfo\": \"none\", \"text\": [\"4\"]}, {\"mode\": \"markers+text\", \"x\": [0.66], \"textposition\": \"middle center\", \"textfont\": {\"color\": \"rgb(0, 0, 0)\"}, \"marker\": {\"color\": \"rgb(255, 255, 255)\", \"line\": {\"color\": \"rgb(0, 0, 0)\", \"width\": 1}, \"size\": 20}, \"y\": [0.0], \"hoverinfo\": \"none\", \"text\": [\"5\"]}, {\"mode\": \"markers+text\", \"x\": [1.0], \"textposition\": \"middle center\", \"textfont\": {\"color\": \"rgb(0, 0, 0)\"}, \"marker\": {\"color\": \"rgb(255, 255, 255)\", \"line\": {\"color\": \"rgb(0, 0, 0)\", \"width\": 1}, \"size\": 20}, \"y\": [0.0], \"hoverinfo\": \"none\", \"text\": [\"6\"]}],\n",
       "            {\"margin\": {\"r\": 0, \"b\": 0, \"t\": 0, \"l\": 0}, \"showlegend\": false, \"updatemenus\": [{\"buttons\": [{\"args\": [null, {\"fromcurrent\": true, \"frame\": {\"redraw\": false}}], \"method\": \"animate\", \"label\": \"Play\"}, {\"args\": [[null], {\"mode\": \"immediate\", \"frame\": {\"redraw\": false}}], \"method\": \"animate\", \"label\": \"Pause\"}], \"showactive\": true, \"type\": \"buttons\"}], \"xaxis\": {\"showticklabels\": false, \"showgrid\": false, \"zeroline\": false}, \"height\": 256.0, \"sliders\": [{\"currentvalue\": {\"visible\": false}, \"steps\": [{\"args\": [[0], {\"mode\": \"immediate\", \"frame\": {\"redraw\": false}}], \"method\": \"animate\", \"label\": \"\"}, {\"args\": [[1], {\"mode\": \"immediate\", \"frame\": {\"redraw\": false}}], \"method\": \"animate\", \"label\": \"\"}, {\"args\": [[2], {\"mode\": \"immediate\", \"frame\": {\"redraw\": false}}], \"method\": \"animate\", \"label\": \"\"}, {\"args\": [[3], {\"mode\": \"immediate\", \"frame\": {\"redraw\": false}}], \"method\": \"animate\", \"label\": \"\"}, {\"args\": [[4], {\"mode\": \"immediate\", \"frame\": {\"redraw\": false}}], \"method\": \"animate\", \"label\": \"\"}, {\"args\": [[5], {\"mode\": \"immediate\", \"frame\": {\"redraw\": false}}], \"method\": \"animate\", \"label\": \"\"}, {\"args\": [[6], {\"mode\": \"immediate\", \"frame\": {\"redraw\": false}}], \"method\": \"animate\", \"label\": \"\"}]}], \"width\": 408.0, \"yaxis\": {\"showticklabels\": false, \"showgrid\": false, \"zeroline\": false}},\n",
       "            {\"linkText\": \"Export to plot.ly\", \"displayModeBar\": false, \"showLink\": false}\n",
       "        ).then(function () {return Plotly.addFrames('91f59117-6aba-46c0-8ab3-dd18bcea7fc5',[{\"name\": 0, \"data\": [{\"mode\": \"lines\", \"line\": {\"color\": \"rgb(0, 0, 0)\", \"width\": 1}, \"y\": [0.5, 1.0, null, 0.9550095020335311, 0.8882926689752846, null, 0.9550095020335311, 0.9427605821595028, null], \"hoverinfo\": \"none\", \"x\": [0.0, 0.33, null, 0.3003062713421305, 0.2855225877733855, null, 0.3003062713421305, 0.2629725579755741, null]}, {\"mode\": \"lines\", \"line\": {\"color\": \"rgb(0, 0, 0)\", \"width\": 1}, \"y\": [0.5, 0.0, null, 0.04499049796646893, 0.0572394178404972, null, 0.04499049796646893, 0.11170733102471547, null], \"hoverinfo\": \"none\", \"x\": [0.0, 0.33, null, 0.3003062713421305, 0.2629725579755741, null, 0.3003062713421305, 0.2855225877733855, null]}, {\"mode\": \"lines\", \"line\": {\"color\": \"rgb(0, 0, 0)\", \"width\": 1}, \"y\": [1.0, 1.0, null, 1.0, 0.9652590189417244, null, 1.0, 1.0347409810582755, null], \"hoverinfo\": \"none\", \"x\": [0.33, 0.66, null, 0.6221212121212122, 0.5888794484132436, null, 0.6221212121212122, 0.5888794484132436, null]}, {\"mode\": \"lines\", \"line\": {\"color\": \"rgb(0, 0, 0)\", \"width\": 1}, \"y\": [1.0, 1.0, null, 1.0, 0.9652590189417244, null, 1.0, 1.0347409810582755, null], \"hoverinfo\": \"none\", \"x\": [0.66, 1.0, null, 0.9621212121212122, 0.9288794484132434, null, 0.9621212121212122, 0.9288794484132434, null]}, {\"mode\": \"lines\", \"line\": {\"color\": \"rgb(0, 0, 0)\", \"width\": 1}, \"y\": [1.0, 0.0, null, 0.06127490735002531, 0.13359437096827784, null, 0.06127490735002531, 0.09650302407543368, null], \"hoverinfo\": \"none\", \"x\": [0.66, 0.33, null, 0.35022071942550836, 0.3526100389194443, null, 0.35022071942550836, 0.3833221014449805, null]}, {\"mode\": \"lines\", \"line\": {\"color\": \"rgb(0, 0, 0)\", \"width\": 1}, \"y\": [1.0, 0.0, null, 0.06074471277448944, 0.13299554373343975, null, 0.06074471277448944, 0.09511088313140172, null], \"hoverinfo\": \"none\", \"x\": [1.0, 0.66, null, 0.6806532023433265, 0.6835549327328607, null, 0.6806532023433265, 0.7140012524011855, null]}, {\"mode\": \"lines\", \"line\": {\"color\": \"rgb(0, 0, 0)\", \"width\": 1}, \"y\": [0.0, 0.0, null, 0.0, -0.034740981058275576, null, 0.0, 0.034740981058275576, null], \"hoverinfo\": \"none\", \"x\": [0.33, 0.66, null, 0.6221212121212122, 0.5888794484132436, null, 0.6221212121212122, 0.5888794484132436, null]}, {\"mode\": \"lines\", \"line\": {\"color\": \"rgb(0, 0, 0)\", \"width\": 1}, \"y\": [0.0, 0.0, null, 0.0, -0.034740981058275576, null, 0.0, 0.034740981058275576, null], \"hoverinfo\": \"none\", \"x\": [0.66, 1.0, null, 0.9621212121212122, 0.9288794484132434, null, 0.9621212121212122, 0.9288794484132434, null]}, {\"mode\": \"markers+text\", \"x\": [0.0], \"textposition\": \"middle center\", \"textfont\": {\"color\": \"rgb(0, 0, 0)\"}, \"marker\": {\"color\": \"rgb(0, 255, 0)\", \"line\": {\"color\": \"rgb(0, 0, 0)\", \"width\": 1}, \"size\": 20}, \"y\": [0.5], \"hoverinfo\": \"none\", \"text\": [\"0\"]}, {\"mode\": \"markers+text\", \"x\": [0.33], \"textposition\": \"middle center\", \"textfont\": {\"color\": \"rgb(0, 0, 0)\"}, \"marker\": {\"color\": \"rgb(255, 255, 255)\", \"line\": {\"color\": \"rgb(0, 0, 0)\", \"width\": 1}, \"size\": 20}, \"y\": [1.0], \"hoverinfo\": \"none\", \"text\": [\"1\"]}, {\"mode\": \"markers+text\", \"x\": [0.66], \"textposition\": \"middle center\", \"textfont\": {\"color\": \"rgb(0, 0, 0)\"}, \"marker\": {\"color\": \"rgb(255, 255, 255)\", \"line\": {\"color\": \"rgb(0, 0, 0)\", \"width\": 1}, \"size\": 20}, \"y\": [1.0], \"hoverinfo\": \"none\", \"text\": [\"2\"]}, {\"mode\": \"markers+text\", \"x\": [1.0], \"textposition\": \"middle center\", \"textfont\": {\"color\": \"rgb(0, 0, 0)\"}, \"marker\": {\"color\": \"rgb(255, 255, 255)\", \"line\": {\"color\": \"rgb(0, 0, 0)\", \"width\": 1}, \"size\": 20}, \"y\": [1.0], \"hoverinfo\": \"none\", \"text\": [\"3\"]}, {\"mode\": \"markers+text\", \"x\": [0.33], \"textposition\": \"middle center\", \"textfont\": {\"color\": \"rgb(0, 0, 0)\"}, \"marker\": {\"color\": \"rgb(255, 255, 255)\", \"line\": {\"color\": \"rgb(0, 0, 0)\", \"width\": 1}, \"size\": 20}, \"y\": [0.0], \"hoverinfo\": \"none\", \"text\": [\"4\"]}, {\"mode\": \"markers+text\", \"x\": [0.66], \"textposition\": \"middle center\", \"textfont\": {\"color\": \"rgb(0, 0, 0)\"}, \"marker\": {\"color\": \"rgb(255, 255, 255)\", \"line\": {\"color\": \"rgb(0, 0, 0)\", \"width\": 1}, \"size\": 20}, \"y\": [0.0], \"hoverinfo\": \"none\", \"text\": [\"5\"]}, {\"mode\": \"markers+text\", \"x\": [1.0], \"textposition\": \"middle center\", \"textfont\": {\"color\": \"rgb(0, 0, 0)\"}, \"marker\": {\"color\": \"rgb(255, 255, 255)\", \"line\": {\"color\": \"rgb(0, 0, 0)\", \"width\": 1}, \"size\": 20}, \"y\": [0.0], \"hoverinfo\": \"none\", \"text\": [\"6\"]}]}, {\"name\": 1, \"data\": [{\"mode\": \"lines\", \"line\": {\"color\": \"rgb(0, 0, 0)\", \"width\": 1}, \"y\": [0.5, 1.0, null, 0.9550095020335311, 0.8882926689752846, null, 0.9550095020335311, 0.9427605821595028, null], \"hoverinfo\": \"none\", \"x\": [0.0, 0.33, null, 0.3003062713421305, 0.2855225877733855, null, 0.3003062713421305, 0.2629725579755741, null]}, {\"mode\": \"lines\", \"line\": {\"color\": \"rgb(0, 0, 0)\", \"width\": 1}, \"y\": [0.5, 0.0, null, 0.04499049796646893, 0.0572394178404972, null, 0.04499049796646893, 0.11170733102471547, null], \"hoverinfo\": \"none\", \"x\": [0.0, 0.33, null, 0.3003062713421305, 0.2629725579755741, null, 0.3003062713421305, 0.2855225877733855, null]}, {\"mode\": \"lines\", \"line\": {\"color\": \"rgb(0, 0, 0)\", \"width\": 1}, \"y\": [1.0, 1.0, null, 1.0, 0.9652590189417244, null, 1.0, 1.0347409810582755, null], \"hoverinfo\": \"none\", \"x\": [0.33, 0.66, null, 0.6221212121212122, 0.5888794484132436, null, 0.6221212121212122, 0.5888794484132436, null]}, {\"mode\": \"lines\", \"line\": {\"color\": \"rgb(0, 0, 0)\", \"width\": 1}, \"y\": [1.0, 1.0, null, 1.0, 0.9652590189417244, null, 1.0, 1.0347409810582755, null], \"hoverinfo\": \"none\", \"x\": [0.66, 1.0, null, 0.9621212121212122, 0.9288794484132434, null, 0.9621212121212122, 0.9288794484132434, null]}, {\"mode\": \"lines\", \"line\": {\"color\": \"rgb(0, 0, 0)\", \"width\": 1}, \"y\": [1.0, 0.0, null, 0.06127490735002531, 0.13359437096827784, null, 0.06127490735002531, 0.09650302407543368, null], \"hoverinfo\": \"none\", \"x\": [0.66, 0.33, null, 0.35022071942550836, 0.3526100389194443, null, 0.35022071942550836, 0.3833221014449805, null]}, {\"mode\": \"lines\", \"line\": {\"color\": \"rgb(0, 0, 0)\", \"width\": 1}, \"y\": [1.0, 0.0, null, 0.06074471277448944, 0.13299554373343975, null, 0.06074471277448944, 0.09511088313140172, null], \"hoverinfo\": \"none\", \"x\": [1.0, 0.66, null, 0.6806532023433265, 0.6835549327328607, null, 0.6806532023433265, 0.7140012524011855, null]}, {\"mode\": \"lines\", \"line\": {\"color\": \"rgb(0, 0, 0)\", \"width\": 1}, \"y\": [0.0, 0.0, null, 0.0, -0.034740981058275576, null, 0.0, 0.034740981058275576, null], \"hoverinfo\": \"none\", \"x\": [0.33, 0.66, null, 0.6221212121212122, 0.5888794484132436, null, 0.6221212121212122, 0.5888794484132436, null]}, {\"mode\": \"lines\", \"line\": {\"color\": \"rgb(0, 0, 0)\", \"width\": 1}, \"y\": [0.0, 0.0, null, 0.0, -0.034740981058275576, null, 0.0, 0.034740981058275576, null], \"hoverinfo\": \"none\", \"x\": [0.66, 1.0, null, 0.9621212121212122, 0.9288794484132434, null, 0.9621212121212122, 0.9288794484132434, null]}, {\"mode\": \"markers+text\", \"x\": [0.0], \"textposition\": \"middle center\", \"textfont\": {\"color\": \"rgb(0, 0, 0)\"}, \"marker\": {\"color\": \"rgb(0, 255, 0)\", \"line\": {\"color\": \"rgb(0, 0, 0)\", \"width\": 1}, \"size\": 20}, \"y\": [0.5], \"hoverinfo\": \"none\", \"text\": [\"0\"]}, {\"mode\": \"markers+text\", \"x\": [0.33], \"textposition\": \"middle center\", \"textfont\": {\"color\": \"rgb(0, 0, 0)\"}, \"marker\": {\"color\": \"rgb(0, 255, 0)\", \"line\": {\"color\": \"rgb(0, 0, 0)\", \"width\": 1}, \"size\": 20}, \"y\": [1.0], \"hoverinfo\": \"none\", \"text\": [\"1\"]}, {\"mode\": \"markers+text\", \"x\": [0.66], \"textposition\": \"middle center\", \"textfont\": {\"color\": \"rgb(0, 0, 0)\"}, \"marker\": {\"color\": \"rgb(255, 255, 255)\", \"line\": {\"color\": \"rgb(0, 0, 0)\", \"width\": 1}, \"size\": 20}, \"y\": [1.0], \"hoverinfo\": \"none\", \"text\": [\"2\"]}, {\"mode\": \"markers+text\", \"x\": [1.0], \"textposition\": \"middle center\", \"textfont\": {\"color\": \"rgb(0, 0, 0)\"}, \"marker\": {\"color\": \"rgb(255, 255, 255)\", \"line\": {\"color\": \"rgb(0, 0, 0)\", \"width\": 1}, \"size\": 20}, \"y\": [1.0], \"hoverinfo\": \"none\", \"text\": [\"3\"]}, {\"mode\": \"markers+text\", \"x\": [0.33], \"textposition\": \"middle center\", \"textfont\": {\"color\": \"rgb(0, 0, 0)\"}, \"marker\": {\"color\": \"rgb(255, 255, 255)\", \"line\": {\"color\": \"rgb(0, 0, 0)\", \"width\": 1}, \"size\": 20}, \"y\": [0.0], \"hoverinfo\": \"none\", \"text\": [\"4\"]}, {\"mode\": \"markers+text\", \"x\": [0.66], \"textposition\": \"middle center\", \"textfont\": {\"color\": \"rgb(0, 0, 0)\"}, \"marker\": {\"color\": \"rgb(255, 255, 255)\", \"line\": {\"color\": \"rgb(0, 0, 0)\", \"width\": 1}, \"size\": 20}, \"y\": [0.0], \"hoverinfo\": \"none\", \"text\": [\"5\"]}, {\"mode\": \"markers+text\", \"x\": [1.0], \"textposition\": \"middle center\", \"textfont\": {\"color\": \"rgb(0, 0, 0)\"}, \"marker\": {\"color\": \"rgb(255, 255, 255)\", \"line\": {\"color\": \"rgb(0, 0, 0)\", \"width\": 1}, \"size\": 20}, \"y\": [0.0], \"hoverinfo\": \"none\", \"text\": [\"6\"]}]}, {\"name\": 2, \"data\": [{\"mode\": \"lines\", \"line\": {\"color\": \"rgb(0, 0, 0)\", \"width\": 1}, \"y\": [0.5, 1.0, null, 0.9550095020335311, 0.8882926689752846, null, 0.9550095020335311, 0.9427605821595028, null], \"hoverinfo\": \"none\", \"x\": [0.0, 0.33, null, 0.3003062713421305, 0.2855225877733855, null, 0.3003062713421305, 0.2629725579755741, null]}, {\"mode\": \"lines\", \"line\": {\"color\": \"rgb(0, 0, 0)\", \"width\": 1}, \"y\": [0.5, 0.0, null, 0.04499049796646893, 0.0572394178404972, null, 0.04499049796646893, 0.11170733102471547, null], \"hoverinfo\": \"none\", \"x\": [0.0, 0.33, null, 0.3003062713421305, 0.2629725579755741, null, 0.3003062713421305, 0.2855225877733855, null]}, {\"mode\": \"lines\", \"line\": {\"color\": \"rgb(0, 0, 0)\", \"width\": 1}, \"y\": [1.0, 1.0, null, 1.0, 0.9652590189417244, null, 1.0, 1.0347409810582755, null], \"hoverinfo\": \"none\", \"x\": [0.33, 0.66, null, 0.6221212121212122, 0.5888794484132436, null, 0.6221212121212122, 0.5888794484132436, null]}, {\"mode\": \"lines\", \"line\": {\"color\": \"rgb(0, 0, 0)\", \"width\": 1}, \"y\": [1.0, 1.0, null, 1.0, 0.9652590189417244, null, 1.0, 1.0347409810582755, null], \"hoverinfo\": \"none\", \"x\": [0.66, 1.0, null, 0.9621212121212122, 0.9288794484132434, null, 0.9621212121212122, 0.9288794484132434, null]}, {\"mode\": \"lines\", \"line\": {\"color\": \"rgb(0, 0, 0)\", \"width\": 1}, \"y\": [1.0, 0.0, null, 0.06127490735002531, 0.13359437096827784, null, 0.06127490735002531, 0.09650302407543368, null], \"hoverinfo\": \"none\", \"x\": [0.66, 0.33, null, 0.35022071942550836, 0.3526100389194443, null, 0.35022071942550836, 0.3833221014449805, null]}, {\"mode\": \"lines\", \"line\": {\"color\": \"rgb(0, 0, 0)\", \"width\": 1}, \"y\": [1.0, 0.0, null, 0.06074471277448944, 0.13299554373343975, null, 0.06074471277448944, 0.09511088313140172, null], \"hoverinfo\": \"none\", \"x\": [1.0, 0.66, null, 0.6806532023433265, 0.6835549327328607, null, 0.6806532023433265, 0.7140012524011855, null]}, {\"mode\": \"lines\", \"line\": {\"color\": \"rgb(0, 0, 0)\", \"width\": 1}, \"y\": [0.0, 0.0, null, 0.0, -0.034740981058275576, null, 0.0, 0.034740981058275576, null], \"hoverinfo\": \"none\", \"x\": [0.33, 0.66, null, 0.6221212121212122, 0.5888794484132436, null, 0.6221212121212122, 0.5888794484132436, null]}, {\"mode\": \"lines\", \"line\": {\"color\": \"rgb(0, 0, 0)\", \"width\": 1}, \"y\": [0.0, 0.0, null, 0.0, -0.034740981058275576, null, 0.0, 0.034740981058275576, null], \"hoverinfo\": \"none\", \"x\": [0.66, 1.0, null, 0.9621212121212122, 0.9288794484132434, null, 0.9621212121212122, 0.9288794484132434, null]}, {\"mode\": \"markers+text\", \"x\": [0.0], \"textposition\": \"middle center\", \"textfont\": {\"color\": \"rgb(0, 0, 0)\"}, \"marker\": {\"color\": \"rgb(0, 255, 0)\", \"line\": {\"color\": \"rgb(0, 0, 0)\", \"width\": 1}, \"size\": 20}, \"y\": [0.5], \"hoverinfo\": \"none\", \"text\": [\"0\"]}, {\"mode\": \"markers+text\", \"x\": [0.33], \"textposition\": \"middle center\", \"textfont\": {\"color\": \"rgb(0, 0, 0)\"}, \"marker\": {\"color\": \"rgb(0, 255, 0)\", \"line\": {\"color\": \"rgb(0, 0, 0)\", \"width\": 1}, \"size\": 20}, \"y\": [1.0], \"hoverinfo\": \"none\", \"text\": [\"1\"]}, {\"mode\": \"markers+text\", \"x\": [0.66], \"textposition\": \"middle center\", \"textfont\": {\"color\": \"rgb(0, 0, 0)\"}, \"marker\": {\"color\": \"rgb(0, 255, 0)\", \"line\": {\"color\": \"rgb(0, 0, 0)\", \"width\": 1}, \"size\": 20}, \"y\": [1.0], \"hoverinfo\": \"none\", \"text\": [\"2\"]}, {\"mode\": \"markers+text\", \"x\": [1.0], \"textposition\": \"middle center\", \"textfont\": {\"color\": \"rgb(0, 0, 0)\"}, \"marker\": {\"color\": \"rgb(255, 255, 255)\", \"line\": {\"color\": \"rgb(0, 0, 0)\", \"width\": 1}, \"size\": 20}, \"y\": [1.0], \"hoverinfo\": \"none\", \"text\": [\"3\"]}, {\"mode\": \"markers+text\", \"x\": [0.33], \"textposition\": \"middle center\", \"textfont\": {\"color\": \"rgb(0, 0, 0)\"}, \"marker\": {\"color\": \"rgb(255, 255, 255)\", \"line\": {\"color\": \"rgb(0, 0, 0)\", \"width\": 1}, \"size\": 20}, \"y\": [0.0], \"hoverinfo\": \"none\", \"text\": [\"4\"]}, {\"mode\": \"markers+text\", \"x\": [0.66], \"textposition\": \"middle center\", \"textfont\": {\"color\": \"rgb(0, 0, 0)\"}, \"marker\": {\"color\": \"rgb(255, 255, 255)\", \"line\": {\"color\": \"rgb(0, 0, 0)\", \"width\": 1}, \"size\": 20}, \"y\": [0.0], \"hoverinfo\": \"none\", \"text\": [\"5\"]}, {\"mode\": \"markers+text\", \"x\": [1.0], \"textposition\": \"middle center\", \"textfont\": {\"color\": \"rgb(0, 0, 0)\"}, \"marker\": {\"color\": \"rgb(255, 255, 255)\", \"line\": {\"color\": \"rgb(0, 0, 0)\", \"width\": 1}, \"size\": 20}, \"y\": [0.0], \"hoverinfo\": \"none\", \"text\": [\"6\"]}]}, {\"name\": 3, \"data\": [{\"mode\": \"lines\", \"line\": {\"color\": \"rgb(0, 0, 0)\", \"width\": 1}, \"y\": [0.5, 1.0, null, 0.9550095020335311, 0.8882926689752846, null, 0.9550095020335311, 0.9427605821595028, null], \"hoverinfo\": \"none\", \"x\": [0.0, 0.33, null, 0.3003062713421305, 0.2855225877733855, null, 0.3003062713421305, 0.2629725579755741, null]}, {\"mode\": \"lines\", \"line\": {\"color\": \"rgb(0, 0, 0)\", \"width\": 1}, \"y\": [0.5, 0.0, null, 0.04499049796646893, 0.0572394178404972, null, 0.04499049796646893, 0.11170733102471547, null], \"hoverinfo\": \"none\", \"x\": [0.0, 0.33, null, 0.3003062713421305, 0.2629725579755741, null, 0.3003062713421305, 0.2855225877733855, null]}, {\"mode\": \"lines\", \"line\": {\"color\": \"rgb(0, 0, 0)\", \"width\": 1}, \"y\": [1.0, 1.0, null, 1.0, 0.9652590189417244, null, 1.0, 1.0347409810582755, null], \"hoverinfo\": \"none\", \"x\": [0.33, 0.66, null, 0.6221212121212122, 0.5888794484132436, null, 0.6221212121212122, 0.5888794484132436, null]}, {\"mode\": \"lines\", \"line\": {\"color\": \"rgb(0, 0, 0)\", \"width\": 1}, \"y\": [1.0, 1.0, null, 1.0, 0.9652590189417244, null, 1.0, 1.0347409810582755, null], \"hoverinfo\": \"none\", \"x\": [0.66, 1.0, null, 0.9621212121212122, 0.9288794484132434, null, 0.9621212121212122, 0.9288794484132434, null]}, {\"mode\": \"lines\", \"line\": {\"color\": \"rgb(0, 0, 0)\", \"width\": 1}, \"y\": [1.0, 0.0, null, 0.06127490735002531, 0.13359437096827784, null, 0.06127490735002531, 0.09650302407543368, null], \"hoverinfo\": \"none\", \"x\": [0.66, 0.33, null, 0.35022071942550836, 0.3526100389194443, null, 0.35022071942550836, 0.3833221014449805, null]}, {\"mode\": \"lines\", \"line\": {\"color\": \"rgb(0, 0, 0)\", \"width\": 1}, \"y\": [1.0, 0.0, null, 0.06074471277448944, 0.13299554373343975, null, 0.06074471277448944, 0.09511088313140172, null], \"hoverinfo\": \"none\", \"x\": [1.0, 0.66, null, 0.6806532023433265, 0.6835549327328607, null, 0.6806532023433265, 0.7140012524011855, null]}, {\"mode\": \"lines\", \"line\": {\"color\": \"rgb(0, 0, 0)\", \"width\": 1}, \"y\": [0.0, 0.0, null, 0.0, -0.034740981058275576, null, 0.0, 0.034740981058275576, null], \"hoverinfo\": \"none\", \"x\": [0.33, 0.66, null, 0.6221212121212122, 0.5888794484132436, null, 0.6221212121212122, 0.5888794484132436, null]}, {\"mode\": \"lines\", \"line\": {\"color\": \"rgb(0, 0, 0)\", \"width\": 1}, \"y\": [0.0, 0.0, null, 0.0, -0.034740981058275576, null, 0.0, 0.034740981058275576, null], \"hoverinfo\": \"none\", \"x\": [0.66, 1.0, null, 0.9621212121212122, 0.9288794484132434, null, 0.9621212121212122, 0.9288794484132434, null]}, {\"mode\": \"markers+text\", \"x\": [0.0], \"textposition\": \"middle center\", \"textfont\": {\"color\": \"rgb(0, 0, 0)\"}, \"marker\": {\"color\": \"rgb(0, 255, 0)\", \"line\": {\"color\": \"rgb(0, 0, 0)\", \"width\": 1}, \"size\": 20}, \"y\": [0.5], \"hoverinfo\": \"none\", \"text\": [\"0\"]}, {\"mode\": \"markers+text\", \"x\": [0.33], \"textposition\": \"middle center\", \"textfont\": {\"color\": \"rgb(0, 0, 0)\"}, \"marker\": {\"color\": \"rgb(0, 255, 0)\", \"line\": {\"color\": \"rgb(0, 0, 0)\", \"width\": 1}, \"size\": 20}, \"y\": [1.0], \"hoverinfo\": \"none\", \"text\": [\"1\"]}, {\"mode\": \"markers+text\", \"x\": [0.66], \"textposition\": \"middle center\", \"textfont\": {\"color\": \"rgb(0, 0, 0)\"}, \"marker\": {\"color\": \"rgb(0, 255, 0)\", \"line\": {\"color\": \"rgb(0, 0, 0)\", \"width\": 1}, \"size\": 20}, \"y\": [1.0], \"hoverinfo\": \"none\", \"text\": [\"2\"]}, {\"mode\": \"markers+text\", \"x\": [1.0], \"textposition\": \"middle center\", \"textfont\": {\"color\": \"rgb(0, 0, 0)\"}, \"marker\": {\"color\": \"rgb(0, 255, 0)\", \"line\": {\"color\": \"rgb(0, 0, 0)\", \"width\": 1}, \"size\": 20}, \"y\": [1.0], \"hoverinfo\": \"none\", \"text\": [\"3\"]}, {\"mode\": \"markers+text\", \"x\": [0.33], \"textposition\": \"middle center\", \"textfont\": {\"color\": \"rgb(0, 0, 0)\"}, \"marker\": {\"color\": \"rgb(255, 255, 255)\", \"line\": {\"color\": \"rgb(0, 0, 0)\", \"width\": 1}, \"size\": 20}, \"y\": [0.0], \"hoverinfo\": \"none\", \"text\": [\"4\"]}, {\"mode\": \"markers+text\", \"x\": [0.66], \"textposition\": \"middle center\", \"textfont\": {\"color\": \"rgb(0, 0, 0)\"}, \"marker\": {\"color\": \"rgb(255, 255, 255)\", \"line\": {\"color\": \"rgb(0, 0, 0)\", \"width\": 1}, \"size\": 20}, \"y\": [0.0], \"hoverinfo\": \"none\", \"text\": [\"5\"]}, {\"mode\": \"markers+text\", \"x\": [1.0], \"textposition\": \"middle center\", \"textfont\": {\"color\": \"rgb(0, 0, 0)\"}, \"marker\": {\"color\": \"rgb(255, 255, 255)\", \"line\": {\"color\": \"rgb(0, 0, 0)\", \"width\": 1}, \"size\": 20}, \"y\": [0.0], \"hoverinfo\": \"none\", \"text\": [\"6\"]}]}, {\"name\": 4, \"data\": [{\"mode\": \"lines\", \"line\": {\"color\": \"rgb(0, 0, 0)\", \"width\": 1}, \"y\": [0.5, 1.0, null, 0.9550095020335311, 0.8882926689752846, null, 0.9550095020335311, 0.9427605821595028, null], \"hoverinfo\": \"none\", \"x\": [0.0, 0.33, null, 0.3003062713421305, 0.2855225877733855, null, 0.3003062713421305, 0.2629725579755741, null]}, {\"mode\": \"lines\", \"line\": {\"color\": \"rgb(0, 0, 0)\", \"width\": 1}, \"y\": [0.5, 0.0, null, 0.04499049796646893, 0.0572394178404972, null, 0.04499049796646893, 0.11170733102471547, null], \"hoverinfo\": \"none\", \"x\": [0.0, 0.33, null, 0.3003062713421305, 0.2629725579755741, null, 0.3003062713421305, 0.2855225877733855, null]}, {\"mode\": \"lines\", \"line\": {\"color\": \"rgb(0, 0, 0)\", \"width\": 1}, \"y\": [1.0, 1.0, null, 1.0, 0.9652590189417244, null, 1.0, 1.0347409810582755, null], \"hoverinfo\": \"none\", \"x\": [0.33, 0.66, null, 0.6221212121212122, 0.5888794484132436, null, 0.6221212121212122, 0.5888794484132436, null]}, {\"mode\": \"lines\", \"line\": {\"color\": \"rgb(0, 0, 0)\", \"width\": 1}, \"y\": [1.0, 1.0, null, 1.0, 0.9652590189417244, null, 1.0, 1.0347409810582755, null], \"hoverinfo\": \"none\", \"x\": [0.66, 1.0, null, 0.9621212121212122, 0.9288794484132434, null, 0.9621212121212122, 0.9288794484132434, null]}, {\"mode\": \"lines\", \"line\": {\"color\": \"rgb(0, 0, 0)\", \"width\": 1}, \"y\": [1.0, 0.0, null, 0.06127490735002531, 0.13359437096827784, null, 0.06127490735002531, 0.09650302407543368, null], \"hoverinfo\": \"none\", \"x\": [0.66, 0.33, null, 0.35022071942550836, 0.3526100389194443, null, 0.35022071942550836, 0.3833221014449805, null]}, {\"mode\": \"lines\", \"line\": {\"color\": \"rgb(0, 0, 0)\", \"width\": 1}, \"y\": [1.0, 0.0, null, 0.06074471277448944, 0.13299554373343975, null, 0.06074471277448944, 0.09511088313140172, null], \"hoverinfo\": \"none\", \"x\": [1.0, 0.66, null, 0.6806532023433265, 0.6835549327328607, null, 0.6806532023433265, 0.7140012524011855, null]}, {\"mode\": \"lines\", \"line\": {\"color\": \"rgb(0, 0, 0)\", \"width\": 1}, \"y\": [0.0, 0.0, null, 0.0, -0.034740981058275576, null, 0.0, 0.034740981058275576, null], \"hoverinfo\": \"none\", \"x\": [0.33, 0.66, null, 0.6221212121212122, 0.5888794484132436, null, 0.6221212121212122, 0.5888794484132436, null]}, {\"mode\": \"lines\", \"line\": {\"color\": \"rgb(0, 0, 0)\", \"width\": 1}, \"y\": [0.0, 0.0, null, 0.0, -0.034740981058275576, null, 0.0, 0.034740981058275576, null], \"hoverinfo\": \"none\", \"x\": [0.66, 1.0, null, 0.9621212121212122, 0.9288794484132434, null, 0.9621212121212122, 0.9288794484132434, null]}, {\"mode\": \"markers+text\", \"x\": [0.0], \"textposition\": \"middle center\", \"textfont\": {\"color\": \"rgb(0, 0, 0)\"}, \"marker\": {\"color\": \"rgb(0, 255, 0)\", \"line\": {\"color\": \"rgb(0, 0, 0)\", \"width\": 1}, \"size\": 20}, \"y\": [0.5], \"hoverinfo\": \"none\", \"text\": [\"0\"]}, {\"mode\": \"markers+text\", \"x\": [0.33], \"textposition\": \"middle center\", \"textfont\": {\"color\": \"rgb(0, 0, 0)\"}, \"marker\": {\"color\": \"rgb(0, 255, 0)\", \"line\": {\"color\": \"rgb(0, 0, 0)\", \"width\": 1}, \"size\": 20}, \"y\": [1.0], \"hoverinfo\": \"none\", \"text\": [\"1\"]}, {\"mode\": \"markers+text\", \"x\": [0.66], \"textposition\": \"middle center\", \"textfont\": {\"color\": \"rgb(0, 0, 0)\"}, \"marker\": {\"color\": \"rgb(0, 255, 0)\", \"line\": {\"color\": \"rgb(0, 0, 0)\", \"width\": 1}, \"size\": 20}, \"y\": [1.0], \"hoverinfo\": \"none\", \"text\": [\"2\"]}, {\"mode\": \"markers+text\", \"x\": [1.0], \"textposition\": \"middle center\", \"textfont\": {\"color\": \"rgb(0, 0, 0)\"}, \"marker\": {\"color\": \"rgb(0, 255, 0)\", \"line\": {\"color\": \"rgb(0, 0, 0)\", \"width\": 1}, \"size\": 20}, \"y\": [1.0], \"hoverinfo\": \"none\", \"text\": [\"3\"]}, {\"mode\": \"markers+text\", \"x\": [0.33], \"textposition\": \"middle center\", \"textfont\": {\"color\": \"rgb(0, 0, 0)\"}, \"marker\": {\"color\": \"rgb(0, 255, 0)\", \"line\": {\"color\": \"rgb(0, 0, 0)\", \"width\": 1}, \"size\": 20}, \"y\": [0.0], \"hoverinfo\": \"none\", \"text\": [\"4\"]}, {\"mode\": \"markers+text\", \"x\": [0.66], \"textposition\": \"middle center\", \"textfont\": {\"color\": \"rgb(0, 0, 0)\"}, \"marker\": {\"color\": \"rgb(255, 255, 255)\", \"line\": {\"color\": \"rgb(0, 0, 0)\", \"width\": 1}, \"size\": 20}, \"y\": [0.0], \"hoverinfo\": \"none\", \"text\": [\"5\"]}, {\"mode\": \"markers+text\", \"x\": [1.0], \"textposition\": \"middle center\", \"textfont\": {\"color\": \"rgb(0, 0, 0)\"}, \"marker\": {\"color\": \"rgb(255, 255, 255)\", \"line\": {\"color\": \"rgb(0, 0, 0)\", \"width\": 1}, \"size\": 20}, \"y\": [0.0], \"hoverinfo\": \"none\", \"text\": [\"6\"]}]}, {\"name\": 5, \"data\": [{\"mode\": \"lines\", \"line\": {\"color\": \"rgb(0, 0, 0)\", \"width\": 1}, \"y\": [0.5, 1.0, null, 0.9550095020335311, 0.8882926689752846, null, 0.9550095020335311, 0.9427605821595028, null], \"hoverinfo\": \"none\", \"x\": [0.0, 0.33, null, 0.3003062713421305, 0.2855225877733855, null, 0.3003062713421305, 0.2629725579755741, null]}, {\"mode\": \"lines\", \"line\": {\"color\": \"rgb(0, 0, 0)\", \"width\": 1}, \"y\": [0.5, 0.0, null, 0.04499049796646893, 0.0572394178404972, null, 0.04499049796646893, 0.11170733102471547, null], \"hoverinfo\": \"none\", \"x\": [0.0, 0.33, null, 0.3003062713421305, 0.2629725579755741, null, 0.3003062713421305, 0.2855225877733855, null]}, {\"mode\": \"lines\", \"line\": {\"color\": \"rgb(0, 0, 0)\", \"width\": 1}, \"y\": [1.0, 1.0, null, 1.0, 0.9652590189417244, null, 1.0, 1.0347409810582755, null], \"hoverinfo\": \"none\", \"x\": [0.33, 0.66, null, 0.6221212121212122, 0.5888794484132436, null, 0.6221212121212122, 0.5888794484132436, null]}, {\"mode\": \"lines\", \"line\": {\"color\": \"rgb(0, 0, 0)\", \"width\": 1}, \"y\": [1.0, 1.0, null, 1.0, 0.9652590189417244, null, 1.0, 1.0347409810582755, null], \"hoverinfo\": \"none\", \"x\": [0.66, 1.0, null, 0.9621212121212122, 0.9288794484132434, null, 0.9621212121212122, 0.9288794484132434, null]}, {\"mode\": \"lines\", \"line\": {\"color\": \"rgb(0, 0, 0)\", \"width\": 1}, \"y\": [1.0, 0.0, null, 0.06127490735002531, 0.13359437096827784, null, 0.06127490735002531, 0.09650302407543368, null], \"hoverinfo\": \"none\", \"x\": [0.66, 0.33, null, 0.35022071942550836, 0.3526100389194443, null, 0.35022071942550836, 0.3833221014449805, null]}, {\"mode\": \"lines\", \"line\": {\"color\": \"rgb(0, 0, 0)\", \"width\": 1}, \"y\": [1.0, 0.0, null, 0.06074471277448944, 0.13299554373343975, null, 0.06074471277448944, 0.09511088313140172, null], \"hoverinfo\": \"none\", \"x\": [1.0, 0.66, null, 0.6806532023433265, 0.6835549327328607, null, 0.6806532023433265, 0.7140012524011855, null]}, {\"mode\": \"lines\", \"line\": {\"color\": \"rgb(0, 0, 0)\", \"width\": 1}, \"y\": [0.0, 0.0, null, 0.0, -0.034740981058275576, null, 0.0, 0.034740981058275576, null], \"hoverinfo\": \"none\", \"x\": [0.33, 0.66, null, 0.6221212121212122, 0.5888794484132436, null, 0.6221212121212122, 0.5888794484132436, null]}, {\"mode\": \"lines\", \"line\": {\"color\": \"rgb(0, 0, 0)\", \"width\": 1}, \"y\": [0.0, 0.0, null, 0.0, -0.034740981058275576, null, 0.0, 0.034740981058275576, null], \"hoverinfo\": \"none\", \"x\": [0.66, 1.0, null, 0.9621212121212122, 0.9288794484132434, null, 0.9621212121212122, 0.9288794484132434, null]}, {\"mode\": \"markers+text\", \"x\": [0.0], \"textposition\": \"middle center\", \"textfont\": {\"color\": \"rgb(0, 0, 0)\"}, \"marker\": {\"color\": \"rgb(0, 255, 0)\", \"line\": {\"color\": \"rgb(0, 0, 0)\", \"width\": 1}, \"size\": 20}, \"y\": [0.5], \"hoverinfo\": \"none\", \"text\": [\"0\"]}, {\"mode\": \"markers+text\", \"x\": [0.33], \"textposition\": \"middle center\", \"textfont\": {\"color\": \"rgb(0, 0, 0)\"}, \"marker\": {\"color\": \"rgb(0, 255, 0)\", \"line\": {\"color\": \"rgb(0, 0, 0)\", \"width\": 1}, \"size\": 20}, \"y\": [1.0], \"hoverinfo\": \"none\", \"text\": [\"1\"]}, {\"mode\": \"markers+text\", \"x\": [0.66], \"textposition\": \"middle center\", \"textfont\": {\"color\": \"rgb(0, 0, 0)\"}, \"marker\": {\"color\": \"rgb(0, 255, 0)\", \"line\": {\"color\": \"rgb(0, 0, 0)\", \"width\": 1}, \"size\": 20}, \"y\": [1.0], \"hoverinfo\": \"none\", \"text\": [\"2\"]}, {\"mode\": \"markers+text\", \"x\": [1.0], \"textposition\": \"middle center\", \"textfont\": {\"color\": \"rgb(0, 0, 0)\"}, \"marker\": {\"color\": \"rgb(0, 255, 0)\", \"line\": {\"color\": \"rgb(0, 0, 0)\", \"width\": 1}, \"size\": 20}, \"y\": [1.0], \"hoverinfo\": \"none\", \"text\": [\"3\"]}, {\"mode\": \"markers+text\", \"x\": [0.33], \"textposition\": \"middle center\", \"textfont\": {\"color\": \"rgb(0, 0, 0)\"}, \"marker\": {\"color\": \"rgb(0, 255, 0)\", \"line\": {\"color\": \"rgb(0, 0, 0)\", \"width\": 1}, \"size\": 20}, \"y\": [0.0], \"hoverinfo\": \"none\", \"text\": [\"4\"]}, {\"mode\": \"markers+text\", \"x\": [0.66], \"textposition\": \"middle center\", \"textfont\": {\"color\": \"rgb(0, 0, 0)\"}, \"marker\": {\"color\": \"rgb(0, 255, 0)\", \"line\": {\"color\": \"rgb(0, 0, 0)\", \"width\": 1}, \"size\": 20}, \"y\": [0.0], \"hoverinfo\": \"none\", \"text\": [\"5\"]}, {\"mode\": \"markers+text\", \"x\": [1.0], \"textposition\": \"middle center\", \"textfont\": {\"color\": \"rgb(0, 0, 0)\"}, \"marker\": {\"color\": \"rgb(255, 255, 255)\", \"line\": {\"color\": \"rgb(0, 0, 0)\", \"width\": 1}, \"size\": 20}, \"y\": [0.0], \"hoverinfo\": \"none\", \"text\": [\"6\"]}]}, {\"name\": 6, \"data\": [{\"mode\": \"lines\", \"line\": {\"color\": \"rgb(0, 0, 0)\", \"width\": 1}, \"y\": [0.5, 1.0, null, 0.9550095020335311, 0.8882926689752846, null, 0.9550095020335311, 0.9427605821595028, null], \"hoverinfo\": \"none\", \"x\": [0.0, 0.33, null, 0.3003062713421305, 0.2855225877733855, null, 0.3003062713421305, 0.2629725579755741, null]}, {\"mode\": \"lines\", \"line\": {\"color\": \"rgb(0, 0, 0)\", \"width\": 1}, \"y\": [0.5, 0.0, null, 0.04499049796646893, 0.0572394178404972, null, 0.04499049796646893, 0.11170733102471547, null], \"hoverinfo\": \"none\", \"x\": [0.0, 0.33, null, 0.3003062713421305, 0.2629725579755741, null, 0.3003062713421305, 0.2855225877733855, null]}, {\"mode\": \"lines\", \"line\": {\"color\": \"rgb(0, 0, 0)\", \"width\": 1}, \"y\": [1.0, 1.0, null, 1.0, 0.9652590189417244, null, 1.0, 1.0347409810582755, null], \"hoverinfo\": \"none\", \"x\": [0.33, 0.66, null, 0.6221212121212122, 0.5888794484132436, null, 0.6221212121212122, 0.5888794484132436, null]}, {\"mode\": \"lines\", \"line\": {\"color\": \"rgb(0, 0, 0)\", \"width\": 1}, \"y\": [1.0, 1.0, null, 1.0, 0.9652590189417244, null, 1.0, 1.0347409810582755, null], \"hoverinfo\": \"none\", \"x\": [0.66, 1.0, null, 0.9621212121212122, 0.9288794484132434, null, 0.9621212121212122, 0.9288794484132434, null]}, {\"mode\": \"lines\", \"line\": {\"color\": \"rgb(0, 0, 0)\", \"width\": 1}, \"y\": [1.0, 0.0, null, 0.06127490735002531, 0.13359437096827784, null, 0.06127490735002531, 0.09650302407543368, null], \"hoverinfo\": \"none\", \"x\": [0.66, 0.33, null, 0.35022071942550836, 0.3526100389194443, null, 0.35022071942550836, 0.3833221014449805, null]}, {\"mode\": \"lines\", \"line\": {\"color\": \"rgb(0, 0, 0)\", \"width\": 1}, \"y\": [1.0, 0.0, null, 0.06074471277448944, 0.13299554373343975, null, 0.06074471277448944, 0.09511088313140172, null], \"hoverinfo\": \"none\", \"x\": [1.0, 0.66, null, 0.6806532023433265, 0.6835549327328607, null, 0.6806532023433265, 0.7140012524011855, null]}, {\"mode\": \"lines\", \"line\": {\"color\": \"rgb(0, 0, 0)\", \"width\": 1}, \"y\": [0.0, 0.0, null, 0.0, -0.034740981058275576, null, 0.0, 0.034740981058275576, null], \"hoverinfo\": \"none\", \"x\": [0.33, 0.66, null, 0.6221212121212122, 0.5888794484132436, null, 0.6221212121212122, 0.5888794484132436, null]}, {\"mode\": \"lines\", \"line\": {\"color\": \"rgb(0, 0, 0)\", \"width\": 1}, \"y\": [0.0, 0.0, null, 0.0, -0.034740981058275576, null, 0.0, 0.034740981058275576, null], \"hoverinfo\": \"none\", \"x\": [0.66, 1.0, null, 0.9621212121212122, 0.9288794484132434, null, 0.9621212121212122, 0.9288794484132434, null]}, {\"mode\": \"markers+text\", \"x\": [0.0], \"textposition\": \"middle center\", \"textfont\": {\"color\": \"rgb(0, 0, 0)\"}, \"marker\": {\"color\": \"rgb(0, 255, 0)\", \"line\": {\"color\": \"rgb(0, 0, 0)\", \"width\": 1}, \"size\": 20}, \"y\": [0.5], \"hoverinfo\": \"none\", \"text\": [\"0\"]}, {\"mode\": \"markers+text\", \"x\": [0.33], \"textposition\": \"middle center\", \"textfont\": {\"color\": \"rgb(0, 0, 0)\"}, \"marker\": {\"color\": \"rgb(0, 255, 0)\", \"line\": {\"color\": \"rgb(0, 0, 0)\", \"width\": 1}, \"size\": 20}, \"y\": [1.0], \"hoverinfo\": \"none\", \"text\": [\"1\"]}, {\"mode\": \"markers+text\", \"x\": [0.66], \"textposition\": \"middle center\", \"textfont\": {\"color\": \"rgb(0, 0, 0)\"}, \"marker\": {\"color\": \"rgb(0, 255, 0)\", \"line\": {\"color\": \"rgb(0, 0, 0)\", \"width\": 1}, \"size\": 20}, \"y\": [1.0], \"hoverinfo\": \"none\", \"text\": [\"2\"]}, {\"mode\": \"markers+text\", \"x\": [1.0], \"textposition\": \"middle center\", \"textfont\": {\"color\": \"rgb(0, 0, 0)\"}, \"marker\": {\"color\": \"rgb(0, 255, 0)\", \"line\": {\"color\": \"rgb(0, 0, 0)\", \"width\": 1}, \"size\": 20}, \"y\": [1.0], \"hoverinfo\": \"none\", \"text\": [\"3\"]}, {\"mode\": \"markers+text\", \"x\": [0.33], \"textposition\": \"middle center\", \"textfont\": {\"color\": \"rgb(0, 0, 0)\"}, \"marker\": {\"color\": \"rgb(0, 255, 0)\", \"line\": {\"color\": \"rgb(0, 0, 0)\", \"width\": 1}, \"size\": 20}, \"y\": [0.0], \"hoverinfo\": \"none\", \"text\": [\"4\"]}, {\"mode\": \"markers+text\", \"x\": [0.66], \"textposition\": \"middle center\", \"textfont\": {\"color\": \"rgb(0, 0, 0)\"}, \"marker\": {\"color\": \"rgb(0, 255, 0)\", \"line\": {\"color\": \"rgb(0, 0, 0)\", \"width\": 1}, \"size\": 20}, \"y\": [0.0], \"hoverinfo\": \"none\", \"text\": [\"5\"]}, {\"mode\": \"markers+text\", \"x\": [1.0], \"textposition\": \"middle center\", \"textfont\": {\"color\": \"rgb(0, 0, 0)\"}, \"marker\": {\"color\": \"rgb(0, 255, 0)\", \"line\": {\"color\": \"rgb(0, 0, 0)\", \"width\": 1}, \"size\": 20}, \"y\": [0.0], \"hoverinfo\": \"none\", \"text\": [\"6\"]}]}]);}).then(function(){Plotly.animate('91f59117-6aba-46c0-8ab3-dd18bcea7fc5');})\n",
       "        });</script>"
      ],
      "text/vnd.plotly.v1+html": [
       "<div id=\"91f59117-6aba-46c0-8ab3-dd18bcea7fc5\" style=\"height: 256.0px; width: 408.0px;\" class=\"plotly-graph-div\"></div><script type=\"text/javascript\">require([\"plotly\"], function(Plotly) { window.PLOTLYENV=window.PLOTLYENV || {};window.PLOTLYENV.BASE_URL=\"https://plot.ly\";\n",
       "        Plotly.plot(\n",
       "            '91f59117-6aba-46c0-8ab3-dd18bcea7fc5',\n",
       "            [{\"mode\": \"lines\", \"line\": {\"color\": \"rgb(0, 0, 0)\", \"width\": 1}, \"y\": [0.5, 1.0, null, 0.9550095020335311, 0.8882926689752846, null, 0.9550095020335311, 0.9427605821595028, null], \"hoverinfo\": \"none\", \"x\": [0.0, 0.33, null, 0.3003062713421305, 0.2855225877733855, null, 0.3003062713421305, 0.2629725579755741, null]}, {\"mode\": \"lines\", \"line\": {\"color\": \"rgb(0, 0, 0)\", \"width\": 1}, \"y\": [0.5, 0.0, null, 0.04499049796646893, 0.0572394178404972, null, 0.04499049796646893, 0.11170733102471547, null], \"hoverinfo\": \"none\", \"x\": [0.0, 0.33, null, 0.3003062713421305, 0.2629725579755741, null, 0.3003062713421305, 0.2855225877733855, null]}, {\"mode\": \"lines\", \"line\": {\"color\": \"rgb(0, 0, 0)\", \"width\": 1}, \"y\": [1.0, 1.0, null, 1.0, 0.9652590189417244, null, 1.0, 1.0347409810582755, null], \"hoverinfo\": \"none\", \"x\": [0.33, 0.66, null, 0.6221212121212122, 0.5888794484132436, null, 0.6221212121212122, 0.5888794484132436, null]}, {\"mode\": \"lines\", \"line\": {\"color\": \"rgb(0, 0, 0)\", \"width\": 1}, \"y\": [1.0, 1.0, null, 1.0, 0.9652590189417244, null, 1.0, 1.0347409810582755, null], \"hoverinfo\": \"none\", \"x\": [0.66, 1.0, null, 0.9621212121212122, 0.9288794484132434, null, 0.9621212121212122, 0.9288794484132434, null]}, {\"mode\": \"lines\", \"line\": {\"color\": \"rgb(0, 0, 0)\", \"width\": 1}, \"y\": [1.0, 0.0, null, 0.06127490735002531, 0.13359437096827784, null, 0.06127490735002531, 0.09650302407543368, null], \"hoverinfo\": \"none\", \"x\": [0.66, 0.33, null, 0.35022071942550836, 0.3526100389194443, null, 0.35022071942550836, 0.3833221014449805, null]}, {\"mode\": \"lines\", \"line\": {\"color\": \"rgb(0, 0, 0)\", \"width\": 1}, \"y\": [1.0, 0.0, null, 0.06074471277448944, 0.13299554373343975, null, 0.06074471277448944, 0.09511088313140172, null], \"hoverinfo\": \"none\", \"x\": [1.0, 0.66, null, 0.6806532023433265, 0.6835549327328607, null, 0.6806532023433265, 0.7140012524011855, null]}, {\"mode\": \"lines\", \"line\": {\"color\": \"rgb(0, 0, 0)\", \"width\": 1}, \"y\": [0.0, 0.0, null, 0.0, -0.034740981058275576, null, 0.0, 0.034740981058275576, null], \"hoverinfo\": \"none\", \"x\": [0.33, 0.66, null, 0.6221212121212122, 0.5888794484132436, null, 0.6221212121212122, 0.5888794484132436, null]}, {\"mode\": \"lines\", \"line\": {\"color\": \"rgb(0, 0, 0)\", \"width\": 1}, \"y\": [0.0, 0.0, null, 0.0, -0.034740981058275576, null, 0.0, 0.034740981058275576, null], \"hoverinfo\": \"none\", \"x\": [0.66, 1.0, null, 0.9621212121212122, 0.9288794484132434, null, 0.9621212121212122, 0.9288794484132434, null]}, {\"mode\": \"markers+text\", \"x\": [0.0], \"textposition\": \"middle center\", \"textfont\": {\"color\": \"rgb(0, 0, 0)\"}, \"marker\": {\"color\": \"rgb(0, 255, 0)\", \"line\": {\"color\": \"rgb(0, 0, 0)\", \"width\": 1}, \"size\": 20}, \"y\": [0.5], \"hoverinfo\": \"none\", \"text\": [\"0\"]}, {\"mode\": \"markers+text\", \"x\": [0.33], \"textposition\": \"middle center\", \"textfont\": {\"color\": \"rgb(0, 0, 0)\"}, \"marker\": {\"color\": \"rgb(255, 255, 255)\", \"line\": {\"color\": \"rgb(0, 0, 0)\", \"width\": 1}, \"size\": 20}, \"y\": [1.0], \"hoverinfo\": \"none\", \"text\": [\"1\"]}, {\"mode\": \"markers+text\", \"x\": [0.66], \"textposition\": \"middle center\", \"textfont\": {\"color\": \"rgb(0, 0, 0)\"}, \"marker\": {\"color\": \"rgb(255, 255, 255)\", \"line\": {\"color\": \"rgb(0, 0, 0)\", \"width\": 1}, \"size\": 20}, \"y\": [1.0], \"hoverinfo\": \"none\", \"text\": [\"2\"]}, {\"mode\": \"markers+text\", \"x\": [1.0], \"textposition\": \"middle center\", \"textfont\": {\"color\": \"rgb(0, 0, 0)\"}, \"marker\": {\"color\": \"rgb(255, 255, 255)\", \"line\": {\"color\": \"rgb(0, 0, 0)\", \"width\": 1}, \"size\": 20}, \"y\": [1.0], \"hoverinfo\": \"none\", \"text\": [\"3\"]}, {\"mode\": \"markers+text\", \"x\": [0.33], \"textposition\": \"middle center\", \"textfont\": {\"color\": \"rgb(0, 0, 0)\"}, \"marker\": {\"color\": \"rgb(255, 255, 255)\", \"line\": {\"color\": \"rgb(0, 0, 0)\", \"width\": 1}, \"size\": 20}, \"y\": [0.0], \"hoverinfo\": \"none\", \"text\": [\"4\"]}, {\"mode\": \"markers+text\", \"x\": [0.66], \"textposition\": \"middle center\", \"textfont\": {\"color\": \"rgb(0, 0, 0)\"}, \"marker\": {\"color\": \"rgb(255, 255, 255)\", \"line\": {\"color\": \"rgb(0, 0, 0)\", \"width\": 1}, \"size\": 20}, \"y\": [0.0], \"hoverinfo\": \"none\", \"text\": [\"5\"]}, {\"mode\": \"markers+text\", \"x\": [1.0], \"textposition\": \"middle center\", \"textfont\": {\"color\": \"rgb(0, 0, 0)\"}, \"marker\": {\"color\": \"rgb(255, 255, 255)\", \"line\": {\"color\": \"rgb(0, 0, 0)\", \"width\": 1}, \"size\": 20}, \"y\": [0.0], \"hoverinfo\": \"none\", \"text\": [\"6\"]}],\n",
       "            {\"margin\": {\"r\": 0, \"b\": 0, \"t\": 0, \"l\": 0}, \"showlegend\": false, \"updatemenus\": [{\"buttons\": [{\"args\": [null, {\"fromcurrent\": true, \"frame\": {\"redraw\": false}}], \"method\": \"animate\", \"label\": \"Play\"}, {\"args\": [[null], {\"mode\": \"immediate\", \"frame\": {\"redraw\": false}}], \"method\": \"animate\", \"label\": \"Pause\"}], \"showactive\": true, \"type\": \"buttons\"}], \"xaxis\": {\"showticklabels\": false, \"showgrid\": false, \"zeroline\": false}, \"height\": 256.0, \"sliders\": [{\"currentvalue\": {\"visible\": false}, \"steps\": [{\"args\": [[0], {\"mode\": \"immediate\", \"frame\": {\"redraw\": false}}], \"method\": \"animate\", \"label\": \"\"}, {\"args\": [[1], {\"mode\": \"immediate\", \"frame\": {\"redraw\": false}}], \"method\": \"animate\", \"label\": \"\"}, {\"args\": [[2], {\"mode\": \"immediate\", \"frame\": {\"redraw\": false}}], \"method\": \"animate\", \"label\": \"\"}, {\"args\": [[3], {\"mode\": \"immediate\", \"frame\": {\"redraw\": false}}], \"method\": \"animate\", \"label\": \"\"}, {\"args\": [[4], {\"mode\": \"immediate\", \"frame\": {\"redraw\": false}}], \"method\": \"animate\", \"label\": \"\"}, {\"args\": [[5], {\"mode\": \"immediate\", \"frame\": {\"redraw\": false}}], \"method\": \"animate\", \"label\": \"\"}, {\"args\": [[6], {\"mode\": \"immediate\", \"frame\": {\"redraw\": false}}], \"method\": \"animate\", \"label\": \"\"}]}], \"width\": 408.0, \"yaxis\": {\"showticklabels\": false, \"showgrid\": false, \"zeroline\": false}},\n",
       "            {\"linkText\": \"Export to plot.ly\", \"displayModeBar\": false, \"showLink\": false}\n",
       "        ).then(function () {return Plotly.addFrames('91f59117-6aba-46c0-8ab3-dd18bcea7fc5',[{\"name\": 0, \"data\": [{\"mode\": \"lines\", \"line\": {\"color\": \"rgb(0, 0, 0)\", \"width\": 1}, \"y\": [0.5, 1.0, null, 0.9550095020335311, 0.8882926689752846, null, 0.9550095020335311, 0.9427605821595028, null], \"hoverinfo\": \"none\", \"x\": [0.0, 0.33, null, 0.3003062713421305, 0.2855225877733855, null, 0.3003062713421305, 0.2629725579755741, null]}, {\"mode\": \"lines\", \"line\": {\"color\": \"rgb(0, 0, 0)\", \"width\": 1}, \"y\": [0.5, 0.0, null, 0.04499049796646893, 0.0572394178404972, null, 0.04499049796646893, 0.11170733102471547, null], \"hoverinfo\": \"none\", \"x\": [0.0, 0.33, null, 0.3003062713421305, 0.2629725579755741, null, 0.3003062713421305, 0.2855225877733855, null]}, {\"mode\": \"lines\", \"line\": {\"color\": \"rgb(0, 0, 0)\", \"width\": 1}, \"y\": [1.0, 1.0, null, 1.0, 0.9652590189417244, null, 1.0, 1.0347409810582755, null], \"hoverinfo\": \"none\", \"x\": [0.33, 0.66, null, 0.6221212121212122, 0.5888794484132436, null, 0.6221212121212122, 0.5888794484132436, null]}, {\"mode\": \"lines\", \"line\": {\"color\": \"rgb(0, 0, 0)\", \"width\": 1}, \"y\": [1.0, 1.0, null, 1.0, 0.9652590189417244, null, 1.0, 1.0347409810582755, null], \"hoverinfo\": \"none\", \"x\": [0.66, 1.0, null, 0.9621212121212122, 0.9288794484132434, null, 0.9621212121212122, 0.9288794484132434, null]}, {\"mode\": \"lines\", \"line\": {\"color\": \"rgb(0, 0, 0)\", \"width\": 1}, \"y\": [1.0, 0.0, null, 0.06127490735002531, 0.13359437096827784, null, 0.06127490735002531, 0.09650302407543368, null], \"hoverinfo\": \"none\", \"x\": [0.66, 0.33, null, 0.35022071942550836, 0.3526100389194443, null, 0.35022071942550836, 0.3833221014449805, null]}, {\"mode\": \"lines\", \"line\": {\"color\": \"rgb(0, 0, 0)\", \"width\": 1}, \"y\": [1.0, 0.0, null, 0.06074471277448944, 0.13299554373343975, null, 0.06074471277448944, 0.09511088313140172, null], \"hoverinfo\": \"none\", \"x\": [1.0, 0.66, null, 0.6806532023433265, 0.6835549327328607, null, 0.6806532023433265, 0.7140012524011855, null]}, {\"mode\": \"lines\", \"line\": {\"color\": \"rgb(0, 0, 0)\", \"width\": 1}, \"y\": [0.0, 0.0, null, 0.0, -0.034740981058275576, null, 0.0, 0.034740981058275576, null], \"hoverinfo\": \"none\", \"x\": [0.33, 0.66, null, 0.6221212121212122, 0.5888794484132436, null, 0.6221212121212122, 0.5888794484132436, null]}, {\"mode\": \"lines\", \"line\": {\"color\": \"rgb(0, 0, 0)\", \"width\": 1}, \"y\": [0.0, 0.0, null, 0.0, -0.034740981058275576, null, 0.0, 0.034740981058275576, null], \"hoverinfo\": \"none\", \"x\": [0.66, 1.0, null, 0.9621212121212122, 0.9288794484132434, null, 0.9621212121212122, 0.9288794484132434, null]}, {\"mode\": \"markers+text\", \"x\": [0.0], \"textposition\": \"middle center\", \"textfont\": {\"color\": \"rgb(0, 0, 0)\"}, \"marker\": {\"color\": \"rgb(0, 255, 0)\", \"line\": {\"color\": \"rgb(0, 0, 0)\", \"width\": 1}, \"size\": 20}, \"y\": [0.5], \"hoverinfo\": \"none\", \"text\": [\"0\"]}, {\"mode\": \"markers+text\", \"x\": [0.33], \"textposition\": \"middle center\", \"textfont\": {\"color\": \"rgb(0, 0, 0)\"}, \"marker\": {\"color\": \"rgb(255, 255, 255)\", \"line\": {\"color\": \"rgb(0, 0, 0)\", \"width\": 1}, \"size\": 20}, \"y\": [1.0], \"hoverinfo\": \"none\", \"text\": [\"1\"]}, {\"mode\": \"markers+text\", \"x\": [0.66], \"textposition\": \"middle center\", \"textfont\": {\"color\": \"rgb(0, 0, 0)\"}, \"marker\": {\"color\": \"rgb(255, 255, 255)\", \"line\": {\"color\": \"rgb(0, 0, 0)\", \"width\": 1}, \"size\": 20}, \"y\": [1.0], \"hoverinfo\": \"none\", \"text\": [\"2\"]}, {\"mode\": \"markers+text\", \"x\": [1.0], \"textposition\": \"middle center\", \"textfont\": {\"color\": \"rgb(0, 0, 0)\"}, \"marker\": {\"color\": \"rgb(255, 255, 255)\", \"line\": {\"color\": \"rgb(0, 0, 0)\", \"width\": 1}, \"size\": 20}, \"y\": [1.0], \"hoverinfo\": \"none\", \"text\": [\"3\"]}, {\"mode\": \"markers+text\", \"x\": [0.33], \"textposition\": \"middle center\", \"textfont\": {\"color\": \"rgb(0, 0, 0)\"}, \"marker\": {\"color\": \"rgb(255, 255, 255)\", \"line\": {\"color\": \"rgb(0, 0, 0)\", \"width\": 1}, \"size\": 20}, \"y\": [0.0], \"hoverinfo\": \"none\", \"text\": [\"4\"]}, {\"mode\": \"markers+text\", \"x\": [0.66], \"textposition\": \"middle center\", \"textfont\": {\"color\": \"rgb(0, 0, 0)\"}, \"marker\": {\"color\": \"rgb(255, 255, 255)\", \"line\": {\"color\": \"rgb(0, 0, 0)\", \"width\": 1}, \"size\": 20}, \"y\": [0.0], \"hoverinfo\": \"none\", \"text\": [\"5\"]}, {\"mode\": \"markers+text\", \"x\": [1.0], \"textposition\": \"middle center\", \"textfont\": {\"color\": \"rgb(0, 0, 0)\"}, \"marker\": {\"color\": \"rgb(255, 255, 255)\", \"line\": {\"color\": \"rgb(0, 0, 0)\", \"width\": 1}, \"size\": 20}, \"y\": [0.0], \"hoverinfo\": \"none\", \"text\": [\"6\"]}]}, {\"name\": 1, \"data\": [{\"mode\": \"lines\", \"line\": {\"color\": \"rgb(0, 0, 0)\", \"width\": 1}, \"y\": [0.5, 1.0, null, 0.9550095020335311, 0.8882926689752846, null, 0.9550095020335311, 0.9427605821595028, null], \"hoverinfo\": \"none\", \"x\": [0.0, 0.33, null, 0.3003062713421305, 0.2855225877733855, null, 0.3003062713421305, 0.2629725579755741, null]}, {\"mode\": \"lines\", \"line\": {\"color\": \"rgb(0, 0, 0)\", \"width\": 1}, \"y\": [0.5, 0.0, null, 0.04499049796646893, 0.0572394178404972, null, 0.04499049796646893, 0.11170733102471547, null], \"hoverinfo\": \"none\", \"x\": [0.0, 0.33, null, 0.3003062713421305, 0.2629725579755741, null, 0.3003062713421305, 0.2855225877733855, null]}, {\"mode\": \"lines\", \"line\": {\"color\": \"rgb(0, 0, 0)\", \"width\": 1}, \"y\": [1.0, 1.0, null, 1.0, 0.9652590189417244, null, 1.0, 1.0347409810582755, null], \"hoverinfo\": \"none\", \"x\": [0.33, 0.66, null, 0.6221212121212122, 0.5888794484132436, null, 0.6221212121212122, 0.5888794484132436, null]}, {\"mode\": \"lines\", \"line\": {\"color\": \"rgb(0, 0, 0)\", \"width\": 1}, \"y\": [1.0, 1.0, null, 1.0, 0.9652590189417244, null, 1.0, 1.0347409810582755, null], \"hoverinfo\": \"none\", \"x\": [0.66, 1.0, null, 0.9621212121212122, 0.9288794484132434, null, 0.9621212121212122, 0.9288794484132434, null]}, {\"mode\": \"lines\", \"line\": {\"color\": \"rgb(0, 0, 0)\", \"width\": 1}, \"y\": [1.0, 0.0, null, 0.06127490735002531, 0.13359437096827784, null, 0.06127490735002531, 0.09650302407543368, null], \"hoverinfo\": \"none\", \"x\": [0.66, 0.33, null, 0.35022071942550836, 0.3526100389194443, null, 0.35022071942550836, 0.3833221014449805, null]}, {\"mode\": \"lines\", \"line\": {\"color\": \"rgb(0, 0, 0)\", \"width\": 1}, \"y\": [1.0, 0.0, null, 0.06074471277448944, 0.13299554373343975, null, 0.06074471277448944, 0.09511088313140172, null], \"hoverinfo\": \"none\", \"x\": [1.0, 0.66, null, 0.6806532023433265, 0.6835549327328607, null, 0.6806532023433265, 0.7140012524011855, null]}, {\"mode\": \"lines\", \"line\": {\"color\": \"rgb(0, 0, 0)\", \"width\": 1}, \"y\": [0.0, 0.0, null, 0.0, -0.034740981058275576, null, 0.0, 0.034740981058275576, null], \"hoverinfo\": \"none\", \"x\": [0.33, 0.66, null, 0.6221212121212122, 0.5888794484132436, null, 0.6221212121212122, 0.5888794484132436, null]}, {\"mode\": \"lines\", \"line\": {\"color\": \"rgb(0, 0, 0)\", \"width\": 1}, \"y\": [0.0, 0.0, null, 0.0, -0.034740981058275576, null, 0.0, 0.034740981058275576, null], \"hoverinfo\": \"none\", \"x\": [0.66, 1.0, null, 0.9621212121212122, 0.9288794484132434, null, 0.9621212121212122, 0.9288794484132434, null]}, {\"mode\": \"markers+text\", \"x\": [0.0], \"textposition\": \"middle center\", \"textfont\": {\"color\": \"rgb(0, 0, 0)\"}, \"marker\": {\"color\": \"rgb(0, 255, 0)\", \"line\": {\"color\": \"rgb(0, 0, 0)\", \"width\": 1}, \"size\": 20}, \"y\": [0.5], \"hoverinfo\": \"none\", \"text\": [\"0\"]}, {\"mode\": \"markers+text\", \"x\": [0.33], \"textposition\": \"middle center\", \"textfont\": {\"color\": \"rgb(0, 0, 0)\"}, \"marker\": {\"color\": \"rgb(0, 255, 0)\", \"line\": {\"color\": \"rgb(0, 0, 0)\", \"width\": 1}, \"size\": 20}, \"y\": [1.0], \"hoverinfo\": \"none\", \"text\": [\"1\"]}, {\"mode\": \"markers+text\", \"x\": [0.66], \"textposition\": \"middle center\", \"textfont\": {\"color\": \"rgb(0, 0, 0)\"}, \"marker\": {\"color\": \"rgb(255, 255, 255)\", \"line\": {\"color\": \"rgb(0, 0, 0)\", \"width\": 1}, \"size\": 20}, \"y\": [1.0], \"hoverinfo\": \"none\", \"text\": [\"2\"]}, {\"mode\": \"markers+text\", \"x\": [1.0], \"textposition\": \"middle center\", \"textfont\": {\"color\": \"rgb(0, 0, 0)\"}, \"marker\": {\"color\": \"rgb(255, 255, 255)\", \"line\": {\"color\": \"rgb(0, 0, 0)\", \"width\": 1}, \"size\": 20}, \"y\": [1.0], \"hoverinfo\": \"none\", \"text\": [\"3\"]}, {\"mode\": \"markers+text\", \"x\": [0.33], \"textposition\": \"middle center\", \"textfont\": {\"color\": \"rgb(0, 0, 0)\"}, \"marker\": {\"color\": \"rgb(255, 255, 255)\", \"line\": {\"color\": \"rgb(0, 0, 0)\", \"width\": 1}, \"size\": 20}, \"y\": [0.0], \"hoverinfo\": \"none\", \"text\": [\"4\"]}, {\"mode\": \"markers+text\", \"x\": [0.66], \"textposition\": \"middle center\", \"textfont\": {\"color\": \"rgb(0, 0, 0)\"}, \"marker\": {\"color\": \"rgb(255, 255, 255)\", \"line\": {\"color\": \"rgb(0, 0, 0)\", \"width\": 1}, \"size\": 20}, \"y\": [0.0], \"hoverinfo\": \"none\", \"text\": [\"5\"]}, {\"mode\": \"markers+text\", \"x\": [1.0], \"textposition\": \"middle center\", \"textfont\": {\"color\": \"rgb(0, 0, 0)\"}, \"marker\": {\"color\": \"rgb(255, 255, 255)\", \"line\": {\"color\": \"rgb(0, 0, 0)\", \"width\": 1}, \"size\": 20}, \"y\": [0.0], \"hoverinfo\": \"none\", \"text\": [\"6\"]}]}, {\"name\": 2, \"data\": [{\"mode\": \"lines\", \"line\": {\"color\": \"rgb(0, 0, 0)\", \"width\": 1}, \"y\": [0.5, 1.0, null, 0.9550095020335311, 0.8882926689752846, null, 0.9550095020335311, 0.9427605821595028, null], \"hoverinfo\": \"none\", \"x\": [0.0, 0.33, null, 0.3003062713421305, 0.2855225877733855, null, 0.3003062713421305, 0.2629725579755741, null]}, {\"mode\": \"lines\", \"line\": {\"color\": \"rgb(0, 0, 0)\", \"width\": 1}, \"y\": [0.5, 0.0, null, 0.04499049796646893, 0.0572394178404972, null, 0.04499049796646893, 0.11170733102471547, null], \"hoverinfo\": \"none\", \"x\": [0.0, 0.33, null, 0.3003062713421305, 0.2629725579755741, null, 0.3003062713421305, 0.2855225877733855, null]}, {\"mode\": \"lines\", \"line\": {\"color\": \"rgb(0, 0, 0)\", \"width\": 1}, \"y\": [1.0, 1.0, null, 1.0, 0.9652590189417244, null, 1.0, 1.0347409810582755, null], \"hoverinfo\": \"none\", \"x\": [0.33, 0.66, null, 0.6221212121212122, 0.5888794484132436, null, 0.6221212121212122, 0.5888794484132436, null]}, {\"mode\": \"lines\", \"line\": {\"color\": \"rgb(0, 0, 0)\", \"width\": 1}, \"y\": [1.0, 1.0, null, 1.0, 0.9652590189417244, null, 1.0, 1.0347409810582755, null], \"hoverinfo\": \"none\", \"x\": [0.66, 1.0, null, 0.9621212121212122, 0.9288794484132434, null, 0.9621212121212122, 0.9288794484132434, null]}, {\"mode\": \"lines\", \"line\": {\"color\": \"rgb(0, 0, 0)\", \"width\": 1}, \"y\": [1.0, 0.0, null, 0.06127490735002531, 0.13359437096827784, null, 0.06127490735002531, 0.09650302407543368, null], \"hoverinfo\": \"none\", \"x\": [0.66, 0.33, null, 0.35022071942550836, 0.3526100389194443, null, 0.35022071942550836, 0.3833221014449805, null]}, {\"mode\": \"lines\", \"line\": {\"color\": \"rgb(0, 0, 0)\", \"width\": 1}, \"y\": [1.0, 0.0, null, 0.06074471277448944, 0.13299554373343975, null, 0.06074471277448944, 0.09511088313140172, null], \"hoverinfo\": \"none\", \"x\": [1.0, 0.66, null, 0.6806532023433265, 0.6835549327328607, null, 0.6806532023433265, 0.7140012524011855, null]}, {\"mode\": \"lines\", \"line\": {\"color\": \"rgb(0, 0, 0)\", \"width\": 1}, \"y\": [0.0, 0.0, null, 0.0, -0.034740981058275576, null, 0.0, 0.034740981058275576, null], \"hoverinfo\": \"none\", \"x\": [0.33, 0.66, null, 0.6221212121212122, 0.5888794484132436, null, 0.6221212121212122, 0.5888794484132436, null]}, {\"mode\": \"lines\", \"line\": {\"color\": \"rgb(0, 0, 0)\", \"width\": 1}, \"y\": [0.0, 0.0, null, 0.0, -0.034740981058275576, null, 0.0, 0.034740981058275576, null], \"hoverinfo\": \"none\", \"x\": [0.66, 1.0, null, 0.9621212121212122, 0.9288794484132434, null, 0.9621212121212122, 0.9288794484132434, null]}, {\"mode\": \"markers+text\", \"x\": [0.0], \"textposition\": \"middle center\", \"textfont\": {\"color\": \"rgb(0, 0, 0)\"}, \"marker\": {\"color\": \"rgb(0, 255, 0)\", \"line\": {\"color\": \"rgb(0, 0, 0)\", \"width\": 1}, \"size\": 20}, \"y\": [0.5], \"hoverinfo\": \"none\", \"text\": [\"0\"]}, {\"mode\": \"markers+text\", \"x\": [0.33], \"textposition\": \"middle center\", \"textfont\": {\"color\": \"rgb(0, 0, 0)\"}, \"marker\": {\"color\": \"rgb(0, 255, 0)\", \"line\": {\"color\": \"rgb(0, 0, 0)\", \"width\": 1}, \"size\": 20}, \"y\": [1.0], \"hoverinfo\": \"none\", \"text\": [\"1\"]}, {\"mode\": \"markers+text\", \"x\": [0.66], \"textposition\": \"middle center\", \"textfont\": {\"color\": \"rgb(0, 0, 0)\"}, \"marker\": {\"color\": \"rgb(0, 255, 0)\", \"line\": {\"color\": \"rgb(0, 0, 0)\", \"width\": 1}, \"size\": 20}, \"y\": [1.0], \"hoverinfo\": \"none\", \"text\": [\"2\"]}, {\"mode\": \"markers+text\", \"x\": [1.0], \"textposition\": \"middle center\", \"textfont\": {\"color\": \"rgb(0, 0, 0)\"}, \"marker\": {\"color\": \"rgb(255, 255, 255)\", \"line\": {\"color\": \"rgb(0, 0, 0)\", \"width\": 1}, \"size\": 20}, \"y\": [1.0], \"hoverinfo\": \"none\", \"text\": [\"3\"]}, {\"mode\": \"markers+text\", \"x\": [0.33], \"textposition\": \"middle center\", \"textfont\": {\"color\": \"rgb(0, 0, 0)\"}, \"marker\": {\"color\": \"rgb(255, 255, 255)\", \"line\": {\"color\": \"rgb(0, 0, 0)\", \"width\": 1}, \"size\": 20}, \"y\": [0.0], \"hoverinfo\": \"none\", \"text\": [\"4\"]}, {\"mode\": \"markers+text\", \"x\": [0.66], \"textposition\": \"middle center\", \"textfont\": {\"color\": \"rgb(0, 0, 0)\"}, \"marker\": {\"color\": \"rgb(255, 255, 255)\", \"line\": {\"color\": \"rgb(0, 0, 0)\", \"width\": 1}, \"size\": 20}, \"y\": [0.0], \"hoverinfo\": \"none\", \"text\": [\"5\"]}, {\"mode\": \"markers+text\", \"x\": [1.0], \"textposition\": \"middle center\", \"textfont\": {\"color\": \"rgb(0, 0, 0)\"}, \"marker\": {\"color\": \"rgb(255, 255, 255)\", \"line\": {\"color\": \"rgb(0, 0, 0)\", \"width\": 1}, \"size\": 20}, \"y\": [0.0], \"hoverinfo\": \"none\", \"text\": [\"6\"]}]}, {\"name\": 3, \"data\": [{\"mode\": \"lines\", \"line\": {\"color\": \"rgb(0, 0, 0)\", \"width\": 1}, \"y\": [0.5, 1.0, null, 0.9550095020335311, 0.8882926689752846, null, 0.9550095020335311, 0.9427605821595028, null], \"hoverinfo\": \"none\", \"x\": [0.0, 0.33, null, 0.3003062713421305, 0.2855225877733855, null, 0.3003062713421305, 0.2629725579755741, null]}, {\"mode\": \"lines\", \"line\": {\"color\": \"rgb(0, 0, 0)\", \"width\": 1}, \"y\": [0.5, 0.0, null, 0.04499049796646893, 0.0572394178404972, null, 0.04499049796646893, 0.11170733102471547, null], \"hoverinfo\": \"none\", \"x\": [0.0, 0.33, null, 0.3003062713421305, 0.2629725579755741, null, 0.3003062713421305, 0.2855225877733855, null]}, {\"mode\": \"lines\", \"line\": {\"color\": \"rgb(0, 0, 0)\", \"width\": 1}, \"y\": [1.0, 1.0, null, 1.0, 0.9652590189417244, null, 1.0, 1.0347409810582755, null], \"hoverinfo\": \"none\", \"x\": [0.33, 0.66, null, 0.6221212121212122, 0.5888794484132436, null, 0.6221212121212122, 0.5888794484132436, null]}, {\"mode\": \"lines\", \"line\": {\"color\": \"rgb(0, 0, 0)\", \"width\": 1}, \"y\": [1.0, 1.0, null, 1.0, 0.9652590189417244, null, 1.0, 1.0347409810582755, null], \"hoverinfo\": \"none\", \"x\": [0.66, 1.0, null, 0.9621212121212122, 0.9288794484132434, null, 0.9621212121212122, 0.9288794484132434, null]}, {\"mode\": \"lines\", \"line\": {\"color\": \"rgb(0, 0, 0)\", \"width\": 1}, \"y\": [1.0, 0.0, null, 0.06127490735002531, 0.13359437096827784, null, 0.06127490735002531, 0.09650302407543368, null], \"hoverinfo\": \"none\", \"x\": [0.66, 0.33, null, 0.35022071942550836, 0.3526100389194443, null, 0.35022071942550836, 0.3833221014449805, null]}, {\"mode\": \"lines\", \"line\": {\"color\": \"rgb(0, 0, 0)\", \"width\": 1}, \"y\": [1.0, 0.0, null, 0.06074471277448944, 0.13299554373343975, null, 0.06074471277448944, 0.09511088313140172, null], \"hoverinfo\": \"none\", \"x\": [1.0, 0.66, null, 0.6806532023433265, 0.6835549327328607, null, 0.6806532023433265, 0.7140012524011855, null]}, {\"mode\": \"lines\", \"line\": {\"color\": \"rgb(0, 0, 0)\", \"width\": 1}, \"y\": [0.0, 0.0, null, 0.0, -0.034740981058275576, null, 0.0, 0.034740981058275576, null], \"hoverinfo\": \"none\", \"x\": [0.33, 0.66, null, 0.6221212121212122, 0.5888794484132436, null, 0.6221212121212122, 0.5888794484132436, null]}, {\"mode\": \"lines\", \"line\": {\"color\": \"rgb(0, 0, 0)\", \"width\": 1}, \"y\": [0.0, 0.0, null, 0.0, -0.034740981058275576, null, 0.0, 0.034740981058275576, null], \"hoverinfo\": \"none\", \"x\": [0.66, 1.0, null, 0.9621212121212122, 0.9288794484132434, null, 0.9621212121212122, 0.9288794484132434, null]}, {\"mode\": \"markers+text\", \"x\": [0.0], \"textposition\": \"middle center\", \"textfont\": {\"color\": \"rgb(0, 0, 0)\"}, \"marker\": {\"color\": \"rgb(0, 255, 0)\", \"line\": {\"color\": \"rgb(0, 0, 0)\", \"width\": 1}, \"size\": 20}, \"y\": [0.5], \"hoverinfo\": \"none\", \"text\": [\"0\"]}, {\"mode\": \"markers+text\", \"x\": [0.33], \"textposition\": \"middle center\", \"textfont\": {\"color\": \"rgb(0, 0, 0)\"}, \"marker\": {\"color\": \"rgb(0, 255, 0)\", \"line\": {\"color\": \"rgb(0, 0, 0)\", \"width\": 1}, \"size\": 20}, \"y\": [1.0], \"hoverinfo\": \"none\", \"text\": [\"1\"]}, {\"mode\": \"markers+text\", \"x\": [0.66], \"textposition\": \"middle center\", \"textfont\": {\"color\": \"rgb(0, 0, 0)\"}, \"marker\": {\"color\": \"rgb(0, 255, 0)\", \"line\": {\"color\": \"rgb(0, 0, 0)\", \"width\": 1}, \"size\": 20}, \"y\": [1.0], \"hoverinfo\": \"none\", \"text\": [\"2\"]}, {\"mode\": \"markers+text\", \"x\": [1.0], \"textposition\": \"middle center\", \"textfont\": {\"color\": \"rgb(0, 0, 0)\"}, \"marker\": {\"color\": \"rgb(0, 255, 0)\", \"line\": {\"color\": \"rgb(0, 0, 0)\", \"width\": 1}, \"size\": 20}, \"y\": [1.0], \"hoverinfo\": \"none\", \"text\": [\"3\"]}, {\"mode\": \"markers+text\", \"x\": [0.33], \"textposition\": \"middle center\", \"textfont\": {\"color\": \"rgb(0, 0, 0)\"}, \"marker\": {\"color\": \"rgb(255, 255, 255)\", \"line\": {\"color\": \"rgb(0, 0, 0)\", \"width\": 1}, \"size\": 20}, \"y\": [0.0], \"hoverinfo\": \"none\", \"text\": [\"4\"]}, {\"mode\": \"markers+text\", \"x\": [0.66], \"textposition\": \"middle center\", \"textfont\": {\"color\": \"rgb(0, 0, 0)\"}, \"marker\": {\"color\": \"rgb(255, 255, 255)\", \"line\": {\"color\": \"rgb(0, 0, 0)\", \"width\": 1}, \"size\": 20}, \"y\": [0.0], \"hoverinfo\": \"none\", \"text\": [\"5\"]}, {\"mode\": \"markers+text\", \"x\": [1.0], \"textposition\": \"middle center\", \"textfont\": {\"color\": \"rgb(0, 0, 0)\"}, \"marker\": {\"color\": \"rgb(255, 255, 255)\", \"line\": {\"color\": \"rgb(0, 0, 0)\", \"width\": 1}, \"size\": 20}, \"y\": [0.0], \"hoverinfo\": \"none\", \"text\": [\"6\"]}]}, {\"name\": 4, \"data\": [{\"mode\": \"lines\", \"line\": {\"color\": \"rgb(0, 0, 0)\", \"width\": 1}, \"y\": [0.5, 1.0, null, 0.9550095020335311, 0.8882926689752846, null, 0.9550095020335311, 0.9427605821595028, null], \"hoverinfo\": \"none\", \"x\": [0.0, 0.33, null, 0.3003062713421305, 0.2855225877733855, null, 0.3003062713421305, 0.2629725579755741, null]}, {\"mode\": \"lines\", \"line\": {\"color\": \"rgb(0, 0, 0)\", \"width\": 1}, \"y\": [0.5, 0.0, null, 0.04499049796646893, 0.0572394178404972, null, 0.04499049796646893, 0.11170733102471547, null], \"hoverinfo\": \"none\", \"x\": [0.0, 0.33, null, 0.3003062713421305, 0.2629725579755741, null, 0.3003062713421305, 0.2855225877733855, null]}, {\"mode\": \"lines\", \"line\": {\"color\": \"rgb(0, 0, 0)\", \"width\": 1}, \"y\": [1.0, 1.0, null, 1.0, 0.9652590189417244, null, 1.0, 1.0347409810582755, null], \"hoverinfo\": \"none\", \"x\": [0.33, 0.66, null, 0.6221212121212122, 0.5888794484132436, null, 0.6221212121212122, 0.5888794484132436, null]}, {\"mode\": \"lines\", \"line\": {\"color\": \"rgb(0, 0, 0)\", \"width\": 1}, \"y\": [1.0, 1.0, null, 1.0, 0.9652590189417244, null, 1.0, 1.0347409810582755, null], \"hoverinfo\": \"none\", \"x\": [0.66, 1.0, null, 0.9621212121212122, 0.9288794484132434, null, 0.9621212121212122, 0.9288794484132434, null]}, {\"mode\": \"lines\", \"line\": {\"color\": \"rgb(0, 0, 0)\", \"width\": 1}, \"y\": [1.0, 0.0, null, 0.06127490735002531, 0.13359437096827784, null, 0.06127490735002531, 0.09650302407543368, null], \"hoverinfo\": \"none\", \"x\": [0.66, 0.33, null, 0.35022071942550836, 0.3526100389194443, null, 0.35022071942550836, 0.3833221014449805, null]}, {\"mode\": \"lines\", \"line\": {\"color\": \"rgb(0, 0, 0)\", \"width\": 1}, \"y\": [1.0, 0.0, null, 0.06074471277448944, 0.13299554373343975, null, 0.06074471277448944, 0.09511088313140172, null], \"hoverinfo\": \"none\", \"x\": [1.0, 0.66, null, 0.6806532023433265, 0.6835549327328607, null, 0.6806532023433265, 0.7140012524011855, null]}, {\"mode\": \"lines\", \"line\": {\"color\": \"rgb(0, 0, 0)\", \"width\": 1}, \"y\": [0.0, 0.0, null, 0.0, -0.034740981058275576, null, 0.0, 0.034740981058275576, null], \"hoverinfo\": \"none\", \"x\": [0.33, 0.66, null, 0.6221212121212122, 0.5888794484132436, null, 0.6221212121212122, 0.5888794484132436, null]}, {\"mode\": \"lines\", \"line\": {\"color\": \"rgb(0, 0, 0)\", \"width\": 1}, \"y\": [0.0, 0.0, null, 0.0, -0.034740981058275576, null, 0.0, 0.034740981058275576, null], \"hoverinfo\": \"none\", \"x\": [0.66, 1.0, null, 0.9621212121212122, 0.9288794484132434, null, 0.9621212121212122, 0.9288794484132434, null]}, {\"mode\": \"markers+text\", \"x\": [0.0], \"textposition\": \"middle center\", \"textfont\": {\"color\": \"rgb(0, 0, 0)\"}, \"marker\": {\"color\": \"rgb(0, 255, 0)\", \"line\": {\"color\": \"rgb(0, 0, 0)\", \"width\": 1}, \"size\": 20}, \"y\": [0.5], \"hoverinfo\": \"none\", \"text\": [\"0\"]}, {\"mode\": \"markers+text\", \"x\": [0.33], \"textposition\": \"middle center\", \"textfont\": {\"color\": \"rgb(0, 0, 0)\"}, \"marker\": {\"color\": \"rgb(0, 255, 0)\", \"line\": {\"color\": \"rgb(0, 0, 0)\", \"width\": 1}, \"size\": 20}, \"y\": [1.0], \"hoverinfo\": \"none\", \"text\": [\"1\"]}, {\"mode\": \"markers+text\", \"x\": [0.66], \"textposition\": \"middle center\", \"textfont\": {\"color\": \"rgb(0, 0, 0)\"}, \"marker\": {\"color\": \"rgb(0, 255, 0)\", \"line\": {\"color\": \"rgb(0, 0, 0)\", \"width\": 1}, \"size\": 20}, \"y\": [1.0], \"hoverinfo\": \"none\", \"text\": [\"2\"]}, {\"mode\": \"markers+text\", \"x\": [1.0], \"textposition\": \"middle center\", \"textfont\": {\"color\": \"rgb(0, 0, 0)\"}, \"marker\": {\"color\": \"rgb(0, 255, 0)\", \"line\": {\"color\": \"rgb(0, 0, 0)\", \"width\": 1}, \"size\": 20}, \"y\": [1.0], \"hoverinfo\": \"none\", \"text\": [\"3\"]}, {\"mode\": \"markers+text\", \"x\": [0.33], \"textposition\": \"middle center\", \"textfont\": {\"color\": \"rgb(0, 0, 0)\"}, \"marker\": {\"color\": \"rgb(0, 255, 0)\", \"line\": {\"color\": \"rgb(0, 0, 0)\", \"width\": 1}, \"size\": 20}, \"y\": [0.0], \"hoverinfo\": \"none\", \"text\": [\"4\"]}, {\"mode\": \"markers+text\", \"x\": [0.66], \"textposition\": \"middle center\", \"textfont\": {\"color\": \"rgb(0, 0, 0)\"}, \"marker\": {\"color\": \"rgb(255, 255, 255)\", \"line\": {\"color\": \"rgb(0, 0, 0)\", \"width\": 1}, \"size\": 20}, \"y\": [0.0], \"hoverinfo\": \"none\", \"text\": [\"5\"]}, {\"mode\": \"markers+text\", \"x\": [1.0], \"textposition\": \"middle center\", \"textfont\": {\"color\": \"rgb(0, 0, 0)\"}, \"marker\": {\"color\": \"rgb(255, 255, 255)\", \"line\": {\"color\": \"rgb(0, 0, 0)\", \"width\": 1}, \"size\": 20}, \"y\": [0.0], \"hoverinfo\": \"none\", \"text\": [\"6\"]}]}, {\"name\": 5, \"data\": [{\"mode\": \"lines\", \"line\": {\"color\": \"rgb(0, 0, 0)\", \"width\": 1}, \"y\": [0.5, 1.0, null, 0.9550095020335311, 0.8882926689752846, null, 0.9550095020335311, 0.9427605821595028, null], \"hoverinfo\": \"none\", \"x\": [0.0, 0.33, null, 0.3003062713421305, 0.2855225877733855, null, 0.3003062713421305, 0.2629725579755741, null]}, {\"mode\": \"lines\", \"line\": {\"color\": \"rgb(0, 0, 0)\", \"width\": 1}, \"y\": [0.5, 0.0, null, 0.04499049796646893, 0.0572394178404972, null, 0.04499049796646893, 0.11170733102471547, null], \"hoverinfo\": \"none\", \"x\": [0.0, 0.33, null, 0.3003062713421305, 0.2629725579755741, null, 0.3003062713421305, 0.2855225877733855, null]}, {\"mode\": \"lines\", \"line\": {\"color\": \"rgb(0, 0, 0)\", \"width\": 1}, \"y\": [1.0, 1.0, null, 1.0, 0.9652590189417244, null, 1.0, 1.0347409810582755, null], \"hoverinfo\": \"none\", \"x\": [0.33, 0.66, null, 0.6221212121212122, 0.5888794484132436, null, 0.6221212121212122, 0.5888794484132436, null]}, {\"mode\": \"lines\", \"line\": {\"color\": \"rgb(0, 0, 0)\", \"width\": 1}, \"y\": [1.0, 1.0, null, 1.0, 0.9652590189417244, null, 1.0, 1.0347409810582755, null], \"hoverinfo\": \"none\", \"x\": [0.66, 1.0, null, 0.9621212121212122, 0.9288794484132434, null, 0.9621212121212122, 0.9288794484132434, null]}, {\"mode\": \"lines\", \"line\": {\"color\": \"rgb(0, 0, 0)\", \"width\": 1}, \"y\": [1.0, 0.0, null, 0.06127490735002531, 0.13359437096827784, null, 0.06127490735002531, 0.09650302407543368, null], \"hoverinfo\": \"none\", \"x\": [0.66, 0.33, null, 0.35022071942550836, 0.3526100389194443, null, 0.35022071942550836, 0.3833221014449805, null]}, {\"mode\": \"lines\", \"line\": {\"color\": \"rgb(0, 0, 0)\", \"width\": 1}, \"y\": [1.0, 0.0, null, 0.06074471277448944, 0.13299554373343975, null, 0.06074471277448944, 0.09511088313140172, null], \"hoverinfo\": \"none\", \"x\": [1.0, 0.66, null, 0.6806532023433265, 0.6835549327328607, null, 0.6806532023433265, 0.7140012524011855, null]}, {\"mode\": \"lines\", \"line\": {\"color\": \"rgb(0, 0, 0)\", \"width\": 1}, \"y\": [0.0, 0.0, null, 0.0, -0.034740981058275576, null, 0.0, 0.034740981058275576, null], \"hoverinfo\": \"none\", \"x\": [0.33, 0.66, null, 0.6221212121212122, 0.5888794484132436, null, 0.6221212121212122, 0.5888794484132436, null]}, {\"mode\": \"lines\", \"line\": {\"color\": \"rgb(0, 0, 0)\", \"width\": 1}, \"y\": [0.0, 0.0, null, 0.0, -0.034740981058275576, null, 0.0, 0.034740981058275576, null], \"hoverinfo\": \"none\", \"x\": [0.66, 1.0, null, 0.9621212121212122, 0.9288794484132434, null, 0.9621212121212122, 0.9288794484132434, null]}, {\"mode\": \"markers+text\", \"x\": [0.0], \"textposition\": \"middle center\", \"textfont\": {\"color\": \"rgb(0, 0, 0)\"}, \"marker\": {\"color\": \"rgb(0, 255, 0)\", \"line\": {\"color\": \"rgb(0, 0, 0)\", \"width\": 1}, \"size\": 20}, \"y\": [0.5], \"hoverinfo\": \"none\", \"text\": [\"0\"]}, {\"mode\": \"markers+text\", \"x\": [0.33], \"textposition\": \"middle center\", \"textfont\": {\"color\": \"rgb(0, 0, 0)\"}, \"marker\": {\"color\": \"rgb(0, 255, 0)\", \"line\": {\"color\": \"rgb(0, 0, 0)\", \"width\": 1}, \"size\": 20}, \"y\": [1.0], \"hoverinfo\": \"none\", \"text\": [\"1\"]}, {\"mode\": \"markers+text\", \"x\": [0.66], \"textposition\": \"middle center\", \"textfont\": {\"color\": \"rgb(0, 0, 0)\"}, \"marker\": {\"color\": \"rgb(0, 255, 0)\", \"line\": {\"color\": \"rgb(0, 0, 0)\", \"width\": 1}, \"size\": 20}, \"y\": [1.0], \"hoverinfo\": \"none\", \"text\": [\"2\"]}, {\"mode\": \"markers+text\", \"x\": [1.0], \"textposition\": \"middle center\", \"textfont\": {\"color\": \"rgb(0, 0, 0)\"}, \"marker\": {\"color\": \"rgb(0, 255, 0)\", \"line\": {\"color\": \"rgb(0, 0, 0)\", \"width\": 1}, \"size\": 20}, \"y\": [1.0], \"hoverinfo\": \"none\", \"text\": [\"3\"]}, {\"mode\": \"markers+text\", \"x\": [0.33], \"textposition\": \"middle center\", \"textfont\": {\"color\": \"rgb(0, 0, 0)\"}, \"marker\": {\"color\": \"rgb(0, 255, 0)\", \"line\": {\"color\": \"rgb(0, 0, 0)\", \"width\": 1}, \"size\": 20}, \"y\": [0.0], \"hoverinfo\": \"none\", \"text\": [\"4\"]}, {\"mode\": \"markers+text\", \"x\": [0.66], \"textposition\": \"middle center\", \"textfont\": {\"color\": \"rgb(0, 0, 0)\"}, \"marker\": {\"color\": \"rgb(0, 255, 0)\", \"line\": {\"color\": \"rgb(0, 0, 0)\", \"width\": 1}, \"size\": 20}, \"y\": [0.0], \"hoverinfo\": \"none\", \"text\": [\"5\"]}, {\"mode\": \"markers+text\", \"x\": [1.0], \"textposition\": \"middle center\", \"textfont\": {\"color\": \"rgb(0, 0, 0)\"}, \"marker\": {\"color\": \"rgb(255, 255, 255)\", \"line\": {\"color\": \"rgb(0, 0, 0)\", \"width\": 1}, \"size\": 20}, \"y\": [0.0], \"hoverinfo\": \"none\", \"text\": [\"6\"]}]}, {\"name\": 6, \"data\": [{\"mode\": \"lines\", \"line\": {\"color\": \"rgb(0, 0, 0)\", \"width\": 1}, \"y\": [0.5, 1.0, null, 0.9550095020335311, 0.8882926689752846, null, 0.9550095020335311, 0.9427605821595028, null], \"hoverinfo\": \"none\", \"x\": [0.0, 0.33, null, 0.3003062713421305, 0.2855225877733855, null, 0.3003062713421305, 0.2629725579755741, null]}, {\"mode\": \"lines\", \"line\": {\"color\": \"rgb(0, 0, 0)\", \"width\": 1}, \"y\": [0.5, 0.0, null, 0.04499049796646893, 0.0572394178404972, null, 0.04499049796646893, 0.11170733102471547, null], \"hoverinfo\": \"none\", \"x\": [0.0, 0.33, null, 0.3003062713421305, 0.2629725579755741, null, 0.3003062713421305, 0.2855225877733855, null]}, {\"mode\": \"lines\", \"line\": {\"color\": \"rgb(0, 0, 0)\", \"width\": 1}, \"y\": [1.0, 1.0, null, 1.0, 0.9652590189417244, null, 1.0, 1.0347409810582755, null], \"hoverinfo\": \"none\", \"x\": [0.33, 0.66, null, 0.6221212121212122, 0.5888794484132436, null, 0.6221212121212122, 0.5888794484132436, null]}, {\"mode\": \"lines\", \"line\": {\"color\": \"rgb(0, 0, 0)\", \"width\": 1}, \"y\": [1.0, 1.0, null, 1.0, 0.9652590189417244, null, 1.0, 1.0347409810582755, null], \"hoverinfo\": \"none\", \"x\": [0.66, 1.0, null, 0.9621212121212122, 0.9288794484132434, null, 0.9621212121212122, 0.9288794484132434, null]}, {\"mode\": \"lines\", \"line\": {\"color\": \"rgb(0, 0, 0)\", \"width\": 1}, \"y\": [1.0, 0.0, null, 0.06127490735002531, 0.13359437096827784, null, 0.06127490735002531, 0.09650302407543368, null], \"hoverinfo\": \"none\", \"x\": [0.66, 0.33, null, 0.35022071942550836, 0.3526100389194443, null, 0.35022071942550836, 0.3833221014449805, null]}, {\"mode\": \"lines\", \"line\": {\"color\": \"rgb(0, 0, 0)\", \"width\": 1}, \"y\": [1.0, 0.0, null, 0.06074471277448944, 0.13299554373343975, null, 0.06074471277448944, 0.09511088313140172, null], \"hoverinfo\": \"none\", \"x\": [1.0, 0.66, null, 0.6806532023433265, 0.6835549327328607, null, 0.6806532023433265, 0.7140012524011855, null]}, {\"mode\": \"lines\", \"line\": {\"color\": \"rgb(0, 0, 0)\", \"width\": 1}, \"y\": [0.0, 0.0, null, 0.0, -0.034740981058275576, null, 0.0, 0.034740981058275576, null], \"hoverinfo\": \"none\", \"x\": [0.33, 0.66, null, 0.6221212121212122, 0.5888794484132436, null, 0.6221212121212122, 0.5888794484132436, null]}, {\"mode\": \"lines\", \"line\": {\"color\": \"rgb(0, 0, 0)\", \"width\": 1}, \"y\": [0.0, 0.0, null, 0.0, -0.034740981058275576, null, 0.0, 0.034740981058275576, null], \"hoverinfo\": \"none\", \"x\": [0.66, 1.0, null, 0.9621212121212122, 0.9288794484132434, null, 0.9621212121212122, 0.9288794484132434, null]}, {\"mode\": \"markers+text\", \"x\": [0.0], \"textposition\": \"middle center\", \"textfont\": {\"color\": \"rgb(0, 0, 0)\"}, \"marker\": {\"color\": \"rgb(0, 255, 0)\", \"line\": {\"color\": \"rgb(0, 0, 0)\", \"width\": 1}, \"size\": 20}, \"y\": [0.5], \"hoverinfo\": \"none\", \"text\": [\"0\"]}, {\"mode\": \"markers+text\", \"x\": [0.33], \"textposition\": \"middle center\", \"textfont\": {\"color\": \"rgb(0, 0, 0)\"}, \"marker\": {\"color\": \"rgb(0, 255, 0)\", \"line\": {\"color\": \"rgb(0, 0, 0)\", \"width\": 1}, \"size\": 20}, \"y\": [1.0], \"hoverinfo\": \"none\", \"text\": [\"1\"]}, {\"mode\": \"markers+text\", \"x\": [0.66], \"textposition\": \"middle center\", \"textfont\": {\"color\": \"rgb(0, 0, 0)\"}, \"marker\": {\"color\": \"rgb(0, 255, 0)\", \"line\": {\"color\": \"rgb(0, 0, 0)\", \"width\": 1}, \"size\": 20}, \"y\": [1.0], \"hoverinfo\": \"none\", \"text\": [\"2\"]}, {\"mode\": \"markers+text\", \"x\": [1.0], \"textposition\": \"middle center\", \"textfont\": {\"color\": \"rgb(0, 0, 0)\"}, \"marker\": {\"color\": \"rgb(0, 255, 0)\", \"line\": {\"color\": \"rgb(0, 0, 0)\", \"width\": 1}, \"size\": 20}, \"y\": [1.0], \"hoverinfo\": \"none\", \"text\": [\"3\"]}, {\"mode\": \"markers+text\", \"x\": [0.33], \"textposition\": \"middle center\", \"textfont\": {\"color\": \"rgb(0, 0, 0)\"}, \"marker\": {\"color\": \"rgb(0, 255, 0)\", \"line\": {\"color\": \"rgb(0, 0, 0)\", \"width\": 1}, \"size\": 20}, \"y\": [0.0], \"hoverinfo\": \"none\", \"text\": [\"4\"]}, {\"mode\": \"markers+text\", \"x\": [0.66], \"textposition\": \"middle center\", \"textfont\": {\"color\": \"rgb(0, 0, 0)\"}, \"marker\": {\"color\": \"rgb(0, 255, 0)\", \"line\": {\"color\": \"rgb(0, 0, 0)\", \"width\": 1}, \"size\": 20}, \"y\": [0.0], \"hoverinfo\": \"none\", \"text\": [\"5\"]}, {\"mode\": \"markers+text\", \"x\": [1.0], \"textposition\": \"middle center\", \"textfont\": {\"color\": \"rgb(0, 0, 0)\"}, \"marker\": {\"color\": \"rgb(0, 255, 0)\", \"line\": {\"color\": \"rgb(0, 0, 0)\", \"width\": 1}, \"size\": 20}, \"y\": [0.0], \"hoverinfo\": \"none\", \"text\": [\"6\"]}]}]);}).then(function(){Plotly.animate('91f59117-6aba-46c0-8ab3-dd18bcea7fc5');})\n",
       "        });</script>"
      ]
     },
     "metadata": {},
     "output_type": "display_data"
    }
   ],
   "source": [
    "frames = []\n",
    "\n",
    "sn.reset_node_colors(g)\n",
    "\n",
    "for n in g.nodes:\n",
    "    g.nodes[n]['color'] = (0, 255, 0)\n",
    "\n",
    "    frame = sn.generate_frame(g, nlab=True)\n",
    "    frames.append(frame)\n",
    "\n",
    "sn.show_animation(frames)"
   ]
  },
  {
   "cell_type": "markdown",
   "metadata": {},
   "source": [
    "## Busca em profundidade (com recursão)"
   ]
  },
  {
   "cell_type": "code",
   "execution_count": 14,
   "metadata": {},
   "outputs": [
    {
     "data": {
      "application/vnd.plotly.v1+json": {
       "data": [
        {
         "hoverinfo": "none",
         "line": {
          "color": "rgb(0, 0, 0)",
          "width": 1
         },
         "mode": "lines",
         "x": [
          0,
          0.33,
          null,
          0.3003062713421305,
          0.2855225877733855,
          null,
          0.3003062713421305,
          0.2629725579755741,
          null
         ],
         "y": [
          0.5,
          1,
          null,
          0.9550095020335311,
          0.8882926689752846,
          null,
          0.9550095020335311,
          0.9427605821595028,
          null
         ]
        },
        {
         "hoverinfo": "none",
         "line": {
          "color": "rgb(0, 0, 0)",
          "width": 1
         },
         "mode": "lines",
         "x": [
          0,
          0.33,
          null,
          0.3003062713421305,
          0.2629725579755741,
          null,
          0.3003062713421305,
          0.2855225877733855,
          null
         ],
         "y": [
          0.5,
          0,
          null,
          0.04499049796646893,
          0.0572394178404972,
          null,
          0.04499049796646893,
          0.11170733102471547,
          null
         ]
        },
        {
         "hoverinfo": "none",
         "line": {
          "color": "rgb(0, 0, 0)",
          "width": 1
         },
         "mode": "lines",
         "x": [
          0.33,
          0.66,
          null,
          0.6221212121212122,
          0.5888794484132436,
          null,
          0.6221212121212122,
          0.5888794484132436,
          null
         ],
         "y": [
          1,
          1,
          null,
          1,
          0.9652590189417244,
          null,
          1,
          1.0347409810582755,
          null
         ]
        },
        {
         "hoverinfo": "none",
         "line": {
          "color": "rgb(0, 0, 0)",
          "width": 1
         },
         "mode": "lines",
         "x": [
          0.66,
          1,
          null,
          0.9621212121212122,
          0.9288794484132434,
          null,
          0.9621212121212122,
          0.9288794484132434,
          null
         ],
         "y": [
          1,
          1,
          null,
          1,
          0.9652590189417244,
          null,
          1,
          1.0347409810582755,
          null
         ]
        },
        {
         "hoverinfo": "none",
         "line": {
          "color": "rgb(0, 0, 0)",
          "width": 1
         },
         "mode": "lines",
         "x": [
          0.66,
          0.33,
          null,
          0.35022071942550836,
          0.3526100389194443,
          null,
          0.35022071942550836,
          0.3833221014449805,
          null
         ],
         "y": [
          1,
          0,
          null,
          0.06127490735002531,
          0.13359437096827784,
          null,
          0.06127490735002531,
          0.09650302407543368,
          null
         ]
        },
        {
         "hoverinfo": "none",
         "line": {
          "color": "rgb(0, 0, 0)",
          "width": 1
         },
         "mode": "lines",
         "x": [
          1,
          0.66,
          null,
          0.6806532023433265,
          0.6835549327328607,
          null,
          0.6806532023433265,
          0.7140012524011855,
          null
         ],
         "y": [
          1,
          0,
          null,
          0.06074471277448944,
          0.13299554373343975,
          null,
          0.06074471277448944,
          0.09511088313140172,
          null
         ]
        },
        {
         "hoverinfo": "none",
         "line": {
          "color": "rgb(0, 0, 0)",
          "width": 1
         },
         "mode": "lines",
         "x": [
          0.33,
          0.66,
          null,
          0.6221212121212122,
          0.5888794484132436,
          null,
          0.6221212121212122,
          0.5888794484132436,
          null
         ],
         "y": [
          0,
          0,
          null,
          0,
          -0.034740981058275576,
          null,
          0,
          0.034740981058275576,
          null
         ]
        },
        {
         "hoverinfo": "none",
         "line": {
          "color": "rgb(0, 0, 0)",
          "width": 1
         },
         "mode": "lines",
         "x": [
          0.66,
          1,
          null,
          0.9621212121212122,
          0.9288794484132434,
          null,
          0.9621212121212122,
          0.9288794484132434,
          null
         ],
         "y": [
          0,
          0,
          null,
          0,
          -0.034740981058275576,
          null,
          0,
          0.034740981058275576,
          null
         ]
        },
        {
         "hoverinfo": "none",
         "marker": {
          "color": "rgb(0, 255, 0)",
          "line": {
           "color": "rgb(0, 0, 0)",
           "width": 1
          },
          "size": 20
         },
         "mode": "markers+text",
         "text": [
          "0"
         ],
         "textfont": {
          "color": "rgb(0, 0, 0)"
         },
         "textposition": "middle center",
         "x": [
          0
         ],
         "y": [
          0.5
         ]
        },
        {
         "hoverinfo": "none",
         "marker": {
          "color": "rgb(255, 255, 255)",
          "line": {
           "color": "rgb(0, 0, 0)",
           "width": 1
          },
          "size": 20
         },
         "mode": "markers+text",
         "text": [
          "1"
         ],
         "textfont": {
          "color": "rgb(0, 0, 0)"
         },
         "textposition": "middle center",
         "x": [
          0.33
         ],
         "y": [
          1
         ]
        },
        {
         "hoverinfo": "none",
         "marker": {
          "color": "rgb(255, 255, 255)",
          "line": {
           "color": "rgb(0, 0, 0)",
           "width": 1
          },
          "size": 20
         },
         "mode": "markers+text",
         "text": [
          "2"
         ],
         "textfont": {
          "color": "rgb(0, 0, 0)"
         },
         "textposition": "middle center",
         "x": [
          0.66
         ],
         "y": [
          1
         ]
        },
        {
         "hoverinfo": "none",
         "marker": {
          "color": "rgb(255, 255, 255)",
          "line": {
           "color": "rgb(0, 0, 0)",
           "width": 1
          },
          "size": 20
         },
         "mode": "markers+text",
         "text": [
          "3"
         ],
         "textfont": {
          "color": "rgb(0, 0, 0)"
         },
         "textposition": "middle center",
         "x": [
          1
         ],
         "y": [
          1
         ]
        },
        {
         "hoverinfo": "none",
         "marker": {
          "color": "rgb(255, 255, 255)",
          "line": {
           "color": "rgb(0, 0, 0)",
           "width": 1
          },
          "size": 20
         },
         "mode": "markers+text",
         "text": [
          "4"
         ],
         "textfont": {
          "color": "rgb(0, 0, 0)"
         },
         "textposition": "middle center",
         "x": [
          0.33
         ],
         "y": [
          0
         ]
        },
        {
         "hoverinfo": "none",
         "marker": {
          "color": "rgb(255, 255, 255)",
          "line": {
           "color": "rgb(0, 0, 0)",
           "width": 1
          },
          "size": 20
         },
         "mode": "markers+text",
         "text": [
          "5"
         ],
         "textfont": {
          "color": "rgb(0, 0, 0)"
         },
         "textposition": "middle center",
         "x": [
          0.66
         ],
         "y": [
          0
         ]
        },
        {
         "hoverinfo": "none",
         "marker": {
          "color": "rgb(255, 255, 255)",
          "line": {
           "color": "rgb(0, 0, 0)",
           "width": 1
          },
          "size": 20
         },
         "mode": "markers+text",
         "text": [
          "6"
         ],
         "textfont": {
          "color": "rgb(0, 0, 0)"
         },
         "textposition": "middle center",
         "x": [
          1
         ],
         "y": [
          0
         ]
        }
       ],
       "frames": [
        {
         "data": [
          {
           "hoverinfo": "none",
           "line": {
            "color": "rgb(0, 0, 0)",
            "width": 1
           },
           "mode": "lines",
           "x": [
            0,
            0.33,
            null,
            0.3003062713421305,
            0.2855225877733855,
            null,
            0.3003062713421305,
            0.2629725579755741,
            null
           ],
           "y": [
            0.5,
            1,
            null,
            0.9550095020335311,
            0.8882926689752846,
            null,
            0.9550095020335311,
            0.9427605821595028,
            null
           ]
          },
          {
           "hoverinfo": "none",
           "line": {
            "color": "rgb(0, 0, 0)",
            "width": 1
           },
           "mode": "lines",
           "x": [
            0,
            0.33,
            null,
            0.3003062713421305,
            0.2629725579755741,
            null,
            0.3003062713421305,
            0.2855225877733855,
            null
           ],
           "y": [
            0.5,
            0,
            null,
            0.04499049796646893,
            0.0572394178404972,
            null,
            0.04499049796646893,
            0.11170733102471547,
            null
           ]
          },
          {
           "hoverinfo": "none",
           "line": {
            "color": "rgb(0, 0, 0)",
            "width": 1
           },
           "mode": "lines",
           "x": [
            0.33,
            0.66,
            null,
            0.6221212121212122,
            0.5888794484132436,
            null,
            0.6221212121212122,
            0.5888794484132436,
            null
           ],
           "y": [
            1,
            1,
            null,
            1,
            0.9652590189417244,
            null,
            1,
            1.0347409810582755,
            null
           ]
          },
          {
           "hoverinfo": "none",
           "line": {
            "color": "rgb(0, 0, 0)",
            "width": 1
           },
           "mode": "lines",
           "x": [
            0.66,
            1,
            null,
            0.9621212121212122,
            0.9288794484132434,
            null,
            0.9621212121212122,
            0.9288794484132434,
            null
           ],
           "y": [
            1,
            1,
            null,
            1,
            0.9652590189417244,
            null,
            1,
            1.0347409810582755,
            null
           ]
          },
          {
           "hoverinfo": "none",
           "line": {
            "color": "rgb(0, 0, 0)",
            "width": 1
           },
           "mode": "lines",
           "x": [
            0.66,
            0.33,
            null,
            0.35022071942550836,
            0.3526100389194443,
            null,
            0.35022071942550836,
            0.3833221014449805,
            null
           ],
           "y": [
            1,
            0,
            null,
            0.06127490735002531,
            0.13359437096827784,
            null,
            0.06127490735002531,
            0.09650302407543368,
            null
           ]
          },
          {
           "hoverinfo": "none",
           "line": {
            "color": "rgb(0, 0, 0)",
            "width": 1
           },
           "mode": "lines",
           "x": [
            1,
            0.66,
            null,
            0.6806532023433265,
            0.6835549327328607,
            null,
            0.6806532023433265,
            0.7140012524011855,
            null
           ],
           "y": [
            1,
            0,
            null,
            0.06074471277448944,
            0.13299554373343975,
            null,
            0.06074471277448944,
            0.09511088313140172,
            null
           ]
          },
          {
           "hoverinfo": "none",
           "line": {
            "color": "rgb(0, 0, 0)",
            "width": 1
           },
           "mode": "lines",
           "x": [
            0.33,
            0.66,
            null,
            0.6221212121212122,
            0.5888794484132436,
            null,
            0.6221212121212122,
            0.5888794484132436,
            null
           ],
           "y": [
            0,
            0,
            null,
            0,
            -0.034740981058275576,
            null,
            0,
            0.034740981058275576,
            null
           ]
          },
          {
           "hoverinfo": "none",
           "line": {
            "color": "rgb(0, 0, 0)",
            "width": 1
           },
           "mode": "lines",
           "x": [
            0.66,
            1,
            null,
            0.9621212121212122,
            0.9288794484132434,
            null,
            0.9621212121212122,
            0.9288794484132434,
            null
           ],
           "y": [
            0,
            0,
            null,
            0,
            -0.034740981058275576,
            null,
            0,
            0.034740981058275576,
            null
           ]
          },
          {
           "hoverinfo": "none",
           "marker": {
            "color": "rgb(0, 255, 0)",
            "line": {
             "color": "rgb(0, 0, 0)",
             "width": 1
            },
            "size": 20
           },
           "mode": "markers+text",
           "text": [
            "0"
           ],
           "textfont": {
            "color": "rgb(0, 0, 0)"
           },
           "textposition": "middle center",
           "x": [
            0
           ],
           "y": [
            0.5
           ]
          },
          {
           "hoverinfo": "none",
           "marker": {
            "color": "rgb(255, 255, 255)",
            "line": {
             "color": "rgb(0, 0, 0)",
             "width": 1
            },
            "size": 20
           },
           "mode": "markers+text",
           "text": [
            "1"
           ],
           "textfont": {
            "color": "rgb(0, 0, 0)"
           },
           "textposition": "middle center",
           "x": [
            0.33
           ],
           "y": [
            1
           ]
          },
          {
           "hoverinfo": "none",
           "marker": {
            "color": "rgb(255, 255, 255)",
            "line": {
             "color": "rgb(0, 0, 0)",
             "width": 1
            },
            "size": 20
           },
           "mode": "markers+text",
           "text": [
            "2"
           ],
           "textfont": {
            "color": "rgb(0, 0, 0)"
           },
           "textposition": "middle center",
           "x": [
            0.66
           ],
           "y": [
            1
           ]
          },
          {
           "hoverinfo": "none",
           "marker": {
            "color": "rgb(255, 255, 255)",
            "line": {
             "color": "rgb(0, 0, 0)",
             "width": 1
            },
            "size": 20
           },
           "mode": "markers+text",
           "text": [
            "3"
           ],
           "textfont": {
            "color": "rgb(0, 0, 0)"
           },
           "textposition": "middle center",
           "x": [
            1
           ],
           "y": [
            1
           ]
          },
          {
           "hoverinfo": "none",
           "marker": {
            "color": "rgb(255, 255, 255)",
            "line": {
             "color": "rgb(0, 0, 0)",
             "width": 1
            },
            "size": 20
           },
           "mode": "markers+text",
           "text": [
            "4"
           ],
           "textfont": {
            "color": "rgb(0, 0, 0)"
           },
           "textposition": "middle center",
           "x": [
            0.33
           ],
           "y": [
            0
           ]
          },
          {
           "hoverinfo": "none",
           "marker": {
            "color": "rgb(255, 255, 255)",
            "line": {
             "color": "rgb(0, 0, 0)",
             "width": 1
            },
            "size": 20
           },
           "mode": "markers+text",
           "text": [
            "5"
           ],
           "textfont": {
            "color": "rgb(0, 0, 0)"
           },
           "textposition": "middle center",
           "x": [
            0.66
           ],
           "y": [
            0
           ]
          },
          {
           "hoverinfo": "none",
           "marker": {
            "color": "rgb(255, 255, 255)",
            "line": {
             "color": "rgb(0, 0, 0)",
             "width": 1
            },
            "size": 20
           },
           "mode": "markers+text",
           "text": [
            "6"
           ],
           "textfont": {
            "color": "rgb(0, 0, 0)"
           },
           "textposition": "middle center",
           "x": [
            1
           ],
           "y": [
            0
           ]
          }
         ],
         "name": 0
        },
        {
         "data": [
          {
           "hoverinfo": "none",
           "line": {
            "color": "rgb(0, 0, 0)",
            "width": 1
           },
           "mode": "lines",
           "x": [
            0,
            0.33,
            null,
            0.3003062713421305,
            0.2855225877733855,
            null,
            0.3003062713421305,
            0.2629725579755741,
            null
           ],
           "y": [
            0.5,
            1,
            null,
            0.9550095020335311,
            0.8882926689752846,
            null,
            0.9550095020335311,
            0.9427605821595028,
            null
           ]
          },
          {
           "hoverinfo": "none",
           "line": {
            "color": "rgb(0, 0, 0)",
            "width": 1
           },
           "mode": "lines",
           "x": [
            0,
            0.33,
            null,
            0.3003062713421305,
            0.2629725579755741,
            null,
            0.3003062713421305,
            0.2855225877733855,
            null
           ],
           "y": [
            0.5,
            0,
            null,
            0.04499049796646893,
            0.0572394178404972,
            null,
            0.04499049796646893,
            0.11170733102471547,
            null
           ]
          },
          {
           "hoverinfo": "none",
           "line": {
            "color": "rgb(0, 0, 0)",
            "width": 1
           },
           "mode": "lines",
           "x": [
            0.33,
            0.66,
            null,
            0.6221212121212122,
            0.5888794484132436,
            null,
            0.6221212121212122,
            0.5888794484132436,
            null
           ],
           "y": [
            1,
            1,
            null,
            1,
            0.9652590189417244,
            null,
            1,
            1.0347409810582755,
            null
           ]
          },
          {
           "hoverinfo": "none",
           "line": {
            "color": "rgb(0, 0, 0)",
            "width": 1
           },
           "mode": "lines",
           "x": [
            0.66,
            1,
            null,
            0.9621212121212122,
            0.9288794484132434,
            null,
            0.9621212121212122,
            0.9288794484132434,
            null
           ],
           "y": [
            1,
            1,
            null,
            1,
            0.9652590189417244,
            null,
            1,
            1.0347409810582755,
            null
           ]
          },
          {
           "hoverinfo": "none",
           "line": {
            "color": "rgb(0, 0, 0)",
            "width": 1
           },
           "mode": "lines",
           "x": [
            0.66,
            0.33,
            null,
            0.35022071942550836,
            0.3526100389194443,
            null,
            0.35022071942550836,
            0.3833221014449805,
            null
           ],
           "y": [
            1,
            0,
            null,
            0.06127490735002531,
            0.13359437096827784,
            null,
            0.06127490735002531,
            0.09650302407543368,
            null
           ]
          },
          {
           "hoverinfo": "none",
           "line": {
            "color": "rgb(0, 0, 0)",
            "width": 1
           },
           "mode": "lines",
           "x": [
            1,
            0.66,
            null,
            0.6806532023433265,
            0.6835549327328607,
            null,
            0.6806532023433265,
            0.7140012524011855,
            null
           ],
           "y": [
            1,
            0,
            null,
            0.06074471277448944,
            0.13299554373343975,
            null,
            0.06074471277448944,
            0.09511088313140172,
            null
           ]
          },
          {
           "hoverinfo": "none",
           "line": {
            "color": "rgb(0, 0, 0)",
            "width": 1
           },
           "mode": "lines",
           "x": [
            0.33,
            0.66,
            null,
            0.6221212121212122,
            0.5888794484132436,
            null,
            0.6221212121212122,
            0.5888794484132436,
            null
           ],
           "y": [
            0,
            0,
            null,
            0,
            -0.034740981058275576,
            null,
            0,
            0.034740981058275576,
            null
           ]
          },
          {
           "hoverinfo": "none",
           "line": {
            "color": "rgb(0, 0, 0)",
            "width": 1
           },
           "mode": "lines",
           "x": [
            0.66,
            1,
            null,
            0.9621212121212122,
            0.9288794484132434,
            null,
            0.9621212121212122,
            0.9288794484132434,
            null
           ],
           "y": [
            0,
            0,
            null,
            0,
            -0.034740981058275576,
            null,
            0,
            0.034740981058275576,
            null
           ]
          },
          {
           "hoverinfo": "none",
           "marker": {
            "color": "rgb(0, 255, 0)",
            "line": {
             "color": "rgb(0, 0, 0)",
             "width": 1
            },
            "size": 20
           },
           "mode": "markers+text",
           "text": [
            "0"
           ],
           "textfont": {
            "color": "rgb(0, 0, 0)"
           },
           "textposition": "middle center",
           "x": [
            0
           ],
           "y": [
            0.5
           ]
          },
          {
           "hoverinfo": "none",
           "marker": {
            "color": "rgb(0, 255, 0)",
            "line": {
             "color": "rgb(0, 0, 0)",
             "width": 1
            },
            "size": 20
           },
           "mode": "markers+text",
           "text": [
            "1"
           ],
           "textfont": {
            "color": "rgb(0, 0, 0)"
           },
           "textposition": "middle center",
           "x": [
            0.33
           ],
           "y": [
            1
           ]
          },
          {
           "hoverinfo": "none",
           "marker": {
            "color": "rgb(255, 255, 255)",
            "line": {
             "color": "rgb(0, 0, 0)",
             "width": 1
            },
            "size": 20
           },
           "mode": "markers+text",
           "text": [
            "2"
           ],
           "textfont": {
            "color": "rgb(0, 0, 0)"
           },
           "textposition": "middle center",
           "x": [
            0.66
           ],
           "y": [
            1
           ]
          },
          {
           "hoverinfo": "none",
           "marker": {
            "color": "rgb(255, 255, 255)",
            "line": {
             "color": "rgb(0, 0, 0)",
             "width": 1
            },
            "size": 20
           },
           "mode": "markers+text",
           "text": [
            "3"
           ],
           "textfont": {
            "color": "rgb(0, 0, 0)"
           },
           "textposition": "middle center",
           "x": [
            1
           ],
           "y": [
            1
           ]
          },
          {
           "hoverinfo": "none",
           "marker": {
            "color": "rgb(255, 255, 255)",
            "line": {
             "color": "rgb(0, 0, 0)",
             "width": 1
            },
            "size": 20
           },
           "mode": "markers+text",
           "text": [
            "4"
           ],
           "textfont": {
            "color": "rgb(0, 0, 0)"
           },
           "textposition": "middle center",
           "x": [
            0.33
           ],
           "y": [
            0
           ]
          },
          {
           "hoverinfo": "none",
           "marker": {
            "color": "rgb(255, 255, 255)",
            "line": {
             "color": "rgb(0, 0, 0)",
             "width": 1
            },
            "size": 20
           },
           "mode": "markers+text",
           "text": [
            "5"
           ],
           "textfont": {
            "color": "rgb(0, 0, 0)"
           },
           "textposition": "middle center",
           "x": [
            0.66
           ],
           "y": [
            0
           ]
          },
          {
           "hoverinfo": "none",
           "marker": {
            "color": "rgb(255, 255, 255)",
            "line": {
             "color": "rgb(0, 0, 0)",
             "width": 1
            },
            "size": 20
           },
           "mode": "markers+text",
           "text": [
            "6"
           ],
           "textfont": {
            "color": "rgb(0, 0, 0)"
           },
           "textposition": "middle center",
           "x": [
            1
           ],
           "y": [
            0
           ]
          }
         ],
         "name": 1
        },
        {
         "data": [
          {
           "hoverinfo": "none",
           "line": {
            "color": "rgb(0, 0, 0)",
            "width": 1
           },
           "mode": "lines",
           "x": [
            0,
            0.33,
            null,
            0.3003062713421305,
            0.2855225877733855,
            null,
            0.3003062713421305,
            0.2629725579755741,
            null
           ],
           "y": [
            0.5,
            1,
            null,
            0.9550095020335311,
            0.8882926689752846,
            null,
            0.9550095020335311,
            0.9427605821595028,
            null
           ]
          },
          {
           "hoverinfo": "none",
           "line": {
            "color": "rgb(0, 0, 0)",
            "width": 1
           },
           "mode": "lines",
           "x": [
            0,
            0.33,
            null,
            0.3003062713421305,
            0.2629725579755741,
            null,
            0.3003062713421305,
            0.2855225877733855,
            null
           ],
           "y": [
            0.5,
            0,
            null,
            0.04499049796646893,
            0.0572394178404972,
            null,
            0.04499049796646893,
            0.11170733102471547,
            null
           ]
          },
          {
           "hoverinfo": "none",
           "line": {
            "color": "rgb(0, 0, 0)",
            "width": 1
           },
           "mode": "lines",
           "x": [
            0.33,
            0.66,
            null,
            0.6221212121212122,
            0.5888794484132436,
            null,
            0.6221212121212122,
            0.5888794484132436,
            null
           ],
           "y": [
            1,
            1,
            null,
            1,
            0.9652590189417244,
            null,
            1,
            1.0347409810582755,
            null
           ]
          },
          {
           "hoverinfo": "none",
           "line": {
            "color": "rgb(0, 0, 0)",
            "width": 1
           },
           "mode": "lines",
           "x": [
            0.66,
            1,
            null,
            0.9621212121212122,
            0.9288794484132434,
            null,
            0.9621212121212122,
            0.9288794484132434,
            null
           ],
           "y": [
            1,
            1,
            null,
            1,
            0.9652590189417244,
            null,
            1,
            1.0347409810582755,
            null
           ]
          },
          {
           "hoverinfo": "none",
           "line": {
            "color": "rgb(0, 0, 0)",
            "width": 1
           },
           "mode": "lines",
           "x": [
            0.66,
            0.33,
            null,
            0.35022071942550836,
            0.3526100389194443,
            null,
            0.35022071942550836,
            0.3833221014449805,
            null
           ],
           "y": [
            1,
            0,
            null,
            0.06127490735002531,
            0.13359437096827784,
            null,
            0.06127490735002531,
            0.09650302407543368,
            null
           ]
          },
          {
           "hoverinfo": "none",
           "line": {
            "color": "rgb(0, 0, 0)",
            "width": 1
           },
           "mode": "lines",
           "x": [
            1,
            0.66,
            null,
            0.6806532023433265,
            0.6835549327328607,
            null,
            0.6806532023433265,
            0.7140012524011855,
            null
           ],
           "y": [
            1,
            0,
            null,
            0.06074471277448944,
            0.13299554373343975,
            null,
            0.06074471277448944,
            0.09511088313140172,
            null
           ]
          },
          {
           "hoverinfo": "none",
           "line": {
            "color": "rgb(0, 0, 0)",
            "width": 1
           },
           "mode": "lines",
           "x": [
            0.33,
            0.66,
            null,
            0.6221212121212122,
            0.5888794484132436,
            null,
            0.6221212121212122,
            0.5888794484132436,
            null
           ],
           "y": [
            0,
            0,
            null,
            0,
            -0.034740981058275576,
            null,
            0,
            0.034740981058275576,
            null
           ]
          },
          {
           "hoverinfo": "none",
           "line": {
            "color": "rgb(0, 0, 0)",
            "width": 1
           },
           "mode": "lines",
           "x": [
            0.66,
            1,
            null,
            0.9621212121212122,
            0.9288794484132434,
            null,
            0.9621212121212122,
            0.9288794484132434,
            null
           ],
           "y": [
            0,
            0,
            null,
            0,
            -0.034740981058275576,
            null,
            0,
            0.034740981058275576,
            null
           ]
          },
          {
           "hoverinfo": "none",
           "marker": {
            "color": "rgb(0, 255, 0)",
            "line": {
             "color": "rgb(0, 0, 0)",
             "width": 1
            },
            "size": 20
           },
           "mode": "markers+text",
           "text": [
            "0"
           ],
           "textfont": {
            "color": "rgb(0, 0, 0)"
           },
           "textposition": "middle center",
           "x": [
            0
           ],
           "y": [
            0.5
           ]
          },
          {
           "hoverinfo": "none",
           "marker": {
            "color": "rgb(0, 255, 0)",
            "line": {
             "color": "rgb(0, 0, 0)",
             "width": 1
            },
            "size": 20
           },
           "mode": "markers+text",
           "text": [
            "1"
           ],
           "textfont": {
            "color": "rgb(0, 0, 0)"
           },
           "textposition": "middle center",
           "x": [
            0.33
           ],
           "y": [
            1
           ]
          },
          {
           "hoverinfo": "none",
           "marker": {
            "color": "rgb(0, 255, 0)",
            "line": {
             "color": "rgb(0, 0, 0)",
             "width": 1
            },
            "size": 20
           },
           "mode": "markers+text",
           "text": [
            "2"
           ],
           "textfont": {
            "color": "rgb(0, 0, 0)"
           },
           "textposition": "middle center",
           "x": [
            0.66
           ],
           "y": [
            1
           ]
          },
          {
           "hoverinfo": "none",
           "marker": {
            "color": "rgb(255, 255, 255)",
            "line": {
             "color": "rgb(0, 0, 0)",
             "width": 1
            },
            "size": 20
           },
           "mode": "markers+text",
           "text": [
            "3"
           ],
           "textfont": {
            "color": "rgb(0, 0, 0)"
           },
           "textposition": "middle center",
           "x": [
            1
           ],
           "y": [
            1
           ]
          },
          {
           "hoverinfo": "none",
           "marker": {
            "color": "rgb(255, 255, 255)",
            "line": {
             "color": "rgb(0, 0, 0)",
             "width": 1
            },
            "size": 20
           },
           "mode": "markers+text",
           "text": [
            "4"
           ],
           "textfont": {
            "color": "rgb(0, 0, 0)"
           },
           "textposition": "middle center",
           "x": [
            0.33
           ],
           "y": [
            0
           ]
          },
          {
           "hoverinfo": "none",
           "marker": {
            "color": "rgb(255, 255, 255)",
            "line": {
             "color": "rgb(0, 0, 0)",
             "width": 1
            },
            "size": 20
           },
           "mode": "markers+text",
           "text": [
            "5"
           ],
           "textfont": {
            "color": "rgb(0, 0, 0)"
           },
           "textposition": "middle center",
           "x": [
            0.66
           ],
           "y": [
            0
           ]
          },
          {
           "hoverinfo": "none",
           "marker": {
            "color": "rgb(255, 255, 255)",
            "line": {
             "color": "rgb(0, 0, 0)",
             "width": 1
            },
            "size": 20
           },
           "mode": "markers+text",
           "text": [
            "6"
           ],
           "textfont": {
            "color": "rgb(0, 0, 0)"
           },
           "textposition": "middle center",
           "x": [
            1
           ],
           "y": [
            0
           ]
          }
         ],
         "name": 2
        },
        {
         "data": [
          {
           "hoverinfo": "none",
           "line": {
            "color": "rgb(0, 0, 0)",
            "width": 1
           },
           "mode": "lines",
           "x": [
            0,
            0.33,
            null,
            0.3003062713421305,
            0.2855225877733855,
            null,
            0.3003062713421305,
            0.2629725579755741,
            null
           ],
           "y": [
            0.5,
            1,
            null,
            0.9550095020335311,
            0.8882926689752846,
            null,
            0.9550095020335311,
            0.9427605821595028,
            null
           ]
          },
          {
           "hoverinfo": "none",
           "line": {
            "color": "rgb(0, 0, 0)",
            "width": 1
           },
           "mode": "lines",
           "x": [
            0,
            0.33,
            null,
            0.3003062713421305,
            0.2629725579755741,
            null,
            0.3003062713421305,
            0.2855225877733855,
            null
           ],
           "y": [
            0.5,
            0,
            null,
            0.04499049796646893,
            0.0572394178404972,
            null,
            0.04499049796646893,
            0.11170733102471547,
            null
           ]
          },
          {
           "hoverinfo": "none",
           "line": {
            "color": "rgb(0, 0, 0)",
            "width": 1
           },
           "mode": "lines",
           "x": [
            0.33,
            0.66,
            null,
            0.6221212121212122,
            0.5888794484132436,
            null,
            0.6221212121212122,
            0.5888794484132436,
            null
           ],
           "y": [
            1,
            1,
            null,
            1,
            0.9652590189417244,
            null,
            1,
            1.0347409810582755,
            null
           ]
          },
          {
           "hoverinfo": "none",
           "line": {
            "color": "rgb(0, 0, 0)",
            "width": 1
           },
           "mode": "lines",
           "x": [
            0.66,
            1,
            null,
            0.9621212121212122,
            0.9288794484132434,
            null,
            0.9621212121212122,
            0.9288794484132434,
            null
           ],
           "y": [
            1,
            1,
            null,
            1,
            0.9652590189417244,
            null,
            1,
            1.0347409810582755,
            null
           ]
          },
          {
           "hoverinfo": "none",
           "line": {
            "color": "rgb(0, 0, 0)",
            "width": 1
           },
           "mode": "lines",
           "x": [
            0.66,
            0.33,
            null,
            0.35022071942550836,
            0.3526100389194443,
            null,
            0.35022071942550836,
            0.3833221014449805,
            null
           ],
           "y": [
            1,
            0,
            null,
            0.06127490735002531,
            0.13359437096827784,
            null,
            0.06127490735002531,
            0.09650302407543368,
            null
           ]
          },
          {
           "hoverinfo": "none",
           "line": {
            "color": "rgb(0, 0, 0)",
            "width": 1
           },
           "mode": "lines",
           "x": [
            1,
            0.66,
            null,
            0.6806532023433265,
            0.6835549327328607,
            null,
            0.6806532023433265,
            0.7140012524011855,
            null
           ],
           "y": [
            1,
            0,
            null,
            0.06074471277448944,
            0.13299554373343975,
            null,
            0.06074471277448944,
            0.09511088313140172,
            null
           ]
          },
          {
           "hoverinfo": "none",
           "line": {
            "color": "rgb(0, 0, 0)",
            "width": 1
           },
           "mode": "lines",
           "x": [
            0.33,
            0.66,
            null,
            0.6221212121212122,
            0.5888794484132436,
            null,
            0.6221212121212122,
            0.5888794484132436,
            null
           ],
           "y": [
            0,
            0,
            null,
            0,
            -0.034740981058275576,
            null,
            0,
            0.034740981058275576,
            null
           ]
          },
          {
           "hoverinfo": "none",
           "line": {
            "color": "rgb(0, 0, 0)",
            "width": 1
           },
           "mode": "lines",
           "x": [
            0.66,
            1,
            null,
            0.9621212121212122,
            0.9288794484132434,
            null,
            0.9621212121212122,
            0.9288794484132434,
            null
           ],
           "y": [
            0,
            0,
            null,
            0,
            -0.034740981058275576,
            null,
            0,
            0.034740981058275576,
            null
           ]
          },
          {
           "hoverinfo": "none",
           "marker": {
            "color": "rgb(0, 255, 0)",
            "line": {
             "color": "rgb(0, 0, 0)",
             "width": 1
            },
            "size": 20
           },
           "mode": "markers+text",
           "text": [
            "0"
           ],
           "textfont": {
            "color": "rgb(0, 0, 0)"
           },
           "textposition": "middle center",
           "x": [
            0
           ],
           "y": [
            0.5
           ]
          },
          {
           "hoverinfo": "none",
           "marker": {
            "color": "rgb(0, 255, 0)",
            "line": {
             "color": "rgb(0, 0, 0)",
             "width": 1
            },
            "size": 20
           },
           "mode": "markers+text",
           "text": [
            "1"
           ],
           "textfont": {
            "color": "rgb(0, 0, 0)"
           },
           "textposition": "middle center",
           "x": [
            0.33
           ],
           "y": [
            1
           ]
          },
          {
           "hoverinfo": "none",
           "marker": {
            "color": "rgb(0, 255, 0)",
            "line": {
             "color": "rgb(0, 0, 0)",
             "width": 1
            },
            "size": 20
           },
           "mode": "markers+text",
           "text": [
            "2"
           ],
           "textfont": {
            "color": "rgb(0, 0, 0)"
           },
           "textposition": "middle center",
           "x": [
            0.66
           ],
           "y": [
            1
           ]
          },
          {
           "hoverinfo": "none",
           "marker": {
            "color": "rgb(0, 255, 0)",
            "line": {
             "color": "rgb(0, 0, 0)",
             "width": 1
            },
            "size": 20
           },
           "mode": "markers+text",
           "text": [
            "3"
           ],
           "textfont": {
            "color": "rgb(0, 0, 0)"
           },
           "textposition": "middle center",
           "x": [
            1
           ],
           "y": [
            1
           ]
          },
          {
           "hoverinfo": "none",
           "marker": {
            "color": "rgb(255, 255, 255)",
            "line": {
             "color": "rgb(0, 0, 0)",
             "width": 1
            },
            "size": 20
           },
           "mode": "markers+text",
           "text": [
            "4"
           ],
           "textfont": {
            "color": "rgb(0, 0, 0)"
           },
           "textposition": "middle center",
           "x": [
            0.33
           ],
           "y": [
            0
           ]
          },
          {
           "hoverinfo": "none",
           "marker": {
            "color": "rgb(255, 255, 255)",
            "line": {
             "color": "rgb(0, 0, 0)",
             "width": 1
            },
            "size": 20
           },
           "mode": "markers+text",
           "text": [
            "5"
           ],
           "textfont": {
            "color": "rgb(0, 0, 0)"
           },
           "textposition": "middle center",
           "x": [
            0.66
           ],
           "y": [
            0
           ]
          },
          {
           "hoverinfo": "none",
           "marker": {
            "color": "rgb(255, 255, 255)",
            "line": {
             "color": "rgb(0, 0, 0)",
             "width": 1
            },
            "size": 20
           },
           "mode": "markers+text",
           "text": [
            "6"
           ],
           "textfont": {
            "color": "rgb(0, 0, 0)"
           },
           "textposition": "middle center",
           "x": [
            1
           ],
           "y": [
            0
           ]
          }
         ],
         "name": 3
        },
        {
         "data": [
          {
           "hoverinfo": "none",
           "line": {
            "color": "rgb(0, 0, 0)",
            "width": 1
           },
           "mode": "lines",
           "x": [
            0,
            0.33,
            null,
            0.3003062713421305,
            0.2855225877733855,
            null,
            0.3003062713421305,
            0.2629725579755741,
            null
           ],
           "y": [
            0.5,
            1,
            null,
            0.9550095020335311,
            0.8882926689752846,
            null,
            0.9550095020335311,
            0.9427605821595028,
            null
           ]
          },
          {
           "hoverinfo": "none",
           "line": {
            "color": "rgb(0, 0, 0)",
            "width": 1
           },
           "mode": "lines",
           "x": [
            0,
            0.33,
            null,
            0.3003062713421305,
            0.2629725579755741,
            null,
            0.3003062713421305,
            0.2855225877733855,
            null
           ],
           "y": [
            0.5,
            0,
            null,
            0.04499049796646893,
            0.0572394178404972,
            null,
            0.04499049796646893,
            0.11170733102471547,
            null
           ]
          },
          {
           "hoverinfo": "none",
           "line": {
            "color": "rgb(0, 0, 0)",
            "width": 1
           },
           "mode": "lines",
           "x": [
            0.33,
            0.66,
            null,
            0.6221212121212122,
            0.5888794484132436,
            null,
            0.6221212121212122,
            0.5888794484132436,
            null
           ],
           "y": [
            1,
            1,
            null,
            1,
            0.9652590189417244,
            null,
            1,
            1.0347409810582755,
            null
           ]
          },
          {
           "hoverinfo": "none",
           "line": {
            "color": "rgb(0, 0, 0)",
            "width": 1
           },
           "mode": "lines",
           "x": [
            0.66,
            1,
            null,
            0.9621212121212122,
            0.9288794484132434,
            null,
            0.9621212121212122,
            0.9288794484132434,
            null
           ],
           "y": [
            1,
            1,
            null,
            1,
            0.9652590189417244,
            null,
            1,
            1.0347409810582755,
            null
           ]
          },
          {
           "hoverinfo": "none",
           "line": {
            "color": "rgb(0, 0, 0)",
            "width": 1
           },
           "mode": "lines",
           "x": [
            0.66,
            0.33,
            null,
            0.35022071942550836,
            0.3526100389194443,
            null,
            0.35022071942550836,
            0.3833221014449805,
            null
           ],
           "y": [
            1,
            0,
            null,
            0.06127490735002531,
            0.13359437096827784,
            null,
            0.06127490735002531,
            0.09650302407543368,
            null
           ]
          },
          {
           "hoverinfo": "none",
           "line": {
            "color": "rgb(0, 0, 0)",
            "width": 1
           },
           "mode": "lines",
           "x": [
            1,
            0.66,
            null,
            0.6806532023433265,
            0.6835549327328607,
            null,
            0.6806532023433265,
            0.7140012524011855,
            null
           ],
           "y": [
            1,
            0,
            null,
            0.06074471277448944,
            0.13299554373343975,
            null,
            0.06074471277448944,
            0.09511088313140172,
            null
           ]
          },
          {
           "hoverinfo": "none",
           "line": {
            "color": "rgb(0, 0, 0)",
            "width": 1
           },
           "mode": "lines",
           "x": [
            0.33,
            0.66,
            null,
            0.6221212121212122,
            0.5888794484132436,
            null,
            0.6221212121212122,
            0.5888794484132436,
            null
           ],
           "y": [
            0,
            0,
            null,
            0,
            -0.034740981058275576,
            null,
            0,
            0.034740981058275576,
            null
           ]
          },
          {
           "hoverinfo": "none",
           "line": {
            "color": "rgb(0, 0, 0)",
            "width": 1
           },
           "mode": "lines",
           "x": [
            0.66,
            1,
            null,
            0.9621212121212122,
            0.9288794484132434,
            null,
            0.9621212121212122,
            0.9288794484132434,
            null
           ],
           "y": [
            0,
            0,
            null,
            0,
            -0.034740981058275576,
            null,
            0,
            0.034740981058275576,
            null
           ]
          },
          {
           "hoverinfo": "none",
           "marker": {
            "color": "rgb(0, 255, 0)",
            "line": {
             "color": "rgb(0, 0, 0)",
             "width": 1
            },
            "size": 20
           },
           "mode": "markers+text",
           "text": [
            "0"
           ],
           "textfont": {
            "color": "rgb(0, 0, 0)"
           },
           "textposition": "middle center",
           "x": [
            0
           ],
           "y": [
            0.5
           ]
          },
          {
           "hoverinfo": "none",
           "marker": {
            "color": "rgb(0, 255, 0)",
            "line": {
             "color": "rgb(0, 0, 0)",
             "width": 1
            },
            "size": 20
           },
           "mode": "markers+text",
           "text": [
            "1"
           ],
           "textfont": {
            "color": "rgb(0, 0, 0)"
           },
           "textposition": "middle center",
           "x": [
            0.33
           ],
           "y": [
            1
           ]
          },
          {
           "hoverinfo": "none",
           "marker": {
            "color": "rgb(0, 255, 0)",
            "line": {
             "color": "rgb(0, 0, 0)",
             "width": 1
            },
            "size": 20
           },
           "mode": "markers+text",
           "text": [
            "2"
           ],
           "textfont": {
            "color": "rgb(0, 0, 0)"
           },
           "textposition": "middle center",
           "x": [
            0.66
           ],
           "y": [
            1
           ]
          },
          {
           "hoverinfo": "none",
           "marker": {
            "color": "rgb(0, 255, 0)",
            "line": {
             "color": "rgb(0, 0, 0)",
             "width": 1
            },
            "size": 20
           },
           "mode": "markers+text",
           "text": [
            "3"
           ],
           "textfont": {
            "color": "rgb(0, 0, 0)"
           },
           "textposition": "middle center",
           "x": [
            1
           ],
           "y": [
            1
           ]
          },
          {
           "hoverinfo": "none",
           "marker": {
            "color": "rgb(255, 255, 255)",
            "line": {
             "color": "rgb(0, 0, 0)",
             "width": 1
            },
            "size": 20
           },
           "mode": "markers+text",
           "text": [
            "4"
           ],
           "textfont": {
            "color": "rgb(0, 0, 0)"
           },
           "textposition": "middle center",
           "x": [
            0.33
           ],
           "y": [
            0
           ]
          },
          {
           "hoverinfo": "none",
           "marker": {
            "color": "rgb(0, 255, 0)",
            "line": {
             "color": "rgb(0, 0, 0)",
             "width": 1
            },
            "size": 20
           },
           "mode": "markers+text",
           "text": [
            "5"
           ],
           "textfont": {
            "color": "rgb(0, 0, 0)"
           },
           "textposition": "middle center",
           "x": [
            0.66
           ],
           "y": [
            0
           ]
          },
          {
           "hoverinfo": "none",
           "marker": {
            "color": "rgb(255, 255, 255)",
            "line": {
             "color": "rgb(0, 0, 0)",
             "width": 1
            },
            "size": 20
           },
           "mode": "markers+text",
           "text": [
            "6"
           ],
           "textfont": {
            "color": "rgb(0, 0, 0)"
           },
           "textposition": "middle center",
           "x": [
            1
           ],
           "y": [
            0
           ]
          }
         ],
         "name": 4
        },
        {
         "data": [
          {
           "hoverinfo": "none",
           "line": {
            "color": "rgb(0, 0, 0)",
            "width": 1
           },
           "mode": "lines",
           "x": [
            0,
            0.33,
            null,
            0.3003062713421305,
            0.2855225877733855,
            null,
            0.3003062713421305,
            0.2629725579755741,
            null
           ],
           "y": [
            0.5,
            1,
            null,
            0.9550095020335311,
            0.8882926689752846,
            null,
            0.9550095020335311,
            0.9427605821595028,
            null
           ]
          },
          {
           "hoverinfo": "none",
           "line": {
            "color": "rgb(0, 0, 0)",
            "width": 1
           },
           "mode": "lines",
           "x": [
            0,
            0.33,
            null,
            0.3003062713421305,
            0.2629725579755741,
            null,
            0.3003062713421305,
            0.2855225877733855,
            null
           ],
           "y": [
            0.5,
            0,
            null,
            0.04499049796646893,
            0.0572394178404972,
            null,
            0.04499049796646893,
            0.11170733102471547,
            null
           ]
          },
          {
           "hoverinfo": "none",
           "line": {
            "color": "rgb(0, 0, 0)",
            "width": 1
           },
           "mode": "lines",
           "x": [
            0.33,
            0.66,
            null,
            0.6221212121212122,
            0.5888794484132436,
            null,
            0.6221212121212122,
            0.5888794484132436,
            null
           ],
           "y": [
            1,
            1,
            null,
            1,
            0.9652590189417244,
            null,
            1,
            1.0347409810582755,
            null
           ]
          },
          {
           "hoverinfo": "none",
           "line": {
            "color": "rgb(0, 0, 0)",
            "width": 1
           },
           "mode": "lines",
           "x": [
            0.66,
            1,
            null,
            0.9621212121212122,
            0.9288794484132434,
            null,
            0.9621212121212122,
            0.9288794484132434,
            null
           ],
           "y": [
            1,
            1,
            null,
            1,
            0.9652590189417244,
            null,
            1,
            1.0347409810582755,
            null
           ]
          },
          {
           "hoverinfo": "none",
           "line": {
            "color": "rgb(0, 0, 0)",
            "width": 1
           },
           "mode": "lines",
           "x": [
            0.66,
            0.33,
            null,
            0.35022071942550836,
            0.3526100389194443,
            null,
            0.35022071942550836,
            0.3833221014449805,
            null
           ],
           "y": [
            1,
            0,
            null,
            0.06127490735002531,
            0.13359437096827784,
            null,
            0.06127490735002531,
            0.09650302407543368,
            null
           ]
          },
          {
           "hoverinfo": "none",
           "line": {
            "color": "rgb(0, 0, 0)",
            "width": 1
           },
           "mode": "lines",
           "x": [
            1,
            0.66,
            null,
            0.6806532023433265,
            0.6835549327328607,
            null,
            0.6806532023433265,
            0.7140012524011855,
            null
           ],
           "y": [
            1,
            0,
            null,
            0.06074471277448944,
            0.13299554373343975,
            null,
            0.06074471277448944,
            0.09511088313140172,
            null
           ]
          },
          {
           "hoverinfo": "none",
           "line": {
            "color": "rgb(0, 0, 0)",
            "width": 1
           },
           "mode": "lines",
           "x": [
            0.33,
            0.66,
            null,
            0.6221212121212122,
            0.5888794484132436,
            null,
            0.6221212121212122,
            0.5888794484132436,
            null
           ],
           "y": [
            0,
            0,
            null,
            0,
            -0.034740981058275576,
            null,
            0,
            0.034740981058275576,
            null
           ]
          },
          {
           "hoverinfo": "none",
           "line": {
            "color": "rgb(0, 0, 0)",
            "width": 1
           },
           "mode": "lines",
           "x": [
            0.66,
            1,
            null,
            0.9621212121212122,
            0.9288794484132434,
            null,
            0.9621212121212122,
            0.9288794484132434,
            null
           ],
           "y": [
            0,
            0,
            null,
            0,
            -0.034740981058275576,
            null,
            0,
            0.034740981058275576,
            null
           ]
          },
          {
           "hoverinfo": "none",
           "marker": {
            "color": "rgb(0, 255, 0)",
            "line": {
             "color": "rgb(0, 0, 0)",
             "width": 1
            },
            "size": 20
           },
           "mode": "markers+text",
           "text": [
            "0"
           ],
           "textfont": {
            "color": "rgb(0, 0, 0)"
           },
           "textposition": "middle center",
           "x": [
            0
           ],
           "y": [
            0.5
           ]
          },
          {
           "hoverinfo": "none",
           "marker": {
            "color": "rgb(0, 255, 0)",
            "line": {
             "color": "rgb(0, 0, 0)",
             "width": 1
            },
            "size": 20
           },
           "mode": "markers+text",
           "text": [
            "1"
           ],
           "textfont": {
            "color": "rgb(0, 0, 0)"
           },
           "textposition": "middle center",
           "x": [
            0.33
           ],
           "y": [
            1
           ]
          },
          {
           "hoverinfo": "none",
           "marker": {
            "color": "rgb(0, 255, 0)",
            "line": {
             "color": "rgb(0, 0, 0)",
             "width": 1
            },
            "size": 20
           },
           "mode": "markers+text",
           "text": [
            "2"
           ],
           "textfont": {
            "color": "rgb(0, 0, 0)"
           },
           "textposition": "middle center",
           "x": [
            0.66
           ],
           "y": [
            1
           ]
          },
          {
           "hoverinfo": "none",
           "marker": {
            "color": "rgb(0, 255, 0)",
            "line": {
             "color": "rgb(0, 0, 0)",
             "width": 1
            },
            "size": 20
           },
           "mode": "markers+text",
           "text": [
            "3"
           ],
           "textfont": {
            "color": "rgb(0, 0, 0)"
           },
           "textposition": "middle center",
           "x": [
            1
           ],
           "y": [
            1
           ]
          },
          {
           "hoverinfo": "none",
           "marker": {
            "color": "rgb(255, 255, 255)",
            "line": {
             "color": "rgb(0, 0, 0)",
             "width": 1
            },
            "size": 20
           },
           "mode": "markers+text",
           "text": [
            "4"
           ],
           "textfont": {
            "color": "rgb(0, 0, 0)"
           },
           "textposition": "middle center",
           "x": [
            0.33
           ],
           "y": [
            0
           ]
          },
          {
           "hoverinfo": "none",
           "marker": {
            "color": "rgb(0, 255, 0)",
            "line": {
             "color": "rgb(0, 0, 0)",
             "width": 1
            },
            "size": 20
           },
           "mode": "markers+text",
           "text": [
            "5"
           ],
           "textfont": {
            "color": "rgb(0, 0, 0)"
           },
           "textposition": "middle center",
           "x": [
            0.66
           ],
           "y": [
            0
           ]
          },
          {
           "hoverinfo": "none",
           "marker": {
            "color": "rgb(0, 255, 0)",
            "line": {
             "color": "rgb(0, 0, 0)",
             "width": 1
            },
            "size": 20
           },
           "mode": "markers+text",
           "text": [
            "6"
           ],
           "textfont": {
            "color": "rgb(0, 0, 0)"
           },
           "textposition": "middle center",
           "x": [
            1
           ],
           "y": [
            0
           ]
          }
         ],
         "name": 5
        },
        {
         "data": [
          {
           "hoverinfo": "none",
           "line": {
            "color": "rgb(0, 0, 0)",
            "width": 1
           },
           "mode": "lines",
           "x": [
            0,
            0.33,
            null,
            0.3003062713421305,
            0.2855225877733855,
            null,
            0.3003062713421305,
            0.2629725579755741,
            null
           ],
           "y": [
            0.5,
            1,
            null,
            0.9550095020335311,
            0.8882926689752846,
            null,
            0.9550095020335311,
            0.9427605821595028,
            null
           ]
          },
          {
           "hoverinfo": "none",
           "line": {
            "color": "rgb(0, 0, 0)",
            "width": 1
           },
           "mode": "lines",
           "x": [
            0,
            0.33,
            null,
            0.3003062713421305,
            0.2629725579755741,
            null,
            0.3003062713421305,
            0.2855225877733855,
            null
           ],
           "y": [
            0.5,
            0,
            null,
            0.04499049796646893,
            0.0572394178404972,
            null,
            0.04499049796646893,
            0.11170733102471547,
            null
           ]
          },
          {
           "hoverinfo": "none",
           "line": {
            "color": "rgb(0, 0, 0)",
            "width": 1
           },
           "mode": "lines",
           "x": [
            0.33,
            0.66,
            null,
            0.6221212121212122,
            0.5888794484132436,
            null,
            0.6221212121212122,
            0.5888794484132436,
            null
           ],
           "y": [
            1,
            1,
            null,
            1,
            0.9652590189417244,
            null,
            1,
            1.0347409810582755,
            null
           ]
          },
          {
           "hoverinfo": "none",
           "line": {
            "color": "rgb(0, 0, 0)",
            "width": 1
           },
           "mode": "lines",
           "x": [
            0.66,
            1,
            null,
            0.9621212121212122,
            0.9288794484132434,
            null,
            0.9621212121212122,
            0.9288794484132434,
            null
           ],
           "y": [
            1,
            1,
            null,
            1,
            0.9652590189417244,
            null,
            1,
            1.0347409810582755,
            null
           ]
          },
          {
           "hoverinfo": "none",
           "line": {
            "color": "rgb(0, 0, 0)",
            "width": 1
           },
           "mode": "lines",
           "x": [
            0.66,
            0.33,
            null,
            0.35022071942550836,
            0.3526100389194443,
            null,
            0.35022071942550836,
            0.3833221014449805,
            null
           ],
           "y": [
            1,
            0,
            null,
            0.06127490735002531,
            0.13359437096827784,
            null,
            0.06127490735002531,
            0.09650302407543368,
            null
           ]
          },
          {
           "hoverinfo": "none",
           "line": {
            "color": "rgb(0, 0, 0)",
            "width": 1
           },
           "mode": "lines",
           "x": [
            1,
            0.66,
            null,
            0.6806532023433265,
            0.6835549327328607,
            null,
            0.6806532023433265,
            0.7140012524011855,
            null
           ],
           "y": [
            1,
            0,
            null,
            0.06074471277448944,
            0.13299554373343975,
            null,
            0.06074471277448944,
            0.09511088313140172,
            null
           ]
          },
          {
           "hoverinfo": "none",
           "line": {
            "color": "rgb(0, 0, 0)",
            "width": 1
           },
           "mode": "lines",
           "x": [
            0.33,
            0.66,
            null,
            0.6221212121212122,
            0.5888794484132436,
            null,
            0.6221212121212122,
            0.5888794484132436,
            null
           ],
           "y": [
            0,
            0,
            null,
            0,
            -0.034740981058275576,
            null,
            0,
            0.034740981058275576,
            null
           ]
          },
          {
           "hoverinfo": "none",
           "line": {
            "color": "rgb(0, 0, 0)",
            "width": 1
           },
           "mode": "lines",
           "x": [
            0.66,
            1,
            null,
            0.9621212121212122,
            0.9288794484132434,
            null,
            0.9621212121212122,
            0.9288794484132434,
            null
           ],
           "y": [
            0,
            0,
            null,
            0,
            -0.034740981058275576,
            null,
            0,
            0.034740981058275576,
            null
           ]
          },
          {
           "hoverinfo": "none",
           "marker": {
            "color": "rgb(0, 255, 0)",
            "line": {
             "color": "rgb(0, 0, 0)",
             "width": 1
            },
            "size": 20
           },
           "mode": "markers+text",
           "text": [
            "0"
           ],
           "textfont": {
            "color": "rgb(0, 0, 0)"
           },
           "textposition": "middle center",
           "x": [
            0
           ],
           "y": [
            0.5
           ]
          },
          {
           "hoverinfo": "none",
           "marker": {
            "color": "rgb(0, 255, 0)",
            "line": {
             "color": "rgb(0, 0, 0)",
             "width": 1
            },
            "size": 20
           },
           "mode": "markers+text",
           "text": [
            "1"
           ],
           "textfont": {
            "color": "rgb(0, 0, 0)"
           },
           "textposition": "middle center",
           "x": [
            0.33
           ],
           "y": [
            1
           ]
          },
          {
           "hoverinfo": "none",
           "marker": {
            "color": "rgb(0, 255, 0)",
            "line": {
             "color": "rgb(0, 0, 0)",
             "width": 1
            },
            "size": 20
           },
           "mode": "markers+text",
           "text": [
            "2"
           ],
           "textfont": {
            "color": "rgb(0, 0, 0)"
           },
           "textposition": "middle center",
           "x": [
            0.66
           ],
           "y": [
            1
           ]
          },
          {
           "hoverinfo": "none",
           "marker": {
            "color": "rgb(0, 255, 0)",
            "line": {
             "color": "rgb(0, 0, 0)",
             "width": 1
            },
            "size": 20
           },
           "mode": "markers+text",
           "text": [
            "3"
           ],
           "textfont": {
            "color": "rgb(0, 0, 0)"
           },
           "textposition": "middle center",
           "x": [
            1
           ],
           "y": [
            1
           ]
          },
          {
           "hoverinfo": "none",
           "marker": {
            "color": "rgb(0, 255, 0)",
            "line": {
             "color": "rgb(0, 0, 0)",
             "width": 1
            },
            "size": 20
           },
           "mode": "markers+text",
           "text": [
            "4"
           ],
           "textfont": {
            "color": "rgb(0, 0, 0)"
           },
           "textposition": "middle center",
           "x": [
            0.33
           ],
           "y": [
            0
           ]
          },
          {
           "hoverinfo": "none",
           "marker": {
            "color": "rgb(0, 255, 0)",
            "line": {
             "color": "rgb(0, 0, 0)",
             "width": 1
            },
            "size": 20
           },
           "mode": "markers+text",
           "text": [
            "5"
           ],
           "textfont": {
            "color": "rgb(0, 0, 0)"
           },
           "textposition": "middle center",
           "x": [
            0.66
           ],
           "y": [
            0
           ]
          },
          {
           "hoverinfo": "none",
           "marker": {
            "color": "rgb(0, 255, 0)",
            "line": {
             "color": "rgb(0, 0, 0)",
             "width": 1
            },
            "size": 20
           },
           "mode": "markers+text",
           "text": [
            "6"
           ],
           "textfont": {
            "color": "rgb(0, 0, 0)"
           },
           "textposition": "middle center",
           "x": [
            1
           ],
           "y": [
            0
           ]
          }
         ],
         "name": 6
        }
       ],
       "layout": {
        "height": 256,
        "margin": {
         "b": 0,
         "l": 0,
         "r": 0,
         "t": 0
        },
        "showlegend": false,
        "sliders": [
         {
          "currentvalue": {
           "visible": false
          },
          "steps": [
           {
            "args": [
             [
              0
             ],
             {
              "frame": {
               "redraw": false
              },
              "mode": "immediate"
             }
            ],
            "label": "",
            "method": "animate"
           },
           {
            "args": [
             [
              1
             ],
             {
              "frame": {
               "redraw": false
              },
              "mode": "immediate"
             }
            ],
            "label": "",
            "method": "animate"
           },
           {
            "args": [
             [
              2
             ],
             {
              "frame": {
               "redraw": false
              },
              "mode": "immediate"
             }
            ],
            "label": "",
            "method": "animate"
           },
           {
            "args": [
             [
              3
             ],
             {
              "frame": {
               "redraw": false
              },
              "mode": "immediate"
             }
            ],
            "label": "",
            "method": "animate"
           },
           {
            "args": [
             [
              4
             ],
             {
              "frame": {
               "redraw": false
              },
              "mode": "immediate"
             }
            ],
            "label": "",
            "method": "animate"
           },
           {
            "args": [
             [
              5
             ],
             {
              "frame": {
               "redraw": false
              },
              "mode": "immediate"
             }
            ],
            "label": "",
            "method": "animate"
           },
           {
            "args": [
             [
              6
             ],
             {
              "frame": {
               "redraw": false
              },
              "mode": "immediate"
             }
            ],
            "label": "",
            "method": "animate"
           }
          ]
         }
        ],
        "updatemenus": [
         {
          "buttons": [
           {
            "args": [
             null,
             {
              "frame": {
               "redraw": false
              },
              "fromcurrent": true
             }
            ],
            "label": "Play",
            "method": "animate"
           },
           {
            "args": [
             [
              null
             ],
             {
              "frame": {
               "redraw": false
              },
              "mode": "immediate"
             }
            ],
            "label": "Pause",
            "method": "animate"
           }
          ],
          "showactive": true,
          "type": "buttons"
         }
        ],
        "width": 408,
        "xaxis": {
         "showgrid": false,
         "showticklabels": false,
         "zeroline": false
        },
        "yaxis": {
         "showgrid": false,
         "showticklabels": false,
         "zeroline": false
        }
       }
      },
      "text/html": [
       "<div id=\"f34d4d0d-a9e7-4c5d-a3b7-5e3a964a5a26\" style=\"height: 256.0px; width: 408.0px;\" class=\"plotly-graph-div\"></div><script type=\"text/javascript\">require([\"plotly\"], function(Plotly) { window.PLOTLYENV=window.PLOTLYENV || {};window.PLOTLYENV.BASE_URL=\"https://plot.ly\";\n",
       "        Plotly.plot(\n",
       "            'f34d4d0d-a9e7-4c5d-a3b7-5e3a964a5a26',\n",
       "            [{\"mode\": \"lines\", \"line\": {\"color\": \"rgb(0, 0, 0)\", \"width\": 1}, \"y\": [0.5, 1.0, null, 0.9550095020335311, 0.8882926689752846, null, 0.9550095020335311, 0.9427605821595028, null], \"hoverinfo\": \"none\", \"x\": [0.0, 0.33, null, 0.3003062713421305, 0.2855225877733855, null, 0.3003062713421305, 0.2629725579755741, null]}, {\"mode\": \"lines\", \"line\": {\"color\": \"rgb(0, 0, 0)\", \"width\": 1}, \"y\": [0.5, 0.0, null, 0.04499049796646893, 0.0572394178404972, null, 0.04499049796646893, 0.11170733102471547, null], \"hoverinfo\": \"none\", \"x\": [0.0, 0.33, null, 0.3003062713421305, 0.2629725579755741, null, 0.3003062713421305, 0.2855225877733855, null]}, {\"mode\": \"lines\", \"line\": {\"color\": \"rgb(0, 0, 0)\", \"width\": 1}, \"y\": [1.0, 1.0, null, 1.0, 0.9652590189417244, null, 1.0, 1.0347409810582755, null], \"hoverinfo\": \"none\", \"x\": [0.33, 0.66, null, 0.6221212121212122, 0.5888794484132436, null, 0.6221212121212122, 0.5888794484132436, null]}, {\"mode\": \"lines\", \"line\": {\"color\": \"rgb(0, 0, 0)\", \"width\": 1}, \"y\": [1.0, 1.0, null, 1.0, 0.9652590189417244, null, 1.0, 1.0347409810582755, null], \"hoverinfo\": \"none\", \"x\": [0.66, 1.0, null, 0.9621212121212122, 0.9288794484132434, null, 0.9621212121212122, 0.9288794484132434, null]}, {\"mode\": \"lines\", \"line\": {\"color\": \"rgb(0, 0, 0)\", \"width\": 1}, \"y\": [1.0, 0.0, null, 0.06127490735002531, 0.13359437096827784, null, 0.06127490735002531, 0.09650302407543368, null], \"hoverinfo\": \"none\", \"x\": [0.66, 0.33, null, 0.35022071942550836, 0.3526100389194443, null, 0.35022071942550836, 0.3833221014449805, null]}, {\"mode\": \"lines\", \"line\": {\"color\": \"rgb(0, 0, 0)\", \"width\": 1}, \"y\": [1.0, 0.0, null, 0.06074471277448944, 0.13299554373343975, null, 0.06074471277448944, 0.09511088313140172, null], \"hoverinfo\": \"none\", \"x\": [1.0, 0.66, null, 0.6806532023433265, 0.6835549327328607, null, 0.6806532023433265, 0.7140012524011855, null]}, {\"mode\": \"lines\", \"line\": {\"color\": \"rgb(0, 0, 0)\", \"width\": 1}, \"y\": [0.0, 0.0, null, 0.0, -0.034740981058275576, null, 0.0, 0.034740981058275576, null], \"hoverinfo\": \"none\", \"x\": [0.33, 0.66, null, 0.6221212121212122, 0.5888794484132436, null, 0.6221212121212122, 0.5888794484132436, null]}, {\"mode\": \"lines\", \"line\": {\"color\": \"rgb(0, 0, 0)\", \"width\": 1}, \"y\": [0.0, 0.0, null, 0.0, -0.034740981058275576, null, 0.0, 0.034740981058275576, null], \"hoverinfo\": \"none\", \"x\": [0.66, 1.0, null, 0.9621212121212122, 0.9288794484132434, null, 0.9621212121212122, 0.9288794484132434, null]}, {\"mode\": \"markers+text\", \"x\": [0.0], \"textposition\": \"middle center\", \"textfont\": {\"color\": \"rgb(0, 0, 0)\"}, \"marker\": {\"color\": \"rgb(0, 255, 0)\", \"line\": {\"color\": \"rgb(0, 0, 0)\", \"width\": 1}, \"size\": 20}, \"y\": [0.5], \"hoverinfo\": \"none\", \"text\": [\"0\"]}, {\"mode\": \"markers+text\", \"x\": [0.33], \"textposition\": \"middle center\", \"textfont\": {\"color\": \"rgb(0, 0, 0)\"}, \"marker\": {\"color\": \"rgb(255, 255, 255)\", \"line\": {\"color\": \"rgb(0, 0, 0)\", \"width\": 1}, \"size\": 20}, \"y\": [1.0], \"hoverinfo\": \"none\", \"text\": [\"1\"]}, {\"mode\": \"markers+text\", \"x\": [0.66], \"textposition\": \"middle center\", \"textfont\": {\"color\": \"rgb(0, 0, 0)\"}, \"marker\": {\"color\": \"rgb(255, 255, 255)\", \"line\": {\"color\": \"rgb(0, 0, 0)\", \"width\": 1}, \"size\": 20}, \"y\": [1.0], \"hoverinfo\": \"none\", \"text\": [\"2\"]}, {\"mode\": \"markers+text\", \"x\": [1.0], \"textposition\": \"middle center\", \"textfont\": {\"color\": \"rgb(0, 0, 0)\"}, \"marker\": {\"color\": \"rgb(255, 255, 255)\", \"line\": {\"color\": \"rgb(0, 0, 0)\", \"width\": 1}, \"size\": 20}, \"y\": [1.0], \"hoverinfo\": \"none\", \"text\": [\"3\"]}, {\"mode\": \"markers+text\", \"x\": [0.33], \"textposition\": \"middle center\", \"textfont\": {\"color\": \"rgb(0, 0, 0)\"}, \"marker\": {\"color\": \"rgb(255, 255, 255)\", \"line\": {\"color\": \"rgb(0, 0, 0)\", \"width\": 1}, \"size\": 20}, \"y\": [0.0], \"hoverinfo\": \"none\", \"text\": [\"4\"]}, {\"mode\": \"markers+text\", \"x\": [0.66], \"textposition\": \"middle center\", \"textfont\": {\"color\": \"rgb(0, 0, 0)\"}, \"marker\": {\"color\": \"rgb(255, 255, 255)\", \"line\": {\"color\": \"rgb(0, 0, 0)\", \"width\": 1}, \"size\": 20}, \"y\": [0.0], \"hoverinfo\": \"none\", \"text\": [\"5\"]}, {\"mode\": \"markers+text\", \"x\": [1.0], \"textposition\": \"middle center\", \"textfont\": {\"color\": \"rgb(0, 0, 0)\"}, \"marker\": {\"color\": \"rgb(255, 255, 255)\", \"line\": {\"color\": \"rgb(0, 0, 0)\", \"width\": 1}, \"size\": 20}, \"y\": [0.0], \"hoverinfo\": \"none\", \"text\": [\"6\"]}],\n",
       "            {\"margin\": {\"r\": 0, \"b\": 0, \"t\": 0, \"l\": 0}, \"showlegend\": false, \"updatemenus\": [{\"buttons\": [{\"args\": [null, {\"fromcurrent\": true, \"frame\": {\"redraw\": false}}], \"method\": \"animate\", \"label\": \"Play\"}, {\"args\": [[null], {\"mode\": \"immediate\", \"frame\": {\"redraw\": false}}], \"method\": \"animate\", \"label\": \"Pause\"}], \"showactive\": true, \"type\": \"buttons\"}], \"xaxis\": {\"showticklabels\": false, \"showgrid\": false, \"zeroline\": false}, \"height\": 256.0, \"sliders\": [{\"currentvalue\": {\"visible\": false}, \"steps\": [{\"args\": [[0], {\"mode\": \"immediate\", \"frame\": {\"redraw\": false}}], \"method\": \"animate\", \"label\": \"\"}, {\"args\": [[1], {\"mode\": \"immediate\", \"frame\": {\"redraw\": false}}], \"method\": \"animate\", \"label\": \"\"}, {\"args\": [[2], {\"mode\": \"immediate\", \"frame\": {\"redraw\": false}}], \"method\": \"animate\", \"label\": \"\"}, {\"args\": [[3], {\"mode\": \"immediate\", \"frame\": {\"redraw\": false}}], \"method\": \"animate\", \"label\": \"\"}, {\"args\": [[4], {\"mode\": \"immediate\", \"frame\": {\"redraw\": false}}], \"method\": \"animate\", \"label\": \"\"}, {\"args\": [[5], {\"mode\": \"immediate\", \"frame\": {\"redraw\": false}}], \"method\": \"animate\", \"label\": \"\"}, {\"args\": [[6], {\"mode\": \"immediate\", \"frame\": {\"redraw\": false}}], \"method\": \"animate\", \"label\": \"\"}]}], \"width\": 408.0, \"yaxis\": {\"showticklabels\": false, \"showgrid\": false, \"zeroline\": false}},\n",
       "            {\"linkText\": \"Export to plot.ly\", \"displayModeBar\": false, \"showLink\": false}\n",
       "        ).then(function () {return Plotly.addFrames('f34d4d0d-a9e7-4c5d-a3b7-5e3a964a5a26',[{\"name\": 0, \"data\": [{\"mode\": \"lines\", \"line\": {\"color\": \"rgb(0, 0, 0)\", \"width\": 1}, \"y\": [0.5, 1.0, null, 0.9550095020335311, 0.8882926689752846, null, 0.9550095020335311, 0.9427605821595028, null], \"hoverinfo\": \"none\", \"x\": [0.0, 0.33, null, 0.3003062713421305, 0.2855225877733855, null, 0.3003062713421305, 0.2629725579755741, null]}, {\"mode\": \"lines\", \"line\": {\"color\": \"rgb(0, 0, 0)\", \"width\": 1}, \"y\": [0.5, 0.0, null, 0.04499049796646893, 0.0572394178404972, null, 0.04499049796646893, 0.11170733102471547, null], \"hoverinfo\": \"none\", \"x\": [0.0, 0.33, null, 0.3003062713421305, 0.2629725579755741, null, 0.3003062713421305, 0.2855225877733855, null]}, {\"mode\": \"lines\", \"line\": {\"color\": \"rgb(0, 0, 0)\", \"width\": 1}, \"y\": [1.0, 1.0, null, 1.0, 0.9652590189417244, null, 1.0, 1.0347409810582755, null], \"hoverinfo\": \"none\", \"x\": [0.33, 0.66, null, 0.6221212121212122, 0.5888794484132436, null, 0.6221212121212122, 0.5888794484132436, null]}, {\"mode\": \"lines\", \"line\": {\"color\": \"rgb(0, 0, 0)\", \"width\": 1}, \"y\": [1.0, 1.0, null, 1.0, 0.9652590189417244, null, 1.0, 1.0347409810582755, null], \"hoverinfo\": \"none\", \"x\": [0.66, 1.0, null, 0.9621212121212122, 0.9288794484132434, null, 0.9621212121212122, 0.9288794484132434, null]}, {\"mode\": \"lines\", \"line\": {\"color\": \"rgb(0, 0, 0)\", \"width\": 1}, \"y\": [1.0, 0.0, null, 0.06127490735002531, 0.13359437096827784, null, 0.06127490735002531, 0.09650302407543368, null], \"hoverinfo\": \"none\", \"x\": [0.66, 0.33, null, 0.35022071942550836, 0.3526100389194443, null, 0.35022071942550836, 0.3833221014449805, null]}, {\"mode\": \"lines\", \"line\": {\"color\": \"rgb(0, 0, 0)\", \"width\": 1}, \"y\": [1.0, 0.0, null, 0.06074471277448944, 0.13299554373343975, null, 0.06074471277448944, 0.09511088313140172, null], \"hoverinfo\": \"none\", \"x\": [1.0, 0.66, null, 0.6806532023433265, 0.6835549327328607, null, 0.6806532023433265, 0.7140012524011855, null]}, {\"mode\": \"lines\", \"line\": {\"color\": \"rgb(0, 0, 0)\", \"width\": 1}, \"y\": [0.0, 0.0, null, 0.0, -0.034740981058275576, null, 0.0, 0.034740981058275576, null], \"hoverinfo\": \"none\", \"x\": [0.33, 0.66, null, 0.6221212121212122, 0.5888794484132436, null, 0.6221212121212122, 0.5888794484132436, null]}, {\"mode\": \"lines\", \"line\": {\"color\": \"rgb(0, 0, 0)\", \"width\": 1}, \"y\": [0.0, 0.0, null, 0.0, -0.034740981058275576, null, 0.0, 0.034740981058275576, null], \"hoverinfo\": \"none\", \"x\": [0.66, 1.0, null, 0.9621212121212122, 0.9288794484132434, null, 0.9621212121212122, 0.9288794484132434, null]}, {\"mode\": \"markers+text\", \"x\": [0.0], \"textposition\": \"middle center\", \"textfont\": {\"color\": \"rgb(0, 0, 0)\"}, \"marker\": {\"color\": \"rgb(0, 255, 0)\", \"line\": {\"color\": \"rgb(0, 0, 0)\", \"width\": 1}, \"size\": 20}, \"y\": [0.5], \"hoverinfo\": \"none\", \"text\": [\"0\"]}, {\"mode\": \"markers+text\", \"x\": [0.33], \"textposition\": \"middle center\", \"textfont\": {\"color\": \"rgb(0, 0, 0)\"}, \"marker\": {\"color\": \"rgb(255, 255, 255)\", \"line\": {\"color\": \"rgb(0, 0, 0)\", \"width\": 1}, \"size\": 20}, \"y\": [1.0], \"hoverinfo\": \"none\", \"text\": [\"1\"]}, {\"mode\": \"markers+text\", \"x\": [0.66], \"textposition\": \"middle center\", \"textfont\": {\"color\": \"rgb(0, 0, 0)\"}, \"marker\": {\"color\": \"rgb(255, 255, 255)\", \"line\": {\"color\": \"rgb(0, 0, 0)\", \"width\": 1}, \"size\": 20}, \"y\": [1.0], \"hoverinfo\": \"none\", \"text\": [\"2\"]}, {\"mode\": \"markers+text\", \"x\": [1.0], \"textposition\": \"middle center\", \"textfont\": {\"color\": \"rgb(0, 0, 0)\"}, \"marker\": {\"color\": \"rgb(255, 255, 255)\", \"line\": {\"color\": \"rgb(0, 0, 0)\", \"width\": 1}, \"size\": 20}, \"y\": [1.0], \"hoverinfo\": \"none\", \"text\": [\"3\"]}, {\"mode\": \"markers+text\", \"x\": [0.33], \"textposition\": \"middle center\", \"textfont\": {\"color\": \"rgb(0, 0, 0)\"}, \"marker\": {\"color\": \"rgb(255, 255, 255)\", \"line\": {\"color\": \"rgb(0, 0, 0)\", \"width\": 1}, \"size\": 20}, \"y\": [0.0], \"hoverinfo\": \"none\", \"text\": [\"4\"]}, {\"mode\": \"markers+text\", \"x\": [0.66], \"textposition\": \"middle center\", \"textfont\": {\"color\": \"rgb(0, 0, 0)\"}, \"marker\": {\"color\": \"rgb(255, 255, 255)\", \"line\": {\"color\": \"rgb(0, 0, 0)\", \"width\": 1}, \"size\": 20}, \"y\": [0.0], \"hoverinfo\": \"none\", \"text\": [\"5\"]}, {\"mode\": \"markers+text\", \"x\": [1.0], \"textposition\": \"middle center\", \"textfont\": {\"color\": \"rgb(0, 0, 0)\"}, \"marker\": {\"color\": \"rgb(255, 255, 255)\", \"line\": {\"color\": \"rgb(0, 0, 0)\", \"width\": 1}, \"size\": 20}, \"y\": [0.0], \"hoverinfo\": \"none\", \"text\": [\"6\"]}]}, {\"name\": 1, \"data\": [{\"mode\": \"lines\", \"line\": {\"color\": \"rgb(0, 0, 0)\", \"width\": 1}, \"y\": [0.5, 1.0, null, 0.9550095020335311, 0.8882926689752846, null, 0.9550095020335311, 0.9427605821595028, null], \"hoverinfo\": \"none\", \"x\": [0.0, 0.33, null, 0.3003062713421305, 0.2855225877733855, null, 0.3003062713421305, 0.2629725579755741, null]}, {\"mode\": \"lines\", \"line\": {\"color\": \"rgb(0, 0, 0)\", \"width\": 1}, \"y\": [0.5, 0.0, null, 0.04499049796646893, 0.0572394178404972, null, 0.04499049796646893, 0.11170733102471547, null], \"hoverinfo\": \"none\", \"x\": [0.0, 0.33, null, 0.3003062713421305, 0.2629725579755741, null, 0.3003062713421305, 0.2855225877733855, null]}, {\"mode\": \"lines\", \"line\": {\"color\": \"rgb(0, 0, 0)\", \"width\": 1}, \"y\": [1.0, 1.0, null, 1.0, 0.9652590189417244, null, 1.0, 1.0347409810582755, null], \"hoverinfo\": \"none\", \"x\": [0.33, 0.66, null, 0.6221212121212122, 0.5888794484132436, null, 0.6221212121212122, 0.5888794484132436, null]}, {\"mode\": \"lines\", \"line\": {\"color\": \"rgb(0, 0, 0)\", \"width\": 1}, \"y\": [1.0, 1.0, null, 1.0, 0.9652590189417244, null, 1.0, 1.0347409810582755, null], \"hoverinfo\": \"none\", \"x\": [0.66, 1.0, null, 0.9621212121212122, 0.9288794484132434, null, 0.9621212121212122, 0.9288794484132434, null]}, {\"mode\": \"lines\", \"line\": {\"color\": \"rgb(0, 0, 0)\", \"width\": 1}, \"y\": [1.0, 0.0, null, 0.06127490735002531, 0.13359437096827784, null, 0.06127490735002531, 0.09650302407543368, null], \"hoverinfo\": \"none\", \"x\": [0.66, 0.33, null, 0.35022071942550836, 0.3526100389194443, null, 0.35022071942550836, 0.3833221014449805, null]}, {\"mode\": \"lines\", \"line\": {\"color\": \"rgb(0, 0, 0)\", \"width\": 1}, \"y\": [1.0, 0.0, null, 0.06074471277448944, 0.13299554373343975, null, 0.06074471277448944, 0.09511088313140172, null], \"hoverinfo\": \"none\", \"x\": [1.0, 0.66, null, 0.6806532023433265, 0.6835549327328607, null, 0.6806532023433265, 0.7140012524011855, null]}, {\"mode\": \"lines\", \"line\": {\"color\": \"rgb(0, 0, 0)\", \"width\": 1}, \"y\": [0.0, 0.0, null, 0.0, -0.034740981058275576, null, 0.0, 0.034740981058275576, null], \"hoverinfo\": \"none\", \"x\": [0.33, 0.66, null, 0.6221212121212122, 0.5888794484132436, null, 0.6221212121212122, 0.5888794484132436, null]}, {\"mode\": \"lines\", \"line\": {\"color\": \"rgb(0, 0, 0)\", \"width\": 1}, \"y\": [0.0, 0.0, null, 0.0, -0.034740981058275576, null, 0.0, 0.034740981058275576, null], \"hoverinfo\": \"none\", \"x\": [0.66, 1.0, null, 0.9621212121212122, 0.9288794484132434, null, 0.9621212121212122, 0.9288794484132434, null]}, {\"mode\": \"markers+text\", \"x\": [0.0], \"textposition\": \"middle center\", \"textfont\": {\"color\": \"rgb(0, 0, 0)\"}, \"marker\": {\"color\": \"rgb(0, 255, 0)\", \"line\": {\"color\": \"rgb(0, 0, 0)\", \"width\": 1}, \"size\": 20}, \"y\": [0.5], \"hoverinfo\": \"none\", \"text\": [\"0\"]}, {\"mode\": \"markers+text\", \"x\": [0.33], \"textposition\": \"middle center\", \"textfont\": {\"color\": \"rgb(0, 0, 0)\"}, \"marker\": {\"color\": \"rgb(0, 255, 0)\", \"line\": {\"color\": \"rgb(0, 0, 0)\", \"width\": 1}, \"size\": 20}, \"y\": [1.0], \"hoverinfo\": \"none\", \"text\": [\"1\"]}, {\"mode\": \"markers+text\", \"x\": [0.66], \"textposition\": \"middle center\", \"textfont\": {\"color\": \"rgb(0, 0, 0)\"}, \"marker\": {\"color\": \"rgb(255, 255, 255)\", \"line\": {\"color\": \"rgb(0, 0, 0)\", \"width\": 1}, \"size\": 20}, \"y\": [1.0], \"hoverinfo\": \"none\", \"text\": [\"2\"]}, {\"mode\": \"markers+text\", \"x\": [1.0], \"textposition\": \"middle center\", \"textfont\": {\"color\": \"rgb(0, 0, 0)\"}, \"marker\": {\"color\": \"rgb(255, 255, 255)\", \"line\": {\"color\": \"rgb(0, 0, 0)\", \"width\": 1}, \"size\": 20}, \"y\": [1.0], \"hoverinfo\": \"none\", \"text\": [\"3\"]}, {\"mode\": \"markers+text\", \"x\": [0.33], \"textposition\": \"middle center\", \"textfont\": {\"color\": \"rgb(0, 0, 0)\"}, \"marker\": {\"color\": \"rgb(255, 255, 255)\", \"line\": {\"color\": \"rgb(0, 0, 0)\", \"width\": 1}, \"size\": 20}, \"y\": [0.0], \"hoverinfo\": \"none\", \"text\": [\"4\"]}, {\"mode\": \"markers+text\", \"x\": [0.66], \"textposition\": \"middle center\", \"textfont\": {\"color\": \"rgb(0, 0, 0)\"}, \"marker\": {\"color\": \"rgb(255, 255, 255)\", \"line\": {\"color\": \"rgb(0, 0, 0)\", \"width\": 1}, \"size\": 20}, \"y\": [0.0], \"hoverinfo\": \"none\", \"text\": [\"5\"]}, {\"mode\": \"markers+text\", \"x\": [1.0], \"textposition\": \"middle center\", \"textfont\": {\"color\": \"rgb(0, 0, 0)\"}, \"marker\": {\"color\": \"rgb(255, 255, 255)\", \"line\": {\"color\": \"rgb(0, 0, 0)\", \"width\": 1}, \"size\": 20}, \"y\": [0.0], \"hoverinfo\": \"none\", \"text\": [\"6\"]}]}, {\"name\": 2, \"data\": [{\"mode\": \"lines\", \"line\": {\"color\": \"rgb(0, 0, 0)\", \"width\": 1}, \"y\": [0.5, 1.0, null, 0.9550095020335311, 0.8882926689752846, null, 0.9550095020335311, 0.9427605821595028, null], \"hoverinfo\": \"none\", \"x\": [0.0, 0.33, null, 0.3003062713421305, 0.2855225877733855, null, 0.3003062713421305, 0.2629725579755741, null]}, {\"mode\": \"lines\", \"line\": {\"color\": \"rgb(0, 0, 0)\", \"width\": 1}, \"y\": [0.5, 0.0, null, 0.04499049796646893, 0.0572394178404972, null, 0.04499049796646893, 0.11170733102471547, null], \"hoverinfo\": \"none\", \"x\": [0.0, 0.33, null, 0.3003062713421305, 0.2629725579755741, null, 0.3003062713421305, 0.2855225877733855, null]}, {\"mode\": \"lines\", \"line\": {\"color\": \"rgb(0, 0, 0)\", \"width\": 1}, \"y\": [1.0, 1.0, null, 1.0, 0.9652590189417244, null, 1.0, 1.0347409810582755, null], \"hoverinfo\": \"none\", \"x\": [0.33, 0.66, null, 0.6221212121212122, 0.5888794484132436, null, 0.6221212121212122, 0.5888794484132436, null]}, {\"mode\": \"lines\", \"line\": {\"color\": \"rgb(0, 0, 0)\", \"width\": 1}, \"y\": [1.0, 1.0, null, 1.0, 0.9652590189417244, null, 1.0, 1.0347409810582755, null], \"hoverinfo\": \"none\", \"x\": [0.66, 1.0, null, 0.9621212121212122, 0.9288794484132434, null, 0.9621212121212122, 0.9288794484132434, null]}, {\"mode\": \"lines\", \"line\": {\"color\": \"rgb(0, 0, 0)\", \"width\": 1}, \"y\": [1.0, 0.0, null, 0.06127490735002531, 0.13359437096827784, null, 0.06127490735002531, 0.09650302407543368, null], \"hoverinfo\": \"none\", \"x\": [0.66, 0.33, null, 0.35022071942550836, 0.3526100389194443, null, 0.35022071942550836, 0.3833221014449805, null]}, {\"mode\": \"lines\", \"line\": {\"color\": \"rgb(0, 0, 0)\", \"width\": 1}, \"y\": [1.0, 0.0, null, 0.06074471277448944, 0.13299554373343975, null, 0.06074471277448944, 0.09511088313140172, null], \"hoverinfo\": \"none\", \"x\": [1.0, 0.66, null, 0.6806532023433265, 0.6835549327328607, null, 0.6806532023433265, 0.7140012524011855, null]}, {\"mode\": \"lines\", \"line\": {\"color\": \"rgb(0, 0, 0)\", \"width\": 1}, \"y\": [0.0, 0.0, null, 0.0, -0.034740981058275576, null, 0.0, 0.034740981058275576, null], \"hoverinfo\": \"none\", \"x\": [0.33, 0.66, null, 0.6221212121212122, 0.5888794484132436, null, 0.6221212121212122, 0.5888794484132436, null]}, {\"mode\": \"lines\", \"line\": {\"color\": \"rgb(0, 0, 0)\", \"width\": 1}, \"y\": [0.0, 0.0, null, 0.0, -0.034740981058275576, null, 0.0, 0.034740981058275576, null], \"hoverinfo\": \"none\", \"x\": [0.66, 1.0, null, 0.9621212121212122, 0.9288794484132434, null, 0.9621212121212122, 0.9288794484132434, null]}, {\"mode\": \"markers+text\", \"x\": [0.0], \"textposition\": \"middle center\", \"textfont\": {\"color\": \"rgb(0, 0, 0)\"}, \"marker\": {\"color\": \"rgb(0, 255, 0)\", \"line\": {\"color\": \"rgb(0, 0, 0)\", \"width\": 1}, \"size\": 20}, \"y\": [0.5], \"hoverinfo\": \"none\", \"text\": [\"0\"]}, {\"mode\": \"markers+text\", \"x\": [0.33], \"textposition\": \"middle center\", \"textfont\": {\"color\": \"rgb(0, 0, 0)\"}, \"marker\": {\"color\": \"rgb(0, 255, 0)\", \"line\": {\"color\": \"rgb(0, 0, 0)\", \"width\": 1}, \"size\": 20}, \"y\": [1.0], \"hoverinfo\": \"none\", \"text\": [\"1\"]}, {\"mode\": \"markers+text\", \"x\": [0.66], \"textposition\": \"middle center\", \"textfont\": {\"color\": \"rgb(0, 0, 0)\"}, \"marker\": {\"color\": \"rgb(0, 255, 0)\", \"line\": {\"color\": \"rgb(0, 0, 0)\", \"width\": 1}, \"size\": 20}, \"y\": [1.0], \"hoverinfo\": \"none\", \"text\": [\"2\"]}, {\"mode\": \"markers+text\", \"x\": [1.0], \"textposition\": \"middle center\", \"textfont\": {\"color\": \"rgb(0, 0, 0)\"}, \"marker\": {\"color\": \"rgb(255, 255, 255)\", \"line\": {\"color\": \"rgb(0, 0, 0)\", \"width\": 1}, \"size\": 20}, \"y\": [1.0], \"hoverinfo\": \"none\", \"text\": [\"3\"]}, {\"mode\": \"markers+text\", \"x\": [0.33], \"textposition\": \"middle center\", \"textfont\": {\"color\": \"rgb(0, 0, 0)\"}, \"marker\": {\"color\": \"rgb(255, 255, 255)\", \"line\": {\"color\": \"rgb(0, 0, 0)\", \"width\": 1}, \"size\": 20}, \"y\": [0.0], \"hoverinfo\": \"none\", \"text\": [\"4\"]}, {\"mode\": \"markers+text\", \"x\": [0.66], \"textposition\": \"middle center\", \"textfont\": {\"color\": \"rgb(0, 0, 0)\"}, \"marker\": {\"color\": \"rgb(255, 255, 255)\", \"line\": {\"color\": \"rgb(0, 0, 0)\", \"width\": 1}, \"size\": 20}, \"y\": [0.0], \"hoverinfo\": \"none\", \"text\": [\"5\"]}, {\"mode\": \"markers+text\", \"x\": [1.0], \"textposition\": \"middle center\", \"textfont\": {\"color\": \"rgb(0, 0, 0)\"}, \"marker\": {\"color\": \"rgb(255, 255, 255)\", \"line\": {\"color\": \"rgb(0, 0, 0)\", \"width\": 1}, \"size\": 20}, \"y\": [0.0], \"hoverinfo\": \"none\", \"text\": [\"6\"]}]}, {\"name\": 3, \"data\": [{\"mode\": \"lines\", \"line\": {\"color\": \"rgb(0, 0, 0)\", \"width\": 1}, \"y\": [0.5, 1.0, null, 0.9550095020335311, 0.8882926689752846, null, 0.9550095020335311, 0.9427605821595028, null], \"hoverinfo\": \"none\", \"x\": [0.0, 0.33, null, 0.3003062713421305, 0.2855225877733855, null, 0.3003062713421305, 0.2629725579755741, null]}, {\"mode\": \"lines\", \"line\": {\"color\": \"rgb(0, 0, 0)\", \"width\": 1}, \"y\": [0.5, 0.0, null, 0.04499049796646893, 0.0572394178404972, null, 0.04499049796646893, 0.11170733102471547, null], \"hoverinfo\": \"none\", \"x\": [0.0, 0.33, null, 0.3003062713421305, 0.2629725579755741, null, 0.3003062713421305, 0.2855225877733855, null]}, {\"mode\": \"lines\", \"line\": {\"color\": \"rgb(0, 0, 0)\", \"width\": 1}, \"y\": [1.0, 1.0, null, 1.0, 0.9652590189417244, null, 1.0, 1.0347409810582755, null], \"hoverinfo\": \"none\", \"x\": [0.33, 0.66, null, 0.6221212121212122, 0.5888794484132436, null, 0.6221212121212122, 0.5888794484132436, null]}, {\"mode\": \"lines\", \"line\": {\"color\": \"rgb(0, 0, 0)\", \"width\": 1}, \"y\": [1.0, 1.0, null, 1.0, 0.9652590189417244, null, 1.0, 1.0347409810582755, null], \"hoverinfo\": \"none\", \"x\": [0.66, 1.0, null, 0.9621212121212122, 0.9288794484132434, null, 0.9621212121212122, 0.9288794484132434, null]}, {\"mode\": \"lines\", \"line\": {\"color\": \"rgb(0, 0, 0)\", \"width\": 1}, \"y\": [1.0, 0.0, null, 0.06127490735002531, 0.13359437096827784, null, 0.06127490735002531, 0.09650302407543368, null], \"hoverinfo\": \"none\", \"x\": [0.66, 0.33, null, 0.35022071942550836, 0.3526100389194443, null, 0.35022071942550836, 0.3833221014449805, null]}, {\"mode\": \"lines\", \"line\": {\"color\": \"rgb(0, 0, 0)\", \"width\": 1}, \"y\": [1.0, 0.0, null, 0.06074471277448944, 0.13299554373343975, null, 0.06074471277448944, 0.09511088313140172, null], \"hoverinfo\": \"none\", \"x\": [1.0, 0.66, null, 0.6806532023433265, 0.6835549327328607, null, 0.6806532023433265, 0.7140012524011855, null]}, {\"mode\": \"lines\", \"line\": {\"color\": \"rgb(0, 0, 0)\", \"width\": 1}, \"y\": [0.0, 0.0, null, 0.0, -0.034740981058275576, null, 0.0, 0.034740981058275576, null], \"hoverinfo\": \"none\", \"x\": [0.33, 0.66, null, 0.6221212121212122, 0.5888794484132436, null, 0.6221212121212122, 0.5888794484132436, null]}, {\"mode\": \"lines\", \"line\": {\"color\": \"rgb(0, 0, 0)\", \"width\": 1}, \"y\": [0.0, 0.0, null, 0.0, -0.034740981058275576, null, 0.0, 0.034740981058275576, null], \"hoverinfo\": \"none\", \"x\": [0.66, 1.0, null, 0.9621212121212122, 0.9288794484132434, null, 0.9621212121212122, 0.9288794484132434, null]}, {\"mode\": \"markers+text\", \"x\": [0.0], \"textposition\": \"middle center\", \"textfont\": {\"color\": \"rgb(0, 0, 0)\"}, \"marker\": {\"color\": \"rgb(0, 255, 0)\", \"line\": {\"color\": \"rgb(0, 0, 0)\", \"width\": 1}, \"size\": 20}, \"y\": [0.5], \"hoverinfo\": \"none\", \"text\": [\"0\"]}, {\"mode\": \"markers+text\", \"x\": [0.33], \"textposition\": \"middle center\", \"textfont\": {\"color\": \"rgb(0, 0, 0)\"}, \"marker\": {\"color\": \"rgb(0, 255, 0)\", \"line\": {\"color\": \"rgb(0, 0, 0)\", \"width\": 1}, \"size\": 20}, \"y\": [1.0], \"hoverinfo\": \"none\", \"text\": [\"1\"]}, {\"mode\": \"markers+text\", \"x\": [0.66], \"textposition\": \"middle center\", \"textfont\": {\"color\": \"rgb(0, 0, 0)\"}, \"marker\": {\"color\": \"rgb(0, 255, 0)\", \"line\": {\"color\": \"rgb(0, 0, 0)\", \"width\": 1}, \"size\": 20}, \"y\": [1.0], \"hoverinfo\": \"none\", \"text\": [\"2\"]}, {\"mode\": \"markers+text\", \"x\": [1.0], \"textposition\": \"middle center\", \"textfont\": {\"color\": \"rgb(0, 0, 0)\"}, \"marker\": {\"color\": \"rgb(0, 255, 0)\", \"line\": {\"color\": \"rgb(0, 0, 0)\", \"width\": 1}, \"size\": 20}, \"y\": [1.0], \"hoverinfo\": \"none\", \"text\": [\"3\"]}, {\"mode\": \"markers+text\", \"x\": [0.33], \"textposition\": \"middle center\", \"textfont\": {\"color\": \"rgb(0, 0, 0)\"}, \"marker\": {\"color\": \"rgb(255, 255, 255)\", \"line\": {\"color\": \"rgb(0, 0, 0)\", \"width\": 1}, \"size\": 20}, \"y\": [0.0], \"hoverinfo\": \"none\", \"text\": [\"4\"]}, {\"mode\": \"markers+text\", \"x\": [0.66], \"textposition\": \"middle center\", \"textfont\": {\"color\": \"rgb(0, 0, 0)\"}, \"marker\": {\"color\": \"rgb(255, 255, 255)\", \"line\": {\"color\": \"rgb(0, 0, 0)\", \"width\": 1}, \"size\": 20}, \"y\": [0.0], \"hoverinfo\": \"none\", \"text\": [\"5\"]}, {\"mode\": \"markers+text\", \"x\": [1.0], \"textposition\": \"middle center\", \"textfont\": {\"color\": \"rgb(0, 0, 0)\"}, \"marker\": {\"color\": \"rgb(255, 255, 255)\", \"line\": {\"color\": \"rgb(0, 0, 0)\", \"width\": 1}, \"size\": 20}, \"y\": [0.0], \"hoverinfo\": \"none\", \"text\": [\"6\"]}]}, {\"name\": 4, \"data\": [{\"mode\": \"lines\", \"line\": {\"color\": \"rgb(0, 0, 0)\", \"width\": 1}, \"y\": [0.5, 1.0, null, 0.9550095020335311, 0.8882926689752846, null, 0.9550095020335311, 0.9427605821595028, null], \"hoverinfo\": \"none\", \"x\": [0.0, 0.33, null, 0.3003062713421305, 0.2855225877733855, null, 0.3003062713421305, 0.2629725579755741, null]}, {\"mode\": \"lines\", \"line\": {\"color\": \"rgb(0, 0, 0)\", \"width\": 1}, \"y\": [0.5, 0.0, null, 0.04499049796646893, 0.0572394178404972, null, 0.04499049796646893, 0.11170733102471547, null], \"hoverinfo\": \"none\", \"x\": [0.0, 0.33, null, 0.3003062713421305, 0.2629725579755741, null, 0.3003062713421305, 0.2855225877733855, null]}, {\"mode\": \"lines\", \"line\": {\"color\": \"rgb(0, 0, 0)\", \"width\": 1}, \"y\": [1.0, 1.0, null, 1.0, 0.9652590189417244, null, 1.0, 1.0347409810582755, null], \"hoverinfo\": \"none\", \"x\": [0.33, 0.66, null, 0.6221212121212122, 0.5888794484132436, null, 0.6221212121212122, 0.5888794484132436, null]}, {\"mode\": \"lines\", \"line\": {\"color\": \"rgb(0, 0, 0)\", \"width\": 1}, \"y\": [1.0, 1.0, null, 1.0, 0.9652590189417244, null, 1.0, 1.0347409810582755, null], \"hoverinfo\": \"none\", \"x\": [0.66, 1.0, null, 0.9621212121212122, 0.9288794484132434, null, 0.9621212121212122, 0.9288794484132434, null]}, {\"mode\": \"lines\", \"line\": {\"color\": \"rgb(0, 0, 0)\", \"width\": 1}, \"y\": [1.0, 0.0, null, 0.06127490735002531, 0.13359437096827784, null, 0.06127490735002531, 0.09650302407543368, null], \"hoverinfo\": \"none\", \"x\": [0.66, 0.33, null, 0.35022071942550836, 0.3526100389194443, null, 0.35022071942550836, 0.3833221014449805, null]}, {\"mode\": \"lines\", \"line\": {\"color\": \"rgb(0, 0, 0)\", \"width\": 1}, \"y\": [1.0, 0.0, null, 0.06074471277448944, 0.13299554373343975, null, 0.06074471277448944, 0.09511088313140172, null], \"hoverinfo\": \"none\", \"x\": [1.0, 0.66, null, 0.6806532023433265, 0.6835549327328607, null, 0.6806532023433265, 0.7140012524011855, null]}, {\"mode\": \"lines\", \"line\": {\"color\": \"rgb(0, 0, 0)\", \"width\": 1}, \"y\": [0.0, 0.0, null, 0.0, -0.034740981058275576, null, 0.0, 0.034740981058275576, null], \"hoverinfo\": \"none\", \"x\": [0.33, 0.66, null, 0.6221212121212122, 0.5888794484132436, null, 0.6221212121212122, 0.5888794484132436, null]}, {\"mode\": \"lines\", \"line\": {\"color\": \"rgb(0, 0, 0)\", \"width\": 1}, \"y\": [0.0, 0.0, null, 0.0, -0.034740981058275576, null, 0.0, 0.034740981058275576, null], \"hoverinfo\": \"none\", \"x\": [0.66, 1.0, null, 0.9621212121212122, 0.9288794484132434, null, 0.9621212121212122, 0.9288794484132434, null]}, {\"mode\": \"markers+text\", \"x\": [0.0], \"textposition\": \"middle center\", \"textfont\": {\"color\": \"rgb(0, 0, 0)\"}, \"marker\": {\"color\": \"rgb(0, 255, 0)\", \"line\": {\"color\": \"rgb(0, 0, 0)\", \"width\": 1}, \"size\": 20}, \"y\": [0.5], \"hoverinfo\": \"none\", \"text\": [\"0\"]}, {\"mode\": \"markers+text\", \"x\": [0.33], \"textposition\": \"middle center\", \"textfont\": {\"color\": \"rgb(0, 0, 0)\"}, \"marker\": {\"color\": \"rgb(0, 255, 0)\", \"line\": {\"color\": \"rgb(0, 0, 0)\", \"width\": 1}, \"size\": 20}, \"y\": [1.0], \"hoverinfo\": \"none\", \"text\": [\"1\"]}, {\"mode\": \"markers+text\", \"x\": [0.66], \"textposition\": \"middle center\", \"textfont\": {\"color\": \"rgb(0, 0, 0)\"}, \"marker\": {\"color\": \"rgb(0, 255, 0)\", \"line\": {\"color\": \"rgb(0, 0, 0)\", \"width\": 1}, \"size\": 20}, \"y\": [1.0], \"hoverinfo\": \"none\", \"text\": [\"2\"]}, {\"mode\": \"markers+text\", \"x\": [1.0], \"textposition\": \"middle center\", \"textfont\": {\"color\": \"rgb(0, 0, 0)\"}, \"marker\": {\"color\": \"rgb(0, 255, 0)\", \"line\": {\"color\": \"rgb(0, 0, 0)\", \"width\": 1}, \"size\": 20}, \"y\": [1.0], \"hoverinfo\": \"none\", \"text\": [\"3\"]}, {\"mode\": \"markers+text\", \"x\": [0.33], \"textposition\": \"middle center\", \"textfont\": {\"color\": \"rgb(0, 0, 0)\"}, \"marker\": {\"color\": \"rgb(255, 255, 255)\", \"line\": {\"color\": \"rgb(0, 0, 0)\", \"width\": 1}, \"size\": 20}, \"y\": [0.0], \"hoverinfo\": \"none\", \"text\": [\"4\"]}, {\"mode\": \"markers+text\", \"x\": [0.66], \"textposition\": \"middle center\", \"textfont\": {\"color\": \"rgb(0, 0, 0)\"}, \"marker\": {\"color\": \"rgb(0, 255, 0)\", \"line\": {\"color\": \"rgb(0, 0, 0)\", \"width\": 1}, \"size\": 20}, \"y\": [0.0], \"hoverinfo\": \"none\", \"text\": [\"5\"]}, {\"mode\": \"markers+text\", \"x\": [1.0], \"textposition\": \"middle center\", \"textfont\": {\"color\": \"rgb(0, 0, 0)\"}, \"marker\": {\"color\": \"rgb(255, 255, 255)\", \"line\": {\"color\": \"rgb(0, 0, 0)\", \"width\": 1}, \"size\": 20}, \"y\": [0.0], \"hoverinfo\": \"none\", \"text\": [\"6\"]}]}, {\"name\": 5, \"data\": [{\"mode\": \"lines\", \"line\": {\"color\": \"rgb(0, 0, 0)\", \"width\": 1}, \"y\": [0.5, 1.0, null, 0.9550095020335311, 0.8882926689752846, null, 0.9550095020335311, 0.9427605821595028, null], \"hoverinfo\": \"none\", \"x\": [0.0, 0.33, null, 0.3003062713421305, 0.2855225877733855, null, 0.3003062713421305, 0.2629725579755741, null]}, {\"mode\": \"lines\", \"line\": {\"color\": \"rgb(0, 0, 0)\", \"width\": 1}, \"y\": [0.5, 0.0, null, 0.04499049796646893, 0.0572394178404972, null, 0.04499049796646893, 0.11170733102471547, null], \"hoverinfo\": \"none\", \"x\": [0.0, 0.33, null, 0.3003062713421305, 0.2629725579755741, null, 0.3003062713421305, 0.2855225877733855, null]}, {\"mode\": \"lines\", \"line\": {\"color\": \"rgb(0, 0, 0)\", \"width\": 1}, \"y\": [1.0, 1.0, null, 1.0, 0.9652590189417244, null, 1.0, 1.0347409810582755, null], \"hoverinfo\": \"none\", \"x\": [0.33, 0.66, null, 0.6221212121212122, 0.5888794484132436, null, 0.6221212121212122, 0.5888794484132436, null]}, {\"mode\": \"lines\", \"line\": {\"color\": \"rgb(0, 0, 0)\", \"width\": 1}, \"y\": [1.0, 1.0, null, 1.0, 0.9652590189417244, null, 1.0, 1.0347409810582755, null], \"hoverinfo\": \"none\", \"x\": [0.66, 1.0, null, 0.9621212121212122, 0.9288794484132434, null, 0.9621212121212122, 0.9288794484132434, null]}, {\"mode\": \"lines\", \"line\": {\"color\": \"rgb(0, 0, 0)\", \"width\": 1}, \"y\": [1.0, 0.0, null, 0.06127490735002531, 0.13359437096827784, null, 0.06127490735002531, 0.09650302407543368, null], \"hoverinfo\": \"none\", \"x\": [0.66, 0.33, null, 0.35022071942550836, 0.3526100389194443, null, 0.35022071942550836, 0.3833221014449805, null]}, {\"mode\": \"lines\", \"line\": {\"color\": \"rgb(0, 0, 0)\", \"width\": 1}, \"y\": [1.0, 0.0, null, 0.06074471277448944, 0.13299554373343975, null, 0.06074471277448944, 0.09511088313140172, null], \"hoverinfo\": \"none\", \"x\": [1.0, 0.66, null, 0.6806532023433265, 0.6835549327328607, null, 0.6806532023433265, 0.7140012524011855, null]}, {\"mode\": \"lines\", \"line\": {\"color\": \"rgb(0, 0, 0)\", \"width\": 1}, \"y\": [0.0, 0.0, null, 0.0, -0.034740981058275576, null, 0.0, 0.034740981058275576, null], \"hoverinfo\": \"none\", \"x\": [0.33, 0.66, null, 0.6221212121212122, 0.5888794484132436, null, 0.6221212121212122, 0.5888794484132436, null]}, {\"mode\": \"lines\", \"line\": {\"color\": \"rgb(0, 0, 0)\", \"width\": 1}, \"y\": [0.0, 0.0, null, 0.0, -0.034740981058275576, null, 0.0, 0.034740981058275576, null], \"hoverinfo\": \"none\", \"x\": [0.66, 1.0, null, 0.9621212121212122, 0.9288794484132434, null, 0.9621212121212122, 0.9288794484132434, null]}, {\"mode\": \"markers+text\", \"x\": [0.0], \"textposition\": \"middle center\", \"textfont\": {\"color\": \"rgb(0, 0, 0)\"}, \"marker\": {\"color\": \"rgb(0, 255, 0)\", \"line\": {\"color\": \"rgb(0, 0, 0)\", \"width\": 1}, \"size\": 20}, \"y\": [0.5], \"hoverinfo\": \"none\", \"text\": [\"0\"]}, {\"mode\": \"markers+text\", \"x\": [0.33], \"textposition\": \"middle center\", \"textfont\": {\"color\": \"rgb(0, 0, 0)\"}, \"marker\": {\"color\": \"rgb(0, 255, 0)\", \"line\": {\"color\": \"rgb(0, 0, 0)\", \"width\": 1}, \"size\": 20}, \"y\": [1.0], \"hoverinfo\": \"none\", \"text\": [\"1\"]}, {\"mode\": \"markers+text\", \"x\": [0.66], \"textposition\": \"middle center\", \"textfont\": {\"color\": \"rgb(0, 0, 0)\"}, \"marker\": {\"color\": \"rgb(0, 255, 0)\", \"line\": {\"color\": \"rgb(0, 0, 0)\", \"width\": 1}, \"size\": 20}, \"y\": [1.0], \"hoverinfo\": \"none\", \"text\": [\"2\"]}, {\"mode\": \"markers+text\", \"x\": [1.0], \"textposition\": \"middle center\", \"textfont\": {\"color\": \"rgb(0, 0, 0)\"}, \"marker\": {\"color\": \"rgb(0, 255, 0)\", \"line\": {\"color\": \"rgb(0, 0, 0)\", \"width\": 1}, \"size\": 20}, \"y\": [1.0], \"hoverinfo\": \"none\", \"text\": [\"3\"]}, {\"mode\": \"markers+text\", \"x\": [0.33], \"textposition\": \"middle center\", \"textfont\": {\"color\": \"rgb(0, 0, 0)\"}, \"marker\": {\"color\": \"rgb(255, 255, 255)\", \"line\": {\"color\": \"rgb(0, 0, 0)\", \"width\": 1}, \"size\": 20}, \"y\": [0.0], \"hoverinfo\": \"none\", \"text\": [\"4\"]}, {\"mode\": \"markers+text\", \"x\": [0.66], \"textposition\": \"middle center\", \"textfont\": {\"color\": \"rgb(0, 0, 0)\"}, \"marker\": {\"color\": \"rgb(0, 255, 0)\", \"line\": {\"color\": \"rgb(0, 0, 0)\", \"width\": 1}, \"size\": 20}, \"y\": [0.0], \"hoverinfo\": \"none\", \"text\": [\"5\"]}, {\"mode\": \"markers+text\", \"x\": [1.0], \"textposition\": \"middle center\", \"textfont\": {\"color\": \"rgb(0, 0, 0)\"}, \"marker\": {\"color\": \"rgb(0, 255, 0)\", \"line\": {\"color\": \"rgb(0, 0, 0)\", \"width\": 1}, \"size\": 20}, \"y\": [0.0], \"hoverinfo\": \"none\", \"text\": [\"6\"]}]}, {\"name\": 6, \"data\": [{\"mode\": \"lines\", \"line\": {\"color\": \"rgb(0, 0, 0)\", \"width\": 1}, \"y\": [0.5, 1.0, null, 0.9550095020335311, 0.8882926689752846, null, 0.9550095020335311, 0.9427605821595028, null], \"hoverinfo\": \"none\", \"x\": [0.0, 0.33, null, 0.3003062713421305, 0.2855225877733855, null, 0.3003062713421305, 0.2629725579755741, null]}, {\"mode\": \"lines\", \"line\": {\"color\": \"rgb(0, 0, 0)\", \"width\": 1}, \"y\": [0.5, 0.0, null, 0.04499049796646893, 0.0572394178404972, null, 0.04499049796646893, 0.11170733102471547, null], \"hoverinfo\": \"none\", \"x\": [0.0, 0.33, null, 0.3003062713421305, 0.2629725579755741, null, 0.3003062713421305, 0.2855225877733855, null]}, {\"mode\": \"lines\", \"line\": {\"color\": \"rgb(0, 0, 0)\", \"width\": 1}, \"y\": [1.0, 1.0, null, 1.0, 0.9652590189417244, null, 1.0, 1.0347409810582755, null], \"hoverinfo\": \"none\", \"x\": [0.33, 0.66, null, 0.6221212121212122, 0.5888794484132436, null, 0.6221212121212122, 0.5888794484132436, null]}, {\"mode\": \"lines\", \"line\": {\"color\": \"rgb(0, 0, 0)\", \"width\": 1}, \"y\": [1.0, 1.0, null, 1.0, 0.9652590189417244, null, 1.0, 1.0347409810582755, null], \"hoverinfo\": \"none\", \"x\": [0.66, 1.0, null, 0.9621212121212122, 0.9288794484132434, null, 0.9621212121212122, 0.9288794484132434, null]}, {\"mode\": \"lines\", \"line\": {\"color\": \"rgb(0, 0, 0)\", \"width\": 1}, \"y\": [1.0, 0.0, null, 0.06127490735002531, 0.13359437096827784, null, 0.06127490735002531, 0.09650302407543368, null], \"hoverinfo\": \"none\", \"x\": [0.66, 0.33, null, 0.35022071942550836, 0.3526100389194443, null, 0.35022071942550836, 0.3833221014449805, null]}, {\"mode\": \"lines\", \"line\": {\"color\": \"rgb(0, 0, 0)\", \"width\": 1}, \"y\": [1.0, 0.0, null, 0.06074471277448944, 0.13299554373343975, null, 0.06074471277448944, 0.09511088313140172, null], \"hoverinfo\": \"none\", \"x\": [1.0, 0.66, null, 0.6806532023433265, 0.6835549327328607, null, 0.6806532023433265, 0.7140012524011855, null]}, {\"mode\": \"lines\", \"line\": {\"color\": \"rgb(0, 0, 0)\", \"width\": 1}, \"y\": [0.0, 0.0, null, 0.0, -0.034740981058275576, null, 0.0, 0.034740981058275576, null], \"hoverinfo\": \"none\", \"x\": [0.33, 0.66, null, 0.6221212121212122, 0.5888794484132436, null, 0.6221212121212122, 0.5888794484132436, null]}, {\"mode\": \"lines\", \"line\": {\"color\": \"rgb(0, 0, 0)\", \"width\": 1}, \"y\": [0.0, 0.0, null, 0.0, -0.034740981058275576, null, 0.0, 0.034740981058275576, null], \"hoverinfo\": \"none\", \"x\": [0.66, 1.0, null, 0.9621212121212122, 0.9288794484132434, null, 0.9621212121212122, 0.9288794484132434, null]}, {\"mode\": \"markers+text\", \"x\": [0.0], \"textposition\": \"middle center\", \"textfont\": {\"color\": \"rgb(0, 0, 0)\"}, \"marker\": {\"color\": \"rgb(0, 255, 0)\", \"line\": {\"color\": \"rgb(0, 0, 0)\", \"width\": 1}, \"size\": 20}, \"y\": [0.5], \"hoverinfo\": \"none\", \"text\": [\"0\"]}, {\"mode\": \"markers+text\", \"x\": [0.33], \"textposition\": \"middle center\", \"textfont\": {\"color\": \"rgb(0, 0, 0)\"}, \"marker\": {\"color\": \"rgb(0, 255, 0)\", \"line\": {\"color\": \"rgb(0, 0, 0)\", \"width\": 1}, \"size\": 20}, \"y\": [1.0], \"hoverinfo\": \"none\", \"text\": [\"1\"]}, {\"mode\": \"markers+text\", \"x\": [0.66], \"textposition\": \"middle center\", \"textfont\": {\"color\": \"rgb(0, 0, 0)\"}, \"marker\": {\"color\": \"rgb(0, 255, 0)\", \"line\": {\"color\": \"rgb(0, 0, 0)\", \"width\": 1}, \"size\": 20}, \"y\": [1.0], \"hoverinfo\": \"none\", \"text\": [\"2\"]}, {\"mode\": \"markers+text\", \"x\": [1.0], \"textposition\": \"middle center\", \"textfont\": {\"color\": \"rgb(0, 0, 0)\"}, \"marker\": {\"color\": \"rgb(0, 255, 0)\", \"line\": {\"color\": \"rgb(0, 0, 0)\", \"width\": 1}, \"size\": 20}, \"y\": [1.0], \"hoverinfo\": \"none\", \"text\": [\"3\"]}, {\"mode\": \"markers+text\", \"x\": [0.33], \"textposition\": \"middle center\", \"textfont\": {\"color\": \"rgb(0, 0, 0)\"}, \"marker\": {\"color\": \"rgb(0, 255, 0)\", \"line\": {\"color\": \"rgb(0, 0, 0)\", \"width\": 1}, \"size\": 20}, \"y\": [0.0], \"hoverinfo\": \"none\", \"text\": [\"4\"]}, {\"mode\": \"markers+text\", \"x\": [0.66], \"textposition\": \"middle center\", \"textfont\": {\"color\": \"rgb(0, 0, 0)\"}, \"marker\": {\"color\": \"rgb(0, 255, 0)\", \"line\": {\"color\": \"rgb(0, 0, 0)\", \"width\": 1}, \"size\": 20}, \"y\": [0.0], \"hoverinfo\": \"none\", \"text\": [\"5\"]}, {\"mode\": \"markers+text\", \"x\": [1.0], \"textposition\": \"middle center\", \"textfont\": {\"color\": \"rgb(0, 0, 0)\"}, \"marker\": {\"color\": \"rgb(0, 255, 0)\", \"line\": {\"color\": \"rgb(0, 0, 0)\", \"width\": 1}, \"size\": 20}, \"y\": [0.0], \"hoverinfo\": \"none\", \"text\": [\"6\"]}]}]);}).then(function(){Plotly.animate('f34d4d0d-a9e7-4c5d-a3b7-5e3a964a5a26');})\n",
       "        });</script>"
      ],
      "text/vnd.plotly.v1+html": [
       "<div id=\"f34d4d0d-a9e7-4c5d-a3b7-5e3a964a5a26\" style=\"height: 256.0px; width: 408.0px;\" class=\"plotly-graph-div\"></div><script type=\"text/javascript\">require([\"plotly\"], function(Plotly) { window.PLOTLYENV=window.PLOTLYENV || {};window.PLOTLYENV.BASE_URL=\"https://plot.ly\";\n",
       "        Plotly.plot(\n",
       "            'f34d4d0d-a9e7-4c5d-a3b7-5e3a964a5a26',\n",
       "            [{\"mode\": \"lines\", \"line\": {\"color\": \"rgb(0, 0, 0)\", \"width\": 1}, \"y\": [0.5, 1.0, null, 0.9550095020335311, 0.8882926689752846, null, 0.9550095020335311, 0.9427605821595028, null], \"hoverinfo\": \"none\", \"x\": [0.0, 0.33, null, 0.3003062713421305, 0.2855225877733855, null, 0.3003062713421305, 0.2629725579755741, null]}, {\"mode\": \"lines\", \"line\": {\"color\": \"rgb(0, 0, 0)\", \"width\": 1}, \"y\": [0.5, 0.0, null, 0.04499049796646893, 0.0572394178404972, null, 0.04499049796646893, 0.11170733102471547, null], \"hoverinfo\": \"none\", \"x\": [0.0, 0.33, null, 0.3003062713421305, 0.2629725579755741, null, 0.3003062713421305, 0.2855225877733855, null]}, {\"mode\": \"lines\", \"line\": {\"color\": \"rgb(0, 0, 0)\", \"width\": 1}, \"y\": [1.0, 1.0, null, 1.0, 0.9652590189417244, null, 1.0, 1.0347409810582755, null], \"hoverinfo\": \"none\", \"x\": [0.33, 0.66, null, 0.6221212121212122, 0.5888794484132436, null, 0.6221212121212122, 0.5888794484132436, null]}, {\"mode\": \"lines\", \"line\": {\"color\": \"rgb(0, 0, 0)\", \"width\": 1}, \"y\": [1.0, 1.0, null, 1.0, 0.9652590189417244, null, 1.0, 1.0347409810582755, null], \"hoverinfo\": \"none\", \"x\": [0.66, 1.0, null, 0.9621212121212122, 0.9288794484132434, null, 0.9621212121212122, 0.9288794484132434, null]}, {\"mode\": \"lines\", \"line\": {\"color\": \"rgb(0, 0, 0)\", \"width\": 1}, \"y\": [1.0, 0.0, null, 0.06127490735002531, 0.13359437096827784, null, 0.06127490735002531, 0.09650302407543368, null], \"hoverinfo\": \"none\", \"x\": [0.66, 0.33, null, 0.35022071942550836, 0.3526100389194443, null, 0.35022071942550836, 0.3833221014449805, null]}, {\"mode\": \"lines\", \"line\": {\"color\": \"rgb(0, 0, 0)\", \"width\": 1}, \"y\": [1.0, 0.0, null, 0.06074471277448944, 0.13299554373343975, null, 0.06074471277448944, 0.09511088313140172, null], \"hoverinfo\": \"none\", \"x\": [1.0, 0.66, null, 0.6806532023433265, 0.6835549327328607, null, 0.6806532023433265, 0.7140012524011855, null]}, {\"mode\": \"lines\", \"line\": {\"color\": \"rgb(0, 0, 0)\", \"width\": 1}, \"y\": [0.0, 0.0, null, 0.0, -0.034740981058275576, null, 0.0, 0.034740981058275576, null], \"hoverinfo\": \"none\", \"x\": [0.33, 0.66, null, 0.6221212121212122, 0.5888794484132436, null, 0.6221212121212122, 0.5888794484132436, null]}, {\"mode\": \"lines\", \"line\": {\"color\": \"rgb(0, 0, 0)\", \"width\": 1}, \"y\": [0.0, 0.0, null, 0.0, -0.034740981058275576, null, 0.0, 0.034740981058275576, null], \"hoverinfo\": \"none\", \"x\": [0.66, 1.0, null, 0.9621212121212122, 0.9288794484132434, null, 0.9621212121212122, 0.9288794484132434, null]}, {\"mode\": \"markers+text\", \"x\": [0.0], \"textposition\": \"middle center\", \"textfont\": {\"color\": \"rgb(0, 0, 0)\"}, \"marker\": {\"color\": \"rgb(0, 255, 0)\", \"line\": {\"color\": \"rgb(0, 0, 0)\", \"width\": 1}, \"size\": 20}, \"y\": [0.5], \"hoverinfo\": \"none\", \"text\": [\"0\"]}, {\"mode\": \"markers+text\", \"x\": [0.33], \"textposition\": \"middle center\", \"textfont\": {\"color\": \"rgb(0, 0, 0)\"}, \"marker\": {\"color\": \"rgb(255, 255, 255)\", \"line\": {\"color\": \"rgb(0, 0, 0)\", \"width\": 1}, \"size\": 20}, \"y\": [1.0], \"hoverinfo\": \"none\", \"text\": [\"1\"]}, {\"mode\": \"markers+text\", \"x\": [0.66], \"textposition\": \"middle center\", \"textfont\": {\"color\": \"rgb(0, 0, 0)\"}, \"marker\": {\"color\": \"rgb(255, 255, 255)\", \"line\": {\"color\": \"rgb(0, 0, 0)\", \"width\": 1}, \"size\": 20}, \"y\": [1.0], \"hoverinfo\": \"none\", \"text\": [\"2\"]}, {\"mode\": \"markers+text\", \"x\": [1.0], \"textposition\": \"middle center\", \"textfont\": {\"color\": \"rgb(0, 0, 0)\"}, \"marker\": {\"color\": \"rgb(255, 255, 255)\", \"line\": {\"color\": \"rgb(0, 0, 0)\", \"width\": 1}, \"size\": 20}, \"y\": [1.0], \"hoverinfo\": \"none\", \"text\": [\"3\"]}, {\"mode\": \"markers+text\", \"x\": [0.33], \"textposition\": \"middle center\", \"textfont\": {\"color\": \"rgb(0, 0, 0)\"}, \"marker\": {\"color\": \"rgb(255, 255, 255)\", \"line\": {\"color\": \"rgb(0, 0, 0)\", \"width\": 1}, \"size\": 20}, \"y\": [0.0], \"hoverinfo\": \"none\", \"text\": [\"4\"]}, {\"mode\": \"markers+text\", \"x\": [0.66], \"textposition\": \"middle center\", \"textfont\": {\"color\": \"rgb(0, 0, 0)\"}, \"marker\": {\"color\": \"rgb(255, 255, 255)\", \"line\": {\"color\": \"rgb(0, 0, 0)\", \"width\": 1}, \"size\": 20}, \"y\": [0.0], \"hoverinfo\": \"none\", \"text\": [\"5\"]}, {\"mode\": \"markers+text\", \"x\": [1.0], \"textposition\": \"middle center\", \"textfont\": {\"color\": \"rgb(0, 0, 0)\"}, \"marker\": {\"color\": \"rgb(255, 255, 255)\", \"line\": {\"color\": \"rgb(0, 0, 0)\", \"width\": 1}, \"size\": 20}, \"y\": [0.0], \"hoverinfo\": \"none\", \"text\": [\"6\"]}],\n",
       "            {\"margin\": {\"r\": 0, \"b\": 0, \"t\": 0, \"l\": 0}, \"showlegend\": false, \"updatemenus\": [{\"buttons\": [{\"args\": [null, {\"fromcurrent\": true, \"frame\": {\"redraw\": false}}], \"method\": \"animate\", \"label\": \"Play\"}, {\"args\": [[null], {\"mode\": \"immediate\", \"frame\": {\"redraw\": false}}], \"method\": \"animate\", \"label\": \"Pause\"}], \"showactive\": true, \"type\": \"buttons\"}], \"xaxis\": {\"showticklabels\": false, \"showgrid\": false, \"zeroline\": false}, \"height\": 256.0, \"sliders\": [{\"currentvalue\": {\"visible\": false}, \"steps\": [{\"args\": [[0], {\"mode\": \"immediate\", \"frame\": {\"redraw\": false}}], \"method\": \"animate\", \"label\": \"\"}, {\"args\": [[1], {\"mode\": \"immediate\", \"frame\": {\"redraw\": false}}], \"method\": \"animate\", \"label\": \"\"}, {\"args\": [[2], {\"mode\": \"immediate\", \"frame\": {\"redraw\": false}}], \"method\": \"animate\", \"label\": \"\"}, {\"args\": [[3], {\"mode\": \"immediate\", \"frame\": {\"redraw\": false}}], \"method\": \"animate\", \"label\": \"\"}, {\"args\": [[4], {\"mode\": \"immediate\", \"frame\": {\"redraw\": false}}], \"method\": \"animate\", \"label\": \"\"}, {\"args\": [[5], {\"mode\": \"immediate\", \"frame\": {\"redraw\": false}}], \"method\": \"animate\", \"label\": \"\"}, {\"args\": [[6], {\"mode\": \"immediate\", \"frame\": {\"redraw\": false}}], \"method\": \"animate\", \"label\": \"\"}]}], \"width\": 408.0, \"yaxis\": {\"showticklabels\": false, \"showgrid\": false, \"zeroline\": false}},\n",
       "            {\"linkText\": \"Export to plot.ly\", \"displayModeBar\": false, \"showLink\": false}\n",
       "        ).then(function () {return Plotly.addFrames('f34d4d0d-a9e7-4c5d-a3b7-5e3a964a5a26',[{\"name\": 0, \"data\": [{\"mode\": \"lines\", \"line\": {\"color\": \"rgb(0, 0, 0)\", \"width\": 1}, \"y\": [0.5, 1.0, null, 0.9550095020335311, 0.8882926689752846, null, 0.9550095020335311, 0.9427605821595028, null], \"hoverinfo\": \"none\", \"x\": [0.0, 0.33, null, 0.3003062713421305, 0.2855225877733855, null, 0.3003062713421305, 0.2629725579755741, null]}, {\"mode\": \"lines\", \"line\": {\"color\": \"rgb(0, 0, 0)\", \"width\": 1}, \"y\": [0.5, 0.0, null, 0.04499049796646893, 0.0572394178404972, null, 0.04499049796646893, 0.11170733102471547, null], \"hoverinfo\": \"none\", \"x\": [0.0, 0.33, null, 0.3003062713421305, 0.2629725579755741, null, 0.3003062713421305, 0.2855225877733855, null]}, {\"mode\": \"lines\", \"line\": {\"color\": \"rgb(0, 0, 0)\", \"width\": 1}, \"y\": [1.0, 1.0, null, 1.0, 0.9652590189417244, null, 1.0, 1.0347409810582755, null], \"hoverinfo\": \"none\", \"x\": [0.33, 0.66, null, 0.6221212121212122, 0.5888794484132436, null, 0.6221212121212122, 0.5888794484132436, null]}, {\"mode\": \"lines\", \"line\": {\"color\": \"rgb(0, 0, 0)\", \"width\": 1}, \"y\": [1.0, 1.0, null, 1.0, 0.9652590189417244, null, 1.0, 1.0347409810582755, null], \"hoverinfo\": \"none\", \"x\": [0.66, 1.0, null, 0.9621212121212122, 0.9288794484132434, null, 0.9621212121212122, 0.9288794484132434, null]}, {\"mode\": \"lines\", \"line\": {\"color\": \"rgb(0, 0, 0)\", \"width\": 1}, \"y\": [1.0, 0.0, null, 0.06127490735002531, 0.13359437096827784, null, 0.06127490735002531, 0.09650302407543368, null], \"hoverinfo\": \"none\", \"x\": [0.66, 0.33, null, 0.35022071942550836, 0.3526100389194443, null, 0.35022071942550836, 0.3833221014449805, null]}, {\"mode\": \"lines\", \"line\": {\"color\": \"rgb(0, 0, 0)\", \"width\": 1}, \"y\": [1.0, 0.0, null, 0.06074471277448944, 0.13299554373343975, null, 0.06074471277448944, 0.09511088313140172, null], \"hoverinfo\": \"none\", \"x\": [1.0, 0.66, null, 0.6806532023433265, 0.6835549327328607, null, 0.6806532023433265, 0.7140012524011855, null]}, {\"mode\": \"lines\", \"line\": {\"color\": \"rgb(0, 0, 0)\", \"width\": 1}, \"y\": [0.0, 0.0, null, 0.0, -0.034740981058275576, null, 0.0, 0.034740981058275576, null], \"hoverinfo\": \"none\", \"x\": [0.33, 0.66, null, 0.6221212121212122, 0.5888794484132436, null, 0.6221212121212122, 0.5888794484132436, null]}, {\"mode\": \"lines\", \"line\": {\"color\": \"rgb(0, 0, 0)\", \"width\": 1}, \"y\": [0.0, 0.0, null, 0.0, -0.034740981058275576, null, 0.0, 0.034740981058275576, null], \"hoverinfo\": \"none\", \"x\": [0.66, 1.0, null, 0.9621212121212122, 0.9288794484132434, null, 0.9621212121212122, 0.9288794484132434, null]}, {\"mode\": \"markers+text\", \"x\": [0.0], \"textposition\": \"middle center\", \"textfont\": {\"color\": \"rgb(0, 0, 0)\"}, \"marker\": {\"color\": \"rgb(0, 255, 0)\", \"line\": {\"color\": \"rgb(0, 0, 0)\", \"width\": 1}, \"size\": 20}, \"y\": [0.5], \"hoverinfo\": \"none\", \"text\": [\"0\"]}, {\"mode\": \"markers+text\", \"x\": [0.33], \"textposition\": \"middle center\", \"textfont\": {\"color\": \"rgb(0, 0, 0)\"}, \"marker\": {\"color\": \"rgb(255, 255, 255)\", \"line\": {\"color\": \"rgb(0, 0, 0)\", \"width\": 1}, \"size\": 20}, \"y\": [1.0], \"hoverinfo\": \"none\", \"text\": [\"1\"]}, {\"mode\": \"markers+text\", \"x\": [0.66], \"textposition\": \"middle center\", \"textfont\": {\"color\": \"rgb(0, 0, 0)\"}, \"marker\": {\"color\": \"rgb(255, 255, 255)\", \"line\": {\"color\": \"rgb(0, 0, 0)\", \"width\": 1}, \"size\": 20}, \"y\": [1.0], \"hoverinfo\": \"none\", \"text\": [\"2\"]}, {\"mode\": \"markers+text\", \"x\": [1.0], \"textposition\": \"middle center\", \"textfont\": {\"color\": \"rgb(0, 0, 0)\"}, \"marker\": {\"color\": \"rgb(255, 255, 255)\", \"line\": {\"color\": \"rgb(0, 0, 0)\", \"width\": 1}, \"size\": 20}, \"y\": [1.0], \"hoverinfo\": \"none\", \"text\": [\"3\"]}, {\"mode\": \"markers+text\", \"x\": [0.33], \"textposition\": \"middle center\", \"textfont\": {\"color\": \"rgb(0, 0, 0)\"}, \"marker\": {\"color\": \"rgb(255, 255, 255)\", \"line\": {\"color\": \"rgb(0, 0, 0)\", \"width\": 1}, \"size\": 20}, \"y\": [0.0], \"hoverinfo\": \"none\", \"text\": [\"4\"]}, {\"mode\": \"markers+text\", \"x\": [0.66], \"textposition\": \"middle center\", \"textfont\": {\"color\": \"rgb(0, 0, 0)\"}, \"marker\": {\"color\": \"rgb(255, 255, 255)\", \"line\": {\"color\": \"rgb(0, 0, 0)\", \"width\": 1}, \"size\": 20}, \"y\": [0.0], \"hoverinfo\": \"none\", \"text\": [\"5\"]}, {\"mode\": \"markers+text\", \"x\": [1.0], \"textposition\": \"middle center\", \"textfont\": {\"color\": \"rgb(0, 0, 0)\"}, \"marker\": {\"color\": \"rgb(255, 255, 255)\", \"line\": {\"color\": \"rgb(0, 0, 0)\", \"width\": 1}, \"size\": 20}, \"y\": [0.0], \"hoverinfo\": \"none\", \"text\": [\"6\"]}]}, {\"name\": 1, \"data\": [{\"mode\": \"lines\", \"line\": {\"color\": \"rgb(0, 0, 0)\", \"width\": 1}, \"y\": [0.5, 1.0, null, 0.9550095020335311, 0.8882926689752846, null, 0.9550095020335311, 0.9427605821595028, null], \"hoverinfo\": \"none\", \"x\": [0.0, 0.33, null, 0.3003062713421305, 0.2855225877733855, null, 0.3003062713421305, 0.2629725579755741, null]}, {\"mode\": \"lines\", \"line\": {\"color\": \"rgb(0, 0, 0)\", \"width\": 1}, \"y\": [0.5, 0.0, null, 0.04499049796646893, 0.0572394178404972, null, 0.04499049796646893, 0.11170733102471547, null], \"hoverinfo\": \"none\", \"x\": [0.0, 0.33, null, 0.3003062713421305, 0.2629725579755741, null, 0.3003062713421305, 0.2855225877733855, null]}, {\"mode\": \"lines\", \"line\": {\"color\": \"rgb(0, 0, 0)\", \"width\": 1}, \"y\": [1.0, 1.0, null, 1.0, 0.9652590189417244, null, 1.0, 1.0347409810582755, null], \"hoverinfo\": \"none\", \"x\": [0.33, 0.66, null, 0.6221212121212122, 0.5888794484132436, null, 0.6221212121212122, 0.5888794484132436, null]}, {\"mode\": \"lines\", \"line\": {\"color\": \"rgb(0, 0, 0)\", \"width\": 1}, \"y\": [1.0, 1.0, null, 1.0, 0.9652590189417244, null, 1.0, 1.0347409810582755, null], \"hoverinfo\": \"none\", \"x\": [0.66, 1.0, null, 0.9621212121212122, 0.9288794484132434, null, 0.9621212121212122, 0.9288794484132434, null]}, {\"mode\": \"lines\", \"line\": {\"color\": \"rgb(0, 0, 0)\", \"width\": 1}, \"y\": [1.0, 0.0, null, 0.06127490735002531, 0.13359437096827784, null, 0.06127490735002531, 0.09650302407543368, null], \"hoverinfo\": \"none\", \"x\": [0.66, 0.33, null, 0.35022071942550836, 0.3526100389194443, null, 0.35022071942550836, 0.3833221014449805, null]}, {\"mode\": \"lines\", \"line\": {\"color\": \"rgb(0, 0, 0)\", \"width\": 1}, \"y\": [1.0, 0.0, null, 0.06074471277448944, 0.13299554373343975, null, 0.06074471277448944, 0.09511088313140172, null], \"hoverinfo\": \"none\", \"x\": [1.0, 0.66, null, 0.6806532023433265, 0.6835549327328607, null, 0.6806532023433265, 0.7140012524011855, null]}, {\"mode\": \"lines\", \"line\": {\"color\": \"rgb(0, 0, 0)\", \"width\": 1}, \"y\": [0.0, 0.0, null, 0.0, -0.034740981058275576, null, 0.0, 0.034740981058275576, null], \"hoverinfo\": \"none\", \"x\": [0.33, 0.66, null, 0.6221212121212122, 0.5888794484132436, null, 0.6221212121212122, 0.5888794484132436, null]}, {\"mode\": \"lines\", \"line\": {\"color\": \"rgb(0, 0, 0)\", \"width\": 1}, \"y\": [0.0, 0.0, null, 0.0, -0.034740981058275576, null, 0.0, 0.034740981058275576, null], \"hoverinfo\": \"none\", \"x\": [0.66, 1.0, null, 0.9621212121212122, 0.9288794484132434, null, 0.9621212121212122, 0.9288794484132434, null]}, {\"mode\": \"markers+text\", \"x\": [0.0], \"textposition\": \"middle center\", \"textfont\": {\"color\": \"rgb(0, 0, 0)\"}, \"marker\": {\"color\": \"rgb(0, 255, 0)\", \"line\": {\"color\": \"rgb(0, 0, 0)\", \"width\": 1}, \"size\": 20}, \"y\": [0.5], \"hoverinfo\": \"none\", \"text\": [\"0\"]}, {\"mode\": \"markers+text\", \"x\": [0.33], \"textposition\": \"middle center\", \"textfont\": {\"color\": \"rgb(0, 0, 0)\"}, \"marker\": {\"color\": \"rgb(0, 255, 0)\", \"line\": {\"color\": \"rgb(0, 0, 0)\", \"width\": 1}, \"size\": 20}, \"y\": [1.0], \"hoverinfo\": \"none\", \"text\": [\"1\"]}, {\"mode\": \"markers+text\", \"x\": [0.66], \"textposition\": \"middle center\", \"textfont\": {\"color\": \"rgb(0, 0, 0)\"}, \"marker\": {\"color\": \"rgb(255, 255, 255)\", \"line\": {\"color\": \"rgb(0, 0, 0)\", \"width\": 1}, \"size\": 20}, \"y\": [1.0], \"hoverinfo\": \"none\", \"text\": [\"2\"]}, {\"mode\": \"markers+text\", \"x\": [1.0], \"textposition\": \"middle center\", \"textfont\": {\"color\": \"rgb(0, 0, 0)\"}, \"marker\": {\"color\": \"rgb(255, 255, 255)\", \"line\": {\"color\": \"rgb(0, 0, 0)\", \"width\": 1}, \"size\": 20}, \"y\": [1.0], \"hoverinfo\": \"none\", \"text\": [\"3\"]}, {\"mode\": \"markers+text\", \"x\": [0.33], \"textposition\": \"middle center\", \"textfont\": {\"color\": \"rgb(0, 0, 0)\"}, \"marker\": {\"color\": \"rgb(255, 255, 255)\", \"line\": {\"color\": \"rgb(0, 0, 0)\", \"width\": 1}, \"size\": 20}, \"y\": [0.0], \"hoverinfo\": \"none\", \"text\": [\"4\"]}, {\"mode\": \"markers+text\", \"x\": [0.66], \"textposition\": \"middle center\", \"textfont\": {\"color\": \"rgb(0, 0, 0)\"}, \"marker\": {\"color\": \"rgb(255, 255, 255)\", \"line\": {\"color\": \"rgb(0, 0, 0)\", \"width\": 1}, \"size\": 20}, \"y\": [0.0], \"hoverinfo\": \"none\", \"text\": [\"5\"]}, {\"mode\": \"markers+text\", \"x\": [1.0], \"textposition\": \"middle center\", \"textfont\": {\"color\": \"rgb(0, 0, 0)\"}, \"marker\": {\"color\": \"rgb(255, 255, 255)\", \"line\": {\"color\": \"rgb(0, 0, 0)\", \"width\": 1}, \"size\": 20}, \"y\": [0.0], \"hoverinfo\": \"none\", \"text\": [\"6\"]}]}, {\"name\": 2, \"data\": [{\"mode\": \"lines\", \"line\": {\"color\": \"rgb(0, 0, 0)\", \"width\": 1}, \"y\": [0.5, 1.0, null, 0.9550095020335311, 0.8882926689752846, null, 0.9550095020335311, 0.9427605821595028, null], \"hoverinfo\": \"none\", \"x\": [0.0, 0.33, null, 0.3003062713421305, 0.2855225877733855, null, 0.3003062713421305, 0.2629725579755741, null]}, {\"mode\": \"lines\", \"line\": {\"color\": \"rgb(0, 0, 0)\", \"width\": 1}, \"y\": [0.5, 0.0, null, 0.04499049796646893, 0.0572394178404972, null, 0.04499049796646893, 0.11170733102471547, null], \"hoverinfo\": \"none\", \"x\": [0.0, 0.33, null, 0.3003062713421305, 0.2629725579755741, null, 0.3003062713421305, 0.2855225877733855, null]}, {\"mode\": \"lines\", \"line\": {\"color\": \"rgb(0, 0, 0)\", \"width\": 1}, \"y\": [1.0, 1.0, null, 1.0, 0.9652590189417244, null, 1.0, 1.0347409810582755, null], \"hoverinfo\": \"none\", \"x\": [0.33, 0.66, null, 0.6221212121212122, 0.5888794484132436, null, 0.6221212121212122, 0.5888794484132436, null]}, {\"mode\": \"lines\", \"line\": {\"color\": \"rgb(0, 0, 0)\", \"width\": 1}, \"y\": [1.0, 1.0, null, 1.0, 0.9652590189417244, null, 1.0, 1.0347409810582755, null], \"hoverinfo\": \"none\", \"x\": [0.66, 1.0, null, 0.9621212121212122, 0.9288794484132434, null, 0.9621212121212122, 0.9288794484132434, null]}, {\"mode\": \"lines\", \"line\": {\"color\": \"rgb(0, 0, 0)\", \"width\": 1}, \"y\": [1.0, 0.0, null, 0.06127490735002531, 0.13359437096827784, null, 0.06127490735002531, 0.09650302407543368, null], \"hoverinfo\": \"none\", \"x\": [0.66, 0.33, null, 0.35022071942550836, 0.3526100389194443, null, 0.35022071942550836, 0.3833221014449805, null]}, {\"mode\": \"lines\", \"line\": {\"color\": \"rgb(0, 0, 0)\", \"width\": 1}, \"y\": [1.0, 0.0, null, 0.06074471277448944, 0.13299554373343975, null, 0.06074471277448944, 0.09511088313140172, null], \"hoverinfo\": \"none\", \"x\": [1.0, 0.66, null, 0.6806532023433265, 0.6835549327328607, null, 0.6806532023433265, 0.7140012524011855, null]}, {\"mode\": \"lines\", \"line\": {\"color\": \"rgb(0, 0, 0)\", \"width\": 1}, \"y\": [0.0, 0.0, null, 0.0, -0.034740981058275576, null, 0.0, 0.034740981058275576, null], \"hoverinfo\": \"none\", \"x\": [0.33, 0.66, null, 0.6221212121212122, 0.5888794484132436, null, 0.6221212121212122, 0.5888794484132436, null]}, {\"mode\": \"lines\", \"line\": {\"color\": \"rgb(0, 0, 0)\", \"width\": 1}, \"y\": [0.0, 0.0, null, 0.0, -0.034740981058275576, null, 0.0, 0.034740981058275576, null], \"hoverinfo\": \"none\", \"x\": [0.66, 1.0, null, 0.9621212121212122, 0.9288794484132434, null, 0.9621212121212122, 0.9288794484132434, null]}, {\"mode\": \"markers+text\", \"x\": [0.0], \"textposition\": \"middle center\", \"textfont\": {\"color\": \"rgb(0, 0, 0)\"}, \"marker\": {\"color\": \"rgb(0, 255, 0)\", \"line\": {\"color\": \"rgb(0, 0, 0)\", \"width\": 1}, \"size\": 20}, \"y\": [0.5], \"hoverinfo\": \"none\", \"text\": [\"0\"]}, {\"mode\": \"markers+text\", \"x\": [0.33], \"textposition\": \"middle center\", \"textfont\": {\"color\": \"rgb(0, 0, 0)\"}, \"marker\": {\"color\": \"rgb(0, 255, 0)\", \"line\": {\"color\": \"rgb(0, 0, 0)\", \"width\": 1}, \"size\": 20}, \"y\": [1.0], \"hoverinfo\": \"none\", \"text\": [\"1\"]}, {\"mode\": \"markers+text\", \"x\": [0.66], \"textposition\": \"middle center\", \"textfont\": {\"color\": \"rgb(0, 0, 0)\"}, \"marker\": {\"color\": \"rgb(0, 255, 0)\", \"line\": {\"color\": \"rgb(0, 0, 0)\", \"width\": 1}, \"size\": 20}, \"y\": [1.0], \"hoverinfo\": \"none\", \"text\": [\"2\"]}, {\"mode\": \"markers+text\", \"x\": [1.0], \"textposition\": \"middle center\", \"textfont\": {\"color\": \"rgb(0, 0, 0)\"}, \"marker\": {\"color\": \"rgb(255, 255, 255)\", \"line\": {\"color\": \"rgb(0, 0, 0)\", \"width\": 1}, \"size\": 20}, \"y\": [1.0], \"hoverinfo\": \"none\", \"text\": [\"3\"]}, {\"mode\": \"markers+text\", \"x\": [0.33], \"textposition\": \"middle center\", \"textfont\": {\"color\": \"rgb(0, 0, 0)\"}, \"marker\": {\"color\": \"rgb(255, 255, 255)\", \"line\": {\"color\": \"rgb(0, 0, 0)\", \"width\": 1}, \"size\": 20}, \"y\": [0.0], \"hoverinfo\": \"none\", \"text\": [\"4\"]}, {\"mode\": \"markers+text\", \"x\": [0.66], \"textposition\": \"middle center\", \"textfont\": {\"color\": \"rgb(0, 0, 0)\"}, \"marker\": {\"color\": \"rgb(255, 255, 255)\", \"line\": {\"color\": \"rgb(0, 0, 0)\", \"width\": 1}, \"size\": 20}, \"y\": [0.0], \"hoverinfo\": \"none\", \"text\": [\"5\"]}, {\"mode\": \"markers+text\", \"x\": [1.0], \"textposition\": \"middle center\", \"textfont\": {\"color\": \"rgb(0, 0, 0)\"}, \"marker\": {\"color\": \"rgb(255, 255, 255)\", \"line\": {\"color\": \"rgb(0, 0, 0)\", \"width\": 1}, \"size\": 20}, \"y\": [0.0], \"hoverinfo\": \"none\", \"text\": [\"6\"]}]}, {\"name\": 3, \"data\": [{\"mode\": \"lines\", \"line\": {\"color\": \"rgb(0, 0, 0)\", \"width\": 1}, \"y\": [0.5, 1.0, null, 0.9550095020335311, 0.8882926689752846, null, 0.9550095020335311, 0.9427605821595028, null], \"hoverinfo\": \"none\", \"x\": [0.0, 0.33, null, 0.3003062713421305, 0.2855225877733855, null, 0.3003062713421305, 0.2629725579755741, null]}, {\"mode\": \"lines\", \"line\": {\"color\": \"rgb(0, 0, 0)\", \"width\": 1}, \"y\": [0.5, 0.0, null, 0.04499049796646893, 0.0572394178404972, null, 0.04499049796646893, 0.11170733102471547, null], \"hoverinfo\": \"none\", \"x\": [0.0, 0.33, null, 0.3003062713421305, 0.2629725579755741, null, 0.3003062713421305, 0.2855225877733855, null]}, {\"mode\": \"lines\", \"line\": {\"color\": \"rgb(0, 0, 0)\", \"width\": 1}, \"y\": [1.0, 1.0, null, 1.0, 0.9652590189417244, null, 1.0, 1.0347409810582755, null], \"hoverinfo\": \"none\", \"x\": [0.33, 0.66, null, 0.6221212121212122, 0.5888794484132436, null, 0.6221212121212122, 0.5888794484132436, null]}, {\"mode\": \"lines\", \"line\": {\"color\": \"rgb(0, 0, 0)\", \"width\": 1}, \"y\": [1.0, 1.0, null, 1.0, 0.9652590189417244, null, 1.0, 1.0347409810582755, null], \"hoverinfo\": \"none\", \"x\": [0.66, 1.0, null, 0.9621212121212122, 0.9288794484132434, null, 0.9621212121212122, 0.9288794484132434, null]}, {\"mode\": \"lines\", \"line\": {\"color\": \"rgb(0, 0, 0)\", \"width\": 1}, \"y\": [1.0, 0.0, null, 0.06127490735002531, 0.13359437096827784, null, 0.06127490735002531, 0.09650302407543368, null], \"hoverinfo\": \"none\", \"x\": [0.66, 0.33, null, 0.35022071942550836, 0.3526100389194443, null, 0.35022071942550836, 0.3833221014449805, null]}, {\"mode\": \"lines\", \"line\": {\"color\": \"rgb(0, 0, 0)\", \"width\": 1}, \"y\": [1.0, 0.0, null, 0.06074471277448944, 0.13299554373343975, null, 0.06074471277448944, 0.09511088313140172, null], \"hoverinfo\": \"none\", \"x\": [1.0, 0.66, null, 0.6806532023433265, 0.6835549327328607, null, 0.6806532023433265, 0.7140012524011855, null]}, {\"mode\": \"lines\", \"line\": {\"color\": \"rgb(0, 0, 0)\", \"width\": 1}, \"y\": [0.0, 0.0, null, 0.0, -0.034740981058275576, null, 0.0, 0.034740981058275576, null], \"hoverinfo\": \"none\", \"x\": [0.33, 0.66, null, 0.6221212121212122, 0.5888794484132436, null, 0.6221212121212122, 0.5888794484132436, null]}, {\"mode\": \"lines\", \"line\": {\"color\": \"rgb(0, 0, 0)\", \"width\": 1}, \"y\": [0.0, 0.0, null, 0.0, -0.034740981058275576, null, 0.0, 0.034740981058275576, null], \"hoverinfo\": \"none\", \"x\": [0.66, 1.0, null, 0.9621212121212122, 0.9288794484132434, null, 0.9621212121212122, 0.9288794484132434, null]}, {\"mode\": \"markers+text\", \"x\": [0.0], \"textposition\": \"middle center\", \"textfont\": {\"color\": \"rgb(0, 0, 0)\"}, \"marker\": {\"color\": \"rgb(0, 255, 0)\", \"line\": {\"color\": \"rgb(0, 0, 0)\", \"width\": 1}, \"size\": 20}, \"y\": [0.5], \"hoverinfo\": \"none\", \"text\": [\"0\"]}, {\"mode\": \"markers+text\", \"x\": [0.33], \"textposition\": \"middle center\", \"textfont\": {\"color\": \"rgb(0, 0, 0)\"}, \"marker\": {\"color\": \"rgb(0, 255, 0)\", \"line\": {\"color\": \"rgb(0, 0, 0)\", \"width\": 1}, \"size\": 20}, \"y\": [1.0], \"hoverinfo\": \"none\", \"text\": [\"1\"]}, {\"mode\": \"markers+text\", \"x\": [0.66], \"textposition\": \"middle center\", \"textfont\": {\"color\": \"rgb(0, 0, 0)\"}, \"marker\": {\"color\": \"rgb(0, 255, 0)\", \"line\": {\"color\": \"rgb(0, 0, 0)\", \"width\": 1}, \"size\": 20}, \"y\": [1.0], \"hoverinfo\": \"none\", \"text\": [\"2\"]}, {\"mode\": \"markers+text\", \"x\": [1.0], \"textposition\": \"middle center\", \"textfont\": {\"color\": \"rgb(0, 0, 0)\"}, \"marker\": {\"color\": \"rgb(0, 255, 0)\", \"line\": {\"color\": \"rgb(0, 0, 0)\", \"width\": 1}, \"size\": 20}, \"y\": [1.0], \"hoverinfo\": \"none\", \"text\": [\"3\"]}, {\"mode\": \"markers+text\", \"x\": [0.33], \"textposition\": \"middle center\", \"textfont\": {\"color\": \"rgb(0, 0, 0)\"}, \"marker\": {\"color\": \"rgb(255, 255, 255)\", \"line\": {\"color\": \"rgb(0, 0, 0)\", \"width\": 1}, \"size\": 20}, \"y\": [0.0], \"hoverinfo\": \"none\", \"text\": [\"4\"]}, {\"mode\": \"markers+text\", \"x\": [0.66], \"textposition\": \"middle center\", \"textfont\": {\"color\": \"rgb(0, 0, 0)\"}, \"marker\": {\"color\": \"rgb(255, 255, 255)\", \"line\": {\"color\": \"rgb(0, 0, 0)\", \"width\": 1}, \"size\": 20}, \"y\": [0.0], \"hoverinfo\": \"none\", \"text\": [\"5\"]}, {\"mode\": \"markers+text\", \"x\": [1.0], \"textposition\": \"middle center\", \"textfont\": {\"color\": \"rgb(0, 0, 0)\"}, \"marker\": {\"color\": \"rgb(255, 255, 255)\", \"line\": {\"color\": \"rgb(0, 0, 0)\", \"width\": 1}, \"size\": 20}, \"y\": [0.0], \"hoverinfo\": \"none\", \"text\": [\"6\"]}]}, {\"name\": 4, \"data\": [{\"mode\": \"lines\", \"line\": {\"color\": \"rgb(0, 0, 0)\", \"width\": 1}, \"y\": [0.5, 1.0, null, 0.9550095020335311, 0.8882926689752846, null, 0.9550095020335311, 0.9427605821595028, null], \"hoverinfo\": \"none\", \"x\": [0.0, 0.33, null, 0.3003062713421305, 0.2855225877733855, null, 0.3003062713421305, 0.2629725579755741, null]}, {\"mode\": \"lines\", \"line\": {\"color\": \"rgb(0, 0, 0)\", \"width\": 1}, \"y\": [0.5, 0.0, null, 0.04499049796646893, 0.0572394178404972, null, 0.04499049796646893, 0.11170733102471547, null], \"hoverinfo\": \"none\", \"x\": [0.0, 0.33, null, 0.3003062713421305, 0.2629725579755741, null, 0.3003062713421305, 0.2855225877733855, null]}, {\"mode\": \"lines\", \"line\": {\"color\": \"rgb(0, 0, 0)\", \"width\": 1}, \"y\": [1.0, 1.0, null, 1.0, 0.9652590189417244, null, 1.0, 1.0347409810582755, null], \"hoverinfo\": \"none\", \"x\": [0.33, 0.66, null, 0.6221212121212122, 0.5888794484132436, null, 0.6221212121212122, 0.5888794484132436, null]}, {\"mode\": \"lines\", \"line\": {\"color\": \"rgb(0, 0, 0)\", \"width\": 1}, \"y\": [1.0, 1.0, null, 1.0, 0.9652590189417244, null, 1.0, 1.0347409810582755, null], \"hoverinfo\": \"none\", \"x\": [0.66, 1.0, null, 0.9621212121212122, 0.9288794484132434, null, 0.9621212121212122, 0.9288794484132434, null]}, {\"mode\": \"lines\", \"line\": {\"color\": \"rgb(0, 0, 0)\", \"width\": 1}, \"y\": [1.0, 0.0, null, 0.06127490735002531, 0.13359437096827784, null, 0.06127490735002531, 0.09650302407543368, null], \"hoverinfo\": \"none\", \"x\": [0.66, 0.33, null, 0.35022071942550836, 0.3526100389194443, null, 0.35022071942550836, 0.3833221014449805, null]}, {\"mode\": \"lines\", \"line\": {\"color\": \"rgb(0, 0, 0)\", \"width\": 1}, \"y\": [1.0, 0.0, null, 0.06074471277448944, 0.13299554373343975, null, 0.06074471277448944, 0.09511088313140172, null], \"hoverinfo\": \"none\", \"x\": [1.0, 0.66, null, 0.6806532023433265, 0.6835549327328607, null, 0.6806532023433265, 0.7140012524011855, null]}, {\"mode\": \"lines\", \"line\": {\"color\": \"rgb(0, 0, 0)\", \"width\": 1}, \"y\": [0.0, 0.0, null, 0.0, -0.034740981058275576, null, 0.0, 0.034740981058275576, null], \"hoverinfo\": \"none\", \"x\": [0.33, 0.66, null, 0.6221212121212122, 0.5888794484132436, null, 0.6221212121212122, 0.5888794484132436, null]}, {\"mode\": \"lines\", \"line\": {\"color\": \"rgb(0, 0, 0)\", \"width\": 1}, \"y\": [0.0, 0.0, null, 0.0, -0.034740981058275576, null, 0.0, 0.034740981058275576, null], \"hoverinfo\": \"none\", \"x\": [0.66, 1.0, null, 0.9621212121212122, 0.9288794484132434, null, 0.9621212121212122, 0.9288794484132434, null]}, {\"mode\": \"markers+text\", \"x\": [0.0], \"textposition\": \"middle center\", \"textfont\": {\"color\": \"rgb(0, 0, 0)\"}, \"marker\": {\"color\": \"rgb(0, 255, 0)\", \"line\": {\"color\": \"rgb(0, 0, 0)\", \"width\": 1}, \"size\": 20}, \"y\": [0.5], \"hoverinfo\": \"none\", \"text\": [\"0\"]}, {\"mode\": \"markers+text\", \"x\": [0.33], \"textposition\": \"middle center\", \"textfont\": {\"color\": \"rgb(0, 0, 0)\"}, \"marker\": {\"color\": \"rgb(0, 255, 0)\", \"line\": {\"color\": \"rgb(0, 0, 0)\", \"width\": 1}, \"size\": 20}, \"y\": [1.0], \"hoverinfo\": \"none\", \"text\": [\"1\"]}, {\"mode\": \"markers+text\", \"x\": [0.66], \"textposition\": \"middle center\", \"textfont\": {\"color\": \"rgb(0, 0, 0)\"}, \"marker\": {\"color\": \"rgb(0, 255, 0)\", \"line\": {\"color\": \"rgb(0, 0, 0)\", \"width\": 1}, \"size\": 20}, \"y\": [1.0], \"hoverinfo\": \"none\", \"text\": [\"2\"]}, {\"mode\": \"markers+text\", \"x\": [1.0], \"textposition\": \"middle center\", \"textfont\": {\"color\": \"rgb(0, 0, 0)\"}, \"marker\": {\"color\": \"rgb(0, 255, 0)\", \"line\": {\"color\": \"rgb(0, 0, 0)\", \"width\": 1}, \"size\": 20}, \"y\": [1.0], \"hoverinfo\": \"none\", \"text\": [\"3\"]}, {\"mode\": \"markers+text\", \"x\": [0.33], \"textposition\": \"middle center\", \"textfont\": {\"color\": \"rgb(0, 0, 0)\"}, \"marker\": {\"color\": \"rgb(255, 255, 255)\", \"line\": {\"color\": \"rgb(0, 0, 0)\", \"width\": 1}, \"size\": 20}, \"y\": [0.0], \"hoverinfo\": \"none\", \"text\": [\"4\"]}, {\"mode\": \"markers+text\", \"x\": [0.66], \"textposition\": \"middle center\", \"textfont\": {\"color\": \"rgb(0, 0, 0)\"}, \"marker\": {\"color\": \"rgb(0, 255, 0)\", \"line\": {\"color\": \"rgb(0, 0, 0)\", \"width\": 1}, \"size\": 20}, \"y\": [0.0], \"hoverinfo\": \"none\", \"text\": [\"5\"]}, {\"mode\": \"markers+text\", \"x\": [1.0], \"textposition\": \"middle center\", \"textfont\": {\"color\": \"rgb(0, 0, 0)\"}, \"marker\": {\"color\": \"rgb(255, 255, 255)\", \"line\": {\"color\": \"rgb(0, 0, 0)\", \"width\": 1}, \"size\": 20}, \"y\": [0.0], \"hoverinfo\": \"none\", \"text\": [\"6\"]}]}, {\"name\": 5, \"data\": [{\"mode\": \"lines\", \"line\": {\"color\": \"rgb(0, 0, 0)\", \"width\": 1}, \"y\": [0.5, 1.0, null, 0.9550095020335311, 0.8882926689752846, null, 0.9550095020335311, 0.9427605821595028, null], \"hoverinfo\": \"none\", \"x\": [0.0, 0.33, null, 0.3003062713421305, 0.2855225877733855, null, 0.3003062713421305, 0.2629725579755741, null]}, {\"mode\": \"lines\", \"line\": {\"color\": \"rgb(0, 0, 0)\", \"width\": 1}, \"y\": [0.5, 0.0, null, 0.04499049796646893, 0.0572394178404972, null, 0.04499049796646893, 0.11170733102471547, null], \"hoverinfo\": \"none\", \"x\": [0.0, 0.33, null, 0.3003062713421305, 0.2629725579755741, null, 0.3003062713421305, 0.2855225877733855, null]}, {\"mode\": \"lines\", \"line\": {\"color\": \"rgb(0, 0, 0)\", \"width\": 1}, \"y\": [1.0, 1.0, null, 1.0, 0.9652590189417244, null, 1.0, 1.0347409810582755, null], \"hoverinfo\": \"none\", \"x\": [0.33, 0.66, null, 0.6221212121212122, 0.5888794484132436, null, 0.6221212121212122, 0.5888794484132436, null]}, {\"mode\": \"lines\", \"line\": {\"color\": \"rgb(0, 0, 0)\", \"width\": 1}, \"y\": [1.0, 1.0, null, 1.0, 0.9652590189417244, null, 1.0, 1.0347409810582755, null], \"hoverinfo\": \"none\", \"x\": [0.66, 1.0, null, 0.9621212121212122, 0.9288794484132434, null, 0.9621212121212122, 0.9288794484132434, null]}, {\"mode\": \"lines\", \"line\": {\"color\": \"rgb(0, 0, 0)\", \"width\": 1}, \"y\": [1.0, 0.0, null, 0.06127490735002531, 0.13359437096827784, null, 0.06127490735002531, 0.09650302407543368, null], \"hoverinfo\": \"none\", \"x\": [0.66, 0.33, null, 0.35022071942550836, 0.3526100389194443, null, 0.35022071942550836, 0.3833221014449805, null]}, {\"mode\": \"lines\", \"line\": {\"color\": \"rgb(0, 0, 0)\", \"width\": 1}, \"y\": [1.0, 0.0, null, 0.06074471277448944, 0.13299554373343975, null, 0.06074471277448944, 0.09511088313140172, null], \"hoverinfo\": \"none\", \"x\": [1.0, 0.66, null, 0.6806532023433265, 0.6835549327328607, null, 0.6806532023433265, 0.7140012524011855, null]}, {\"mode\": \"lines\", \"line\": {\"color\": \"rgb(0, 0, 0)\", \"width\": 1}, \"y\": [0.0, 0.0, null, 0.0, -0.034740981058275576, null, 0.0, 0.034740981058275576, null], \"hoverinfo\": \"none\", \"x\": [0.33, 0.66, null, 0.6221212121212122, 0.5888794484132436, null, 0.6221212121212122, 0.5888794484132436, null]}, {\"mode\": \"lines\", \"line\": {\"color\": \"rgb(0, 0, 0)\", \"width\": 1}, \"y\": [0.0, 0.0, null, 0.0, -0.034740981058275576, null, 0.0, 0.034740981058275576, null], \"hoverinfo\": \"none\", \"x\": [0.66, 1.0, null, 0.9621212121212122, 0.9288794484132434, null, 0.9621212121212122, 0.9288794484132434, null]}, {\"mode\": \"markers+text\", \"x\": [0.0], \"textposition\": \"middle center\", \"textfont\": {\"color\": \"rgb(0, 0, 0)\"}, \"marker\": {\"color\": \"rgb(0, 255, 0)\", \"line\": {\"color\": \"rgb(0, 0, 0)\", \"width\": 1}, \"size\": 20}, \"y\": [0.5], \"hoverinfo\": \"none\", \"text\": [\"0\"]}, {\"mode\": \"markers+text\", \"x\": [0.33], \"textposition\": \"middle center\", \"textfont\": {\"color\": \"rgb(0, 0, 0)\"}, \"marker\": {\"color\": \"rgb(0, 255, 0)\", \"line\": {\"color\": \"rgb(0, 0, 0)\", \"width\": 1}, \"size\": 20}, \"y\": [1.0], \"hoverinfo\": \"none\", \"text\": [\"1\"]}, {\"mode\": \"markers+text\", \"x\": [0.66], \"textposition\": \"middle center\", \"textfont\": {\"color\": \"rgb(0, 0, 0)\"}, \"marker\": {\"color\": \"rgb(0, 255, 0)\", \"line\": {\"color\": \"rgb(0, 0, 0)\", \"width\": 1}, \"size\": 20}, \"y\": [1.0], \"hoverinfo\": \"none\", \"text\": [\"2\"]}, {\"mode\": \"markers+text\", \"x\": [1.0], \"textposition\": \"middle center\", \"textfont\": {\"color\": \"rgb(0, 0, 0)\"}, \"marker\": {\"color\": \"rgb(0, 255, 0)\", \"line\": {\"color\": \"rgb(0, 0, 0)\", \"width\": 1}, \"size\": 20}, \"y\": [1.0], \"hoverinfo\": \"none\", \"text\": [\"3\"]}, {\"mode\": \"markers+text\", \"x\": [0.33], \"textposition\": \"middle center\", \"textfont\": {\"color\": \"rgb(0, 0, 0)\"}, \"marker\": {\"color\": \"rgb(255, 255, 255)\", \"line\": {\"color\": \"rgb(0, 0, 0)\", \"width\": 1}, \"size\": 20}, \"y\": [0.0], \"hoverinfo\": \"none\", \"text\": [\"4\"]}, {\"mode\": \"markers+text\", \"x\": [0.66], \"textposition\": \"middle center\", \"textfont\": {\"color\": \"rgb(0, 0, 0)\"}, \"marker\": {\"color\": \"rgb(0, 255, 0)\", \"line\": {\"color\": \"rgb(0, 0, 0)\", \"width\": 1}, \"size\": 20}, \"y\": [0.0], \"hoverinfo\": \"none\", \"text\": [\"5\"]}, {\"mode\": \"markers+text\", \"x\": [1.0], \"textposition\": \"middle center\", \"textfont\": {\"color\": \"rgb(0, 0, 0)\"}, \"marker\": {\"color\": \"rgb(0, 255, 0)\", \"line\": {\"color\": \"rgb(0, 0, 0)\", \"width\": 1}, \"size\": 20}, \"y\": [0.0], \"hoverinfo\": \"none\", \"text\": [\"6\"]}]}, {\"name\": 6, \"data\": [{\"mode\": \"lines\", \"line\": {\"color\": \"rgb(0, 0, 0)\", \"width\": 1}, \"y\": [0.5, 1.0, null, 0.9550095020335311, 0.8882926689752846, null, 0.9550095020335311, 0.9427605821595028, null], \"hoverinfo\": \"none\", \"x\": [0.0, 0.33, null, 0.3003062713421305, 0.2855225877733855, null, 0.3003062713421305, 0.2629725579755741, null]}, {\"mode\": \"lines\", \"line\": {\"color\": \"rgb(0, 0, 0)\", \"width\": 1}, \"y\": [0.5, 0.0, null, 0.04499049796646893, 0.0572394178404972, null, 0.04499049796646893, 0.11170733102471547, null], \"hoverinfo\": \"none\", \"x\": [0.0, 0.33, null, 0.3003062713421305, 0.2629725579755741, null, 0.3003062713421305, 0.2855225877733855, null]}, {\"mode\": \"lines\", \"line\": {\"color\": \"rgb(0, 0, 0)\", \"width\": 1}, \"y\": [1.0, 1.0, null, 1.0, 0.9652590189417244, null, 1.0, 1.0347409810582755, null], \"hoverinfo\": \"none\", \"x\": [0.33, 0.66, null, 0.6221212121212122, 0.5888794484132436, null, 0.6221212121212122, 0.5888794484132436, null]}, {\"mode\": \"lines\", \"line\": {\"color\": \"rgb(0, 0, 0)\", \"width\": 1}, \"y\": [1.0, 1.0, null, 1.0, 0.9652590189417244, null, 1.0, 1.0347409810582755, null], \"hoverinfo\": \"none\", \"x\": [0.66, 1.0, null, 0.9621212121212122, 0.9288794484132434, null, 0.9621212121212122, 0.9288794484132434, null]}, {\"mode\": \"lines\", \"line\": {\"color\": \"rgb(0, 0, 0)\", \"width\": 1}, \"y\": [1.0, 0.0, null, 0.06127490735002531, 0.13359437096827784, null, 0.06127490735002531, 0.09650302407543368, null], \"hoverinfo\": \"none\", \"x\": [0.66, 0.33, null, 0.35022071942550836, 0.3526100389194443, null, 0.35022071942550836, 0.3833221014449805, null]}, {\"mode\": \"lines\", \"line\": {\"color\": \"rgb(0, 0, 0)\", \"width\": 1}, \"y\": [1.0, 0.0, null, 0.06074471277448944, 0.13299554373343975, null, 0.06074471277448944, 0.09511088313140172, null], \"hoverinfo\": \"none\", \"x\": [1.0, 0.66, null, 0.6806532023433265, 0.6835549327328607, null, 0.6806532023433265, 0.7140012524011855, null]}, {\"mode\": \"lines\", \"line\": {\"color\": \"rgb(0, 0, 0)\", \"width\": 1}, \"y\": [0.0, 0.0, null, 0.0, -0.034740981058275576, null, 0.0, 0.034740981058275576, null], \"hoverinfo\": \"none\", \"x\": [0.33, 0.66, null, 0.6221212121212122, 0.5888794484132436, null, 0.6221212121212122, 0.5888794484132436, null]}, {\"mode\": \"lines\", \"line\": {\"color\": \"rgb(0, 0, 0)\", \"width\": 1}, \"y\": [0.0, 0.0, null, 0.0, -0.034740981058275576, null, 0.0, 0.034740981058275576, null], \"hoverinfo\": \"none\", \"x\": [0.66, 1.0, null, 0.9621212121212122, 0.9288794484132434, null, 0.9621212121212122, 0.9288794484132434, null]}, {\"mode\": \"markers+text\", \"x\": [0.0], \"textposition\": \"middle center\", \"textfont\": {\"color\": \"rgb(0, 0, 0)\"}, \"marker\": {\"color\": \"rgb(0, 255, 0)\", \"line\": {\"color\": \"rgb(0, 0, 0)\", \"width\": 1}, \"size\": 20}, \"y\": [0.5], \"hoverinfo\": \"none\", \"text\": [\"0\"]}, {\"mode\": \"markers+text\", \"x\": [0.33], \"textposition\": \"middle center\", \"textfont\": {\"color\": \"rgb(0, 0, 0)\"}, \"marker\": {\"color\": \"rgb(0, 255, 0)\", \"line\": {\"color\": \"rgb(0, 0, 0)\", \"width\": 1}, \"size\": 20}, \"y\": [1.0], \"hoverinfo\": \"none\", \"text\": [\"1\"]}, {\"mode\": \"markers+text\", \"x\": [0.66], \"textposition\": \"middle center\", \"textfont\": {\"color\": \"rgb(0, 0, 0)\"}, \"marker\": {\"color\": \"rgb(0, 255, 0)\", \"line\": {\"color\": \"rgb(0, 0, 0)\", \"width\": 1}, \"size\": 20}, \"y\": [1.0], \"hoverinfo\": \"none\", \"text\": [\"2\"]}, {\"mode\": \"markers+text\", \"x\": [1.0], \"textposition\": \"middle center\", \"textfont\": {\"color\": \"rgb(0, 0, 0)\"}, \"marker\": {\"color\": \"rgb(0, 255, 0)\", \"line\": {\"color\": \"rgb(0, 0, 0)\", \"width\": 1}, \"size\": 20}, \"y\": [1.0], \"hoverinfo\": \"none\", \"text\": [\"3\"]}, {\"mode\": \"markers+text\", \"x\": [0.33], \"textposition\": \"middle center\", \"textfont\": {\"color\": \"rgb(0, 0, 0)\"}, \"marker\": {\"color\": \"rgb(0, 255, 0)\", \"line\": {\"color\": \"rgb(0, 0, 0)\", \"width\": 1}, \"size\": 20}, \"y\": [0.0], \"hoverinfo\": \"none\", \"text\": [\"4\"]}, {\"mode\": \"markers+text\", \"x\": [0.66], \"textposition\": \"middle center\", \"textfont\": {\"color\": \"rgb(0, 0, 0)\"}, \"marker\": {\"color\": \"rgb(0, 255, 0)\", \"line\": {\"color\": \"rgb(0, 0, 0)\", \"width\": 1}, \"size\": 20}, \"y\": [0.0], \"hoverinfo\": \"none\", \"text\": [\"5\"]}, {\"mode\": \"markers+text\", \"x\": [1.0], \"textposition\": \"middle center\", \"textfont\": {\"color\": \"rgb(0, 0, 0)\"}, \"marker\": {\"color\": \"rgb(0, 255, 0)\", \"line\": {\"color\": \"rgb(0, 0, 0)\", \"width\": 1}, \"size\": 20}, \"y\": [0.0], \"hoverinfo\": \"none\", \"text\": [\"6\"]}]}]);}).then(function(){Plotly.animate('f34d4d0d-a9e7-4c5d-a3b7-5e3a964a5a26');})\n",
       "        });</script>"
      ]
     },
     "metadata": {},
     "output_type": "display_data"
    }
   ],
   "source": [
    "def dfs_r(g, n, frames):\n",
    "    g.nodes[n]['color'] = (0, 255, 0)\n",
    "    g.nodes[n]['visited'] = True\n",
    "\n",
    "    frame = sn.generate_frame(g, nlab=True)\n",
    "    frames.append(frame)\n",
    "\n",
    "    for m in g.successors(n):\n",
    "        if not g.nodes[m]['visited']:\n",
    "            dfs_r(g, m, frames)\n",
    "\n",
    "\n",
    "frames = []\n",
    "\n",
    "sn.reset_node_colors(g)\n",
    "for n in g.nodes:\n",
    "    g.nodes[n]['visited'] = False\n",
    "\n",
    "dfs_r(g, 0, frames)\n",
    "\n",
    "sn.show_animation(frames)"
   ]
  },
  {
   "cell_type": "markdown",
   "metadata": {},
   "source": [
    "## Busca em profundidade (sem recursão)\n",
    "\n",
    "Dica: https://docs.python.org/3/tutorial/datastructures.html#using-lists-as-stacks"
   ]
  },
  {
   "cell_type": "code",
   "execution_count": 15,
   "metadata": {},
   "outputs": [
    {
     "data": {
      "application/vnd.plotly.v1+json": {
       "data": [
        {
         "hoverinfo": "none",
         "line": {
          "color": "rgb(0, 0, 0)",
          "width": 1
         },
         "mode": "lines",
         "x": [
          0,
          0.33,
          null,
          0.3003062713421305,
          0.2855225877733855,
          null,
          0.3003062713421305,
          0.2629725579755741,
          null
         ],
         "y": [
          0.5,
          1,
          null,
          0.9550095020335311,
          0.8882926689752846,
          null,
          0.9550095020335311,
          0.9427605821595028,
          null
         ]
        },
        {
         "hoverinfo": "none",
         "line": {
          "color": "rgb(0, 0, 0)",
          "width": 1
         },
         "mode": "lines",
         "x": [
          0,
          0.33,
          null,
          0.3003062713421305,
          0.2629725579755741,
          null,
          0.3003062713421305,
          0.2855225877733855,
          null
         ],
         "y": [
          0.5,
          0,
          null,
          0.04499049796646893,
          0.0572394178404972,
          null,
          0.04499049796646893,
          0.11170733102471547,
          null
         ]
        },
        {
         "hoverinfo": "none",
         "line": {
          "color": "rgb(0, 0, 0)",
          "width": 1
         },
         "mode": "lines",
         "x": [
          0.33,
          0.66,
          null,
          0.6221212121212122,
          0.5888794484132436,
          null,
          0.6221212121212122,
          0.5888794484132436,
          null
         ],
         "y": [
          1,
          1,
          null,
          1,
          0.9652590189417244,
          null,
          1,
          1.0347409810582755,
          null
         ]
        },
        {
         "hoverinfo": "none",
         "line": {
          "color": "rgb(0, 0, 0)",
          "width": 1
         },
         "mode": "lines",
         "x": [
          0.66,
          1,
          null,
          0.9621212121212122,
          0.9288794484132434,
          null,
          0.9621212121212122,
          0.9288794484132434,
          null
         ],
         "y": [
          1,
          1,
          null,
          1,
          0.9652590189417244,
          null,
          1,
          1.0347409810582755,
          null
         ]
        },
        {
         "hoverinfo": "none",
         "line": {
          "color": "rgb(0, 0, 0)",
          "width": 1
         },
         "mode": "lines",
         "x": [
          0.66,
          0.33,
          null,
          0.35022071942550836,
          0.3526100389194443,
          null,
          0.35022071942550836,
          0.3833221014449805,
          null
         ],
         "y": [
          1,
          0,
          null,
          0.06127490735002531,
          0.13359437096827784,
          null,
          0.06127490735002531,
          0.09650302407543368,
          null
         ]
        },
        {
         "hoverinfo": "none",
         "line": {
          "color": "rgb(0, 0, 0)",
          "width": 1
         },
         "mode": "lines",
         "x": [
          1,
          0.66,
          null,
          0.6806532023433265,
          0.6835549327328607,
          null,
          0.6806532023433265,
          0.7140012524011855,
          null
         ],
         "y": [
          1,
          0,
          null,
          0.06074471277448944,
          0.13299554373343975,
          null,
          0.06074471277448944,
          0.09511088313140172,
          null
         ]
        },
        {
         "hoverinfo": "none",
         "line": {
          "color": "rgb(0, 0, 0)",
          "width": 1
         },
         "mode": "lines",
         "x": [
          0.33,
          0.66,
          null,
          0.6221212121212122,
          0.5888794484132436,
          null,
          0.6221212121212122,
          0.5888794484132436,
          null
         ],
         "y": [
          0,
          0,
          null,
          0,
          -0.034740981058275576,
          null,
          0,
          0.034740981058275576,
          null
         ]
        },
        {
         "hoverinfo": "none",
         "line": {
          "color": "rgb(0, 0, 0)",
          "width": 1
         },
         "mode": "lines",
         "x": [
          0.66,
          1,
          null,
          0.9621212121212122,
          0.9288794484132434,
          null,
          0.9621212121212122,
          0.9288794484132434,
          null
         ],
         "y": [
          0,
          0,
          null,
          0,
          -0.034740981058275576,
          null,
          0,
          0.034740981058275576,
          null
         ]
        },
        {
         "hoverinfo": "none",
         "marker": {
          "color": "rgb(0, 255, 0)",
          "line": {
           "color": "rgb(0, 0, 0)",
           "width": 1
          },
          "size": 20
         },
         "mode": "markers+text",
         "text": [
          "0"
         ],
         "textfont": {
          "color": "rgb(0, 0, 0)"
         },
         "textposition": "middle center",
         "x": [
          0
         ],
         "y": [
          0.5
         ]
        },
        {
         "hoverinfo": "none",
         "marker": {
          "color": "rgb(255, 255, 255)",
          "line": {
           "color": "rgb(0, 0, 0)",
           "width": 1
          },
          "size": 20
         },
         "mode": "markers+text",
         "text": [
          "1"
         ],
         "textfont": {
          "color": "rgb(0, 0, 0)"
         },
         "textposition": "middle center",
         "x": [
          0.33
         ],
         "y": [
          1
         ]
        },
        {
         "hoverinfo": "none",
         "marker": {
          "color": "rgb(255, 255, 255)",
          "line": {
           "color": "rgb(0, 0, 0)",
           "width": 1
          },
          "size": 20
         },
         "mode": "markers+text",
         "text": [
          "2"
         ],
         "textfont": {
          "color": "rgb(0, 0, 0)"
         },
         "textposition": "middle center",
         "x": [
          0.66
         ],
         "y": [
          1
         ]
        },
        {
         "hoverinfo": "none",
         "marker": {
          "color": "rgb(255, 255, 255)",
          "line": {
           "color": "rgb(0, 0, 0)",
           "width": 1
          },
          "size": 20
         },
         "mode": "markers+text",
         "text": [
          "3"
         ],
         "textfont": {
          "color": "rgb(0, 0, 0)"
         },
         "textposition": "middle center",
         "x": [
          1
         ],
         "y": [
          1
         ]
        },
        {
         "hoverinfo": "none",
         "marker": {
          "color": "rgb(255, 255, 255)",
          "line": {
           "color": "rgb(0, 0, 0)",
           "width": 1
          },
          "size": 20
         },
         "mode": "markers+text",
         "text": [
          "4"
         ],
         "textfont": {
          "color": "rgb(0, 0, 0)"
         },
         "textposition": "middle center",
         "x": [
          0.33
         ],
         "y": [
          0
         ]
        },
        {
         "hoverinfo": "none",
         "marker": {
          "color": "rgb(255, 255, 255)",
          "line": {
           "color": "rgb(0, 0, 0)",
           "width": 1
          },
          "size": 20
         },
         "mode": "markers+text",
         "text": [
          "5"
         ],
         "textfont": {
          "color": "rgb(0, 0, 0)"
         },
         "textposition": "middle center",
         "x": [
          0.66
         ],
         "y": [
          0
         ]
        },
        {
         "hoverinfo": "none",
         "marker": {
          "color": "rgb(255, 255, 255)",
          "line": {
           "color": "rgb(0, 0, 0)",
           "width": 1
          },
          "size": 20
         },
         "mode": "markers+text",
         "text": [
          "6"
         ],
         "textfont": {
          "color": "rgb(0, 0, 0)"
         },
         "textposition": "middle center",
         "x": [
          1
         ],
         "y": [
          0
         ]
        }
       ],
       "frames": [
        {
         "data": [
          {
           "hoverinfo": "none",
           "line": {
            "color": "rgb(0, 0, 0)",
            "width": 1
           },
           "mode": "lines",
           "x": [
            0,
            0.33,
            null,
            0.3003062713421305,
            0.2855225877733855,
            null,
            0.3003062713421305,
            0.2629725579755741,
            null
           ],
           "y": [
            0.5,
            1,
            null,
            0.9550095020335311,
            0.8882926689752846,
            null,
            0.9550095020335311,
            0.9427605821595028,
            null
           ]
          },
          {
           "hoverinfo": "none",
           "line": {
            "color": "rgb(0, 0, 0)",
            "width": 1
           },
           "mode": "lines",
           "x": [
            0,
            0.33,
            null,
            0.3003062713421305,
            0.2629725579755741,
            null,
            0.3003062713421305,
            0.2855225877733855,
            null
           ],
           "y": [
            0.5,
            0,
            null,
            0.04499049796646893,
            0.0572394178404972,
            null,
            0.04499049796646893,
            0.11170733102471547,
            null
           ]
          },
          {
           "hoverinfo": "none",
           "line": {
            "color": "rgb(0, 0, 0)",
            "width": 1
           },
           "mode": "lines",
           "x": [
            0.33,
            0.66,
            null,
            0.6221212121212122,
            0.5888794484132436,
            null,
            0.6221212121212122,
            0.5888794484132436,
            null
           ],
           "y": [
            1,
            1,
            null,
            1,
            0.9652590189417244,
            null,
            1,
            1.0347409810582755,
            null
           ]
          },
          {
           "hoverinfo": "none",
           "line": {
            "color": "rgb(0, 0, 0)",
            "width": 1
           },
           "mode": "lines",
           "x": [
            0.66,
            1,
            null,
            0.9621212121212122,
            0.9288794484132434,
            null,
            0.9621212121212122,
            0.9288794484132434,
            null
           ],
           "y": [
            1,
            1,
            null,
            1,
            0.9652590189417244,
            null,
            1,
            1.0347409810582755,
            null
           ]
          },
          {
           "hoverinfo": "none",
           "line": {
            "color": "rgb(0, 0, 0)",
            "width": 1
           },
           "mode": "lines",
           "x": [
            0.66,
            0.33,
            null,
            0.35022071942550836,
            0.3526100389194443,
            null,
            0.35022071942550836,
            0.3833221014449805,
            null
           ],
           "y": [
            1,
            0,
            null,
            0.06127490735002531,
            0.13359437096827784,
            null,
            0.06127490735002531,
            0.09650302407543368,
            null
           ]
          },
          {
           "hoverinfo": "none",
           "line": {
            "color": "rgb(0, 0, 0)",
            "width": 1
           },
           "mode": "lines",
           "x": [
            1,
            0.66,
            null,
            0.6806532023433265,
            0.6835549327328607,
            null,
            0.6806532023433265,
            0.7140012524011855,
            null
           ],
           "y": [
            1,
            0,
            null,
            0.06074471277448944,
            0.13299554373343975,
            null,
            0.06074471277448944,
            0.09511088313140172,
            null
           ]
          },
          {
           "hoverinfo": "none",
           "line": {
            "color": "rgb(0, 0, 0)",
            "width": 1
           },
           "mode": "lines",
           "x": [
            0.33,
            0.66,
            null,
            0.6221212121212122,
            0.5888794484132436,
            null,
            0.6221212121212122,
            0.5888794484132436,
            null
           ],
           "y": [
            0,
            0,
            null,
            0,
            -0.034740981058275576,
            null,
            0,
            0.034740981058275576,
            null
           ]
          },
          {
           "hoverinfo": "none",
           "line": {
            "color": "rgb(0, 0, 0)",
            "width": 1
           },
           "mode": "lines",
           "x": [
            0.66,
            1,
            null,
            0.9621212121212122,
            0.9288794484132434,
            null,
            0.9621212121212122,
            0.9288794484132434,
            null
           ],
           "y": [
            0,
            0,
            null,
            0,
            -0.034740981058275576,
            null,
            0,
            0.034740981058275576,
            null
           ]
          },
          {
           "hoverinfo": "none",
           "marker": {
            "color": "rgb(0, 255, 0)",
            "line": {
             "color": "rgb(0, 0, 0)",
             "width": 1
            },
            "size": 20
           },
           "mode": "markers+text",
           "text": [
            "0"
           ],
           "textfont": {
            "color": "rgb(0, 0, 0)"
           },
           "textposition": "middle center",
           "x": [
            0
           ],
           "y": [
            0.5
           ]
          },
          {
           "hoverinfo": "none",
           "marker": {
            "color": "rgb(255, 255, 255)",
            "line": {
             "color": "rgb(0, 0, 0)",
             "width": 1
            },
            "size": 20
           },
           "mode": "markers+text",
           "text": [
            "1"
           ],
           "textfont": {
            "color": "rgb(0, 0, 0)"
           },
           "textposition": "middle center",
           "x": [
            0.33
           ],
           "y": [
            1
           ]
          },
          {
           "hoverinfo": "none",
           "marker": {
            "color": "rgb(255, 255, 255)",
            "line": {
             "color": "rgb(0, 0, 0)",
             "width": 1
            },
            "size": 20
           },
           "mode": "markers+text",
           "text": [
            "2"
           ],
           "textfont": {
            "color": "rgb(0, 0, 0)"
           },
           "textposition": "middle center",
           "x": [
            0.66
           ],
           "y": [
            1
           ]
          },
          {
           "hoverinfo": "none",
           "marker": {
            "color": "rgb(255, 255, 255)",
            "line": {
             "color": "rgb(0, 0, 0)",
             "width": 1
            },
            "size": 20
           },
           "mode": "markers+text",
           "text": [
            "3"
           ],
           "textfont": {
            "color": "rgb(0, 0, 0)"
           },
           "textposition": "middle center",
           "x": [
            1
           ],
           "y": [
            1
           ]
          },
          {
           "hoverinfo": "none",
           "marker": {
            "color": "rgb(255, 255, 255)",
            "line": {
             "color": "rgb(0, 0, 0)",
             "width": 1
            },
            "size": 20
           },
           "mode": "markers+text",
           "text": [
            "4"
           ],
           "textfont": {
            "color": "rgb(0, 0, 0)"
           },
           "textposition": "middle center",
           "x": [
            0.33
           ],
           "y": [
            0
           ]
          },
          {
           "hoverinfo": "none",
           "marker": {
            "color": "rgb(255, 255, 255)",
            "line": {
             "color": "rgb(0, 0, 0)",
             "width": 1
            },
            "size": 20
           },
           "mode": "markers+text",
           "text": [
            "5"
           ],
           "textfont": {
            "color": "rgb(0, 0, 0)"
           },
           "textposition": "middle center",
           "x": [
            0.66
           ],
           "y": [
            0
           ]
          },
          {
           "hoverinfo": "none",
           "marker": {
            "color": "rgb(255, 255, 255)",
            "line": {
             "color": "rgb(0, 0, 0)",
             "width": 1
            },
            "size": 20
           },
           "mode": "markers+text",
           "text": [
            "6"
           ],
           "textfont": {
            "color": "rgb(0, 0, 0)"
           },
           "textposition": "middle center",
           "x": [
            1
           ],
           "y": [
            0
           ]
          }
         ],
         "name": 0
        },
        {
         "data": [
          {
           "hoverinfo": "none",
           "line": {
            "color": "rgb(0, 0, 0)",
            "width": 1
           },
           "mode": "lines",
           "x": [
            0,
            0.33,
            null,
            0.3003062713421305,
            0.2855225877733855,
            null,
            0.3003062713421305,
            0.2629725579755741,
            null
           ],
           "y": [
            0.5,
            1,
            null,
            0.9550095020335311,
            0.8882926689752846,
            null,
            0.9550095020335311,
            0.9427605821595028,
            null
           ]
          },
          {
           "hoverinfo": "none",
           "line": {
            "color": "rgb(0, 0, 0)",
            "width": 1
           },
           "mode": "lines",
           "x": [
            0,
            0.33,
            null,
            0.3003062713421305,
            0.2629725579755741,
            null,
            0.3003062713421305,
            0.2855225877733855,
            null
           ],
           "y": [
            0.5,
            0,
            null,
            0.04499049796646893,
            0.0572394178404972,
            null,
            0.04499049796646893,
            0.11170733102471547,
            null
           ]
          },
          {
           "hoverinfo": "none",
           "line": {
            "color": "rgb(0, 0, 0)",
            "width": 1
           },
           "mode": "lines",
           "x": [
            0.33,
            0.66,
            null,
            0.6221212121212122,
            0.5888794484132436,
            null,
            0.6221212121212122,
            0.5888794484132436,
            null
           ],
           "y": [
            1,
            1,
            null,
            1,
            0.9652590189417244,
            null,
            1,
            1.0347409810582755,
            null
           ]
          },
          {
           "hoverinfo": "none",
           "line": {
            "color": "rgb(0, 0, 0)",
            "width": 1
           },
           "mode": "lines",
           "x": [
            0.66,
            1,
            null,
            0.9621212121212122,
            0.9288794484132434,
            null,
            0.9621212121212122,
            0.9288794484132434,
            null
           ],
           "y": [
            1,
            1,
            null,
            1,
            0.9652590189417244,
            null,
            1,
            1.0347409810582755,
            null
           ]
          },
          {
           "hoverinfo": "none",
           "line": {
            "color": "rgb(0, 0, 0)",
            "width": 1
           },
           "mode": "lines",
           "x": [
            0.66,
            0.33,
            null,
            0.35022071942550836,
            0.3526100389194443,
            null,
            0.35022071942550836,
            0.3833221014449805,
            null
           ],
           "y": [
            1,
            0,
            null,
            0.06127490735002531,
            0.13359437096827784,
            null,
            0.06127490735002531,
            0.09650302407543368,
            null
           ]
          },
          {
           "hoverinfo": "none",
           "line": {
            "color": "rgb(0, 0, 0)",
            "width": 1
           },
           "mode": "lines",
           "x": [
            1,
            0.66,
            null,
            0.6806532023433265,
            0.6835549327328607,
            null,
            0.6806532023433265,
            0.7140012524011855,
            null
           ],
           "y": [
            1,
            0,
            null,
            0.06074471277448944,
            0.13299554373343975,
            null,
            0.06074471277448944,
            0.09511088313140172,
            null
           ]
          },
          {
           "hoverinfo": "none",
           "line": {
            "color": "rgb(0, 0, 0)",
            "width": 1
           },
           "mode": "lines",
           "x": [
            0.33,
            0.66,
            null,
            0.6221212121212122,
            0.5888794484132436,
            null,
            0.6221212121212122,
            0.5888794484132436,
            null
           ],
           "y": [
            0,
            0,
            null,
            0,
            -0.034740981058275576,
            null,
            0,
            0.034740981058275576,
            null
           ]
          },
          {
           "hoverinfo": "none",
           "line": {
            "color": "rgb(0, 0, 0)",
            "width": 1
           },
           "mode": "lines",
           "x": [
            0.66,
            1,
            null,
            0.9621212121212122,
            0.9288794484132434,
            null,
            0.9621212121212122,
            0.9288794484132434,
            null
           ],
           "y": [
            0,
            0,
            null,
            0,
            -0.034740981058275576,
            null,
            0,
            0.034740981058275576,
            null
           ]
          },
          {
           "hoverinfo": "none",
           "marker": {
            "color": "rgb(0, 255, 0)",
            "line": {
             "color": "rgb(0, 0, 0)",
             "width": 1
            },
            "size": 20
           },
           "mode": "markers+text",
           "text": [
            "0"
           ],
           "textfont": {
            "color": "rgb(0, 0, 0)"
           },
           "textposition": "middle center",
           "x": [
            0
           ],
           "y": [
            0.5
           ]
          },
          {
           "hoverinfo": "none",
           "marker": {
            "color": "rgb(0, 255, 0)",
            "line": {
             "color": "rgb(0, 0, 0)",
             "width": 1
            },
            "size": 20
           },
           "mode": "markers+text",
           "text": [
            "1"
           ],
           "textfont": {
            "color": "rgb(0, 0, 0)"
           },
           "textposition": "middle center",
           "x": [
            0.33
           ],
           "y": [
            1
           ]
          },
          {
           "hoverinfo": "none",
           "marker": {
            "color": "rgb(255, 255, 255)",
            "line": {
             "color": "rgb(0, 0, 0)",
             "width": 1
            },
            "size": 20
           },
           "mode": "markers+text",
           "text": [
            "2"
           ],
           "textfont": {
            "color": "rgb(0, 0, 0)"
           },
           "textposition": "middle center",
           "x": [
            0.66
           ],
           "y": [
            1
           ]
          },
          {
           "hoverinfo": "none",
           "marker": {
            "color": "rgb(255, 255, 255)",
            "line": {
             "color": "rgb(0, 0, 0)",
             "width": 1
            },
            "size": 20
           },
           "mode": "markers+text",
           "text": [
            "3"
           ],
           "textfont": {
            "color": "rgb(0, 0, 0)"
           },
           "textposition": "middle center",
           "x": [
            1
           ],
           "y": [
            1
           ]
          },
          {
           "hoverinfo": "none",
           "marker": {
            "color": "rgb(255, 255, 255)",
            "line": {
             "color": "rgb(0, 0, 0)",
             "width": 1
            },
            "size": 20
           },
           "mode": "markers+text",
           "text": [
            "4"
           ],
           "textfont": {
            "color": "rgb(0, 0, 0)"
           },
           "textposition": "middle center",
           "x": [
            0.33
           ],
           "y": [
            0
           ]
          },
          {
           "hoverinfo": "none",
           "marker": {
            "color": "rgb(255, 255, 255)",
            "line": {
             "color": "rgb(0, 0, 0)",
             "width": 1
            },
            "size": 20
           },
           "mode": "markers+text",
           "text": [
            "5"
           ],
           "textfont": {
            "color": "rgb(0, 0, 0)"
           },
           "textposition": "middle center",
           "x": [
            0.66
           ],
           "y": [
            0
           ]
          },
          {
           "hoverinfo": "none",
           "marker": {
            "color": "rgb(255, 255, 255)",
            "line": {
             "color": "rgb(0, 0, 0)",
             "width": 1
            },
            "size": 20
           },
           "mode": "markers+text",
           "text": [
            "6"
           ],
           "textfont": {
            "color": "rgb(0, 0, 0)"
           },
           "textposition": "middle center",
           "x": [
            1
           ],
           "y": [
            0
           ]
          }
         ],
         "name": 1
        },
        {
         "data": [
          {
           "hoverinfo": "none",
           "line": {
            "color": "rgb(0, 0, 0)",
            "width": 1
           },
           "mode": "lines",
           "x": [
            0,
            0.33,
            null,
            0.3003062713421305,
            0.2855225877733855,
            null,
            0.3003062713421305,
            0.2629725579755741,
            null
           ],
           "y": [
            0.5,
            1,
            null,
            0.9550095020335311,
            0.8882926689752846,
            null,
            0.9550095020335311,
            0.9427605821595028,
            null
           ]
          },
          {
           "hoverinfo": "none",
           "line": {
            "color": "rgb(0, 0, 0)",
            "width": 1
           },
           "mode": "lines",
           "x": [
            0,
            0.33,
            null,
            0.3003062713421305,
            0.2629725579755741,
            null,
            0.3003062713421305,
            0.2855225877733855,
            null
           ],
           "y": [
            0.5,
            0,
            null,
            0.04499049796646893,
            0.0572394178404972,
            null,
            0.04499049796646893,
            0.11170733102471547,
            null
           ]
          },
          {
           "hoverinfo": "none",
           "line": {
            "color": "rgb(0, 0, 0)",
            "width": 1
           },
           "mode": "lines",
           "x": [
            0.33,
            0.66,
            null,
            0.6221212121212122,
            0.5888794484132436,
            null,
            0.6221212121212122,
            0.5888794484132436,
            null
           ],
           "y": [
            1,
            1,
            null,
            1,
            0.9652590189417244,
            null,
            1,
            1.0347409810582755,
            null
           ]
          },
          {
           "hoverinfo": "none",
           "line": {
            "color": "rgb(0, 0, 0)",
            "width": 1
           },
           "mode": "lines",
           "x": [
            0.66,
            1,
            null,
            0.9621212121212122,
            0.9288794484132434,
            null,
            0.9621212121212122,
            0.9288794484132434,
            null
           ],
           "y": [
            1,
            1,
            null,
            1,
            0.9652590189417244,
            null,
            1,
            1.0347409810582755,
            null
           ]
          },
          {
           "hoverinfo": "none",
           "line": {
            "color": "rgb(0, 0, 0)",
            "width": 1
           },
           "mode": "lines",
           "x": [
            0.66,
            0.33,
            null,
            0.35022071942550836,
            0.3526100389194443,
            null,
            0.35022071942550836,
            0.3833221014449805,
            null
           ],
           "y": [
            1,
            0,
            null,
            0.06127490735002531,
            0.13359437096827784,
            null,
            0.06127490735002531,
            0.09650302407543368,
            null
           ]
          },
          {
           "hoverinfo": "none",
           "line": {
            "color": "rgb(0, 0, 0)",
            "width": 1
           },
           "mode": "lines",
           "x": [
            1,
            0.66,
            null,
            0.6806532023433265,
            0.6835549327328607,
            null,
            0.6806532023433265,
            0.7140012524011855,
            null
           ],
           "y": [
            1,
            0,
            null,
            0.06074471277448944,
            0.13299554373343975,
            null,
            0.06074471277448944,
            0.09511088313140172,
            null
           ]
          },
          {
           "hoverinfo": "none",
           "line": {
            "color": "rgb(0, 0, 0)",
            "width": 1
           },
           "mode": "lines",
           "x": [
            0.33,
            0.66,
            null,
            0.6221212121212122,
            0.5888794484132436,
            null,
            0.6221212121212122,
            0.5888794484132436,
            null
           ],
           "y": [
            0,
            0,
            null,
            0,
            -0.034740981058275576,
            null,
            0,
            0.034740981058275576,
            null
           ]
          },
          {
           "hoverinfo": "none",
           "line": {
            "color": "rgb(0, 0, 0)",
            "width": 1
           },
           "mode": "lines",
           "x": [
            0.66,
            1,
            null,
            0.9621212121212122,
            0.9288794484132434,
            null,
            0.9621212121212122,
            0.9288794484132434,
            null
           ],
           "y": [
            0,
            0,
            null,
            0,
            -0.034740981058275576,
            null,
            0,
            0.034740981058275576,
            null
           ]
          },
          {
           "hoverinfo": "none",
           "marker": {
            "color": "rgb(0, 255, 0)",
            "line": {
             "color": "rgb(0, 0, 0)",
             "width": 1
            },
            "size": 20
           },
           "mode": "markers+text",
           "text": [
            "0"
           ],
           "textfont": {
            "color": "rgb(0, 0, 0)"
           },
           "textposition": "middle center",
           "x": [
            0
           ],
           "y": [
            0.5
           ]
          },
          {
           "hoverinfo": "none",
           "marker": {
            "color": "rgb(0, 255, 0)",
            "line": {
             "color": "rgb(0, 0, 0)",
             "width": 1
            },
            "size": 20
           },
           "mode": "markers+text",
           "text": [
            "1"
           ],
           "textfont": {
            "color": "rgb(0, 0, 0)"
           },
           "textposition": "middle center",
           "x": [
            0.33
           ],
           "y": [
            1
           ]
          },
          {
           "hoverinfo": "none",
           "marker": {
            "color": "rgb(255, 255, 255)",
            "line": {
             "color": "rgb(0, 0, 0)",
             "width": 1
            },
            "size": 20
           },
           "mode": "markers+text",
           "text": [
            "2"
           ],
           "textfont": {
            "color": "rgb(0, 0, 0)"
           },
           "textposition": "middle center",
           "x": [
            0.66
           ],
           "y": [
            1
           ]
          },
          {
           "hoverinfo": "none",
           "marker": {
            "color": "rgb(255, 255, 255)",
            "line": {
             "color": "rgb(0, 0, 0)",
             "width": 1
            },
            "size": 20
           },
           "mode": "markers+text",
           "text": [
            "3"
           ],
           "textfont": {
            "color": "rgb(0, 0, 0)"
           },
           "textposition": "middle center",
           "x": [
            1
           ],
           "y": [
            1
           ]
          },
          {
           "hoverinfo": "none",
           "marker": {
            "color": "rgb(0, 255, 0)",
            "line": {
             "color": "rgb(0, 0, 0)",
             "width": 1
            },
            "size": 20
           },
           "mode": "markers+text",
           "text": [
            "4"
           ],
           "textfont": {
            "color": "rgb(0, 0, 0)"
           },
           "textposition": "middle center",
           "x": [
            0.33
           ],
           "y": [
            0
           ]
          },
          {
           "hoverinfo": "none",
           "marker": {
            "color": "rgb(255, 255, 255)",
            "line": {
             "color": "rgb(0, 0, 0)",
             "width": 1
            },
            "size": 20
           },
           "mode": "markers+text",
           "text": [
            "5"
           ],
           "textfont": {
            "color": "rgb(0, 0, 0)"
           },
           "textposition": "middle center",
           "x": [
            0.66
           ],
           "y": [
            0
           ]
          },
          {
           "hoverinfo": "none",
           "marker": {
            "color": "rgb(255, 255, 255)",
            "line": {
             "color": "rgb(0, 0, 0)",
             "width": 1
            },
            "size": 20
           },
           "mode": "markers+text",
           "text": [
            "6"
           ],
           "textfont": {
            "color": "rgb(0, 0, 0)"
           },
           "textposition": "middle center",
           "x": [
            1
           ],
           "y": [
            0
           ]
          }
         ],
         "name": 2
        },
        {
         "data": [
          {
           "hoverinfo": "none",
           "line": {
            "color": "rgb(0, 0, 0)",
            "width": 1
           },
           "mode": "lines",
           "x": [
            0,
            0.33,
            null,
            0.3003062713421305,
            0.2855225877733855,
            null,
            0.3003062713421305,
            0.2629725579755741,
            null
           ],
           "y": [
            0.5,
            1,
            null,
            0.9550095020335311,
            0.8882926689752846,
            null,
            0.9550095020335311,
            0.9427605821595028,
            null
           ]
          },
          {
           "hoverinfo": "none",
           "line": {
            "color": "rgb(0, 0, 0)",
            "width": 1
           },
           "mode": "lines",
           "x": [
            0,
            0.33,
            null,
            0.3003062713421305,
            0.2629725579755741,
            null,
            0.3003062713421305,
            0.2855225877733855,
            null
           ],
           "y": [
            0.5,
            0,
            null,
            0.04499049796646893,
            0.0572394178404972,
            null,
            0.04499049796646893,
            0.11170733102471547,
            null
           ]
          },
          {
           "hoverinfo": "none",
           "line": {
            "color": "rgb(0, 0, 0)",
            "width": 1
           },
           "mode": "lines",
           "x": [
            0.33,
            0.66,
            null,
            0.6221212121212122,
            0.5888794484132436,
            null,
            0.6221212121212122,
            0.5888794484132436,
            null
           ],
           "y": [
            1,
            1,
            null,
            1,
            0.9652590189417244,
            null,
            1,
            1.0347409810582755,
            null
           ]
          },
          {
           "hoverinfo": "none",
           "line": {
            "color": "rgb(0, 0, 0)",
            "width": 1
           },
           "mode": "lines",
           "x": [
            0.66,
            1,
            null,
            0.9621212121212122,
            0.9288794484132434,
            null,
            0.9621212121212122,
            0.9288794484132434,
            null
           ],
           "y": [
            1,
            1,
            null,
            1,
            0.9652590189417244,
            null,
            1,
            1.0347409810582755,
            null
           ]
          },
          {
           "hoverinfo": "none",
           "line": {
            "color": "rgb(0, 0, 0)",
            "width": 1
           },
           "mode": "lines",
           "x": [
            0.66,
            0.33,
            null,
            0.35022071942550836,
            0.3526100389194443,
            null,
            0.35022071942550836,
            0.3833221014449805,
            null
           ],
           "y": [
            1,
            0,
            null,
            0.06127490735002531,
            0.13359437096827784,
            null,
            0.06127490735002531,
            0.09650302407543368,
            null
           ]
          },
          {
           "hoverinfo": "none",
           "line": {
            "color": "rgb(0, 0, 0)",
            "width": 1
           },
           "mode": "lines",
           "x": [
            1,
            0.66,
            null,
            0.6806532023433265,
            0.6835549327328607,
            null,
            0.6806532023433265,
            0.7140012524011855,
            null
           ],
           "y": [
            1,
            0,
            null,
            0.06074471277448944,
            0.13299554373343975,
            null,
            0.06074471277448944,
            0.09511088313140172,
            null
           ]
          },
          {
           "hoverinfo": "none",
           "line": {
            "color": "rgb(0, 0, 0)",
            "width": 1
           },
           "mode": "lines",
           "x": [
            0.33,
            0.66,
            null,
            0.6221212121212122,
            0.5888794484132436,
            null,
            0.6221212121212122,
            0.5888794484132436,
            null
           ],
           "y": [
            0,
            0,
            null,
            0,
            -0.034740981058275576,
            null,
            0,
            0.034740981058275576,
            null
           ]
          },
          {
           "hoverinfo": "none",
           "line": {
            "color": "rgb(0, 0, 0)",
            "width": 1
           },
           "mode": "lines",
           "x": [
            0.66,
            1,
            null,
            0.9621212121212122,
            0.9288794484132434,
            null,
            0.9621212121212122,
            0.9288794484132434,
            null
           ],
           "y": [
            0,
            0,
            null,
            0,
            -0.034740981058275576,
            null,
            0,
            0.034740981058275576,
            null
           ]
          },
          {
           "hoverinfo": "none",
           "marker": {
            "color": "rgb(0, 255, 0)",
            "line": {
             "color": "rgb(0, 0, 0)",
             "width": 1
            },
            "size": 20
           },
           "mode": "markers+text",
           "text": [
            "0"
           ],
           "textfont": {
            "color": "rgb(0, 0, 0)"
           },
           "textposition": "middle center",
           "x": [
            0
           ],
           "y": [
            0.5
           ]
          },
          {
           "hoverinfo": "none",
           "marker": {
            "color": "rgb(0, 255, 0)",
            "line": {
             "color": "rgb(0, 0, 0)",
             "width": 1
            },
            "size": 20
           },
           "mode": "markers+text",
           "text": [
            "1"
           ],
           "textfont": {
            "color": "rgb(0, 0, 0)"
           },
           "textposition": "middle center",
           "x": [
            0.33
           ],
           "y": [
            1
           ]
          },
          {
           "hoverinfo": "none",
           "marker": {
            "color": "rgb(255, 255, 255)",
            "line": {
             "color": "rgb(0, 0, 0)",
             "width": 1
            },
            "size": 20
           },
           "mode": "markers+text",
           "text": [
            "2"
           ],
           "textfont": {
            "color": "rgb(0, 0, 0)"
           },
           "textposition": "middle center",
           "x": [
            0.66
           ],
           "y": [
            1
           ]
          },
          {
           "hoverinfo": "none",
           "marker": {
            "color": "rgb(255, 255, 255)",
            "line": {
             "color": "rgb(0, 0, 0)",
             "width": 1
            },
            "size": 20
           },
           "mode": "markers+text",
           "text": [
            "3"
           ],
           "textfont": {
            "color": "rgb(0, 0, 0)"
           },
           "textposition": "middle center",
           "x": [
            1
           ],
           "y": [
            1
           ]
          },
          {
           "hoverinfo": "none",
           "marker": {
            "color": "rgb(0, 255, 0)",
            "line": {
             "color": "rgb(0, 0, 0)",
             "width": 1
            },
            "size": 20
           },
           "mode": "markers+text",
           "text": [
            "4"
           ],
           "textfont": {
            "color": "rgb(0, 0, 0)"
           },
           "textposition": "middle center",
           "x": [
            0.33
           ],
           "y": [
            0
           ]
          },
          {
           "hoverinfo": "none",
           "marker": {
            "color": "rgb(0, 255, 0)",
            "line": {
             "color": "rgb(0, 0, 0)",
             "width": 1
            },
            "size": 20
           },
           "mode": "markers+text",
           "text": [
            "5"
           ],
           "textfont": {
            "color": "rgb(0, 0, 0)"
           },
           "textposition": "middle center",
           "x": [
            0.66
           ],
           "y": [
            0
           ]
          },
          {
           "hoverinfo": "none",
           "marker": {
            "color": "rgb(255, 255, 255)",
            "line": {
             "color": "rgb(0, 0, 0)",
             "width": 1
            },
            "size": 20
           },
           "mode": "markers+text",
           "text": [
            "6"
           ],
           "textfont": {
            "color": "rgb(0, 0, 0)"
           },
           "textposition": "middle center",
           "x": [
            1
           ],
           "y": [
            0
           ]
          }
         ],
         "name": 3
        },
        {
         "data": [
          {
           "hoverinfo": "none",
           "line": {
            "color": "rgb(0, 0, 0)",
            "width": 1
           },
           "mode": "lines",
           "x": [
            0,
            0.33,
            null,
            0.3003062713421305,
            0.2855225877733855,
            null,
            0.3003062713421305,
            0.2629725579755741,
            null
           ],
           "y": [
            0.5,
            1,
            null,
            0.9550095020335311,
            0.8882926689752846,
            null,
            0.9550095020335311,
            0.9427605821595028,
            null
           ]
          },
          {
           "hoverinfo": "none",
           "line": {
            "color": "rgb(0, 0, 0)",
            "width": 1
           },
           "mode": "lines",
           "x": [
            0,
            0.33,
            null,
            0.3003062713421305,
            0.2629725579755741,
            null,
            0.3003062713421305,
            0.2855225877733855,
            null
           ],
           "y": [
            0.5,
            0,
            null,
            0.04499049796646893,
            0.0572394178404972,
            null,
            0.04499049796646893,
            0.11170733102471547,
            null
           ]
          },
          {
           "hoverinfo": "none",
           "line": {
            "color": "rgb(0, 0, 0)",
            "width": 1
           },
           "mode": "lines",
           "x": [
            0.33,
            0.66,
            null,
            0.6221212121212122,
            0.5888794484132436,
            null,
            0.6221212121212122,
            0.5888794484132436,
            null
           ],
           "y": [
            1,
            1,
            null,
            1,
            0.9652590189417244,
            null,
            1,
            1.0347409810582755,
            null
           ]
          },
          {
           "hoverinfo": "none",
           "line": {
            "color": "rgb(0, 0, 0)",
            "width": 1
           },
           "mode": "lines",
           "x": [
            0.66,
            1,
            null,
            0.9621212121212122,
            0.9288794484132434,
            null,
            0.9621212121212122,
            0.9288794484132434,
            null
           ],
           "y": [
            1,
            1,
            null,
            1,
            0.9652590189417244,
            null,
            1,
            1.0347409810582755,
            null
           ]
          },
          {
           "hoverinfo": "none",
           "line": {
            "color": "rgb(0, 0, 0)",
            "width": 1
           },
           "mode": "lines",
           "x": [
            0.66,
            0.33,
            null,
            0.35022071942550836,
            0.3526100389194443,
            null,
            0.35022071942550836,
            0.3833221014449805,
            null
           ],
           "y": [
            1,
            0,
            null,
            0.06127490735002531,
            0.13359437096827784,
            null,
            0.06127490735002531,
            0.09650302407543368,
            null
           ]
          },
          {
           "hoverinfo": "none",
           "line": {
            "color": "rgb(0, 0, 0)",
            "width": 1
           },
           "mode": "lines",
           "x": [
            1,
            0.66,
            null,
            0.6806532023433265,
            0.6835549327328607,
            null,
            0.6806532023433265,
            0.7140012524011855,
            null
           ],
           "y": [
            1,
            0,
            null,
            0.06074471277448944,
            0.13299554373343975,
            null,
            0.06074471277448944,
            0.09511088313140172,
            null
           ]
          },
          {
           "hoverinfo": "none",
           "line": {
            "color": "rgb(0, 0, 0)",
            "width": 1
           },
           "mode": "lines",
           "x": [
            0.33,
            0.66,
            null,
            0.6221212121212122,
            0.5888794484132436,
            null,
            0.6221212121212122,
            0.5888794484132436,
            null
           ],
           "y": [
            0,
            0,
            null,
            0,
            -0.034740981058275576,
            null,
            0,
            0.034740981058275576,
            null
           ]
          },
          {
           "hoverinfo": "none",
           "line": {
            "color": "rgb(0, 0, 0)",
            "width": 1
           },
           "mode": "lines",
           "x": [
            0.66,
            1,
            null,
            0.9621212121212122,
            0.9288794484132434,
            null,
            0.9621212121212122,
            0.9288794484132434,
            null
           ],
           "y": [
            0,
            0,
            null,
            0,
            -0.034740981058275576,
            null,
            0,
            0.034740981058275576,
            null
           ]
          },
          {
           "hoverinfo": "none",
           "marker": {
            "color": "rgb(0, 255, 0)",
            "line": {
             "color": "rgb(0, 0, 0)",
             "width": 1
            },
            "size": 20
           },
           "mode": "markers+text",
           "text": [
            "0"
           ],
           "textfont": {
            "color": "rgb(0, 0, 0)"
           },
           "textposition": "middle center",
           "x": [
            0
           ],
           "y": [
            0.5
           ]
          },
          {
           "hoverinfo": "none",
           "marker": {
            "color": "rgb(0, 255, 0)",
            "line": {
             "color": "rgb(0, 0, 0)",
             "width": 1
            },
            "size": 20
           },
           "mode": "markers+text",
           "text": [
            "1"
           ],
           "textfont": {
            "color": "rgb(0, 0, 0)"
           },
           "textposition": "middle center",
           "x": [
            0.33
           ],
           "y": [
            1
           ]
          },
          {
           "hoverinfo": "none",
           "marker": {
            "color": "rgb(255, 255, 255)",
            "line": {
             "color": "rgb(0, 0, 0)",
             "width": 1
            },
            "size": 20
           },
           "mode": "markers+text",
           "text": [
            "2"
           ],
           "textfont": {
            "color": "rgb(0, 0, 0)"
           },
           "textposition": "middle center",
           "x": [
            0.66
           ],
           "y": [
            1
           ]
          },
          {
           "hoverinfo": "none",
           "marker": {
            "color": "rgb(255, 255, 255)",
            "line": {
             "color": "rgb(0, 0, 0)",
             "width": 1
            },
            "size": 20
           },
           "mode": "markers+text",
           "text": [
            "3"
           ],
           "textfont": {
            "color": "rgb(0, 0, 0)"
           },
           "textposition": "middle center",
           "x": [
            1
           ],
           "y": [
            1
           ]
          },
          {
           "hoverinfo": "none",
           "marker": {
            "color": "rgb(0, 255, 0)",
            "line": {
             "color": "rgb(0, 0, 0)",
             "width": 1
            },
            "size": 20
           },
           "mode": "markers+text",
           "text": [
            "4"
           ],
           "textfont": {
            "color": "rgb(0, 0, 0)"
           },
           "textposition": "middle center",
           "x": [
            0.33
           ],
           "y": [
            0
           ]
          },
          {
           "hoverinfo": "none",
           "marker": {
            "color": "rgb(0, 255, 0)",
            "line": {
             "color": "rgb(0, 0, 0)",
             "width": 1
            },
            "size": 20
           },
           "mode": "markers+text",
           "text": [
            "5"
           ],
           "textfont": {
            "color": "rgb(0, 0, 0)"
           },
           "textposition": "middle center",
           "x": [
            0.66
           ],
           "y": [
            0
           ]
          },
          {
           "hoverinfo": "none",
           "marker": {
            "color": "rgb(0, 255, 0)",
            "line": {
             "color": "rgb(0, 0, 0)",
             "width": 1
            },
            "size": 20
           },
           "mode": "markers+text",
           "text": [
            "6"
           ],
           "textfont": {
            "color": "rgb(0, 0, 0)"
           },
           "textposition": "middle center",
           "x": [
            1
           ],
           "y": [
            0
           ]
          }
         ],
         "name": 4
        },
        {
         "data": [
          {
           "hoverinfo": "none",
           "line": {
            "color": "rgb(0, 0, 0)",
            "width": 1
           },
           "mode": "lines",
           "x": [
            0,
            0.33,
            null,
            0.3003062713421305,
            0.2855225877733855,
            null,
            0.3003062713421305,
            0.2629725579755741,
            null
           ],
           "y": [
            0.5,
            1,
            null,
            0.9550095020335311,
            0.8882926689752846,
            null,
            0.9550095020335311,
            0.9427605821595028,
            null
           ]
          },
          {
           "hoverinfo": "none",
           "line": {
            "color": "rgb(0, 0, 0)",
            "width": 1
           },
           "mode": "lines",
           "x": [
            0,
            0.33,
            null,
            0.3003062713421305,
            0.2629725579755741,
            null,
            0.3003062713421305,
            0.2855225877733855,
            null
           ],
           "y": [
            0.5,
            0,
            null,
            0.04499049796646893,
            0.0572394178404972,
            null,
            0.04499049796646893,
            0.11170733102471547,
            null
           ]
          },
          {
           "hoverinfo": "none",
           "line": {
            "color": "rgb(0, 0, 0)",
            "width": 1
           },
           "mode": "lines",
           "x": [
            0.33,
            0.66,
            null,
            0.6221212121212122,
            0.5888794484132436,
            null,
            0.6221212121212122,
            0.5888794484132436,
            null
           ],
           "y": [
            1,
            1,
            null,
            1,
            0.9652590189417244,
            null,
            1,
            1.0347409810582755,
            null
           ]
          },
          {
           "hoverinfo": "none",
           "line": {
            "color": "rgb(0, 0, 0)",
            "width": 1
           },
           "mode": "lines",
           "x": [
            0.66,
            1,
            null,
            0.9621212121212122,
            0.9288794484132434,
            null,
            0.9621212121212122,
            0.9288794484132434,
            null
           ],
           "y": [
            1,
            1,
            null,
            1,
            0.9652590189417244,
            null,
            1,
            1.0347409810582755,
            null
           ]
          },
          {
           "hoverinfo": "none",
           "line": {
            "color": "rgb(0, 0, 0)",
            "width": 1
           },
           "mode": "lines",
           "x": [
            0.66,
            0.33,
            null,
            0.35022071942550836,
            0.3526100389194443,
            null,
            0.35022071942550836,
            0.3833221014449805,
            null
           ],
           "y": [
            1,
            0,
            null,
            0.06127490735002531,
            0.13359437096827784,
            null,
            0.06127490735002531,
            0.09650302407543368,
            null
           ]
          },
          {
           "hoverinfo": "none",
           "line": {
            "color": "rgb(0, 0, 0)",
            "width": 1
           },
           "mode": "lines",
           "x": [
            1,
            0.66,
            null,
            0.6806532023433265,
            0.6835549327328607,
            null,
            0.6806532023433265,
            0.7140012524011855,
            null
           ],
           "y": [
            1,
            0,
            null,
            0.06074471277448944,
            0.13299554373343975,
            null,
            0.06074471277448944,
            0.09511088313140172,
            null
           ]
          },
          {
           "hoverinfo": "none",
           "line": {
            "color": "rgb(0, 0, 0)",
            "width": 1
           },
           "mode": "lines",
           "x": [
            0.33,
            0.66,
            null,
            0.6221212121212122,
            0.5888794484132436,
            null,
            0.6221212121212122,
            0.5888794484132436,
            null
           ],
           "y": [
            0,
            0,
            null,
            0,
            -0.034740981058275576,
            null,
            0,
            0.034740981058275576,
            null
           ]
          },
          {
           "hoverinfo": "none",
           "line": {
            "color": "rgb(0, 0, 0)",
            "width": 1
           },
           "mode": "lines",
           "x": [
            0.66,
            1,
            null,
            0.9621212121212122,
            0.9288794484132434,
            null,
            0.9621212121212122,
            0.9288794484132434,
            null
           ],
           "y": [
            0,
            0,
            null,
            0,
            -0.034740981058275576,
            null,
            0,
            0.034740981058275576,
            null
           ]
          },
          {
           "hoverinfo": "none",
           "marker": {
            "color": "rgb(0, 255, 0)",
            "line": {
             "color": "rgb(0, 0, 0)",
             "width": 1
            },
            "size": 20
           },
           "mode": "markers+text",
           "text": [
            "0"
           ],
           "textfont": {
            "color": "rgb(0, 0, 0)"
           },
           "textposition": "middle center",
           "x": [
            0
           ],
           "y": [
            0.5
           ]
          },
          {
           "hoverinfo": "none",
           "marker": {
            "color": "rgb(0, 255, 0)",
            "line": {
             "color": "rgb(0, 0, 0)",
             "width": 1
            },
            "size": 20
           },
           "mode": "markers+text",
           "text": [
            "1"
           ],
           "textfont": {
            "color": "rgb(0, 0, 0)"
           },
           "textposition": "middle center",
           "x": [
            0.33
           ],
           "y": [
            1
           ]
          },
          {
           "hoverinfo": "none",
           "marker": {
            "color": "rgb(0, 255, 0)",
            "line": {
             "color": "rgb(0, 0, 0)",
             "width": 1
            },
            "size": 20
           },
           "mode": "markers+text",
           "text": [
            "2"
           ],
           "textfont": {
            "color": "rgb(0, 0, 0)"
           },
           "textposition": "middle center",
           "x": [
            0.66
           ],
           "y": [
            1
           ]
          },
          {
           "hoverinfo": "none",
           "marker": {
            "color": "rgb(255, 255, 255)",
            "line": {
             "color": "rgb(0, 0, 0)",
             "width": 1
            },
            "size": 20
           },
           "mode": "markers+text",
           "text": [
            "3"
           ],
           "textfont": {
            "color": "rgb(0, 0, 0)"
           },
           "textposition": "middle center",
           "x": [
            1
           ],
           "y": [
            1
           ]
          },
          {
           "hoverinfo": "none",
           "marker": {
            "color": "rgb(0, 255, 0)",
            "line": {
             "color": "rgb(0, 0, 0)",
             "width": 1
            },
            "size": 20
           },
           "mode": "markers+text",
           "text": [
            "4"
           ],
           "textfont": {
            "color": "rgb(0, 0, 0)"
           },
           "textposition": "middle center",
           "x": [
            0.33
           ],
           "y": [
            0
           ]
          },
          {
           "hoverinfo": "none",
           "marker": {
            "color": "rgb(0, 255, 0)",
            "line": {
             "color": "rgb(0, 0, 0)",
             "width": 1
            },
            "size": 20
           },
           "mode": "markers+text",
           "text": [
            "5"
           ],
           "textfont": {
            "color": "rgb(0, 0, 0)"
           },
           "textposition": "middle center",
           "x": [
            0.66
           ],
           "y": [
            0
           ]
          },
          {
           "hoverinfo": "none",
           "marker": {
            "color": "rgb(0, 255, 0)",
            "line": {
             "color": "rgb(0, 0, 0)",
             "width": 1
            },
            "size": 20
           },
           "mode": "markers+text",
           "text": [
            "6"
           ],
           "textfont": {
            "color": "rgb(0, 0, 0)"
           },
           "textposition": "middle center",
           "x": [
            1
           ],
           "y": [
            0
           ]
          }
         ],
         "name": 5
        },
        {
         "data": [
          {
           "hoverinfo": "none",
           "line": {
            "color": "rgb(0, 0, 0)",
            "width": 1
           },
           "mode": "lines",
           "x": [
            0,
            0.33,
            null,
            0.3003062713421305,
            0.2855225877733855,
            null,
            0.3003062713421305,
            0.2629725579755741,
            null
           ],
           "y": [
            0.5,
            1,
            null,
            0.9550095020335311,
            0.8882926689752846,
            null,
            0.9550095020335311,
            0.9427605821595028,
            null
           ]
          },
          {
           "hoverinfo": "none",
           "line": {
            "color": "rgb(0, 0, 0)",
            "width": 1
           },
           "mode": "lines",
           "x": [
            0,
            0.33,
            null,
            0.3003062713421305,
            0.2629725579755741,
            null,
            0.3003062713421305,
            0.2855225877733855,
            null
           ],
           "y": [
            0.5,
            0,
            null,
            0.04499049796646893,
            0.0572394178404972,
            null,
            0.04499049796646893,
            0.11170733102471547,
            null
           ]
          },
          {
           "hoverinfo": "none",
           "line": {
            "color": "rgb(0, 0, 0)",
            "width": 1
           },
           "mode": "lines",
           "x": [
            0.33,
            0.66,
            null,
            0.6221212121212122,
            0.5888794484132436,
            null,
            0.6221212121212122,
            0.5888794484132436,
            null
           ],
           "y": [
            1,
            1,
            null,
            1,
            0.9652590189417244,
            null,
            1,
            1.0347409810582755,
            null
           ]
          },
          {
           "hoverinfo": "none",
           "line": {
            "color": "rgb(0, 0, 0)",
            "width": 1
           },
           "mode": "lines",
           "x": [
            0.66,
            1,
            null,
            0.9621212121212122,
            0.9288794484132434,
            null,
            0.9621212121212122,
            0.9288794484132434,
            null
           ],
           "y": [
            1,
            1,
            null,
            1,
            0.9652590189417244,
            null,
            1,
            1.0347409810582755,
            null
           ]
          },
          {
           "hoverinfo": "none",
           "line": {
            "color": "rgb(0, 0, 0)",
            "width": 1
           },
           "mode": "lines",
           "x": [
            0.66,
            0.33,
            null,
            0.35022071942550836,
            0.3526100389194443,
            null,
            0.35022071942550836,
            0.3833221014449805,
            null
           ],
           "y": [
            1,
            0,
            null,
            0.06127490735002531,
            0.13359437096827784,
            null,
            0.06127490735002531,
            0.09650302407543368,
            null
           ]
          },
          {
           "hoverinfo": "none",
           "line": {
            "color": "rgb(0, 0, 0)",
            "width": 1
           },
           "mode": "lines",
           "x": [
            1,
            0.66,
            null,
            0.6806532023433265,
            0.6835549327328607,
            null,
            0.6806532023433265,
            0.7140012524011855,
            null
           ],
           "y": [
            1,
            0,
            null,
            0.06074471277448944,
            0.13299554373343975,
            null,
            0.06074471277448944,
            0.09511088313140172,
            null
           ]
          },
          {
           "hoverinfo": "none",
           "line": {
            "color": "rgb(0, 0, 0)",
            "width": 1
           },
           "mode": "lines",
           "x": [
            0.33,
            0.66,
            null,
            0.6221212121212122,
            0.5888794484132436,
            null,
            0.6221212121212122,
            0.5888794484132436,
            null
           ],
           "y": [
            0,
            0,
            null,
            0,
            -0.034740981058275576,
            null,
            0,
            0.034740981058275576,
            null
           ]
          },
          {
           "hoverinfo": "none",
           "line": {
            "color": "rgb(0, 0, 0)",
            "width": 1
           },
           "mode": "lines",
           "x": [
            0.66,
            1,
            null,
            0.9621212121212122,
            0.9288794484132434,
            null,
            0.9621212121212122,
            0.9288794484132434,
            null
           ],
           "y": [
            0,
            0,
            null,
            0,
            -0.034740981058275576,
            null,
            0,
            0.034740981058275576,
            null
           ]
          },
          {
           "hoverinfo": "none",
           "marker": {
            "color": "rgb(0, 255, 0)",
            "line": {
             "color": "rgb(0, 0, 0)",
             "width": 1
            },
            "size": 20
           },
           "mode": "markers+text",
           "text": [
            "0"
           ],
           "textfont": {
            "color": "rgb(0, 0, 0)"
           },
           "textposition": "middle center",
           "x": [
            0
           ],
           "y": [
            0.5
           ]
          },
          {
           "hoverinfo": "none",
           "marker": {
            "color": "rgb(0, 255, 0)",
            "line": {
             "color": "rgb(0, 0, 0)",
             "width": 1
            },
            "size": 20
           },
           "mode": "markers+text",
           "text": [
            "1"
           ],
           "textfont": {
            "color": "rgb(0, 0, 0)"
           },
           "textposition": "middle center",
           "x": [
            0.33
           ],
           "y": [
            1
           ]
          },
          {
           "hoverinfo": "none",
           "marker": {
            "color": "rgb(0, 255, 0)",
            "line": {
             "color": "rgb(0, 0, 0)",
             "width": 1
            },
            "size": 20
           },
           "mode": "markers+text",
           "text": [
            "2"
           ],
           "textfont": {
            "color": "rgb(0, 0, 0)"
           },
           "textposition": "middle center",
           "x": [
            0.66
           ],
           "y": [
            1
           ]
          },
          {
           "hoverinfo": "none",
           "marker": {
            "color": "rgb(0, 255, 0)",
            "line": {
             "color": "rgb(0, 0, 0)",
             "width": 1
            },
            "size": 20
           },
           "mode": "markers+text",
           "text": [
            "3"
           ],
           "textfont": {
            "color": "rgb(0, 0, 0)"
           },
           "textposition": "middle center",
           "x": [
            1
           ],
           "y": [
            1
           ]
          },
          {
           "hoverinfo": "none",
           "marker": {
            "color": "rgb(0, 255, 0)",
            "line": {
             "color": "rgb(0, 0, 0)",
             "width": 1
            },
            "size": 20
           },
           "mode": "markers+text",
           "text": [
            "4"
           ],
           "textfont": {
            "color": "rgb(0, 0, 0)"
           },
           "textposition": "middle center",
           "x": [
            0.33
           ],
           "y": [
            0
           ]
          },
          {
           "hoverinfo": "none",
           "marker": {
            "color": "rgb(0, 255, 0)",
            "line": {
             "color": "rgb(0, 0, 0)",
             "width": 1
            },
            "size": 20
           },
           "mode": "markers+text",
           "text": [
            "5"
           ],
           "textfont": {
            "color": "rgb(0, 0, 0)"
           },
           "textposition": "middle center",
           "x": [
            0.66
           ],
           "y": [
            0
           ]
          },
          {
           "hoverinfo": "none",
           "marker": {
            "color": "rgb(0, 255, 0)",
            "line": {
             "color": "rgb(0, 0, 0)",
             "width": 1
            },
            "size": 20
           },
           "mode": "markers+text",
           "text": [
            "6"
           ],
           "textfont": {
            "color": "rgb(0, 0, 0)"
           },
           "textposition": "middle center",
           "x": [
            1
           ],
           "y": [
            0
           ]
          }
         ],
         "name": 6
        }
       ],
       "layout": {
        "height": 256,
        "margin": {
         "b": 0,
         "l": 0,
         "r": 0,
         "t": 0
        },
        "showlegend": false,
        "sliders": [
         {
          "currentvalue": {
           "visible": false
          },
          "steps": [
           {
            "args": [
             [
              0
             ],
             {
              "frame": {
               "redraw": false
              },
              "mode": "immediate"
             }
            ],
            "label": "",
            "method": "animate"
           },
           {
            "args": [
             [
              1
             ],
             {
              "frame": {
               "redraw": false
              },
              "mode": "immediate"
             }
            ],
            "label": "",
            "method": "animate"
           },
           {
            "args": [
             [
              2
             ],
             {
              "frame": {
               "redraw": false
              },
              "mode": "immediate"
             }
            ],
            "label": "",
            "method": "animate"
           },
           {
            "args": [
             [
              3
             ],
             {
              "frame": {
               "redraw": false
              },
              "mode": "immediate"
             }
            ],
            "label": "",
            "method": "animate"
           },
           {
            "args": [
             [
              4
             ],
             {
              "frame": {
               "redraw": false
              },
              "mode": "immediate"
             }
            ],
            "label": "",
            "method": "animate"
           },
           {
            "args": [
             [
              5
             ],
             {
              "frame": {
               "redraw": false
              },
              "mode": "immediate"
             }
            ],
            "label": "",
            "method": "animate"
           },
           {
            "args": [
             [
              6
             ],
             {
              "frame": {
               "redraw": false
              },
              "mode": "immediate"
             }
            ],
            "label": "",
            "method": "animate"
           }
          ]
         }
        ],
        "updatemenus": [
         {
          "buttons": [
           {
            "args": [
             null,
             {
              "frame": {
               "redraw": false
              },
              "fromcurrent": true
             }
            ],
            "label": "Play",
            "method": "animate"
           },
           {
            "args": [
             [
              null
             ],
             {
              "frame": {
               "redraw": false
              },
              "mode": "immediate"
             }
            ],
            "label": "Pause",
            "method": "animate"
           }
          ],
          "showactive": true,
          "type": "buttons"
         }
        ],
        "width": 408,
        "xaxis": {
         "showgrid": false,
         "showticklabels": false,
         "zeroline": false
        },
        "yaxis": {
         "showgrid": false,
         "showticklabels": false,
         "zeroline": false
        }
       }
      },
      "text/html": [
       "<div id=\"0912f39d-00d4-4f42-96a0-b230e1ae4c8b\" style=\"height: 256.0px; width: 408.0px;\" class=\"plotly-graph-div\"></div><script type=\"text/javascript\">require([\"plotly\"], function(Plotly) { window.PLOTLYENV=window.PLOTLYENV || {};window.PLOTLYENV.BASE_URL=\"https://plot.ly\";\n",
       "        Plotly.plot(\n",
       "            '0912f39d-00d4-4f42-96a0-b230e1ae4c8b',\n",
       "            [{\"mode\": \"lines\", \"line\": {\"color\": \"rgb(0, 0, 0)\", \"width\": 1}, \"y\": [0.5, 1.0, null, 0.9550095020335311, 0.8882926689752846, null, 0.9550095020335311, 0.9427605821595028, null], \"hoverinfo\": \"none\", \"x\": [0.0, 0.33, null, 0.3003062713421305, 0.2855225877733855, null, 0.3003062713421305, 0.2629725579755741, null]}, {\"mode\": \"lines\", \"line\": {\"color\": \"rgb(0, 0, 0)\", \"width\": 1}, \"y\": [0.5, 0.0, null, 0.04499049796646893, 0.0572394178404972, null, 0.04499049796646893, 0.11170733102471547, null], \"hoverinfo\": \"none\", \"x\": [0.0, 0.33, null, 0.3003062713421305, 0.2629725579755741, null, 0.3003062713421305, 0.2855225877733855, null]}, {\"mode\": \"lines\", \"line\": {\"color\": \"rgb(0, 0, 0)\", \"width\": 1}, \"y\": [1.0, 1.0, null, 1.0, 0.9652590189417244, null, 1.0, 1.0347409810582755, null], \"hoverinfo\": \"none\", \"x\": [0.33, 0.66, null, 0.6221212121212122, 0.5888794484132436, null, 0.6221212121212122, 0.5888794484132436, null]}, {\"mode\": \"lines\", \"line\": {\"color\": \"rgb(0, 0, 0)\", \"width\": 1}, \"y\": [1.0, 1.0, null, 1.0, 0.9652590189417244, null, 1.0, 1.0347409810582755, null], \"hoverinfo\": \"none\", \"x\": [0.66, 1.0, null, 0.9621212121212122, 0.9288794484132434, null, 0.9621212121212122, 0.9288794484132434, null]}, {\"mode\": \"lines\", \"line\": {\"color\": \"rgb(0, 0, 0)\", \"width\": 1}, \"y\": [1.0, 0.0, null, 0.06127490735002531, 0.13359437096827784, null, 0.06127490735002531, 0.09650302407543368, null], \"hoverinfo\": \"none\", \"x\": [0.66, 0.33, null, 0.35022071942550836, 0.3526100389194443, null, 0.35022071942550836, 0.3833221014449805, null]}, {\"mode\": \"lines\", \"line\": {\"color\": \"rgb(0, 0, 0)\", \"width\": 1}, \"y\": [1.0, 0.0, null, 0.06074471277448944, 0.13299554373343975, null, 0.06074471277448944, 0.09511088313140172, null], \"hoverinfo\": \"none\", \"x\": [1.0, 0.66, null, 0.6806532023433265, 0.6835549327328607, null, 0.6806532023433265, 0.7140012524011855, null]}, {\"mode\": \"lines\", \"line\": {\"color\": \"rgb(0, 0, 0)\", \"width\": 1}, \"y\": [0.0, 0.0, null, 0.0, -0.034740981058275576, null, 0.0, 0.034740981058275576, null], \"hoverinfo\": \"none\", \"x\": [0.33, 0.66, null, 0.6221212121212122, 0.5888794484132436, null, 0.6221212121212122, 0.5888794484132436, null]}, {\"mode\": \"lines\", \"line\": {\"color\": \"rgb(0, 0, 0)\", \"width\": 1}, \"y\": [0.0, 0.0, null, 0.0, -0.034740981058275576, null, 0.0, 0.034740981058275576, null], \"hoverinfo\": \"none\", \"x\": [0.66, 1.0, null, 0.9621212121212122, 0.9288794484132434, null, 0.9621212121212122, 0.9288794484132434, null]}, {\"mode\": \"markers+text\", \"x\": [0.0], \"textposition\": \"middle center\", \"textfont\": {\"color\": \"rgb(0, 0, 0)\"}, \"marker\": {\"color\": \"rgb(0, 255, 0)\", \"line\": {\"color\": \"rgb(0, 0, 0)\", \"width\": 1}, \"size\": 20}, \"y\": [0.5], \"hoverinfo\": \"none\", \"text\": [\"0\"]}, {\"mode\": \"markers+text\", \"x\": [0.33], \"textposition\": \"middle center\", \"textfont\": {\"color\": \"rgb(0, 0, 0)\"}, \"marker\": {\"color\": \"rgb(255, 255, 255)\", \"line\": {\"color\": \"rgb(0, 0, 0)\", \"width\": 1}, \"size\": 20}, \"y\": [1.0], \"hoverinfo\": \"none\", \"text\": [\"1\"]}, {\"mode\": \"markers+text\", \"x\": [0.66], \"textposition\": \"middle center\", \"textfont\": {\"color\": \"rgb(0, 0, 0)\"}, \"marker\": {\"color\": \"rgb(255, 255, 255)\", \"line\": {\"color\": \"rgb(0, 0, 0)\", \"width\": 1}, \"size\": 20}, \"y\": [1.0], \"hoverinfo\": \"none\", \"text\": [\"2\"]}, {\"mode\": \"markers+text\", \"x\": [1.0], \"textposition\": \"middle center\", \"textfont\": {\"color\": \"rgb(0, 0, 0)\"}, \"marker\": {\"color\": \"rgb(255, 255, 255)\", \"line\": {\"color\": \"rgb(0, 0, 0)\", \"width\": 1}, \"size\": 20}, \"y\": [1.0], \"hoverinfo\": \"none\", \"text\": [\"3\"]}, {\"mode\": \"markers+text\", \"x\": [0.33], \"textposition\": \"middle center\", \"textfont\": {\"color\": \"rgb(0, 0, 0)\"}, \"marker\": {\"color\": \"rgb(255, 255, 255)\", \"line\": {\"color\": \"rgb(0, 0, 0)\", \"width\": 1}, \"size\": 20}, \"y\": [0.0], \"hoverinfo\": \"none\", \"text\": [\"4\"]}, {\"mode\": \"markers+text\", \"x\": [0.66], \"textposition\": \"middle center\", \"textfont\": {\"color\": \"rgb(0, 0, 0)\"}, \"marker\": {\"color\": \"rgb(255, 255, 255)\", \"line\": {\"color\": \"rgb(0, 0, 0)\", \"width\": 1}, \"size\": 20}, \"y\": [0.0], \"hoverinfo\": \"none\", \"text\": [\"5\"]}, {\"mode\": \"markers+text\", \"x\": [1.0], \"textposition\": \"middle center\", \"textfont\": {\"color\": \"rgb(0, 0, 0)\"}, \"marker\": {\"color\": \"rgb(255, 255, 255)\", \"line\": {\"color\": \"rgb(0, 0, 0)\", \"width\": 1}, \"size\": 20}, \"y\": [0.0], \"hoverinfo\": \"none\", \"text\": [\"6\"]}],\n",
       "            {\"margin\": {\"r\": 0, \"b\": 0, \"t\": 0, \"l\": 0}, \"showlegend\": false, \"updatemenus\": [{\"buttons\": [{\"args\": [null, {\"fromcurrent\": true, \"frame\": {\"redraw\": false}}], \"method\": \"animate\", \"label\": \"Play\"}, {\"args\": [[null], {\"mode\": \"immediate\", \"frame\": {\"redraw\": false}}], \"method\": \"animate\", \"label\": \"Pause\"}], \"showactive\": true, \"type\": \"buttons\"}], \"xaxis\": {\"showticklabels\": false, \"showgrid\": false, \"zeroline\": false}, \"height\": 256.0, \"sliders\": [{\"currentvalue\": {\"visible\": false}, \"steps\": [{\"args\": [[0], {\"mode\": \"immediate\", \"frame\": {\"redraw\": false}}], \"method\": \"animate\", \"label\": \"\"}, {\"args\": [[1], {\"mode\": \"immediate\", \"frame\": {\"redraw\": false}}], \"method\": \"animate\", \"label\": \"\"}, {\"args\": [[2], {\"mode\": \"immediate\", \"frame\": {\"redraw\": false}}], \"method\": \"animate\", \"label\": \"\"}, {\"args\": [[3], {\"mode\": \"immediate\", \"frame\": {\"redraw\": false}}], \"method\": \"animate\", \"label\": \"\"}, {\"args\": [[4], {\"mode\": \"immediate\", \"frame\": {\"redraw\": false}}], \"method\": \"animate\", \"label\": \"\"}, {\"args\": [[5], {\"mode\": \"immediate\", \"frame\": {\"redraw\": false}}], \"method\": \"animate\", \"label\": \"\"}, {\"args\": [[6], {\"mode\": \"immediate\", \"frame\": {\"redraw\": false}}], \"method\": \"animate\", \"label\": \"\"}]}], \"width\": 408.0, \"yaxis\": {\"showticklabels\": false, \"showgrid\": false, \"zeroline\": false}},\n",
       "            {\"linkText\": \"Export to plot.ly\", \"displayModeBar\": false, \"showLink\": false}\n",
       "        ).then(function () {return Plotly.addFrames('0912f39d-00d4-4f42-96a0-b230e1ae4c8b',[{\"name\": 0, \"data\": [{\"mode\": \"lines\", \"line\": {\"color\": \"rgb(0, 0, 0)\", \"width\": 1}, \"y\": [0.5, 1.0, null, 0.9550095020335311, 0.8882926689752846, null, 0.9550095020335311, 0.9427605821595028, null], \"hoverinfo\": \"none\", \"x\": [0.0, 0.33, null, 0.3003062713421305, 0.2855225877733855, null, 0.3003062713421305, 0.2629725579755741, null]}, {\"mode\": \"lines\", \"line\": {\"color\": \"rgb(0, 0, 0)\", \"width\": 1}, \"y\": [0.5, 0.0, null, 0.04499049796646893, 0.0572394178404972, null, 0.04499049796646893, 0.11170733102471547, null], \"hoverinfo\": \"none\", \"x\": [0.0, 0.33, null, 0.3003062713421305, 0.2629725579755741, null, 0.3003062713421305, 0.2855225877733855, null]}, {\"mode\": \"lines\", \"line\": {\"color\": \"rgb(0, 0, 0)\", \"width\": 1}, \"y\": [1.0, 1.0, null, 1.0, 0.9652590189417244, null, 1.0, 1.0347409810582755, null], \"hoverinfo\": \"none\", \"x\": [0.33, 0.66, null, 0.6221212121212122, 0.5888794484132436, null, 0.6221212121212122, 0.5888794484132436, null]}, {\"mode\": \"lines\", \"line\": {\"color\": \"rgb(0, 0, 0)\", \"width\": 1}, \"y\": [1.0, 1.0, null, 1.0, 0.9652590189417244, null, 1.0, 1.0347409810582755, null], \"hoverinfo\": \"none\", \"x\": [0.66, 1.0, null, 0.9621212121212122, 0.9288794484132434, null, 0.9621212121212122, 0.9288794484132434, null]}, {\"mode\": \"lines\", \"line\": {\"color\": \"rgb(0, 0, 0)\", \"width\": 1}, \"y\": [1.0, 0.0, null, 0.06127490735002531, 0.13359437096827784, null, 0.06127490735002531, 0.09650302407543368, null], \"hoverinfo\": \"none\", \"x\": [0.66, 0.33, null, 0.35022071942550836, 0.3526100389194443, null, 0.35022071942550836, 0.3833221014449805, null]}, {\"mode\": \"lines\", \"line\": {\"color\": \"rgb(0, 0, 0)\", \"width\": 1}, \"y\": [1.0, 0.0, null, 0.06074471277448944, 0.13299554373343975, null, 0.06074471277448944, 0.09511088313140172, null], \"hoverinfo\": \"none\", \"x\": [1.0, 0.66, null, 0.6806532023433265, 0.6835549327328607, null, 0.6806532023433265, 0.7140012524011855, null]}, {\"mode\": \"lines\", \"line\": {\"color\": \"rgb(0, 0, 0)\", \"width\": 1}, \"y\": [0.0, 0.0, null, 0.0, -0.034740981058275576, null, 0.0, 0.034740981058275576, null], \"hoverinfo\": \"none\", \"x\": [0.33, 0.66, null, 0.6221212121212122, 0.5888794484132436, null, 0.6221212121212122, 0.5888794484132436, null]}, {\"mode\": \"lines\", \"line\": {\"color\": \"rgb(0, 0, 0)\", \"width\": 1}, \"y\": [0.0, 0.0, null, 0.0, -0.034740981058275576, null, 0.0, 0.034740981058275576, null], \"hoverinfo\": \"none\", \"x\": [0.66, 1.0, null, 0.9621212121212122, 0.9288794484132434, null, 0.9621212121212122, 0.9288794484132434, null]}, {\"mode\": \"markers+text\", \"x\": [0.0], \"textposition\": \"middle center\", \"textfont\": {\"color\": \"rgb(0, 0, 0)\"}, \"marker\": {\"color\": \"rgb(0, 255, 0)\", \"line\": {\"color\": \"rgb(0, 0, 0)\", \"width\": 1}, \"size\": 20}, \"y\": [0.5], \"hoverinfo\": \"none\", \"text\": [\"0\"]}, {\"mode\": \"markers+text\", \"x\": [0.33], \"textposition\": \"middle center\", \"textfont\": {\"color\": \"rgb(0, 0, 0)\"}, \"marker\": {\"color\": \"rgb(255, 255, 255)\", \"line\": {\"color\": \"rgb(0, 0, 0)\", \"width\": 1}, \"size\": 20}, \"y\": [1.0], \"hoverinfo\": \"none\", \"text\": [\"1\"]}, {\"mode\": \"markers+text\", \"x\": [0.66], \"textposition\": \"middle center\", \"textfont\": {\"color\": \"rgb(0, 0, 0)\"}, \"marker\": {\"color\": \"rgb(255, 255, 255)\", \"line\": {\"color\": \"rgb(0, 0, 0)\", \"width\": 1}, \"size\": 20}, \"y\": [1.0], \"hoverinfo\": \"none\", \"text\": [\"2\"]}, {\"mode\": \"markers+text\", \"x\": [1.0], \"textposition\": \"middle center\", \"textfont\": {\"color\": \"rgb(0, 0, 0)\"}, \"marker\": {\"color\": \"rgb(255, 255, 255)\", \"line\": {\"color\": \"rgb(0, 0, 0)\", \"width\": 1}, \"size\": 20}, \"y\": [1.0], \"hoverinfo\": \"none\", \"text\": [\"3\"]}, {\"mode\": \"markers+text\", \"x\": [0.33], \"textposition\": \"middle center\", \"textfont\": {\"color\": \"rgb(0, 0, 0)\"}, \"marker\": {\"color\": \"rgb(255, 255, 255)\", \"line\": {\"color\": \"rgb(0, 0, 0)\", \"width\": 1}, \"size\": 20}, \"y\": [0.0], \"hoverinfo\": \"none\", \"text\": [\"4\"]}, {\"mode\": \"markers+text\", \"x\": [0.66], \"textposition\": \"middle center\", \"textfont\": {\"color\": \"rgb(0, 0, 0)\"}, \"marker\": {\"color\": \"rgb(255, 255, 255)\", \"line\": {\"color\": \"rgb(0, 0, 0)\", \"width\": 1}, \"size\": 20}, \"y\": [0.0], \"hoverinfo\": \"none\", \"text\": [\"5\"]}, {\"mode\": \"markers+text\", \"x\": [1.0], \"textposition\": \"middle center\", \"textfont\": {\"color\": \"rgb(0, 0, 0)\"}, \"marker\": {\"color\": \"rgb(255, 255, 255)\", \"line\": {\"color\": \"rgb(0, 0, 0)\", \"width\": 1}, \"size\": 20}, \"y\": [0.0], \"hoverinfo\": \"none\", \"text\": [\"6\"]}]}, {\"name\": 1, \"data\": [{\"mode\": \"lines\", \"line\": {\"color\": \"rgb(0, 0, 0)\", \"width\": 1}, \"y\": [0.5, 1.0, null, 0.9550095020335311, 0.8882926689752846, null, 0.9550095020335311, 0.9427605821595028, null], \"hoverinfo\": \"none\", \"x\": [0.0, 0.33, null, 0.3003062713421305, 0.2855225877733855, null, 0.3003062713421305, 0.2629725579755741, null]}, {\"mode\": \"lines\", \"line\": {\"color\": \"rgb(0, 0, 0)\", \"width\": 1}, \"y\": [0.5, 0.0, null, 0.04499049796646893, 0.0572394178404972, null, 0.04499049796646893, 0.11170733102471547, null], \"hoverinfo\": \"none\", \"x\": [0.0, 0.33, null, 0.3003062713421305, 0.2629725579755741, null, 0.3003062713421305, 0.2855225877733855, null]}, {\"mode\": \"lines\", \"line\": {\"color\": \"rgb(0, 0, 0)\", \"width\": 1}, \"y\": [1.0, 1.0, null, 1.0, 0.9652590189417244, null, 1.0, 1.0347409810582755, null], \"hoverinfo\": \"none\", \"x\": [0.33, 0.66, null, 0.6221212121212122, 0.5888794484132436, null, 0.6221212121212122, 0.5888794484132436, null]}, {\"mode\": \"lines\", \"line\": {\"color\": \"rgb(0, 0, 0)\", \"width\": 1}, \"y\": [1.0, 1.0, null, 1.0, 0.9652590189417244, null, 1.0, 1.0347409810582755, null], \"hoverinfo\": \"none\", \"x\": [0.66, 1.0, null, 0.9621212121212122, 0.9288794484132434, null, 0.9621212121212122, 0.9288794484132434, null]}, {\"mode\": \"lines\", \"line\": {\"color\": \"rgb(0, 0, 0)\", \"width\": 1}, \"y\": [1.0, 0.0, null, 0.06127490735002531, 0.13359437096827784, null, 0.06127490735002531, 0.09650302407543368, null], \"hoverinfo\": \"none\", \"x\": [0.66, 0.33, null, 0.35022071942550836, 0.3526100389194443, null, 0.35022071942550836, 0.3833221014449805, null]}, {\"mode\": \"lines\", \"line\": {\"color\": \"rgb(0, 0, 0)\", \"width\": 1}, \"y\": [1.0, 0.0, null, 0.06074471277448944, 0.13299554373343975, null, 0.06074471277448944, 0.09511088313140172, null], \"hoverinfo\": \"none\", \"x\": [1.0, 0.66, null, 0.6806532023433265, 0.6835549327328607, null, 0.6806532023433265, 0.7140012524011855, null]}, {\"mode\": \"lines\", \"line\": {\"color\": \"rgb(0, 0, 0)\", \"width\": 1}, \"y\": [0.0, 0.0, null, 0.0, -0.034740981058275576, null, 0.0, 0.034740981058275576, null], \"hoverinfo\": \"none\", \"x\": [0.33, 0.66, null, 0.6221212121212122, 0.5888794484132436, null, 0.6221212121212122, 0.5888794484132436, null]}, {\"mode\": \"lines\", \"line\": {\"color\": \"rgb(0, 0, 0)\", \"width\": 1}, \"y\": [0.0, 0.0, null, 0.0, -0.034740981058275576, null, 0.0, 0.034740981058275576, null], \"hoverinfo\": \"none\", \"x\": [0.66, 1.0, null, 0.9621212121212122, 0.9288794484132434, null, 0.9621212121212122, 0.9288794484132434, null]}, {\"mode\": \"markers+text\", \"x\": [0.0], \"textposition\": \"middle center\", \"textfont\": {\"color\": \"rgb(0, 0, 0)\"}, \"marker\": {\"color\": \"rgb(0, 255, 0)\", \"line\": {\"color\": \"rgb(0, 0, 0)\", \"width\": 1}, \"size\": 20}, \"y\": [0.5], \"hoverinfo\": \"none\", \"text\": [\"0\"]}, {\"mode\": \"markers+text\", \"x\": [0.33], \"textposition\": \"middle center\", \"textfont\": {\"color\": \"rgb(0, 0, 0)\"}, \"marker\": {\"color\": \"rgb(0, 255, 0)\", \"line\": {\"color\": \"rgb(0, 0, 0)\", \"width\": 1}, \"size\": 20}, \"y\": [1.0], \"hoverinfo\": \"none\", \"text\": [\"1\"]}, {\"mode\": \"markers+text\", \"x\": [0.66], \"textposition\": \"middle center\", \"textfont\": {\"color\": \"rgb(0, 0, 0)\"}, \"marker\": {\"color\": \"rgb(255, 255, 255)\", \"line\": {\"color\": \"rgb(0, 0, 0)\", \"width\": 1}, \"size\": 20}, \"y\": [1.0], \"hoverinfo\": \"none\", \"text\": [\"2\"]}, {\"mode\": \"markers+text\", \"x\": [1.0], \"textposition\": \"middle center\", \"textfont\": {\"color\": \"rgb(0, 0, 0)\"}, \"marker\": {\"color\": \"rgb(255, 255, 255)\", \"line\": {\"color\": \"rgb(0, 0, 0)\", \"width\": 1}, \"size\": 20}, \"y\": [1.0], \"hoverinfo\": \"none\", \"text\": [\"3\"]}, {\"mode\": \"markers+text\", \"x\": [0.33], \"textposition\": \"middle center\", \"textfont\": {\"color\": \"rgb(0, 0, 0)\"}, \"marker\": {\"color\": \"rgb(255, 255, 255)\", \"line\": {\"color\": \"rgb(0, 0, 0)\", \"width\": 1}, \"size\": 20}, \"y\": [0.0], \"hoverinfo\": \"none\", \"text\": [\"4\"]}, {\"mode\": \"markers+text\", \"x\": [0.66], \"textposition\": \"middle center\", \"textfont\": {\"color\": \"rgb(0, 0, 0)\"}, \"marker\": {\"color\": \"rgb(255, 255, 255)\", \"line\": {\"color\": \"rgb(0, 0, 0)\", \"width\": 1}, \"size\": 20}, \"y\": [0.0], \"hoverinfo\": \"none\", \"text\": [\"5\"]}, {\"mode\": \"markers+text\", \"x\": [1.0], \"textposition\": \"middle center\", \"textfont\": {\"color\": \"rgb(0, 0, 0)\"}, \"marker\": {\"color\": \"rgb(255, 255, 255)\", \"line\": {\"color\": \"rgb(0, 0, 0)\", \"width\": 1}, \"size\": 20}, \"y\": [0.0], \"hoverinfo\": \"none\", \"text\": [\"6\"]}]}, {\"name\": 2, \"data\": [{\"mode\": \"lines\", \"line\": {\"color\": \"rgb(0, 0, 0)\", \"width\": 1}, \"y\": [0.5, 1.0, null, 0.9550095020335311, 0.8882926689752846, null, 0.9550095020335311, 0.9427605821595028, null], \"hoverinfo\": \"none\", \"x\": [0.0, 0.33, null, 0.3003062713421305, 0.2855225877733855, null, 0.3003062713421305, 0.2629725579755741, null]}, {\"mode\": \"lines\", \"line\": {\"color\": \"rgb(0, 0, 0)\", \"width\": 1}, \"y\": [0.5, 0.0, null, 0.04499049796646893, 0.0572394178404972, null, 0.04499049796646893, 0.11170733102471547, null], \"hoverinfo\": \"none\", \"x\": [0.0, 0.33, null, 0.3003062713421305, 0.2629725579755741, null, 0.3003062713421305, 0.2855225877733855, null]}, {\"mode\": \"lines\", \"line\": {\"color\": \"rgb(0, 0, 0)\", \"width\": 1}, \"y\": [1.0, 1.0, null, 1.0, 0.9652590189417244, null, 1.0, 1.0347409810582755, null], \"hoverinfo\": \"none\", \"x\": [0.33, 0.66, null, 0.6221212121212122, 0.5888794484132436, null, 0.6221212121212122, 0.5888794484132436, null]}, {\"mode\": \"lines\", \"line\": {\"color\": \"rgb(0, 0, 0)\", \"width\": 1}, \"y\": [1.0, 1.0, null, 1.0, 0.9652590189417244, null, 1.0, 1.0347409810582755, null], \"hoverinfo\": \"none\", \"x\": [0.66, 1.0, null, 0.9621212121212122, 0.9288794484132434, null, 0.9621212121212122, 0.9288794484132434, null]}, {\"mode\": \"lines\", \"line\": {\"color\": \"rgb(0, 0, 0)\", \"width\": 1}, \"y\": [1.0, 0.0, null, 0.06127490735002531, 0.13359437096827784, null, 0.06127490735002531, 0.09650302407543368, null], \"hoverinfo\": \"none\", \"x\": [0.66, 0.33, null, 0.35022071942550836, 0.3526100389194443, null, 0.35022071942550836, 0.3833221014449805, null]}, {\"mode\": \"lines\", \"line\": {\"color\": \"rgb(0, 0, 0)\", \"width\": 1}, \"y\": [1.0, 0.0, null, 0.06074471277448944, 0.13299554373343975, null, 0.06074471277448944, 0.09511088313140172, null], \"hoverinfo\": \"none\", \"x\": [1.0, 0.66, null, 0.6806532023433265, 0.6835549327328607, null, 0.6806532023433265, 0.7140012524011855, null]}, {\"mode\": \"lines\", \"line\": {\"color\": \"rgb(0, 0, 0)\", \"width\": 1}, \"y\": [0.0, 0.0, null, 0.0, -0.034740981058275576, null, 0.0, 0.034740981058275576, null], \"hoverinfo\": \"none\", \"x\": [0.33, 0.66, null, 0.6221212121212122, 0.5888794484132436, null, 0.6221212121212122, 0.5888794484132436, null]}, {\"mode\": \"lines\", \"line\": {\"color\": \"rgb(0, 0, 0)\", \"width\": 1}, \"y\": [0.0, 0.0, null, 0.0, -0.034740981058275576, null, 0.0, 0.034740981058275576, null], \"hoverinfo\": \"none\", \"x\": [0.66, 1.0, null, 0.9621212121212122, 0.9288794484132434, null, 0.9621212121212122, 0.9288794484132434, null]}, {\"mode\": \"markers+text\", \"x\": [0.0], \"textposition\": \"middle center\", \"textfont\": {\"color\": \"rgb(0, 0, 0)\"}, \"marker\": {\"color\": \"rgb(0, 255, 0)\", \"line\": {\"color\": \"rgb(0, 0, 0)\", \"width\": 1}, \"size\": 20}, \"y\": [0.5], \"hoverinfo\": \"none\", \"text\": [\"0\"]}, {\"mode\": \"markers+text\", \"x\": [0.33], \"textposition\": \"middle center\", \"textfont\": {\"color\": \"rgb(0, 0, 0)\"}, \"marker\": {\"color\": \"rgb(0, 255, 0)\", \"line\": {\"color\": \"rgb(0, 0, 0)\", \"width\": 1}, \"size\": 20}, \"y\": [1.0], \"hoverinfo\": \"none\", \"text\": [\"1\"]}, {\"mode\": \"markers+text\", \"x\": [0.66], \"textposition\": \"middle center\", \"textfont\": {\"color\": \"rgb(0, 0, 0)\"}, \"marker\": {\"color\": \"rgb(255, 255, 255)\", \"line\": {\"color\": \"rgb(0, 0, 0)\", \"width\": 1}, \"size\": 20}, \"y\": [1.0], \"hoverinfo\": \"none\", \"text\": [\"2\"]}, {\"mode\": \"markers+text\", \"x\": [1.0], \"textposition\": \"middle center\", \"textfont\": {\"color\": \"rgb(0, 0, 0)\"}, \"marker\": {\"color\": \"rgb(255, 255, 255)\", \"line\": {\"color\": \"rgb(0, 0, 0)\", \"width\": 1}, \"size\": 20}, \"y\": [1.0], \"hoverinfo\": \"none\", \"text\": [\"3\"]}, {\"mode\": \"markers+text\", \"x\": [0.33], \"textposition\": \"middle center\", \"textfont\": {\"color\": \"rgb(0, 0, 0)\"}, \"marker\": {\"color\": \"rgb(0, 255, 0)\", \"line\": {\"color\": \"rgb(0, 0, 0)\", \"width\": 1}, \"size\": 20}, \"y\": [0.0], \"hoverinfo\": \"none\", \"text\": [\"4\"]}, {\"mode\": \"markers+text\", \"x\": [0.66], \"textposition\": \"middle center\", \"textfont\": {\"color\": \"rgb(0, 0, 0)\"}, \"marker\": {\"color\": \"rgb(255, 255, 255)\", \"line\": {\"color\": \"rgb(0, 0, 0)\", \"width\": 1}, \"size\": 20}, \"y\": [0.0], \"hoverinfo\": \"none\", \"text\": [\"5\"]}, {\"mode\": \"markers+text\", \"x\": [1.0], \"textposition\": \"middle center\", \"textfont\": {\"color\": \"rgb(0, 0, 0)\"}, \"marker\": {\"color\": \"rgb(255, 255, 255)\", \"line\": {\"color\": \"rgb(0, 0, 0)\", \"width\": 1}, \"size\": 20}, \"y\": [0.0], \"hoverinfo\": \"none\", \"text\": [\"6\"]}]}, {\"name\": 3, \"data\": [{\"mode\": \"lines\", \"line\": {\"color\": \"rgb(0, 0, 0)\", \"width\": 1}, \"y\": [0.5, 1.0, null, 0.9550095020335311, 0.8882926689752846, null, 0.9550095020335311, 0.9427605821595028, null], \"hoverinfo\": \"none\", \"x\": [0.0, 0.33, null, 0.3003062713421305, 0.2855225877733855, null, 0.3003062713421305, 0.2629725579755741, null]}, {\"mode\": \"lines\", \"line\": {\"color\": \"rgb(0, 0, 0)\", \"width\": 1}, \"y\": [0.5, 0.0, null, 0.04499049796646893, 0.0572394178404972, null, 0.04499049796646893, 0.11170733102471547, null], \"hoverinfo\": \"none\", \"x\": [0.0, 0.33, null, 0.3003062713421305, 0.2629725579755741, null, 0.3003062713421305, 0.2855225877733855, null]}, {\"mode\": \"lines\", \"line\": {\"color\": \"rgb(0, 0, 0)\", \"width\": 1}, \"y\": [1.0, 1.0, null, 1.0, 0.9652590189417244, null, 1.0, 1.0347409810582755, null], \"hoverinfo\": \"none\", \"x\": [0.33, 0.66, null, 0.6221212121212122, 0.5888794484132436, null, 0.6221212121212122, 0.5888794484132436, null]}, {\"mode\": \"lines\", \"line\": {\"color\": \"rgb(0, 0, 0)\", \"width\": 1}, \"y\": [1.0, 1.0, null, 1.0, 0.9652590189417244, null, 1.0, 1.0347409810582755, null], \"hoverinfo\": \"none\", \"x\": [0.66, 1.0, null, 0.9621212121212122, 0.9288794484132434, null, 0.9621212121212122, 0.9288794484132434, null]}, {\"mode\": \"lines\", \"line\": {\"color\": \"rgb(0, 0, 0)\", \"width\": 1}, \"y\": [1.0, 0.0, null, 0.06127490735002531, 0.13359437096827784, null, 0.06127490735002531, 0.09650302407543368, null], \"hoverinfo\": \"none\", \"x\": [0.66, 0.33, null, 0.35022071942550836, 0.3526100389194443, null, 0.35022071942550836, 0.3833221014449805, null]}, {\"mode\": \"lines\", \"line\": {\"color\": \"rgb(0, 0, 0)\", \"width\": 1}, \"y\": [1.0, 0.0, null, 0.06074471277448944, 0.13299554373343975, null, 0.06074471277448944, 0.09511088313140172, null], \"hoverinfo\": \"none\", \"x\": [1.0, 0.66, null, 0.6806532023433265, 0.6835549327328607, null, 0.6806532023433265, 0.7140012524011855, null]}, {\"mode\": \"lines\", \"line\": {\"color\": \"rgb(0, 0, 0)\", \"width\": 1}, \"y\": [0.0, 0.0, null, 0.0, -0.034740981058275576, null, 0.0, 0.034740981058275576, null], \"hoverinfo\": \"none\", \"x\": [0.33, 0.66, null, 0.6221212121212122, 0.5888794484132436, null, 0.6221212121212122, 0.5888794484132436, null]}, {\"mode\": \"lines\", \"line\": {\"color\": \"rgb(0, 0, 0)\", \"width\": 1}, \"y\": [0.0, 0.0, null, 0.0, -0.034740981058275576, null, 0.0, 0.034740981058275576, null], \"hoverinfo\": \"none\", \"x\": [0.66, 1.0, null, 0.9621212121212122, 0.9288794484132434, null, 0.9621212121212122, 0.9288794484132434, null]}, {\"mode\": \"markers+text\", \"x\": [0.0], \"textposition\": \"middle center\", \"textfont\": {\"color\": \"rgb(0, 0, 0)\"}, \"marker\": {\"color\": \"rgb(0, 255, 0)\", \"line\": {\"color\": \"rgb(0, 0, 0)\", \"width\": 1}, \"size\": 20}, \"y\": [0.5], \"hoverinfo\": \"none\", \"text\": [\"0\"]}, {\"mode\": \"markers+text\", \"x\": [0.33], \"textposition\": \"middle center\", \"textfont\": {\"color\": \"rgb(0, 0, 0)\"}, \"marker\": {\"color\": \"rgb(0, 255, 0)\", \"line\": {\"color\": \"rgb(0, 0, 0)\", \"width\": 1}, \"size\": 20}, \"y\": [1.0], \"hoverinfo\": \"none\", \"text\": [\"1\"]}, {\"mode\": \"markers+text\", \"x\": [0.66], \"textposition\": \"middle center\", \"textfont\": {\"color\": \"rgb(0, 0, 0)\"}, \"marker\": {\"color\": \"rgb(255, 255, 255)\", \"line\": {\"color\": \"rgb(0, 0, 0)\", \"width\": 1}, \"size\": 20}, \"y\": [1.0], \"hoverinfo\": \"none\", \"text\": [\"2\"]}, {\"mode\": \"markers+text\", \"x\": [1.0], \"textposition\": \"middle center\", \"textfont\": {\"color\": \"rgb(0, 0, 0)\"}, \"marker\": {\"color\": \"rgb(255, 255, 255)\", \"line\": {\"color\": \"rgb(0, 0, 0)\", \"width\": 1}, \"size\": 20}, \"y\": [1.0], \"hoverinfo\": \"none\", \"text\": [\"3\"]}, {\"mode\": \"markers+text\", \"x\": [0.33], \"textposition\": \"middle center\", \"textfont\": {\"color\": \"rgb(0, 0, 0)\"}, \"marker\": {\"color\": \"rgb(0, 255, 0)\", \"line\": {\"color\": \"rgb(0, 0, 0)\", \"width\": 1}, \"size\": 20}, \"y\": [0.0], \"hoverinfo\": \"none\", \"text\": [\"4\"]}, {\"mode\": \"markers+text\", \"x\": [0.66], \"textposition\": \"middle center\", \"textfont\": {\"color\": \"rgb(0, 0, 0)\"}, \"marker\": {\"color\": \"rgb(0, 255, 0)\", \"line\": {\"color\": \"rgb(0, 0, 0)\", \"width\": 1}, \"size\": 20}, \"y\": [0.0], \"hoverinfo\": \"none\", \"text\": [\"5\"]}, {\"mode\": \"markers+text\", \"x\": [1.0], \"textposition\": \"middle center\", \"textfont\": {\"color\": \"rgb(0, 0, 0)\"}, \"marker\": {\"color\": \"rgb(255, 255, 255)\", \"line\": {\"color\": \"rgb(0, 0, 0)\", \"width\": 1}, \"size\": 20}, \"y\": [0.0], \"hoverinfo\": \"none\", \"text\": [\"6\"]}]}, {\"name\": 4, \"data\": [{\"mode\": \"lines\", \"line\": {\"color\": \"rgb(0, 0, 0)\", \"width\": 1}, \"y\": [0.5, 1.0, null, 0.9550095020335311, 0.8882926689752846, null, 0.9550095020335311, 0.9427605821595028, null], \"hoverinfo\": \"none\", \"x\": [0.0, 0.33, null, 0.3003062713421305, 0.2855225877733855, null, 0.3003062713421305, 0.2629725579755741, null]}, {\"mode\": \"lines\", \"line\": {\"color\": \"rgb(0, 0, 0)\", \"width\": 1}, \"y\": [0.5, 0.0, null, 0.04499049796646893, 0.0572394178404972, null, 0.04499049796646893, 0.11170733102471547, null], \"hoverinfo\": \"none\", \"x\": [0.0, 0.33, null, 0.3003062713421305, 0.2629725579755741, null, 0.3003062713421305, 0.2855225877733855, null]}, {\"mode\": \"lines\", \"line\": {\"color\": \"rgb(0, 0, 0)\", \"width\": 1}, \"y\": [1.0, 1.0, null, 1.0, 0.9652590189417244, null, 1.0, 1.0347409810582755, null], \"hoverinfo\": \"none\", \"x\": [0.33, 0.66, null, 0.6221212121212122, 0.5888794484132436, null, 0.6221212121212122, 0.5888794484132436, null]}, {\"mode\": \"lines\", \"line\": {\"color\": \"rgb(0, 0, 0)\", \"width\": 1}, \"y\": [1.0, 1.0, null, 1.0, 0.9652590189417244, null, 1.0, 1.0347409810582755, null], \"hoverinfo\": \"none\", \"x\": [0.66, 1.0, null, 0.9621212121212122, 0.9288794484132434, null, 0.9621212121212122, 0.9288794484132434, null]}, {\"mode\": \"lines\", \"line\": {\"color\": \"rgb(0, 0, 0)\", \"width\": 1}, \"y\": [1.0, 0.0, null, 0.06127490735002531, 0.13359437096827784, null, 0.06127490735002531, 0.09650302407543368, null], \"hoverinfo\": \"none\", \"x\": [0.66, 0.33, null, 0.35022071942550836, 0.3526100389194443, null, 0.35022071942550836, 0.3833221014449805, null]}, {\"mode\": \"lines\", \"line\": {\"color\": \"rgb(0, 0, 0)\", \"width\": 1}, \"y\": [1.0, 0.0, null, 0.06074471277448944, 0.13299554373343975, null, 0.06074471277448944, 0.09511088313140172, null], \"hoverinfo\": \"none\", \"x\": [1.0, 0.66, null, 0.6806532023433265, 0.6835549327328607, null, 0.6806532023433265, 0.7140012524011855, null]}, {\"mode\": \"lines\", \"line\": {\"color\": \"rgb(0, 0, 0)\", \"width\": 1}, \"y\": [0.0, 0.0, null, 0.0, -0.034740981058275576, null, 0.0, 0.034740981058275576, null], \"hoverinfo\": \"none\", \"x\": [0.33, 0.66, null, 0.6221212121212122, 0.5888794484132436, null, 0.6221212121212122, 0.5888794484132436, null]}, {\"mode\": \"lines\", \"line\": {\"color\": \"rgb(0, 0, 0)\", \"width\": 1}, \"y\": [0.0, 0.0, null, 0.0, -0.034740981058275576, null, 0.0, 0.034740981058275576, null], \"hoverinfo\": \"none\", \"x\": [0.66, 1.0, null, 0.9621212121212122, 0.9288794484132434, null, 0.9621212121212122, 0.9288794484132434, null]}, {\"mode\": \"markers+text\", \"x\": [0.0], \"textposition\": \"middle center\", \"textfont\": {\"color\": \"rgb(0, 0, 0)\"}, \"marker\": {\"color\": \"rgb(0, 255, 0)\", \"line\": {\"color\": \"rgb(0, 0, 0)\", \"width\": 1}, \"size\": 20}, \"y\": [0.5], \"hoverinfo\": \"none\", \"text\": [\"0\"]}, {\"mode\": \"markers+text\", \"x\": [0.33], \"textposition\": \"middle center\", \"textfont\": {\"color\": \"rgb(0, 0, 0)\"}, \"marker\": {\"color\": \"rgb(0, 255, 0)\", \"line\": {\"color\": \"rgb(0, 0, 0)\", \"width\": 1}, \"size\": 20}, \"y\": [1.0], \"hoverinfo\": \"none\", \"text\": [\"1\"]}, {\"mode\": \"markers+text\", \"x\": [0.66], \"textposition\": \"middle center\", \"textfont\": {\"color\": \"rgb(0, 0, 0)\"}, \"marker\": {\"color\": \"rgb(255, 255, 255)\", \"line\": {\"color\": \"rgb(0, 0, 0)\", \"width\": 1}, \"size\": 20}, \"y\": [1.0], \"hoverinfo\": \"none\", \"text\": [\"2\"]}, {\"mode\": \"markers+text\", \"x\": [1.0], \"textposition\": \"middle center\", \"textfont\": {\"color\": \"rgb(0, 0, 0)\"}, \"marker\": {\"color\": \"rgb(255, 255, 255)\", \"line\": {\"color\": \"rgb(0, 0, 0)\", \"width\": 1}, \"size\": 20}, \"y\": [1.0], \"hoverinfo\": \"none\", \"text\": [\"3\"]}, {\"mode\": \"markers+text\", \"x\": [0.33], \"textposition\": \"middle center\", \"textfont\": {\"color\": \"rgb(0, 0, 0)\"}, \"marker\": {\"color\": \"rgb(0, 255, 0)\", \"line\": {\"color\": \"rgb(0, 0, 0)\", \"width\": 1}, \"size\": 20}, \"y\": [0.0], \"hoverinfo\": \"none\", \"text\": [\"4\"]}, {\"mode\": \"markers+text\", \"x\": [0.66], \"textposition\": \"middle center\", \"textfont\": {\"color\": \"rgb(0, 0, 0)\"}, \"marker\": {\"color\": \"rgb(0, 255, 0)\", \"line\": {\"color\": \"rgb(0, 0, 0)\", \"width\": 1}, \"size\": 20}, \"y\": [0.0], \"hoverinfo\": \"none\", \"text\": [\"5\"]}, {\"mode\": \"markers+text\", \"x\": [1.0], \"textposition\": \"middle center\", \"textfont\": {\"color\": \"rgb(0, 0, 0)\"}, \"marker\": {\"color\": \"rgb(0, 255, 0)\", \"line\": {\"color\": \"rgb(0, 0, 0)\", \"width\": 1}, \"size\": 20}, \"y\": [0.0], \"hoverinfo\": \"none\", \"text\": [\"6\"]}]}, {\"name\": 5, \"data\": [{\"mode\": \"lines\", \"line\": {\"color\": \"rgb(0, 0, 0)\", \"width\": 1}, \"y\": [0.5, 1.0, null, 0.9550095020335311, 0.8882926689752846, null, 0.9550095020335311, 0.9427605821595028, null], \"hoverinfo\": \"none\", \"x\": [0.0, 0.33, null, 0.3003062713421305, 0.2855225877733855, null, 0.3003062713421305, 0.2629725579755741, null]}, {\"mode\": \"lines\", \"line\": {\"color\": \"rgb(0, 0, 0)\", \"width\": 1}, \"y\": [0.5, 0.0, null, 0.04499049796646893, 0.0572394178404972, null, 0.04499049796646893, 0.11170733102471547, null], \"hoverinfo\": \"none\", \"x\": [0.0, 0.33, null, 0.3003062713421305, 0.2629725579755741, null, 0.3003062713421305, 0.2855225877733855, null]}, {\"mode\": \"lines\", \"line\": {\"color\": \"rgb(0, 0, 0)\", \"width\": 1}, \"y\": [1.0, 1.0, null, 1.0, 0.9652590189417244, null, 1.0, 1.0347409810582755, null], \"hoverinfo\": \"none\", \"x\": [0.33, 0.66, null, 0.6221212121212122, 0.5888794484132436, null, 0.6221212121212122, 0.5888794484132436, null]}, {\"mode\": \"lines\", \"line\": {\"color\": \"rgb(0, 0, 0)\", \"width\": 1}, \"y\": [1.0, 1.0, null, 1.0, 0.9652590189417244, null, 1.0, 1.0347409810582755, null], \"hoverinfo\": \"none\", \"x\": [0.66, 1.0, null, 0.9621212121212122, 0.9288794484132434, null, 0.9621212121212122, 0.9288794484132434, null]}, {\"mode\": \"lines\", \"line\": {\"color\": \"rgb(0, 0, 0)\", \"width\": 1}, \"y\": [1.0, 0.0, null, 0.06127490735002531, 0.13359437096827784, null, 0.06127490735002531, 0.09650302407543368, null], \"hoverinfo\": \"none\", \"x\": [0.66, 0.33, null, 0.35022071942550836, 0.3526100389194443, null, 0.35022071942550836, 0.3833221014449805, null]}, {\"mode\": \"lines\", \"line\": {\"color\": \"rgb(0, 0, 0)\", \"width\": 1}, \"y\": [1.0, 0.0, null, 0.06074471277448944, 0.13299554373343975, null, 0.06074471277448944, 0.09511088313140172, null], \"hoverinfo\": \"none\", \"x\": [1.0, 0.66, null, 0.6806532023433265, 0.6835549327328607, null, 0.6806532023433265, 0.7140012524011855, null]}, {\"mode\": \"lines\", \"line\": {\"color\": \"rgb(0, 0, 0)\", \"width\": 1}, \"y\": [0.0, 0.0, null, 0.0, -0.034740981058275576, null, 0.0, 0.034740981058275576, null], \"hoverinfo\": \"none\", \"x\": [0.33, 0.66, null, 0.6221212121212122, 0.5888794484132436, null, 0.6221212121212122, 0.5888794484132436, null]}, {\"mode\": \"lines\", \"line\": {\"color\": \"rgb(0, 0, 0)\", \"width\": 1}, \"y\": [0.0, 0.0, null, 0.0, -0.034740981058275576, null, 0.0, 0.034740981058275576, null], \"hoverinfo\": \"none\", \"x\": [0.66, 1.0, null, 0.9621212121212122, 0.9288794484132434, null, 0.9621212121212122, 0.9288794484132434, null]}, {\"mode\": \"markers+text\", \"x\": [0.0], \"textposition\": \"middle center\", \"textfont\": {\"color\": \"rgb(0, 0, 0)\"}, \"marker\": {\"color\": \"rgb(0, 255, 0)\", \"line\": {\"color\": \"rgb(0, 0, 0)\", \"width\": 1}, \"size\": 20}, \"y\": [0.5], \"hoverinfo\": \"none\", \"text\": [\"0\"]}, {\"mode\": \"markers+text\", \"x\": [0.33], \"textposition\": \"middle center\", \"textfont\": {\"color\": \"rgb(0, 0, 0)\"}, \"marker\": {\"color\": \"rgb(0, 255, 0)\", \"line\": {\"color\": \"rgb(0, 0, 0)\", \"width\": 1}, \"size\": 20}, \"y\": [1.0], \"hoverinfo\": \"none\", \"text\": [\"1\"]}, {\"mode\": \"markers+text\", \"x\": [0.66], \"textposition\": \"middle center\", \"textfont\": {\"color\": \"rgb(0, 0, 0)\"}, \"marker\": {\"color\": \"rgb(0, 255, 0)\", \"line\": {\"color\": \"rgb(0, 0, 0)\", \"width\": 1}, \"size\": 20}, \"y\": [1.0], \"hoverinfo\": \"none\", \"text\": [\"2\"]}, {\"mode\": \"markers+text\", \"x\": [1.0], \"textposition\": \"middle center\", \"textfont\": {\"color\": \"rgb(0, 0, 0)\"}, \"marker\": {\"color\": \"rgb(255, 255, 255)\", \"line\": {\"color\": \"rgb(0, 0, 0)\", \"width\": 1}, \"size\": 20}, \"y\": [1.0], \"hoverinfo\": \"none\", \"text\": [\"3\"]}, {\"mode\": \"markers+text\", \"x\": [0.33], \"textposition\": \"middle center\", \"textfont\": {\"color\": \"rgb(0, 0, 0)\"}, \"marker\": {\"color\": \"rgb(0, 255, 0)\", \"line\": {\"color\": \"rgb(0, 0, 0)\", \"width\": 1}, \"size\": 20}, \"y\": [0.0], \"hoverinfo\": \"none\", \"text\": [\"4\"]}, {\"mode\": \"markers+text\", \"x\": [0.66], \"textposition\": \"middle center\", \"textfont\": {\"color\": \"rgb(0, 0, 0)\"}, \"marker\": {\"color\": \"rgb(0, 255, 0)\", \"line\": {\"color\": \"rgb(0, 0, 0)\", \"width\": 1}, \"size\": 20}, \"y\": [0.0], \"hoverinfo\": \"none\", \"text\": [\"5\"]}, {\"mode\": \"markers+text\", \"x\": [1.0], \"textposition\": \"middle center\", \"textfont\": {\"color\": \"rgb(0, 0, 0)\"}, \"marker\": {\"color\": \"rgb(0, 255, 0)\", \"line\": {\"color\": \"rgb(0, 0, 0)\", \"width\": 1}, \"size\": 20}, \"y\": [0.0], \"hoverinfo\": \"none\", \"text\": [\"6\"]}]}, {\"name\": 6, \"data\": [{\"mode\": \"lines\", \"line\": {\"color\": \"rgb(0, 0, 0)\", \"width\": 1}, \"y\": [0.5, 1.0, null, 0.9550095020335311, 0.8882926689752846, null, 0.9550095020335311, 0.9427605821595028, null], \"hoverinfo\": \"none\", \"x\": [0.0, 0.33, null, 0.3003062713421305, 0.2855225877733855, null, 0.3003062713421305, 0.2629725579755741, null]}, {\"mode\": \"lines\", \"line\": {\"color\": \"rgb(0, 0, 0)\", \"width\": 1}, \"y\": [0.5, 0.0, null, 0.04499049796646893, 0.0572394178404972, null, 0.04499049796646893, 0.11170733102471547, null], \"hoverinfo\": \"none\", \"x\": [0.0, 0.33, null, 0.3003062713421305, 0.2629725579755741, null, 0.3003062713421305, 0.2855225877733855, null]}, {\"mode\": \"lines\", \"line\": {\"color\": \"rgb(0, 0, 0)\", \"width\": 1}, \"y\": [1.0, 1.0, null, 1.0, 0.9652590189417244, null, 1.0, 1.0347409810582755, null], \"hoverinfo\": \"none\", \"x\": [0.33, 0.66, null, 0.6221212121212122, 0.5888794484132436, null, 0.6221212121212122, 0.5888794484132436, null]}, {\"mode\": \"lines\", \"line\": {\"color\": \"rgb(0, 0, 0)\", \"width\": 1}, \"y\": [1.0, 1.0, null, 1.0, 0.9652590189417244, null, 1.0, 1.0347409810582755, null], \"hoverinfo\": \"none\", \"x\": [0.66, 1.0, null, 0.9621212121212122, 0.9288794484132434, null, 0.9621212121212122, 0.9288794484132434, null]}, {\"mode\": \"lines\", \"line\": {\"color\": \"rgb(0, 0, 0)\", \"width\": 1}, \"y\": [1.0, 0.0, null, 0.06127490735002531, 0.13359437096827784, null, 0.06127490735002531, 0.09650302407543368, null], \"hoverinfo\": \"none\", \"x\": [0.66, 0.33, null, 0.35022071942550836, 0.3526100389194443, null, 0.35022071942550836, 0.3833221014449805, null]}, {\"mode\": \"lines\", \"line\": {\"color\": \"rgb(0, 0, 0)\", \"width\": 1}, \"y\": [1.0, 0.0, null, 0.06074471277448944, 0.13299554373343975, null, 0.06074471277448944, 0.09511088313140172, null], \"hoverinfo\": \"none\", \"x\": [1.0, 0.66, null, 0.6806532023433265, 0.6835549327328607, null, 0.6806532023433265, 0.7140012524011855, null]}, {\"mode\": \"lines\", \"line\": {\"color\": \"rgb(0, 0, 0)\", \"width\": 1}, \"y\": [0.0, 0.0, null, 0.0, -0.034740981058275576, null, 0.0, 0.034740981058275576, null], \"hoverinfo\": \"none\", \"x\": [0.33, 0.66, null, 0.6221212121212122, 0.5888794484132436, null, 0.6221212121212122, 0.5888794484132436, null]}, {\"mode\": \"lines\", \"line\": {\"color\": \"rgb(0, 0, 0)\", \"width\": 1}, \"y\": [0.0, 0.0, null, 0.0, -0.034740981058275576, null, 0.0, 0.034740981058275576, null], \"hoverinfo\": \"none\", \"x\": [0.66, 1.0, null, 0.9621212121212122, 0.9288794484132434, null, 0.9621212121212122, 0.9288794484132434, null]}, {\"mode\": \"markers+text\", \"x\": [0.0], \"textposition\": \"middle center\", \"textfont\": {\"color\": \"rgb(0, 0, 0)\"}, \"marker\": {\"color\": \"rgb(0, 255, 0)\", \"line\": {\"color\": \"rgb(0, 0, 0)\", \"width\": 1}, \"size\": 20}, \"y\": [0.5], \"hoverinfo\": \"none\", \"text\": [\"0\"]}, {\"mode\": \"markers+text\", \"x\": [0.33], \"textposition\": \"middle center\", \"textfont\": {\"color\": \"rgb(0, 0, 0)\"}, \"marker\": {\"color\": \"rgb(0, 255, 0)\", \"line\": {\"color\": \"rgb(0, 0, 0)\", \"width\": 1}, \"size\": 20}, \"y\": [1.0], \"hoverinfo\": \"none\", \"text\": [\"1\"]}, {\"mode\": \"markers+text\", \"x\": [0.66], \"textposition\": \"middle center\", \"textfont\": {\"color\": \"rgb(0, 0, 0)\"}, \"marker\": {\"color\": \"rgb(0, 255, 0)\", \"line\": {\"color\": \"rgb(0, 0, 0)\", \"width\": 1}, \"size\": 20}, \"y\": [1.0], \"hoverinfo\": \"none\", \"text\": [\"2\"]}, {\"mode\": \"markers+text\", \"x\": [1.0], \"textposition\": \"middle center\", \"textfont\": {\"color\": \"rgb(0, 0, 0)\"}, \"marker\": {\"color\": \"rgb(0, 255, 0)\", \"line\": {\"color\": \"rgb(0, 0, 0)\", \"width\": 1}, \"size\": 20}, \"y\": [1.0], \"hoverinfo\": \"none\", \"text\": [\"3\"]}, {\"mode\": \"markers+text\", \"x\": [0.33], \"textposition\": \"middle center\", \"textfont\": {\"color\": \"rgb(0, 0, 0)\"}, \"marker\": {\"color\": \"rgb(0, 255, 0)\", \"line\": {\"color\": \"rgb(0, 0, 0)\", \"width\": 1}, \"size\": 20}, \"y\": [0.0], \"hoverinfo\": \"none\", \"text\": [\"4\"]}, {\"mode\": \"markers+text\", \"x\": [0.66], \"textposition\": \"middle center\", \"textfont\": {\"color\": \"rgb(0, 0, 0)\"}, \"marker\": {\"color\": \"rgb(0, 255, 0)\", \"line\": {\"color\": \"rgb(0, 0, 0)\", \"width\": 1}, \"size\": 20}, \"y\": [0.0], \"hoverinfo\": \"none\", \"text\": [\"5\"]}, {\"mode\": \"markers+text\", \"x\": [1.0], \"textposition\": \"middle center\", \"textfont\": {\"color\": \"rgb(0, 0, 0)\"}, \"marker\": {\"color\": \"rgb(0, 255, 0)\", \"line\": {\"color\": \"rgb(0, 0, 0)\", \"width\": 1}, \"size\": 20}, \"y\": [0.0], \"hoverinfo\": \"none\", \"text\": [\"6\"]}]}]);}).then(function(){Plotly.animate('0912f39d-00d4-4f42-96a0-b230e1ae4c8b');})\n",
       "        });</script>"
      ],
      "text/vnd.plotly.v1+html": [
       "<div id=\"0912f39d-00d4-4f42-96a0-b230e1ae4c8b\" style=\"height: 256.0px; width: 408.0px;\" class=\"plotly-graph-div\"></div><script type=\"text/javascript\">require([\"plotly\"], function(Plotly) { window.PLOTLYENV=window.PLOTLYENV || {};window.PLOTLYENV.BASE_URL=\"https://plot.ly\";\n",
       "        Plotly.plot(\n",
       "            '0912f39d-00d4-4f42-96a0-b230e1ae4c8b',\n",
       "            [{\"mode\": \"lines\", \"line\": {\"color\": \"rgb(0, 0, 0)\", \"width\": 1}, \"y\": [0.5, 1.0, null, 0.9550095020335311, 0.8882926689752846, null, 0.9550095020335311, 0.9427605821595028, null], \"hoverinfo\": \"none\", \"x\": [0.0, 0.33, null, 0.3003062713421305, 0.2855225877733855, null, 0.3003062713421305, 0.2629725579755741, null]}, {\"mode\": \"lines\", \"line\": {\"color\": \"rgb(0, 0, 0)\", \"width\": 1}, \"y\": [0.5, 0.0, null, 0.04499049796646893, 0.0572394178404972, null, 0.04499049796646893, 0.11170733102471547, null], \"hoverinfo\": \"none\", \"x\": [0.0, 0.33, null, 0.3003062713421305, 0.2629725579755741, null, 0.3003062713421305, 0.2855225877733855, null]}, {\"mode\": \"lines\", \"line\": {\"color\": \"rgb(0, 0, 0)\", \"width\": 1}, \"y\": [1.0, 1.0, null, 1.0, 0.9652590189417244, null, 1.0, 1.0347409810582755, null], \"hoverinfo\": \"none\", \"x\": [0.33, 0.66, null, 0.6221212121212122, 0.5888794484132436, null, 0.6221212121212122, 0.5888794484132436, null]}, {\"mode\": \"lines\", \"line\": {\"color\": \"rgb(0, 0, 0)\", \"width\": 1}, \"y\": [1.0, 1.0, null, 1.0, 0.9652590189417244, null, 1.0, 1.0347409810582755, null], \"hoverinfo\": \"none\", \"x\": [0.66, 1.0, null, 0.9621212121212122, 0.9288794484132434, null, 0.9621212121212122, 0.9288794484132434, null]}, {\"mode\": \"lines\", \"line\": {\"color\": \"rgb(0, 0, 0)\", \"width\": 1}, \"y\": [1.0, 0.0, null, 0.06127490735002531, 0.13359437096827784, null, 0.06127490735002531, 0.09650302407543368, null], \"hoverinfo\": \"none\", \"x\": [0.66, 0.33, null, 0.35022071942550836, 0.3526100389194443, null, 0.35022071942550836, 0.3833221014449805, null]}, {\"mode\": \"lines\", \"line\": {\"color\": \"rgb(0, 0, 0)\", \"width\": 1}, \"y\": [1.0, 0.0, null, 0.06074471277448944, 0.13299554373343975, null, 0.06074471277448944, 0.09511088313140172, null], \"hoverinfo\": \"none\", \"x\": [1.0, 0.66, null, 0.6806532023433265, 0.6835549327328607, null, 0.6806532023433265, 0.7140012524011855, null]}, {\"mode\": \"lines\", \"line\": {\"color\": \"rgb(0, 0, 0)\", \"width\": 1}, \"y\": [0.0, 0.0, null, 0.0, -0.034740981058275576, null, 0.0, 0.034740981058275576, null], \"hoverinfo\": \"none\", \"x\": [0.33, 0.66, null, 0.6221212121212122, 0.5888794484132436, null, 0.6221212121212122, 0.5888794484132436, null]}, {\"mode\": \"lines\", \"line\": {\"color\": \"rgb(0, 0, 0)\", \"width\": 1}, \"y\": [0.0, 0.0, null, 0.0, -0.034740981058275576, null, 0.0, 0.034740981058275576, null], \"hoverinfo\": \"none\", \"x\": [0.66, 1.0, null, 0.9621212121212122, 0.9288794484132434, null, 0.9621212121212122, 0.9288794484132434, null]}, {\"mode\": \"markers+text\", \"x\": [0.0], \"textposition\": \"middle center\", \"textfont\": {\"color\": \"rgb(0, 0, 0)\"}, \"marker\": {\"color\": \"rgb(0, 255, 0)\", \"line\": {\"color\": \"rgb(0, 0, 0)\", \"width\": 1}, \"size\": 20}, \"y\": [0.5], \"hoverinfo\": \"none\", \"text\": [\"0\"]}, {\"mode\": \"markers+text\", \"x\": [0.33], \"textposition\": \"middle center\", \"textfont\": {\"color\": \"rgb(0, 0, 0)\"}, \"marker\": {\"color\": \"rgb(255, 255, 255)\", \"line\": {\"color\": \"rgb(0, 0, 0)\", \"width\": 1}, \"size\": 20}, \"y\": [1.0], \"hoverinfo\": \"none\", \"text\": [\"1\"]}, {\"mode\": \"markers+text\", \"x\": [0.66], \"textposition\": \"middle center\", \"textfont\": {\"color\": \"rgb(0, 0, 0)\"}, \"marker\": {\"color\": \"rgb(255, 255, 255)\", \"line\": {\"color\": \"rgb(0, 0, 0)\", \"width\": 1}, \"size\": 20}, \"y\": [1.0], \"hoverinfo\": \"none\", \"text\": [\"2\"]}, {\"mode\": \"markers+text\", \"x\": [1.0], \"textposition\": \"middle center\", \"textfont\": {\"color\": \"rgb(0, 0, 0)\"}, \"marker\": {\"color\": \"rgb(255, 255, 255)\", \"line\": {\"color\": \"rgb(0, 0, 0)\", \"width\": 1}, \"size\": 20}, \"y\": [1.0], \"hoverinfo\": \"none\", \"text\": [\"3\"]}, {\"mode\": \"markers+text\", \"x\": [0.33], \"textposition\": \"middle center\", \"textfont\": {\"color\": \"rgb(0, 0, 0)\"}, \"marker\": {\"color\": \"rgb(255, 255, 255)\", \"line\": {\"color\": \"rgb(0, 0, 0)\", \"width\": 1}, \"size\": 20}, \"y\": [0.0], \"hoverinfo\": \"none\", \"text\": [\"4\"]}, {\"mode\": \"markers+text\", \"x\": [0.66], \"textposition\": \"middle center\", \"textfont\": {\"color\": \"rgb(0, 0, 0)\"}, \"marker\": {\"color\": \"rgb(255, 255, 255)\", \"line\": {\"color\": \"rgb(0, 0, 0)\", \"width\": 1}, \"size\": 20}, \"y\": [0.0], \"hoverinfo\": \"none\", \"text\": [\"5\"]}, {\"mode\": \"markers+text\", \"x\": [1.0], \"textposition\": \"middle center\", \"textfont\": {\"color\": \"rgb(0, 0, 0)\"}, \"marker\": {\"color\": \"rgb(255, 255, 255)\", \"line\": {\"color\": \"rgb(0, 0, 0)\", \"width\": 1}, \"size\": 20}, \"y\": [0.0], \"hoverinfo\": \"none\", \"text\": [\"6\"]}],\n",
       "            {\"margin\": {\"r\": 0, \"b\": 0, \"t\": 0, \"l\": 0}, \"showlegend\": false, \"updatemenus\": [{\"buttons\": [{\"args\": [null, {\"fromcurrent\": true, \"frame\": {\"redraw\": false}}], \"method\": \"animate\", \"label\": \"Play\"}, {\"args\": [[null], {\"mode\": \"immediate\", \"frame\": {\"redraw\": false}}], \"method\": \"animate\", \"label\": \"Pause\"}], \"showactive\": true, \"type\": \"buttons\"}], \"xaxis\": {\"showticklabels\": false, \"showgrid\": false, \"zeroline\": false}, \"height\": 256.0, \"sliders\": [{\"currentvalue\": {\"visible\": false}, \"steps\": [{\"args\": [[0], {\"mode\": \"immediate\", \"frame\": {\"redraw\": false}}], \"method\": \"animate\", \"label\": \"\"}, {\"args\": [[1], {\"mode\": \"immediate\", \"frame\": {\"redraw\": false}}], \"method\": \"animate\", \"label\": \"\"}, {\"args\": [[2], {\"mode\": \"immediate\", \"frame\": {\"redraw\": false}}], \"method\": \"animate\", \"label\": \"\"}, {\"args\": [[3], {\"mode\": \"immediate\", \"frame\": {\"redraw\": false}}], \"method\": \"animate\", \"label\": \"\"}, {\"args\": [[4], {\"mode\": \"immediate\", \"frame\": {\"redraw\": false}}], \"method\": \"animate\", \"label\": \"\"}, {\"args\": [[5], {\"mode\": \"immediate\", \"frame\": {\"redraw\": false}}], \"method\": \"animate\", \"label\": \"\"}, {\"args\": [[6], {\"mode\": \"immediate\", \"frame\": {\"redraw\": false}}], \"method\": \"animate\", \"label\": \"\"}]}], \"width\": 408.0, \"yaxis\": {\"showticklabels\": false, \"showgrid\": false, \"zeroline\": false}},\n",
       "            {\"linkText\": \"Export to plot.ly\", \"displayModeBar\": false, \"showLink\": false}\n",
       "        ).then(function () {return Plotly.addFrames('0912f39d-00d4-4f42-96a0-b230e1ae4c8b',[{\"name\": 0, \"data\": [{\"mode\": \"lines\", \"line\": {\"color\": \"rgb(0, 0, 0)\", \"width\": 1}, \"y\": [0.5, 1.0, null, 0.9550095020335311, 0.8882926689752846, null, 0.9550095020335311, 0.9427605821595028, null], \"hoverinfo\": \"none\", \"x\": [0.0, 0.33, null, 0.3003062713421305, 0.2855225877733855, null, 0.3003062713421305, 0.2629725579755741, null]}, {\"mode\": \"lines\", \"line\": {\"color\": \"rgb(0, 0, 0)\", \"width\": 1}, \"y\": [0.5, 0.0, null, 0.04499049796646893, 0.0572394178404972, null, 0.04499049796646893, 0.11170733102471547, null], \"hoverinfo\": \"none\", \"x\": [0.0, 0.33, null, 0.3003062713421305, 0.2629725579755741, null, 0.3003062713421305, 0.2855225877733855, null]}, {\"mode\": \"lines\", \"line\": {\"color\": \"rgb(0, 0, 0)\", \"width\": 1}, \"y\": [1.0, 1.0, null, 1.0, 0.9652590189417244, null, 1.0, 1.0347409810582755, null], \"hoverinfo\": \"none\", \"x\": [0.33, 0.66, null, 0.6221212121212122, 0.5888794484132436, null, 0.6221212121212122, 0.5888794484132436, null]}, {\"mode\": \"lines\", \"line\": {\"color\": \"rgb(0, 0, 0)\", \"width\": 1}, \"y\": [1.0, 1.0, null, 1.0, 0.9652590189417244, null, 1.0, 1.0347409810582755, null], \"hoverinfo\": \"none\", \"x\": [0.66, 1.0, null, 0.9621212121212122, 0.9288794484132434, null, 0.9621212121212122, 0.9288794484132434, null]}, {\"mode\": \"lines\", \"line\": {\"color\": \"rgb(0, 0, 0)\", \"width\": 1}, \"y\": [1.0, 0.0, null, 0.06127490735002531, 0.13359437096827784, null, 0.06127490735002531, 0.09650302407543368, null], \"hoverinfo\": \"none\", \"x\": [0.66, 0.33, null, 0.35022071942550836, 0.3526100389194443, null, 0.35022071942550836, 0.3833221014449805, null]}, {\"mode\": \"lines\", \"line\": {\"color\": \"rgb(0, 0, 0)\", \"width\": 1}, \"y\": [1.0, 0.0, null, 0.06074471277448944, 0.13299554373343975, null, 0.06074471277448944, 0.09511088313140172, null], \"hoverinfo\": \"none\", \"x\": [1.0, 0.66, null, 0.6806532023433265, 0.6835549327328607, null, 0.6806532023433265, 0.7140012524011855, null]}, {\"mode\": \"lines\", \"line\": {\"color\": \"rgb(0, 0, 0)\", \"width\": 1}, \"y\": [0.0, 0.0, null, 0.0, -0.034740981058275576, null, 0.0, 0.034740981058275576, null], \"hoverinfo\": \"none\", \"x\": [0.33, 0.66, null, 0.6221212121212122, 0.5888794484132436, null, 0.6221212121212122, 0.5888794484132436, null]}, {\"mode\": \"lines\", \"line\": {\"color\": \"rgb(0, 0, 0)\", \"width\": 1}, \"y\": [0.0, 0.0, null, 0.0, -0.034740981058275576, null, 0.0, 0.034740981058275576, null], \"hoverinfo\": \"none\", \"x\": [0.66, 1.0, null, 0.9621212121212122, 0.9288794484132434, null, 0.9621212121212122, 0.9288794484132434, null]}, {\"mode\": \"markers+text\", \"x\": [0.0], \"textposition\": \"middle center\", \"textfont\": {\"color\": \"rgb(0, 0, 0)\"}, \"marker\": {\"color\": \"rgb(0, 255, 0)\", \"line\": {\"color\": \"rgb(0, 0, 0)\", \"width\": 1}, \"size\": 20}, \"y\": [0.5], \"hoverinfo\": \"none\", \"text\": [\"0\"]}, {\"mode\": \"markers+text\", \"x\": [0.33], \"textposition\": \"middle center\", \"textfont\": {\"color\": \"rgb(0, 0, 0)\"}, \"marker\": {\"color\": \"rgb(255, 255, 255)\", \"line\": {\"color\": \"rgb(0, 0, 0)\", \"width\": 1}, \"size\": 20}, \"y\": [1.0], \"hoverinfo\": \"none\", \"text\": [\"1\"]}, {\"mode\": \"markers+text\", \"x\": [0.66], \"textposition\": \"middle center\", \"textfont\": {\"color\": \"rgb(0, 0, 0)\"}, \"marker\": {\"color\": \"rgb(255, 255, 255)\", \"line\": {\"color\": \"rgb(0, 0, 0)\", \"width\": 1}, \"size\": 20}, \"y\": [1.0], \"hoverinfo\": \"none\", \"text\": [\"2\"]}, {\"mode\": \"markers+text\", \"x\": [1.0], \"textposition\": \"middle center\", \"textfont\": {\"color\": \"rgb(0, 0, 0)\"}, \"marker\": {\"color\": \"rgb(255, 255, 255)\", \"line\": {\"color\": \"rgb(0, 0, 0)\", \"width\": 1}, \"size\": 20}, \"y\": [1.0], \"hoverinfo\": \"none\", \"text\": [\"3\"]}, {\"mode\": \"markers+text\", \"x\": [0.33], \"textposition\": \"middle center\", \"textfont\": {\"color\": \"rgb(0, 0, 0)\"}, \"marker\": {\"color\": \"rgb(255, 255, 255)\", \"line\": {\"color\": \"rgb(0, 0, 0)\", \"width\": 1}, \"size\": 20}, \"y\": [0.0], \"hoverinfo\": \"none\", \"text\": [\"4\"]}, {\"mode\": \"markers+text\", \"x\": [0.66], \"textposition\": \"middle center\", \"textfont\": {\"color\": \"rgb(0, 0, 0)\"}, \"marker\": {\"color\": \"rgb(255, 255, 255)\", \"line\": {\"color\": \"rgb(0, 0, 0)\", \"width\": 1}, \"size\": 20}, \"y\": [0.0], \"hoverinfo\": \"none\", \"text\": [\"5\"]}, {\"mode\": \"markers+text\", \"x\": [1.0], \"textposition\": \"middle center\", \"textfont\": {\"color\": \"rgb(0, 0, 0)\"}, \"marker\": {\"color\": \"rgb(255, 255, 255)\", \"line\": {\"color\": \"rgb(0, 0, 0)\", \"width\": 1}, \"size\": 20}, \"y\": [0.0], \"hoverinfo\": \"none\", \"text\": [\"6\"]}]}, {\"name\": 1, \"data\": [{\"mode\": \"lines\", \"line\": {\"color\": \"rgb(0, 0, 0)\", \"width\": 1}, \"y\": [0.5, 1.0, null, 0.9550095020335311, 0.8882926689752846, null, 0.9550095020335311, 0.9427605821595028, null], \"hoverinfo\": \"none\", \"x\": [0.0, 0.33, null, 0.3003062713421305, 0.2855225877733855, null, 0.3003062713421305, 0.2629725579755741, null]}, {\"mode\": \"lines\", \"line\": {\"color\": \"rgb(0, 0, 0)\", \"width\": 1}, \"y\": [0.5, 0.0, null, 0.04499049796646893, 0.0572394178404972, null, 0.04499049796646893, 0.11170733102471547, null], \"hoverinfo\": \"none\", \"x\": [0.0, 0.33, null, 0.3003062713421305, 0.2629725579755741, null, 0.3003062713421305, 0.2855225877733855, null]}, {\"mode\": \"lines\", \"line\": {\"color\": \"rgb(0, 0, 0)\", \"width\": 1}, \"y\": [1.0, 1.0, null, 1.0, 0.9652590189417244, null, 1.0, 1.0347409810582755, null], \"hoverinfo\": \"none\", \"x\": [0.33, 0.66, null, 0.6221212121212122, 0.5888794484132436, null, 0.6221212121212122, 0.5888794484132436, null]}, {\"mode\": \"lines\", \"line\": {\"color\": \"rgb(0, 0, 0)\", \"width\": 1}, \"y\": [1.0, 1.0, null, 1.0, 0.9652590189417244, null, 1.0, 1.0347409810582755, null], \"hoverinfo\": \"none\", \"x\": [0.66, 1.0, null, 0.9621212121212122, 0.9288794484132434, null, 0.9621212121212122, 0.9288794484132434, null]}, {\"mode\": \"lines\", \"line\": {\"color\": \"rgb(0, 0, 0)\", \"width\": 1}, \"y\": [1.0, 0.0, null, 0.06127490735002531, 0.13359437096827784, null, 0.06127490735002531, 0.09650302407543368, null], \"hoverinfo\": \"none\", \"x\": [0.66, 0.33, null, 0.35022071942550836, 0.3526100389194443, null, 0.35022071942550836, 0.3833221014449805, null]}, {\"mode\": \"lines\", \"line\": {\"color\": \"rgb(0, 0, 0)\", \"width\": 1}, \"y\": [1.0, 0.0, null, 0.06074471277448944, 0.13299554373343975, null, 0.06074471277448944, 0.09511088313140172, null], \"hoverinfo\": \"none\", \"x\": [1.0, 0.66, null, 0.6806532023433265, 0.6835549327328607, null, 0.6806532023433265, 0.7140012524011855, null]}, {\"mode\": \"lines\", \"line\": {\"color\": \"rgb(0, 0, 0)\", \"width\": 1}, \"y\": [0.0, 0.0, null, 0.0, -0.034740981058275576, null, 0.0, 0.034740981058275576, null], \"hoverinfo\": \"none\", \"x\": [0.33, 0.66, null, 0.6221212121212122, 0.5888794484132436, null, 0.6221212121212122, 0.5888794484132436, null]}, {\"mode\": \"lines\", \"line\": {\"color\": \"rgb(0, 0, 0)\", \"width\": 1}, \"y\": [0.0, 0.0, null, 0.0, -0.034740981058275576, null, 0.0, 0.034740981058275576, null], \"hoverinfo\": \"none\", \"x\": [0.66, 1.0, null, 0.9621212121212122, 0.9288794484132434, null, 0.9621212121212122, 0.9288794484132434, null]}, {\"mode\": \"markers+text\", \"x\": [0.0], \"textposition\": \"middle center\", \"textfont\": {\"color\": \"rgb(0, 0, 0)\"}, \"marker\": {\"color\": \"rgb(0, 255, 0)\", \"line\": {\"color\": \"rgb(0, 0, 0)\", \"width\": 1}, \"size\": 20}, \"y\": [0.5], \"hoverinfo\": \"none\", \"text\": [\"0\"]}, {\"mode\": \"markers+text\", \"x\": [0.33], \"textposition\": \"middle center\", \"textfont\": {\"color\": \"rgb(0, 0, 0)\"}, \"marker\": {\"color\": \"rgb(0, 255, 0)\", \"line\": {\"color\": \"rgb(0, 0, 0)\", \"width\": 1}, \"size\": 20}, \"y\": [1.0], \"hoverinfo\": \"none\", \"text\": [\"1\"]}, {\"mode\": \"markers+text\", \"x\": [0.66], \"textposition\": \"middle center\", \"textfont\": {\"color\": \"rgb(0, 0, 0)\"}, \"marker\": {\"color\": \"rgb(255, 255, 255)\", \"line\": {\"color\": \"rgb(0, 0, 0)\", \"width\": 1}, \"size\": 20}, \"y\": [1.0], \"hoverinfo\": \"none\", \"text\": [\"2\"]}, {\"mode\": \"markers+text\", \"x\": [1.0], \"textposition\": \"middle center\", \"textfont\": {\"color\": \"rgb(0, 0, 0)\"}, \"marker\": {\"color\": \"rgb(255, 255, 255)\", \"line\": {\"color\": \"rgb(0, 0, 0)\", \"width\": 1}, \"size\": 20}, \"y\": [1.0], \"hoverinfo\": \"none\", \"text\": [\"3\"]}, {\"mode\": \"markers+text\", \"x\": [0.33], \"textposition\": \"middle center\", \"textfont\": {\"color\": \"rgb(0, 0, 0)\"}, \"marker\": {\"color\": \"rgb(255, 255, 255)\", \"line\": {\"color\": \"rgb(0, 0, 0)\", \"width\": 1}, \"size\": 20}, \"y\": [0.0], \"hoverinfo\": \"none\", \"text\": [\"4\"]}, {\"mode\": \"markers+text\", \"x\": [0.66], \"textposition\": \"middle center\", \"textfont\": {\"color\": \"rgb(0, 0, 0)\"}, \"marker\": {\"color\": \"rgb(255, 255, 255)\", \"line\": {\"color\": \"rgb(0, 0, 0)\", \"width\": 1}, \"size\": 20}, \"y\": [0.0], \"hoverinfo\": \"none\", \"text\": [\"5\"]}, {\"mode\": \"markers+text\", \"x\": [1.0], \"textposition\": \"middle center\", \"textfont\": {\"color\": \"rgb(0, 0, 0)\"}, \"marker\": {\"color\": \"rgb(255, 255, 255)\", \"line\": {\"color\": \"rgb(0, 0, 0)\", \"width\": 1}, \"size\": 20}, \"y\": [0.0], \"hoverinfo\": \"none\", \"text\": [\"6\"]}]}, {\"name\": 2, \"data\": [{\"mode\": \"lines\", \"line\": {\"color\": \"rgb(0, 0, 0)\", \"width\": 1}, \"y\": [0.5, 1.0, null, 0.9550095020335311, 0.8882926689752846, null, 0.9550095020335311, 0.9427605821595028, null], \"hoverinfo\": \"none\", \"x\": [0.0, 0.33, null, 0.3003062713421305, 0.2855225877733855, null, 0.3003062713421305, 0.2629725579755741, null]}, {\"mode\": \"lines\", \"line\": {\"color\": \"rgb(0, 0, 0)\", \"width\": 1}, \"y\": [0.5, 0.0, null, 0.04499049796646893, 0.0572394178404972, null, 0.04499049796646893, 0.11170733102471547, null], \"hoverinfo\": \"none\", \"x\": [0.0, 0.33, null, 0.3003062713421305, 0.2629725579755741, null, 0.3003062713421305, 0.2855225877733855, null]}, {\"mode\": \"lines\", \"line\": {\"color\": \"rgb(0, 0, 0)\", \"width\": 1}, \"y\": [1.0, 1.0, null, 1.0, 0.9652590189417244, null, 1.0, 1.0347409810582755, null], \"hoverinfo\": \"none\", \"x\": [0.33, 0.66, null, 0.6221212121212122, 0.5888794484132436, null, 0.6221212121212122, 0.5888794484132436, null]}, {\"mode\": \"lines\", \"line\": {\"color\": \"rgb(0, 0, 0)\", \"width\": 1}, \"y\": [1.0, 1.0, null, 1.0, 0.9652590189417244, null, 1.0, 1.0347409810582755, null], \"hoverinfo\": \"none\", \"x\": [0.66, 1.0, null, 0.9621212121212122, 0.9288794484132434, null, 0.9621212121212122, 0.9288794484132434, null]}, {\"mode\": \"lines\", \"line\": {\"color\": \"rgb(0, 0, 0)\", \"width\": 1}, \"y\": [1.0, 0.0, null, 0.06127490735002531, 0.13359437096827784, null, 0.06127490735002531, 0.09650302407543368, null], \"hoverinfo\": \"none\", \"x\": [0.66, 0.33, null, 0.35022071942550836, 0.3526100389194443, null, 0.35022071942550836, 0.3833221014449805, null]}, {\"mode\": \"lines\", \"line\": {\"color\": \"rgb(0, 0, 0)\", \"width\": 1}, \"y\": [1.0, 0.0, null, 0.06074471277448944, 0.13299554373343975, null, 0.06074471277448944, 0.09511088313140172, null], \"hoverinfo\": \"none\", \"x\": [1.0, 0.66, null, 0.6806532023433265, 0.6835549327328607, null, 0.6806532023433265, 0.7140012524011855, null]}, {\"mode\": \"lines\", \"line\": {\"color\": \"rgb(0, 0, 0)\", \"width\": 1}, \"y\": [0.0, 0.0, null, 0.0, -0.034740981058275576, null, 0.0, 0.034740981058275576, null], \"hoverinfo\": \"none\", \"x\": [0.33, 0.66, null, 0.6221212121212122, 0.5888794484132436, null, 0.6221212121212122, 0.5888794484132436, null]}, {\"mode\": \"lines\", \"line\": {\"color\": \"rgb(0, 0, 0)\", \"width\": 1}, \"y\": [0.0, 0.0, null, 0.0, -0.034740981058275576, null, 0.0, 0.034740981058275576, null], \"hoverinfo\": \"none\", \"x\": [0.66, 1.0, null, 0.9621212121212122, 0.9288794484132434, null, 0.9621212121212122, 0.9288794484132434, null]}, {\"mode\": \"markers+text\", \"x\": [0.0], \"textposition\": \"middle center\", \"textfont\": {\"color\": \"rgb(0, 0, 0)\"}, \"marker\": {\"color\": \"rgb(0, 255, 0)\", \"line\": {\"color\": \"rgb(0, 0, 0)\", \"width\": 1}, \"size\": 20}, \"y\": [0.5], \"hoverinfo\": \"none\", \"text\": [\"0\"]}, {\"mode\": \"markers+text\", \"x\": [0.33], \"textposition\": \"middle center\", \"textfont\": {\"color\": \"rgb(0, 0, 0)\"}, \"marker\": {\"color\": \"rgb(0, 255, 0)\", \"line\": {\"color\": \"rgb(0, 0, 0)\", \"width\": 1}, \"size\": 20}, \"y\": [1.0], \"hoverinfo\": \"none\", \"text\": [\"1\"]}, {\"mode\": \"markers+text\", \"x\": [0.66], \"textposition\": \"middle center\", \"textfont\": {\"color\": \"rgb(0, 0, 0)\"}, \"marker\": {\"color\": \"rgb(255, 255, 255)\", \"line\": {\"color\": \"rgb(0, 0, 0)\", \"width\": 1}, \"size\": 20}, \"y\": [1.0], \"hoverinfo\": \"none\", \"text\": [\"2\"]}, {\"mode\": \"markers+text\", \"x\": [1.0], \"textposition\": \"middle center\", \"textfont\": {\"color\": \"rgb(0, 0, 0)\"}, \"marker\": {\"color\": \"rgb(255, 255, 255)\", \"line\": {\"color\": \"rgb(0, 0, 0)\", \"width\": 1}, \"size\": 20}, \"y\": [1.0], \"hoverinfo\": \"none\", \"text\": [\"3\"]}, {\"mode\": \"markers+text\", \"x\": [0.33], \"textposition\": \"middle center\", \"textfont\": {\"color\": \"rgb(0, 0, 0)\"}, \"marker\": {\"color\": \"rgb(0, 255, 0)\", \"line\": {\"color\": \"rgb(0, 0, 0)\", \"width\": 1}, \"size\": 20}, \"y\": [0.0], \"hoverinfo\": \"none\", \"text\": [\"4\"]}, {\"mode\": \"markers+text\", \"x\": [0.66], \"textposition\": \"middle center\", \"textfont\": {\"color\": \"rgb(0, 0, 0)\"}, \"marker\": {\"color\": \"rgb(255, 255, 255)\", \"line\": {\"color\": \"rgb(0, 0, 0)\", \"width\": 1}, \"size\": 20}, \"y\": [0.0], \"hoverinfo\": \"none\", \"text\": [\"5\"]}, {\"mode\": \"markers+text\", \"x\": [1.0], \"textposition\": \"middle center\", \"textfont\": {\"color\": \"rgb(0, 0, 0)\"}, \"marker\": {\"color\": \"rgb(255, 255, 255)\", \"line\": {\"color\": \"rgb(0, 0, 0)\", \"width\": 1}, \"size\": 20}, \"y\": [0.0], \"hoverinfo\": \"none\", \"text\": [\"6\"]}]}, {\"name\": 3, \"data\": [{\"mode\": \"lines\", \"line\": {\"color\": \"rgb(0, 0, 0)\", \"width\": 1}, \"y\": [0.5, 1.0, null, 0.9550095020335311, 0.8882926689752846, null, 0.9550095020335311, 0.9427605821595028, null], \"hoverinfo\": \"none\", \"x\": [0.0, 0.33, null, 0.3003062713421305, 0.2855225877733855, null, 0.3003062713421305, 0.2629725579755741, null]}, {\"mode\": \"lines\", \"line\": {\"color\": \"rgb(0, 0, 0)\", \"width\": 1}, \"y\": [0.5, 0.0, null, 0.04499049796646893, 0.0572394178404972, null, 0.04499049796646893, 0.11170733102471547, null], \"hoverinfo\": \"none\", \"x\": [0.0, 0.33, null, 0.3003062713421305, 0.2629725579755741, null, 0.3003062713421305, 0.2855225877733855, null]}, {\"mode\": \"lines\", \"line\": {\"color\": \"rgb(0, 0, 0)\", \"width\": 1}, \"y\": [1.0, 1.0, null, 1.0, 0.9652590189417244, null, 1.0, 1.0347409810582755, null], \"hoverinfo\": \"none\", \"x\": [0.33, 0.66, null, 0.6221212121212122, 0.5888794484132436, null, 0.6221212121212122, 0.5888794484132436, null]}, {\"mode\": \"lines\", \"line\": {\"color\": \"rgb(0, 0, 0)\", \"width\": 1}, \"y\": [1.0, 1.0, null, 1.0, 0.9652590189417244, null, 1.0, 1.0347409810582755, null], \"hoverinfo\": \"none\", \"x\": [0.66, 1.0, null, 0.9621212121212122, 0.9288794484132434, null, 0.9621212121212122, 0.9288794484132434, null]}, {\"mode\": \"lines\", \"line\": {\"color\": \"rgb(0, 0, 0)\", \"width\": 1}, \"y\": [1.0, 0.0, null, 0.06127490735002531, 0.13359437096827784, null, 0.06127490735002531, 0.09650302407543368, null], \"hoverinfo\": \"none\", \"x\": [0.66, 0.33, null, 0.35022071942550836, 0.3526100389194443, null, 0.35022071942550836, 0.3833221014449805, null]}, {\"mode\": \"lines\", \"line\": {\"color\": \"rgb(0, 0, 0)\", \"width\": 1}, \"y\": [1.0, 0.0, null, 0.06074471277448944, 0.13299554373343975, null, 0.06074471277448944, 0.09511088313140172, null], \"hoverinfo\": \"none\", \"x\": [1.0, 0.66, null, 0.6806532023433265, 0.6835549327328607, null, 0.6806532023433265, 0.7140012524011855, null]}, {\"mode\": \"lines\", \"line\": {\"color\": \"rgb(0, 0, 0)\", \"width\": 1}, \"y\": [0.0, 0.0, null, 0.0, -0.034740981058275576, null, 0.0, 0.034740981058275576, null], \"hoverinfo\": \"none\", \"x\": [0.33, 0.66, null, 0.6221212121212122, 0.5888794484132436, null, 0.6221212121212122, 0.5888794484132436, null]}, {\"mode\": \"lines\", \"line\": {\"color\": \"rgb(0, 0, 0)\", \"width\": 1}, \"y\": [0.0, 0.0, null, 0.0, -0.034740981058275576, null, 0.0, 0.034740981058275576, null], \"hoverinfo\": \"none\", \"x\": [0.66, 1.0, null, 0.9621212121212122, 0.9288794484132434, null, 0.9621212121212122, 0.9288794484132434, null]}, {\"mode\": \"markers+text\", \"x\": [0.0], \"textposition\": \"middle center\", \"textfont\": {\"color\": \"rgb(0, 0, 0)\"}, \"marker\": {\"color\": \"rgb(0, 255, 0)\", \"line\": {\"color\": \"rgb(0, 0, 0)\", \"width\": 1}, \"size\": 20}, \"y\": [0.5], \"hoverinfo\": \"none\", \"text\": [\"0\"]}, {\"mode\": \"markers+text\", \"x\": [0.33], \"textposition\": \"middle center\", \"textfont\": {\"color\": \"rgb(0, 0, 0)\"}, \"marker\": {\"color\": \"rgb(0, 255, 0)\", \"line\": {\"color\": \"rgb(0, 0, 0)\", \"width\": 1}, \"size\": 20}, \"y\": [1.0], \"hoverinfo\": \"none\", \"text\": [\"1\"]}, {\"mode\": \"markers+text\", \"x\": [0.66], \"textposition\": \"middle center\", \"textfont\": {\"color\": \"rgb(0, 0, 0)\"}, \"marker\": {\"color\": \"rgb(255, 255, 255)\", \"line\": {\"color\": \"rgb(0, 0, 0)\", \"width\": 1}, \"size\": 20}, \"y\": [1.0], \"hoverinfo\": \"none\", \"text\": [\"2\"]}, {\"mode\": \"markers+text\", \"x\": [1.0], \"textposition\": \"middle center\", \"textfont\": {\"color\": \"rgb(0, 0, 0)\"}, \"marker\": {\"color\": \"rgb(255, 255, 255)\", \"line\": {\"color\": \"rgb(0, 0, 0)\", \"width\": 1}, \"size\": 20}, \"y\": [1.0], \"hoverinfo\": \"none\", \"text\": [\"3\"]}, {\"mode\": \"markers+text\", \"x\": [0.33], \"textposition\": \"middle center\", \"textfont\": {\"color\": \"rgb(0, 0, 0)\"}, \"marker\": {\"color\": \"rgb(0, 255, 0)\", \"line\": {\"color\": \"rgb(0, 0, 0)\", \"width\": 1}, \"size\": 20}, \"y\": [0.0], \"hoverinfo\": \"none\", \"text\": [\"4\"]}, {\"mode\": \"markers+text\", \"x\": [0.66], \"textposition\": \"middle center\", \"textfont\": {\"color\": \"rgb(0, 0, 0)\"}, \"marker\": {\"color\": \"rgb(0, 255, 0)\", \"line\": {\"color\": \"rgb(0, 0, 0)\", \"width\": 1}, \"size\": 20}, \"y\": [0.0], \"hoverinfo\": \"none\", \"text\": [\"5\"]}, {\"mode\": \"markers+text\", \"x\": [1.0], \"textposition\": \"middle center\", \"textfont\": {\"color\": \"rgb(0, 0, 0)\"}, \"marker\": {\"color\": \"rgb(255, 255, 255)\", \"line\": {\"color\": \"rgb(0, 0, 0)\", \"width\": 1}, \"size\": 20}, \"y\": [0.0], \"hoverinfo\": \"none\", \"text\": [\"6\"]}]}, {\"name\": 4, \"data\": [{\"mode\": \"lines\", \"line\": {\"color\": \"rgb(0, 0, 0)\", \"width\": 1}, \"y\": [0.5, 1.0, null, 0.9550095020335311, 0.8882926689752846, null, 0.9550095020335311, 0.9427605821595028, null], \"hoverinfo\": \"none\", \"x\": [0.0, 0.33, null, 0.3003062713421305, 0.2855225877733855, null, 0.3003062713421305, 0.2629725579755741, null]}, {\"mode\": \"lines\", \"line\": {\"color\": \"rgb(0, 0, 0)\", \"width\": 1}, \"y\": [0.5, 0.0, null, 0.04499049796646893, 0.0572394178404972, null, 0.04499049796646893, 0.11170733102471547, null], \"hoverinfo\": \"none\", \"x\": [0.0, 0.33, null, 0.3003062713421305, 0.2629725579755741, null, 0.3003062713421305, 0.2855225877733855, null]}, {\"mode\": \"lines\", \"line\": {\"color\": \"rgb(0, 0, 0)\", \"width\": 1}, \"y\": [1.0, 1.0, null, 1.0, 0.9652590189417244, null, 1.0, 1.0347409810582755, null], \"hoverinfo\": \"none\", \"x\": [0.33, 0.66, null, 0.6221212121212122, 0.5888794484132436, null, 0.6221212121212122, 0.5888794484132436, null]}, {\"mode\": \"lines\", \"line\": {\"color\": \"rgb(0, 0, 0)\", \"width\": 1}, \"y\": [1.0, 1.0, null, 1.0, 0.9652590189417244, null, 1.0, 1.0347409810582755, null], \"hoverinfo\": \"none\", \"x\": [0.66, 1.0, null, 0.9621212121212122, 0.9288794484132434, null, 0.9621212121212122, 0.9288794484132434, null]}, {\"mode\": \"lines\", \"line\": {\"color\": \"rgb(0, 0, 0)\", \"width\": 1}, \"y\": [1.0, 0.0, null, 0.06127490735002531, 0.13359437096827784, null, 0.06127490735002531, 0.09650302407543368, null], \"hoverinfo\": \"none\", \"x\": [0.66, 0.33, null, 0.35022071942550836, 0.3526100389194443, null, 0.35022071942550836, 0.3833221014449805, null]}, {\"mode\": \"lines\", \"line\": {\"color\": \"rgb(0, 0, 0)\", \"width\": 1}, \"y\": [1.0, 0.0, null, 0.06074471277448944, 0.13299554373343975, null, 0.06074471277448944, 0.09511088313140172, null], \"hoverinfo\": \"none\", \"x\": [1.0, 0.66, null, 0.6806532023433265, 0.6835549327328607, null, 0.6806532023433265, 0.7140012524011855, null]}, {\"mode\": \"lines\", \"line\": {\"color\": \"rgb(0, 0, 0)\", \"width\": 1}, \"y\": [0.0, 0.0, null, 0.0, -0.034740981058275576, null, 0.0, 0.034740981058275576, null], \"hoverinfo\": \"none\", \"x\": [0.33, 0.66, null, 0.6221212121212122, 0.5888794484132436, null, 0.6221212121212122, 0.5888794484132436, null]}, {\"mode\": \"lines\", \"line\": {\"color\": \"rgb(0, 0, 0)\", \"width\": 1}, \"y\": [0.0, 0.0, null, 0.0, -0.034740981058275576, null, 0.0, 0.034740981058275576, null], \"hoverinfo\": \"none\", \"x\": [0.66, 1.0, null, 0.9621212121212122, 0.9288794484132434, null, 0.9621212121212122, 0.9288794484132434, null]}, {\"mode\": \"markers+text\", \"x\": [0.0], \"textposition\": \"middle center\", \"textfont\": {\"color\": \"rgb(0, 0, 0)\"}, \"marker\": {\"color\": \"rgb(0, 255, 0)\", \"line\": {\"color\": \"rgb(0, 0, 0)\", \"width\": 1}, \"size\": 20}, \"y\": [0.5], \"hoverinfo\": \"none\", \"text\": [\"0\"]}, {\"mode\": \"markers+text\", \"x\": [0.33], \"textposition\": \"middle center\", \"textfont\": {\"color\": \"rgb(0, 0, 0)\"}, \"marker\": {\"color\": \"rgb(0, 255, 0)\", \"line\": {\"color\": \"rgb(0, 0, 0)\", \"width\": 1}, \"size\": 20}, \"y\": [1.0], \"hoverinfo\": \"none\", \"text\": [\"1\"]}, {\"mode\": \"markers+text\", \"x\": [0.66], \"textposition\": \"middle center\", \"textfont\": {\"color\": \"rgb(0, 0, 0)\"}, \"marker\": {\"color\": \"rgb(255, 255, 255)\", \"line\": {\"color\": \"rgb(0, 0, 0)\", \"width\": 1}, \"size\": 20}, \"y\": [1.0], \"hoverinfo\": \"none\", \"text\": [\"2\"]}, {\"mode\": \"markers+text\", \"x\": [1.0], \"textposition\": \"middle center\", \"textfont\": {\"color\": \"rgb(0, 0, 0)\"}, \"marker\": {\"color\": \"rgb(255, 255, 255)\", \"line\": {\"color\": \"rgb(0, 0, 0)\", \"width\": 1}, \"size\": 20}, \"y\": [1.0], \"hoverinfo\": \"none\", \"text\": [\"3\"]}, {\"mode\": \"markers+text\", \"x\": [0.33], \"textposition\": \"middle center\", \"textfont\": {\"color\": \"rgb(0, 0, 0)\"}, \"marker\": {\"color\": \"rgb(0, 255, 0)\", \"line\": {\"color\": \"rgb(0, 0, 0)\", \"width\": 1}, \"size\": 20}, \"y\": [0.0], \"hoverinfo\": \"none\", \"text\": [\"4\"]}, {\"mode\": \"markers+text\", \"x\": [0.66], \"textposition\": \"middle center\", \"textfont\": {\"color\": \"rgb(0, 0, 0)\"}, \"marker\": {\"color\": \"rgb(0, 255, 0)\", \"line\": {\"color\": \"rgb(0, 0, 0)\", \"width\": 1}, \"size\": 20}, \"y\": [0.0], \"hoverinfo\": \"none\", \"text\": [\"5\"]}, {\"mode\": \"markers+text\", \"x\": [1.0], \"textposition\": \"middle center\", \"textfont\": {\"color\": \"rgb(0, 0, 0)\"}, \"marker\": {\"color\": \"rgb(0, 255, 0)\", \"line\": {\"color\": \"rgb(0, 0, 0)\", \"width\": 1}, \"size\": 20}, \"y\": [0.0], \"hoverinfo\": \"none\", \"text\": [\"6\"]}]}, {\"name\": 5, \"data\": [{\"mode\": \"lines\", \"line\": {\"color\": \"rgb(0, 0, 0)\", \"width\": 1}, \"y\": [0.5, 1.0, null, 0.9550095020335311, 0.8882926689752846, null, 0.9550095020335311, 0.9427605821595028, null], \"hoverinfo\": \"none\", \"x\": [0.0, 0.33, null, 0.3003062713421305, 0.2855225877733855, null, 0.3003062713421305, 0.2629725579755741, null]}, {\"mode\": \"lines\", \"line\": {\"color\": \"rgb(0, 0, 0)\", \"width\": 1}, \"y\": [0.5, 0.0, null, 0.04499049796646893, 0.0572394178404972, null, 0.04499049796646893, 0.11170733102471547, null], \"hoverinfo\": \"none\", \"x\": [0.0, 0.33, null, 0.3003062713421305, 0.2629725579755741, null, 0.3003062713421305, 0.2855225877733855, null]}, {\"mode\": \"lines\", \"line\": {\"color\": \"rgb(0, 0, 0)\", \"width\": 1}, \"y\": [1.0, 1.0, null, 1.0, 0.9652590189417244, null, 1.0, 1.0347409810582755, null], \"hoverinfo\": \"none\", \"x\": [0.33, 0.66, null, 0.6221212121212122, 0.5888794484132436, null, 0.6221212121212122, 0.5888794484132436, null]}, {\"mode\": \"lines\", \"line\": {\"color\": \"rgb(0, 0, 0)\", \"width\": 1}, \"y\": [1.0, 1.0, null, 1.0, 0.9652590189417244, null, 1.0, 1.0347409810582755, null], \"hoverinfo\": \"none\", \"x\": [0.66, 1.0, null, 0.9621212121212122, 0.9288794484132434, null, 0.9621212121212122, 0.9288794484132434, null]}, {\"mode\": \"lines\", \"line\": {\"color\": \"rgb(0, 0, 0)\", \"width\": 1}, \"y\": [1.0, 0.0, null, 0.06127490735002531, 0.13359437096827784, null, 0.06127490735002531, 0.09650302407543368, null], \"hoverinfo\": \"none\", \"x\": [0.66, 0.33, null, 0.35022071942550836, 0.3526100389194443, null, 0.35022071942550836, 0.3833221014449805, null]}, {\"mode\": \"lines\", \"line\": {\"color\": \"rgb(0, 0, 0)\", \"width\": 1}, \"y\": [1.0, 0.0, null, 0.06074471277448944, 0.13299554373343975, null, 0.06074471277448944, 0.09511088313140172, null], \"hoverinfo\": \"none\", \"x\": [1.0, 0.66, null, 0.6806532023433265, 0.6835549327328607, null, 0.6806532023433265, 0.7140012524011855, null]}, {\"mode\": \"lines\", \"line\": {\"color\": \"rgb(0, 0, 0)\", \"width\": 1}, \"y\": [0.0, 0.0, null, 0.0, -0.034740981058275576, null, 0.0, 0.034740981058275576, null], \"hoverinfo\": \"none\", \"x\": [0.33, 0.66, null, 0.6221212121212122, 0.5888794484132436, null, 0.6221212121212122, 0.5888794484132436, null]}, {\"mode\": \"lines\", \"line\": {\"color\": \"rgb(0, 0, 0)\", \"width\": 1}, \"y\": [0.0, 0.0, null, 0.0, -0.034740981058275576, null, 0.0, 0.034740981058275576, null], \"hoverinfo\": \"none\", \"x\": [0.66, 1.0, null, 0.9621212121212122, 0.9288794484132434, null, 0.9621212121212122, 0.9288794484132434, null]}, {\"mode\": \"markers+text\", \"x\": [0.0], \"textposition\": \"middle center\", \"textfont\": {\"color\": \"rgb(0, 0, 0)\"}, \"marker\": {\"color\": \"rgb(0, 255, 0)\", \"line\": {\"color\": \"rgb(0, 0, 0)\", \"width\": 1}, \"size\": 20}, \"y\": [0.5], \"hoverinfo\": \"none\", \"text\": [\"0\"]}, {\"mode\": \"markers+text\", \"x\": [0.33], \"textposition\": \"middle center\", \"textfont\": {\"color\": \"rgb(0, 0, 0)\"}, \"marker\": {\"color\": \"rgb(0, 255, 0)\", \"line\": {\"color\": \"rgb(0, 0, 0)\", \"width\": 1}, \"size\": 20}, \"y\": [1.0], \"hoverinfo\": \"none\", \"text\": [\"1\"]}, {\"mode\": \"markers+text\", \"x\": [0.66], \"textposition\": \"middle center\", \"textfont\": {\"color\": \"rgb(0, 0, 0)\"}, \"marker\": {\"color\": \"rgb(0, 255, 0)\", \"line\": {\"color\": \"rgb(0, 0, 0)\", \"width\": 1}, \"size\": 20}, \"y\": [1.0], \"hoverinfo\": \"none\", \"text\": [\"2\"]}, {\"mode\": \"markers+text\", \"x\": [1.0], \"textposition\": \"middle center\", \"textfont\": {\"color\": \"rgb(0, 0, 0)\"}, \"marker\": {\"color\": \"rgb(255, 255, 255)\", \"line\": {\"color\": \"rgb(0, 0, 0)\", \"width\": 1}, \"size\": 20}, \"y\": [1.0], \"hoverinfo\": \"none\", \"text\": [\"3\"]}, {\"mode\": \"markers+text\", \"x\": [0.33], \"textposition\": \"middle center\", \"textfont\": {\"color\": \"rgb(0, 0, 0)\"}, \"marker\": {\"color\": \"rgb(0, 255, 0)\", \"line\": {\"color\": \"rgb(0, 0, 0)\", \"width\": 1}, \"size\": 20}, \"y\": [0.0], \"hoverinfo\": \"none\", \"text\": [\"4\"]}, {\"mode\": \"markers+text\", \"x\": [0.66], \"textposition\": \"middle center\", \"textfont\": {\"color\": \"rgb(0, 0, 0)\"}, \"marker\": {\"color\": \"rgb(0, 255, 0)\", \"line\": {\"color\": \"rgb(0, 0, 0)\", \"width\": 1}, \"size\": 20}, \"y\": [0.0], \"hoverinfo\": \"none\", \"text\": [\"5\"]}, {\"mode\": \"markers+text\", \"x\": [1.0], \"textposition\": \"middle center\", \"textfont\": {\"color\": \"rgb(0, 0, 0)\"}, \"marker\": {\"color\": \"rgb(0, 255, 0)\", \"line\": {\"color\": \"rgb(0, 0, 0)\", \"width\": 1}, \"size\": 20}, \"y\": [0.0], \"hoverinfo\": \"none\", \"text\": [\"6\"]}]}, {\"name\": 6, \"data\": [{\"mode\": \"lines\", \"line\": {\"color\": \"rgb(0, 0, 0)\", \"width\": 1}, \"y\": [0.5, 1.0, null, 0.9550095020335311, 0.8882926689752846, null, 0.9550095020335311, 0.9427605821595028, null], \"hoverinfo\": \"none\", \"x\": [0.0, 0.33, null, 0.3003062713421305, 0.2855225877733855, null, 0.3003062713421305, 0.2629725579755741, null]}, {\"mode\": \"lines\", \"line\": {\"color\": \"rgb(0, 0, 0)\", \"width\": 1}, \"y\": [0.5, 0.0, null, 0.04499049796646893, 0.0572394178404972, null, 0.04499049796646893, 0.11170733102471547, null], \"hoverinfo\": \"none\", \"x\": [0.0, 0.33, null, 0.3003062713421305, 0.2629725579755741, null, 0.3003062713421305, 0.2855225877733855, null]}, {\"mode\": \"lines\", \"line\": {\"color\": \"rgb(0, 0, 0)\", \"width\": 1}, \"y\": [1.0, 1.0, null, 1.0, 0.9652590189417244, null, 1.0, 1.0347409810582755, null], \"hoverinfo\": \"none\", \"x\": [0.33, 0.66, null, 0.6221212121212122, 0.5888794484132436, null, 0.6221212121212122, 0.5888794484132436, null]}, {\"mode\": \"lines\", \"line\": {\"color\": \"rgb(0, 0, 0)\", \"width\": 1}, \"y\": [1.0, 1.0, null, 1.0, 0.9652590189417244, null, 1.0, 1.0347409810582755, null], \"hoverinfo\": \"none\", \"x\": [0.66, 1.0, null, 0.9621212121212122, 0.9288794484132434, null, 0.9621212121212122, 0.9288794484132434, null]}, {\"mode\": \"lines\", \"line\": {\"color\": \"rgb(0, 0, 0)\", \"width\": 1}, \"y\": [1.0, 0.0, null, 0.06127490735002531, 0.13359437096827784, null, 0.06127490735002531, 0.09650302407543368, null], \"hoverinfo\": \"none\", \"x\": [0.66, 0.33, null, 0.35022071942550836, 0.3526100389194443, null, 0.35022071942550836, 0.3833221014449805, null]}, {\"mode\": \"lines\", \"line\": {\"color\": \"rgb(0, 0, 0)\", \"width\": 1}, \"y\": [1.0, 0.0, null, 0.06074471277448944, 0.13299554373343975, null, 0.06074471277448944, 0.09511088313140172, null], \"hoverinfo\": \"none\", \"x\": [1.0, 0.66, null, 0.6806532023433265, 0.6835549327328607, null, 0.6806532023433265, 0.7140012524011855, null]}, {\"mode\": \"lines\", \"line\": {\"color\": \"rgb(0, 0, 0)\", \"width\": 1}, \"y\": [0.0, 0.0, null, 0.0, -0.034740981058275576, null, 0.0, 0.034740981058275576, null], \"hoverinfo\": \"none\", \"x\": [0.33, 0.66, null, 0.6221212121212122, 0.5888794484132436, null, 0.6221212121212122, 0.5888794484132436, null]}, {\"mode\": \"lines\", \"line\": {\"color\": \"rgb(0, 0, 0)\", \"width\": 1}, \"y\": [0.0, 0.0, null, 0.0, -0.034740981058275576, null, 0.0, 0.034740981058275576, null], \"hoverinfo\": \"none\", \"x\": [0.66, 1.0, null, 0.9621212121212122, 0.9288794484132434, null, 0.9621212121212122, 0.9288794484132434, null]}, {\"mode\": \"markers+text\", \"x\": [0.0], \"textposition\": \"middle center\", \"textfont\": {\"color\": \"rgb(0, 0, 0)\"}, \"marker\": {\"color\": \"rgb(0, 255, 0)\", \"line\": {\"color\": \"rgb(0, 0, 0)\", \"width\": 1}, \"size\": 20}, \"y\": [0.5], \"hoverinfo\": \"none\", \"text\": [\"0\"]}, {\"mode\": \"markers+text\", \"x\": [0.33], \"textposition\": \"middle center\", \"textfont\": {\"color\": \"rgb(0, 0, 0)\"}, \"marker\": {\"color\": \"rgb(0, 255, 0)\", \"line\": {\"color\": \"rgb(0, 0, 0)\", \"width\": 1}, \"size\": 20}, \"y\": [1.0], \"hoverinfo\": \"none\", \"text\": [\"1\"]}, {\"mode\": \"markers+text\", \"x\": [0.66], \"textposition\": \"middle center\", \"textfont\": {\"color\": \"rgb(0, 0, 0)\"}, \"marker\": {\"color\": \"rgb(0, 255, 0)\", \"line\": {\"color\": \"rgb(0, 0, 0)\", \"width\": 1}, \"size\": 20}, \"y\": [1.0], \"hoverinfo\": \"none\", \"text\": [\"2\"]}, {\"mode\": \"markers+text\", \"x\": [1.0], \"textposition\": \"middle center\", \"textfont\": {\"color\": \"rgb(0, 0, 0)\"}, \"marker\": {\"color\": \"rgb(0, 255, 0)\", \"line\": {\"color\": \"rgb(0, 0, 0)\", \"width\": 1}, \"size\": 20}, \"y\": [1.0], \"hoverinfo\": \"none\", \"text\": [\"3\"]}, {\"mode\": \"markers+text\", \"x\": [0.33], \"textposition\": \"middle center\", \"textfont\": {\"color\": \"rgb(0, 0, 0)\"}, \"marker\": {\"color\": \"rgb(0, 255, 0)\", \"line\": {\"color\": \"rgb(0, 0, 0)\", \"width\": 1}, \"size\": 20}, \"y\": [0.0], \"hoverinfo\": \"none\", \"text\": [\"4\"]}, {\"mode\": \"markers+text\", \"x\": [0.66], \"textposition\": \"middle center\", \"textfont\": {\"color\": \"rgb(0, 0, 0)\"}, \"marker\": {\"color\": \"rgb(0, 255, 0)\", \"line\": {\"color\": \"rgb(0, 0, 0)\", \"width\": 1}, \"size\": 20}, \"y\": [0.0], \"hoverinfo\": \"none\", \"text\": [\"5\"]}, {\"mode\": \"markers+text\", \"x\": [1.0], \"textposition\": \"middle center\", \"textfont\": {\"color\": \"rgb(0, 0, 0)\"}, \"marker\": {\"color\": \"rgb(0, 255, 0)\", \"line\": {\"color\": \"rgb(0, 0, 0)\", \"width\": 1}, \"size\": 20}, \"y\": [0.0], \"hoverinfo\": \"none\", \"text\": [\"6\"]}]}]);}).then(function(){Plotly.animate('0912f39d-00d4-4f42-96a0-b230e1ae4c8b');})\n",
       "        });</script>"
      ]
     },
     "metadata": {},
     "output_type": "display_data"
    }
   ],
   "source": [
    "def dfs(g, s, frames):\n",
    "    sn.reset_node_colors(g)\n",
    "    for n in g.nodes:\n",
    "        g.nodes[n]['visited'] = False\n",
    "\n",
    "    g.nodes[s]['color'] = (0, 255, 0)\n",
    "    g.nodes[s]['visited'] = True\n",
    "\n",
    "    frame = sn.generate_frame(g, nlab=True)\n",
    "    frames.append(frame)\n",
    "\n",
    "    stack = []\n",
    "    stack.append(s)\n",
    "\n",
    "    while stack:\n",
    "        n = stack.pop()\n",
    "\n",
    "        for m in g.successors(n):\n",
    "            if not g.nodes[m]['visited']:\n",
    "                g.nodes[m]['color'] = (0, 255, 0)\n",
    "                g.nodes[m]['visited'] = True\n",
    "\n",
    "                frame = sn.generate_frame(g, nlab=True)\n",
    "                frames.append(frame)\n",
    "\n",
    "                stack.append(m)\n",
    "\n",
    "\n",
    "frames = []\n",
    "\n",
    "dfs(g, 0, frames)\n",
    "\n",
    "sn.show_animation(frames)"
   ]
  },
  {
   "cell_type": "markdown",
   "metadata": {},
   "source": [
    "## Busca em largura\n",
    "\n",
    "Dica: https://docs.python.org/3/library/queue.html"
   ]
  },
  {
   "cell_type": "code",
   "execution_count": 16,
   "metadata": {},
   "outputs": [
    {
     "data": {
      "application/vnd.plotly.v1+json": {
       "data": [
        {
         "hoverinfo": "none",
         "line": {
          "color": "rgb(0, 0, 0)",
          "width": 1
         },
         "mode": "lines",
         "x": [
          0,
          0.33,
          null,
          0.3003062713421305,
          0.2855225877733855,
          null,
          0.3003062713421305,
          0.2629725579755741,
          null
         ],
         "y": [
          0.5,
          1,
          null,
          0.9550095020335311,
          0.8882926689752846,
          null,
          0.9550095020335311,
          0.9427605821595028,
          null
         ]
        },
        {
         "hoverinfo": "none",
         "line": {
          "color": "rgb(0, 0, 0)",
          "width": 1
         },
         "mode": "lines",
         "x": [
          0,
          0.33,
          null,
          0.3003062713421305,
          0.2629725579755741,
          null,
          0.3003062713421305,
          0.2855225877733855,
          null
         ],
         "y": [
          0.5,
          0,
          null,
          0.04499049796646893,
          0.0572394178404972,
          null,
          0.04499049796646893,
          0.11170733102471547,
          null
         ]
        },
        {
         "hoverinfo": "none",
         "line": {
          "color": "rgb(0, 0, 0)",
          "width": 1
         },
         "mode": "lines",
         "x": [
          0.33,
          0.66,
          null,
          0.6221212121212122,
          0.5888794484132436,
          null,
          0.6221212121212122,
          0.5888794484132436,
          null
         ],
         "y": [
          1,
          1,
          null,
          1,
          0.9652590189417244,
          null,
          1,
          1.0347409810582755,
          null
         ]
        },
        {
         "hoverinfo": "none",
         "line": {
          "color": "rgb(0, 0, 0)",
          "width": 1
         },
         "mode": "lines",
         "x": [
          0.66,
          1,
          null,
          0.9621212121212122,
          0.9288794484132434,
          null,
          0.9621212121212122,
          0.9288794484132434,
          null
         ],
         "y": [
          1,
          1,
          null,
          1,
          0.9652590189417244,
          null,
          1,
          1.0347409810582755,
          null
         ]
        },
        {
         "hoverinfo": "none",
         "line": {
          "color": "rgb(0, 0, 0)",
          "width": 1
         },
         "mode": "lines",
         "x": [
          0.66,
          0.33,
          null,
          0.35022071942550836,
          0.3526100389194443,
          null,
          0.35022071942550836,
          0.3833221014449805,
          null
         ],
         "y": [
          1,
          0,
          null,
          0.06127490735002531,
          0.13359437096827784,
          null,
          0.06127490735002531,
          0.09650302407543368,
          null
         ]
        },
        {
         "hoverinfo": "none",
         "line": {
          "color": "rgb(0, 0, 0)",
          "width": 1
         },
         "mode": "lines",
         "x": [
          1,
          0.66,
          null,
          0.6806532023433265,
          0.6835549327328607,
          null,
          0.6806532023433265,
          0.7140012524011855,
          null
         ],
         "y": [
          1,
          0,
          null,
          0.06074471277448944,
          0.13299554373343975,
          null,
          0.06074471277448944,
          0.09511088313140172,
          null
         ]
        },
        {
         "hoverinfo": "none",
         "line": {
          "color": "rgb(0, 0, 0)",
          "width": 1
         },
         "mode": "lines",
         "x": [
          0.33,
          0.66,
          null,
          0.6221212121212122,
          0.5888794484132436,
          null,
          0.6221212121212122,
          0.5888794484132436,
          null
         ],
         "y": [
          0,
          0,
          null,
          0,
          -0.034740981058275576,
          null,
          0,
          0.034740981058275576,
          null
         ]
        },
        {
         "hoverinfo": "none",
         "line": {
          "color": "rgb(0, 0, 0)",
          "width": 1
         },
         "mode": "lines",
         "x": [
          0.66,
          1,
          null,
          0.9621212121212122,
          0.9288794484132434,
          null,
          0.9621212121212122,
          0.9288794484132434,
          null
         ],
         "y": [
          0,
          0,
          null,
          0,
          -0.034740981058275576,
          null,
          0,
          0.034740981058275576,
          null
         ]
        },
        {
         "hoverinfo": "none",
         "marker": {
          "color": "rgb(0, 255, 0)",
          "line": {
           "color": "rgb(0, 0, 0)",
           "width": 1
          },
          "size": 20
         },
         "mode": "markers+text",
         "text": [
          "0"
         ],
         "textfont": {
          "color": "rgb(0, 0, 0)"
         },
         "textposition": "middle center",
         "x": [
          0
         ],
         "y": [
          0.5
         ]
        },
        {
         "hoverinfo": "none",
         "marker": {
          "color": "rgb(255, 255, 255)",
          "line": {
           "color": "rgb(0, 0, 0)",
           "width": 1
          },
          "size": 20
         },
         "mode": "markers+text",
         "text": [
          "1"
         ],
         "textfont": {
          "color": "rgb(0, 0, 0)"
         },
         "textposition": "middle center",
         "x": [
          0.33
         ],
         "y": [
          1
         ]
        },
        {
         "hoverinfo": "none",
         "marker": {
          "color": "rgb(255, 255, 255)",
          "line": {
           "color": "rgb(0, 0, 0)",
           "width": 1
          },
          "size": 20
         },
         "mode": "markers+text",
         "text": [
          "2"
         ],
         "textfont": {
          "color": "rgb(0, 0, 0)"
         },
         "textposition": "middle center",
         "x": [
          0.66
         ],
         "y": [
          1
         ]
        },
        {
         "hoverinfo": "none",
         "marker": {
          "color": "rgb(255, 255, 255)",
          "line": {
           "color": "rgb(0, 0, 0)",
           "width": 1
          },
          "size": 20
         },
         "mode": "markers+text",
         "text": [
          "3"
         ],
         "textfont": {
          "color": "rgb(0, 0, 0)"
         },
         "textposition": "middle center",
         "x": [
          1
         ],
         "y": [
          1
         ]
        },
        {
         "hoverinfo": "none",
         "marker": {
          "color": "rgb(255, 255, 255)",
          "line": {
           "color": "rgb(0, 0, 0)",
           "width": 1
          },
          "size": 20
         },
         "mode": "markers+text",
         "text": [
          "4"
         ],
         "textfont": {
          "color": "rgb(0, 0, 0)"
         },
         "textposition": "middle center",
         "x": [
          0.33
         ],
         "y": [
          0
         ]
        },
        {
         "hoverinfo": "none",
         "marker": {
          "color": "rgb(255, 255, 255)",
          "line": {
           "color": "rgb(0, 0, 0)",
           "width": 1
          },
          "size": 20
         },
         "mode": "markers+text",
         "text": [
          "5"
         ],
         "textfont": {
          "color": "rgb(0, 0, 0)"
         },
         "textposition": "middle center",
         "x": [
          0.66
         ],
         "y": [
          0
         ]
        },
        {
         "hoverinfo": "none",
         "marker": {
          "color": "rgb(255, 255, 255)",
          "line": {
           "color": "rgb(0, 0, 0)",
           "width": 1
          },
          "size": 20
         },
         "mode": "markers+text",
         "text": [
          "6"
         ],
         "textfont": {
          "color": "rgb(0, 0, 0)"
         },
         "textposition": "middle center",
         "x": [
          1
         ],
         "y": [
          0
         ]
        }
       ],
       "frames": [
        {
         "data": [
          {
           "hoverinfo": "none",
           "line": {
            "color": "rgb(0, 0, 0)",
            "width": 1
           },
           "mode": "lines",
           "x": [
            0,
            0.33,
            null,
            0.3003062713421305,
            0.2855225877733855,
            null,
            0.3003062713421305,
            0.2629725579755741,
            null
           ],
           "y": [
            0.5,
            1,
            null,
            0.9550095020335311,
            0.8882926689752846,
            null,
            0.9550095020335311,
            0.9427605821595028,
            null
           ]
          },
          {
           "hoverinfo": "none",
           "line": {
            "color": "rgb(0, 0, 0)",
            "width": 1
           },
           "mode": "lines",
           "x": [
            0,
            0.33,
            null,
            0.3003062713421305,
            0.2629725579755741,
            null,
            0.3003062713421305,
            0.2855225877733855,
            null
           ],
           "y": [
            0.5,
            0,
            null,
            0.04499049796646893,
            0.0572394178404972,
            null,
            0.04499049796646893,
            0.11170733102471547,
            null
           ]
          },
          {
           "hoverinfo": "none",
           "line": {
            "color": "rgb(0, 0, 0)",
            "width": 1
           },
           "mode": "lines",
           "x": [
            0.33,
            0.66,
            null,
            0.6221212121212122,
            0.5888794484132436,
            null,
            0.6221212121212122,
            0.5888794484132436,
            null
           ],
           "y": [
            1,
            1,
            null,
            1,
            0.9652590189417244,
            null,
            1,
            1.0347409810582755,
            null
           ]
          },
          {
           "hoverinfo": "none",
           "line": {
            "color": "rgb(0, 0, 0)",
            "width": 1
           },
           "mode": "lines",
           "x": [
            0.66,
            1,
            null,
            0.9621212121212122,
            0.9288794484132434,
            null,
            0.9621212121212122,
            0.9288794484132434,
            null
           ],
           "y": [
            1,
            1,
            null,
            1,
            0.9652590189417244,
            null,
            1,
            1.0347409810582755,
            null
           ]
          },
          {
           "hoverinfo": "none",
           "line": {
            "color": "rgb(0, 0, 0)",
            "width": 1
           },
           "mode": "lines",
           "x": [
            0.66,
            0.33,
            null,
            0.35022071942550836,
            0.3526100389194443,
            null,
            0.35022071942550836,
            0.3833221014449805,
            null
           ],
           "y": [
            1,
            0,
            null,
            0.06127490735002531,
            0.13359437096827784,
            null,
            0.06127490735002531,
            0.09650302407543368,
            null
           ]
          },
          {
           "hoverinfo": "none",
           "line": {
            "color": "rgb(0, 0, 0)",
            "width": 1
           },
           "mode": "lines",
           "x": [
            1,
            0.66,
            null,
            0.6806532023433265,
            0.6835549327328607,
            null,
            0.6806532023433265,
            0.7140012524011855,
            null
           ],
           "y": [
            1,
            0,
            null,
            0.06074471277448944,
            0.13299554373343975,
            null,
            0.06074471277448944,
            0.09511088313140172,
            null
           ]
          },
          {
           "hoverinfo": "none",
           "line": {
            "color": "rgb(0, 0, 0)",
            "width": 1
           },
           "mode": "lines",
           "x": [
            0.33,
            0.66,
            null,
            0.6221212121212122,
            0.5888794484132436,
            null,
            0.6221212121212122,
            0.5888794484132436,
            null
           ],
           "y": [
            0,
            0,
            null,
            0,
            -0.034740981058275576,
            null,
            0,
            0.034740981058275576,
            null
           ]
          },
          {
           "hoverinfo": "none",
           "line": {
            "color": "rgb(0, 0, 0)",
            "width": 1
           },
           "mode": "lines",
           "x": [
            0.66,
            1,
            null,
            0.9621212121212122,
            0.9288794484132434,
            null,
            0.9621212121212122,
            0.9288794484132434,
            null
           ],
           "y": [
            0,
            0,
            null,
            0,
            -0.034740981058275576,
            null,
            0,
            0.034740981058275576,
            null
           ]
          },
          {
           "hoverinfo": "none",
           "marker": {
            "color": "rgb(0, 255, 0)",
            "line": {
             "color": "rgb(0, 0, 0)",
             "width": 1
            },
            "size": 20
           },
           "mode": "markers+text",
           "text": [
            "0"
           ],
           "textfont": {
            "color": "rgb(0, 0, 0)"
           },
           "textposition": "middle center",
           "x": [
            0
           ],
           "y": [
            0.5
           ]
          },
          {
           "hoverinfo": "none",
           "marker": {
            "color": "rgb(255, 255, 255)",
            "line": {
             "color": "rgb(0, 0, 0)",
             "width": 1
            },
            "size": 20
           },
           "mode": "markers+text",
           "text": [
            "1"
           ],
           "textfont": {
            "color": "rgb(0, 0, 0)"
           },
           "textposition": "middle center",
           "x": [
            0.33
           ],
           "y": [
            1
           ]
          },
          {
           "hoverinfo": "none",
           "marker": {
            "color": "rgb(255, 255, 255)",
            "line": {
             "color": "rgb(0, 0, 0)",
             "width": 1
            },
            "size": 20
           },
           "mode": "markers+text",
           "text": [
            "2"
           ],
           "textfont": {
            "color": "rgb(0, 0, 0)"
           },
           "textposition": "middle center",
           "x": [
            0.66
           ],
           "y": [
            1
           ]
          },
          {
           "hoverinfo": "none",
           "marker": {
            "color": "rgb(255, 255, 255)",
            "line": {
             "color": "rgb(0, 0, 0)",
             "width": 1
            },
            "size": 20
           },
           "mode": "markers+text",
           "text": [
            "3"
           ],
           "textfont": {
            "color": "rgb(0, 0, 0)"
           },
           "textposition": "middle center",
           "x": [
            1
           ],
           "y": [
            1
           ]
          },
          {
           "hoverinfo": "none",
           "marker": {
            "color": "rgb(255, 255, 255)",
            "line": {
             "color": "rgb(0, 0, 0)",
             "width": 1
            },
            "size": 20
           },
           "mode": "markers+text",
           "text": [
            "4"
           ],
           "textfont": {
            "color": "rgb(0, 0, 0)"
           },
           "textposition": "middle center",
           "x": [
            0.33
           ],
           "y": [
            0
           ]
          },
          {
           "hoverinfo": "none",
           "marker": {
            "color": "rgb(255, 255, 255)",
            "line": {
             "color": "rgb(0, 0, 0)",
             "width": 1
            },
            "size": 20
           },
           "mode": "markers+text",
           "text": [
            "5"
           ],
           "textfont": {
            "color": "rgb(0, 0, 0)"
           },
           "textposition": "middle center",
           "x": [
            0.66
           ],
           "y": [
            0
           ]
          },
          {
           "hoverinfo": "none",
           "marker": {
            "color": "rgb(255, 255, 255)",
            "line": {
             "color": "rgb(0, 0, 0)",
             "width": 1
            },
            "size": 20
           },
           "mode": "markers+text",
           "text": [
            "6"
           ],
           "textfont": {
            "color": "rgb(0, 0, 0)"
           },
           "textposition": "middle center",
           "x": [
            1
           ],
           "y": [
            0
           ]
          }
         ],
         "name": 0
        },
        {
         "data": [
          {
           "hoverinfo": "none",
           "line": {
            "color": "rgb(0, 0, 0)",
            "width": 1
           },
           "mode": "lines",
           "x": [
            0,
            0.33,
            null,
            0.3003062713421305,
            0.2855225877733855,
            null,
            0.3003062713421305,
            0.2629725579755741,
            null
           ],
           "y": [
            0.5,
            1,
            null,
            0.9550095020335311,
            0.8882926689752846,
            null,
            0.9550095020335311,
            0.9427605821595028,
            null
           ]
          },
          {
           "hoverinfo": "none",
           "line": {
            "color": "rgb(0, 0, 0)",
            "width": 1
           },
           "mode": "lines",
           "x": [
            0,
            0.33,
            null,
            0.3003062713421305,
            0.2629725579755741,
            null,
            0.3003062713421305,
            0.2855225877733855,
            null
           ],
           "y": [
            0.5,
            0,
            null,
            0.04499049796646893,
            0.0572394178404972,
            null,
            0.04499049796646893,
            0.11170733102471547,
            null
           ]
          },
          {
           "hoverinfo": "none",
           "line": {
            "color": "rgb(0, 0, 0)",
            "width": 1
           },
           "mode": "lines",
           "x": [
            0.33,
            0.66,
            null,
            0.6221212121212122,
            0.5888794484132436,
            null,
            0.6221212121212122,
            0.5888794484132436,
            null
           ],
           "y": [
            1,
            1,
            null,
            1,
            0.9652590189417244,
            null,
            1,
            1.0347409810582755,
            null
           ]
          },
          {
           "hoverinfo": "none",
           "line": {
            "color": "rgb(0, 0, 0)",
            "width": 1
           },
           "mode": "lines",
           "x": [
            0.66,
            1,
            null,
            0.9621212121212122,
            0.9288794484132434,
            null,
            0.9621212121212122,
            0.9288794484132434,
            null
           ],
           "y": [
            1,
            1,
            null,
            1,
            0.9652590189417244,
            null,
            1,
            1.0347409810582755,
            null
           ]
          },
          {
           "hoverinfo": "none",
           "line": {
            "color": "rgb(0, 0, 0)",
            "width": 1
           },
           "mode": "lines",
           "x": [
            0.66,
            0.33,
            null,
            0.35022071942550836,
            0.3526100389194443,
            null,
            0.35022071942550836,
            0.3833221014449805,
            null
           ],
           "y": [
            1,
            0,
            null,
            0.06127490735002531,
            0.13359437096827784,
            null,
            0.06127490735002531,
            0.09650302407543368,
            null
           ]
          },
          {
           "hoverinfo": "none",
           "line": {
            "color": "rgb(0, 0, 0)",
            "width": 1
           },
           "mode": "lines",
           "x": [
            1,
            0.66,
            null,
            0.6806532023433265,
            0.6835549327328607,
            null,
            0.6806532023433265,
            0.7140012524011855,
            null
           ],
           "y": [
            1,
            0,
            null,
            0.06074471277448944,
            0.13299554373343975,
            null,
            0.06074471277448944,
            0.09511088313140172,
            null
           ]
          },
          {
           "hoverinfo": "none",
           "line": {
            "color": "rgb(0, 0, 0)",
            "width": 1
           },
           "mode": "lines",
           "x": [
            0.33,
            0.66,
            null,
            0.6221212121212122,
            0.5888794484132436,
            null,
            0.6221212121212122,
            0.5888794484132436,
            null
           ],
           "y": [
            0,
            0,
            null,
            0,
            -0.034740981058275576,
            null,
            0,
            0.034740981058275576,
            null
           ]
          },
          {
           "hoverinfo": "none",
           "line": {
            "color": "rgb(0, 0, 0)",
            "width": 1
           },
           "mode": "lines",
           "x": [
            0.66,
            1,
            null,
            0.9621212121212122,
            0.9288794484132434,
            null,
            0.9621212121212122,
            0.9288794484132434,
            null
           ],
           "y": [
            0,
            0,
            null,
            0,
            -0.034740981058275576,
            null,
            0,
            0.034740981058275576,
            null
           ]
          },
          {
           "hoverinfo": "none",
           "marker": {
            "color": "rgb(0, 255, 0)",
            "line": {
             "color": "rgb(0, 0, 0)",
             "width": 1
            },
            "size": 20
           },
           "mode": "markers+text",
           "text": [
            "0"
           ],
           "textfont": {
            "color": "rgb(0, 0, 0)"
           },
           "textposition": "middle center",
           "x": [
            0
           ],
           "y": [
            0.5
           ]
          },
          {
           "hoverinfo": "none",
           "marker": {
            "color": "rgb(0, 255, 0)",
            "line": {
             "color": "rgb(0, 0, 0)",
             "width": 1
            },
            "size": 20
           },
           "mode": "markers+text",
           "text": [
            "1"
           ],
           "textfont": {
            "color": "rgb(0, 0, 0)"
           },
           "textposition": "middle center",
           "x": [
            0.33
           ],
           "y": [
            1
           ]
          },
          {
           "hoverinfo": "none",
           "marker": {
            "color": "rgb(255, 255, 255)",
            "line": {
             "color": "rgb(0, 0, 0)",
             "width": 1
            },
            "size": 20
           },
           "mode": "markers+text",
           "text": [
            "2"
           ],
           "textfont": {
            "color": "rgb(0, 0, 0)"
           },
           "textposition": "middle center",
           "x": [
            0.66
           ],
           "y": [
            1
           ]
          },
          {
           "hoverinfo": "none",
           "marker": {
            "color": "rgb(255, 255, 255)",
            "line": {
             "color": "rgb(0, 0, 0)",
             "width": 1
            },
            "size": 20
           },
           "mode": "markers+text",
           "text": [
            "3"
           ],
           "textfont": {
            "color": "rgb(0, 0, 0)"
           },
           "textposition": "middle center",
           "x": [
            1
           ],
           "y": [
            1
           ]
          },
          {
           "hoverinfo": "none",
           "marker": {
            "color": "rgb(255, 255, 255)",
            "line": {
             "color": "rgb(0, 0, 0)",
             "width": 1
            },
            "size": 20
           },
           "mode": "markers+text",
           "text": [
            "4"
           ],
           "textfont": {
            "color": "rgb(0, 0, 0)"
           },
           "textposition": "middle center",
           "x": [
            0.33
           ],
           "y": [
            0
           ]
          },
          {
           "hoverinfo": "none",
           "marker": {
            "color": "rgb(255, 255, 255)",
            "line": {
             "color": "rgb(0, 0, 0)",
             "width": 1
            },
            "size": 20
           },
           "mode": "markers+text",
           "text": [
            "5"
           ],
           "textfont": {
            "color": "rgb(0, 0, 0)"
           },
           "textposition": "middle center",
           "x": [
            0.66
           ],
           "y": [
            0
           ]
          },
          {
           "hoverinfo": "none",
           "marker": {
            "color": "rgb(255, 255, 255)",
            "line": {
             "color": "rgb(0, 0, 0)",
             "width": 1
            },
            "size": 20
           },
           "mode": "markers+text",
           "text": [
            "6"
           ],
           "textfont": {
            "color": "rgb(0, 0, 0)"
           },
           "textposition": "middle center",
           "x": [
            1
           ],
           "y": [
            0
           ]
          }
         ],
         "name": 1
        },
        {
         "data": [
          {
           "hoverinfo": "none",
           "line": {
            "color": "rgb(0, 0, 0)",
            "width": 1
           },
           "mode": "lines",
           "x": [
            0,
            0.33,
            null,
            0.3003062713421305,
            0.2855225877733855,
            null,
            0.3003062713421305,
            0.2629725579755741,
            null
           ],
           "y": [
            0.5,
            1,
            null,
            0.9550095020335311,
            0.8882926689752846,
            null,
            0.9550095020335311,
            0.9427605821595028,
            null
           ]
          },
          {
           "hoverinfo": "none",
           "line": {
            "color": "rgb(0, 0, 0)",
            "width": 1
           },
           "mode": "lines",
           "x": [
            0,
            0.33,
            null,
            0.3003062713421305,
            0.2629725579755741,
            null,
            0.3003062713421305,
            0.2855225877733855,
            null
           ],
           "y": [
            0.5,
            0,
            null,
            0.04499049796646893,
            0.0572394178404972,
            null,
            0.04499049796646893,
            0.11170733102471547,
            null
           ]
          },
          {
           "hoverinfo": "none",
           "line": {
            "color": "rgb(0, 0, 0)",
            "width": 1
           },
           "mode": "lines",
           "x": [
            0.33,
            0.66,
            null,
            0.6221212121212122,
            0.5888794484132436,
            null,
            0.6221212121212122,
            0.5888794484132436,
            null
           ],
           "y": [
            1,
            1,
            null,
            1,
            0.9652590189417244,
            null,
            1,
            1.0347409810582755,
            null
           ]
          },
          {
           "hoverinfo": "none",
           "line": {
            "color": "rgb(0, 0, 0)",
            "width": 1
           },
           "mode": "lines",
           "x": [
            0.66,
            1,
            null,
            0.9621212121212122,
            0.9288794484132434,
            null,
            0.9621212121212122,
            0.9288794484132434,
            null
           ],
           "y": [
            1,
            1,
            null,
            1,
            0.9652590189417244,
            null,
            1,
            1.0347409810582755,
            null
           ]
          },
          {
           "hoverinfo": "none",
           "line": {
            "color": "rgb(0, 0, 0)",
            "width": 1
           },
           "mode": "lines",
           "x": [
            0.66,
            0.33,
            null,
            0.35022071942550836,
            0.3526100389194443,
            null,
            0.35022071942550836,
            0.3833221014449805,
            null
           ],
           "y": [
            1,
            0,
            null,
            0.06127490735002531,
            0.13359437096827784,
            null,
            0.06127490735002531,
            0.09650302407543368,
            null
           ]
          },
          {
           "hoverinfo": "none",
           "line": {
            "color": "rgb(0, 0, 0)",
            "width": 1
           },
           "mode": "lines",
           "x": [
            1,
            0.66,
            null,
            0.6806532023433265,
            0.6835549327328607,
            null,
            0.6806532023433265,
            0.7140012524011855,
            null
           ],
           "y": [
            1,
            0,
            null,
            0.06074471277448944,
            0.13299554373343975,
            null,
            0.06074471277448944,
            0.09511088313140172,
            null
           ]
          },
          {
           "hoverinfo": "none",
           "line": {
            "color": "rgb(0, 0, 0)",
            "width": 1
           },
           "mode": "lines",
           "x": [
            0.33,
            0.66,
            null,
            0.6221212121212122,
            0.5888794484132436,
            null,
            0.6221212121212122,
            0.5888794484132436,
            null
           ],
           "y": [
            0,
            0,
            null,
            0,
            -0.034740981058275576,
            null,
            0,
            0.034740981058275576,
            null
           ]
          },
          {
           "hoverinfo": "none",
           "line": {
            "color": "rgb(0, 0, 0)",
            "width": 1
           },
           "mode": "lines",
           "x": [
            0.66,
            1,
            null,
            0.9621212121212122,
            0.9288794484132434,
            null,
            0.9621212121212122,
            0.9288794484132434,
            null
           ],
           "y": [
            0,
            0,
            null,
            0,
            -0.034740981058275576,
            null,
            0,
            0.034740981058275576,
            null
           ]
          },
          {
           "hoverinfo": "none",
           "marker": {
            "color": "rgb(0, 255, 0)",
            "line": {
             "color": "rgb(0, 0, 0)",
             "width": 1
            },
            "size": 20
           },
           "mode": "markers+text",
           "text": [
            "0"
           ],
           "textfont": {
            "color": "rgb(0, 0, 0)"
           },
           "textposition": "middle center",
           "x": [
            0
           ],
           "y": [
            0.5
           ]
          },
          {
           "hoverinfo": "none",
           "marker": {
            "color": "rgb(0, 255, 0)",
            "line": {
             "color": "rgb(0, 0, 0)",
             "width": 1
            },
            "size": 20
           },
           "mode": "markers+text",
           "text": [
            "1"
           ],
           "textfont": {
            "color": "rgb(0, 0, 0)"
           },
           "textposition": "middle center",
           "x": [
            0.33
           ],
           "y": [
            1
           ]
          },
          {
           "hoverinfo": "none",
           "marker": {
            "color": "rgb(255, 255, 255)",
            "line": {
             "color": "rgb(0, 0, 0)",
             "width": 1
            },
            "size": 20
           },
           "mode": "markers+text",
           "text": [
            "2"
           ],
           "textfont": {
            "color": "rgb(0, 0, 0)"
           },
           "textposition": "middle center",
           "x": [
            0.66
           ],
           "y": [
            1
           ]
          },
          {
           "hoverinfo": "none",
           "marker": {
            "color": "rgb(255, 255, 255)",
            "line": {
             "color": "rgb(0, 0, 0)",
             "width": 1
            },
            "size": 20
           },
           "mode": "markers+text",
           "text": [
            "3"
           ],
           "textfont": {
            "color": "rgb(0, 0, 0)"
           },
           "textposition": "middle center",
           "x": [
            1
           ],
           "y": [
            1
           ]
          },
          {
           "hoverinfo": "none",
           "marker": {
            "color": "rgb(0, 255, 0)",
            "line": {
             "color": "rgb(0, 0, 0)",
             "width": 1
            },
            "size": 20
           },
           "mode": "markers+text",
           "text": [
            "4"
           ],
           "textfont": {
            "color": "rgb(0, 0, 0)"
           },
           "textposition": "middle center",
           "x": [
            0.33
           ],
           "y": [
            0
           ]
          },
          {
           "hoverinfo": "none",
           "marker": {
            "color": "rgb(255, 255, 255)",
            "line": {
             "color": "rgb(0, 0, 0)",
             "width": 1
            },
            "size": 20
           },
           "mode": "markers+text",
           "text": [
            "5"
           ],
           "textfont": {
            "color": "rgb(0, 0, 0)"
           },
           "textposition": "middle center",
           "x": [
            0.66
           ],
           "y": [
            0
           ]
          },
          {
           "hoverinfo": "none",
           "marker": {
            "color": "rgb(255, 255, 255)",
            "line": {
             "color": "rgb(0, 0, 0)",
             "width": 1
            },
            "size": 20
           },
           "mode": "markers+text",
           "text": [
            "6"
           ],
           "textfont": {
            "color": "rgb(0, 0, 0)"
           },
           "textposition": "middle center",
           "x": [
            1
           ],
           "y": [
            0
           ]
          }
         ],
         "name": 2
        },
        {
         "data": [
          {
           "hoverinfo": "none",
           "line": {
            "color": "rgb(0, 0, 0)",
            "width": 1
           },
           "mode": "lines",
           "x": [
            0,
            0.33,
            null,
            0.3003062713421305,
            0.2855225877733855,
            null,
            0.3003062713421305,
            0.2629725579755741,
            null
           ],
           "y": [
            0.5,
            1,
            null,
            0.9550095020335311,
            0.8882926689752846,
            null,
            0.9550095020335311,
            0.9427605821595028,
            null
           ]
          },
          {
           "hoverinfo": "none",
           "line": {
            "color": "rgb(0, 0, 0)",
            "width": 1
           },
           "mode": "lines",
           "x": [
            0,
            0.33,
            null,
            0.3003062713421305,
            0.2629725579755741,
            null,
            0.3003062713421305,
            0.2855225877733855,
            null
           ],
           "y": [
            0.5,
            0,
            null,
            0.04499049796646893,
            0.0572394178404972,
            null,
            0.04499049796646893,
            0.11170733102471547,
            null
           ]
          },
          {
           "hoverinfo": "none",
           "line": {
            "color": "rgb(0, 0, 0)",
            "width": 1
           },
           "mode": "lines",
           "x": [
            0.33,
            0.66,
            null,
            0.6221212121212122,
            0.5888794484132436,
            null,
            0.6221212121212122,
            0.5888794484132436,
            null
           ],
           "y": [
            1,
            1,
            null,
            1,
            0.9652590189417244,
            null,
            1,
            1.0347409810582755,
            null
           ]
          },
          {
           "hoverinfo": "none",
           "line": {
            "color": "rgb(0, 0, 0)",
            "width": 1
           },
           "mode": "lines",
           "x": [
            0.66,
            1,
            null,
            0.9621212121212122,
            0.9288794484132434,
            null,
            0.9621212121212122,
            0.9288794484132434,
            null
           ],
           "y": [
            1,
            1,
            null,
            1,
            0.9652590189417244,
            null,
            1,
            1.0347409810582755,
            null
           ]
          },
          {
           "hoverinfo": "none",
           "line": {
            "color": "rgb(0, 0, 0)",
            "width": 1
           },
           "mode": "lines",
           "x": [
            0.66,
            0.33,
            null,
            0.35022071942550836,
            0.3526100389194443,
            null,
            0.35022071942550836,
            0.3833221014449805,
            null
           ],
           "y": [
            1,
            0,
            null,
            0.06127490735002531,
            0.13359437096827784,
            null,
            0.06127490735002531,
            0.09650302407543368,
            null
           ]
          },
          {
           "hoverinfo": "none",
           "line": {
            "color": "rgb(0, 0, 0)",
            "width": 1
           },
           "mode": "lines",
           "x": [
            1,
            0.66,
            null,
            0.6806532023433265,
            0.6835549327328607,
            null,
            0.6806532023433265,
            0.7140012524011855,
            null
           ],
           "y": [
            1,
            0,
            null,
            0.06074471277448944,
            0.13299554373343975,
            null,
            0.06074471277448944,
            0.09511088313140172,
            null
           ]
          },
          {
           "hoverinfo": "none",
           "line": {
            "color": "rgb(0, 0, 0)",
            "width": 1
           },
           "mode": "lines",
           "x": [
            0.33,
            0.66,
            null,
            0.6221212121212122,
            0.5888794484132436,
            null,
            0.6221212121212122,
            0.5888794484132436,
            null
           ],
           "y": [
            0,
            0,
            null,
            0,
            -0.034740981058275576,
            null,
            0,
            0.034740981058275576,
            null
           ]
          },
          {
           "hoverinfo": "none",
           "line": {
            "color": "rgb(0, 0, 0)",
            "width": 1
           },
           "mode": "lines",
           "x": [
            0.66,
            1,
            null,
            0.9621212121212122,
            0.9288794484132434,
            null,
            0.9621212121212122,
            0.9288794484132434,
            null
           ],
           "y": [
            0,
            0,
            null,
            0,
            -0.034740981058275576,
            null,
            0,
            0.034740981058275576,
            null
           ]
          },
          {
           "hoverinfo": "none",
           "marker": {
            "color": "rgb(0, 255, 0)",
            "line": {
             "color": "rgb(0, 0, 0)",
             "width": 1
            },
            "size": 20
           },
           "mode": "markers+text",
           "text": [
            "0"
           ],
           "textfont": {
            "color": "rgb(0, 0, 0)"
           },
           "textposition": "middle center",
           "x": [
            0
           ],
           "y": [
            0.5
           ]
          },
          {
           "hoverinfo": "none",
           "marker": {
            "color": "rgb(0, 255, 0)",
            "line": {
             "color": "rgb(0, 0, 0)",
             "width": 1
            },
            "size": 20
           },
           "mode": "markers+text",
           "text": [
            "1"
           ],
           "textfont": {
            "color": "rgb(0, 0, 0)"
           },
           "textposition": "middle center",
           "x": [
            0.33
           ],
           "y": [
            1
           ]
          },
          {
           "hoverinfo": "none",
           "marker": {
            "color": "rgb(0, 255, 0)",
            "line": {
             "color": "rgb(0, 0, 0)",
             "width": 1
            },
            "size": 20
           },
           "mode": "markers+text",
           "text": [
            "2"
           ],
           "textfont": {
            "color": "rgb(0, 0, 0)"
           },
           "textposition": "middle center",
           "x": [
            0.66
           ],
           "y": [
            1
           ]
          },
          {
           "hoverinfo": "none",
           "marker": {
            "color": "rgb(255, 255, 255)",
            "line": {
             "color": "rgb(0, 0, 0)",
             "width": 1
            },
            "size": 20
           },
           "mode": "markers+text",
           "text": [
            "3"
           ],
           "textfont": {
            "color": "rgb(0, 0, 0)"
           },
           "textposition": "middle center",
           "x": [
            1
           ],
           "y": [
            1
           ]
          },
          {
           "hoverinfo": "none",
           "marker": {
            "color": "rgb(0, 255, 0)",
            "line": {
             "color": "rgb(0, 0, 0)",
             "width": 1
            },
            "size": 20
           },
           "mode": "markers+text",
           "text": [
            "4"
           ],
           "textfont": {
            "color": "rgb(0, 0, 0)"
           },
           "textposition": "middle center",
           "x": [
            0.33
           ],
           "y": [
            0
           ]
          },
          {
           "hoverinfo": "none",
           "marker": {
            "color": "rgb(255, 255, 255)",
            "line": {
             "color": "rgb(0, 0, 0)",
             "width": 1
            },
            "size": 20
           },
           "mode": "markers+text",
           "text": [
            "5"
           ],
           "textfont": {
            "color": "rgb(0, 0, 0)"
           },
           "textposition": "middle center",
           "x": [
            0.66
           ],
           "y": [
            0
           ]
          },
          {
           "hoverinfo": "none",
           "marker": {
            "color": "rgb(255, 255, 255)",
            "line": {
             "color": "rgb(0, 0, 0)",
             "width": 1
            },
            "size": 20
           },
           "mode": "markers+text",
           "text": [
            "6"
           ],
           "textfont": {
            "color": "rgb(0, 0, 0)"
           },
           "textposition": "middle center",
           "x": [
            1
           ],
           "y": [
            0
           ]
          }
         ],
         "name": 3
        },
        {
         "data": [
          {
           "hoverinfo": "none",
           "line": {
            "color": "rgb(0, 0, 0)",
            "width": 1
           },
           "mode": "lines",
           "x": [
            0,
            0.33,
            null,
            0.3003062713421305,
            0.2855225877733855,
            null,
            0.3003062713421305,
            0.2629725579755741,
            null
           ],
           "y": [
            0.5,
            1,
            null,
            0.9550095020335311,
            0.8882926689752846,
            null,
            0.9550095020335311,
            0.9427605821595028,
            null
           ]
          },
          {
           "hoverinfo": "none",
           "line": {
            "color": "rgb(0, 0, 0)",
            "width": 1
           },
           "mode": "lines",
           "x": [
            0,
            0.33,
            null,
            0.3003062713421305,
            0.2629725579755741,
            null,
            0.3003062713421305,
            0.2855225877733855,
            null
           ],
           "y": [
            0.5,
            0,
            null,
            0.04499049796646893,
            0.0572394178404972,
            null,
            0.04499049796646893,
            0.11170733102471547,
            null
           ]
          },
          {
           "hoverinfo": "none",
           "line": {
            "color": "rgb(0, 0, 0)",
            "width": 1
           },
           "mode": "lines",
           "x": [
            0.33,
            0.66,
            null,
            0.6221212121212122,
            0.5888794484132436,
            null,
            0.6221212121212122,
            0.5888794484132436,
            null
           ],
           "y": [
            1,
            1,
            null,
            1,
            0.9652590189417244,
            null,
            1,
            1.0347409810582755,
            null
           ]
          },
          {
           "hoverinfo": "none",
           "line": {
            "color": "rgb(0, 0, 0)",
            "width": 1
           },
           "mode": "lines",
           "x": [
            0.66,
            1,
            null,
            0.9621212121212122,
            0.9288794484132434,
            null,
            0.9621212121212122,
            0.9288794484132434,
            null
           ],
           "y": [
            1,
            1,
            null,
            1,
            0.9652590189417244,
            null,
            1,
            1.0347409810582755,
            null
           ]
          },
          {
           "hoverinfo": "none",
           "line": {
            "color": "rgb(0, 0, 0)",
            "width": 1
           },
           "mode": "lines",
           "x": [
            0.66,
            0.33,
            null,
            0.35022071942550836,
            0.3526100389194443,
            null,
            0.35022071942550836,
            0.3833221014449805,
            null
           ],
           "y": [
            1,
            0,
            null,
            0.06127490735002531,
            0.13359437096827784,
            null,
            0.06127490735002531,
            0.09650302407543368,
            null
           ]
          },
          {
           "hoverinfo": "none",
           "line": {
            "color": "rgb(0, 0, 0)",
            "width": 1
           },
           "mode": "lines",
           "x": [
            1,
            0.66,
            null,
            0.6806532023433265,
            0.6835549327328607,
            null,
            0.6806532023433265,
            0.7140012524011855,
            null
           ],
           "y": [
            1,
            0,
            null,
            0.06074471277448944,
            0.13299554373343975,
            null,
            0.06074471277448944,
            0.09511088313140172,
            null
           ]
          },
          {
           "hoverinfo": "none",
           "line": {
            "color": "rgb(0, 0, 0)",
            "width": 1
           },
           "mode": "lines",
           "x": [
            0.33,
            0.66,
            null,
            0.6221212121212122,
            0.5888794484132436,
            null,
            0.6221212121212122,
            0.5888794484132436,
            null
           ],
           "y": [
            0,
            0,
            null,
            0,
            -0.034740981058275576,
            null,
            0,
            0.034740981058275576,
            null
           ]
          },
          {
           "hoverinfo": "none",
           "line": {
            "color": "rgb(0, 0, 0)",
            "width": 1
           },
           "mode": "lines",
           "x": [
            0.66,
            1,
            null,
            0.9621212121212122,
            0.9288794484132434,
            null,
            0.9621212121212122,
            0.9288794484132434,
            null
           ],
           "y": [
            0,
            0,
            null,
            0,
            -0.034740981058275576,
            null,
            0,
            0.034740981058275576,
            null
           ]
          },
          {
           "hoverinfo": "none",
           "marker": {
            "color": "rgb(0, 255, 0)",
            "line": {
             "color": "rgb(0, 0, 0)",
             "width": 1
            },
            "size": 20
           },
           "mode": "markers+text",
           "text": [
            "0"
           ],
           "textfont": {
            "color": "rgb(0, 0, 0)"
           },
           "textposition": "middle center",
           "x": [
            0
           ],
           "y": [
            0.5
           ]
          },
          {
           "hoverinfo": "none",
           "marker": {
            "color": "rgb(0, 255, 0)",
            "line": {
             "color": "rgb(0, 0, 0)",
             "width": 1
            },
            "size": 20
           },
           "mode": "markers+text",
           "text": [
            "1"
           ],
           "textfont": {
            "color": "rgb(0, 0, 0)"
           },
           "textposition": "middle center",
           "x": [
            0.33
           ],
           "y": [
            1
           ]
          },
          {
           "hoverinfo": "none",
           "marker": {
            "color": "rgb(0, 255, 0)",
            "line": {
             "color": "rgb(0, 0, 0)",
             "width": 1
            },
            "size": 20
           },
           "mode": "markers+text",
           "text": [
            "2"
           ],
           "textfont": {
            "color": "rgb(0, 0, 0)"
           },
           "textposition": "middle center",
           "x": [
            0.66
           ],
           "y": [
            1
           ]
          },
          {
           "hoverinfo": "none",
           "marker": {
            "color": "rgb(255, 255, 255)",
            "line": {
             "color": "rgb(0, 0, 0)",
             "width": 1
            },
            "size": 20
           },
           "mode": "markers+text",
           "text": [
            "3"
           ],
           "textfont": {
            "color": "rgb(0, 0, 0)"
           },
           "textposition": "middle center",
           "x": [
            1
           ],
           "y": [
            1
           ]
          },
          {
           "hoverinfo": "none",
           "marker": {
            "color": "rgb(0, 255, 0)",
            "line": {
             "color": "rgb(0, 0, 0)",
             "width": 1
            },
            "size": 20
           },
           "mode": "markers+text",
           "text": [
            "4"
           ],
           "textfont": {
            "color": "rgb(0, 0, 0)"
           },
           "textposition": "middle center",
           "x": [
            0.33
           ],
           "y": [
            0
           ]
          },
          {
           "hoverinfo": "none",
           "marker": {
            "color": "rgb(0, 255, 0)",
            "line": {
             "color": "rgb(0, 0, 0)",
             "width": 1
            },
            "size": 20
           },
           "mode": "markers+text",
           "text": [
            "5"
           ],
           "textfont": {
            "color": "rgb(0, 0, 0)"
           },
           "textposition": "middle center",
           "x": [
            0.66
           ],
           "y": [
            0
           ]
          },
          {
           "hoverinfo": "none",
           "marker": {
            "color": "rgb(255, 255, 255)",
            "line": {
             "color": "rgb(0, 0, 0)",
             "width": 1
            },
            "size": 20
           },
           "mode": "markers+text",
           "text": [
            "6"
           ],
           "textfont": {
            "color": "rgb(0, 0, 0)"
           },
           "textposition": "middle center",
           "x": [
            1
           ],
           "y": [
            0
           ]
          }
         ],
         "name": 4
        },
        {
         "data": [
          {
           "hoverinfo": "none",
           "line": {
            "color": "rgb(0, 0, 0)",
            "width": 1
           },
           "mode": "lines",
           "x": [
            0,
            0.33,
            null,
            0.3003062713421305,
            0.2855225877733855,
            null,
            0.3003062713421305,
            0.2629725579755741,
            null
           ],
           "y": [
            0.5,
            1,
            null,
            0.9550095020335311,
            0.8882926689752846,
            null,
            0.9550095020335311,
            0.9427605821595028,
            null
           ]
          },
          {
           "hoverinfo": "none",
           "line": {
            "color": "rgb(0, 0, 0)",
            "width": 1
           },
           "mode": "lines",
           "x": [
            0,
            0.33,
            null,
            0.3003062713421305,
            0.2629725579755741,
            null,
            0.3003062713421305,
            0.2855225877733855,
            null
           ],
           "y": [
            0.5,
            0,
            null,
            0.04499049796646893,
            0.0572394178404972,
            null,
            0.04499049796646893,
            0.11170733102471547,
            null
           ]
          },
          {
           "hoverinfo": "none",
           "line": {
            "color": "rgb(0, 0, 0)",
            "width": 1
           },
           "mode": "lines",
           "x": [
            0.33,
            0.66,
            null,
            0.6221212121212122,
            0.5888794484132436,
            null,
            0.6221212121212122,
            0.5888794484132436,
            null
           ],
           "y": [
            1,
            1,
            null,
            1,
            0.9652590189417244,
            null,
            1,
            1.0347409810582755,
            null
           ]
          },
          {
           "hoverinfo": "none",
           "line": {
            "color": "rgb(0, 0, 0)",
            "width": 1
           },
           "mode": "lines",
           "x": [
            0.66,
            1,
            null,
            0.9621212121212122,
            0.9288794484132434,
            null,
            0.9621212121212122,
            0.9288794484132434,
            null
           ],
           "y": [
            1,
            1,
            null,
            1,
            0.9652590189417244,
            null,
            1,
            1.0347409810582755,
            null
           ]
          },
          {
           "hoverinfo": "none",
           "line": {
            "color": "rgb(0, 0, 0)",
            "width": 1
           },
           "mode": "lines",
           "x": [
            0.66,
            0.33,
            null,
            0.35022071942550836,
            0.3526100389194443,
            null,
            0.35022071942550836,
            0.3833221014449805,
            null
           ],
           "y": [
            1,
            0,
            null,
            0.06127490735002531,
            0.13359437096827784,
            null,
            0.06127490735002531,
            0.09650302407543368,
            null
           ]
          },
          {
           "hoverinfo": "none",
           "line": {
            "color": "rgb(0, 0, 0)",
            "width": 1
           },
           "mode": "lines",
           "x": [
            1,
            0.66,
            null,
            0.6806532023433265,
            0.6835549327328607,
            null,
            0.6806532023433265,
            0.7140012524011855,
            null
           ],
           "y": [
            1,
            0,
            null,
            0.06074471277448944,
            0.13299554373343975,
            null,
            0.06074471277448944,
            0.09511088313140172,
            null
           ]
          },
          {
           "hoverinfo": "none",
           "line": {
            "color": "rgb(0, 0, 0)",
            "width": 1
           },
           "mode": "lines",
           "x": [
            0.33,
            0.66,
            null,
            0.6221212121212122,
            0.5888794484132436,
            null,
            0.6221212121212122,
            0.5888794484132436,
            null
           ],
           "y": [
            0,
            0,
            null,
            0,
            -0.034740981058275576,
            null,
            0,
            0.034740981058275576,
            null
           ]
          },
          {
           "hoverinfo": "none",
           "line": {
            "color": "rgb(0, 0, 0)",
            "width": 1
           },
           "mode": "lines",
           "x": [
            0.66,
            1,
            null,
            0.9621212121212122,
            0.9288794484132434,
            null,
            0.9621212121212122,
            0.9288794484132434,
            null
           ],
           "y": [
            0,
            0,
            null,
            0,
            -0.034740981058275576,
            null,
            0,
            0.034740981058275576,
            null
           ]
          },
          {
           "hoverinfo": "none",
           "marker": {
            "color": "rgb(0, 255, 0)",
            "line": {
             "color": "rgb(0, 0, 0)",
             "width": 1
            },
            "size": 20
           },
           "mode": "markers+text",
           "text": [
            "0"
           ],
           "textfont": {
            "color": "rgb(0, 0, 0)"
           },
           "textposition": "middle center",
           "x": [
            0
           ],
           "y": [
            0.5
           ]
          },
          {
           "hoverinfo": "none",
           "marker": {
            "color": "rgb(0, 255, 0)",
            "line": {
             "color": "rgb(0, 0, 0)",
             "width": 1
            },
            "size": 20
           },
           "mode": "markers+text",
           "text": [
            "1"
           ],
           "textfont": {
            "color": "rgb(0, 0, 0)"
           },
           "textposition": "middle center",
           "x": [
            0.33
           ],
           "y": [
            1
           ]
          },
          {
           "hoverinfo": "none",
           "marker": {
            "color": "rgb(0, 255, 0)",
            "line": {
             "color": "rgb(0, 0, 0)",
             "width": 1
            },
            "size": 20
           },
           "mode": "markers+text",
           "text": [
            "2"
           ],
           "textfont": {
            "color": "rgb(0, 0, 0)"
           },
           "textposition": "middle center",
           "x": [
            0.66
           ],
           "y": [
            1
           ]
          },
          {
           "hoverinfo": "none",
           "marker": {
            "color": "rgb(0, 255, 0)",
            "line": {
             "color": "rgb(0, 0, 0)",
             "width": 1
            },
            "size": 20
           },
           "mode": "markers+text",
           "text": [
            "3"
           ],
           "textfont": {
            "color": "rgb(0, 0, 0)"
           },
           "textposition": "middle center",
           "x": [
            1
           ],
           "y": [
            1
           ]
          },
          {
           "hoverinfo": "none",
           "marker": {
            "color": "rgb(0, 255, 0)",
            "line": {
             "color": "rgb(0, 0, 0)",
             "width": 1
            },
            "size": 20
           },
           "mode": "markers+text",
           "text": [
            "4"
           ],
           "textfont": {
            "color": "rgb(0, 0, 0)"
           },
           "textposition": "middle center",
           "x": [
            0.33
           ],
           "y": [
            0
           ]
          },
          {
           "hoverinfo": "none",
           "marker": {
            "color": "rgb(0, 255, 0)",
            "line": {
             "color": "rgb(0, 0, 0)",
             "width": 1
            },
            "size": 20
           },
           "mode": "markers+text",
           "text": [
            "5"
           ],
           "textfont": {
            "color": "rgb(0, 0, 0)"
           },
           "textposition": "middle center",
           "x": [
            0.66
           ],
           "y": [
            0
           ]
          },
          {
           "hoverinfo": "none",
           "marker": {
            "color": "rgb(255, 255, 255)",
            "line": {
             "color": "rgb(0, 0, 0)",
             "width": 1
            },
            "size": 20
           },
           "mode": "markers+text",
           "text": [
            "6"
           ],
           "textfont": {
            "color": "rgb(0, 0, 0)"
           },
           "textposition": "middle center",
           "x": [
            1
           ],
           "y": [
            0
           ]
          }
         ],
         "name": 5
        },
        {
         "data": [
          {
           "hoverinfo": "none",
           "line": {
            "color": "rgb(0, 0, 0)",
            "width": 1
           },
           "mode": "lines",
           "x": [
            0,
            0.33,
            null,
            0.3003062713421305,
            0.2855225877733855,
            null,
            0.3003062713421305,
            0.2629725579755741,
            null
           ],
           "y": [
            0.5,
            1,
            null,
            0.9550095020335311,
            0.8882926689752846,
            null,
            0.9550095020335311,
            0.9427605821595028,
            null
           ]
          },
          {
           "hoverinfo": "none",
           "line": {
            "color": "rgb(0, 0, 0)",
            "width": 1
           },
           "mode": "lines",
           "x": [
            0,
            0.33,
            null,
            0.3003062713421305,
            0.2629725579755741,
            null,
            0.3003062713421305,
            0.2855225877733855,
            null
           ],
           "y": [
            0.5,
            0,
            null,
            0.04499049796646893,
            0.0572394178404972,
            null,
            0.04499049796646893,
            0.11170733102471547,
            null
           ]
          },
          {
           "hoverinfo": "none",
           "line": {
            "color": "rgb(0, 0, 0)",
            "width": 1
           },
           "mode": "lines",
           "x": [
            0.33,
            0.66,
            null,
            0.6221212121212122,
            0.5888794484132436,
            null,
            0.6221212121212122,
            0.5888794484132436,
            null
           ],
           "y": [
            1,
            1,
            null,
            1,
            0.9652590189417244,
            null,
            1,
            1.0347409810582755,
            null
           ]
          },
          {
           "hoverinfo": "none",
           "line": {
            "color": "rgb(0, 0, 0)",
            "width": 1
           },
           "mode": "lines",
           "x": [
            0.66,
            1,
            null,
            0.9621212121212122,
            0.9288794484132434,
            null,
            0.9621212121212122,
            0.9288794484132434,
            null
           ],
           "y": [
            1,
            1,
            null,
            1,
            0.9652590189417244,
            null,
            1,
            1.0347409810582755,
            null
           ]
          },
          {
           "hoverinfo": "none",
           "line": {
            "color": "rgb(0, 0, 0)",
            "width": 1
           },
           "mode": "lines",
           "x": [
            0.66,
            0.33,
            null,
            0.35022071942550836,
            0.3526100389194443,
            null,
            0.35022071942550836,
            0.3833221014449805,
            null
           ],
           "y": [
            1,
            0,
            null,
            0.06127490735002531,
            0.13359437096827784,
            null,
            0.06127490735002531,
            0.09650302407543368,
            null
           ]
          },
          {
           "hoverinfo": "none",
           "line": {
            "color": "rgb(0, 0, 0)",
            "width": 1
           },
           "mode": "lines",
           "x": [
            1,
            0.66,
            null,
            0.6806532023433265,
            0.6835549327328607,
            null,
            0.6806532023433265,
            0.7140012524011855,
            null
           ],
           "y": [
            1,
            0,
            null,
            0.06074471277448944,
            0.13299554373343975,
            null,
            0.06074471277448944,
            0.09511088313140172,
            null
           ]
          },
          {
           "hoverinfo": "none",
           "line": {
            "color": "rgb(0, 0, 0)",
            "width": 1
           },
           "mode": "lines",
           "x": [
            0.33,
            0.66,
            null,
            0.6221212121212122,
            0.5888794484132436,
            null,
            0.6221212121212122,
            0.5888794484132436,
            null
           ],
           "y": [
            0,
            0,
            null,
            0,
            -0.034740981058275576,
            null,
            0,
            0.034740981058275576,
            null
           ]
          },
          {
           "hoverinfo": "none",
           "line": {
            "color": "rgb(0, 0, 0)",
            "width": 1
           },
           "mode": "lines",
           "x": [
            0.66,
            1,
            null,
            0.9621212121212122,
            0.9288794484132434,
            null,
            0.9621212121212122,
            0.9288794484132434,
            null
           ],
           "y": [
            0,
            0,
            null,
            0,
            -0.034740981058275576,
            null,
            0,
            0.034740981058275576,
            null
           ]
          },
          {
           "hoverinfo": "none",
           "marker": {
            "color": "rgb(0, 255, 0)",
            "line": {
             "color": "rgb(0, 0, 0)",
             "width": 1
            },
            "size": 20
           },
           "mode": "markers+text",
           "text": [
            "0"
           ],
           "textfont": {
            "color": "rgb(0, 0, 0)"
           },
           "textposition": "middle center",
           "x": [
            0
           ],
           "y": [
            0.5
           ]
          },
          {
           "hoverinfo": "none",
           "marker": {
            "color": "rgb(0, 255, 0)",
            "line": {
             "color": "rgb(0, 0, 0)",
             "width": 1
            },
            "size": 20
           },
           "mode": "markers+text",
           "text": [
            "1"
           ],
           "textfont": {
            "color": "rgb(0, 0, 0)"
           },
           "textposition": "middle center",
           "x": [
            0.33
           ],
           "y": [
            1
           ]
          },
          {
           "hoverinfo": "none",
           "marker": {
            "color": "rgb(0, 255, 0)",
            "line": {
             "color": "rgb(0, 0, 0)",
             "width": 1
            },
            "size": 20
           },
           "mode": "markers+text",
           "text": [
            "2"
           ],
           "textfont": {
            "color": "rgb(0, 0, 0)"
           },
           "textposition": "middle center",
           "x": [
            0.66
           ],
           "y": [
            1
           ]
          },
          {
           "hoverinfo": "none",
           "marker": {
            "color": "rgb(0, 255, 0)",
            "line": {
             "color": "rgb(0, 0, 0)",
             "width": 1
            },
            "size": 20
           },
           "mode": "markers+text",
           "text": [
            "3"
           ],
           "textfont": {
            "color": "rgb(0, 0, 0)"
           },
           "textposition": "middle center",
           "x": [
            1
           ],
           "y": [
            1
           ]
          },
          {
           "hoverinfo": "none",
           "marker": {
            "color": "rgb(0, 255, 0)",
            "line": {
             "color": "rgb(0, 0, 0)",
             "width": 1
            },
            "size": 20
           },
           "mode": "markers+text",
           "text": [
            "4"
           ],
           "textfont": {
            "color": "rgb(0, 0, 0)"
           },
           "textposition": "middle center",
           "x": [
            0.33
           ],
           "y": [
            0
           ]
          },
          {
           "hoverinfo": "none",
           "marker": {
            "color": "rgb(0, 255, 0)",
            "line": {
             "color": "rgb(0, 0, 0)",
             "width": 1
            },
            "size": 20
           },
           "mode": "markers+text",
           "text": [
            "5"
           ],
           "textfont": {
            "color": "rgb(0, 0, 0)"
           },
           "textposition": "middle center",
           "x": [
            0.66
           ],
           "y": [
            0
           ]
          },
          {
           "hoverinfo": "none",
           "marker": {
            "color": "rgb(0, 255, 0)",
            "line": {
             "color": "rgb(0, 0, 0)",
             "width": 1
            },
            "size": 20
           },
           "mode": "markers+text",
           "text": [
            "6"
           ],
           "textfont": {
            "color": "rgb(0, 0, 0)"
           },
           "textposition": "middle center",
           "x": [
            1
           ],
           "y": [
            0
           ]
          }
         ],
         "name": 6
        }
       ],
       "layout": {
        "height": 256,
        "margin": {
         "b": 0,
         "l": 0,
         "r": 0,
         "t": 0
        },
        "showlegend": false,
        "sliders": [
         {
          "currentvalue": {
           "visible": false
          },
          "steps": [
           {
            "args": [
             [
              0
             ],
             {
              "frame": {
               "redraw": false
              },
              "mode": "immediate"
             }
            ],
            "label": "",
            "method": "animate"
           },
           {
            "args": [
             [
              1
             ],
             {
              "frame": {
               "redraw": false
              },
              "mode": "immediate"
             }
            ],
            "label": "",
            "method": "animate"
           },
           {
            "args": [
             [
              2
             ],
             {
              "frame": {
               "redraw": false
              },
              "mode": "immediate"
             }
            ],
            "label": "",
            "method": "animate"
           },
           {
            "args": [
             [
              3
             ],
             {
              "frame": {
               "redraw": false
              },
              "mode": "immediate"
             }
            ],
            "label": "",
            "method": "animate"
           },
           {
            "args": [
             [
              4
             ],
             {
              "frame": {
               "redraw": false
              },
              "mode": "immediate"
             }
            ],
            "label": "",
            "method": "animate"
           },
           {
            "args": [
             [
              5
             ],
             {
              "frame": {
               "redraw": false
              },
              "mode": "immediate"
             }
            ],
            "label": "",
            "method": "animate"
           },
           {
            "args": [
             [
              6
             ],
             {
              "frame": {
               "redraw": false
              },
              "mode": "immediate"
             }
            ],
            "label": "",
            "method": "animate"
           }
          ]
         }
        ],
        "updatemenus": [
         {
          "buttons": [
           {
            "args": [
             null,
             {
              "frame": {
               "redraw": false
              },
              "fromcurrent": true
             }
            ],
            "label": "Play",
            "method": "animate"
           },
           {
            "args": [
             [
              null
             ],
             {
              "frame": {
               "redraw": false
              },
              "mode": "immediate"
             }
            ],
            "label": "Pause",
            "method": "animate"
           }
          ],
          "showactive": true,
          "type": "buttons"
         }
        ],
        "width": 408,
        "xaxis": {
         "showgrid": false,
         "showticklabels": false,
         "zeroline": false
        },
        "yaxis": {
         "showgrid": false,
         "showticklabels": false,
         "zeroline": false
        }
       }
      },
      "text/html": [
       "<div id=\"1dca6daf-f6e4-4454-98b2-73ac6af2a0c7\" style=\"height: 256.0px; width: 408.0px;\" class=\"plotly-graph-div\"></div><script type=\"text/javascript\">require([\"plotly\"], function(Plotly) { window.PLOTLYENV=window.PLOTLYENV || {};window.PLOTLYENV.BASE_URL=\"https://plot.ly\";\n",
       "        Plotly.plot(\n",
       "            '1dca6daf-f6e4-4454-98b2-73ac6af2a0c7',\n",
       "            [{\"mode\": \"lines\", \"line\": {\"color\": \"rgb(0, 0, 0)\", \"width\": 1}, \"y\": [0.5, 1.0, null, 0.9550095020335311, 0.8882926689752846, null, 0.9550095020335311, 0.9427605821595028, null], \"hoverinfo\": \"none\", \"x\": [0.0, 0.33, null, 0.3003062713421305, 0.2855225877733855, null, 0.3003062713421305, 0.2629725579755741, null]}, {\"mode\": \"lines\", \"line\": {\"color\": \"rgb(0, 0, 0)\", \"width\": 1}, \"y\": [0.5, 0.0, null, 0.04499049796646893, 0.0572394178404972, null, 0.04499049796646893, 0.11170733102471547, null], \"hoverinfo\": \"none\", \"x\": [0.0, 0.33, null, 0.3003062713421305, 0.2629725579755741, null, 0.3003062713421305, 0.2855225877733855, null]}, {\"mode\": \"lines\", \"line\": {\"color\": \"rgb(0, 0, 0)\", \"width\": 1}, \"y\": [1.0, 1.0, null, 1.0, 0.9652590189417244, null, 1.0, 1.0347409810582755, null], \"hoverinfo\": \"none\", \"x\": [0.33, 0.66, null, 0.6221212121212122, 0.5888794484132436, null, 0.6221212121212122, 0.5888794484132436, null]}, {\"mode\": \"lines\", \"line\": {\"color\": \"rgb(0, 0, 0)\", \"width\": 1}, \"y\": [1.0, 1.0, null, 1.0, 0.9652590189417244, null, 1.0, 1.0347409810582755, null], \"hoverinfo\": \"none\", \"x\": [0.66, 1.0, null, 0.9621212121212122, 0.9288794484132434, null, 0.9621212121212122, 0.9288794484132434, null]}, {\"mode\": \"lines\", \"line\": {\"color\": \"rgb(0, 0, 0)\", \"width\": 1}, \"y\": [1.0, 0.0, null, 0.06127490735002531, 0.13359437096827784, null, 0.06127490735002531, 0.09650302407543368, null], \"hoverinfo\": \"none\", \"x\": [0.66, 0.33, null, 0.35022071942550836, 0.3526100389194443, null, 0.35022071942550836, 0.3833221014449805, null]}, {\"mode\": \"lines\", \"line\": {\"color\": \"rgb(0, 0, 0)\", \"width\": 1}, \"y\": [1.0, 0.0, null, 0.06074471277448944, 0.13299554373343975, null, 0.06074471277448944, 0.09511088313140172, null], \"hoverinfo\": \"none\", \"x\": [1.0, 0.66, null, 0.6806532023433265, 0.6835549327328607, null, 0.6806532023433265, 0.7140012524011855, null]}, {\"mode\": \"lines\", \"line\": {\"color\": \"rgb(0, 0, 0)\", \"width\": 1}, \"y\": [0.0, 0.0, null, 0.0, -0.034740981058275576, null, 0.0, 0.034740981058275576, null], \"hoverinfo\": \"none\", \"x\": [0.33, 0.66, null, 0.6221212121212122, 0.5888794484132436, null, 0.6221212121212122, 0.5888794484132436, null]}, {\"mode\": \"lines\", \"line\": {\"color\": \"rgb(0, 0, 0)\", \"width\": 1}, \"y\": [0.0, 0.0, null, 0.0, -0.034740981058275576, null, 0.0, 0.034740981058275576, null], \"hoverinfo\": \"none\", \"x\": [0.66, 1.0, null, 0.9621212121212122, 0.9288794484132434, null, 0.9621212121212122, 0.9288794484132434, null]}, {\"mode\": \"markers+text\", \"x\": [0.0], \"textposition\": \"middle center\", \"textfont\": {\"color\": \"rgb(0, 0, 0)\"}, \"marker\": {\"color\": \"rgb(0, 255, 0)\", \"line\": {\"color\": \"rgb(0, 0, 0)\", \"width\": 1}, \"size\": 20}, \"y\": [0.5], \"hoverinfo\": \"none\", \"text\": [\"0\"]}, {\"mode\": \"markers+text\", \"x\": [0.33], \"textposition\": \"middle center\", \"textfont\": {\"color\": \"rgb(0, 0, 0)\"}, \"marker\": {\"color\": \"rgb(255, 255, 255)\", \"line\": {\"color\": \"rgb(0, 0, 0)\", \"width\": 1}, \"size\": 20}, \"y\": [1.0], \"hoverinfo\": \"none\", \"text\": [\"1\"]}, {\"mode\": \"markers+text\", \"x\": [0.66], \"textposition\": \"middle center\", \"textfont\": {\"color\": \"rgb(0, 0, 0)\"}, \"marker\": {\"color\": \"rgb(255, 255, 255)\", \"line\": {\"color\": \"rgb(0, 0, 0)\", \"width\": 1}, \"size\": 20}, \"y\": [1.0], \"hoverinfo\": \"none\", \"text\": [\"2\"]}, {\"mode\": \"markers+text\", \"x\": [1.0], \"textposition\": \"middle center\", \"textfont\": {\"color\": \"rgb(0, 0, 0)\"}, \"marker\": {\"color\": \"rgb(255, 255, 255)\", \"line\": {\"color\": \"rgb(0, 0, 0)\", \"width\": 1}, \"size\": 20}, \"y\": [1.0], \"hoverinfo\": \"none\", \"text\": [\"3\"]}, {\"mode\": \"markers+text\", \"x\": [0.33], \"textposition\": \"middle center\", \"textfont\": {\"color\": \"rgb(0, 0, 0)\"}, \"marker\": {\"color\": \"rgb(255, 255, 255)\", \"line\": {\"color\": \"rgb(0, 0, 0)\", \"width\": 1}, \"size\": 20}, \"y\": [0.0], \"hoverinfo\": \"none\", \"text\": [\"4\"]}, {\"mode\": \"markers+text\", \"x\": [0.66], \"textposition\": \"middle center\", \"textfont\": {\"color\": \"rgb(0, 0, 0)\"}, \"marker\": {\"color\": \"rgb(255, 255, 255)\", \"line\": {\"color\": \"rgb(0, 0, 0)\", \"width\": 1}, \"size\": 20}, \"y\": [0.0], \"hoverinfo\": \"none\", \"text\": [\"5\"]}, {\"mode\": \"markers+text\", \"x\": [1.0], \"textposition\": \"middle center\", \"textfont\": {\"color\": \"rgb(0, 0, 0)\"}, \"marker\": {\"color\": \"rgb(255, 255, 255)\", \"line\": {\"color\": \"rgb(0, 0, 0)\", \"width\": 1}, \"size\": 20}, \"y\": [0.0], \"hoverinfo\": \"none\", \"text\": [\"6\"]}],\n",
       "            {\"margin\": {\"r\": 0, \"b\": 0, \"t\": 0, \"l\": 0}, \"showlegend\": false, \"updatemenus\": [{\"buttons\": [{\"args\": [null, {\"fromcurrent\": true, \"frame\": {\"redraw\": false}}], \"method\": \"animate\", \"label\": \"Play\"}, {\"args\": [[null], {\"mode\": \"immediate\", \"frame\": {\"redraw\": false}}], \"method\": \"animate\", \"label\": \"Pause\"}], \"showactive\": true, \"type\": \"buttons\"}], \"xaxis\": {\"showticklabels\": false, \"showgrid\": false, \"zeroline\": false}, \"height\": 256.0, \"sliders\": [{\"currentvalue\": {\"visible\": false}, \"steps\": [{\"args\": [[0], {\"mode\": \"immediate\", \"frame\": {\"redraw\": false}}], \"method\": \"animate\", \"label\": \"\"}, {\"args\": [[1], {\"mode\": \"immediate\", \"frame\": {\"redraw\": false}}], \"method\": \"animate\", \"label\": \"\"}, {\"args\": [[2], {\"mode\": \"immediate\", \"frame\": {\"redraw\": false}}], \"method\": \"animate\", \"label\": \"\"}, {\"args\": [[3], {\"mode\": \"immediate\", \"frame\": {\"redraw\": false}}], \"method\": \"animate\", \"label\": \"\"}, {\"args\": [[4], {\"mode\": \"immediate\", \"frame\": {\"redraw\": false}}], \"method\": \"animate\", \"label\": \"\"}, {\"args\": [[5], {\"mode\": \"immediate\", \"frame\": {\"redraw\": false}}], \"method\": \"animate\", \"label\": \"\"}, {\"args\": [[6], {\"mode\": \"immediate\", \"frame\": {\"redraw\": false}}], \"method\": \"animate\", \"label\": \"\"}]}], \"width\": 408.0, \"yaxis\": {\"showticklabels\": false, \"showgrid\": false, \"zeroline\": false}},\n",
       "            {\"linkText\": \"Export to plot.ly\", \"displayModeBar\": false, \"showLink\": false}\n",
       "        ).then(function () {return Plotly.addFrames('1dca6daf-f6e4-4454-98b2-73ac6af2a0c7',[{\"name\": 0, \"data\": [{\"mode\": \"lines\", \"line\": {\"color\": \"rgb(0, 0, 0)\", \"width\": 1}, \"y\": [0.5, 1.0, null, 0.9550095020335311, 0.8882926689752846, null, 0.9550095020335311, 0.9427605821595028, null], \"hoverinfo\": \"none\", \"x\": [0.0, 0.33, null, 0.3003062713421305, 0.2855225877733855, null, 0.3003062713421305, 0.2629725579755741, null]}, {\"mode\": \"lines\", \"line\": {\"color\": \"rgb(0, 0, 0)\", \"width\": 1}, \"y\": [0.5, 0.0, null, 0.04499049796646893, 0.0572394178404972, null, 0.04499049796646893, 0.11170733102471547, null], \"hoverinfo\": \"none\", \"x\": [0.0, 0.33, null, 0.3003062713421305, 0.2629725579755741, null, 0.3003062713421305, 0.2855225877733855, null]}, {\"mode\": \"lines\", \"line\": {\"color\": \"rgb(0, 0, 0)\", \"width\": 1}, \"y\": [1.0, 1.0, null, 1.0, 0.9652590189417244, null, 1.0, 1.0347409810582755, null], \"hoverinfo\": \"none\", \"x\": [0.33, 0.66, null, 0.6221212121212122, 0.5888794484132436, null, 0.6221212121212122, 0.5888794484132436, null]}, {\"mode\": \"lines\", \"line\": {\"color\": \"rgb(0, 0, 0)\", \"width\": 1}, \"y\": [1.0, 1.0, null, 1.0, 0.9652590189417244, null, 1.0, 1.0347409810582755, null], \"hoverinfo\": \"none\", \"x\": [0.66, 1.0, null, 0.9621212121212122, 0.9288794484132434, null, 0.9621212121212122, 0.9288794484132434, null]}, {\"mode\": \"lines\", \"line\": {\"color\": \"rgb(0, 0, 0)\", \"width\": 1}, \"y\": [1.0, 0.0, null, 0.06127490735002531, 0.13359437096827784, null, 0.06127490735002531, 0.09650302407543368, null], \"hoverinfo\": \"none\", \"x\": [0.66, 0.33, null, 0.35022071942550836, 0.3526100389194443, null, 0.35022071942550836, 0.3833221014449805, null]}, {\"mode\": \"lines\", \"line\": {\"color\": \"rgb(0, 0, 0)\", \"width\": 1}, \"y\": [1.0, 0.0, null, 0.06074471277448944, 0.13299554373343975, null, 0.06074471277448944, 0.09511088313140172, null], \"hoverinfo\": \"none\", \"x\": [1.0, 0.66, null, 0.6806532023433265, 0.6835549327328607, null, 0.6806532023433265, 0.7140012524011855, null]}, {\"mode\": \"lines\", \"line\": {\"color\": \"rgb(0, 0, 0)\", \"width\": 1}, \"y\": [0.0, 0.0, null, 0.0, -0.034740981058275576, null, 0.0, 0.034740981058275576, null], \"hoverinfo\": \"none\", \"x\": [0.33, 0.66, null, 0.6221212121212122, 0.5888794484132436, null, 0.6221212121212122, 0.5888794484132436, null]}, {\"mode\": \"lines\", \"line\": {\"color\": \"rgb(0, 0, 0)\", \"width\": 1}, \"y\": [0.0, 0.0, null, 0.0, -0.034740981058275576, null, 0.0, 0.034740981058275576, null], \"hoverinfo\": \"none\", \"x\": [0.66, 1.0, null, 0.9621212121212122, 0.9288794484132434, null, 0.9621212121212122, 0.9288794484132434, null]}, {\"mode\": \"markers+text\", \"x\": [0.0], \"textposition\": \"middle center\", \"textfont\": {\"color\": \"rgb(0, 0, 0)\"}, \"marker\": {\"color\": \"rgb(0, 255, 0)\", \"line\": {\"color\": \"rgb(0, 0, 0)\", \"width\": 1}, \"size\": 20}, \"y\": [0.5], \"hoverinfo\": \"none\", \"text\": [\"0\"]}, {\"mode\": \"markers+text\", \"x\": [0.33], \"textposition\": \"middle center\", \"textfont\": {\"color\": \"rgb(0, 0, 0)\"}, \"marker\": {\"color\": \"rgb(255, 255, 255)\", \"line\": {\"color\": \"rgb(0, 0, 0)\", \"width\": 1}, \"size\": 20}, \"y\": [1.0], \"hoverinfo\": \"none\", \"text\": [\"1\"]}, {\"mode\": \"markers+text\", \"x\": [0.66], \"textposition\": \"middle center\", \"textfont\": {\"color\": \"rgb(0, 0, 0)\"}, \"marker\": {\"color\": \"rgb(255, 255, 255)\", \"line\": {\"color\": \"rgb(0, 0, 0)\", \"width\": 1}, \"size\": 20}, \"y\": [1.0], \"hoverinfo\": \"none\", \"text\": [\"2\"]}, {\"mode\": \"markers+text\", \"x\": [1.0], \"textposition\": \"middle center\", \"textfont\": {\"color\": \"rgb(0, 0, 0)\"}, \"marker\": {\"color\": \"rgb(255, 255, 255)\", \"line\": {\"color\": \"rgb(0, 0, 0)\", \"width\": 1}, \"size\": 20}, \"y\": [1.0], \"hoverinfo\": \"none\", \"text\": [\"3\"]}, {\"mode\": \"markers+text\", \"x\": [0.33], \"textposition\": \"middle center\", \"textfont\": {\"color\": \"rgb(0, 0, 0)\"}, \"marker\": {\"color\": \"rgb(255, 255, 255)\", \"line\": {\"color\": \"rgb(0, 0, 0)\", \"width\": 1}, \"size\": 20}, \"y\": [0.0], \"hoverinfo\": \"none\", \"text\": [\"4\"]}, {\"mode\": \"markers+text\", \"x\": [0.66], \"textposition\": \"middle center\", \"textfont\": {\"color\": \"rgb(0, 0, 0)\"}, \"marker\": {\"color\": \"rgb(255, 255, 255)\", \"line\": {\"color\": \"rgb(0, 0, 0)\", \"width\": 1}, \"size\": 20}, \"y\": [0.0], \"hoverinfo\": \"none\", \"text\": [\"5\"]}, {\"mode\": \"markers+text\", \"x\": [1.0], \"textposition\": \"middle center\", \"textfont\": {\"color\": \"rgb(0, 0, 0)\"}, \"marker\": {\"color\": \"rgb(255, 255, 255)\", \"line\": {\"color\": \"rgb(0, 0, 0)\", \"width\": 1}, \"size\": 20}, \"y\": [0.0], \"hoverinfo\": \"none\", \"text\": [\"6\"]}]}, {\"name\": 1, \"data\": [{\"mode\": \"lines\", \"line\": {\"color\": \"rgb(0, 0, 0)\", \"width\": 1}, \"y\": [0.5, 1.0, null, 0.9550095020335311, 0.8882926689752846, null, 0.9550095020335311, 0.9427605821595028, null], \"hoverinfo\": \"none\", \"x\": [0.0, 0.33, null, 0.3003062713421305, 0.2855225877733855, null, 0.3003062713421305, 0.2629725579755741, null]}, {\"mode\": \"lines\", \"line\": {\"color\": \"rgb(0, 0, 0)\", \"width\": 1}, \"y\": [0.5, 0.0, null, 0.04499049796646893, 0.0572394178404972, null, 0.04499049796646893, 0.11170733102471547, null], \"hoverinfo\": \"none\", \"x\": [0.0, 0.33, null, 0.3003062713421305, 0.2629725579755741, null, 0.3003062713421305, 0.2855225877733855, null]}, {\"mode\": \"lines\", \"line\": {\"color\": \"rgb(0, 0, 0)\", \"width\": 1}, \"y\": [1.0, 1.0, null, 1.0, 0.9652590189417244, null, 1.0, 1.0347409810582755, null], \"hoverinfo\": \"none\", \"x\": [0.33, 0.66, null, 0.6221212121212122, 0.5888794484132436, null, 0.6221212121212122, 0.5888794484132436, null]}, {\"mode\": \"lines\", \"line\": {\"color\": \"rgb(0, 0, 0)\", \"width\": 1}, \"y\": [1.0, 1.0, null, 1.0, 0.9652590189417244, null, 1.0, 1.0347409810582755, null], \"hoverinfo\": \"none\", \"x\": [0.66, 1.0, null, 0.9621212121212122, 0.9288794484132434, null, 0.9621212121212122, 0.9288794484132434, null]}, {\"mode\": \"lines\", \"line\": {\"color\": \"rgb(0, 0, 0)\", \"width\": 1}, \"y\": [1.0, 0.0, null, 0.06127490735002531, 0.13359437096827784, null, 0.06127490735002531, 0.09650302407543368, null], \"hoverinfo\": \"none\", \"x\": [0.66, 0.33, null, 0.35022071942550836, 0.3526100389194443, null, 0.35022071942550836, 0.3833221014449805, null]}, {\"mode\": \"lines\", \"line\": {\"color\": \"rgb(0, 0, 0)\", \"width\": 1}, \"y\": [1.0, 0.0, null, 0.06074471277448944, 0.13299554373343975, null, 0.06074471277448944, 0.09511088313140172, null], \"hoverinfo\": \"none\", \"x\": [1.0, 0.66, null, 0.6806532023433265, 0.6835549327328607, null, 0.6806532023433265, 0.7140012524011855, null]}, {\"mode\": \"lines\", \"line\": {\"color\": \"rgb(0, 0, 0)\", \"width\": 1}, \"y\": [0.0, 0.0, null, 0.0, -0.034740981058275576, null, 0.0, 0.034740981058275576, null], \"hoverinfo\": \"none\", \"x\": [0.33, 0.66, null, 0.6221212121212122, 0.5888794484132436, null, 0.6221212121212122, 0.5888794484132436, null]}, {\"mode\": \"lines\", \"line\": {\"color\": \"rgb(0, 0, 0)\", \"width\": 1}, \"y\": [0.0, 0.0, null, 0.0, -0.034740981058275576, null, 0.0, 0.034740981058275576, null], \"hoverinfo\": \"none\", \"x\": [0.66, 1.0, null, 0.9621212121212122, 0.9288794484132434, null, 0.9621212121212122, 0.9288794484132434, null]}, {\"mode\": \"markers+text\", \"x\": [0.0], \"textposition\": \"middle center\", \"textfont\": {\"color\": \"rgb(0, 0, 0)\"}, \"marker\": {\"color\": \"rgb(0, 255, 0)\", \"line\": {\"color\": \"rgb(0, 0, 0)\", \"width\": 1}, \"size\": 20}, \"y\": [0.5], \"hoverinfo\": \"none\", \"text\": [\"0\"]}, {\"mode\": \"markers+text\", \"x\": [0.33], \"textposition\": \"middle center\", \"textfont\": {\"color\": \"rgb(0, 0, 0)\"}, \"marker\": {\"color\": \"rgb(0, 255, 0)\", \"line\": {\"color\": \"rgb(0, 0, 0)\", \"width\": 1}, \"size\": 20}, \"y\": [1.0], \"hoverinfo\": \"none\", \"text\": [\"1\"]}, {\"mode\": \"markers+text\", \"x\": [0.66], \"textposition\": \"middle center\", \"textfont\": {\"color\": \"rgb(0, 0, 0)\"}, \"marker\": {\"color\": \"rgb(255, 255, 255)\", \"line\": {\"color\": \"rgb(0, 0, 0)\", \"width\": 1}, \"size\": 20}, \"y\": [1.0], \"hoverinfo\": \"none\", \"text\": [\"2\"]}, {\"mode\": \"markers+text\", \"x\": [1.0], \"textposition\": \"middle center\", \"textfont\": {\"color\": \"rgb(0, 0, 0)\"}, \"marker\": {\"color\": \"rgb(255, 255, 255)\", \"line\": {\"color\": \"rgb(0, 0, 0)\", \"width\": 1}, \"size\": 20}, \"y\": [1.0], \"hoverinfo\": \"none\", \"text\": [\"3\"]}, {\"mode\": \"markers+text\", \"x\": [0.33], \"textposition\": \"middle center\", \"textfont\": {\"color\": \"rgb(0, 0, 0)\"}, \"marker\": {\"color\": \"rgb(255, 255, 255)\", \"line\": {\"color\": \"rgb(0, 0, 0)\", \"width\": 1}, \"size\": 20}, \"y\": [0.0], \"hoverinfo\": \"none\", \"text\": [\"4\"]}, {\"mode\": \"markers+text\", \"x\": [0.66], \"textposition\": \"middle center\", \"textfont\": {\"color\": \"rgb(0, 0, 0)\"}, \"marker\": {\"color\": \"rgb(255, 255, 255)\", \"line\": {\"color\": \"rgb(0, 0, 0)\", \"width\": 1}, \"size\": 20}, \"y\": [0.0], \"hoverinfo\": \"none\", \"text\": [\"5\"]}, {\"mode\": \"markers+text\", \"x\": [1.0], \"textposition\": \"middle center\", \"textfont\": {\"color\": \"rgb(0, 0, 0)\"}, \"marker\": {\"color\": \"rgb(255, 255, 255)\", \"line\": {\"color\": \"rgb(0, 0, 0)\", \"width\": 1}, \"size\": 20}, \"y\": [0.0], \"hoverinfo\": \"none\", \"text\": [\"6\"]}]}, {\"name\": 2, \"data\": [{\"mode\": \"lines\", \"line\": {\"color\": \"rgb(0, 0, 0)\", \"width\": 1}, \"y\": [0.5, 1.0, null, 0.9550095020335311, 0.8882926689752846, null, 0.9550095020335311, 0.9427605821595028, null], \"hoverinfo\": \"none\", \"x\": [0.0, 0.33, null, 0.3003062713421305, 0.2855225877733855, null, 0.3003062713421305, 0.2629725579755741, null]}, {\"mode\": \"lines\", \"line\": {\"color\": \"rgb(0, 0, 0)\", \"width\": 1}, \"y\": [0.5, 0.0, null, 0.04499049796646893, 0.0572394178404972, null, 0.04499049796646893, 0.11170733102471547, null], \"hoverinfo\": \"none\", \"x\": [0.0, 0.33, null, 0.3003062713421305, 0.2629725579755741, null, 0.3003062713421305, 0.2855225877733855, null]}, {\"mode\": \"lines\", \"line\": {\"color\": \"rgb(0, 0, 0)\", \"width\": 1}, \"y\": [1.0, 1.0, null, 1.0, 0.9652590189417244, null, 1.0, 1.0347409810582755, null], \"hoverinfo\": \"none\", \"x\": [0.33, 0.66, null, 0.6221212121212122, 0.5888794484132436, null, 0.6221212121212122, 0.5888794484132436, null]}, {\"mode\": \"lines\", \"line\": {\"color\": \"rgb(0, 0, 0)\", \"width\": 1}, \"y\": [1.0, 1.0, null, 1.0, 0.9652590189417244, null, 1.0, 1.0347409810582755, null], \"hoverinfo\": \"none\", \"x\": [0.66, 1.0, null, 0.9621212121212122, 0.9288794484132434, null, 0.9621212121212122, 0.9288794484132434, null]}, {\"mode\": \"lines\", \"line\": {\"color\": \"rgb(0, 0, 0)\", \"width\": 1}, \"y\": [1.0, 0.0, null, 0.06127490735002531, 0.13359437096827784, null, 0.06127490735002531, 0.09650302407543368, null], \"hoverinfo\": \"none\", \"x\": [0.66, 0.33, null, 0.35022071942550836, 0.3526100389194443, null, 0.35022071942550836, 0.3833221014449805, null]}, {\"mode\": \"lines\", \"line\": {\"color\": \"rgb(0, 0, 0)\", \"width\": 1}, \"y\": [1.0, 0.0, null, 0.06074471277448944, 0.13299554373343975, null, 0.06074471277448944, 0.09511088313140172, null], \"hoverinfo\": \"none\", \"x\": [1.0, 0.66, null, 0.6806532023433265, 0.6835549327328607, null, 0.6806532023433265, 0.7140012524011855, null]}, {\"mode\": \"lines\", \"line\": {\"color\": \"rgb(0, 0, 0)\", \"width\": 1}, \"y\": [0.0, 0.0, null, 0.0, -0.034740981058275576, null, 0.0, 0.034740981058275576, null], \"hoverinfo\": \"none\", \"x\": [0.33, 0.66, null, 0.6221212121212122, 0.5888794484132436, null, 0.6221212121212122, 0.5888794484132436, null]}, {\"mode\": \"lines\", \"line\": {\"color\": \"rgb(0, 0, 0)\", \"width\": 1}, \"y\": [0.0, 0.0, null, 0.0, -0.034740981058275576, null, 0.0, 0.034740981058275576, null], \"hoverinfo\": \"none\", \"x\": [0.66, 1.0, null, 0.9621212121212122, 0.9288794484132434, null, 0.9621212121212122, 0.9288794484132434, null]}, {\"mode\": \"markers+text\", \"x\": [0.0], \"textposition\": \"middle center\", \"textfont\": {\"color\": \"rgb(0, 0, 0)\"}, \"marker\": {\"color\": \"rgb(0, 255, 0)\", \"line\": {\"color\": \"rgb(0, 0, 0)\", \"width\": 1}, \"size\": 20}, \"y\": [0.5], \"hoverinfo\": \"none\", \"text\": [\"0\"]}, {\"mode\": \"markers+text\", \"x\": [0.33], \"textposition\": \"middle center\", \"textfont\": {\"color\": \"rgb(0, 0, 0)\"}, \"marker\": {\"color\": \"rgb(0, 255, 0)\", \"line\": {\"color\": \"rgb(0, 0, 0)\", \"width\": 1}, \"size\": 20}, \"y\": [1.0], \"hoverinfo\": \"none\", \"text\": [\"1\"]}, {\"mode\": \"markers+text\", \"x\": [0.66], \"textposition\": \"middle center\", \"textfont\": {\"color\": \"rgb(0, 0, 0)\"}, \"marker\": {\"color\": \"rgb(255, 255, 255)\", \"line\": {\"color\": \"rgb(0, 0, 0)\", \"width\": 1}, \"size\": 20}, \"y\": [1.0], \"hoverinfo\": \"none\", \"text\": [\"2\"]}, {\"mode\": \"markers+text\", \"x\": [1.0], \"textposition\": \"middle center\", \"textfont\": {\"color\": \"rgb(0, 0, 0)\"}, \"marker\": {\"color\": \"rgb(255, 255, 255)\", \"line\": {\"color\": \"rgb(0, 0, 0)\", \"width\": 1}, \"size\": 20}, \"y\": [1.0], \"hoverinfo\": \"none\", \"text\": [\"3\"]}, {\"mode\": \"markers+text\", \"x\": [0.33], \"textposition\": \"middle center\", \"textfont\": {\"color\": \"rgb(0, 0, 0)\"}, \"marker\": {\"color\": \"rgb(0, 255, 0)\", \"line\": {\"color\": \"rgb(0, 0, 0)\", \"width\": 1}, \"size\": 20}, \"y\": [0.0], \"hoverinfo\": \"none\", \"text\": [\"4\"]}, {\"mode\": \"markers+text\", \"x\": [0.66], \"textposition\": \"middle center\", \"textfont\": {\"color\": \"rgb(0, 0, 0)\"}, \"marker\": {\"color\": \"rgb(255, 255, 255)\", \"line\": {\"color\": \"rgb(0, 0, 0)\", \"width\": 1}, \"size\": 20}, \"y\": [0.0], \"hoverinfo\": \"none\", \"text\": [\"5\"]}, {\"mode\": \"markers+text\", \"x\": [1.0], \"textposition\": \"middle center\", \"textfont\": {\"color\": \"rgb(0, 0, 0)\"}, \"marker\": {\"color\": \"rgb(255, 255, 255)\", \"line\": {\"color\": \"rgb(0, 0, 0)\", \"width\": 1}, \"size\": 20}, \"y\": [0.0], \"hoverinfo\": \"none\", \"text\": [\"6\"]}]}, {\"name\": 3, \"data\": [{\"mode\": \"lines\", \"line\": {\"color\": \"rgb(0, 0, 0)\", \"width\": 1}, \"y\": [0.5, 1.0, null, 0.9550095020335311, 0.8882926689752846, null, 0.9550095020335311, 0.9427605821595028, null], \"hoverinfo\": \"none\", \"x\": [0.0, 0.33, null, 0.3003062713421305, 0.2855225877733855, null, 0.3003062713421305, 0.2629725579755741, null]}, {\"mode\": \"lines\", \"line\": {\"color\": \"rgb(0, 0, 0)\", \"width\": 1}, \"y\": [0.5, 0.0, null, 0.04499049796646893, 0.0572394178404972, null, 0.04499049796646893, 0.11170733102471547, null], \"hoverinfo\": \"none\", \"x\": [0.0, 0.33, null, 0.3003062713421305, 0.2629725579755741, null, 0.3003062713421305, 0.2855225877733855, null]}, {\"mode\": \"lines\", \"line\": {\"color\": \"rgb(0, 0, 0)\", \"width\": 1}, \"y\": [1.0, 1.0, null, 1.0, 0.9652590189417244, null, 1.0, 1.0347409810582755, null], \"hoverinfo\": \"none\", \"x\": [0.33, 0.66, null, 0.6221212121212122, 0.5888794484132436, null, 0.6221212121212122, 0.5888794484132436, null]}, {\"mode\": \"lines\", \"line\": {\"color\": \"rgb(0, 0, 0)\", \"width\": 1}, \"y\": [1.0, 1.0, null, 1.0, 0.9652590189417244, null, 1.0, 1.0347409810582755, null], \"hoverinfo\": \"none\", \"x\": [0.66, 1.0, null, 0.9621212121212122, 0.9288794484132434, null, 0.9621212121212122, 0.9288794484132434, null]}, {\"mode\": \"lines\", \"line\": {\"color\": \"rgb(0, 0, 0)\", \"width\": 1}, \"y\": [1.0, 0.0, null, 0.06127490735002531, 0.13359437096827784, null, 0.06127490735002531, 0.09650302407543368, null], \"hoverinfo\": \"none\", \"x\": [0.66, 0.33, null, 0.35022071942550836, 0.3526100389194443, null, 0.35022071942550836, 0.3833221014449805, null]}, {\"mode\": \"lines\", \"line\": {\"color\": \"rgb(0, 0, 0)\", \"width\": 1}, \"y\": [1.0, 0.0, null, 0.06074471277448944, 0.13299554373343975, null, 0.06074471277448944, 0.09511088313140172, null], \"hoverinfo\": \"none\", \"x\": [1.0, 0.66, null, 0.6806532023433265, 0.6835549327328607, null, 0.6806532023433265, 0.7140012524011855, null]}, {\"mode\": \"lines\", \"line\": {\"color\": \"rgb(0, 0, 0)\", \"width\": 1}, \"y\": [0.0, 0.0, null, 0.0, -0.034740981058275576, null, 0.0, 0.034740981058275576, null], \"hoverinfo\": \"none\", \"x\": [0.33, 0.66, null, 0.6221212121212122, 0.5888794484132436, null, 0.6221212121212122, 0.5888794484132436, null]}, {\"mode\": \"lines\", \"line\": {\"color\": \"rgb(0, 0, 0)\", \"width\": 1}, \"y\": [0.0, 0.0, null, 0.0, -0.034740981058275576, null, 0.0, 0.034740981058275576, null], \"hoverinfo\": \"none\", \"x\": [0.66, 1.0, null, 0.9621212121212122, 0.9288794484132434, null, 0.9621212121212122, 0.9288794484132434, null]}, {\"mode\": \"markers+text\", \"x\": [0.0], \"textposition\": \"middle center\", \"textfont\": {\"color\": \"rgb(0, 0, 0)\"}, \"marker\": {\"color\": \"rgb(0, 255, 0)\", \"line\": {\"color\": \"rgb(0, 0, 0)\", \"width\": 1}, \"size\": 20}, \"y\": [0.5], \"hoverinfo\": \"none\", \"text\": [\"0\"]}, {\"mode\": \"markers+text\", \"x\": [0.33], \"textposition\": \"middle center\", \"textfont\": {\"color\": \"rgb(0, 0, 0)\"}, \"marker\": {\"color\": \"rgb(0, 255, 0)\", \"line\": {\"color\": \"rgb(0, 0, 0)\", \"width\": 1}, \"size\": 20}, \"y\": [1.0], \"hoverinfo\": \"none\", \"text\": [\"1\"]}, {\"mode\": \"markers+text\", \"x\": [0.66], \"textposition\": \"middle center\", \"textfont\": {\"color\": \"rgb(0, 0, 0)\"}, \"marker\": {\"color\": \"rgb(0, 255, 0)\", \"line\": {\"color\": \"rgb(0, 0, 0)\", \"width\": 1}, \"size\": 20}, \"y\": [1.0], \"hoverinfo\": \"none\", \"text\": [\"2\"]}, {\"mode\": \"markers+text\", \"x\": [1.0], \"textposition\": \"middle center\", \"textfont\": {\"color\": \"rgb(0, 0, 0)\"}, \"marker\": {\"color\": \"rgb(255, 255, 255)\", \"line\": {\"color\": \"rgb(0, 0, 0)\", \"width\": 1}, \"size\": 20}, \"y\": [1.0], \"hoverinfo\": \"none\", \"text\": [\"3\"]}, {\"mode\": \"markers+text\", \"x\": [0.33], \"textposition\": \"middle center\", \"textfont\": {\"color\": \"rgb(0, 0, 0)\"}, \"marker\": {\"color\": \"rgb(0, 255, 0)\", \"line\": {\"color\": \"rgb(0, 0, 0)\", \"width\": 1}, \"size\": 20}, \"y\": [0.0], \"hoverinfo\": \"none\", \"text\": [\"4\"]}, {\"mode\": \"markers+text\", \"x\": [0.66], \"textposition\": \"middle center\", \"textfont\": {\"color\": \"rgb(0, 0, 0)\"}, \"marker\": {\"color\": \"rgb(255, 255, 255)\", \"line\": {\"color\": \"rgb(0, 0, 0)\", \"width\": 1}, \"size\": 20}, \"y\": [0.0], \"hoverinfo\": \"none\", \"text\": [\"5\"]}, {\"mode\": \"markers+text\", \"x\": [1.0], \"textposition\": \"middle center\", \"textfont\": {\"color\": \"rgb(0, 0, 0)\"}, \"marker\": {\"color\": \"rgb(255, 255, 255)\", \"line\": {\"color\": \"rgb(0, 0, 0)\", \"width\": 1}, \"size\": 20}, \"y\": [0.0], \"hoverinfo\": \"none\", \"text\": [\"6\"]}]}, {\"name\": 4, \"data\": [{\"mode\": \"lines\", \"line\": {\"color\": \"rgb(0, 0, 0)\", \"width\": 1}, \"y\": [0.5, 1.0, null, 0.9550095020335311, 0.8882926689752846, null, 0.9550095020335311, 0.9427605821595028, null], \"hoverinfo\": \"none\", \"x\": [0.0, 0.33, null, 0.3003062713421305, 0.2855225877733855, null, 0.3003062713421305, 0.2629725579755741, null]}, {\"mode\": \"lines\", \"line\": {\"color\": \"rgb(0, 0, 0)\", \"width\": 1}, \"y\": [0.5, 0.0, null, 0.04499049796646893, 0.0572394178404972, null, 0.04499049796646893, 0.11170733102471547, null], \"hoverinfo\": \"none\", \"x\": [0.0, 0.33, null, 0.3003062713421305, 0.2629725579755741, null, 0.3003062713421305, 0.2855225877733855, null]}, {\"mode\": \"lines\", \"line\": {\"color\": \"rgb(0, 0, 0)\", \"width\": 1}, \"y\": [1.0, 1.0, null, 1.0, 0.9652590189417244, null, 1.0, 1.0347409810582755, null], \"hoverinfo\": \"none\", \"x\": [0.33, 0.66, null, 0.6221212121212122, 0.5888794484132436, null, 0.6221212121212122, 0.5888794484132436, null]}, {\"mode\": \"lines\", \"line\": {\"color\": \"rgb(0, 0, 0)\", \"width\": 1}, \"y\": [1.0, 1.0, null, 1.0, 0.9652590189417244, null, 1.0, 1.0347409810582755, null], \"hoverinfo\": \"none\", \"x\": [0.66, 1.0, null, 0.9621212121212122, 0.9288794484132434, null, 0.9621212121212122, 0.9288794484132434, null]}, {\"mode\": \"lines\", \"line\": {\"color\": \"rgb(0, 0, 0)\", \"width\": 1}, \"y\": [1.0, 0.0, null, 0.06127490735002531, 0.13359437096827784, null, 0.06127490735002531, 0.09650302407543368, null], \"hoverinfo\": \"none\", \"x\": [0.66, 0.33, null, 0.35022071942550836, 0.3526100389194443, null, 0.35022071942550836, 0.3833221014449805, null]}, {\"mode\": \"lines\", \"line\": {\"color\": \"rgb(0, 0, 0)\", \"width\": 1}, \"y\": [1.0, 0.0, null, 0.06074471277448944, 0.13299554373343975, null, 0.06074471277448944, 0.09511088313140172, null], \"hoverinfo\": \"none\", \"x\": [1.0, 0.66, null, 0.6806532023433265, 0.6835549327328607, null, 0.6806532023433265, 0.7140012524011855, null]}, {\"mode\": \"lines\", \"line\": {\"color\": \"rgb(0, 0, 0)\", \"width\": 1}, \"y\": [0.0, 0.0, null, 0.0, -0.034740981058275576, null, 0.0, 0.034740981058275576, null], \"hoverinfo\": \"none\", \"x\": [0.33, 0.66, null, 0.6221212121212122, 0.5888794484132436, null, 0.6221212121212122, 0.5888794484132436, null]}, {\"mode\": \"lines\", \"line\": {\"color\": \"rgb(0, 0, 0)\", \"width\": 1}, \"y\": [0.0, 0.0, null, 0.0, -0.034740981058275576, null, 0.0, 0.034740981058275576, null], \"hoverinfo\": \"none\", \"x\": [0.66, 1.0, null, 0.9621212121212122, 0.9288794484132434, null, 0.9621212121212122, 0.9288794484132434, null]}, {\"mode\": \"markers+text\", \"x\": [0.0], \"textposition\": \"middle center\", \"textfont\": {\"color\": \"rgb(0, 0, 0)\"}, \"marker\": {\"color\": \"rgb(0, 255, 0)\", \"line\": {\"color\": \"rgb(0, 0, 0)\", \"width\": 1}, \"size\": 20}, \"y\": [0.5], \"hoverinfo\": \"none\", \"text\": [\"0\"]}, {\"mode\": \"markers+text\", \"x\": [0.33], \"textposition\": \"middle center\", \"textfont\": {\"color\": \"rgb(0, 0, 0)\"}, \"marker\": {\"color\": \"rgb(0, 255, 0)\", \"line\": {\"color\": \"rgb(0, 0, 0)\", \"width\": 1}, \"size\": 20}, \"y\": [1.0], \"hoverinfo\": \"none\", \"text\": [\"1\"]}, {\"mode\": \"markers+text\", \"x\": [0.66], \"textposition\": \"middle center\", \"textfont\": {\"color\": \"rgb(0, 0, 0)\"}, \"marker\": {\"color\": \"rgb(0, 255, 0)\", \"line\": {\"color\": \"rgb(0, 0, 0)\", \"width\": 1}, \"size\": 20}, \"y\": [1.0], \"hoverinfo\": \"none\", \"text\": [\"2\"]}, {\"mode\": \"markers+text\", \"x\": [1.0], \"textposition\": \"middle center\", \"textfont\": {\"color\": \"rgb(0, 0, 0)\"}, \"marker\": {\"color\": \"rgb(255, 255, 255)\", \"line\": {\"color\": \"rgb(0, 0, 0)\", \"width\": 1}, \"size\": 20}, \"y\": [1.0], \"hoverinfo\": \"none\", \"text\": [\"3\"]}, {\"mode\": \"markers+text\", \"x\": [0.33], \"textposition\": \"middle center\", \"textfont\": {\"color\": \"rgb(0, 0, 0)\"}, \"marker\": {\"color\": \"rgb(0, 255, 0)\", \"line\": {\"color\": \"rgb(0, 0, 0)\", \"width\": 1}, \"size\": 20}, \"y\": [0.0], \"hoverinfo\": \"none\", \"text\": [\"4\"]}, {\"mode\": \"markers+text\", \"x\": [0.66], \"textposition\": \"middle center\", \"textfont\": {\"color\": \"rgb(0, 0, 0)\"}, \"marker\": {\"color\": \"rgb(0, 255, 0)\", \"line\": {\"color\": \"rgb(0, 0, 0)\", \"width\": 1}, \"size\": 20}, \"y\": [0.0], \"hoverinfo\": \"none\", \"text\": [\"5\"]}, {\"mode\": \"markers+text\", \"x\": [1.0], \"textposition\": \"middle center\", \"textfont\": {\"color\": \"rgb(0, 0, 0)\"}, \"marker\": {\"color\": \"rgb(255, 255, 255)\", \"line\": {\"color\": \"rgb(0, 0, 0)\", \"width\": 1}, \"size\": 20}, \"y\": [0.0], \"hoverinfo\": \"none\", \"text\": [\"6\"]}]}, {\"name\": 5, \"data\": [{\"mode\": \"lines\", \"line\": {\"color\": \"rgb(0, 0, 0)\", \"width\": 1}, \"y\": [0.5, 1.0, null, 0.9550095020335311, 0.8882926689752846, null, 0.9550095020335311, 0.9427605821595028, null], \"hoverinfo\": \"none\", \"x\": [0.0, 0.33, null, 0.3003062713421305, 0.2855225877733855, null, 0.3003062713421305, 0.2629725579755741, null]}, {\"mode\": \"lines\", \"line\": {\"color\": \"rgb(0, 0, 0)\", \"width\": 1}, \"y\": [0.5, 0.0, null, 0.04499049796646893, 0.0572394178404972, null, 0.04499049796646893, 0.11170733102471547, null], \"hoverinfo\": \"none\", \"x\": [0.0, 0.33, null, 0.3003062713421305, 0.2629725579755741, null, 0.3003062713421305, 0.2855225877733855, null]}, {\"mode\": \"lines\", \"line\": {\"color\": \"rgb(0, 0, 0)\", \"width\": 1}, \"y\": [1.0, 1.0, null, 1.0, 0.9652590189417244, null, 1.0, 1.0347409810582755, null], \"hoverinfo\": \"none\", \"x\": [0.33, 0.66, null, 0.6221212121212122, 0.5888794484132436, null, 0.6221212121212122, 0.5888794484132436, null]}, {\"mode\": \"lines\", \"line\": {\"color\": \"rgb(0, 0, 0)\", \"width\": 1}, \"y\": [1.0, 1.0, null, 1.0, 0.9652590189417244, null, 1.0, 1.0347409810582755, null], \"hoverinfo\": \"none\", \"x\": [0.66, 1.0, null, 0.9621212121212122, 0.9288794484132434, null, 0.9621212121212122, 0.9288794484132434, null]}, {\"mode\": \"lines\", \"line\": {\"color\": \"rgb(0, 0, 0)\", \"width\": 1}, \"y\": [1.0, 0.0, null, 0.06127490735002531, 0.13359437096827784, null, 0.06127490735002531, 0.09650302407543368, null], \"hoverinfo\": \"none\", \"x\": [0.66, 0.33, null, 0.35022071942550836, 0.3526100389194443, null, 0.35022071942550836, 0.3833221014449805, null]}, {\"mode\": \"lines\", \"line\": {\"color\": \"rgb(0, 0, 0)\", \"width\": 1}, \"y\": [1.0, 0.0, null, 0.06074471277448944, 0.13299554373343975, null, 0.06074471277448944, 0.09511088313140172, null], \"hoverinfo\": \"none\", \"x\": [1.0, 0.66, null, 0.6806532023433265, 0.6835549327328607, null, 0.6806532023433265, 0.7140012524011855, null]}, {\"mode\": \"lines\", \"line\": {\"color\": \"rgb(0, 0, 0)\", \"width\": 1}, \"y\": [0.0, 0.0, null, 0.0, -0.034740981058275576, null, 0.0, 0.034740981058275576, null], \"hoverinfo\": \"none\", \"x\": [0.33, 0.66, null, 0.6221212121212122, 0.5888794484132436, null, 0.6221212121212122, 0.5888794484132436, null]}, {\"mode\": \"lines\", \"line\": {\"color\": \"rgb(0, 0, 0)\", \"width\": 1}, \"y\": [0.0, 0.0, null, 0.0, -0.034740981058275576, null, 0.0, 0.034740981058275576, null], \"hoverinfo\": \"none\", \"x\": [0.66, 1.0, null, 0.9621212121212122, 0.9288794484132434, null, 0.9621212121212122, 0.9288794484132434, null]}, {\"mode\": \"markers+text\", \"x\": [0.0], \"textposition\": \"middle center\", \"textfont\": {\"color\": \"rgb(0, 0, 0)\"}, \"marker\": {\"color\": \"rgb(0, 255, 0)\", \"line\": {\"color\": \"rgb(0, 0, 0)\", \"width\": 1}, \"size\": 20}, \"y\": [0.5], \"hoverinfo\": \"none\", \"text\": [\"0\"]}, {\"mode\": \"markers+text\", \"x\": [0.33], \"textposition\": \"middle center\", \"textfont\": {\"color\": \"rgb(0, 0, 0)\"}, \"marker\": {\"color\": \"rgb(0, 255, 0)\", \"line\": {\"color\": \"rgb(0, 0, 0)\", \"width\": 1}, \"size\": 20}, \"y\": [1.0], \"hoverinfo\": \"none\", \"text\": [\"1\"]}, {\"mode\": \"markers+text\", \"x\": [0.66], \"textposition\": \"middle center\", \"textfont\": {\"color\": \"rgb(0, 0, 0)\"}, \"marker\": {\"color\": \"rgb(0, 255, 0)\", \"line\": {\"color\": \"rgb(0, 0, 0)\", \"width\": 1}, \"size\": 20}, \"y\": [1.0], \"hoverinfo\": \"none\", \"text\": [\"2\"]}, {\"mode\": \"markers+text\", \"x\": [1.0], \"textposition\": \"middle center\", \"textfont\": {\"color\": \"rgb(0, 0, 0)\"}, \"marker\": {\"color\": \"rgb(0, 255, 0)\", \"line\": {\"color\": \"rgb(0, 0, 0)\", \"width\": 1}, \"size\": 20}, \"y\": [1.0], \"hoverinfo\": \"none\", \"text\": [\"3\"]}, {\"mode\": \"markers+text\", \"x\": [0.33], \"textposition\": \"middle center\", \"textfont\": {\"color\": \"rgb(0, 0, 0)\"}, \"marker\": {\"color\": \"rgb(0, 255, 0)\", \"line\": {\"color\": \"rgb(0, 0, 0)\", \"width\": 1}, \"size\": 20}, \"y\": [0.0], \"hoverinfo\": \"none\", \"text\": [\"4\"]}, {\"mode\": \"markers+text\", \"x\": [0.66], \"textposition\": \"middle center\", \"textfont\": {\"color\": \"rgb(0, 0, 0)\"}, \"marker\": {\"color\": \"rgb(0, 255, 0)\", \"line\": {\"color\": \"rgb(0, 0, 0)\", \"width\": 1}, \"size\": 20}, \"y\": [0.0], \"hoverinfo\": \"none\", \"text\": [\"5\"]}, {\"mode\": \"markers+text\", \"x\": [1.0], \"textposition\": \"middle center\", \"textfont\": {\"color\": \"rgb(0, 0, 0)\"}, \"marker\": {\"color\": \"rgb(255, 255, 255)\", \"line\": {\"color\": \"rgb(0, 0, 0)\", \"width\": 1}, \"size\": 20}, \"y\": [0.0], \"hoverinfo\": \"none\", \"text\": [\"6\"]}]}, {\"name\": 6, \"data\": [{\"mode\": \"lines\", \"line\": {\"color\": \"rgb(0, 0, 0)\", \"width\": 1}, \"y\": [0.5, 1.0, null, 0.9550095020335311, 0.8882926689752846, null, 0.9550095020335311, 0.9427605821595028, null], \"hoverinfo\": \"none\", \"x\": [0.0, 0.33, null, 0.3003062713421305, 0.2855225877733855, null, 0.3003062713421305, 0.2629725579755741, null]}, {\"mode\": \"lines\", \"line\": {\"color\": \"rgb(0, 0, 0)\", \"width\": 1}, \"y\": [0.5, 0.0, null, 0.04499049796646893, 0.0572394178404972, null, 0.04499049796646893, 0.11170733102471547, null], \"hoverinfo\": \"none\", \"x\": [0.0, 0.33, null, 0.3003062713421305, 0.2629725579755741, null, 0.3003062713421305, 0.2855225877733855, null]}, {\"mode\": \"lines\", \"line\": {\"color\": \"rgb(0, 0, 0)\", \"width\": 1}, \"y\": [1.0, 1.0, null, 1.0, 0.9652590189417244, null, 1.0, 1.0347409810582755, null], \"hoverinfo\": \"none\", \"x\": [0.33, 0.66, null, 0.6221212121212122, 0.5888794484132436, null, 0.6221212121212122, 0.5888794484132436, null]}, {\"mode\": \"lines\", \"line\": {\"color\": \"rgb(0, 0, 0)\", \"width\": 1}, \"y\": [1.0, 1.0, null, 1.0, 0.9652590189417244, null, 1.0, 1.0347409810582755, null], \"hoverinfo\": \"none\", \"x\": [0.66, 1.0, null, 0.9621212121212122, 0.9288794484132434, null, 0.9621212121212122, 0.9288794484132434, null]}, {\"mode\": \"lines\", \"line\": {\"color\": \"rgb(0, 0, 0)\", \"width\": 1}, \"y\": [1.0, 0.0, null, 0.06127490735002531, 0.13359437096827784, null, 0.06127490735002531, 0.09650302407543368, null], \"hoverinfo\": \"none\", \"x\": [0.66, 0.33, null, 0.35022071942550836, 0.3526100389194443, null, 0.35022071942550836, 0.3833221014449805, null]}, {\"mode\": \"lines\", \"line\": {\"color\": \"rgb(0, 0, 0)\", \"width\": 1}, \"y\": [1.0, 0.0, null, 0.06074471277448944, 0.13299554373343975, null, 0.06074471277448944, 0.09511088313140172, null], \"hoverinfo\": \"none\", \"x\": [1.0, 0.66, null, 0.6806532023433265, 0.6835549327328607, null, 0.6806532023433265, 0.7140012524011855, null]}, {\"mode\": \"lines\", \"line\": {\"color\": \"rgb(0, 0, 0)\", \"width\": 1}, \"y\": [0.0, 0.0, null, 0.0, -0.034740981058275576, null, 0.0, 0.034740981058275576, null], \"hoverinfo\": \"none\", \"x\": [0.33, 0.66, null, 0.6221212121212122, 0.5888794484132436, null, 0.6221212121212122, 0.5888794484132436, null]}, {\"mode\": \"lines\", \"line\": {\"color\": \"rgb(0, 0, 0)\", \"width\": 1}, \"y\": [0.0, 0.0, null, 0.0, -0.034740981058275576, null, 0.0, 0.034740981058275576, null], \"hoverinfo\": \"none\", \"x\": [0.66, 1.0, null, 0.9621212121212122, 0.9288794484132434, null, 0.9621212121212122, 0.9288794484132434, null]}, {\"mode\": \"markers+text\", \"x\": [0.0], \"textposition\": \"middle center\", \"textfont\": {\"color\": \"rgb(0, 0, 0)\"}, \"marker\": {\"color\": \"rgb(0, 255, 0)\", \"line\": {\"color\": \"rgb(0, 0, 0)\", \"width\": 1}, \"size\": 20}, \"y\": [0.5], \"hoverinfo\": \"none\", \"text\": [\"0\"]}, {\"mode\": \"markers+text\", \"x\": [0.33], \"textposition\": \"middle center\", \"textfont\": {\"color\": \"rgb(0, 0, 0)\"}, \"marker\": {\"color\": \"rgb(0, 255, 0)\", \"line\": {\"color\": \"rgb(0, 0, 0)\", \"width\": 1}, \"size\": 20}, \"y\": [1.0], \"hoverinfo\": \"none\", \"text\": [\"1\"]}, {\"mode\": \"markers+text\", \"x\": [0.66], \"textposition\": \"middle center\", \"textfont\": {\"color\": \"rgb(0, 0, 0)\"}, \"marker\": {\"color\": \"rgb(0, 255, 0)\", \"line\": {\"color\": \"rgb(0, 0, 0)\", \"width\": 1}, \"size\": 20}, \"y\": [1.0], \"hoverinfo\": \"none\", \"text\": [\"2\"]}, {\"mode\": \"markers+text\", \"x\": [1.0], \"textposition\": \"middle center\", \"textfont\": {\"color\": \"rgb(0, 0, 0)\"}, \"marker\": {\"color\": \"rgb(0, 255, 0)\", \"line\": {\"color\": \"rgb(0, 0, 0)\", \"width\": 1}, \"size\": 20}, \"y\": [1.0], \"hoverinfo\": \"none\", \"text\": [\"3\"]}, {\"mode\": \"markers+text\", \"x\": [0.33], \"textposition\": \"middle center\", \"textfont\": {\"color\": \"rgb(0, 0, 0)\"}, \"marker\": {\"color\": \"rgb(0, 255, 0)\", \"line\": {\"color\": \"rgb(0, 0, 0)\", \"width\": 1}, \"size\": 20}, \"y\": [0.0], \"hoverinfo\": \"none\", \"text\": [\"4\"]}, {\"mode\": \"markers+text\", \"x\": [0.66], \"textposition\": \"middle center\", \"textfont\": {\"color\": \"rgb(0, 0, 0)\"}, \"marker\": {\"color\": \"rgb(0, 255, 0)\", \"line\": {\"color\": \"rgb(0, 0, 0)\", \"width\": 1}, \"size\": 20}, \"y\": [0.0], \"hoverinfo\": \"none\", \"text\": [\"5\"]}, {\"mode\": \"markers+text\", \"x\": [1.0], \"textposition\": \"middle center\", \"textfont\": {\"color\": \"rgb(0, 0, 0)\"}, \"marker\": {\"color\": \"rgb(0, 255, 0)\", \"line\": {\"color\": \"rgb(0, 0, 0)\", \"width\": 1}, \"size\": 20}, \"y\": [0.0], \"hoverinfo\": \"none\", \"text\": [\"6\"]}]}]);}).then(function(){Plotly.animate('1dca6daf-f6e4-4454-98b2-73ac6af2a0c7');})\n",
       "        });</script>"
      ],
      "text/vnd.plotly.v1+html": [
       "<div id=\"1dca6daf-f6e4-4454-98b2-73ac6af2a0c7\" style=\"height: 256.0px; width: 408.0px;\" class=\"plotly-graph-div\"></div><script type=\"text/javascript\">require([\"plotly\"], function(Plotly) { window.PLOTLYENV=window.PLOTLYENV || {};window.PLOTLYENV.BASE_URL=\"https://plot.ly\";\n",
       "        Plotly.plot(\n",
       "            '1dca6daf-f6e4-4454-98b2-73ac6af2a0c7',\n",
       "            [{\"mode\": \"lines\", \"line\": {\"color\": \"rgb(0, 0, 0)\", \"width\": 1}, \"y\": [0.5, 1.0, null, 0.9550095020335311, 0.8882926689752846, null, 0.9550095020335311, 0.9427605821595028, null], \"hoverinfo\": \"none\", \"x\": [0.0, 0.33, null, 0.3003062713421305, 0.2855225877733855, null, 0.3003062713421305, 0.2629725579755741, null]}, {\"mode\": \"lines\", \"line\": {\"color\": \"rgb(0, 0, 0)\", \"width\": 1}, \"y\": [0.5, 0.0, null, 0.04499049796646893, 0.0572394178404972, null, 0.04499049796646893, 0.11170733102471547, null], \"hoverinfo\": \"none\", \"x\": [0.0, 0.33, null, 0.3003062713421305, 0.2629725579755741, null, 0.3003062713421305, 0.2855225877733855, null]}, {\"mode\": \"lines\", \"line\": {\"color\": \"rgb(0, 0, 0)\", \"width\": 1}, \"y\": [1.0, 1.0, null, 1.0, 0.9652590189417244, null, 1.0, 1.0347409810582755, null], \"hoverinfo\": \"none\", \"x\": [0.33, 0.66, null, 0.6221212121212122, 0.5888794484132436, null, 0.6221212121212122, 0.5888794484132436, null]}, {\"mode\": \"lines\", \"line\": {\"color\": \"rgb(0, 0, 0)\", \"width\": 1}, \"y\": [1.0, 1.0, null, 1.0, 0.9652590189417244, null, 1.0, 1.0347409810582755, null], \"hoverinfo\": \"none\", \"x\": [0.66, 1.0, null, 0.9621212121212122, 0.9288794484132434, null, 0.9621212121212122, 0.9288794484132434, null]}, {\"mode\": \"lines\", \"line\": {\"color\": \"rgb(0, 0, 0)\", \"width\": 1}, \"y\": [1.0, 0.0, null, 0.06127490735002531, 0.13359437096827784, null, 0.06127490735002531, 0.09650302407543368, null], \"hoverinfo\": \"none\", \"x\": [0.66, 0.33, null, 0.35022071942550836, 0.3526100389194443, null, 0.35022071942550836, 0.3833221014449805, null]}, {\"mode\": \"lines\", \"line\": {\"color\": \"rgb(0, 0, 0)\", \"width\": 1}, \"y\": [1.0, 0.0, null, 0.06074471277448944, 0.13299554373343975, null, 0.06074471277448944, 0.09511088313140172, null], \"hoverinfo\": \"none\", \"x\": [1.0, 0.66, null, 0.6806532023433265, 0.6835549327328607, null, 0.6806532023433265, 0.7140012524011855, null]}, {\"mode\": \"lines\", \"line\": {\"color\": \"rgb(0, 0, 0)\", \"width\": 1}, \"y\": [0.0, 0.0, null, 0.0, -0.034740981058275576, null, 0.0, 0.034740981058275576, null], \"hoverinfo\": \"none\", \"x\": [0.33, 0.66, null, 0.6221212121212122, 0.5888794484132436, null, 0.6221212121212122, 0.5888794484132436, null]}, {\"mode\": \"lines\", \"line\": {\"color\": \"rgb(0, 0, 0)\", \"width\": 1}, \"y\": [0.0, 0.0, null, 0.0, -0.034740981058275576, null, 0.0, 0.034740981058275576, null], \"hoverinfo\": \"none\", \"x\": [0.66, 1.0, null, 0.9621212121212122, 0.9288794484132434, null, 0.9621212121212122, 0.9288794484132434, null]}, {\"mode\": \"markers+text\", \"x\": [0.0], \"textposition\": \"middle center\", \"textfont\": {\"color\": \"rgb(0, 0, 0)\"}, \"marker\": {\"color\": \"rgb(0, 255, 0)\", \"line\": {\"color\": \"rgb(0, 0, 0)\", \"width\": 1}, \"size\": 20}, \"y\": [0.5], \"hoverinfo\": \"none\", \"text\": [\"0\"]}, {\"mode\": \"markers+text\", \"x\": [0.33], \"textposition\": \"middle center\", \"textfont\": {\"color\": \"rgb(0, 0, 0)\"}, \"marker\": {\"color\": \"rgb(255, 255, 255)\", \"line\": {\"color\": \"rgb(0, 0, 0)\", \"width\": 1}, \"size\": 20}, \"y\": [1.0], \"hoverinfo\": \"none\", \"text\": [\"1\"]}, {\"mode\": \"markers+text\", \"x\": [0.66], \"textposition\": \"middle center\", \"textfont\": {\"color\": \"rgb(0, 0, 0)\"}, \"marker\": {\"color\": \"rgb(255, 255, 255)\", \"line\": {\"color\": \"rgb(0, 0, 0)\", \"width\": 1}, \"size\": 20}, \"y\": [1.0], \"hoverinfo\": \"none\", \"text\": [\"2\"]}, {\"mode\": \"markers+text\", \"x\": [1.0], \"textposition\": \"middle center\", \"textfont\": {\"color\": \"rgb(0, 0, 0)\"}, \"marker\": {\"color\": \"rgb(255, 255, 255)\", \"line\": {\"color\": \"rgb(0, 0, 0)\", \"width\": 1}, \"size\": 20}, \"y\": [1.0], \"hoverinfo\": \"none\", \"text\": [\"3\"]}, {\"mode\": \"markers+text\", \"x\": [0.33], \"textposition\": \"middle center\", \"textfont\": {\"color\": \"rgb(0, 0, 0)\"}, \"marker\": {\"color\": \"rgb(255, 255, 255)\", \"line\": {\"color\": \"rgb(0, 0, 0)\", \"width\": 1}, \"size\": 20}, \"y\": [0.0], \"hoverinfo\": \"none\", \"text\": [\"4\"]}, {\"mode\": \"markers+text\", \"x\": [0.66], \"textposition\": \"middle center\", \"textfont\": {\"color\": \"rgb(0, 0, 0)\"}, \"marker\": {\"color\": \"rgb(255, 255, 255)\", \"line\": {\"color\": \"rgb(0, 0, 0)\", \"width\": 1}, \"size\": 20}, \"y\": [0.0], \"hoverinfo\": \"none\", \"text\": [\"5\"]}, {\"mode\": \"markers+text\", \"x\": [1.0], \"textposition\": \"middle center\", \"textfont\": {\"color\": \"rgb(0, 0, 0)\"}, \"marker\": {\"color\": \"rgb(255, 255, 255)\", \"line\": {\"color\": \"rgb(0, 0, 0)\", \"width\": 1}, \"size\": 20}, \"y\": [0.0], \"hoverinfo\": \"none\", \"text\": [\"6\"]}],\n",
       "            {\"margin\": {\"r\": 0, \"b\": 0, \"t\": 0, \"l\": 0}, \"showlegend\": false, \"updatemenus\": [{\"buttons\": [{\"args\": [null, {\"fromcurrent\": true, \"frame\": {\"redraw\": false}}], \"method\": \"animate\", \"label\": \"Play\"}, {\"args\": [[null], {\"mode\": \"immediate\", \"frame\": {\"redraw\": false}}], \"method\": \"animate\", \"label\": \"Pause\"}], \"showactive\": true, \"type\": \"buttons\"}], \"xaxis\": {\"showticklabels\": false, \"showgrid\": false, \"zeroline\": false}, \"height\": 256.0, \"sliders\": [{\"currentvalue\": {\"visible\": false}, \"steps\": [{\"args\": [[0], {\"mode\": \"immediate\", \"frame\": {\"redraw\": false}}], \"method\": \"animate\", \"label\": \"\"}, {\"args\": [[1], {\"mode\": \"immediate\", \"frame\": {\"redraw\": false}}], \"method\": \"animate\", \"label\": \"\"}, {\"args\": [[2], {\"mode\": \"immediate\", \"frame\": {\"redraw\": false}}], \"method\": \"animate\", \"label\": \"\"}, {\"args\": [[3], {\"mode\": \"immediate\", \"frame\": {\"redraw\": false}}], \"method\": \"animate\", \"label\": \"\"}, {\"args\": [[4], {\"mode\": \"immediate\", \"frame\": {\"redraw\": false}}], \"method\": \"animate\", \"label\": \"\"}, {\"args\": [[5], {\"mode\": \"immediate\", \"frame\": {\"redraw\": false}}], \"method\": \"animate\", \"label\": \"\"}, {\"args\": [[6], {\"mode\": \"immediate\", \"frame\": {\"redraw\": false}}], \"method\": \"animate\", \"label\": \"\"}]}], \"width\": 408.0, \"yaxis\": {\"showticklabels\": false, \"showgrid\": false, \"zeroline\": false}},\n",
       "            {\"linkText\": \"Export to plot.ly\", \"displayModeBar\": false, \"showLink\": false}\n",
       "        ).then(function () {return Plotly.addFrames('1dca6daf-f6e4-4454-98b2-73ac6af2a0c7',[{\"name\": 0, \"data\": [{\"mode\": \"lines\", \"line\": {\"color\": \"rgb(0, 0, 0)\", \"width\": 1}, \"y\": [0.5, 1.0, null, 0.9550095020335311, 0.8882926689752846, null, 0.9550095020335311, 0.9427605821595028, null], \"hoverinfo\": \"none\", \"x\": [0.0, 0.33, null, 0.3003062713421305, 0.2855225877733855, null, 0.3003062713421305, 0.2629725579755741, null]}, {\"mode\": \"lines\", \"line\": {\"color\": \"rgb(0, 0, 0)\", \"width\": 1}, \"y\": [0.5, 0.0, null, 0.04499049796646893, 0.0572394178404972, null, 0.04499049796646893, 0.11170733102471547, null], \"hoverinfo\": \"none\", \"x\": [0.0, 0.33, null, 0.3003062713421305, 0.2629725579755741, null, 0.3003062713421305, 0.2855225877733855, null]}, {\"mode\": \"lines\", \"line\": {\"color\": \"rgb(0, 0, 0)\", \"width\": 1}, \"y\": [1.0, 1.0, null, 1.0, 0.9652590189417244, null, 1.0, 1.0347409810582755, null], \"hoverinfo\": \"none\", \"x\": [0.33, 0.66, null, 0.6221212121212122, 0.5888794484132436, null, 0.6221212121212122, 0.5888794484132436, null]}, {\"mode\": \"lines\", \"line\": {\"color\": \"rgb(0, 0, 0)\", \"width\": 1}, \"y\": [1.0, 1.0, null, 1.0, 0.9652590189417244, null, 1.0, 1.0347409810582755, null], \"hoverinfo\": \"none\", \"x\": [0.66, 1.0, null, 0.9621212121212122, 0.9288794484132434, null, 0.9621212121212122, 0.9288794484132434, null]}, {\"mode\": \"lines\", \"line\": {\"color\": \"rgb(0, 0, 0)\", \"width\": 1}, \"y\": [1.0, 0.0, null, 0.06127490735002531, 0.13359437096827784, null, 0.06127490735002531, 0.09650302407543368, null], \"hoverinfo\": \"none\", \"x\": [0.66, 0.33, null, 0.35022071942550836, 0.3526100389194443, null, 0.35022071942550836, 0.3833221014449805, null]}, {\"mode\": \"lines\", \"line\": {\"color\": \"rgb(0, 0, 0)\", \"width\": 1}, \"y\": [1.0, 0.0, null, 0.06074471277448944, 0.13299554373343975, null, 0.06074471277448944, 0.09511088313140172, null], \"hoverinfo\": \"none\", \"x\": [1.0, 0.66, null, 0.6806532023433265, 0.6835549327328607, null, 0.6806532023433265, 0.7140012524011855, null]}, {\"mode\": \"lines\", \"line\": {\"color\": \"rgb(0, 0, 0)\", \"width\": 1}, \"y\": [0.0, 0.0, null, 0.0, -0.034740981058275576, null, 0.0, 0.034740981058275576, null], \"hoverinfo\": \"none\", \"x\": [0.33, 0.66, null, 0.6221212121212122, 0.5888794484132436, null, 0.6221212121212122, 0.5888794484132436, null]}, {\"mode\": \"lines\", \"line\": {\"color\": \"rgb(0, 0, 0)\", \"width\": 1}, \"y\": [0.0, 0.0, null, 0.0, -0.034740981058275576, null, 0.0, 0.034740981058275576, null], \"hoverinfo\": \"none\", \"x\": [0.66, 1.0, null, 0.9621212121212122, 0.9288794484132434, null, 0.9621212121212122, 0.9288794484132434, null]}, {\"mode\": \"markers+text\", \"x\": [0.0], \"textposition\": \"middle center\", \"textfont\": {\"color\": \"rgb(0, 0, 0)\"}, \"marker\": {\"color\": \"rgb(0, 255, 0)\", \"line\": {\"color\": \"rgb(0, 0, 0)\", \"width\": 1}, \"size\": 20}, \"y\": [0.5], \"hoverinfo\": \"none\", \"text\": [\"0\"]}, {\"mode\": \"markers+text\", \"x\": [0.33], \"textposition\": \"middle center\", \"textfont\": {\"color\": \"rgb(0, 0, 0)\"}, \"marker\": {\"color\": \"rgb(255, 255, 255)\", \"line\": {\"color\": \"rgb(0, 0, 0)\", \"width\": 1}, \"size\": 20}, \"y\": [1.0], \"hoverinfo\": \"none\", \"text\": [\"1\"]}, {\"mode\": \"markers+text\", \"x\": [0.66], \"textposition\": \"middle center\", \"textfont\": {\"color\": \"rgb(0, 0, 0)\"}, \"marker\": {\"color\": \"rgb(255, 255, 255)\", \"line\": {\"color\": \"rgb(0, 0, 0)\", \"width\": 1}, \"size\": 20}, \"y\": [1.0], \"hoverinfo\": \"none\", \"text\": [\"2\"]}, {\"mode\": \"markers+text\", \"x\": [1.0], \"textposition\": \"middle center\", \"textfont\": {\"color\": \"rgb(0, 0, 0)\"}, \"marker\": {\"color\": \"rgb(255, 255, 255)\", \"line\": {\"color\": \"rgb(0, 0, 0)\", \"width\": 1}, \"size\": 20}, \"y\": [1.0], \"hoverinfo\": \"none\", \"text\": [\"3\"]}, {\"mode\": \"markers+text\", \"x\": [0.33], \"textposition\": \"middle center\", \"textfont\": {\"color\": \"rgb(0, 0, 0)\"}, \"marker\": {\"color\": \"rgb(255, 255, 255)\", \"line\": {\"color\": \"rgb(0, 0, 0)\", \"width\": 1}, \"size\": 20}, \"y\": [0.0], \"hoverinfo\": \"none\", \"text\": [\"4\"]}, {\"mode\": \"markers+text\", \"x\": [0.66], \"textposition\": \"middle center\", \"textfont\": {\"color\": \"rgb(0, 0, 0)\"}, \"marker\": {\"color\": \"rgb(255, 255, 255)\", \"line\": {\"color\": \"rgb(0, 0, 0)\", \"width\": 1}, \"size\": 20}, \"y\": [0.0], \"hoverinfo\": \"none\", \"text\": [\"5\"]}, {\"mode\": \"markers+text\", \"x\": [1.0], \"textposition\": \"middle center\", \"textfont\": {\"color\": \"rgb(0, 0, 0)\"}, \"marker\": {\"color\": \"rgb(255, 255, 255)\", \"line\": {\"color\": \"rgb(0, 0, 0)\", \"width\": 1}, \"size\": 20}, \"y\": [0.0], \"hoverinfo\": \"none\", \"text\": [\"6\"]}]}, {\"name\": 1, \"data\": [{\"mode\": \"lines\", \"line\": {\"color\": \"rgb(0, 0, 0)\", \"width\": 1}, \"y\": [0.5, 1.0, null, 0.9550095020335311, 0.8882926689752846, null, 0.9550095020335311, 0.9427605821595028, null], \"hoverinfo\": \"none\", \"x\": [0.0, 0.33, null, 0.3003062713421305, 0.2855225877733855, null, 0.3003062713421305, 0.2629725579755741, null]}, {\"mode\": \"lines\", \"line\": {\"color\": \"rgb(0, 0, 0)\", \"width\": 1}, \"y\": [0.5, 0.0, null, 0.04499049796646893, 0.0572394178404972, null, 0.04499049796646893, 0.11170733102471547, null], \"hoverinfo\": \"none\", \"x\": [0.0, 0.33, null, 0.3003062713421305, 0.2629725579755741, null, 0.3003062713421305, 0.2855225877733855, null]}, {\"mode\": \"lines\", \"line\": {\"color\": \"rgb(0, 0, 0)\", \"width\": 1}, \"y\": [1.0, 1.0, null, 1.0, 0.9652590189417244, null, 1.0, 1.0347409810582755, null], \"hoverinfo\": \"none\", \"x\": [0.33, 0.66, null, 0.6221212121212122, 0.5888794484132436, null, 0.6221212121212122, 0.5888794484132436, null]}, {\"mode\": \"lines\", \"line\": {\"color\": \"rgb(0, 0, 0)\", \"width\": 1}, \"y\": [1.0, 1.0, null, 1.0, 0.9652590189417244, null, 1.0, 1.0347409810582755, null], \"hoverinfo\": \"none\", \"x\": [0.66, 1.0, null, 0.9621212121212122, 0.9288794484132434, null, 0.9621212121212122, 0.9288794484132434, null]}, {\"mode\": \"lines\", \"line\": {\"color\": \"rgb(0, 0, 0)\", \"width\": 1}, \"y\": [1.0, 0.0, null, 0.06127490735002531, 0.13359437096827784, null, 0.06127490735002531, 0.09650302407543368, null], \"hoverinfo\": \"none\", \"x\": [0.66, 0.33, null, 0.35022071942550836, 0.3526100389194443, null, 0.35022071942550836, 0.3833221014449805, null]}, {\"mode\": \"lines\", \"line\": {\"color\": \"rgb(0, 0, 0)\", \"width\": 1}, \"y\": [1.0, 0.0, null, 0.06074471277448944, 0.13299554373343975, null, 0.06074471277448944, 0.09511088313140172, null], \"hoverinfo\": \"none\", \"x\": [1.0, 0.66, null, 0.6806532023433265, 0.6835549327328607, null, 0.6806532023433265, 0.7140012524011855, null]}, {\"mode\": \"lines\", \"line\": {\"color\": \"rgb(0, 0, 0)\", \"width\": 1}, \"y\": [0.0, 0.0, null, 0.0, -0.034740981058275576, null, 0.0, 0.034740981058275576, null], \"hoverinfo\": \"none\", \"x\": [0.33, 0.66, null, 0.6221212121212122, 0.5888794484132436, null, 0.6221212121212122, 0.5888794484132436, null]}, {\"mode\": \"lines\", \"line\": {\"color\": \"rgb(0, 0, 0)\", \"width\": 1}, \"y\": [0.0, 0.0, null, 0.0, -0.034740981058275576, null, 0.0, 0.034740981058275576, null], \"hoverinfo\": \"none\", \"x\": [0.66, 1.0, null, 0.9621212121212122, 0.9288794484132434, null, 0.9621212121212122, 0.9288794484132434, null]}, {\"mode\": \"markers+text\", \"x\": [0.0], \"textposition\": \"middle center\", \"textfont\": {\"color\": \"rgb(0, 0, 0)\"}, \"marker\": {\"color\": \"rgb(0, 255, 0)\", \"line\": {\"color\": \"rgb(0, 0, 0)\", \"width\": 1}, \"size\": 20}, \"y\": [0.5], \"hoverinfo\": \"none\", \"text\": [\"0\"]}, {\"mode\": \"markers+text\", \"x\": [0.33], \"textposition\": \"middle center\", \"textfont\": {\"color\": \"rgb(0, 0, 0)\"}, \"marker\": {\"color\": \"rgb(0, 255, 0)\", \"line\": {\"color\": \"rgb(0, 0, 0)\", \"width\": 1}, \"size\": 20}, \"y\": [1.0], \"hoverinfo\": \"none\", \"text\": [\"1\"]}, {\"mode\": \"markers+text\", \"x\": [0.66], \"textposition\": \"middle center\", \"textfont\": {\"color\": \"rgb(0, 0, 0)\"}, \"marker\": {\"color\": \"rgb(255, 255, 255)\", \"line\": {\"color\": \"rgb(0, 0, 0)\", \"width\": 1}, \"size\": 20}, \"y\": [1.0], \"hoverinfo\": \"none\", \"text\": [\"2\"]}, {\"mode\": \"markers+text\", \"x\": [1.0], \"textposition\": \"middle center\", \"textfont\": {\"color\": \"rgb(0, 0, 0)\"}, \"marker\": {\"color\": \"rgb(255, 255, 255)\", \"line\": {\"color\": \"rgb(0, 0, 0)\", \"width\": 1}, \"size\": 20}, \"y\": [1.0], \"hoverinfo\": \"none\", \"text\": [\"3\"]}, {\"mode\": \"markers+text\", \"x\": [0.33], \"textposition\": \"middle center\", \"textfont\": {\"color\": \"rgb(0, 0, 0)\"}, \"marker\": {\"color\": \"rgb(255, 255, 255)\", \"line\": {\"color\": \"rgb(0, 0, 0)\", \"width\": 1}, \"size\": 20}, \"y\": [0.0], \"hoverinfo\": \"none\", \"text\": [\"4\"]}, {\"mode\": \"markers+text\", \"x\": [0.66], \"textposition\": \"middle center\", \"textfont\": {\"color\": \"rgb(0, 0, 0)\"}, \"marker\": {\"color\": \"rgb(255, 255, 255)\", \"line\": {\"color\": \"rgb(0, 0, 0)\", \"width\": 1}, \"size\": 20}, \"y\": [0.0], \"hoverinfo\": \"none\", \"text\": [\"5\"]}, {\"mode\": \"markers+text\", \"x\": [1.0], \"textposition\": \"middle center\", \"textfont\": {\"color\": \"rgb(0, 0, 0)\"}, \"marker\": {\"color\": \"rgb(255, 255, 255)\", \"line\": {\"color\": \"rgb(0, 0, 0)\", \"width\": 1}, \"size\": 20}, \"y\": [0.0], \"hoverinfo\": \"none\", \"text\": [\"6\"]}]}, {\"name\": 2, \"data\": [{\"mode\": \"lines\", \"line\": {\"color\": \"rgb(0, 0, 0)\", \"width\": 1}, \"y\": [0.5, 1.0, null, 0.9550095020335311, 0.8882926689752846, null, 0.9550095020335311, 0.9427605821595028, null], \"hoverinfo\": \"none\", \"x\": [0.0, 0.33, null, 0.3003062713421305, 0.2855225877733855, null, 0.3003062713421305, 0.2629725579755741, null]}, {\"mode\": \"lines\", \"line\": {\"color\": \"rgb(0, 0, 0)\", \"width\": 1}, \"y\": [0.5, 0.0, null, 0.04499049796646893, 0.0572394178404972, null, 0.04499049796646893, 0.11170733102471547, null], \"hoverinfo\": \"none\", \"x\": [0.0, 0.33, null, 0.3003062713421305, 0.2629725579755741, null, 0.3003062713421305, 0.2855225877733855, null]}, {\"mode\": \"lines\", \"line\": {\"color\": \"rgb(0, 0, 0)\", \"width\": 1}, \"y\": [1.0, 1.0, null, 1.0, 0.9652590189417244, null, 1.0, 1.0347409810582755, null], \"hoverinfo\": \"none\", \"x\": [0.33, 0.66, null, 0.6221212121212122, 0.5888794484132436, null, 0.6221212121212122, 0.5888794484132436, null]}, {\"mode\": \"lines\", \"line\": {\"color\": \"rgb(0, 0, 0)\", \"width\": 1}, \"y\": [1.0, 1.0, null, 1.0, 0.9652590189417244, null, 1.0, 1.0347409810582755, null], \"hoverinfo\": \"none\", \"x\": [0.66, 1.0, null, 0.9621212121212122, 0.9288794484132434, null, 0.9621212121212122, 0.9288794484132434, null]}, {\"mode\": \"lines\", \"line\": {\"color\": \"rgb(0, 0, 0)\", \"width\": 1}, \"y\": [1.0, 0.0, null, 0.06127490735002531, 0.13359437096827784, null, 0.06127490735002531, 0.09650302407543368, null], \"hoverinfo\": \"none\", \"x\": [0.66, 0.33, null, 0.35022071942550836, 0.3526100389194443, null, 0.35022071942550836, 0.3833221014449805, null]}, {\"mode\": \"lines\", \"line\": {\"color\": \"rgb(0, 0, 0)\", \"width\": 1}, \"y\": [1.0, 0.0, null, 0.06074471277448944, 0.13299554373343975, null, 0.06074471277448944, 0.09511088313140172, null], \"hoverinfo\": \"none\", \"x\": [1.0, 0.66, null, 0.6806532023433265, 0.6835549327328607, null, 0.6806532023433265, 0.7140012524011855, null]}, {\"mode\": \"lines\", \"line\": {\"color\": \"rgb(0, 0, 0)\", \"width\": 1}, \"y\": [0.0, 0.0, null, 0.0, -0.034740981058275576, null, 0.0, 0.034740981058275576, null], \"hoverinfo\": \"none\", \"x\": [0.33, 0.66, null, 0.6221212121212122, 0.5888794484132436, null, 0.6221212121212122, 0.5888794484132436, null]}, {\"mode\": \"lines\", \"line\": {\"color\": \"rgb(0, 0, 0)\", \"width\": 1}, \"y\": [0.0, 0.0, null, 0.0, -0.034740981058275576, null, 0.0, 0.034740981058275576, null], \"hoverinfo\": \"none\", \"x\": [0.66, 1.0, null, 0.9621212121212122, 0.9288794484132434, null, 0.9621212121212122, 0.9288794484132434, null]}, {\"mode\": \"markers+text\", \"x\": [0.0], \"textposition\": \"middle center\", \"textfont\": {\"color\": \"rgb(0, 0, 0)\"}, \"marker\": {\"color\": \"rgb(0, 255, 0)\", \"line\": {\"color\": \"rgb(0, 0, 0)\", \"width\": 1}, \"size\": 20}, \"y\": [0.5], \"hoverinfo\": \"none\", \"text\": [\"0\"]}, {\"mode\": \"markers+text\", \"x\": [0.33], \"textposition\": \"middle center\", \"textfont\": {\"color\": \"rgb(0, 0, 0)\"}, \"marker\": {\"color\": \"rgb(0, 255, 0)\", \"line\": {\"color\": \"rgb(0, 0, 0)\", \"width\": 1}, \"size\": 20}, \"y\": [1.0], \"hoverinfo\": \"none\", \"text\": [\"1\"]}, {\"mode\": \"markers+text\", \"x\": [0.66], \"textposition\": \"middle center\", \"textfont\": {\"color\": \"rgb(0, 0, 0)\"}, \"marker\": {\"color\": \"rgb(255, 255, 255)\", \"line\": {\"color\": \"rgb(0, 0, 0)\", \"width\": 1}, \"size\": 20}, \"y\": [1.0], \"hoverinfo\": \"none\", \"text\": [\"2\"]}, {\"mode\": \"markers+text\", \"x\": [1.0], \"textposition\": \"middle center\", \"textfont\": {\"color\": \"rgb(0, 0, 0)\"}, \"marker\": {\"color\": \"rgb(255, 255, 255)\", \"line\": {\"color\": \"rgb(0, 0, 0)\", \"width\": 1}, \"size\": 20}, \"y\": [1.0], \"hoverinfo\": \"none\", \"text\": [\"3\"]}, {\"mode\": \"markers+text\", \"x\": [0.33], \"textposition\": \"middle center\", \"textfont\": {\"color\": \"rgb(0, 0, 0)\"}, \"marker\": {\"color\": \"rgb(0, 255, 0)\", \"line\": {\"color\": \"rgb(0, 0, 0)\", \"width\": 1}, \"size\": 20}, \"y\": [0.0], \"hoverinfo\": \"none\", \"text\": [\"4\"]}, {\"mode\": \"markers+text\", \"x\": [0.66], \"textposition\": \"middle center\", \"textfont\": {\"color\": \"rgb(0, 0, 0)\"}, \"marker\": {\"color\": \"rgb(255, 255, 255)\", \"line\": {\"color\": \"rgb(0, 0, 0)\", \"width\": 1}, \"size\": 20}, \"y\": [0.0], \"hoverinfo\": \"none\", \"text\": [\"5\"]}, {\"mode\": \"markers+text\", \"x\": [1.0], \"textposition\": \"middle center\", \"textfont\": {\"color\": \"rgb(0, 0, 0)\"}, \"marker\": {\"color\": \"rgb(255, 255, 255)\", \"line\": {\"color\": \"rgb(0, 0, 0)\", \"width\": 1}, \"size\": 20}, \"y\": [0.0], \"hoverinfo\": \"none\", \"text\": [\"6\"]}]}, {\"name\": 3, \"data\": [{\"mode\": \"lines\", \"line\": {\"color\": \"rgb(0, 0, 0)\", \"width\": 1}, \"y\": [0.5, 1.0, null, 0.9550095020335311, 0.8882926689752846, null, 0.9550095020335311, 0.9427605821595028, null], \"hoverinfo\": \"none\", \"x\": [0.0, 0.33, null, 0.3003062713421305, 0.2855225877733855, null, 0.3003062713421305, 0.2629725579755741, null]}, {\"mode\": \"lines\", \"line\": {\"color\": \"rgb(0, 0, 0)\", \"width\": 1}, \"y\": [0.5, 0.0, null, 0.04499049796646893, 0.0572394178404972, null, 0.04499049796646893, 0.11170733102471547, null], \"hoverinfo\": \"none\", \"x\": [0.0, 0.33, null, 0.3003062713421305, 0.2629725579755741, null, 0.3003062713421305, 0.2855225877733855, null]}, {\"mode\": \"lines\", \"line\": {\"color\": \"rgb(0, 0, 0)\", \"width\": 1}, \"y\": [1.0, 1.0, null, 1.0, 0.9652590189417244, null, 1.0, 1.0347409810582755, null], \"hoverinfo\": \"none\", \"x\": [0.33, 0.66, null, 0.6221212121212122, 0.5888794484132436, null, 0.6221212121212122, 0.5888794484132436, null]}, {\"mode\": \"lines\", \"line\": {\"color\": \"rgb(0, 0, 0)\", \"width\": 1}, \"y\": [1.0, 1.0, null, 1.0, 0.9652590189417244, null, 1.0, 1.0347409810582755, null], \"hoverinfo\": \"none\", \"x\": [0.66, 1.0, null, 0.9621212121212122, 0.9288794484132434, null, 0.9621212121212122, 0.9288794484132434, null]}, {\"mode\": \"lines\", \"line\": {\"color\": \"rgb(0, 0, 0)\", \"width\": 1}, \"y\": [1.0, 0.0, null, 0.06127490735002531, 0.13359437096827784, null, 0.06127490735002531, 0.09650302407543368, null], \"hoverinfo\": \"none\", \"x\": [0.66, 0.33, null, 0.35022071942550836, 0.3526100389194443, null, 0.35022071942550836, 0.3833221014449805, null]}, {\"mode\": \"lines\", \"line\": {\"color\": \"rgb(0, 0, 0)\", \"width\": 1}, \"y\": [1.0, 0.0, null, 0.06074471277448944, 0.13299554373343975, null, 0.06074471277448944, 0.09511088313140172, null], \"hoverinfo\": \"none\", \"x\": [1.0, 0.66, null, 0.6806532023433265, 0.6835549327328607, null, 0.6806532023433265, 0.7140012524011855, null]}, {\"mode\": \"lines\", \"line\": {\"color\": \"rgb(0, 0, 0)\", \"width\": 1}, \"y\": [0.0, 0.0, null, 0.0, -0.034740981058275576, null, 0.0, 0.034740981058275576, null], \"hoverinfo\": \"none\", \"x\": [0.33, 0.66, null, 0.6221212121212122, 0.5888794484132436, null, 0.6221212121212122, 0.5888794484132436, null]}, {\"mode\": \"lines\", \"line\": {\"color\": \"rgb(0, 0, 0)\", \"width\": 1}, \"y\": [0.0, 0.0, null, 0.0, -0.034740981058275576, null, 0.0, 0.034740981058275576, null], \"hoverinfo\": \"none\", \"x\": [0.66, 1.0, null, 0.9621212121212122, 0.9288794484132434, null, 0.9621212121212122, 0.9288794484132434, null]}, {\"mode\": \"markers+text\", \"x\": [0.0], \"textposition\": \"middle center\", \"textfont\": {\"color\": \"rgb(0, 0, 0)\"}, \"marker\": {\"color\": \"rgb(0, 255, 0)\", \"line\": {\"color\": \"rgb(0, 0, 0)\", \"width\": 1}, \"size\": 20}, \"y\": [0.5], \"hoverinfo\": \"none\", \"text\": [\"0\"]}, {\"mode\": \"markers+text\", \"x\": [0.33], \"textposition\": \"middle center\", \"textfont\": {\"color\": \"rgb(0, 0, 0)\"}, \"marker\": {\"color\": \"rgb(0, 255, 0)\", \"line\": {\"color\": \"rgb(0, 0, 0)\", \"width\": 1}, \"size\": 20}, \"y\": [1.0], \"hoverinfo\": \"none\", \"text\": [\"1\"]}, {\"mode\": \"markers+text\", \"x\": [0.66], \"textposition\": \"middle center\", \"textfont\": {\"color\": \"rgb(0, 0, 0)\"}, \"marker\": {\"color\": \"rgb(0, 255, 0)\", \"line\": {\"color\": \"rgb(0, 0, 0)\", \"width\": 1}, \"size\": 20}, \"y\": [1.0], \"hoverinfo\": \"none\", \"text\": [\"2\"]}, {\"mode\": \"markers+text\", \"x\": [1.0], \"textposition\": \"middle center\", \"textfont\": {\"color\": \"rgb(0, 0, 0)\"}, \"marker\": {\"color\": \"rgb(255, 255, 255)\", \"line\": {\"color\": \"rgb(0, 0, 0)\", \"width\": 1}, \"size\": 20}, \"y\": [1.0], \"hoverinfo\": \"none\", \"text\": [\"3\"]}, {\"mode\": \"markers+text\", \"x\": [0.33], \"textposition\": \"middle center\", \"textfont\": {\"color\": \"rgb(0, 0, 0)\"}, \"marker\": {\"color\": \"rgb(0, 255, 0)\", \"line\": {\"color\": \"rgb(0, 0, 0)\", \"width\": 1}, \"size\": 20}, \"y\": [0.0], \"hoverinfo\": \"none\", \"text\": [\"4\"]}, {\"mode\": \"markers+text\", \"x\": [0.66], \"textposition\": \"middle center\", \"textfont\": {\"color\": \"rgb(0, 0, 0)\"}, \"marker\": {\"color\": \"rgb(255, 255, 255)\", \"line\": {\"color\": \"rgb(0, 0, 0)\", \"width\": 1}, \"size\": 20}, \"y\": [0.0], \"hoverinfo\": \"none\", \"text\": [\"5\"]}, {\"mode\": \"markers+text\", \"x\": [1.0], \"textposition\": \"middle center\", \"textfont\": {\"color\": \"rgb(0, 0, 0)\"}, \"marker\": {\"color\": \"rgb(255, 255, 255)\", \"line\": {\"color\": \"rgb(0, 0, 0)\", \"width\": 1}, \"size\": 20}, \"y\": [0.0], \"hoverinfo\": \"none\", \"text\": [\"6\"]}]}, {\"name\": 4, \"data\": [{\"mode\": \"lines\", \"line\": {\"color\": \"rgb(0, 0, 0)\", \"width\": 1}, \"y\": [0.5, 1.0, null, 0.9550095020335311, 0.8882926689752846, null, 0.9550095020335311, 0.9427605821595028, null], \"hoverinfo\": \"none\", \"x\": [0.0, 0.33, null, 0.3003062713421305, 0.2855225877733855, null, 0.3003062713421305, 0.2629725579755741, null]}, {\"mode\": \"lines\", \"line\": {\"color\": \"rgb(0, 0, 0)\", \"width\": 1}, \"y\": [0.5, 0.0, null, 0.04499049796646893, 0.0572394178404972, null, 0.04499049796646893, 0.11170733102471547, null], \"hoverinfo\": \"none\", \"x\": [0.0, 0.33, null, 0.3003062713421305, 0.2629725579755741, null, 0.3003062713421305, 0.2855225877733855, null]}, {\"mode\": \"lines\", \"line\": {\"color\": \"rgb(0, 0, 0)\", \"width\": 1}, \"y\": [1.0, 1.0, null, 1.0, 0.9652590189417244, null, 1.0, 1.0347409810582755, null], \"hoverinfo\": \"none\", \"x\": [0.33, 0.66, null, 0.6221212121212122, 0.5888794484132436, null, 0.6221212121212122, 0.5888794484132436, null]}, {\"mode\": \"lines\", \"line\": {\"color\": \"rgb(0, 0, 0)\", \"width\": 1}, \"y\": [1.0, 1.0, null, 1.0, 0.9652590189417244, null, 1.0, 1.0347409810582755, null], \"hoverinfo\": \"none\", \"x\": [0.66, 1.0, null, 0.9621212121212122, 0.9288794484132434, null, 0.9621212121212122, 0.9288794484132434, null]}, {\"mode\": \"lines\", \"line\": {\"color\": \"rgb(0, 0, 0)\", \"width\": 1}, \"y\": [1.0, 0.0, null, 0.06127490735002531, 0.13359437096827784, null, 0.06127490735002531, 0.09650302407543368, null], \"hoverinfo\": \"none\", \"x\": [0.66, 0.33, null, 0.35022071942550836, 0.3526100389194443, null, 0.35022071942550836, 0.3833221014449805, null]}, {\"mode\": \"lines\", \"line\": {\"color\": \"rgb(0, 0, 0)\", \"width\": 1}, \"y\": [1.0, 0.0, null, 0.06074471277448944, 0.13299554373343975, null, 0.06074471277448944, 0.09511088313140172, null], \"hoverinfo\": \"none\", \"x\": [1.0, 0.66, null, 0.6806532023433265, 0.6835549327328607, null, 0.6806532023433265, 0.7140012524011855, null]}, {\"mode\": \"lines\", \"line\": {\"color\": \"rgb(0, 0, 0)\", \"width\": 1}, \"y\": [0.0, 0.0, null, 0.0, -0.034740981058275576, null, 0.0, 0.034740981058275576, null], \"hoverinfo\": \"none\", \"x\": [0.33, 0.66, null, 0.6221212121212122, 0.5888794484132436, null, 0.6221212121212122, 0.5888794484132436, null]}, {\"mode\": \"lines\", \"line\": {\"color\": \"rgb(0, 0, 0)\", \"width\": 1}, \"y\": [0.0, 0.0, null, 0.0, -0.034740981058275576, null, 0.0, 0.034740981058275576, null], \"hoverinfo\": \"none\", \"x\": [0.66, 1.0, null, 0.9621212121212122, 0.9288794484132434, null, 0.9621212121212122, 0.9288794484132434, null]}, {\"mode\": \"markers+text\", \"x\": [0.0], \"textposition\": \"middle center\", \"textfont\": {\"color\": \"rgb(0, 0, 0)\"}, \"marker\": {\"color\": \"rgb(0, 255, 0)\", \"line\": {\"color\": \"rgb(0, 0, 0)\", \"width\": 1}, \"size\": 20}, \"y\": [0.5], \"hoverinfo\": \"none\", \"text\": [\"0\"]}, {\"mode\": \"markers+text\", \"x\": [0.33], \"textposition\": \"middle center\", \"textfont\": {\"color\": \"rgb(0, 0, 0)\"}, \"marker\": {\"color\": \"rgb(0, 255, 0)\", \"line\": {\"color\": \"rgb(0, 0, 0)\", \"width\": 1}, \"size\": 20}, \"y\": [1.0], \"hoverinfo\": \"none\", \"text\": [\"1\"]}, {\"mode\": \"markers+text\", \"x\": [0.66], \"textposition\": \"middle center\", \"textfont\": {\"color\": \"rgb(0, 0, 0)\"}, \"marker\": {\"color\": \"rgb(0, 255, 0)\", \"line\": {\"color\": \"rgb(0, 0, 0)\", \"width\": 1}, \"size\": 20}, \"y\": [1.0], \"hoverinfo\": \"none\", \"text\": [\"2\"]}, {\"mode\": \"markers+text\", \"x\": [1.0], \"textposition\": \"middle center\", \"textfont\": {\"color\": \"rgb(0, 0, 0)\"}, \"marker\": {\"color\": \"rgb(255, 255, 255)\", \"line\": {\"color\": \"rgb(0, 0, 0)\", \"width\": 1}, \"size\": 20}, \"y\": [1.0], \"hoverinfo\": \"none\", \"text\": [\"3\"]}, {\"mode\": \"markers+text\", \"x\": [0.33], \"textposition\": \"middle center\", \"textfont\": {\"color\": \"rgb(0, 0, 0)\"}, \"marker\": {\"color\": \"rgb(0, 255, 0)\", \"line\": {\"color\": \"rgb(0, 0, 0)\", \"width\": 1}, \"size\": 20}, \"y\": [0.0], \"hoverinfo\": \"none\", \"text\": [\"4\"]}, {\"mode\": \"markers+text\", \"x\": [0.66], \"textposition\": \"middle center\", \"textfont\": {\"color\": \"rgb(0, 0, 0)\"}, \"marker\": {\"color\": \"rgb(0, 255, 0)\", \"line\": {\"color\": \"rgb(0, 0, 0)\", \"width\": 1}, \"size\": 20}, \"y\": [0.0], \"hoverinfo\": \"none\", \"text\": [\"5\"]}, {\"mode\": \"markers+text\", \"x\": [1.0], \"textposition\": \"middle center\", \"textfont\": {\"color\": \"rgb(0, 0, 0)\"}, \"marker\": {\"color\": \"rgb(255, 255, 255)\", \"line\": {\"color\": \"rgb(0, 0, 0)\", \"width\": 1}, \"size\": 20}, \"y\": [0.0], \"hoverinfo\": \"none\", \"text\": [\"6\"]}]}, {\"name\": 5, \"data\": [{\"mode\": \"lines\", \"line\": {\"color\": \"rgb(0, 0, 0)\", \"width\": 1}, \"y\": [0.5, 1.0, null, 0.9550095020335311, 0.8882926689752846, null, 0.9550095020335311, 0.9427605821595028, null], \"hoverinfo\": \"none\", \"x\": [0.0, 0.33, null, 0.3003062713421305, 0.2855225877733855, null, 0.3003062713421305, 0.2629725579755741, null]}, {\"mode\": \"lines\", \"line\": {\"color\": \"rgb(0, 0, 0)\", \"width\": 1}, \"y\": [0.5, 0.0, null, 0.04499049796646893, 0.0572394178404972, null, 0.04499049796646893, 0.11170733102471547, null], \"hoverinfo\": \"none\", \"x\": [0.0, 0.33, null, 0.3003062713421305, 0.2629725579755741, null, 0.3003062713421305, 0.2855225877733855, null]}, {\"mode\": \"lines\", \"line\": {\"color\": \"rgb(0, 0, 0)\", \"width\": 1}, \"y\": [1.0, 1.0, null, 1.0, 0.9652590189417244, null, 1.0, 1.0347409810582755, null], \"hoverinfo\": \"none\", \"x\": [0.33, 0.66, null, 0.6221212121212122, 0.5888794484132436, null, 0.6221212121212122, 0.5888794484132436, null]}, {\"mode\": \"lines\", \"line\": {\"color\": \"rgb(0, 0, 0)\", \"width\": 1}, \"y\": [1.0, 1.0, null, 1.0, 0.9652590189417244, null, 1.0, 1.0347409810582755, null], \"hoverinfo\": \"none\", \"x\": [0.66, 1.0, null, 0.9621212121212122, 0.9288794484132434, null, 0.9621212121212122, 0.9288794484132434, null]}, {\"mode\": \"lines\", \"line\": {\"color\": \"rgb(0, 0, 0)\", \"width\": 1}, \"y\": [1.0, 0.0, null, 0.06127490735002531, 0.13359437096827784, null, 0.06127490735002531, 0.09650302407543368, null], \"hoverinfo\": \"none\", \"x\": [0.66, 0.33, null, 0.35022071942550836, 0.3526100389194443, null, 0.35022071942550836, 0.3833221014449805, null]}, {\"mode\": \"lines\", \"line\": {\"color\": \"rgb(0, 0, 0)\", \"width\": 1}, \"y\": [1.0, 0.0, null, 0.06074471277448944, 0.13299554373343975, null, 0.06074471277448944, 0.09511088313140172, null], \"hoverinfo\": \"none\", \"x\": [1.0, 0.66, null, 0.6806532023433265, 0.6835549327328607, null, 0.6806532023433265, 0.7140012524011855, null]}, {\"mode\": \"lines\", \"line\": {\"color\": \"rgb(0, 0, 0)\", \"width\": 1}, \"y\": [0.0, 0.0, null, 0.0, -0.034740981058275576, null, 0.0, 0.034740981058275576, null], \"hoverinfo\": \"none\", \"x\": [0.33, 0.66, null, 0.6221212121212122, 0.5888794484132436, null, 0.6221212121212122, 0.5888794484132436, null]}, {\"mode\": \"lines\", \"line\": {\"color\": \"rgb(0, 0, 0)\", \"width\": 1}, \"y\": [0.0, 0.0, null, 0.0, -0.034740981058275576, null, 0.0, 0.034740981058275576, null], \"hoverinfo\": \"none\", \"x\": [0.66, 1.0, null, 0.9621212121212122, 0.9288794484132434, null, 0.9621212121212122, 0.9288794484132434, null]}, {\"mode\": \"markers+text\", \"x\": [0.0], \"textposition\": \"middle center\", \"textfont\": {\"color\": \"rgb(0, 0, 0)\"}, \"marker\": {\"color\": \"rgb(0, 255, 0)\", \"line\": {\"color\": \"rgb(0, 0, 0)\", \"width\": 1}, \"size\": 20}, \"y\": [0.5], \"hoverinfo\": \"none\", \"text\": [\"0\"]}, {\"mode\": \"markers+text\", \"x\": [0.33], \"textposition\": \"middle center\", \"textfont\": {\"color\": \"rgb(0, 0, 0)\"}, \"marker\": {\"color\": \"rgb(0, 255, 0)\", \"line\": {\"color\": \"rgb(0, 0, 0)\", \"width\": 1}, \"size\": 20}, \"y\": [1.0], \"hoverinfo\": \"none\", \"text\": [\"1\"]}, {\"mode\": \"markers+text\", \"x\": [0.66], \"textposition\": \"middle center\", \"textfont\": {\"color\": \"rgb(0, 0, 0)\"}, \"marker\": {\"color\": \"rgb(0, 255, 0)\", \"line\": {\"color\": \"rgb(0, 0, 0)\", \"width\": 1}, \"size\": 20}, \"y\": [1.0], \"hoverinfo\": \"none\", \"text\": [\"2\"]}, {\"mode\": \"markers+text\", \"x\": [1.0], \"textposition\": \"middle center\", \"textfont\": {\"color\": \"rgb(0, 0, 0)\"}, \"marker\": {\"color\": \"rgb(0, 255, 0)\", \"line\": {\"color\": \"rgb(0, 0, 0)\", \"width\": 1}, \"size\": 20}, \"y\": [1.0], \"hoverinfo\": \"none\", \"text\": [\"3\"]}, {\"mode\": \"markers+text\", \"x\": [0.33], \"textposition\": \"middle center\", \"textfont\": {\"color\": \"rgb(0, 0, 0)\"}, \"marker\": {\"color\": \"rgb(0, 255, 0)\", \"line\": {\"color\": \"rgb(0, 0, 0)\", \"width\": 1}, \"size\": 20}, \"y\": [0.0], \"hoverinfo\": \"none\", \"text\": [\"4\"]}, {\"mode\": \"markers+text\", \"x\": [0.66], \"textposition\": \"middle center\", \"textfont\": {\"color\": \"rgb(0, 0, 0)\"}, \"marker\": {\"color\": \"rgb(0, 255, 0)\", \"line\": {\"color\": \"rgb(0, 0, 0)\", \"width\": 1}, \"size\": 20}, \"y\": [0.0], \"hoverinfo\": \"none\", \"text\": [\"5\"]}, {\"mode\": \"markers+text\", \"x\": [1.0], \"textposition\": \"middle center\", \"textfont\": {\"color\": \"rgb(0, 0, 0)\"}, \"marker\": {\"color\": \"rgb(255, 255, 255)\", \"line\": {\"color\": \"rgb(0, 0, 0)\", \"width\": 1}, \"size\": 20}, \"y\": [0.0], \"hoverinfo\": \"none\", \"text\": [\"6\"]}]}, {\"name\": 6, \"data\": [{\"mode\": \"lines\", \"line\": {\"color\": \"rgb(0, 0, 0)\", \"width\": 1}, \"y\": [0.5, 1.0, null, 0.9550095020335311, 0.8882926689752846, null, 0.9550095020335311, 0.9427605821595028, null], \"hoverinfo\": \"none\", \"x\": [0.0, 0.33, null, 0.3003062713421305, 0.2855225877733855, null, 0.3003062713421305, 0.2629725579755741, null]}, {\"mode\": \"lines\", \"line\": {\"color\": \"rgb(0, 0, 0)\", \"width\": 1}, \"y\": [0.5, 0.0, null, 0.04499049796646893, 0.0572394178404972, null, 0.04499049796646893, 0.11170733102471547, null], \"hoverinfo\": \"none\", \"x\": [0.0, 0.33, null, 0.3003062713421305, 0.2629725579755741, null, 0.3003062713421305, 0.2855225877733855, null]}, {\"mode\": \"lines\", \"line\": {\"color\": \"rgb(0, 0, 0)\", \"width\": 1}, \"y\": [1.0, 1.0, null, 1.0, 0.9652590189417244, null, 1.0, 1.0347409810582755, null], \"hoverinfo\": \"none\", \"x\": [0.33, 0.66, null, 0.6221212121212122, 0.5888794484132436, null, 0.6221212121212122, 0.5888794484132436, null]}, {\"mode\": \"lines\", \"line\": {\"color\": \"rgb(0, 0, 0)\", \"width\": 1}, \"y\": [1.0, 1.0, null, 1.0, 0.9652590189417244, null, 1.0, 1.0347409810582755, null], \"hoverinfo\": \"none\", \"x\": [0.66, 1.0, null, 0.9621212121212122, 0.9288794484132434, null, 0.9621212121212122, 0.9288794484132434, null]}, {\"mode\": \"lines\", \"line\": {\"color\": \"rgb(0, 0, 0)\", \"width\": 1}, \"y\": [1.0, 0.0, null, 0.06127490735002531, 0.13359437096827784, null, 0.06127490735002531, 0.09650302407543368, null], \"hoverinfo\": \"none\", \"x\": [0.66, 0.33, null, 0.35022071942550836, 0.3526100389194443, null, 0.35022071942550836, 0.3833221014449805, null]}, {\"mode\": \"lines\", \"line\": {\"color\": \"rgb(0, 0, 0)\", \"width\": 1}, \"y\": [1.0, 0.0, null, 0.06074471277448944, 0.13299554373343975, null, 0.06074471277448944, 0.09511088313140172, null], \"hoverinfo\": \"none\", \"x\": [1.0, 0.66, null, 0.6806532023433265, 0.6835549327328607, null, 0.6806532023433265, 0.7140012524011855, null]}, {\"mode\": \"lines\", \"line\": {\"color\": \"rgb(0, 0, 0)\", \"width\": 1}, \"y\": [0.0, 0.0, null, 0.0, -0.034740981058275576, null, 0.0, 0.034740981058275576, null], \"hoverinfo\": \"none\", \"x\": [0.33, 0.66, null, 0.6221212121212122, 0.5888794484132436, null, 0.6221212121212122, 0.5888794484132436, null]}, {\"mode\": \"lines\", \"line\": {\"color\": \"rgb(0, 0, 0)\", \"width\": 1}, \"y\": [0.0, 0.0, null, 0.0, -0.034740981058275576, null, 0.0, 0.034740981058275576, null], \"hoverinfo\": \"none\", \"x\": [0.66, 1.0, null, 0.9621212121212122, 0.9288794484132434, null, 0.9621212121212122, 0.9288794484132434, null]}, {\"mode\": \"markers+text\", \"x\": [0.0], \"textposition\": \"middle center\", \"textfont\": {\"color\": \"rgb(0, 0, 0)\"}, \"marker\": {\"color\": \"rgb(0, 255, 0)\", \"line\": {\"color\": \"rgb(0, 0, 0)\", \"width\": 1}, \"size\": 20}, \"y\": [0.5], \"hoverinfo\": \"none\", \"text\": [\"0\"]}, {\"mode\": \"markers+text\", \"x\": [0.33], \"textposition\": \"middle center\", \"textfont\": {\"color\": \"rgb(0, 0, 0)\"}, \"marker\": {\"color\": \"rgb(0, 255, 0)\", \"line\": {\"color\": \"rgb(0, 0, 0)\", \"width\": 1}, \"size\": 20}, \"y\": [1.0], \"hoverinfo\": \"none\", \"text\": [\"1\"]}, {\"mode\": \"markers+text\", \"x\": [0.66], \"textposition\": \"middle center\", \"textfont\": {\"color\": \"rgb(0, 0, 0)\"}, \"marker\": {\"color\": \"rgb(0, 255, 0)\", \"line\": {\"color\": \"rgb(0, 0, 0)\", \"width\": 1}, \"size\": 20}, \"y\": [1.0], \"hoverinfo\": \"none\", \"text\": [\"2\"]}, {\"mode\": \"markers+text\", \"x\": [1.0], \"textposition\": \"middle center\", \"textfont\": {\"color\": \"rgb(0, 0, 0)\"}, \"marker\": {\"color\": \"rgb(0, 255, 0)\", \"line\": {\"color\": \"rgb(0, 0, 0)\", \"width\": 1}, \"size\": 20}, \"y\": [1.0], \"hoverinfo\": \"none\", \"text\": [\"3\"]}, {\"mode\": \"markers+text\", \"x\": [0.33], \"textposition\": \"middle center\", \"textfont\": {\"color\": \"rgb(0, 0, 0)\"}, \"marker\": {\"color\": \"rgb(0, 255, 0)\", \"line\": {\"color\": \"rgb(0, 0, 0)\", \"width\": 1}, \"size\": 20}, \"y\": [0.0], \"hoverinfo\": \"none\", \"text\": [\"4\"]}, {\"mode\": \"markers+text\", \"x\": [0.66], \"textposition\": \"middle center\", \"textfont\": {\"color\": \"rgb(0, 0, 0)\"}, \"marker\": {\"color\": \"rgb(0, 255, 0)\", \"line\": {\"color\": \"rgb(0, 0, 0)\", \"width\": 1}, \"size\": 20}, \"y\": [0.0], \"hoverinfo\": \"none\", \"text\": [\"5\"]}, {\"mode\": \"markers+text\", \"x\": [1.0], \"textposition\": \"middle center\", \"textfont\": {\"color\": \"rgb(0, 0, 0)\"}, \"marker\": {\"color\": \"rgb(0, 255, 0)\", \"line\": {\"color\": \"rgb(0, 0, 0)\", \"width\": 1}, \"size\": 20}, \"y\": [0.0], \"hoverinfo\": \"none\", \"text\": [\"6\"]}]}]);}).then(function(){Plotly.animate('1dca6daf-f6e4-4454-98b2-73ac6af2a0c7');})\n",
       "        });</script>"
      ]
     },
     "metadata": {},
     "output_type": "display_data"
    }
   ],
   "source": [
    "from queue import Queue\n",
    "\n",
    "\n",
    "def bfs(g, s, frames):\n",
    "    sn.reset_node_colors(g)\n",
    "    for n in g.nodes:\n",
    "        g.nodes[n]['visited'] = False\n",
    "\n",
    "    g.nodes[s]['color'] = (0, 255, 0)\n",
    "    g.nodes[s]['visited'] = True\n",
    "\n",
    "    frame = sn.generate_frame(g, nlab=True)\n",
    "    frames.append(frame)\n",
    "\n",
    "    q = Queue()\n",
    "    q.put(s)\n",
    "\n",
    "    while not q.empty():\n",
    "        n = q.get()\n",
    "\n",
    "        for m in g.successors(n):\n",
    "            if not g.nodes[m]['visited']:\n",
    "                g.nodes[m]['color'] = (0, 255, 0)\n",
    "                g.nodes[m]['visited'] = True\n",
    "\n",
    "                frame = sn.generate_frame(g, nlab=True)\n",
    "                frames.append(frame)\n",
    "\n",
    "                q.put(m)\n",
    "\n",
    "\n",
    "frames = []\n",
    "\n",
    "bfs(g, 0, frames)\n",
    "\n",
    "sn.show_animation(frames)"
   ]
  },
  {
   "cell_type": "code",
   "execution_count": null,
   "metadata": {},
   "outputs": [],
   "source": []
  }
 ],
 "metadata": {
  "kernelspec": {
   "display_name": "Python 3",
   "language": "python",
   "name": "python3"
  },
  "language_info": {
   "codemirror_mode": {
    "name": "ipython",
    "version": 3
   },
   "file_extension": ".py",
   "mimetype": "text/x-python",
   "name": "python",
   "nbconvert_exporter": "python",
   "pygments_lexer": "ipython3",
   "version": "3.5.2"
  }
 },
 "nbformat": 4,
 "nbformat_minor": 1
}
