{
 "cells": [
  {
   "cell_type": "markdown",
   "metadata": {},
   "source": [
    "# Algoritmo de Bellman-Ford\n",
    "\n",
    "Este guia foi escrito para ajudar você a atingir os seguintes objetivos:\n",
    "\n",
    "* implementar o algoritmo de Bellman-Ford;\n",
    "* praticar o uso da biblioteca da disciplina.\n",
    "\n",
    "Primeiramente, vamos importar a biblioteca:"
   ]
  },
  {
   "cell_type": "code",
   "execution_count": 1,
   "metadata": {},
   "outputs": [
    {
     "name": "stderr",
     "output_type": "stream",
     "text": [
      "/usr/lib/python3.5/importlib/_bootstrap.py:222: RuntimeWarning: numpy.dtype size changed, may indicate binary incompatibility. Expected 96, got 88\n",
      "  return f(*args, **kwds)\n",
      "/usr/lib/python3.5/importlib/_bootstrap.py:222: RuntimeWarning: numpy.dtype size changed, may indicate binary incompatibility. Expected 96, got 88\n",
      "  return f(*args, **kwds)\n",
      "/usr/lib/python3.5/importlib/_bootstrap.py:222: RuntimeWarning: numpy.dtype size changed, may indicate binary incompatibility. Expected 96, got 88\n",
      "  return f(*args, **kwds)\n",
      "/usr/lib/python3.5/importlib/_bootstrap.py:222: RuntimeWarning: numpy.dtype size changed, may indicate binary incompatibility. Expected 96, got 88\n",
      "  return f(*args, **kwds)\n"
     ]
    },
    {
     "data": {
      "text/html": [
       "<script>requirejs.config({paths: { 'plotly': ['https://cdn.plot.ly/plotly-latest.min']},});if(!window.Plotly) {{require(['plotly'],function(plotly) {window.Plotly=plotly;});}}</script>"
      ],
      "text/vnd.plotly.v1+html": [
       "<script>requirejs.config({paths: { 'plotly': ['https://cdn.plot.ly/plotly-latest.min']},});if(!window.Plotly) {{require(['plotly'],function(plotly) {window.Plotly=plotly;});}}</script>"
      ]
     },
     "metadata": {},
     "output_type": "display_data"
    }
   ],
   "source": [
    "import sys\n",
    "sys.path.append('..')\n",
    "\n",
    "import socnet as sn"
   ]
  },
  {
   "cell_type": "markdown",
   "metadata": {},
   "source": [
    "A seguir, vamos configurar as propriedades visuais:"
   ]
  },
  {
   "cell_type": "code",
   "execution_count": 2,
   "metadata": {},
   "outputs": [],
   "source": [
    "sn.graph_width = 320\n",
    "sn.graph_height = 180"
   ]
  },
  {
   "cell_type": "markdown",
   "metadata": {},
   "source": [
    "Por fim, vamos carregar e visualizar um grafo:"
   ]
  },
  {
   "cell_type": "code",
   "execution_count": 3,
   "metadata": {},
   "outputs": [
    {
     "data": {
      "application/vnd.plotly.v1+json": {
       "data": [
        {
         "hoverinfo": "none",
         "line": {
          "color": "rgb(0, 0, 0)",
          "width": 2
         },
         "mode": "lines",
         "type": "scatter",
         "uid": "9320cd52-a245-11e8-872d-ec0ec4f70ed7",
         "x": [
          0,
          0.5,
          null,
          0.46643085439538495,
          0.44538388103556675,
          null,
          0.46643085439538495,
          0.4285584341548651,
          null,
          0,
          0.5,
          null,
          0.46643085439538495,
          0.4285584341548651,
          null,
          0.46643085439538495,
          0.44538388103556675,
          null,
          0.5,
          1,
          null,
          0.9621212121212122,
          0.9288794484132434,
          null,
          0.5,
          0.5,
          null,
          0.5,
          0.48183994171953776,
          null,
          0.5,
          0.5181600582804622,
          null,
          0.5,
          1,
          null,
          0.9738173240163878,
          0.9377166459078401,
          null,
          0.9738173240163878,
          0.9639630823912474,
          null,
          1,
          0.5,
          null,
          0.5378787878787878,
          0.5711205515867566,
          null,
          0.5,
          1,
          null,
          0.9738173240163878,
          0.9639630823912474,
          null,
          0.9738173240163878,
          0.9377166459078401,
          null,
          0.5,
          1,
          null,
          0.9621212121212122,
          0.9288794484132434,
          null,
          0.9621212121212122,
          0.9288794484132434,
          null,
          1,
          0,
          null,
          0.03664774299318793,
          0.07340128670201525,
          null,
          0.03664774299318793,
          0.06421703965128427,
          null,
          1,
          1,
          null,
          1,
          1.0181600582804622,
          null,
          1,
          0.9818399417195378,
          null
         ],
         "y": [
          0.5,
          1,
          null,
          0.966430854395385,
          0.906182816233176,
          null,
          0.966430854395385,
          0.967759498957256,
          null,
          0.5,
          0,
          null,
          0.03356914560461503,
          0.032240501042743994,
          null,
          0.03356914560461503,
          0.09381718376682407,
          null,
          1.0144927536231885,
          1.0144927536231885,
          null,
          1.0144927536231885,
          1.049233734681464,
          null,
          1,
          0,
          null,
          0.07246376811594203,
          0.13605670738336034,
          null,
          0.07246376811594203,
          0.13605670738336034,
          null,
          1,
          0,
          null,
          0.052365351967224576,
          0.07430651885030926,
          null,
          0.052365351967224576,
          0.12233402455151593,
          null,
          0.9855072463768116,
          0.9855072463768116,
          null,
          0.9855072463768116,
          0.950766265318536,
          null,
          0,
          1,
          null,
          0.9476346480327754,
          0.8776659754484841,
          null,
          0.9476346480327754,
          0.9256934811496907,
          null,
          0,
          0,
          null,
          0,
          -0.03474098105827558,
          null,
          0,
          0.03474098105827558,
          null,
          0,
          0.5,
          null,
          0.481676128503406,
          0.4992073320037643,
          null,
          0.481676128503406,
          0.4319835048195859,
          null,
          0,
          1,
          null,
          0.927536231884058,
          0.8639432926166397,
          null,
          0.927536231884058,
          0.8639432926166397,
          null
         ]
        },
        {
         "hoverinfo": "none",
         "marker": {
          "color": "rgb(255, 255, 255)",
          "line": {
           "color": "rgb(0, 0, 0)",
           "width": 2
          },
          "size": 20
         },
         "mode": "markers+text",
         "text": [],
         "textfont": {
          "color": "rgb(0, 0, 0)"
         },
         "textposition": "middle center",
         "type": "scatter",
         "uid": "9320cd53-a245-11e8-872d-ec0ec4f70ed7",
         "x": [
          0,
          0.5,
          1,
          0.5,
          1
         ],
         "y": [
          0.5,
          1,
          1,
          0,
          0
         ]
        },
        {
         "hoverinfo": "none",
         "mode": "text",
         "text": [
          "6",
          "7",
          "5",
          "8",
          "-4",
          "-2",
          "-3",
          "9",
          "2",
          "7"
         ],
         "textfont": {
          "color": "rgb(0, 0, 0)"
         },
         "textposition": "middle center",
         "type": "scatter",
         "uid": "9320cd54-a245-11e8-872d-ec0ec4f70ed7",
         "x": [
          0.21643085439538495,
          0.28356914560461505,
          0.75,
          0.5378787878787878,
          0.786647742993188,
          0.75,
          0.713352257006812,
          0.75,
          0.4738173240163877,
          0.9621212121212122
         ],
         "y": [
          0.783569145604615,
          0.28356914560461505,
          1.0869565217391306,
          0.5,
          0.518323871496594,
          0.9130434782608696,
          0.518323871496594,
          0.07246376811594203,
          0.19763464803277542,
          0.5
         ]
        }
       ],
       "layout": {
        "height": 180,
        "margin": {
         "b": 0,
         "l": 0,
         "r": 0,
         "t": 0
        },
        "showlegend": false,
        "width": 320,
        "xaxis": {
         "showgrid": false,
         "showticklabels": false,
         "zeroline": false
        },
        "yaxis": {
         "showgrid": false,
         "showticklabels": false,
         "zeroline": false
        }
       }
      },
      "text/html": [
       "<div id=\"fb77954f-6129-45aa-b259-4908cf15a40d\" style=\"height: 180px; width: 320px;\" class=\"plotly-graph-div\"></div><script type=\"text/javascript\">require([\"plotly\"], function(Plotly) { window.PLOTLYENV=window.PLOTLYENV || {};window.PLOTLYENV.BASE_URL=\"https://plot.ly\";Plotly.newPlot(\"fb77954f-6129-45aa-b259-4908cf15a40d\", [{\"x\": [0.0, 0.5, null, 0.46643085439538495, 0.44538388103556675, null, 0.46643085439538495, 0.4285584341548651, null, 0.0, 0.5, null, 0.46643085439538495, 0.4285584341548651, null, 0.46643085439538495, 0.44538388103556675, null, 0.5, 1.0, null, 0.9621212121212122, 0.9288794484132434, null, 0.5, 0.5, null, 0.5, 0.48183994171953776, null, 0.5, 0.5181600582804622, null, 0.5, 1.0, null, 0.9738173240163878, 0.9377166459078401, null, 0.9738173240163878, 0.9639630823912474, null, 1.0, 0.5, null, 0.5378787878787878, 0.5711205515867566, null, 0.5, 1.0, null, 0.9738173240163878, 0.9639630823912474, null, 0.9738173240163878, 0.9377166459078401, null, 0.5, 1.0, null, 0.9621212121212122, 0.9288794484132434, null, 0.9621212121212122, 0.9288794484132434, null, 1.0, 0.0, null, 0.03664774299318793, 0.07340128670201525, null, 0.03664774299318793, 0.06421703965128427, null, 1.0, 1.0, null, 1.0, 1.0181600582804622, null, 1.0, 0.9818399417195378, null], \"hoverinfo\": \"none\", \"mode\": \"lines\", \"y\": [0.5, 1.0, null, 0.966430854395385, 0.906182816233176, null, 0.966430854395385, 0.967759498957256, null, 0.5, 0.0, null, 0.03356914560461503, 0.032240501042743994, null, 0.03356914560461503, 0.09381718376682407, null, 1.0144927536231885, 1.0144927536231885, null, 1.0144927536231885, 1.049233734681464, null, 1.0, 0.0, null, 0.07246376811594203, 0.13605670738336034, null, 0.07246376811594203, 0.13605670738336034, null, 1.0, 0.0, null, 0.052365351967224576, 0.07430651885030926, null, 0.052365351967224576, 0.12233402455151593, null, 0.9855072463768116, 0.9855072463768116, null, 0.9855072463768116, 0.950766265318536, null, 0.0, 1.0, null, 0.9476346480327754, 0.8776659754484841, null, 0.9476346480327754, 0.9256934811496907, null, 0.0, 0.0, null, 0.0, -0.03474098105827558, null, 0.0, 0.03474098105827558, null, 0.0, 0.5, null, 0.481676128503406, 0.4992073320037643, null, 0.481676128503406, 0.4319835048195859, null, 0.0, 1.0, null, 0.927536231884058, 0.8639432926166397, null, 0.927536231884058, 0.8639432926166397, null], \"type\": \"scatter\", \"line\": {\"color\": \"rgb(0, 0, 0)\", \"width\": 2}, \"uid\": \"9320cd55-a245-11e8-872d-ec0ec4f70ed7\"}, {\"text\": [], \"x\": [0.0, 0.5, 1.0, 0.5, 1.0], \"hoverinfo\": \"none\", \"mode\": \"markers+text\", \"marker\": {\"color\": \"rgb(255, 255, 255)\", \"size\": 20, \"line\": {\"color\": \"rgb(0, 0, 0)\", \"width\": 2}}, \"textposition\": \"middle center\", \"y\": [0.5, 1.0, 1.0, 0.0, 0.0], \"type\": \"scatter\", \"textfont\": {\"color\": \"rgb(0, 0, 0)\"}, \"uid\": \"9320cd56-a245-11e8-872d-ec0ec4f70ed7\"}, {\"text\": [\"6\", \"7\", \"5\", \"8\", \"-4\", \"-2\", \"-3\", \"9\", \"2\", \"7\"], \"x\": [0.21643085439538495, 0.28356914560461505, 0.75, 0.5378787878787878, 0.786647742993188, 0.75, 0.713352257006812, 0.75, 0.4738173240163877, 0.9621212121212122], \"hoverinfo\": \"none\", \"mode\": \"text\", \"textposition\": \"middle center\", \"y\": [0.783569145604615, 0.28356914560461505, 1.0869565217391306, 0.5, 0.518323871496594, 0.9130434782608696, 0.518323871496594, 0.07246376811594203, 0.19763464803277542, 0.5], \"type\": \"scatter\", \"textfont\": {\"color\": \"rgb(0, 0, 0)\"}, \"uid\": \"9320cd57-a245-11e8-872d-ec0ec4f70ed7\"}], {\"showlegend\": false, \"xaxis\": {\"showgrid\": false, \"zeroline\": false, \"showticklabels\": false}, \"margin\": {\"b\": 0, \"r\": 0, \"t\": 0, \"l\": 0}, \"width\": 320, \"height\": 180, \"yaxis\": {\"showgrid\": false, \"zeroline\": false, \"showticklabels\": false}}, {\"showLink\": false, \"linkText\": \"Export to plot.ly\", \"displayModeBar\": false})});</script>"
      ],
      "text/vnd.plotly.v1+html": [
       "<div id=\"fb77954f-6129-45aa-b259-4908cf15a40d\" style=\"height: 180px; width: 320px;\" class=\"plotly-graph-div\"></div><script type=\"text/javascript\">require([\"plotly\"], function(Plotly) { window.PLOTLYENV=window.PLOTLYENV || {};window.PLOTLYENV.BASE_URL=\"https://plot.ly\";Plotly.newPlot(\"fb77954f-6129-45aa-b259-4908cf15a40d\", [{\"x\": [0.0, 0.5, null, 0.46643085439538495, 0.44538388103556675, null, 0.46643085439538495, 0.4285584341548651, null, 0.0, 0.5, null, 0.46643085439538495, 0.4285584341548651, null, 0.46643085439538495, 0.44538388103556675, null, 0.5, 1.0, null, 0.9621212121212122, 0.9288794484132434, null, 0.5, 0.5, null, 0.5, 0.48183994171953776, null, 0.5, 0.5181600582804622, null, 0.5, 1.0, null, 0.9738173240163878, 0.9377166459078401, null, 0.9738173240163878, 0.9639630823912474, null, 1.0, 0.5, null, 0.5378787878787878, 0.5711205515867566, null, 0.5, 1.0, null, 0.9738173240163878, 0.9639630823912474, null, 0.9738173240163878, 0.9377166459078401, null, 0.5, 1.0, null, 0.9621212121212122, 0.9288794484132434, null, 0.9621212121212122, 0.9288794484132434, null, 1.0, 0.0, null, 0.03664774299318793, 0.07340128670201525, null, 0.03664774299318793, 0.06421703965128427, null, 1.0, 1.0, null, 1.0, 1.0181600582804622, null, 1.0, 0.9818399417195378, null], \"hoverinfo\": \"none\", \"mode\": \"lines\", \"y\": [0.5, 1.0, null, 0.966430854395385, 0.906182816233176, null, 0.966430854395385, 0.967759498957256, null, 0.5, 0.0, null, 0.03356914560461503, 0.032240501042743994, null, 0.03356914560461503, 0.09381718376682407, null, 1.0144927536231885, 1.0144927536231885, null, 1.0144927536231885, 1.049233734681464, null, 1.0, 0.0, null, 0.07246376811594203, 0.13605670738336034, null, 0.07246376811594203, 0.13605670738336034, null, 1.0, 0.0, null, 0.052365351967224576, 0.07430651885030926, null, 0.052365351967224576, 0.12233402455151593, null, 0.9855072463768116, 0.9855072463768116, null, 0.9855072463768116, 0.950766265318536, null, 0.0, 1.0, null, 0.9476346480327754, 0.8776659754484841, null, 0.9476346480327754, 0.9256934811496907, null, 0.0, 0.0, null, 0.0, -0.03474098105827558, null, 0.0, 0.03474098105827558, null, 0.0, 0.5, null, 0.481676128503406, 0.4992073320037643, null, 0.481676128503406, 0.4319835048195859, null, 0.0, 1.0, null, 0.927536231884058, 0.8639432926166397, null, 0.927536231884058, 0.8639432926166397, null], \"type\": \"scatter\", \"line\": {\"color\": \"rgb(0, 0, 0)\", \"width\": 2}, \"uid\": \"9320cd55-a245-11e8-872d-ec0ec4f70ed7\"}, {\"text\": [], \"x\": [0.0, 0.5, 1.0, 0.5, 1.0], \"hoverinfo\": \"none\", \"mode\": \"markers+text\", \"marker\": {\"color\": \"rgb(255, 255, 255)\", \"size\": 20, \"line\": {\"color\": \"rgb(0, 0, 0)\", \"width\": 2}}, \"textposition\": \"middle center\", \"y\": [0.5, 1.0, 1.0, 0.0, 0.0], \"type\": \"scatter\", \"textfont\": {\"color\": \"rgb(0, 0, 0)\"}, \"uid\": \"9320cd56-a245-11e8-872d-ec0ec4f70ed7\"}, {\"text\": [\"6\", \"7\", \"5\", \"8\", \"-4\", \"-2\", \"-3\", \"9\", \"2\", \"7\"], \"x\": [0.21643085439538495, 0.28356914560461505, 0.75, 0.5378787878787878, 0.786647742993188, 0.75, 0.713352257006812, 0.75, 0.4738173240163877, 0.9621212121212122], \"hoverinfo\": \"none\", \"mode\": \"text\", \"textposition\": \"middle center\", \"y\": [0.783569145604615, 0.28356914560461505, 1.0869565217391306, 0.5, 0.518323871496594, 0.9130434782608696, 0.518323871496594, 0.07246376811594203, 0.19763464803277542, 0.5], \"type\": \"scatter\", \"textfont\": {\"color\": \"rgb(0, 0, 0)\"}, \"uid\": \"9320cd57-a245-11e8-872d-ec0ec4f70ed7\"}], {\"showlegend\": false, \"xaxis\": {\"showgrid\": false, \"zeroline\": false, \"showticklabels\": false}, \"margin\": {\"b\": 0, \"r\": 0, \"t\": 0, \"l\": 0}, \"width\": 320, \"height\": 180, \"yaxis\": {\"showgrid\": false, \"zeroline\": false, \"showticklabels\": false}}, {\"showLink\": false, \"linkText\": \"Export to plot.ly\", \"displayModeBar\": false})});</script>"
      ]
     },
     "metadata": {},
     "output_type": "display_data"
    }
   ],
   "source": [
    "g = sn.load_graph('3-bellman.gml', has_pos=True)\n",
    "\n",
    "for n, m in g.edges:\n",
    "    g.edges[n, m]['label'] = g.edges[n, m]['c']\n",
    "\n",
    "sn.show_graph(g, elab=True)"
   ]
  },
  {
   "cell_type": "markdown",
   "metadata": {},
   "source": [
    "## Passeios de custo mínimo\n",
    "\n",
    "O arquivo atribui `c` às arestas. Formalmente, esse atributo é uma função que mapeia pares de nós a reais:\n",
    "\n",
    "$c \\colon N \\times N \\rightarrow \\mathbb{R}$.\n",
    "\n",
    "O **custo** de um passeio $\\langle n_0, n_1, \\ldots, n_{k-1} \\rangle$ é\n",
    "\n",
    "$\\sum^{k-2}_{i=0} c(n_i, n_{i+1})$.\n",
    "\n",
    "Um passeio de origem $s$ e destino $t$ tem **custo mínimo** se não existe outro passeio de origem $s$ e destino $t$ de custo menor. Note que podem existir múltiplos passeios de custo mínimo.\n",
    "\n",
    "A **distância ponderada** de $s$ a $t$ é o custo mínimo de um passeio de origem $s$ e destino $t$. Por completude, dizemos que a distância ponderada de $s$ a $t$ é $\\infty$ se não existe passeio de origem $s$ e destino $t$.\n",
    "\n",
    "## Algoritmo de Bellman-Ford\n",
    "\n",
    "Dado um nó $s$, podemos eficientemente calcular as distâncias ponderadas desse a todos os outros nós do grafo usando o **algoritmo de Bellman-Ford**. A ideia desse algoritmo é diferente da ideia do algoritmo de busca em largura, mas também é simples: inicializamos a distância de $s$ como $0$, inicializamos a distância dos outros nós como $\\infty$ e verificamos todas as arestas. Para cada aresta $(n, m)$, se a distância de $m$ for maior que a distância de $n$ mais o custo de $(n, m)$, essa soma passa a ser a nova distância de $m$.\n",
    "\n",
    "É possível demonstrar matematicamente esse laço precisa ser repetido não mais que $|N|-1$ vezes, onde $|N|$ é a quantidade de nós."
   ]
  },
  {
   "cell_type": "code",
   "execution_count": null,
   "metadata": {},
   "outputs": [],
   "source": [
    "from math import inf, isinf\n",
    "\n",
    "s = 0\n",
    "\n",
    "for n in g.nodes:\n",
    "    g.nodes[n]['d'] = inf\n",
    "\n",
    "g.nodes[s]['d'] = 0\n",
    "\n",
    "for i in range(g.number_of_nodes() - 1):\n",
    "    for n, m in g.edges:\n",
    "        d = g.nodes[n]['d'] + g.edges[n, m]['c']\n",
    "\n",
    "        if g.nodes[m]['d'] > d:\n",
    "            g.nodes[m]['d'] = d\n",
    "\n",
    "for n in g.nodes:\n",
    "    print('distância de {}: {}'.format(n, g.nodes[n]['d']))"
   ]
  },
  {
   "cell_type": "markdown",
   "metadata": {},
   "source": [
    "No entanto, essa demonstração depende de certas hipóteses em relação ao grafo. Tenho uma má e uma boa notícia:\n",
    "\n",
    "* a má é que existem grafos em que o algoritmo não funciona, ou seja, devolve uma resposta incorreta;\n",
    "* a boa é que, nos grafos em que ele funciona, os passeios de custo mínimo são caminhos de custo mínimo.\n",
    "\n",
    "### Exercício 1\n",
    "\n",
    "Que grafos são esses?"
   ]
  },
  {
   "cell_type": "markdown",
   "metadata": {},
   "source": [
    "*(sua resposta)*"
   ]
  },
  {
   "cell_type": "markdown",
   "metadata": {},
   "source": [
    "### Exercício 2\n",
    "\n",
    "Monte uma visualização do algoritmo de Bellman-Ford."
   ]
  },
  {
   "cell_type": "code",
   "execution_count": null,
   "metadata": {},
   "outputs": [],
   "source": [
    "# sua resposta"
   ]
  }
 ],
 "metadata": {
  "kernelspec": {
   "display_name": "Python 3",
   "language": "python",
   "name": "python3"
  },
  "language_info": {
   "codemirror_mode": {
    "name": "ipython",
    "version": 3
   },
   "file_extension": ".py",
   "mimetype": "text/x-python",
   "name": "python",
   "nbconvert_exporter": "python",
   "pygments_lexer": "ipython3",
   "version": "3.5.2"
  }
 },
 "nbformat": 4,
 "nbformat_minor": 1
}
