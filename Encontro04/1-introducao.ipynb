{
 "cells": [
  {
   "cell_type": "markdown",
   "metadata": {},
   "source": [
    "# (Re)introdução a Grafos\n",
    "\n",
    "Este guia foi escrito para ajudar você a atingir os seguintes objetivos:\n",
    "\n",
    "* formalizar conceitos básicos de teoria dos grafos;\n",
    "* usar funcionalidades básicas da biblioteca da disciplina.\n",
    "\n",
    "\n",
    "## Grafos não-dirigidos\n",
    "\n",
    "Um **grafo não-dirigido** (*undirected graph*) é um par\n",
    "\n",
    "$(N, E)$,\n",
    "\n",
    "onde $N$ é um conjunto qualquer e $E$ é um conjunto de pares *não-ordenados* de elementos de $N$, ou seja,\n",
    "\n",
    "$E \\subseteq \\{\\{n, m\\} \\colon n \\in N \\textrm{ e } m \\in N\\}$.\n",
    "\n",
    "Um elemento de $N$ chama-se **nó** (*node*) e um elemento de $E$ chama-se **aresta** (*edge*). Em alguns trabalhos, usa-se $V$ e *vértice* em vez de $N$ e nó.\n",
    "\n",
    "\n",
    "## Grafos dirigidos\n",
    "\n",
    "Formalmente, um **grafo dirigido** (*directed graph*) é um par\n",
    "\n",
    "$(N, E)$,\n",
    "\n",
    "onde $N$ é um conjunto qualquer e $E$ é um conjunto de pares *ordenados* de elementos de *N*, ou seja,\n",
    "\n",
    "$E \\subseteq \\{(n, m) \\colon n \\in N \\textrm{ e } m \\in N\\}$.\n",
    "\n",
    "Um elemento de $N$ chama-se **nó** (*node*) e um elemento de $E$ chama-se **aresta** (*edge*). Em alguns trabalhos, usa-se $V$ e *vértice* em vez de $N$ e nó e usa-se $A$ e *arco* em vez de $E$ e aresta.\n",
    "\n",
    "\n",
    "## Instalando as dependências\n",
    "\n",
    "Antes de continuar, instale as duas dependências da biblioteca da disciplina:\n",
    "\n",
    "> `pip install networkx plotly`\n",
    "\n",
    "Em algumas distribuições Linux você deve usar o comando `pip3`, pois o comando `pip` está associado a Python 2 por padrão.\n",
    "\n",
    "\n",
    "## Importando a biblioteca\n",
    "\n",
    "Não mova ou renomeie os arquivos do repositório, a menos que você esteja disposto a adaptar os notebooks de acordo.\n",
    "\n",
    "Vamos importar a biblioteca da disciplina no notebook:"
   ]
  },
  {
   "cell_type": "code",
   "execution_count": 1,
   "metadata": {},
   "outputs": [
    {
     "name": "stderr",
     "output_type": "stream",
     "text": [
      "/usr/lib/python3.5/importlib/_bootstrap.py:222: RuntimeWarning: numpy.dtype size changed, may indicate binary incompatibility. Expected 96, got 88\n",
      "  return f(*args, **kwds)\n",
      "/usr/lib/python3.5/importlib/_bootstrap.py:222: RuntimeWarning: numpy.dtype size changed, may indicate binary incompatibility. Expected 96, got 88\n",
      "  return f(*args, **kwds)\n",
      "/usr/lib/python3.5/importlib/_bootstrap.py:222: RuntimeWarning: numpy.dtype size changed, may indicate binary incompatibility. Expected 96, got 88\n",
      "  return f(*args, **kwds)\n",
      "/usr/lib/python3.5/importlib/_bootstrap.py:222: RuntimeWarning: numpy.dtype size changed, may indicate binary incompatibility. Expected 96, got 88\n",
      "  return f(*args, **kwds)\n"
     ]
    },
    {
     "data": {
      "text/html": [
       "<script>requirejs.config({paths: { 'plotly': ['https://cdn.plot.ly/plotly-latest.min']},});if(!window.Plotly) {{require(['plotly'],function(plotly) {window.Plotly=plotly;});}}</script>"
      ],
      "text/vnd.plotly.v1+html": [
       "<script>requirejs.config({paths: { 'plotly': ['https://cdn.plot.ly/plotly-latest.min']},});if(!window.Plotly) {{require(['plotly'],function(plotly) {window.Plotly=plotly;});}}</script>"
      ]
     },
     "metadata": {},
     "output_type": "display_data"
    }
   ],
   "source": [
    "import sys\n",
    "sys.path.append('..')\n",
    "\n",
    "import socnet as sn"
   ]
  },
  {
   "cell_type": "markdown",
   "metadata": {},
   "source": [
    "## Configurando a biblioteca\n",
    "\n",
    "A `socnet` disponibiliza variáveis de módulo que permitem configurar propriedades visuais. Os nomes são auto-explicativos e os valores abaixo são padrão."
   ]
  },
  {
   "cell_type": "code",
   "execution_count": 2,
   "metadata": {},
   "outputs": [],
   "source": [
    "sn.graph_width = 800\n",
    "sn.graph_height = 450\n",
    "\n",
    "sn.node_size = 20\n",
    "sn.node_color = (255, 255, 255)\n",
    "\n",
    "sn.edge_width = 2\n",
    "sn.edge_color = (0, 0, 0)\n",
    "\n",
    "sn.node_label_position = 'middle center'\n",
    "sn.edge_label_distance = 10"
   ]
  },
  {
   "cell_type": "markdown",
   "metadata": {},
   "source": [
    "Uma variável de cor armazena uma tupla contendo três inteiros entre *0* e *255* que representam intensidades de *vermelho*, *verde* e *azul* respectivamente.\n",
    "\n",
    "Uma variável de posição armazena uma string contendo duas palavras separadas por um espaço:\n",
    "* a primeira representa o alinhamento vertical e pode ser `top`, `middle` ou `bottom`;\n",
    "* a segunda representa o alinhamento horizontal e pode ser `left`, `center` ou `right`.\n",
    "\n",
    "## Carregando grafos\n",
    "\n",
    "Vamos carregar dois grafos no [formato GML](http://www.fim.uni-passau.de/fileadmin/files/lehrstuhl/brandenburg/projekte/gml/gml-technical-report.pdf):"
   ]
  },
  {
   "cell_type": "code",
   "execution_count": 3,
   "metadata": {},
   "outputs": [],
   "source": [
    "ug = sn.load_graph('5-kruskal.gml', has_pos=True)\n",
    "dg = sn.load_graph('4-dijkstra.gml', has_pos=True)"
   ]
  },
  {
   "cell_type": "markdown",
   "metadata": {},
   "source": [
    "Abra esses arquivos em um editor de texto e note como o formato é auto-explicativo.\n",
    "\n",
    "## Visualizando grafos\n",
    "\n",
    "Vamos visualizar o primeiro grafo, que é não-dirigido:"
   ]
  },
  {
   "cell_type": "code",
   "execution_count": 4,
   "metadata": {},
   "outputs": [
    {
     "data": {
      "application/vnd.plotly.v1+json": {
       "data": [
        {
         "hoverinfo": "none",
         "line": {
          "color": "rgb(0, 0, 0)",
          "width": 2
         },
         "mode": "lines",
         "type": "scatter",
         "uid": "e2ec4234-a23c-11e8-872d-ec0ec4f70ed7",
         "x": [
          0,
          0.25,
          null,
          0,
          0.25,
          null,
          0.25,
          0.5,
          null,
          0.25,
          0.25,
          null,
          0.5,
          0.375,
          null,
          0.5,
          0.75,
          null,
          0.5,
          0.75,
          null,
          0.75,
          1,
          null,
          0.75,
          0.75,
          null,
          1,
          0.75,
          null,
          0.75,
          0.5,
          null,
          0.5,
          0.375,
          null,
          0.5,
          0.25,
          null,
          0.25,
          0.375,
          null
         ],
         "y": [
          0.5,
          1,
          null,
          0.5,
          0,
          null,
          1,
          1,
          null,
          1,
          0,
          null,
          1,
          0.5,
          null,
          1,
          1,
          null,
          1,
          0,
          null,
          1,
          0.5,
          null,
          1,
          0,
          null,
          0.5,
          0,
          null,
          0,
          0,
          null,
          0,
          0.5,
          null,
          0,
          0,
          null,
          0,
          0.5,
          null
         ]
        },
        {
         "hoverinfo": "none",
         "marker": {
          "color": "rgb(255, 255, 255)",
          "line": {
           "color": "rgb(0, 0, 0)",
           "width": 2
          },
          "size": 20
         },
         "mode": "markers+text",
         "text": [],
         "textfont": {
          "color": "rgb(0, 0, 0)"
         },
         "textposition": "middle center",
         "type": "scatter",
         "uid": "e2ec4235-a23c-11e8-872d-ec0ec4f70ed7",
         "x": [
          0,
          0.25,
          0.5,
          0.75,
          1,
          0.75,
          0.5,
          0.25,
          0.375
         ],
         "y": [
          0.5,
          1,
          1,
          1,
          0.5,
          0,
          0,
          0,
          0.5
         ]
        }
       ],
       "layout": {
        "height": 180,
        "margin": {
         "b": 0,
         "l": 0,
         "r": 0,
         "t": 0
        },
        "showlegend": false,
        "width": 320,
        "xaxis": {
         "showgrid": false,
         "showticklabels": false,
         "zeroline": false
        },
        "yaxis": {
         "showgrid": false,
         "showticklabels": false,
         "zeroline": false
        }
       }
      },
      "text/html": [
       "<div id=\"94a01369-c111-44c3-b902-d443e78870b4\" style=\"height: 180px; width: 320px;\" class=\"plotly-graph-div\"></div><script type=\"text/javascript\">require([\"plotly\"], function(Plotly) { window.PLOTLYENV=window.PLOTLYENV || {};window.PLOTLYENV.BASE_URL=\"https://plot.ly\";Plotly.newPlot(\"94a01369-c111-44c3-b902-d443e78870b4\", [{\"y\": [0.5, 1.0, null, 0.5, 0.0, null, 1.0, 1.0, null, 1.0, 0.0, null, 1.0, 0.5, null, 1.0, 1.0, null, 1.0, 0.0, null, 1.0, 0.5, null, 1.0, 0.0, null, 0.5, 0.0, null, 0.0, 0.0, null, 0.0, 0.5, null, 0.0, 0.0, null, 0.0, 0.5, null], \"x\": [0.0, 0.25, null, 0.0, 0.25, null, 0.25, 0.5, null, 0.25, 0.25, null, 0.5, 0.375, null, 0.5, 0.75, null, 0.5, 0.75, null, 0.75, 1.0, null, 0.75, 0.75, null, 1.0, 0.75, null, 0.75, 0.5, null, 0.5, 0.375, null, 0.5, 0.25, null, 0.25, 0.375, null], \"uid\": \"e2ec4236-a23c-11e8-872d-ec0ec4f70ed7\", \"hoverinfo\": \"none\", \"mode\": \"lines\", \"line\": {\"width\": 2, \"color\": \"rgb(0, 0, 0)\"}, \"type\": \"scatter\"}, {\"y\": [0.5, 1.0, 1.0, 1.0, 0.5, 0.0, 0.0, 0.0, 0.5], \"x\": [0.0, 0.25, 0.5, 0.75, 1.0, 0.75, 0.5, 0.25, 0.375], \"text\": [], \"hoverinfo\": \"none\", \"mode\": \"markers+text\", \"uid\": \"e2ec4237-a23c-11e8-872d-ec0ec4f70ed7\", \"textfont\": {\"color\": \"rgb(0, 0, 0)\"}, \"type\": \"scatter\", \"textposition\": \"middle center\", \"marker\": {\"line\": {\"color\": \"rgb(0, 0, 0)\", \"width\": 2}, \"color\": \"rgb(255, 255, 255)\", \"size\": 20}}], {\"yaxis\": {\"showgrid\": false, \"showticklabels\": false, \"zeroline\": false}, \"width\": 320, \"xaxis\": {\"showgrid\": false, \"showticklabels\": false, \"zeroline\": false}, \"height\": 180, \"showlegend\": false, \"margin\": {\"l\": 0, \"b\": 0, \"t\": 0, \"r\": 0}}, {\"showLink\": false, \"linkText\": \"Export to plot.ly\", \"displayModeBar\": false})});</script>"
      ],
      "text/vnd.plotly.v1+html": [
       "<div id=\"94a01369-c111-44c3-b902-d443e78870b4\" style=\"height: 180px; width: 320px;\" class=\"plotly-graph-div\"></div><script type=\"text/javascript\">require([\"plotly\"], function(Plotly) { window.PLOTLYENV=window.PLOTLYENV || {};window.PLOTLYENV.BASE_URL=\"https://plot.ly\";Plotly.newPlot(\"94a01369-c111-44c3-b902-d443e78870b4\", [{\"y\": [0.5, 1.0, null, 0.5, 0.0, null, 1.0, 1.0, null, 1.0, 0.0, null, 1.0, 0.5, null, 1.0, 1.0, null, 1.0, 0.0, null, 1.0, 0.5, null, 1.0, 0.0, null, 0.5, 0.0, null, 0.0, 0.0, null, 0.0, 0.5, null, 0.0, 0.0, null, 0.0, 0.5, null], \"x\": [0.0, 0.25, null, 0.0, 0.25, null, 0.25, 0.5, null, 0.25, 0.25, null, 0.5, 0.375, null, 0.5, 0.75, null, 0.5, 0.75, null, 0.75, 1.0, null, 0.75, 0.75, null, 1.0, 0.75, null, 0.75, 0.5, null, 0.5, 0.375, null, 0.5, 0.25, null, 0.25, 0.375, null], \"uid\": \"e2ec4236-a23c-11e8-872d-ec0ec4f70ed7\", \"hoverinfo\": \"none\", \"mode\": \"lines\", \"line\": {\"width\": 2, \"color\": \"rgb(0, 0, 0)\"}, \"type\": \"scatter\"}, {\"y\": [0.5, 1.0, 1.0, 1.0, 0.5, 0.0, 0.0, 0.0, 0.5], \"x\": [0.0, 0.25, 0.5, 0.75, 1.0, 0.75, 0.5, 0.25, 0.375], \"text\": [], \"hoverinfo\": \"none\", \"mode\": \"markers+text\", \"uid\": \"e2ec4237-a23c-11e8-872d-ec0ec4f70ed7\", \"textfont\": {\"color\": \"rgb(0, 0, 0)\"}, \"type\": \"scatter\", \"textposition\": \"middle center\", \"marker\": {\"line\": {\"color\": \"rgb(0, 0, 0)\", \"width\": 2}, \"color\": \"rgb(255, 255, 255)\", \"size\": 20}}], {\"yaxis\": {\"showgrid\": false, \"showticklabels\": false, \"zeroline\": false}, \"width\": 320, \"xaxis\": {\"showgrid\": false, \"showticklabels\": false, \"zeroline\": false}, \"height\": 180, \"showlegend\": false, \"margin\": {\"l\": 0, \"b\": 0, \"t\": 0, \"r\": 0}}, {\"showLink\": false, \"linkText\": \"Export to plot.ly\", \"displayModeBar\": false})});</script>"
      ]
     },
     "metadata": {},
     "output_type": "display_data"
    }
   ],
   "source": [
    "sn.graph_width = 320\n",
    "sn.graph_height = 180\n",
    "\n",
    "sn.show_graph(ug)"
   ]
  },
  {
   "cell_type": "markdown",
   "metadata": {},
   "source": [
    "Essa é a representação mais comum de grafos não-dirigidos: círculos como nós e retas como arestas. Se uma reta *conecta* o círculo que representa $n$ ao círculo que representa $m$, ela representa a aresta $\\{n, m\\}$.\n",
    "\n",
    "Vamos agora visualizar o segundo grafo, que é dirigido:"
   ]
  },
  {
   "cell_type": "code",
   "execution_count": 5,
   "metadata": {},
   "outputs": [
    {
     "data": {
      "application/vnd.plotly.v1+json": {
       "data": [
        {
         "hoverinfo": "none",
         "line": {
          "color": "rgb(0, 0, 0)",
          "width": 2
         },
         "mode": "lines",
         "type": "scatter",
         "uid": "e2ec4238-a23c-11e8-872d-ec0ec4f70ed7",
         "x": [
          0,
          0.5,
          null,
          0.46643085439538495,
          0.44538388103556675,
          null,
          0.46643085439538495,
          0.4285584341548651,
          null,
          0,
          0.5,
          null,
          0.46643085439538495,
          0.4285584341548651,
          null,
          0.46643085439538495,
          0.44538388103556675,
          null,
          0.5,
          1,
          null,
          0.9621212121212122,
          0.9288794484132434,
          null,
          0.9621212121212122,
          0.9288794484132434,
          null,
          0.5075757575757576,
          0.5075757575757576,
          null,
          0.5075757575757576,
          0.5257358158562198,
          null,
          1.0075757575757576,
          1.0075757575757576,
          null,
          1.0075757575757576,
          1.0257358158562198,
          null,
          0.49242424242424243,
          0.49242424242424243,
          null,
          0.49242424242424243,
          0.4742641841437802,
          null,
          0.5,
          1,
          null,
          0.9738173240163878,
          0.9639630823912474,
          null,
          0.9738173240163878,
          0.9377166459078401,
          null,
          0.5,
          1,
          null,
          0.9621212121212122,
          0.9288794484132434,
          null,
          0.9621212121212122,
          0.9288794484132434,
          null,
          1,
          0,
          null,
          0.03664774299318793,
          0.07340128670201525,
          null,
          0.03664774299318793,
          0.06421703965128427,
          null,
          0.9924242424242424,
          0.9924242424242424,
          null,
          0.9924242424242424,
          0.9742641841437802,
          null
         ],
         "y": [
          0.5,
          1,
          null,
          0.966430854395385,
          0.906182816233176,
          null,
          0.966430854395385,
          0.967759498957256,
          null,
          0.5,
          0,
          null,
          0.03356914560461503,
          0.032240501042743994,
          null,
          0.03356914560461503,
          0.09381718376682407,
          null,
          1,
          1,
          null,
          1,
          0.9652590189417244,
          null,
          1,
          1.0347409810582755,
          null,
          1,
          0,
          null,
          0.07246376811594203,
          0.13605670738336034,
          null,
          1,
          0,
          null,
          0.07246376811594203,
          0.13605670738336034,
          null,
          0,
          1,
          null,
          0.927536231884058,
          0.8639432926166397,
          null,
          0,
          1,
          null,
          0.9476346480327754,
          0.8776659754484841,
          null,
          0.9476346480327754,
          0.9256934811496907,
          null,
          0,
          0,
          null,
          0,
          -0.03474098105827558,
          null,
          0,
          0.03474098105827558,
          null,
          0,
          0.5,
          null,
          0.481676128503406,
          0.4992073320037643,
          null,
          0.481676128503406,
          0.4319835048195859,
          null,
          0,
          1,
          null,
          0.927536231884058,
          0.8639432926166397,
          null
         ]
        },
        {
         "hoverinfo": "none",
         "marker": {
          "color": "rgb(255, 255, 255)",
          "line": {
           "color": "rgb(0, 0, 0)",
           "width": 2
          },
          "size": 20
         },
         "mode": "markers+text",
         "text": [],
         "textfont": {
          "color": "rgb(0, 0, 0)"
         },
         "textposition": "middle center",
         "type": "scatter",
         "uid": "e2ec4239-a23c-11e8-872d-ec0ec4f70ed7",
         "x": [
          0,
          0.5,
          1,
          0.5,
          1
         ],
         "y": [
          0.5,
          1,
          1,
          0,
          0
         ]
        }
       ],
       "layout": {
        "height": 180,
        "margin": {
         "b": 0,
         "l": 0,
         "r": 0,
         "t": 0
        },
        "showlegend": false,
        "width": 320,
        "xaxis": {
         "showgrid": false,
         "showticklabels": false,
         "zeroline": false
        },
        "yaxis": {
         "showgrid": false,
         "showticklabels": false,
         "zeroline": false
        }
       }
      },
      "text/html": [
       "<div id=\"fec34b7e-5783-4462-a6f1-fadf3411e4c9\" style=\"height: 180px; width: 320px;\" class=\"plotly-graph-div\"></div><script type=\"text/javascript\">require([\"plotly\"], function(Plotly) { window.PLOTLYENV=window.PLOTLYENV || {};window.PLOTLYENV.BASE_URL=\"https://plot.ly\";Plotly.newPlot(\"fec34b7e-5783-4462-a6f1-fadf3411e4c9\", [{\"y\": [0.5, 1.0, null, 0.966430854395385, 0.906182816233176, null, 0.966430854395385, 0.967759498957256, null, 0.5, 0.0, null, 0.03356914560461503, 0.032240501042743994, null, 0.03356914560461503, 0.09381718376682407, null, 1.0, 1.0, null, 1.0, 0.9652590189417244, null, 1.0, 1.0347409810582755, null, 1.0, 0.0, null, 0.07246376811594203, 0.13605670738336034, null, 1.0, 0.0, null, 0.07246376811594203, 0.13605670738336034, null, 0.0, 1.0, null, 0.927536231884058, 0.8639432926166397, null, 0.0, 1.0, null, 0.9476346480327754, 0.8776659754484841, null, 0.9476346480327754, 0.9256934811496907, null, 0.0, 0.0, null, 0.0, -0.03474098105827558, null, 0.0, 0.03474098105827558, null, 0.0, 0.5, null, 0.481676128503406, 0.4992073320037643, null, 0.481676128503406, 0.4319835048195859, null, 0.0, 1.0, null, 0.927536231884058, 0.8639432926166397, null], \"x\": [0.0, 0.5, null, 0.46643085439538495, 0.44538388103556675, null, 0.46643085439538495, 0.4285584341548651, null, 0.0, 0.5, null, 0.46643085439538495, 0.4285584341548651, null, 0.46643085439538495, 0.44538388103556675, null, 0.5, 1.0, null, 0.9621212121212122, 0.9288794484132434, null, 0.9621212121212122, 0.9288794484132434, null, 0.5075757575757576, 0.5075757575757576, null, 0.5075757575757576, 0.5257358158562198, null, 1.0075757575757576, 1.0075757575757576, null, 1.0075757575757576, 1.0257358158562198, null, 0.49242424242424243, 0.49242424242424243, null, 0.49242424242424243, 0.4742641841437802, null, 0.5, 1.0, null, 0.9738173240163878, 0.9639630823912474, null, 0.9738173240163878, 0.9377166459078401, null, 0.5, 1.0, null, 0.9621212121212122, 0.9288794484132434, null, 0.9621212121212122, 0.9288794484132434, null, 1.0, 0.0, null, 0.03664774299318793, 0.07340128670201525, null, 0.03664774299318793, 0.06421703965128427, null, 0.9924242424242424, 0.9924242424242424, null, 0.9924242424242424, 0.9742641841437802, null], \"uid\": \"e2ec423a-a23c-11e8-872d-ec0ec4f70ed7\", \"hoverinfo\": \"none\", \"mode\": \"lines\", \"line\": {\"width\": 2, \"color\": \"rgb(0, 0, 0)\"}, \"type\": \"scatter\"}, {\"y\": [0.5, 1.0, 1.0, 0.0, 0.0], \"x\": [0.0, 0.5, 1.0, 0.5, 1.0], \"text\": [], \"hoverinfo\": \"none\", \"mode\": \"markers+text\", \"uid\": \"e2ec423b-a23c-11e8-872d-ec0ec4f70ed7\", \"textfont\": {\"color\": \"rgb(0, 0, 0)\"}, \"type\": \"scatter\", \"textposition\": \"middle center\", \"marker\": {\"line\": {\"color\": \"rgb(0, 0, 0)\", \"width\": 2}, \"color\": \"rgb(255, 255, 255)\", \"size\": 20}}], {\"yaxis\": {\"showgrid\": false, \"showticklabels\": false, \"zeroline\": false}, \"width\": 320, \"xaxis\": {\"showgrid\": false, \"showticklabels\": false, \"zeroline\": false}, \"height\": 180, \"showlegend\": false, \"margin\": {\"l\": 0, \"b\": 0, \"t\": 0, \"r\": 0}}, {\"showLink\": false, \"linkText\": \"Export to plot.ly\", \"displayModeBar\": false})});</script>"
      ],
      "text/vnd.plotly.v1+html": [
       "<div id=\"fec34b7e-5783-4462-a6f1-fadf3411e4c9\" style=\"height: 180px; width: 320px;\" class=\"plotly-graph-div\"></div><script type=\"text/javascript\">require([\"plotly\"], function(Plotly) { window.PLOTLYENV=window.PLOTLYENV || {};window.PLOTLYENV.BASE_URL=\"https://plot.ly\";Plotly.newPlot(\"fec34b7e-5783-4462-a6f1-fadf3411e4c9\", [{\"y\": [0.5, 1.0, null, 0.966430854395385, 0.906182816233176, null, 0.966430854395385, 0.967759498957256, null, 0.5, 0.0, null, 0.03356914560461503, 0.032240501042743994, null, 0.03356914560461503, 0.09381718376682407, null, 1.0, 1.0, null, 1.0, 0.9652590189417244, null, 1.0, 1.0347409810582755, null, 1.0, 0.0, null, 0.07246376811594203, 0.13605670738336034, null, 1.0, 0.0, null, 0.07246376811594203, 0.13605670738336034, null, 0.0, 1.0, null, 0.927536231884058, 0.8639432926166397, null, 0.0, 1.0, null, 0.9476346480327754, 0.8776659754484841, null, 0.9476346480327754, 0.9256934811496907, null, 0.0, 0.0, null, 0.0, -0.03474098105827558, null, 0.0, 0.03474098105827558, null, 0.0, 0.5, null, 0.481676128503406, 0.4992073320037643, null, 0.481676128503406, 0.4319835048195859, null, 0.0, 1.0, null, 0.927536231884058, 0.8639432926166397, null], \"x\": [0.0, 0.5, null, 0.46643085439538495, 0.44538388103556675, null, 0.46643085439538495, 0.4285584341548651, null, 0.0, 0.5, null, 0.46643085439538495, 0.4285584341548651, null, 0.46643085439538495, 0.44538388103556675, null, 0.5, 1.0, null, 0.9621212121212122, 0.9288794484132434, null, 0.9621212121212122, 0.9288794484132434, null, 0.5075757575757576, 0.5075757575757576, null, 0.5075757575757576, 0.5257358158562198, null, 1.0075757575757576, 1.0075757575757576, null, 1.0075757575757576, 1.0257358158562198, null, 0.49242424242424243, 0.49242424242424243, null, 0.49242424242424243, 0.4742641841437802, null, 0.5, 1.0, null, 0.9738173240163878, 0.9639630823912474, null, 0.9738173240163878, 0.9377166459078401, null, 0.5, 1.0, null, 0.9621212121212122, 0.9288794484132434, null, 0.9621212121212122, 0.9288794484132434, null, 1.0, 0.0, null, 0.03664774299318793, 0.07340128670201525, null, 0.03664774299318793, 0.06421703965128427, null, 0.9924242424242424, 0.9924242424242424, null, 0.9924242424242424, 0.9742641841437802, null], \"uid\": \"e2ec423a-a23c-11e8-872d-ec0ec4f70ed7\", \"hoverinfo\": \"none\", \"mode\": \"lines\", \"line\": {\"width\": 2, \"color\": \"rgb(0, 0, 0)\"}, \"type\": \"scatter\"}, {\"y\": [0.5, 1.0, 1.0, 0.0, 0.0], \"x\": [0.0, 0.5, 1.0, 0.5, 1.0], \"text\": [], \"hoverinfo\": \"none\", \"mode\": \"markers+text\", \"uid\": \"e2ec423b-a23c-11e8-872d-ec0ec4f70ed7\", \"textfont\": {\"color\": \"rgb(0, 0, 0)\"}, \"type\": \"scatter\", \"textposition\": \"middle center\", \"marker\": {\"line\": {\"color\": \"rgb(0, 0, 0)\", \"width\": 2}, \"color\": \"rgb(255, 255, 255)\", \"size\": 20}}], {\"yaxis\": {\"showgrid\": false, \"showticklabels\": false, \"zeroline\": false}, \"width\": 320, \"xaxis\": {\"showgrid\": false, \"showticklabels\": false, \"zeroline\": false}, \"height\": 180, \"showlegend\": false, \"margin\": {\"l\": 0, \"b\": 0, \"t\": 0, \"r\": 0}}, {\"showLink\": false, \"linkText\": \"Export to plot.ly\", \"displayModeBar\": false})});</script>"
      ]
     },
     "metadata": {},
     "output_type": "display_data"
    }
   ],
   "source": [
    "sn.graph_width = 320\n",
    "sn.graph_height = 180\n",
    "\n",
    "sn.show_graph(dg)"
   ]
  },
  {
   "cell_type": "markdown",
   "metadata": {},
   "source": [
    "Essa é a representação mais comum de grafos dirigidos: círculos como nós e setas como arestas. Se uma seta *sai* do círculo que representa $n$ e *entra* no círculo que representa $m$, ela representa a aresta $(n, m)$.\n",
    "\n",
    "Note que as duas primeiras linhas não são necessárias se você rodou a célula anterior, pois os valores atribuídos a `graph_width` e `graph_height` são exatamente iguais.\n",
    "\n",
    "\n",
    "## Atributos de nós e arestas\n",
    "\n",
    "Na estrutura de dados usada pela `socnet`, os nós são *inteiros* e cada nó é asssociado a um *dicionário* que armazena seus atributos. Vamos modificar e imprimir o atributo `color` do nó $0$ do grafo `ug`. Esse atributo existe por padrão."
   ]
  },
  {
   "cell_type": "code",
   "execution_count": 6,
   "metadata": {},
   "outputs": [
    {
     "name": "stdout",
     "output_type": "stream",
     "text": [
      "(255, 0, 0)\n"
     ]
    }
   ],
   "source": [
    "ug.nodes[0]['color'] = (255, 0, 0)\n",
    "\n",
    "print(ug.nodes[0]['color'])"
   ]
  },
  {
   "cell_type": "markdown",
   "metadata": {},
   "source": [
    "Cada aresta também é asssociada a um dicionário que armazena seus atributos. Vamos modificar e imprimir o atributo `color` da aresta $\\{1, 2\\}$ do grafo `ug`. Esse atributo existe por padrão."
   ]
  },
  {
   "cell_type": "code",
   "execution_count": 7,
   "metadata": {},
   "outputs": [
    {
     "name": "stdout",
     "output_type": "stream",
     "text": [
      "(0, 255, 0)\n"
     ]
    }
   ],
   "source": [
    "ug.edges[1, 2]['color'] = (0, 255, 0)\n",
    "\n",
    "print(ug.edges[1, 2]['color'])"
   ]
  },
  {
   "cell_type": "markdown",
   "metadata": {},
   "source": [
    "Note que a ordem dos nós não importa, pois `ug` é um grafo não-dirigido."
   ]
  },
  {
   "cell_type": "code",
   "execution_count": 8,
   "metadata": {},
   "outputs": [
    {
     "name": "stdout",
     "output_type": "stream",
     "text": [
      "(0, 0, 255)\n"
     ]
    }
   ],
   "source": [
    "ug.edges[2, 1]['color'] = (0, 0, 255)\n",
    "\n",
    "print(ug.edges[1, 2]['color'])"
   ]
  },
  {
   "cell_type": "markdown",
   "metadata": {},
   "source": [
    "Os atributos `color` são exibidos na visualização."
   ]
  },
  {
   "cell_type": "code",
   "execution_count": 9,
   "metadata": {},
   "outputs": [
    {
     "data": {
      "application/vnd.plotly.v1+json": {
       "data": [
        {
         "hoverinfo": "none",
         "line": {
          "color": "rgb(0, 0, 255)",
          "width": 2
         },
         "mode": "lines",
         "type": "scatter",
         "uid": "e2ec423c-a23c-11e8-872d-ec0ec4f70ed7",
         "x": [
          0.25,
          0.5,
          null
         ],
         "y": [
          1,
          1,
          null
         ]
        },
        {
         "hoverinfo": "none",
         "line": {
          "color": "rgb(0, 0, 0)",
          "width": 2
         },
         "mode": "lines",
         "type": "scatter",
         "uid": "e2ec423d-a23c-11e8-872d-ec0ec4f70ed7",
         "x": [
          0,
          0.25,
          null,
          0,
          0.25,
          null,
          0.25,
          0.25,
          null,
          0.5,
          0.375,
          null,
          0.5,
          0.75,
          null,
          0.5,
          0.75,
          null,
          0.75,
          1,
          null,
          0.75,
          0.75,
          null,
          1,
          0.75,
          null,
          0.75,
          0.5,
          null,
          0.5,
          0.375,
          null,
          0.5,
          0.25,
          null,
          0.25,
          0.375,
          null
         ],
         "y": [
          0.5,
          1,
          null,
          0.5,
          0,
          null,
          1,
          0,
          null,
          1,
          0.5,
          null,
          1,
          1,
          null,
          1,
          0,
          null,
          1,
          0.5,
          null,
          1,
          0,
          null,
          0.5,
          0,
          null,
          0,
          0,
          null,
          0,
          0.5,
          null,
          0,
          0,
          null,
          0,
          0.5,
          null
         ]
        },
        {
         "hoverinfo": "none",
         "marker": {
          "color": "rgb(255, 255, 255)",
          "line": {
           "color": "rgb(0, 0, 0)",
           "width": 2
          },
          "size": 20
         },
         "mode": "markers+text",
         "text": [],
         "textfont": {
          "color": "rgb(0, 0, 0)"
         },
         "textposition": "middle center",
         "type": "scatter",
         "uid": "e2ec423e-a23c-11e8-872d-ec0ec4f70ed7",
         "x": [
          0.25,
          0.5,
          0.75,
          1,
          0.75,
          0.5,
          0.25,
          0.375
         ],
         "y": [
          1,
          1,
          1,
          0.5,
          0,
          0,
          0,
          0.5
         ]
        },
        {
         "hoverinfo": "none",
         "marker": {
          "color": "rgb(255, 0, 0)",
          "line": {
           "color": "rgb(0, 0, 0)",
           "width": 2
          },
          "size": 20
         },
         "mode": "markers+text",
         "text": [],
         "textfont": {
          "color": "rgb(255, 255, 255)"
         },
         "textposition": "middle center",
         "type": "scatter",
         "uid": "e2ec423f-a23c-11e8-872d-ec0ec4f70ed7",
         "x": [
          0
         ],
         "y": [
          0.5
         ]
        }
       ],
       "layout": {
        "height": 180,
        "margin": {
         "b": 0,
         "l": 0,
         "r": 0,
         "t": 0
        },
        "showlegend": false,
        "width": 320,
        "xaxis": {
         "showgrid": false,
         "showticklabels": false,
         "zeroline": false
        },
        "yaxis": {
         "showgrid": false,
         "showticklabels": false,
         "zeroline": false
        }
       }
      },
      "text/html": [
       "<div id=\"5d8d696d-279c-46ad-984a-70bba8c618f2\" style=\"height: 180px; width: 320px;\" class=\"plotly-graph-div\"></div><script type=\"text/javascript\">require([\"plotly\"], function(Plotly) { window.PLOTLYENV=window.PLOTLYENV || {};window.PLOTLYENV.BASE_URL=\"https://plot.ly\";Plotly.newPlot(\"5d8d696d-279c-46ad-984a-70bba8c618f2\", [{\"y\": [1.0, 1.0, null], \"x\": [0.25, 0.5, null], \"uid\": \"e2ec4240-a23c-11e8-872d-ec0ec4f70ed7\", \"hoverinfo\": \"none\", \"mode\": \"lines\", \"line\": {\"width\": 2, \"color\": \"rgb(0, 0, 255)\"}, \"type\": \"scatter\"}, {\"y\": [0.5, 1.0, null, 0.5, 0.0, null, 1.0, 0.0, null, 1.0, 0.5, null, 1.0, 1.0, null, 1.0, 0.0, null, 1.0, 0.5, null, 1.0, 0.0, null, 0.5, 0.0, null, 0.0, 0.0, null, 0.0, 0.5, null, 0.0, 0.0, null, 0.0, 0.5, null], \"x\": [0.0, 0.25, null, 0.0, 0.25, null, 0.25, 0.25, null, 0.5, 0.375, null, 0.5, 0.75, null, 0.5, 0.75, null, 0.75, 1.0, null, 0.75, 0.75, null, 1.0, 0.75, null, 0.75, 0.5, null, 0.5, 0.375, null, 0.5, 0.25, null, 0.25, 0.375, null], \"uid\": \"e2ec4241-a23c-11e8-872d-ec0ec4f70ed7\", \"hoverinfo\": \"none\", \"mode\": \"lines\", \"line\": {\"width\": 2, \"color\": \"rgb(0, 0, 0)\"}, \"type\": \"scatter\"}, {\"y\": [1.0, 1.0, 1.0, 0.5, 0.0, 0.0, 0.0, 0.5], \"x\": [0.25, 0.5, 0.75, 1.0, 0.75, 0.5, 0.25, 0.375], \"text\": [], \"hoverinfo\": \"none\", \"mode\": \"markers+text\", \"uid\": \"e2ec4242-a23c-11e8-872d-ec0ec4f70ed7\", \"textfont\": {\"color\": \"rgb(0, 0, 0)\"}, \"type\": \"scatter\", \"textposition\": \"middle center\", \"marker\": {\"line\": {\"color\": \"rgb(0, 0, 0)\", \"width\": 2}, \"color\": \"rgb(255, 255, 255)\", \"size\": 20}}, {\"y\": [0.5], \"x\": [0.0], \"text\": [], \"hoverinfo\": \"none\", \"mode\": \"markers+text\", \"uid\": \"e2ec4243-a23c-11e8-872d-ec0ec4f70ed7\", \"textfont\": {\"color\": \"rgb(255, 255, 255)\"}, \"type\": \"scatter\", \"textposition\": \"middle center\", \"marker\": {\"line\": {\"color\": \"rgb(0, 0, 0)\", \"width\": 2}, \"color\": \"rgb(255, 0, 0)\", \"size\": 20}}], {\"yaxis\": {\"showgrid\": false, \"showticklabels\": false, \"zeroline\": false}, \"width\": 320, \"xaxis\": {\"showgrid\": false, \"showticklabels\": false, \"zeroline\": false}, \"height\": 180, \"showlegend\": false, \"margin\": {\"l\": 0, \"b\": 0, \"t\": 0, \"r\": 0}}, {\"showLink\": false, \"linkText\": \"Export to plot.ly\", \"displayModeBar\": false})});</script>"
      ],
      "text/vnd.plotly.v1+html": [
       "<div id=\"5d8d696d-279c-46ad-984a-70bba8c618f2\" style=\"height: 180px; width: 320px;\" class=\"plotly-graph-div\"></div><script type=\"text/javascript\">require([\"plotly\"], function(Plotly) { window.PLOTLYENV=window.PLOTLYENV || {};window.PLOTLYENV.BASE_URL=\"https://plot.ly\";Plotly.newPlot(\"5d8d696d-279c-46ad-984a-70bba8c618f2\", [{\"y\": [1.0, 1.0, null], \"x\": [0.25, 0.5, null], \"uid\": \"e2ec4240-a23c-11e8-872d-ec0ec4f70ed7\", \"hoverinfo\": \"none\", \"mode\": \"lines\", \"line\": {\"width\": 2, \"color\": \"rgb(0, 0, 255)\"}, \"type\": \"scatter\"}, {\"y\": [0.5, 1.0, null, 0.5, 0.0, null, 1.0, 0.0, null, 1.0, 0.5, null, 1.0, 1.0, null, 1.0, 0.0, null, 1.0, 0.5, null, 1.0, 0.0, null, 0.5, 0.0, null, 0.0, 0.0, null, 0.0, 0.5, null, 0.0, 0.0, null, 0.0, 0.5, null], \"x\": [0.0, 0.25, null, 0.0, 0.25, null, 0.25, 0.25, null, 0.5, 0.375, null, 0.5, 0.75, null, 0.5, 0.75, null, 0.75, 1.0, null, 0.75, 0.75, null, 1.0, 0.75, null, 0.75, 0.5, null, 0.5, 0.375, null, 0.5, 0.25, null, 0.25, 0.375, null], \"uid\": \"e2ec4241-a23c-11e8-872d-ec0ec4f70ed7\", \"hoverinfo\": \"none\", \"mode\": \"lines\", \"line\": {\"width\": 2, \"color\": \"rgb(0, 0, 0)\"}, \"type\": \"scatter\"}, {\"y\": [1.0, 1.0, 1.0, 0.5, 0.0, 0.0, 0.0, 0.5], \"x\": [0.25, 0.5, 0.75, 1.0, 0.75, 0.5, 0.25, 0.375], \"text\": [], \"hoverinfo\": \"none\", \"mode\": \"markers+text\", \"uid\": \"e2ec4242-a23c-11e8-872d-ec0ec4f70ed7\", \"textfont\": {\"color\": \"rgb(0, 0, 0)\"}, \"type\": \"scatter\", \"textposition\": \"middle center\", \"marker\": {\"line\": {\"color\": \"rgb(0, 0, 0)\", \"width\": 2}, \"color\": \"rgb(255, 255, 255)\", \"size\": 20}}, {\"y\": [0.5], \"x\": [0.0], \"text\": [], \"hoverinfo\": \"none\", \"mode\": \"markers+text\", \"uid\": \"e2ec4243-a23c-11e8-872d-ec0ec4f70ed7\", \"textfont\": {\"color\": \"rgb(255, 255, 255)\"}, \"type\": \"scatter\", \"textposition\": \"middle center\", \"marker\": {\"line\": {\"color\": \"rgb(0, 0, 0)\", \"width\": 2}, \"color\": \"rgb(255, 0, 0)\", \"size\": 20}}], {\"yaxis\": {\"showgrid\": false, \"showticklabels\": false, \"zeroline\": false}, \"width\": 320, \"xaxis\": {\"showgrid\": false, \"showticklabels\": false, \"zeroline\": false}, \"height\": 180, \"showlegend\": false, \"margin\": {\"l\": 0, \"b\": 0, \"t\": 0, \"r\": 0}}, {\"showLink\": false, \"linkText\": \"Export to plot.ly\", \"displayModeBar\": false})});</script>"
      ]
     },
     "metadata": {},
     "output_type": "display_data"
    }
   ],
   "source": [
    "sn.show_graph(ug)"
   ]
  },
  {
   "cell_type": "markdown",
   "metadata": {},
   "source": [
    "Podemos usar funções de conveniência para reinicializar as cores."
   ]
  },
  {
   "cell_type": "code",
   "execution_count": 10,
   "metadata": {},
   "outputs": [
    {
     "data": {
      "application/vnd.plotly.v1+json": {
       "data": [
        {
         "hoverinfo": "none",
         "line": {
          "color": "rgb(0, 0, 0)",
          "width": 2
         },
         "mode": "lines",
         "type": "scatter",
         "uid": "e2ec4244-a23c-11e8-872d-ec0ec4f70ed7",
         "x": [
          0,
          0.25,
          null,
          0,
          0.25,
          null,
          0.25,
          0.5,
          null,
          0.25,
          0.25,
          null,
          0.5,
          0.375,
          null,
          0.5,
          0.75,
          null,
          0.5,
          0.75,
          null,
          0.75,
          1,
          null,
          0.75,
          0.75,
          null,
          1,
          0.75,
          null,
          0.75,
          0.5,
          null,
          0.5,
          0.375,
          null,
          0.5,
          0.25,
          null,
          0.25,
          0.375,
          null
         ],
         "y": [
          0.5,
          1,
          null,
          0.5,
          0,
          null,
          1,
          1,
          null,
          1,
          0,
          null,
          1,
          0.5,
          null,
          1,
          1,
          null,
          1,
          0,
          null,
          1,
          0.5,
          null,
          1,
          0,
          null,
          0.5,
          0,
          null,
          0,
          0,
          null,
          0,
          0.5,
          null,
          0,
          0,
          null,
          0,
          0.5,
          null
         ]
        },
        {
         "hoverinfo": "none",
         "marker": {
          "color": "rgb(255, 255, 255)",
          "line": {
           "color": "rgb(0, 0, 0)",
           "width": 2
          },
          "size": 20
         },
         "mode": "markers+text",
         "text": [],
         "textfont": {
          "color": "rgb(0, 0, 0)"
         },
         "textposition": "middle center",
         "type": "scatter",
         "uid": "e2ec4245-a23c-11e8-872d-ec0ec4f70ed7",
         "x": [
          0,
          0.25,
          0.5,
          0.75,
          1,
          0.75,
          0.5,
          0.25,
          0.375
         ],
         "y": [
          0.5,
          1,
          1,
          1,
          0.5,
          0,
          0,
          0,
          0.5
         ]
        }
       ],
       "layout": {
        "height": 180,
        "margin": {
         "b": 0,
         "l": 0,
         "r": 0,
         "t": 0
        },
        "showlegend": false,
        "width": 320,
        "xaxis": {
         "showgrid": false,
         "showticklabels": false,
         "zeroline": false
        },
        "yaxis": {
         "showgrid": false,
         "showticklabels": false,
         "zeroline": false
        }
       }
      },
      "text/html": [
       "<div id=\"90b7a224-b9e4-4359-99da-41ad5f2d172d\" style=\"height: 180px; width: 320px;\" class=\"plotly-graph-div\"></div><script type=\"text/javascript\">require([\"plotly\"], function(Plotly) { window.PLOTLYENV=window.PLOTLYENV || {};window.PLOTLYENV.BASE_URL=\"https://plot.ly\";Plotly.newPlot(\"90b7a224-b9e4-4359-99da-41ad5f2d172d\", [{\"y\": [0.5, 1.0, null, 0.5, 0.0, null, 1.0, 1.0, null, 1.0, 0.0, null, 1.0, 0.5, null, 1.0, 1.0, null, 1.0, 0.0, null, 1.0, 0.5, null, 1.0, 0.0, null, 0.5, 0.0, null, 0.0, 0.0, null, 0.0, 0.5, null, 0.0, 0.0, null, 0.0, 0.5, null], \"x\": [0.0, 0.25, null, 0.0, 0.25, null, 0.25, 0.5, null, 0.25, 0.25, null, 0.5, 0.375, null, 0.5, 0.75, null, 0.5, 0.75, null, 0.75, 1.0, null, 0.75, 0.75, null, 1.0, 0.75, null, 0.75, 0.5, null, 0.5, 0.375, null, 0.5, 0.25, null, 0.25, 0.375, null], \"uid\": \"e2ec4246-a23c-11e8-872d-ec0ec4f70ed7\", \"hoverinfo\": \"none\", \"mode\": \"lines\", \"line\": {\"width\": 2, \"color\": \"rgb(0, 0, 0)\"}, \"type\": \"scatter\"}, {\"y\": [0.5, 1.0, 1.0, 1.0, 0.5, 0.0, 0.0, 0.0, 0.5], \"x\": [0.0, 0.25, 0.5, 0.75, 1.0, 0.75, 0.5, 0.25, 0.375], \"text\": [], \"hoverinfo\": \"none\", \"mode\": \"markers+text\", \"uid\": \"e2ec4247-a23c-11e8-872d-ec0ec4f70ed7\", \"textfont\": {\"color\": \"rgb(0, 0, 0)\"}, \"type\": \"scatter\", \"textposition\": \"middle center\", \"marker\": {\"line\": {\"color\": \"rgb(0, 0, 0)\", \"width\": 2}, \"color\": \"rgb(255, 255, 255)\", \"size\": 20}}], {\"yaxis\": {\"showgrid\": false, \"showticklabels\": false, \"zeroline\": false}, \"width\": 320, \"xaxis\": {\"showgrid\": false, \"showticklabels\": false, \"zeroline\": false}, \"height\": 180, \"showlegend\": false, \"margin\": {\"l\": 0, \"b\": 0, \"t\": 0, \"r\": 0}}, {\"showLink\": false, \"linkText\": \"Export to plot.ly\", \"displayModeBar\": false})});</script>"
      ],
      "text/vnd.plotly.v1+html": [
       "<div id=\"90b7a224-b9e4-4359-99da-41ad5f2d172d\" style=\"height: 180px; width: 320px;\" class=\"plotly-graph-div\"></div><script type=\"text/javascript\">require([\"plotly\"], function(Plotly) { window.PLOTLYENV=window.PLOTLYENV || {};window.PLOTLYENV.BASE_URL=\"https://plot.ly\";Plotly.newPlot(\"90b7a224-b9e4-4359-99da-41ad5f2d172d\", [{\"y\": [0.5, 1.0, null, 0.5, 0.0, null, 1.0, 1.0, null, 1.0, 0.0, null, 1.0, 0.5, null, 1.0, 1.0, null, 1.0, 0.0, null, 1.0, 0.5, null, 1.0, 0.0, null, 0.5, 0.0, null, 0.0, 0.0, null, 0.0, 0.5, null, 0.0, 0.0, null, 0.0, 0.5, null], \"x\": [0.0, 0.25, null, 0.0, 0.25, null, 0.25, 0.5, null, 0.25, 0.25, null, 0.5, 0.375, null, 0.5, 0.75, null, 0.5, 0.75, null, 0.75, 1.0, null, 0.75, 0.75, null, 1.0, 0.75, null, 0.75, 0.5, null, 0.5, 0.375, null, 0.5, 0.25, null, 0.25, 0.375, null], \"uid\": \"e2ec4246-a23c-11e8-872d-ec0ec4f70ed7\", \"hoverinfo\": \"none\", \"mode\": \"lines\", \"line\": {\"width\": 2, \"color\": \"rgb(0, 0, 0)\"}, \"type\": \"scatter\"}, {\"y\": [0.5, 1.0, 1.0, 1.0, 0.5, 0.0, 0.0, 0.0, 0.5], \"x\": [0.0, 0.25, 0.5, 0.75, 1.0, 0.75, 0.5, 0.25, 0.375], \"text\": [], \"hoverinfo\": \"none\", \"mode\": \"markers+text\", \"uid\": \"e2ec4247-a23c-11e8-872d-ec0ec4f70ed7\", \"textfont\": {\"color\": \"rgb(0, 0, 0)\"}, \"type\": \"scatter\", \"textposition\": \"middle center\", \"marker\": {\"line\": {\"color\": \"rgb(0, 0, 0)\", \"width\": 2}, \"color\": \"rgb(255, 255, 255)\", \"size\": 20}}], {\"yaxis\": {\"showgrid\": false, \"showticklabels\": false, \"zeroline\": false}, \"width\": 320, \"xaxis\": {\"showgrid\": false, \"showticklabels\": false, \"zeroline\": false}, \"height\": 180, \"showlegend\": false, \"margin\": {\"l\": 0, \"b\": 0, \"t\": 0, \"r\": 0}}, {\"showLink\": false, \"linkText\": \"Export to plot.ly\", \"displayModeBar\": false})});</script>"
      ]
     },
     "metadata": {},
     "output_type": "display_data"
    }
   ],
   "source": [
    "sn.reset_node_colors(ug)\n",
    "sn.reset_edge_colors(ug)\n",
    "\n",
    "sn.show_graph(ug)"
   ]
  },
  {
   "cell_type": "markdown",
   "metadata": {},
   "source": [
    "Os atributos `label` também podem ser exibidos na visualização, mas não existem por padrão. Primeiramente, precisamos criá-los."
   ]
  },
  {
   "cell_type": "code",
   "execution_count": 11,
   "metadata": {},
   "outputs": [],
   "source": [
    "for n in ug.nodes:\n",
    "    ug.nodes[n]['label'] = str(n)\n",
    "for n, m in ug.edges:\n",
    "    ug.edges[n, m]['label'] = '?'\n",
    "\n",
    "for n in dg.nodes:\n",
    "    dg.nodes[n]['label'] = str(n)\n",
    "for n, m in dg.edges:\n",
    "    dg.edges[n, m]['label'] = '?'"
   ]
  },
  {
   "cell_type": "markdown",
   "metadata": {},
   "source": [
    "Depois, precisamos usar os argumentos `nlab` e `elab` para indicar que queremos exibi-los. Esses argumentos são `False` por padrão. "
   ]
  },
  {
   "cell_type": "code",
   "execution_count": 12,
   "metadata": {},
   "outputs": [
    {
     "data": {
      "application/vnd.plotly.v1+json": {
       "data": [
        {
         "hoverinfo": "none",
         "line": {
          "color": "rgb(0, 0, 0)",
          "width": 2
         },
         "mode": "lines",
         "type": "scatter",
         "uid": "e2ec4248-a23c-11e8-872d-ec0ec4f70ed7",
         "x": [
          0,
          0.25,
          null,
          0,
          0.25,
          null,
          0.25,
          0.5,
          null,
          0.25,
          0.25,
          null,
          0.5,
          0.375,
          null,
          0.5,
          0.75,
          null,
          0.5,
          0.75,
          null,
          0.75,
          1,
          null,
          0.75,
          0.75,
          null,
          1,
          0.75,
          null,
          0.75,
          0.5,
          null,
          0.5,
          0.375,
          null,
          0.5,
          0.25,
          null,
          0.25,
          0.375,
          null
         ],
         "y": [
          0.5,
          1,
          null,
          0.5,
          0,
          null,
          1,
          1,
          null,
          1,
          0,
          null,
          1,
          0.5,
          null,
          1,
          1,
          null,
          1,
          0,
          null,
          1,
          0.5,
          null,
          1,
          0,
          null,
          0.5,
          0,
          null,
          0,
          0,
          null,
          0,
          0.5,
          null,
          0,
          0,
          null,
          0,
          0.5,
          null
         ]
        },
        {
         "hoverinfo": "none",
         "marker": {
          "color": "rgb(255, 255, 255)",
          "line": {
           "color": "rgb(0, 0, 0)",
           "width": 2
          },
          "size": 20
         },
         "mode": "markers+text",
         "text": [
          "0",
          "1",
          "2",
          "3",
          "4",
          "5",
          "6",
          "7",
          "8"
         ],
         "textfont": {
          "color": "rgb(0, 0, 0)"
         },
         "textposition": "middle center",
         "type": "scatter",
         "uid": "e2ec4249-a23c-11e8-872d-ec0ec4f70ed7",
         "x": [
          0,
          0.25,
          0.5,
          0.75,
          1,
          0.75,
          0.5,
          0.25,
          0.375
         ],
         "y": [
          0.5,
          1,
          1,
          1,
          0.5,
          0,
          0,
          0,
          0.5
         ]
        },
        {
         "hoverinfo": "none",
         "mode": "text",
         "text": [
          "?",
          "?",
          "?",
          "?",
          "?",
          "?",
          "?",
          "?",
          "?",
          "?",
          "?",
          "?",
          "?",
          "?"
         ],
         "textfont": {
          "color": "rgb(0, 0, 0)"
         },
         "textposition": "middle center",
         "type": "scatter",
         "uid": "e2ec424a-a23c-11e8-872d-ec0ec4f70ed7",
         "x": [
          0.08835225700681207,
          0.16164774299318793,
          0.375,
          0.2878787878787879,
          0.4750594305323629,
          0.625,
          0.6625594305323629,
          0.911647742993188,
          0.7878787878787878,
          0.911647742993188,
          0.625,
          0.3999405694676371,
          0.375,
          0.2749405694676371
         ],
         "y": [
          0.768323871496594,
          0.268323871496594,
          1.0724637681159421,
          0.5,
          0.7406101423669093,
          1.0724637681159421,
          0.5093898576330907,
          0.768323871496594,
          0.5,
          0.23167612850340602,
          -0.07246376811594203,
          0.24061014236690928,
          -0.07246376811594203,
          0.2593898576330907
         ]
        }
       ],
       "layout": {
        "height": 180,
        "margin": {
         "b": 0,
         "l": 0,
         "r": 0,
         "t": 0
        },
        "showlegend": false,
        "width": 320,
        "xaxis": {
         "showgrid": false,
         "showticklabels": false,
         "zeroline": false
        },
        "yaxis": {
         "showgrid": false,
         "showticklabels": false,
         "zeroline": false
        }
       }
      },
      "text/html": [
       "<div id=\"f9f65dcd-a19d-4461-bc8e-2e05264b958e\" style=\"height: 180px; width: 320px;\" class=\"plotly-graph-div\"></div><script type=\"text/javascript\">require([\"plotly\"], function(Plotly) { window.PLOTLYENV=window.PLOTLYENV || {};window.PLOTLYENV.BASE_URL=\"https://plot.ly\";Plotly.newPlot(\"f9f65dcd-a19d-4461-bc8e-2e05264b958e\", [{\"y\": [0.5, 1.0, null, 0.5, 0.0, null, 1.0, 1.0, null, 1.0, 0.0, null, 1.0, 0.5, null, 1.0, 1.0, null, 1.0, 0.0, null, 1.0, 0.5, null, 1.0, 0.0, null, 0.5, 0.0, null, 0.0, 0.0, null, 0.0, 0.5, null, 0.0, 0.0, null, 0.0, 0.5, null], \"x\": [0.0, 0.25, null, 0.0, 0.25, null, 0.25, 0.5, null, 0.25, 0.25, null, 0.5, 0.375, null, 0.5, 0.75, null, 0.5, 0.75, null, 0.75, 1.0, null, 0.75, 0.75, null, 1.0, 0.75, null, 0.75, 0.5, null, 0.5, 0.375, null, 0.5, 0.25, null, 0.25, 0.375, null], \"uid\": \"e2ec424b-a23c-11e8-872d-ec0ec4f70ed7\", \"hoverinfo\": \"none\", \"mode\": \"lines\", \"line\": {\"width\": 2, \"color\": \"rgb(0, 0, 0)\"}, \"type\": \"scatter\"}, {\"y\": [0.5, 1.0, 1.0, 1.0, 0.5, 0.0, 0.0, 0.0, 0.5], \"x\": [0.0, 0.25, 0.5, 0.75, 1.0, 0.75, 0.5, 0.25, 0.375], \"text\": [\"0\", \"1\", \"2\", \"3\", \"4\", \"5\", \"6\", \"7\", \"8\"], \"hoverinfo\": \"none\", \"mode\": \"markers+text\", \"uid\": \"e2ec424c-a23c-11e8-872d-ec0ec4f70ed7\", \"textfont\": {\"color\": \"rgb(0, 0, 0)\"}, \"type\": \"scatter\", \"textposition\": \"middle center\", \"marker\": {\"line\": {\"color\": \"rgb(0, 0, 0)\", \"width\": 2}, \"color\": \"rgb(255, 255, 255)\", \"size\": 20}}, {\"y\": [0.768323871496594, 0.268323871496594, 1.0724637681159421, 0.5, 0.7406101423669093, 1.0724637681159421, 0.5093898576330907, 0.768323871496594, 0.5, 0.23167612850340602, -0.07246376811594203, 0.24061014236690928, -0.07246376811594203, 0.2593898576330907], \"x\": [0.08835225700681207, 0.16164774299318793, 0.375, 0.2878787878787879, 0.4750594305323629, 0.625, 0.6625594305323629, 0.911647742993188, 0.7878787878787878, 0.911647742993188, 0.625, 0.3999405694676371, 0.375, 0.2749405694676371], \"text\": [\"?\", \"?\", \"?\", \"?\", \"?\", \"?\", \"?\", \"?\", \"?\", \"?\", \"?\", \"?\", \"?\", \"?\"], \"hoverinfo\": \"none\", \"mode\": \"text\", \"textfont\": {\"color\": \"rgb(0, 0, 0)\"}, \"uid\": \"e2ec424d-a23c-11e8-872d-ec0ec4f70ed7\", \"textposition\": \"middle center\", \"type\": \"scatter\"}], {\"yaxis\": {\"showgrid\": false, \"showticklabels\": false, \"zeroline\": false}, \"width\": 320, \"xaxis\": {\"showgrid\": false, \"showticklabels\": false, \"zeroline\": false}, \"height\": 180, \"showlegend\": false, \"margin\": {\"l\": 0, \"b\": 0, \"t\": 0, \"r\": 0}}, {\"showLink\": false, \"linkText\": \"Export to plot.ly\", \"displayModeBar\": false})});</script>"
      ],
      "text/vnd.plotly.v1+html": [
       "<div id=\"f9f65dcd-a19d-4461-bc8e-2e05264b958e\" style=\"height: 180px; width: 320px;\" class=\"plotly-graph-div\"></div><script type=\"text/javascript\">require([\"plotly\"], function(Plotly) { window.PLOTLYENV=window.PLOTLYENV || {};window.PLOTLYENV.BASE_URL=\"https://plot.ly\";Plotly.newPlot(\"f9f65dcd-a19d-4461-bc8e-2e05264b958e\", [{\"y\": [0.5, 1.0, null, 0.5, 0.0, null, 1.0, 1.0, null, 1.0, 0.0, null, 1.0, 0.5, null, 1.0, 1.0, null, 1.0, 0.0, null, 1.0, 0.5, null, 1.0, 0.0, null, 0.5, 0.0, null, 0.0, 0.0, null, 0.0, 0.5, null, 0.0, 0.0, null, 0.0, 0.5, null], \"x\": [0.0, 0.25, null, 0.0, 0.25, null, 0.25, 0.5, null, 0.25, 0.25, null, 0.5, 0.375, null, 0.5, 0.75, null, 0.5, 0.75, null, 0.75, 1.0, null, 0.75, 0.75, null, 1.0, 0.75, null, 0.75, 0.5, null, 0.5, 0.375, null, 0.5, 0.25, null, 0.25, 0.375, null], \"uid\": \"e2ec424b-a23c-11e8-872d-ec0ec4f70ed7\", \"hoverinfo\": \"none\", \"mode\": \"lines\", \"line\": {\"width\": 2, \"color\": \"rgb(0, 0, 0)\"}, \"type\": \"scatter\"}, {\"y\": [0.5, 1.0, 1.0, 1.0, 0.5, 0.0, 0.0, 0.0, 0.5], \"x\": [0.0, 0.25, 0.5, 0.75, 1.0, 0.75, 0.5, 0.25, 0.375], \"text\": [\"0\", \"1\", \"2\", \"3\", \"4\", \"5\", \"6\", \"7\", \"8\"], \"hoverinfo\": \"none\", \"mode\": \"markers+text\", \"uid\": \"e2ec424c-a23c-11e8-872d-ec0ec4f70ed7\", \"textfont\": {\"color\": \"rgb(0, 0, 0)\"}, \"type\": \"scatter\", \"textposition\": \"middle center\", \"marker\": {\"line\": {\"color\": \"rgb(0, 0, 0)\", \"width\": 2}, \"color\": \"rgb(255, 255, 255)\", \"size\": 20}}, {\"y\": [0.768323871496594, 0.268323871496594, 1.0724637681159421, 0.5, 0.7406101423669093, 1.0724637681159421, 0.5093898576330907, 0.768323871496594, 0.5, 0.23167612850340602, -0.07246376811594203, 0.24061014236690928, -0.07246376811594203, 0.2593898576330907], \"x\": [0.08835225700681207, 0.16164774299318793, 0.375, 0.2878787878787879, 0.4750594305323629, 0.625, 0.6625594305323629, 0.911647742993188, 0.7878787878787878, 0.911647742993188, 0.625, 0.3999405694676371, 0.375, 0.2749405694676371], \"text\": [\"?\", \"?\", \"?\", \"?\", \"?\", \"?\", \"?\", \"?\", \"?\", \"?\", \"?\", \"?\", \"?\", \"?\"], \"hoverinfo\": \"none\", \"mode\": \"text\", \"textfont\": {\"color\": \"rgb(0, 0, 0)\"}, \"uid\": \"e2ec424d-a23c-11e8-872d-ec0ec4f70ed7\", \"textposition\": \"middle center\", \"type\": \"scatter\"}], {\"yaxis\": {\"showgrid\": false, \"showticklabels\": false, \"zeroline\": false}, \"width\": 320, \"xaxis\": {\"showgrid\": false, \"showticklabels\": false, \"zeroline\": false}, \"height\": 180, \"showlegend\": false, \"margin\": {\"l\": 0, \"b\": 0, \"t\": 0, \"r\": 0}}, {\"showLink\": false, \"linkText\": \"Export to plot.ly\", \"displayModeBar\": false})});</script>"
      ]
     },
     "metadata": {},
     "output_type": "display_data"
    },
    {
     "data": {
      "application/vnd.plotly.v1+json": {
       "data": [
        {
         "hoverinfo": "none",
         "line": {
          "color": "rgb(0, 0, 0)",
          "width": 2
         },
         "mode": "lines",
         "type": "scatter",
         "uid": "e2ec424e-a23c-11e8-872d-ec0ec4f70ed7",
         "x": [
          0,
          0.5,
          null,
          0.46643085439538495,
          0.44538388103556675,
          null,
          0.46643085439538495,
          0.4285584341548651,
          null,
          0,
          0.5,
          null,
          0.46643085439538495,
          0.4285584341548651,
          null,
          0.46643085439538495,
          0.44538388103556675,
          null,
          0.5,
          1,
          null,
          0.9621212121212122,
          0.9288794484132434,
          null,
          0.9621212121212122,
          0.9288794484132434,
          null,
          0.5075757575757576,
          0.5075757575757576,
          null,
          0.5075757575757576,
          0.5257358158562198,
          null,
          1.0075757575757576,
          1.0075757575757576,
          null,
          1.0075757575757576,
          1.0257358158562198,
          null,
          0.49242424242424243,
          0.49242424242424243,
          null,
          0.49242424242424243,
          0.4742641841437802,
          null,
          0.5,
          1,
          null,
          0.9738173240163878,
          0.9639630823912474,
          null,
          0.9738173240163878,
          0.9377166459078401,
          null,
          0.5,
          1,
          null,
          0.9621212121212122,
          0.9288794484132434,
          null,
          0.9621212121212122,
          0.9288794484132434,
          null,
          1,
          0,
          null,
          0.03664774299318793,
          0.07340128670201525,
          null,
          0.03664774299318793,
          0.06421703965128427,
          null,
          0.9924242424242424,
          0.9924242424242424,
          null,
          0.9924242424242424,
          0.9742641841437802,
          null
         ],
         "y": [
          0.5,
          1,
          null,
          0.966430854395385,
          0.906182816233176,
          null,
          0.966430854395385,
          0.967759498957256,
          null,
          0.5,
          0,
          null,
          0.03356914560461503,
          0.032240501042743994,
          null,
          0.03356914560461503,
          0.09381718376682407,
          null,
          1,
          1,
          null,
          1,
          0.9652590189417244,
          null,
          1,
          1.0347409810582755,
          null,
          1,
          0,
          null,
          0.07246376811594203,
          0.13605670738336034,
          null,
          1,
          0,
          null,
          0.07246376811594203,
          0.13605670738336034,
          null,
          0,
          1,
          null,
          0.927536231884058,
          0.8639432926166397,
          null,
          0,
          1,
          null,
          0.9476346480327754,
          0.8776659754484841,
          null,
          0.9476346480327754,
          0.9256934811496907,
          null,
          0,
          0,
          null,
          0,
          -0.03474098105827558,
          null,
          0,
          0.03474098105827558,
          null,
          0,
          0.5,
          null,
          0.481676128503406,
          0.4992073320037643,
          null,
          0.481676128503406,
          0.4319835048195859,
          null,
          0,
          1,
          null,
          0.927536231884058,
          0.8639432926166397,
          null
         ]
        },
        {
         "hoverinfo": "none",
         "marker": {
          "color": "rgb(255, 255, 255)",
          "line": {
           "color": "rgb(0, 0, 0)",
           "width": 2
          },
          "size": 20
         },
         "mode": "markers+text",
         "text": [
          "0",
          "1",
          "2",
          "3",
          "4"
         ],
         "textfont": {
          "color": "rgb(0, 0, 0)"
         },
         "textposition": "middle center",
         "type": "scatter",
         "uid": "e2ec424f-a23c-11e8-872d-ec0ec4f70ed7",
         "x": [
          0,
          0.5,
          1,
          0.5,
          1
         ],
         "y": [
          0.5,
          1,
          1,
          0,
          0
         ]
        },
        {
         "hoverinfo": "none",
         "mode": "text",
         "text": [
          "?",
          "?",
          "?",
          "?",
          "?",
          "?",
          "?",
          "?",
          "?",
          "?"
         ],
         "textfont": {
          "color": "rgb(0, 0, 0)"
         },
         "textposition": "middle center",
         "type": "scatter",
         "uid": "e2ec4250-a23c-11e8-872d-ec0ec4f70ed7",
         "x": [
          0.21643085439538495,
          0.28356914560461505,
          0.75,
          0.5454545454545454,
          1.0454545454545454,
          0.45454545454545453,
          0.713352257006812,
          0.75,
          0.4738173240163877,
          0.9545454545454546
         ],
         "y": [
          0.783569145604615,
          0.28356914560461505,
          1.0724637681159421,
          0.5,
          0.5,
          0.5,
          0.518323871496594,
          0.07246376811594203,
          0.19763464803277542,
          0.5
         ]
        }
       ],
       "layout": {
        "height": 180,
        "margin": {
         "b": 0,
         "l": 0,
         "r": 0,
         "t": 0
        },
        "showlegend": false,
        "width": 320,
        "xaxis": {
         "showgrid": false,
         "showticklabels": false,
         "zeroline": false
        },
        "yaxis": {
         "showgrid": false,
         "showticklabels": false,
         "zeroline": false
        }
       }
      },
      "text/html": [
       "<div id=\"507d98e9-dcbe-4402-90a2-aede95e29ca6\" style=\"height: 180px; width: 320px;\" class=\"plotly-graph-div\"></div><script type=\"text/javascript\">require([\"plotly\"], function(Plotly) { window.PLOTLYENV=window.PLOTLYENV || {};window.PLOTLYENV.BASE_URL=\"https://plot.ly\";Plotly.newPlot(\"507d98e9-dcbe-4402-90a2-aede95e29ca6\", [{\"y\": [0.5, 1.0, null, 0.966430854395385, 0.906182816233176, null, 0.966430854395385, 0.967759498957256, null, 0.5, 0.0, null, 0.03356914560461503, 0.032240501042743994, null, 0.03356914560461503, 0.09381718376682407, null, 1.0, 1.0, null, 1.0, 0.9652590189417244, null, 1.0, 1.0347409810582755, null, 1.0, 0.0, null, 0.07246376811594203, 0.13605670738336034, null, 1.0, 0.0, null, 0.07246376811594203, 0.13605670738336034, null, 0.0, 1.0, null, 0.927536231884058, 0.8639432926166397, null, 0.0, 1.0, null, 0.9476346480327754, 0.8776659754484841, null, 0.9476346480327754, 0.9256934811496907, null, 0.0, 0.0, null, 0.0, -0.03474098105827558, null, 0.0, 0.03474098105827558, null, 0.0, 0.5, null, 0.481676128503406, 0.4992073320037643, null, 0.481676128503406, 0.4319835048195859, null, 0.0, 1.0, null, 0.927536231884058, 0.8639432926166397, null], \"x\": [0.0, 0.5, null, 0.46643085439538495, 0.44538388103556675, null, 0.46643085439538495, 0.4285584341548651, null, 0.0, 0.5, null, 0.46643085439538495, 0.4285584341548651, null, 0.46643085439538495, 0.44538388103556675, null, 0.5, 1.0, null, 0.9621212121212122, 0.9288794484132434, null, 0.9621212121212122, 0.9288794484132434, null, 0.5075757575757576, 0.5075757575757576, null, 0.5075757575757576, 0.5257358158562198, null, 1.0075757575757576, 1.0075757575757576, null, 1.0075757575757576, 1.0257358158562198, null, 0.49242424242424243, 0.49242424242424243, null, 0.49242424242424243, 0.4742641841437802, null, 0.5, 1.0, null, 0.9738173240163878, 0.9639630823912474, null, 0.9738173240163878, 0.9377166459078401, null, 0.5, 1.0, null, 0.9621212121212122, 0.9288794484132434, null, 0.9621212121212122, 0.9288794484132434, null, 1.0, 0.0, null, 0.03664774299318793, 0.07340128670201525, null, 0.03664774299318793, 0.06421703965128427, null, 0.9924242424242424, 0.9924242424242424, null, 0.9924242424242424, 0.9742641841437802, null], \"uid\": \"e2ec4251-a23c-11e8-872d-ec0ec4f70ed7\", \"hoverinfo\": \"none\", \"mode\": \"lines\", \"line\": {\"width\": 2, \"color\": \"rgb(0, 0, 0)\"}, \"type\": \"scatter\"}, {\"y\": [0.5, 1.0, 1.0, 0.0, 0.0], \"x\": [0.0, 0.5, 1.0, 0.5, 1.0], \"text\": [\"0\", \"1\", \"2\", \"3\", \"4\"], \"hoverinfo\": \"none\", \"mode\": \"markers+text\", \"uid\": \"e2ec4252-a23c-11e8-872d-ec0ec4f70ed7\", \"textfont\": {\"color\": \"rgb(0, 0, 0)\"}, \"type\": \"scatter\", \"textposition\": \"middle center\", \"marker\": {\"line\": {\"color\": \"rgb(0, 0, 0)\", \"width\": 2}, \"color\": \"rgb(255, 255, 255)\", \"size\": 20}}, {\"y\": [0.783569145604615, 0.28356914560461505, 1.0724637681159421, 0.5, 0.5, 0.5, 0.518323871496594, 0.07246376811594203, 0.19763464803277542, 0.5], \"x\": [0.21643085439538495, 0.28356914560461505, 0.75, 0.5454545454545454, 1.0454545454545454, 0.45454545454545453, 0.713352257006812, 0.75, 0.4738173240163877, 0.9545454545454546], \"text\": [\"?\", \"?\", \"?\", \"?\", \"?\", \"?\", \"?\", \"?\", \"?\", \"?\"], \"hoverinfo\": \"none\", \"mode\": \"text\", \"textfont\": {\"color\": \"rgb(0, 0, 0)\"}, \"uid\": \"e2ec4253-a23c-11e8-872d-ec0ec4f70ed7\", \"textposition\": \"middle center\", \"type\": \"scatter\"}], {\"yaxis\": {\"showgrid\": false, \"showticklabels\": false, \"zeroline\": false}, \"width\": 320, \"xaxis\": {\"showgrid\": false, \"showticklabels\": false, \"zeroline\": false}, \"height\": 180, \"showlegend\": false, \"margin\": {\"l\": 0, \"b\": 0, \"t\": 0, \"r\": 0}}, {\"showLink\": false, \"linkText\": \"Export to plot.ly\", \"displayModeBar\": false})});</script>"
      ],
      "text/vnd.plotly.v1+html": [
       "<div id=\"507d98e9-dcbe-4402-90a2-aede95e29ca6\" style=\"height: 180px; width: 320px;\" class=\"plotly-graph-div\"></div><script type=\"text/javascript\">require([\"plotly\"], function(Plotly) { window.PLOTLYENV=window.PLOTLYENV || {};window.PLOTLYENV.BASE_URL=\"https://plot.ly\";Plotly.newPlot(\"507d98e9-dcbe-4402-90a2-aede95e29ca6\", [{\"y\": [0.5, 1.0, null, 0.966430854395385, 0.906182816233176, null, 0.966430854395385, 0.967759498957256, null, 0.5, 0.0, null, 0.03356914560461503, 0.032240501042743994, null, 0.03356914560461503, 0.09381718376682407, null, 1.0, 1.0, null, 1.0, 0.9652590189417244, null, 1.0, 1.0347409810582755, null, 1.0, 0.0, null, 0.07246376811594203, 0.13605670738336034, null, 1.0, 0.0, null, 0.07246376811594203, 0.13605670738336034, null, 0.0, 1.0, null, 0.927536231884058, 0.8639432926166397, null, 0.0, 1.0, null, 0.9476346480327754, 0.8776659754484841, null, 0.9476346480327754, 0.9256934811496907, null, 0.0, 0.0, null, 0.0, -0.03474098105827558, null, 0.0, 0.03474098105827558, null, 0.0, 0.5, null, 0.481676128503406, 0.4992073320037643, null, 0.481676128503406, 0.4319835048195859, null, 0.0, 1.0, null, 0.927536231884058, 0.8639432926166397, null], \"x\": [0.0, 0.5, null, 0.46643085439538495, 0.44538388103556675, null, 0.46643085439538495, 0.4285584341548651, null, 0.0, 0.5, null, 0.46643085439538495, 0.4285584341548651, null, 0.46643085439538495, 0.44538388103556675, null, 0.5, 1.0, null, 0.9621212121212122, 0.9288794484132434, null, 0.9621212121212122, 0.9288794484132434, null, 0.5075757575757576, 0.5075757575757576, null, 0.5075757575757576, 0.5257358158562198, null, 1.0075757575757576, 1.0075757575757576, null, 1.0075757575757576, 1.0257358158562198, null, 0.49242424242424243, 0.49242424242424243, null, 0.49242424242424243, 0.4742641841437802, null, 0.5, 1.0, null, 0.9738173240163878, 0.9639630823912474, null, 0.9738173240163878, 0.9377166459078401, null, 0.5, 1.0, null, 0.9621212121212122, 0.9288794484132434, null, 0.9621212121212122, 0.9288794484132434, null, 1.0, 0.0, null, 0.03664774299318793, 0.07340128670201525, null, 0.03664774299318793, 0.06421703965128427, null, 0.9924242424242424, 0.9924242424242424, null, 0.9924242424242424, 0.9742641841437802, null], \"uid\": \"e2ec4251-a23c-11e8-872d-ec0ec4f70ed7\", \"hoverinfo\": \"none\", \"mode\": \"lines\", \"line\": {\"width\": 2, \"color\": \"rgb(0, 0, 0)\"}, \"type\": \"scatter\"}, {\"y\": [0.5, 1.0, 1.0, 0.0, 0.0], \"x\": [0.0, 0.5, 1.0, 0.5, 1.0], \"text\": [\"0\", \"1\", \"2\", \"3\", \"4\"], \"hoverinfo\": \"none\", \"mode\": \"markers+text\", \"uid\": \"e2ec4252-a23c-11e8-872d-ec0ec4f70ed7\", \"textfont\": {\"color\": \"rgb(0, 0, 0)\"}, \"type\": \"scatter\", \"textposition\": \"middle center\", \"marker\": {\"line\": {\"color\": \"rgb(0, 0, 0)\", \"width\": 2}, \"color\": \"rgb(255, 255, 255)\", \"size\": 20}}, {\"y\": [0.783569145604615, 0.28356914560461505, 1.0724637681159421, 0.5, 0.5, 0.5, 0.518323871496594, 0.07246376811594203, 0.19763464803277542, 0.5], \"x\": [0.21643085439538495, 0.28356914560461505, 0.75, 0.5454545454545454, 1.0454545454545454, 0.45454545454545453, 0.713352257006812, 0.75, 0.4738173240163877, 0.9545454545454546], \"text\": [\"?\", \"?\", \"?\", \"?\", \"?\", \"?\", \"?\", \"?\", \"?\", \"?\"], \"hoverinfo\": \"none\", \"mode\": \"text\", \"textfont\": {\"color\": \"rgb(0, 0, 0)\"}, \"uid\": \"e2ec4253-a23c-11e8-872d-ec0ec4f70ed7\", \"textposition\": \"middle center\", \"type\": \"scatter\"}], {\"yaxis\": {\"showgrid\": false, \"showticklabels\": false, \"zeroline\": false}, \"width\": 320, \"xaxis\": {\"showgrid\": false, \"showticklabels\": false, \"zeroline\": false}, \"height\": 180, \"showlegend\": false, \"margin\": {\"l\": 0, \"b\": 0, \"t\": 0, \"r\": 0}}, {\"showLink\": false, \"linkText\": \"Export to plot.ly\", \"displayModeBar\": false})});</script>"
      ]
     },
     "metadata": {},
     "output_type": "display_data"
    }
   ],
   "source": [
    "sn.show_graph(ug, nlab=True, elab=True)\n",
    "sn.show_graph(dg, nlab=True, elab=True)"
   ]
  },
  {
   "cell_type": "markdown",
   "metadata": {},
   "source": [
    "## Vizinhos, predecessores e sucessores\n",
    "\n",
    "Considere um grafo $(N, E)$ e um nó $n$. Suponha que esse grafo é não-dirigido.\n",
    "\n",
    "Nesse caso, dizemos que $n$ é **vizinho** (*neighbor*) de $m$ se $\\{n, m\\} \\in E$. Denotamos por $\\mathcal{N}(n)$ o conjunto dos vizinhos de $n$."
   ]
  },
  {
   "cell_type": "code",
   "execution_count": 13,
   "metadata": {},
   "outputs": [
    {
     "name": "stdout",
     "output_type": "stream",
     "text": [
      "<dict_keyiterator object at 0x7f423e2fa1d8>\n"
     ]
    }
   ],
   "source": [
    "print(ug.neighbors(0))"
   ]
  },
  {
   "cell_type": "markdown",
   "metadata": {},
   "source": [
    "Suponha agora que o grafo $(N, E)$ é dirigido.\n",
    "\n",
    "Nesse caso, dizemos que $n$ é **predecessor** de $m$ se $(n, m) \\in E$ e dizemos que $n$ é **sucessor** de $m$ se $(m, n) \\in E$. Denotamos por $\\mathcal{P}(n)$ o conjunto dos predecessores de $n$ e denotamos por $\\mathcal{S}(n)$ o conjunto dos sucessores de $n$."
   ]
  },
  {
   "cell_type": "code",
   "execution_count": 14,
   "metadata": {},
   "outputs": [
    {
     "name": "stdout",
     "output_type": "stream",
     "text": [
      "<dict_keyiterator object at 0x7f423e2fa408>\n",
      "<dict_keyiterator object at 0x7f423e2fa408>\n"
     ]
    }
   ],
   "source": [
    "print(dg.successors(0))\n",
    "print(dg.predecessors(1))"
   ]
  },
  {
   "cell_type": "markdown",
   "metadata": {},
   "source": [
    "## Passeios, trilhas e caminhos\n",
    "\n",
    "Se $(N, E)$ é um grafo não-dirigido:\n",
    "\n",
    "* um **passeio** (*walk*) é uma sequência de nós $\\langle n_0, n_1, \\ldots, n_{k-1} \\rangle$ tal que, para todo $i$ entre $0$ e $k-2$, temos que $\\{n_i, n_{i + 1}\\} \\in E$;\n",
    "\n",
    "* uma **trilha** (*trail*) é um passeio $\\langle n_0, n_1, \\ldots, n_{k-1} \\rangle$ no qual não existem índices $i$ e $j$ entre $0$ e $k-2$ tais que $i \\neq j$ e $\\{n_i, n_{i+1}\\} = \\{n_j, n_{j+1}\\}$;\n",
    "\n",
    "* um **caminho** (*path*) é um passeio $\\langle n_0, n_1, \\ldots, n_{k-1} \\rangle$ no qual não existem índices $i$ e $j$ entre $0$ e $k-1$ tais que $i \\neq j$ e $n_i = n_j$.\n",
    "\n",
    "Se $(N, E)$ é um grafo dirigido:\n",
    "\n",
    "* um **passeio** (*walk*) é uma sequência de nós $\\langle n_0, n_1, \\ldots, n_{k-1} \\rangle$ tal que, para todo $i$ entre $0$ e $k-2$, temos que $(n_i, n_{i + 1}) \\in E$;\n",
    "\n",
    "* uma **trilha** (*trail*) é um passeio $\\langle n_0, n_1, \\ldots, n_{k-1} \\rangle$ no qual não existem índices $i$ e $j$ entre $0$ e $k-2$ tais que $i \\neq j$ e $(n_i, n_{i+1}) = (n_j, n_{j+1})$;\n",
    "\n",
    "* um **caminho** (*path*) é um passeio $\\langle n_0, n_1, \\ldots, n_{k-1} \\rangle$ no qual não existem índices $i$ e $j$ entre $0$ e $k-1$ tais que $i \\neq j$ e $n_i = n_j$.\n",
    "\n",
    "Pode-se dizer que uma trilha é um passeio que não repete arestas e um caminho é um passeio que não repete nós.\n",
    "\n",
    "### Exercício 1\n",
    "\n",
    "Dê um exemplo de passeio que não é trilha no grafo `ug`."
   ]
  },
  {
   "cell_type": "markdown",
   "metadata": {},
   "source": [
    "278128"
   ]
  },
  {
   "cell_type": "markdown",
   "metadata": {},
   "source": [
    "### Exercício 2\n",
    "\n",
    "Dê um exemplo de passeio que não é trilha no grafo `dg`."
   ]
  },
  {
   "cell_type": "markdown",
   "metadata": {},
   "source": [
    "0131"
   ]
  },
  {
   "cell_type": "markdown",
   "metadata": {},
   "source": [
    "### Exercício 3\n",
    "\n",
    "Dê um exemplo de trilha que não é caminho no grafo `ug`."
   ]
  },
  {
   "cell_type": "markdown",
   "metadata": {},
   "source": [
    "0170"
   ]
  },
  {
   "cell_type": "markdown",
   "metadata": {},
   "source": [
    "### Exercício 4\n",
    "\n",
    "Dê um exemplo de trilha que não é caminho no grafo `dg`."
   ]
  },
  {
   "cell_type": "markdown",
   "metadata": {},
   "source": [
    "4034"
   ]
  },
  {
   "cell_type": "markdown",
   "metadata": {},
   "source": [
    "### Exercício 5\n",
    "\n",
    "Use cores para dar um exemplo de caminho no grafo `ug`."
   ]
  },
  {
   "cell_type": "code",
   "execution_count": 23,
   "metadata": {},
   "outputs": [
    {
     "data": {
      "application/vnd.plotly.v1+json": {
       "data": [
        {
         "hoverinfo": "none",
         "line": {
          "color": "rgb(0, 0, 255)",
          "width": 2
         },
         "mode": "lines",
         "type": "scatter",
         "uid": "1d56525c-a242-11e8-872d-ec0ec4f70ed7",
         "x": [
          0,
          0.25,
          null,
          0.25,
          0.5,
          null,
          0.5,
          0.75,
          null,
          0.75,
          1,
          null
         ],
         "y": [
          0.5,
          1,
          null,
          1,
          1,
          null,
          1,
          1,
          null,
          1,
          0.5,
          null
         ]
        },
        {
         "hoverinfo": "none",
         "line": {
          "color": "rgb(0, 0, 0)",
          "width": 2
         },
         "mode": "lines",
         "type": "scatter",
         "uid": "1d56525d-a242-11e8-872d-ec0ec4f70ed7",
         "x": [
          0,
          0.25,
          null,
          0.25,
          0.25,
          null,
          0.5,
          0.375,
          null,
          0.5,
          0.75,
          null,
          0.75,
          0.75,
          null,
          1,
          0.75,
          null,
          0.75,
          0.5,
          null,
          0.5,
          0.375,
          null,
          0.5,
          0.25,
          null,
          0.25,
          0.375,
          null
         ],
         "y": [
          0.5,
          0,
          null,
          1,
          0,
          null,
          1,
          0.5,
          null,
          1,
          0,
          null,
          1,
          0,
          null,
          0.5,
          0,
          null,
          0,
          0,
          null,
          0,
          0.5,
          null,
          0,
          0,
          null,
          0,
          0.5,
          null
         ]
        },
        {
         "hoverinfo": "text",
         "marker": {
          "color": "rgb(255, 255, 255)",
          "line": {
           "color": "rgb(0, 0, 0)",
           "width": 2
          },
          "size": 20
         },
         "mode": "markers",
         "text": [],
         "textfont": {
          "color": "rgb(0, 0, 0)"
         },
         "textposition": "middle center",
         "type": "scatter",
         "uid": "1d56525e-a242-11e8-872d-ec0ec4f70ed7",
         "x": [
          0,
          0.25,
          0.5,
          0.75,
          1,
          0.75,
          0.5,
          0.25,
          0.375
         ],
         "y": [
          0.5,
          1,
          1,
          1,
          0.5,
          0,
          0,
          0,
          0.5
         ]
        }
       ],
       "layout": {
        "height": 450,
        "margin": {
         "b": 0,
         "l": 0,
         "r": 0,
         "t": 0
        },
        "showlegend": false,
        "width": 450,
        "xaxis": {
         "showgrid": false,
         "showticklabels": false,
         "zeroline": false
        },
        "yaxis": {
         "showgrid": false,
         "showticklabels": false,
         "zeroline": false
        }
       }
      },
      "text/html": [
       "<div id=\"95cc79ea-f6ef-472d-9152-e2ed2127c977\" style=\"height: 450px; width: 450px;\" class=\"plotly-graph-div\"></div><script type=\"text/javascript\">require([\"plotly\"], function(Plotly) { window.PLOTLYENV=window.PLOTLYENV || {};window.PLOTLYENV.BASE_URL=\"https://plot.ly\";Plotly.newPlot(\"95cc79ea-f6ef-472d-9152-e2ed2127c977\", [{\"y\": [0.5, 1.0, null, 1.0, 1.0, null, 1.0, 1.0, null, 1.0, 0.5, null], \"x\": [0.0, 0.25, null, 0.25, 0.5, null, 0.5, 0.75, null, 0.75, 1.0, null], \"uid\": \"1d56525f-a242-11e8-872d-ec0ec4f70ed7\", \"hoverinfo\": \"none\", \"mode\": \"lines\", \"line\": {\"width\": 2, \"color\": \"rgb(0, 0, 255)\"}, \"type\": \"scatter\"}, {\"y\": [0.5, 0.0, null, 1.0, 0.0, null, 1.0, 0.5, null, 1.0, 0.0, null, 1.0, 0.0, null, 0.5, 0.0, null, 0.0, 0.0, null, 0.0, 0.5, null, 0.0, 0.0, null, 0.0, 0.5, null], \"x\": [0.0, 0.25, null, 0.25, 0.25, null, 0.5, 0.375, null, 0.5, 0.75, null, 0.75, 0.75, null, 1.0, 0.75, null, 0.75, 0.5, null, 0.5, 0.375, null, 0.5, 0.25, null, 0.25, 0.375, null], \"uid\": \"1d565260-a242-11e8-872d-ec0ec4f70ed7\", \"hoverinfo\": \"none\", \"mode\": \"lines\", \"line\": {\"width\": 2, \"color\": \"rgb(0, 0, 0)\"}, \"type\": \"scatter\"}, {\"y\": [0.5, 1.0, 1.0, 1.0, 0.5, 0.0, 0.0, 0.0, 0.5], \"x\": [0.0, 0.25, 0.5, 0.75, 1.0, 0.75, 0.5, 0.25, 0.375], \"text\": [], \"hoverinfo\": \"text\", \"mode\": \"markers\", \"uid\": \"1d565261-a242-11e8-872d-ec0ec4f70ed7\", \"textfont\": {\"color\": \"rgb(0, 0, 0)\"}, \"type\": \"scatter\", \"textposition\": \"middle center\", \"marker\": {\"line\": {\"color\": \"rgb(0, 0, 0)\", \"width\": 2}, \"color\": \"rgb(255, 255, 255)\", \"size\": 20}}], {\"yaxis\": {\"showgrid\": false, \"showticklabels\": false, \"zeroline\": false}, \"width\": 450, \"xaxis\": {\"showgrid\": false, \"showticklabels\": false, \"zeroline\": false}, \"height\": 450, \"showlegend\": false, \"margin\": {\"l\": 0, \"b\": 0, \"t\": 0, \"r\": 0}}, {\"showLink\": false, \"linkText\": \"Export to plot.ly\", \"displayModeBar\": false})});</script>"
      ],
      "text/vnd.plotly.v1+html": [
       "<div id=\"95cc79ea-f6ef-472d-9152-e2ed2127c977\" style=\"height: 450px; width: 450px;\" class=\"plotly-graph-div\"></div><script type=\"text/javascript\">require([\"plotly\"], function(Plotly) { window.PLOTLYENV=window.PLOTLYENV || {};window.PLOTLYENV.BASE_URL=\"https://plot.ly\";Plotly.newPlot(\"95cc79ea-f6ef-472d-9152-e2ed2127c977\", [{\"y\": [0.5, 1.0, null, 1.0, 1.0, null, 1.0, 1.0, null, 1.0, 0.5, null], \"x\": [0.0, 0.25, null, 0.25, 0.5, null, 0.5, 0.75, null, 0.75, 1.0, null], \"uid\": \"1d56525f-a242-11e8-872d-ec0ec4f70ed7\", \"hoverinfo\": \"none\", \"mode\": \"lines\", \"line\": {\"width\": 2, \"color\": \"rgb(0, 0, 255)\"}, \"type\": \"scatter\"}, {\"y\": [0.5, 0.0, null, 1.0, 0.0, null, 1.0, 0.5, null, 1.0, 0.0, null, 1.0, 0.0, null, 0.5, 0.0, null, 0.0, 0.0, null, 0.0, 0.5, null, 0.0, 0.0, null, 0.0, 0.5, null], \"x\": [0.0, 0.25, null, 0.25, 0.25, null, 0.5, 0.375, null, 0.5, 0.75, null, 0.75, 0.75, null, 1.0, 0.75, null, 0.75, 0.5, null, 0.5, 0.375, null, 0.5, 0.25, null, 0.25, 0.375, null], \"uid\": \"1d565260-a242-11e8-872d-ec0ec4f70ed7\", \"hoverinfo\": \"none\", \"mode\": \"lines\", \"line\": {\"width\": 2, \"color\": \"rgb(0, 0, 0)\"}, \"type\": \"scatter\"}, {\"y\": [0.5, 1.0, 1.0, 1.0, 0.5, 0.0, 0.0, 0.0, 0.5], \"x\": [0.0, 0.25, 0.5, 0.75, 1.0, 0.75, 0.5, 0.25, 0.375], \"text\": [], \"hoverinfo\": \"text\", \"mode\": \"markers\", \"uid\": \"1d565261-a242-11e8-872d-ec0ec4f70ed7\", \"textfont\": {\"color\": \"rgb(0, 0, 0)\"}, \"type\": \"scatter\", \"textposition\": \"middle center\", \"marker\": {\"line\": {\"color\": \"rgb(0, 0, 0)\", \"width\": 2}, \"color\": \"rgb(255, 255, 255)\", \"size\": 20}}], {\"yaxis\": {\"showgrid\": false, \"showticklabels\": false, \"zeroline\": false}, \"width\": 450, \"xaxis\": {\"showgrid\": false, \"showticklabels\": false, \"zeroline\": false}, \"height\": 450, \"showlegend\": false, \"margin\": {\"l\": 0, \"b\": 0, \"t\": 0, \"r\": 0}}, {\"showLink\": false, \"linkText\": \"Export to plot.ly\", \"displayModeBar\": false})});</script>"
      ]
     },
     "metadata": {},
     "output_type": "display_data"
    }
   ],
   "source": [
    "# sua resposta\n",
    "ug.edges[0, 1]['color'] = (0, 0, 255)\n",
    "ug.edges[1, 2]['color'] = (0, 0, 255)\n",
    "ug.edges[2, 3]['color'] = (0, 0, 255)\n",
    "ug.edges[3, 4]['color'] = (0, 0, 255)\n",
    "sn.show_graph(ug)"
   ]
  },
  {
   "cell_type": "markdown",
   "metadata": {},
   "source": [
    "### Exercício 6\n",
    "\n",
    "Use cores para dar um exemplo de caminho no grafo `dg`."
   ]
  },
  {
   "cell_type": "code",
   "execution_count": 27,
   "metadata": {},
   "outputs": [
    {
     "data": {
      "application/vnd.plotly.v1+json": {
       "data": [
        {
         "hoverinfo": "none",
         "line": {
          "color": "rgb(0, 0, 255)",
          "width": 2
         },
         "mode": "lines",
         "type": "scatter",
         "uid": "5ef813f8-a242-11e8-872d-ec0ec4f70ed7",
         "x": [
          0,
          0.5,
          null,
          0.48144076689799087,
          0.47405127789162077,
          null,
          0.48144076689799087,
          0.4562557372395974,
          null,
          0.505249343832021,
          0.505249343832021,
          null,
          0.505249343832021,
          0.5178326913019476,
          null,
          0.5,
          1,
          null,
          0.973753280839895,
          0.950719617798153,
          null,
          0.973753280839895,
          0.950719617798153,
          null
         ],
         "y": [
          0.5,
          1,
          null,
          0.9814407668979909,
          0.9562557372395974,
          null,
          0.9814407668979909,
          0.9740512778916208,
          null,
          1,
          0,
          null,
          0.026246719160104987,
          0.04928038220184705,
          null,
          0,
          0,
          null,
          0,
          -0.012583347469926587,
          null,
          0,
          0.012583347469926587,
          null
         ]
        },
        {
         "hoverinfo": "none",
         "line": {
          "color": "rgb(0, 0, 0)",
          "width": 2
         },
         "mode": "lines",
         "type": "scatter",
         "uid": "5ef813f9-a242-11e8-872d-ec0ec4f70ed7",
         "x": [
          0,
          0.5,
          null,
          0.48144076689799087,
          0.4562557372395974,
          null,
          0.48144076689799087,
          0.47405127789162077,
          null,
          0.5,
          1,
          null,
          0.973753280839895,
          0.950719617798153,
          null,
          0.973753280839895,
          0.950719617798153,
          null,
          1.005249343832021,
          1.005249343832021,
          null,
          1.005249343832021,
          1.0178326913019475,
          null,
          0.494750656167979,
          0.494750656167979,
          null,
          0.494750656167979,
          0.4821673086980524,
          null,
          0.5,
          1,
          null,
          0.9882621103543319,
          0.9892160312188022,
          null,
          0.9882621103543319,
          0.9667062549569976,
          null,
          1,
          0,
          null,
          0.023475779291336374,
          0.04970515788965148,
          null,
          0.023475779291336374,
          0.03845026975874914,
          null,
          0.994750656167979,
          0.994750656167979,
          null,
          0.994750656167979,
          0.9821673086980524,
          null
         ],
         "y": [
          0.5,
          0,
          null,
          0.01855923310200912,
          0.02594872210837922,
          null,
          0.01855923310200912,
          0.04374426276040257,
          null,
          1,
          1,
          null,
          1,
          0.9874166525300734,
          null,
          1,
          1.0125833474699266,
          null,
          1,
          0,
          null,
          0.026246719160104987,
          0.04928038220184705,
          null,
          0,
          1,
          null,
          0.973753280839895,
          0.950719617798153,
          null,
          0,
          1,
          null,
          0.9765242207086636,
          0.9502948421103485,
          null,
          0.9765242207086636,
          0.9615497302412509,
          null,
          0,
          0.5,
          null,
          0.4882621103543318,
          0.4892160312188022,
          null,
          0.4882621103543318,
          0.4667062549569975,
          null,
          0,
          1,
          null,
          0.973753280839895,
          0.950719617798153,
          null
         ]
        },
        {
         "hoverinfo": "text",
         "marker": {
          "color": "rgb(255, 255, 255)",
          "line": {
           "color": "rgb(0, 0, 0)",
           "width": 2
          },
          "size": 20
         },
         "mode": "markers",
         "text": [],
         "textfont": {
          "color": "rgb(0, 0, 0)"
         },
         "textposition": "middle center",
         "type": "scatter",
         "uid": "5ef813fa-a242-11e8-872d-ec0ec4f70ed7",
         "x": [
          0,
          0.5,
          1,
          0.5,
          1
         ],
         "y": [
          0.5,
          1,
          1,
          0,
          0
         ]
        }
       ],
       "layout": {
        "height": 450,
        "margin": {
         "b": 0,
         "l": 0,
         "r": 0,
         "t": 0
        },
        "showlegend": false,
        "width": 450,
        "xaxis": {
         "showgrid": false,
         "showticklabels": false,
         "zeroline": false
        },
        "yaxis": {
         "showgrid": false,
         "showticklabels": false,
         "zeroline": false
        }
       }
      },
      "text/html": [
       "<div id=\"251f9a87-6e79-4347-8b3b-81286a11bc65\" style=\"height: 450px; width: 450px;\" class=\"plotly-graph-div\"></div><script type=\"text/javascript\">require([\"plotly\"], function(Plotly) { window.PLOTLYENV=window.PLOTLYENV || {};window.PLOTLYENV.BASE_URL=\"https://plot.ly\";Plotly.newPlot(\"251f9a87-6e79-4347-8b3b-81286a11bc65\", [{\"y\": [0.5, 1.0, null, 0.9814407668979909, 0.9562557372395974, null, 0.9814407668979909, 0.9740512778916208, null, 1.0, 0.0, null, 0.026246719160104987, 0.04928038220184705, null, 0.0, 0.0, null, 0.0, -0.012583347469926587, null, 0.0, 0.012583347469926587, null], \"x\": [0.0, 0.5, null, 0.48144076689799087, 0.47405127789162077, null, 0.48144076689799087, 0.4562557372395974, null, 0.505249343832021, 0.505249343832021, null, 0.505249343832021, 0.5178326913019476, null, 0.5, 1.0, null, 0.973753280839895, 0.950719617798153, null, 0.973753280839895, 0.950719617798153, null], \"uid\": \"5ef813fb-a242-11e8-872d-ec0ec4f70ed7\", \"hoverinfo\": \"none\", \"mode\": \"lines\", \"line\": {\"width\": 2, \"color\": \"rgb(0, 0, 255)\"}, \"type\": \"scatter\"}, {\"y\": [0.5, 0.0, null, 0.01855923310200912, 0.02594872210837922, null, 0.01855923310200912, 0.04374426276040257, null, 1.0, 1.0, null, 1.0, 0.9874166525300734, null, 1.0, 1.0125833474699266, null, 1.0, 0.0, null, 0.026246719160104987, 0.04928038220184705, null, 0.0, 1.0, null, 0.973753280839895, 0.950719617798153, null, 0.0, 1.0, null, 0.9765242207086636, 0.9502948421103485, null, 0.9765242207086636, 0.9615497302412509, null, 0.0, 0.5, null, 0.4882621103543318, 0.4892160312188022, null, 0.4882621103543318, 0.4667062549569975, null, 0.0, 1.0, null, 0.973753280839895, 0.950719617798153, null], \"x\": [0.0, 0.5, null, 0.48144076689799087, 0.4562557372395974, null, 0.48144076689799087, 0.47405127789162077, null, 0.5, 1.0, null, 0.973753280839895, 0.950719617798153, null, 0.973753280839895, 0.950719617798153, null, 1.005249343832021, 1.005249343832021, null, 1.005249343832021, 1.0178326913019475, null, 0.494750656167979, 0.494750656167979, null, 0.494750656167979, 0.4821673086980524, null, 0.5, 1.0, null, 0.9882621103543319, 0.9892160312188022, null, 0.9882621103543319, 0.9667062549569976, null, 1.0, 0.0, null, 0.023475779291336374, 0.04970515788965148, null, 0.023475779291336374, 0.03845026975874914, null, 0.994750656167979, 0.994750656167979, null, 0.994750656167979, 0.9821673086980524, null], \"uid\": \"5ef813fc-a242-11e8-872d-ec0ec4f70ed7\", \"hoverinfo\": \"none\", \"mode\": \"lines\", \"line\": {\"width\": 2, \"color\": \"rgb(0, 0, 0)\"}, \"type\": \"scatter\"}, {\"y\": [0.5, 1.0, 1.0, 0.0, 0.0], \"x\": [0.0, 0.5, 1.0, 0.5, 1.0], \"text\": [], \"hoverinfo\": \"text\", \"mode\": \"markers\", \"uid\": \"5ef813fd-a242-11e8-872d-ec0ec4f70ed7\", \"textfont\": {\"color\": \"rgb(0, 0, 0)\"}, \"type\": \"scatter\", \"textposition\": \"middle center\", \"marker\": {\"line\": {\"color\": \"rgb(0, 0, 0)\", \"width\": 2}, \"color\": \"rgb(255, 255, 255)\", \"size\": 20}}], {\"yaxis\": {\"showgrid\": false, \"showticklabels\": false, \"zeroline\": false}, \"width\": 450, \"xaxis\": {\"showgrid\": false, \"showticklabels\": false, \"zeroline\": false}, \"height\": 450, \"showlegend\": false, \"margin\": {\"l\": 0, \"b\": 0, \"t\": 0, \"r\": 0}}, {\"showLink\": false, \"linkText\": \"Export to plot.ly\", \"displayModeBar\": false})});</script>"
      ],
      "text/vnd.plotly.v1+html": [
       "<div id=\"251f9a87-6e79-4347-8b3b-81286a11bc65\" style=\"height: 450px; width: 450px;\" class=\"plotly-graph-div\"></div><script type=\"text/javascript\">require([\"plotly\"], function(Plotly) { window.PLOTLYENV=window.PLOTLYENV || {};window.PLOTLYENV.BASE_URL=\"https://plot.ly\";Plotly.newPlot(\"251f9a87-6e79-4347-8b3b-81286a11bc65\", [{\"y\": [0.5, 1.0, null, 0.9814407668979909, 0.9562557372395974, null, 0.9814407668979909, 0.9740512778916208, null, 1.0, 0.0, null, 0.026246719160104987, 0.04928038220184705, null, 0.0, 0.0, null, 0.0, -0.012583347469926587, null, 0.0, 0.012583347469926587, null], \"x\": [0.0, 0.5, null, 0.48144076689799087, 0.47405127789162077, null, 0.48144076689799087, 0.4562557372395974, null, 0.505249343832021, 0.505249343832021, null, 0.505249343832021, 0.5178326913019476, null, 0.5, 1.0, null, 0.973753280839895, 0.950719617798153, null, 0.973753280839895, 0.950719617798153, null], \"uid\": \"5ef813fb-a242-11e8-872d-ec0ec4f70ed7\", \"hoverinfo\": \"none\", \"mode\": \"lines\", \"line\": {\"width\": 2, \"color\": \"rgb(0, 0, 255)\"}, \"type\": \"scatter\"}, {\"y\": [0.5, 0.0, null, 0.01855923310200912, 0.02594872210837922, null, 0.01855923310200912, 0.04374426276040257, null, 1.0, 1.0, null, 1.0, 0.9874166525300734, null, 1.0, 1.0125833474699266, null, 1.0, 0.0, null, 0.026246719160104987, 0.04928038220184705, null, 0.0, 1.0, null, 0.973753280839895, 0.950719617798153, null, 0.0, 1.0, null, 0.9765242207086636, 0.9502948421103485, null, 0.9765242207086636, 0.9615497302412509, null, 0.0, 0.5, null, 0.4882621103543318, 0.4892160312188022, null, 0.4882621103543318, 0.4667062549569975, null, 0.0, 1.0, null, 0.973753280839895, 0.950719617798153, null], \"x\": [0.0, 0.5, null, 0.48144076689799087, 0.4562557372395974, null, 0.48144076689799087, 0.47405127789162077, null, 0.5, 1.0, null, 0.973753280839895, 0.950719617798153, null, 0.973753280839895, 0.950719617798153, null, 1.005249343832021, 1.005249343832021, null, 1.005249343832021, 1.0178326913019475, null, 0.494750656167979, 0.494750656167979, null, 0.494750656167979, 0.4821673086980524, null, 0.5, 1.0, null, 0.9882621103543319, 0.9892160312188022, null, 0.9882621103543319, 0.9667062549569976, null, 1.0, 0.0, null, 0.023475779291336374, 0.04970515788965148, null, 0.023475779291336374, 0.03845026975874914, null, 0.994750656167979, 0.994750656167979, null, 0.994750656167979, 0.9821673086980524, null], \"uid\": \"5ef813fc-a242-11e8-872d-ec0ec4f70ed7\", \"hoverinfo\": \"none\", \"mode\": \"lines\", \"line\": {\"width\": 2, \"color\": \"rgb(0, 0, 0)\"}, \"type\": \"scatter\"}, {\"y\": [0.5, 1.0, 1.0, 0.0, 0.0], \"x\": [0.0, 0.5, 1.0, 0.5, 1.0], \"text\": [], \"hoverinfo\": \"text\", \"mode\": \"markers\", \"uid\": \"5ef813fd-a242-11e8-872d-ec0ec4f70ed7\", \"textfont\": {\"color\": \"rgb(0, 0, 0)\"}, \"type\": \"scatter\", \"textposition\": \"middle center\", \"marker\": {\"line\": {\"color\": \"rgb(0, 0, 0)\", \"width\": 2}, \"color\": \"rgb(255, 255, 255)\", \"size\": 20}}], {\"yaxis\": {\"showgrid\": false, \"showticklabels\": false, \"zeroline\": false}, \"width\": 450, \"xaxis\": {\"showgrid\": false, \"showticklabels\": false, \"zeroline\": false}, \"height\": 450, \"showlegend\": false, \"margin\": {\"l\": 0, \"b\": 0, \"t\": 0, \"r\": 0}}, {\"showLink\": false, \"linkText\": \"Export to plot.ly\", \"displayModeBar\": false})});</script>"
      ]
     },
     "metadata": {},
     "output_type": "display_data"
    }
   ],
   "source": [
    "# sua resposta\n",
    "dg.edges[0, 1]['color'] = (0, 0, 255)\n",
    "dg.edges[1, 3]['color'] = (0, 0, 255)\n",
    "dg.edges[3, 4]['color'] = (0, 0, 255)\n",
    "sn.show_graph(dg)"
   ]
  },
  {
   "cell_type": "markdown",
   "metadata": {},
   "source": [
    "## Posicionamento dos nós\n",
    "\n",
    "Para encerrar, vamos carregar o grafo do encontro anterior. O próprio arquivo atribui `label` aos nós, portanto não é necessário criá-los."
   ]
  },
  {
   "cell_type": "code",
   "execution_count": 17,
   "metadata": {},
   "outputs": [
    {
     "data": {
      "application/vnd.plotly.v1+json": {
       "data": [
        {
         "hoverinfo": "none",
         "line": {
          "color": "rgb(0, 0, 0)",
          "width": 2
         },
         "mode": "lines",
         "type": "scatter",
         "uid": "e4107176-a23c-11e8-872d-ec0ec4f70ed7",
         "x": [
          0.4963144963144963,
          0.05405405405405406,
          null,
          0.4963144963144963,
          0.10319410319410319,
          null,
          0.4963144963144963,
          0.25061425061425063,
          null,
          0.4963144963144963,
          0.9115479115479116,
          null,
          0.4963144963144963,
          0.9877149877149877,
          null,
          0.4963144963144963,
          0.941031941031941,
          null,
          0.4963144963144963,
          0.8304668304668305,
          null,
          0.3022113022113022,
          0.4004914004914005,
          null,
          0.3022113022113022,
          0.742014742014742,
          null,
          0.3022113022113022,
          0.009828009828009828,
          null,
          0.3022113022113022,
          0.10319410319410319,
          null,
          0.3022113022113022,
          1,
          null,
          0.15233415233415235,
          0.6953316953316954,
          null,
          0.15233415233415235,
          0.742014742014742,
          null,
          0.15233415233415235,
          1,
          null,
          0.05405405405405406,
          0,
          null,
          0.05405405405405406,
          0.25061425061425063,
          null,
          0.05405405405405406,
          0.597051597051597,
          null,
          0.05405405405405406,
          0.9115479115479116,
          null,
          0.05405405405405406,
          0.9877149877149877,
          null,
          0.05405405405405406,
          0.941031941031941,
          null,
          0.05405405405405406,
          0.8304668304668305,
          null,
          0,
          0.597051597051597,
          null,
          0,
          0.25061425061425063,
          null,
          0.009828009828009828,
          0.6953316953316954,
          null,
          0.009828009828009828,
          0.742014742014742,
          null,
          0.009828009828009828,
          1,
          null,
          0.009828009828009828,
          0.4004914004914005,
          null,
          0.10319410319410319,
          0.742014742014742,
          null,
          0.10319410319410319,
          0.9115479115479116,
          null,
          0.25061425061425063,
          0.9115479115479116,
          null,
          0.25061425061425063,
          0.9877149877149877,
          null,
          0.25061425061425063,
          0.8304668304668305,
          null,
          0.4004914004914005,
          1,
          null,
          0.597051597051597,
          0.9877149877149877,
          null,
          0.742014742014742,
          0.6953316953316954,
          null,
          0.742014742014742,
          1,
          null,
          0.9115479115479116,
          0.9877149877149877,
          null,
          0.9115479115479116,
          0.941031941031941,
          null,
          0.9877149877149877,
          0.8304668304668305,
          null,
          1,
          0.6953316953316954,
          null
         ],
         "y": [
          1,
          0.7213930348258706,
          null,
          1,
          0.20149253731343286,
          null,
          1,
          0.07213930348258701,
          null,
          1,
          0.20149253731343286,
          null,
          1,
          0.3731343283582089,
          null,
          1,
          0.7238805970149254,
          null,
          1,
          0.8706467661691543,
          null,
          0.9701492537313433,
          0,
          null,
          0.9701492537313433,
          0.07462686567164178,
          null,
          0.9701492537313433,
          0.37064676616915426,
          null,
          0.9701492537313433,
          0.20149253731343286,
          null,
          0.9701492537313433,
          0.5472636815920398,
          null,
          0.8731343283582089,
          0.9676616915422885,
          null,
          0.8731343283582089,
          0.07462686567164178,
          null,
          0.8731343283582089,
          0.5472636815920398,
          null,
          0.7213930348258706,
          0.5447761194029851,
          null,
          0.7213930348258706,
          0.07213930348258701,
          null,
          0.7213930348258706,
          0,
          null,
          0.7213930348258706,
          0.20149253731343286,
          null,
          0.7213930348258706,
          0.3731343283582089,
          null,
          0.7213930348258706,
          0.7238805970149254,
          null,
          0.7213930348258706,
          0.8706467661691543,
          null,
          0.5447761194029851,
          0,
          null,
          0.5447761194029851,
          0.07213930348258701,
          null,
          0.37064676616915426,
          0.9676616915422885,
          null,
          0.37064676616915426,
          0.07462686567164178,
          null,
          0.37064676616915426,
          0.5472636815920398,
          null,
          0.37064676616915426,
          0,
          null,
          0.20149253731343286,
          0.07462686567164178,
          null,
          0.20149253731343286,
          0.20149253731343286,
          null,
          0.07213930348258701,
          0.20149253731343286,
          null,
          0.07213930348258701,
          0.3731343283582089,
          null,
          0.07213930348258701,
          0.8706467661691543,
          null,
          0,
          0.5472636815920398,
          null,
          0,
          0.3731343283582089,
          null,
          0.07462686567164178,
          0.9676616915422885,
          null,
          0.07462686567164178,
          0.5472636815920398,
          null,
          0.20149253731343286,
          0.3731343283582089,
          null,
          0.20149253731343286,
          0.7238805970149254,
          null,
          0.3731343283582089,
          0.8706467661691543,
          null,
          0.5472636815920398,
          0.9676616915422885,
          null
         ]
        },
        {
         "hoverinfo": "text",
         "marker": {
          "color": "rgb(255, 255, 255)",
          "line": {
           "color": "rgb(0, 0, 0)",
           "width": 2
          },
          "size": 20
         },
         "mode": "markers",
         "text": [
          "Rogerio",
          "Roberto",
          "Renato",
          "Larissa",
          "Jorge",
          "Sueli",
          "Conrado",
          "Ricardo",
          "Pamela",
          "Fabio",
          "Paulo",
          "William",
          "Tiago",
          "Sandra",
          "Patrick",
          "Jose",
          "Caio"
         ],
         "textfont": {
          "color": "rgb(0, 0, 0)"
         },
         "textposition": "middle center",
         "type": "scatter",
         "uid": "e4107177-a23c-11e8-872d-ec0ec4f70ed7",
         "x": [
          0.4963144963144963,
          0.3022113022113022,
          0.15233415233415235,
          0.05405405405405406,
          0,
          0.009828009828009828,
          0.10319410319410319,
          0.25061425061425063,
          0.4004914004914005,
          0.597051597051597,
          0.742014742014742,
          0.9115479115479116,
          0.9877149877149877,
          1,
          0.941031941031941,
          0.8304668304668305,
          0.6953316953316954
         ],
         "y": [
          1,
          0.9701492537313433,
          0.8731343283582089,
          0.7213930348258706,
          0.5447761194029851,
          0.37064676616915426,
          0.20149253731343286,
          0.07213930348258701,
          0,
          0,
          0.07462686567164178,
          0.20149253731343286,
          0.3731343283582089,
          0.5472636815920398,
          0.7238805970149254,
          0.8706467661691543,
          0.9676616915422885
         ]
        }
       ],
       "layout": {
        "height": 450,
        "margin": {
         "b": 0,
         "l": 0,
         "r": 0,
         "t": 0
        },
        "showlegend": false,
        "width": 450,
        "xaxis": {
         "showgrid": false,
         "showticklabels": false,
         "zeroline": false
        },
        "yaxis": {
         "showgrid": false,
         "showticklabels": false,
         "zeroline": false
        }
       }
      },
      "text/html": [
       "<div id=\"b42f7299-c33d-4987-9b10-9a280ee6ce94\" style=\"height: 450px; width: 450px;\" class=\"plotly-graph-div\"></div><script type=\"text/javascript\">require([\"plotly\"], function(Plotly) { window.PLOTLYENV=window.PLOTLYENV || {};window.PLOTLYENV.BASE_URL=\"https://plot.ly\";Plotly.newPlot(\"b42f7299-c33d-4987-9b10-9a280ee6ce94\", [{\"y\": [1.0, 0.7213930348258706, null, 1.0, 0.20149253731343286, null, 1.0, 0.07213930348258701, null, 1.0, 0.20149253731343286, null, 1.0, 0.3731343283582089, null, 1.0, 0.7238805970149254, null, 1.0, 0.8706467661691543, null, 0.9701492537313433, 0.0, null, 0.9701492537313433, 0.07462686567164178, null, 0.9701492537313433, 0.37064676616915426, null, 0.9701492537313433, 0.20149253731343286, null, 0.9701492537313433, 0.5472636815920398, null, 0.8731343283582089, 0.9676616915422885, null, 0.8731343283582089, 0.07462686567164178, null, 0.8731343283582089, 0.5472636815920398, null, 0.7213930348258706, 0.5447761194029851, null, 0.7213930348258706, 0.07213930348258701, null, 0.7213930348258706, 0.0, null, 0.7213930348258706, 0.20149253731343286, null, 0.7213930348258706, 0.3731343283582089, null, 0.7213930348258706, 0.7238805970149254, null, 0.7213930348258706, 0.8706467661691543, null, 0.5447761194029851, 0.0, null, 0.5447761194029851, 0.07213930348258701, null, 0.37064676616915426, 0.9676616915422885, null, 0.37064676616915426, 0.07462686567164178, null, 0.37064676616915426, 0.5472636815920398, null, 0.37064676616915426, 0.0, null, 0.20149253731343286, 0.07462686567164178, null, 0.20149253731343286, 0.20149253731343286, null, 0.07213930348258701, 0.20149253731343286, null, 0.07213930348258701, 0.3731343283582089, null, 0.07213930348258701, 0.8706467661691543, null, 0.0, 0.5472636815920398, null, 0.0, 0.3731343283582089, null, 0.07462686567164178, 0.9676616915422885, null, 0.07462686567164178, 0.5472636815920398, null, 0.20149253731343286, 0.3731343283582089, null, 0.20149253731343286, 0.7238805970149254, null, 0.3731343283582089, 0.8706467661691543, null, 0.5472636815920398, 0.9676616915422885, null], \"x\": [0.4963144963144963, 0.05405405405405406, null, 0.4963144963144963, 0.10319410319410319, null, 0.4963144963144963, 0.25061425061425063, null, 0.4963144963144963, 0.9115479115479116, null, 0.4963144963144963, 0.9877149877149877, null, 0.4963144963144963, 0.941031941031941, null, 0.4963144963144963, 0.8304668304668305, null, 0.3022113022113022, 0.4004914004914005, null, 0.3022113022113022, 0.742014742014742, null, 0.3022113022113022, 0.009828009828009828, null, 0.3022113022113022, 0.10319410319410319, null, 0.3022113022113022, 1.0, null, 0.15233415233415235, 0.6953316953316954, null, 0.15233415233415235, 0.742014742014742, null, 0.15233415233415235, 1.0, null, 0.05405405405405406, 0.0, null, 0.05405405405405406, 0.25061425061425063, null, 0.05405405405405406, 0.597051597051597, null, 0.05405405405405406, 0.9115479115479116, null, 0.05405405405405406, 0.9877149877149877, null, 0.05405405405405406, 0.941031941031941, null, 0.05405405405405406, 0.8304668304668305, null, 0.0, 0.597051597051597, null, 0.0, 0.25061425061425063, null, 0.009828009828009828, 0.6953316953316954, null, 0.009828009828009828, 0.742014742014742, null, 0.009828009828009828, 1.0, null, 0.009828009828009828, 0.4004914004914005, null, 0.10319410319410319, 0.742014742014742, null, 0.10319410319410319, 0.9115479115479116, null, 0.25061425061425063, 0.9115479115479116, null, 0.25061425061425063, 0.9877149877149877, null, 0.25061425061425063, 0.8304668304668305, null, 0.4004914004914005, 1.0, null, 0.597051597051597, 0.9877149877149877, null, 0.742014742014742, 0.6953316953316954, null, 0.742014742014742, 1.0, null, 0.9115479115479116, 0.9877149877149877, null, 0.9115479115479116, 0.941031941031941, null, 0.9877149877149877, 0.8304668304668305, null, 1.0, 0.6953316953316954, null], \"uid\": \"e4107178-a23c-11e8-872d-ec0ec4f70ed7\", \"hoverinfo\": \"none\", \"mode\": \"lines\", \"line\": {\"width\": 2, \"color\": \"rgb(0, 0, 0)\"}, \"type\": \"scatter\"}, {\"y\": [1.0, 0.9701492537313433, 0.8731343283582089, 0.7213930348258706, 0.5447761194029851, 0.37064676616915426, 0.20149253731343286, 0.07213930348258701, 0.0, 0.0, 0.07462686567164178, 0.20149253731343286, 0.3731343283582089, 0.5472636815920398, 0.7238805970149254, 0.8706467661691543, 0.9676616915422885], \"x\": [0.4963144963144963, 0.3022113022113022, 0.15233415233415235, 0.05405405405405406, 0.0, 0.009828009828009828, 0.10319410319410319, 0.25061425061425063, 0.4004914004914005, 0.597051597051597, 0.742014742014742, 0.9115479115479116, 0.9877149877149877, 1.0, 0.941031941031941, 0.8304668304668305, 0.6953316953316954], \"text\": [\"Rogerio\", \"Roberto\", \"Renato\", \"Larissa\", \"Jorge\", \"Sueli\", \"Conrado\", \"Ricardo\", \"Pamela\", \"Fabio\", \"Paulo\", \"William\", \"Tiago\", \"Sandra\", \"Patrick\", \"Jose\", \"Caio\"], \"hoverinfo\": \"text\", \"mode\": \"markers\", \"uid\": \"e4107179-a23c-11e8-872d-ec0ec4f70ed7\", \"textfont\": {\"color\": \"rgb(0, 0, 0)\"}, \"type\": \"scatter\", \"textposition\": \"middle center\", \"marker\": {\"line\": {\"color\": \"rgb(0, 0, 0)\", \"width\": 2}, \"color\": \"rgb(255, 255, 255)\", \"size\": 20}}], {\"yaxis\": {\"showgrid\": false, \"showticklabels\": false, \"zeroline\": false}, \"width\": 450, \"xaxis\": {\"showgrid\": false, \"showticklabels\": false, \"zeroline\": false}, \"height\": 450, \"showlegend\": false, \"margin\": {\"l\": 0, \"b\": 0, \"t\": 0, \"r\": 0}}, {\"showLink\": false, \"linkText\": \"Export to plot.ly\", \"displayModeBar\": false})});</script>"
      ],
      "text/vnd.plotly.v1+html": [
       "<div id=\"b42f7299-c33d-4987-9b10-9a280ee6ce94\" style=\"height: 450px; width: 450px;\" class=\"plotly-graph-div\"></div><script type=\"text/javascript\">require([\"plotly\"], function(Plotly) { window.PLOTLYENV=window.PLOTLYENV || {};window.PLOTLYENV.BASE_URL=\"https://plot.ly\";Plotly.newPlot(\"b42f7299-c33d-4987-9b10-9a280ee6ce94\", [{\"y\": [1.0, 0.7213930348258706, null, 1.0, 0.20149253731343286, null, 1.0, 0.07213930348258701, null, 1.0, 0.20149253731343286, null, 1.0, 0.3731343283582089, null, 1.0, 0.7238805970149254, null, 1.0, 0.8706467661691543, null, 0.9701492537313433, 0.0, null, 0.9701492537313433, 0.07462686567164178, null, 0.9701492537313433, 0.37064676616915426, null, 0.9701492537313433, 0.20149253731343286, null, 0.9701492537313433, 0.5472636815920398, null, 0.8731343283582089, 0.9676616915422885, null, 0.8731343283582089, 0.07462686567164178, null, 0.8731343283582089, 0.5472636815920398, null, 0.7213930348258706, 0.5447761194029851, null, 0.7213930348258706, 0.07213930348258701, null, 0.7213930348258706, 0.0, null, 0.7213930348258706, 0.20149253731343286, null, 0.7213930348258706, 0.3731343283582089, null, 0.7213930348258706, 0.7238805970149254, null, 0.7213930348258706, 0.8706467661691543, null, 0.5447761194029851, 0.0, null, 0.5447761194029851, 0.07213930348258701, null, 0.37064676616915426, 0.9676616915422885, null, 0.37064676616915426, 0.07462686567164178, null, 0.37064676616915426, 0.5472636815920398, null, 0.37064676616915426, 0.0, null, 0.20149253731343286, 0.07462686567164178, null, 0.20149253731343286, 0.20149253731343286, null, 0.07213930348258701, 0.20149253731343286, null, 0.07213930348258701, 0.3731343283582089, null, 0.07213930348258701, 0.8706467661691543, null, 0.0, 0.5472636815920398, null, 0.0, 0.3731343283582089, null, 0.07462686567164178, 0.9676616915422885, null, 0.07462686567164178, 0.5472636815920398, null, 0.20149253731343286, 0.3731343283582089, null, 0.20149253731343286, 0.7238805970149254, null, 0.3731343283582089, 0.8706467661691543, null, 0.5472636815920398, 0.9676616915422885, null], \"x\": [0.4963144963144963, 0.05405405405405406, null, 0.4963144963144963, 0.10319410319410319, null, 0.4963144963144963, 0.25061425061425063, null, 0.4963144963144963, 0.9115479115479116, null, 0.4963144963144963, 0.9877149877149877, null, 0.4963144963144963, 0.941031941031941, null, 0.4963144963144963, 0.8304668304668305, null, 0.3022113022113022, 0.4004914004914005, null, 0.3022113022113022, 0.742014742014742, null, 0.3022113022113022, 0.009828009828009828, null, 0.3022113022113022, 0.10319410319410319, null, 0.3022113022113022, 1.0, null, 0.15233415233415235, 0.6953316953316954, null, 0.15233415233415235, 0.742014742014742, null, 0.15233415233415235, 1.0, null, 0.05405405405405406, 0.0, null, 0.05405405405405406, 0.25061425061425063, null, 0.05405405405405406, 0.597051597051597, null, 0.05405405405405406, 0.9115479115479116, null, 0.05405405405405406, 0.9877149877149877, null, 0.05405405405405406, 0.941031941031941, null, 0.05405405405405406, 0.8304668304668305, null, 0.0, 0.597051597051597, null, 0.0, 0.25061425061425063, null, 0.009828009828009828, 0.6953316953316954, null, 0.009828009828009828, 0.742014742014742, null, 0.009828009828009828, 1.0, null, 0.009828009828009828, 0.4004914004914005, null, 0.10319410319410319, 0.742014742014742, null, 0.10319410319410319, 0.9115479115479116, null, 0.25061425061425063, 0.9115479115479116, null, 0.25061425061425063, 0.9877149877149877, null, 0.25061425061425063, 0.8304668304668305, null, 0.4004914004914005, 1.0, null, 0.597051597051597, 0.9877149877149877, null, 0.742014742014742, 0.6953316953316954, null, 0.742014742014742, 1.0, null, 0.9115479115479116, 0.9877149877149877, null, 0.9115479115479116, 0.941031941031941, null, 0.9877149877149877, 0.8304668304668305, null, 1.0, 0.6953316953316954, null], \"uid\": \"e4107178-a23c-11e8-872d-ec0ec4f70ed7\", \"hoverinfo\": \"none\", \"mode\": \"lines\", \"line\": {\"width\": 2, \"color\": \"rgb(0, 0, 0)\"}, \"type\": \"scatter\"}, {\"y\": [1.0, 0.9701492537313433, 0.8731343283582089, 0.7213930348258706, 0.5447761194029851, 0.37064676616915426, 0.20149253731343286, 0.07213930348258701, 0.0, 0.0, 0.07462686567164178, 0.20149253731343286, 0.3731343283582089, 0.5472636815920398, 0.7238805970149254, 0.8706467661691543, 0.9676616915422885], \"x\": [0.4963144963144963, 0.3022113022113022, 0.15233415233415235, 0.05405405405405406, 0.0, 0.009828009828009828, 0.10319410319410319, 0.25061425061425063, 0.4004914004914005, 0.597051597051597, 0.742014742014742, 0.9115479115479116, 0.9877149877149877, 1.0, 0.941031941031941, 0.8304668304668305, 0.6953316953316954], \"text\": [\"Rogerio\", \"Roberto\", \"Renato\", \"Larissa\", \"Jorge\", \"Sueli\", \"Conrado\", \"Ricardo\", \"Pamela\", \"Fabio\", \"Paulo\", \"William\", \"Tiago\", \"Sandra\", \"Patrick\", \"Jose\", \"Caio\"], \"hoverinfo\": \"text\", \"mode\": \"markers\", \"uid\": \"e4107179-a23c-11e8-872d-ec0ec4f70ed7\", \"textfont\": {\"color\": \"rgb(0, 0, 0)\"}, \"type\": \"scatter\", \"textposition\": \"middle center\", \"marker\": {\"line\": {\"color\": \"rgb(0, 0, 0)\", \"width\": 2}, \"color\": \"rgb(255, 255, 255)\", \"size\": 20}}], {\"yaxis\": {\"showgrid\": false, \"showticklabels\": false, \"zeroline\": false}, \"width\": 450, \"xaxis\": {\"showgrid\": false, \"showticklabels\": false, \"zeroline\": false}, \"height\": 450, \"showlegend\": false, \"margin\": {\"l\": 0, \"b\": 0, \"t\": 0, \"r\": 0}}, {\"showLink\": false, \"linkText\": \"Export to plot.ly\", \"displayModeBar\": false})});</script>"
      ]
     },
     "metadata": {},
     "output_type": "display_data"
    }
   ],
   "source": [
    "sn.graph_width = 450\n",
    "sn.graph_height = 450\n",
    "\n",
    "sn.node_label_position = 'hover' # easter egg!\n",
    "\n",
    "g = sn.load_graph('1-introducao.gml', has_pos=True)\n",
    "\n",
    "sn.show_graph(g, nlab=True)"
   ]
  },
  {
   "cell_type": "markdown",
   "metadata": {},
   "source": [
    "Usamos o argumento `has_pos` para indicar que os atributos `x` e `y` devem ser usados para posicionar os nós. Esse argumento é `False` por padrão, pois nem todo arquivo atribui essas coordenadas.\n",
    "\n",
    "Se elas não forem usadas, a visualização usa um tipo de [force-directed graph drawing](https://en.wikipedia.org/wiki/Force-directed_graph_drawing)."
   ]
  },
  {
   "cell_type": "code",
   "execution_count": 18,
   "metadata": {},
   "outputs": [
    {
     "data": {
      "application/vnd.plotly.v1+json": {
       "data": [
        {
         "hoverinfo": "none",
         "line": {
          "color": "rgb(0, 0, 0)",
          "width": 2
         },
         "mode": "lines",
         "type": "scatter",
         "uid": "e410717a-a23c-11e8-872d-ec0ec4f70ed7",
         "x": [
          0.20289309861965765,
          0.24427913297197126,
          null,
          0.20289309861965765,
          0.4486433945426926,
          null,
          0.20289309861965765,
          0.35162310457029355,
          null,
          0.20289309861965765,
          0.28982334382635966,
          null,
          0.20289309861965765,
          0.33415183360909484,
          null,
          0.20289309861965765,
          0,
          null,
          0.20289309861965765,
          0.11281997614981887,
          null,
          0.7400137558519125,
          1,
          null,
          0.7400137558519125,
          0.6102326113316775,
          null,
          0.7400137558519125,
          0.8677330692027588,
          null,
          0.7400137558519125,
          0.4486433945426926,
          null,
          0.7400137558519125,
          0.7577809335559654,
          null,
          0.5741672887377302,
          0.7463697828619877,
          null,
          0.5741672887377302,
          0.6102326113316775,
          null,
          0.5741672887377302,
          0.7577809335559654,
          null,
          0.24427913297197126,
          0.5374641908300657,
          null,
          0.24427913297197126,
          0.35162310457029355,
          null,
          0.24427913297197126,
          0.4557368505394893,
          null,
          0.24427913297197126,
          0.28982334382635966,
          null,
          0.24427913297197126,
          0.33415183360909484,
          null,
          0.24427913297197126,
          0,
          null,
          0.24427913297197126,
          0.11281997614981887,
          null,
          0.5374641908300657,
          0.4557368505394893,
          null,
          0.5374641908300657,
          0.35162310457029355,
          null,
          0.8677330692027588,
          0.7463697828619877,
          null,
          0.8677330692027588,
          0.6102326113316775,
          null,
          0.8677330692027588,
          0.7577809335559654,
          null,
          0.8677330692027588,
          1,
          null,
          0.4486433945426926,
          0.6102326113316775,
          null,
          0.4486433945426926,
          0.28982334382635966,
          null,
          0.35162310457029355,
          0.28982334382635966,
          null,
          0.35162310457029355,
          0.33415183360909484,
          null,
          0.35162310457029355,
          0.11281997614981887,
          null,
          1,
          0.7577809335559654,
          null,
          0.4557368505394893,
          0.33415183360909484,
          null,
          0.6102326113316775,
          0.7463697828619877,
          null,
          0.6102326113316775,
          0.7577809335559654,
          null,
          0.28982334382635966,
          0.33415183360909484,
          null,
          0.28982334382635966,
          0,
          null,
          0.33415183360909484,
          0.11281997614981887,
          null,
          0.7577809335559654,
          0.7463697828619877,
          null
         ],
         "y": [
          0.2836663306050618,
          0.12775047264958547,
          null,
          0.2836663306050618,
          0.544067175789537,
          null,
          0.2836663306050618,
          0.198395978807831,
          null,
          0.2836663306050618,
          0.3089064096841232,
          null,
          0.2836663306050618,
          0.12982135174256915,
          null,
          0.2836663306050618,
          0.1984936442731491,
          null,
          0.2836663306050618,
          0.12750503811547312,
          null,
          0.7333990648779023,
          0.8155852024586829,
          null,
          0.7333990648779023,
          0.8178064040701497,
          null,
          0.7333990648779023,
          0.8702048541373291,
          null,
          0.7333990648779023,
          0.544067175789537,
          null,
          0.7333990648779023,
          0.8966720846684151,
          null,
          1,
          0.9943790085677972,
          null,
          1,
          0.8178064040701497,
          null,
          1,
          0.8966720846684151,
          null,
          0.12775047264958547,
          0.09612174932164179,
          null,
          0.12775047264958547,
          0.198395978807831,
          null,
          0.12775047264958547,
          0,
          null,
          0.12775047264958547,
          0.3089064096841232,
          null,
          0.12775047264958547,
          0.12982135174256915,
          null,
          0.12775047264958547,
          0.1984936442731491,
          null,
          0.12775047264958547,
          0.12750503811547312,
          null,
          0.09612174932164179,
          0,
          null,
          0.09612174932164179,
          0.198395978807831,
          null,
          0.8702048541373291,
          0.9943790085677972,
          null,
          0.8702048541373291,
          0.8178064040701497,
          null,
          0.8702048541373291,
          0.8966720846684151,
          null,
          0.8702048541373291,
          0.8155852024586829,
          null,
          0.544067175789537,
          0.8178064040701497,
          null,
          0.544067175789537,
          0.3089064096841232,
          null,
          0.198395978807831,
          0.3089064096841232,
          null,
          0.198395978807831,
          0.12982135174256915,
          null,
          0.198395978807831,
          0.12750503811547312,
          null,
          0.8155852024586829,
          0.8966720846684151,
          null,
          0,
          0.12982135174256915,
          null,
          0.8178064040701497,
          0.9943790085677972,
          null,
          0.8178064040701497,
          0.8966720846684151,
          null,
          0.3089064096841232,
          0.12982135174256915,
          null,
          0.3089064096841232,
          0.1984936442731491,
          null,
          0.12982135174256915,
          0.12750503811547312,
          null,
          0.8966720846684151,
          0.9943790085677972,
          null
         ]
        },
        {
         "hoverinfo": "text",
         "marker": {
          "color": "rgb(255, 255, 255)",
          "line": {
           "color": "rgb(0, 0, 0)",
           "width": 2
          },
          "size": 20
         },
         "mode": "markers",
         "text": [
          "Rogerio",
          "Roberto",
          "Renato",
          "Larissa",
          "Jorge",
          "Sueli",
          "Conrado",
          "Ricardo",
          "Pamela",
          "Fabio",
          "Paulo",
          "William",
          "Tiago",
          "Sandra",
          "Patrick",
          "Jose",
          "Caio"
         ],
         "textfont": {
          "color": "rgb(0, 0, 0)"
         },
         "textposition": "middle center",
         "type": "scatter",
         "uid": "e410717b-a23c-11e8-872d-ec0ec4f70ed7",
         "x": [
          0.20289309861965765,
          0.7400137558519125,
          0.5741672887377302,
          0.24427913297197126,
          0.5374641908300657,
          0.8677330692027588,
          0.4486433945426926,
          0.35162310457029355,
          1,
          0.4557368505394893,
          0.6102326113316775,
          0.28982334382635966,
          0.33415183360909484,
          0.7577809335559654,
          0,
          0.11281997614981887,
          0.7463697828619877
         ],
         "y": [
          0.2836663306050618,
          0.7333990648779023,
          1,
          0.12775047264958547,
          0.09612174932164179,
          0.8702048541373291,
          0.544067175789537,
          0.198395978807831,
          0.8155852024586829,
          0,
          0.8178064040701497,
          0.3089064096841232,
          0.12982135174256915,
          0.8966720846684151,
          0.1984936442731491,
          0.12750503811547312,
          0.9943790085677972
         ]
        }
       ],
       "layout": {
        "height": 450,
        "margin": {
         "b": 0,
         "l": 0,
         "r": 0,
         "t": 0
        },
        "showlegend": false,
        "width": 450,
        "xaxis": {
         "showgrid": false,
         "showticklabels": false,
         "zeroline": false
        },
        "yaxis": {
         "showgrid": false,
         "showticklabels": false,
         "zeroline": false
        }
       }
      },
      "text/html": [
       "<div id=\"3c430d8d-8c70-466b-a6ab-23dba5462601\" style=\"height: 450px; width: 450px;\" class=\"plotly-graph-div\"></div><script type=\"text/javascript\">require([\"plotly\"], function(Plotly) { window.PLOTLYENV=window.PLOTLYENV || {};window.PLOTLYENV.BASE_URL=\"https://plot.ly\";Plotly.newPlot(\"3c430d8d-8c70-466b-a6ab-23dba5462601\", [{\"y\": [0.2836663306050618, 0.12775047264958547, null, 0.2836663306050618, 0.544067175789537, null, 0.2836663306050618, 0.198395978807831, null, 0.2836663306050618, 0.3089064096841232, null, 0.2836663306050618, 0.12982135174256915, null, 0.2836663306050618, 0.1984936442731491, null, 0.2836663306050618, 0.12750503811547312, null, 0.7333990648779023, 0.8155852024586829, null, 0.7333990648779023, 0.8178064040701497, null, 0.7333990648779023, 0.8702048541373291, null, 0.7333990648779023, 0.544067175789537, null, 0.7333990648779023, 0.8966720846684151, null, 1.0, 0.9943790085677972, null, 1.0, 0.8178064040701497, null, 1.0, 0.8966720846684151, null, 0.12775047264958547, 0.09612174932164179, null, 0.12775047264958547, 0.198395978807831, null, 0.12775047264958547, 0.0, null, 0.12775047264958547, 0.3089064096841232, null, 0.12775047264958547, 0.12982135174256915, null, 0.12775047264958547, 0.1984936442731491, null, 0.12775047264958547, 0.12750503811547312, null, 0.09612174932164179, 0.0, null, 0.09612174932164179, 0.198395978807831, null, 0.8702048541373291, 0.9943790085677972, null, 0.8702048541373291, 0.8178064040701497, null, 0.8702048541373291, 0.8966720846684151, null, 0.8702048541373291, 0.8155852024586829, null, 0.544067175789537, 0.8178064040701497, null, 0.544067175789537, 0.3089064096841232, null, 0.198395978807831, 0.3089064096841232, null, 0.198395978807831, 0.12982135174256915, null, 0.198395978807831, 0.12750503811547312, null, 0.8155852024586829, 0.8966720846684151, null, 0.0, 0.12982135174256915, null, 0.8178064040701497, 0.9943790085677972, null, 0.8178064040701497, 0.8966720846684151, null, 0.3089064096841232, 0.12982135174256915, null, 0.3089064096841232, 0.1984936442731491, null, 0.12982135174256915, 0.12750503811547312, null, 0.8966720846684151, 0.9943790085677972, null], \"x\": [0.20289309861965765, 0.24427913297197126, null, 0.20289309861965765, 0.4486433945426926, null, 0.20289309861965765, 0.35162310457029355, null, 0.20289309861965765, 0.28982334382635966, null, 0.20289309861965765, 0.33415183360909484, null, 0.20289309861965765, 0.0, null, 0.20289309861965765, 0.11281997614981887, null, 0.7400137558519125, 1.0, null, 0.7400137558519125, 0.6102326113316775, null, 0.7400137558519125, 0.8677330692027588, null, 0.7400137558519125, 0.4486433945426926, null, 0.7400137558519125, 0.7577809335559654, null, 0.5741672887377302, 0.7463697828619877, null, 0.5741672887377302, 0.6102326113316775, null, 0.5741672887377302, 0.7577809335559654, null, 0.24427913297197126, 0.5374641908300657, null, 0.24427913297197126, 0.35162310457029355, null, 0.24427913297197126, 0.4557368505394893, null, 0.24427913297197126, 0.28982334382635966, null, 0.24427913297197126, 0.33415183360909484, null, 0.24427913297197126, 0.0, null, 0.24427913297197126, 0.11281997614981887, null, 0.5374641908300657, 0.4557368505394893, null, 0.5374641908300657, 0.35162310457029355, null, 0.8677330692027588, 0.7463697828619877, null, 0.8677330692027588, 0.6102326113316775, null, 0.8677330692027588, 0.7577809335559654, null, 0.8677330692027588, 1.0, null, 0.4486433945426926, 0.6102326113316775, null, 0.4486433945426926, 0.28982334382635966, null, 0.35162310457029355, 0.28982334382635966, null, 0.35162310457029355, 0.33415183360909484, null, 0.35162310457029355, 0.11281997614981887, null, 1.0, 0.7577809335559654, null, 0.4557368505394893, 0.33415183360909484, null, 0.6102326113316775, 0.7463697828619877, null, 0.6102326113316775, 0.7577809335559654, null, 0.28982334382635966, 0.33415183360909484, null, 0.28982334382635966, 0.0, null, 0.33415183360909484, 0.11281997614981887, null, 0.7577809335559654, 0.7463697828619877, null], \"uid\": \"e410717c-a23c-11e8-872d-ec0ec4f70ed7\", \"hoverinfo\": \"none\", \"mode\": \"lines\", \"line\": {\"width\": 2, \"color\": \"rgb(0, 0, 0)\"}, \"type\": \"scatter\"}, {\"y\": [0.2836663306050618, 0.7333990648779023, 1.0, 0.12775047264958547, 0.09612174932164179, 0.8702048541373291, 0.544067175789537, 0.198395978807831, 0.8155852024586829, 0.0, 0.8178064040701497, 0.3089064096841232, 0.12982135174256915, 0.8966720846684151, 0.1984936442731491, 0.12750503811547312, 0.9943790085677972], \"x\": [0.20289309861965765, 0.7400137558519125, 0.5741672887377302, 0.24427913297197126, 0.5374641908300657, 0.8677330692027588, 0.4486433945426926, 0.35162310457029355, 1.0, 0.4557368505394893, 0.6102326113316775, 0.28982334382635966, 0.33415183360909484, 0.7577809335559654, 0.0, 0.11281997614981887, 0.7463697828619877], \"text\": [\"Rogerio\", \"Roberto\", \"Renato\", \"Larissa\", \"Jorge\", \"Sueli\", \"Conrado\", \"Ricardo\", \"Pamela\", \"Fabio\", \"Paulo\", \"William\", \"Tiago\", \"Sandra\", \"Patrick\", \"Jose\", \"Caio\"], \"hoverinfo\": \"text\", \"mode\": \"markers\", \"uid\": \"e410717d-a23c-11e8-872d-ec0ec4f70ed7\", \"textfont\": {\"color\": \"rgb(0, 0, 0)\"}, \"type\": \"scatter\", \"textposition\": \"middle center\", \"marker\": {\"line\": {\"color\": \"rgb(0, 0, 0)\", \"width\": 2}, \"color\": \"rgb(255, 255, 255)\", \"size\": 20}}], {\"yaxis\": {\"showgrid\": false, \"showticklabels\": false, \"zeroline\": false}, \"width\": 450, \"xaxis\": {\"showgrid\": false, \"showticklabels\": false, \"zeroline\": false}, \"height\": 450, \"showlegend\": false, \"margin\": {\"l\": 0, \"b\": 0, \"t\": 0, \"r\": 0}}, {\"showLink\": false, \"linkText\": \"Export to plot.ly\", \"displayModeBar\": false})});</script>"
      ],
      "text/vnd.plotly.v1+html": [
       "<div id=\"3c430d8d-8c70-466b-a6ab-23dba5462601\" style=\"height: 450px; width: 450px;\" class=\"plotly-graph-div\"></div><script type=\"text/javascript\">require([\"plotly\"], function(Plotly) { window.PLOTLYENV=window.PLOTLYENV || {};window.PLOTLYENV.BASE_URL=\"https://plot.ly\";Plotly.newPlot(\"3c430d8d-8c70-466b-a6ab-23dba5462601\", [{\"y\": [0.2836663306050618, 0.12775047264958547, null, 0.2836663306050618, 0.544067175789537, null, 0.2836663306050618, 0.198395978807831, null, 0.2836663306050618, 0.3089064096841232, null, 0.2836663306050618, 0.12982135174256915, null, 0.2836663306050618, 0.1984936442731491, null, 0.2836663306050618, 0.12750503811547312, null, 0.7333990648779023, 0.8155852024586829, null, 0.7333990648779023, 0.8178064040701497, null, 0.7333990648779023, 0.8702048541373291, null, 0.7333990648779023, 0.544067175789537, null, 0.7333990648779023, 0.8966720846684151, null, 1.0, 0.9943790085677972, null, 1.0, 0.8178064040701497, null, 1.0, 0.8966720846684151, null, 0.12775047264958547, 0.09612174932164179, null, 0.12775047264958547, 0.198395978807831, null, 0.12775047264958547, 0.0, null, 0.12775047264958547, 0.3089064096841232, null, 0.12775047264958547, 0.12982135174256915, null, 0.12775047264958547, 0.1984936442731491, null, 0.12775047264958547, 0.12750503811547312, null, 0.09612174932164179, 0.0, null, 0.09612174932164179, 0.198395978807831, null, 0.8702048541373291, 0.9943790085677972, null, 0.8702048541373291, 0.8178064040701497, null, 0.8702048541373291, 0.8966720846684151, null, 0.8702048541373291, 0.8155852024586829, null, 0.544067175789537, 0.8178064040701497, null, 0.544067175789537, 0.3089064096841232, null, 0.198395978807831, 0.3089064096841232, null, 0.198395978807831, 0.12982135174256915, null, 0.198395978807831, 0.12750503811547312, null, 0.8155852024586829, 0.8966720846684151, null, 0.0, 0.12982135174256915, null, 0.8178064040701497, 0.9943790085677972, null, 0.8178064040701497, 0.8966720846684151, null, 0.3089064096841232, 0.12982135174256915, null, 0.3089064096841232, 0.1984936442731491, null, 0.12982135174256915, 0.12750503811547312, null, 0.8966720846684151, 0.9943790085677972, null], \"x\": [0.20289309861965765, 0.24427913297197126, null, 0.20289309861965765, 0.4486433945426926, null, 0.20289309861965765, 0.35162310457029355, null, 0.20289309861965765, 0.28982334382635966, null, 0.20289309861965765, 0.33415183360909484, null, 0.20289309861965765, 0.0, null, 0.20289309861965765, 0.11281997614981887, null, 0.7400137558519125, 1.0, null, 0.7400137558519125, 0.6102326113316775, null, 0.7400137558519125, 0.8677330692027588, null, 0.7400137558519125, 0.4486433945426926, null, 0.7400137558519125, 0.7577809335559654, null, 0.5741672887377302, 0.7463697828619877, null, 0.5741672887377302, 0.6102326113316775, null, 0.5741672887377302, 0.7577809335559654, null, 0.24427913297197126, 0.5374641908300657, null, 0.24427913297197126, 0.35162310457029355, null, 0.24427913297197126, 0.4557368505394893, null, 0.24427913297197126, 0.28982334382635966, null, 0.24427913297197126, 0.33415183360909484, null, 0.24427913297197126, 0.0, null, 0.24427913297197126, 0.11281997614981887, null, 0.5374641908300657, 0.4557368505394893, null, 0.5374641908300657, 0.35162310457029355, null, 0.8677330692027588, 0.7463697828619877, null, 0.8677330692027588, 0.6102326113316775, null, 0.8677330692027588, 0.7577809335559654, null, 0.8677330692027588, 1.0, null, 0.4486433945426926, 0.6102326113316775, null, 0.4486433945426926, 0.28982334382635966, null, 0.35162310457029355, 0.28982334382635966, null, 0.35162310457029355, 0.33415183360909484, null, 0.35162310457029355, 0.11281997614981887, null, 1.0, 0.7577809335559654, null, 0.4557368505394893, 0.33415183360909484, null, 0.6102326113316775, 0.7463697828619877, null, 0.6102326113316775, 0.7577809335559654, null, 0.28982334382635966, 0.33415183360909484, null, 0.28982334382635966, 0.0, null, 0.33415183360909484, 0.11281997614981887, null, 0.7577809335559654, 0.7463697828619877, null], \"uid\": \"e410717c-a23c-11e8-872d-ec0ec4f70ed7\", \"hoverinfo\": \"none\", \"mode\": \"lines\", \"line\": {\"width\": 2, \"color\": \"rgb(0, 0, 0)\"}, \"type\": \"scatter\"}, {\"y\": [0.2836663306050618, 0.7333990648779023, 1.0, 0.12775047264958547, 0.09612174932164179, 0.8702048541373291, 0.544067175789537, 0.198395978807831, 0.8155852024586829, 0.0, 0.8178064040701497, 0.3089064096841232, 0.12982135174256915, 0.8966720846684151, 0.1984936442731491, 0.12750503811547312, 0.9943790085677972], \"x\": [0.20289309861965765, 0.7400137558519125, 0.5741672887377302, 0.24427913297197126, 0.5374641908300657, 0.8677330692027588, 0.4486433945426926, 0.35162310457029355, 1.0, 0.4557368505394893, 0.6102326113316775, 0.28982334382635966, 0.33415183360909484, 0.7577809335559654, 0.0, 0.11281997614981887, 0.7463697828619877], \"text\": [\"Rogerio\", \"Roberto\", \"Renato\", \"Larissa\", \"Jorge\", \"Sueli\", \"Conrado\", \"Ricardo\", \"Pamela\", \"Fabio\", \"Paulo\", \"William\", \"Tiago\", \"Sandra\", \"Patrick\", \"Jose\", \"Caio\"], \"hoverinfo\": \"text\", \"mode\": \"markers\", \"uid\": \"e410717d-a23c-11e8-872d-ec0ec4f70ed7\", \"textfont\": {\"color\": \"rgb(0, 0, 0)\"}, \"type\": \"scatter\", \"textposition\": \"middle center\", \"marker\": {\"line\": {\"color\": \"rgb(0, 0, 0)\", \"width\": 2}, \"color\": \"rgb(255, 255, 255)\", \"size\": 20}}], {\"yaxis\": {\"showgrid\": false, \"showticklabels\": false, \"zeroline\": false}, \"width\": 450, \"xaxis\": {\"showgrid\": false, \"showticklabels\": false, \"zeroline\": false}, \"height\": 450, \"showlegend\": false, \"margin\": {\"l\": 0, \"b\": 0, \"t\": 0, \"r\": 0}}, {\"showLink\": false, \"linkText\": \"Export to plot.ly\", \"displayModeBar\": false})});</script>"
      ]
     },
     "metadata": {},
     "output_type": "display_data"
    }
   ],
   "source": [
    "g = sn.load_graph('1-introducao.gml')\n",
    "\n",
    "sn.show_graph(g, nlab=True)"
   ]
  },
  {
   "cell_type": "code",
   "execution_count": null,
   "metadata": {},
   "outputs": [],
   "source": []
  }
 ],
 "metadata": {
  "kernelspec": {
   "display_name": "Python 3",
   "language": "python",
   "name": "python3"
  },
  "language_info": {
   "codemirror_mode": {
    "name": "ipython",
    "version": 3
   },
   "file_extension": ".py",
   "mimetype": "text/x-python",
   "name": "python",
   "nbconvert_exporter": "python",
   "pygments_lexer": "ipython3",
   "version": "3.5.2"
  }
 },
 "nbformat": 4,
 "nbformat_minor": 1
}
