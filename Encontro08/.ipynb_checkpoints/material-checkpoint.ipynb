{
 "cells": [
  {
   "cell_type": "markdown",
   "metadata": {},
   "source": [
    "# Encontro 8: Centro e Periferia"
   ]
  },
  {
   "cell_type": "code",
   "execution_count": 2,
   "metadata": {
    "scrolled": true
   },
   "outputs": [
    {
     "data": {
      "text/html": [
       "<script>requirejs.config({paths: { 'plotly': ['https://cdn.plot.ly/plotly-latest.min']},});if(!window.Plotly) {{require(['plotly'],function(plotly) {window.Plotly=plotly;});}}</script>"
      ],
      "text/vnd.plotly.v1+html": [
       "<script>requirejs.config({paths: { 'plotly': ['https://cdn.plot.ly/plotly-latest.min']},});if(!window.Plotly) {{require(['plotly'],function(plotly) {window.Plotly=plotly;});}}</script>"
      ]
     },
     "metadata": {},
     "output_type": "display_data"
    }
   ],
   "source": [
    "import sys\n",
    "sys.path.append('..')\n",
    "\n",
    "import numpy as np\n",
    "import pandas as pd\n",
    "import seaborn as sns\n",
    "\n",
    "import socnet as sn\n",
    "\n",
    "from scipy.stats.stats import pearsonr\n",
    "from scipy.optimize import minimize\n",
    "import matplotlib.pyplot as plt\n",
    "%matplotlib inline"
   ]
  },
  {
   "cell_type": "markdown",
   "metadata": {},
   "source": [
    "### Scaffold 3: Operacionalização e Teste das Hipóteses"
   ]
  },
  {
   "cell_type": "code",
   "execution_count": 3,
   "metadata": {},
   "outputs": [],
   "source": [
    "def cost(c, A):\n",
    "    row = np.matrix(c)\n",
    "\n",
    "    C = np.multiply(row.transpose(), row)\n",
    "\n",
    "    correlation, _ = pearsonr(C.flat, A.flat)\n",
    "\n",
    "    return -correlation\n",
    "\n",
    "\n",
    "def write_coreness(g):\n",
    "    length = g.number_of_nodes()\n",
    "\n",
    "    c = np.random.rand(length)\n",
    "\n",
    "    A = sn.build_matrix(g)\n",
    "\n",
    "    bounds = [(0, 1) for _ in range(length)]\n",
    "\n",
    "    result = minimize(cost, c, args=(A,), bounds=bounds)\n",
    "\n",
    "    norm = 0\n",
    "\n",
    "    for i, n in enumerate(g.nodes):\n",
    "        g.nodes[n]['coreness'] = result['x'][i]\n",
    "\n",
    "        norm += g.nodes[n]['coreness'] ** 2\n",
    "\n",
    "    for n in g.nodes:\n",
    "        g.nodes[n]['coreness'] /= norm"
   ]
  },
  {
   "cell_type": "markdown",
   "metadata": {},
   "source": []
  },
  {
   "cell_type": "code",
   "execution_count": 28,
   "metadata": {},
   "outputs": [
    {
     "data": {
      "image/png": "[encoded data removed]",
      "text/plain": [
       "<Figure size 432x288 with 1 Axes>"
      ]
     },
     "metadata": {},
     "output_type": "display_data"
    }
   ],
   "source": [
    "g = sn.load_graph('graphs/1958.gml')\n",
    "sg = g.copy()\n",
    "\n",
    "nodes = list(sg.nodes)\n",
    "\n",
    "for n in nodes:\n",
    "    if sg.nodes[n]['sessions'] < 10:\n",
    "        sg.remove_node(n)\n",
    "        \n",
    "write_coreness(sg)\n",
    "\n",
    "coreness = []\n",
    "proportion_of_innovation = []\n",
    "for n in sg.nodes:\n",
    "        coreness.append(sg.nodes[n]['coreness'])\n",
    "        if sg.nodes[n]['innovats'] > 0:\n",
    "            proportion_of_innovation.append((sg.nodes[n]['innovats']/sg.nodes[n]['sessions']) * 100)\n",
    "        else:\n",
    "             proportion_of_innovation.append(0)\n",
    "plt.scatter(coreness,proportion_of_innovation)\n",
    "plt.show()"
   ]
  },
  {
   "cell_type": "code",
   "execution_count": 29,
   "metadata": {},
   "outputs": [],
   "source": [
    "import numpy as np\n",
    "res = {}\n",
    "for i in range(0,len(coreness)):\n",
    "\n",
    "    number = round(coreness[i],5)\n",
    "        \n",
    "    if number not in res:\n",
    "        res[number]  = [proportion_of_innovation[i],1]\n",
    "    else:\n",
    "         res[number][0] += proportion_of_innovation[i]\n",
    "         res[number][1] += 1\n",
    "\n",
    "x = []\n",
    "y = []\n",
    "for i in res:\n",
    "    x.append(i)\n",
    "    y.append(res[i][0]/res[i][1])\n",
    "    \n",
    "\n",
    "\n",
    "    \n",
    "        "
   ]
  },
  {
   "cell_type": "code",
   "execution_count": 17,
   "metadata": {},
   "outputs": [
    {
     "data": {
      "image/png": "[encoded data removed]",
      "text/plain": [
       "<Figure size 432x288 with 1 Axes>"
      ]
     },
     "metadata": {},
     "output_type": "display_data"
    }
   ],
   "source": [
    "regression = np.polyfit(x,y,7)\n",
    "plt.plot(x,y,'o')\n",
    "#plt.plot(regression)\n",
    "plt.show()"
   ]
  },
  {
   "cell_type": "code",
   "execution_count": 32,
   "metadata": {},
   "outputs": [
    {
     "data": {
      "image/png": "[encoded data removed]",
      "text/plain": [
       "<Figure size 432x288 with 1 Axes>"
      ]
     },
     "metadata": {},
     "output_type": "display_data"
    }
   ],
   "source": [
    "new_x = x.copy()\n",
    "new_x.sort()\n",
    "new_y = [a for _, a in sorted(zip(y,x), key=lambda pair: pair[0])]\n",
    "for i in range(0,len(new_x)):\n",
    "    new_x[i] = new_x[i]**1\n",
    "regression = np.polyfit(new_x,new_y,1)\n",
    "\n",
    "plt.scatter(new_x,new_y)\n",
    "plt.plot(new_x,np.polyval(regression,new_x),'r-')\n",
    "plt.show()"
   ]
  },
  {
   "cell_type": "code",
   "execution_count": null,
   "metadata": {},
   "outputs": [],
   "source": []
  },
  {
   "cell_type": "code",
   "execution_count": 27,
   "metadata": {},
   "outputs": [
    {
     "name": "stdout",
     "output_type": "stream",
     "text": [
      "0.0600066065286867\n"
     ]
    }
   ],
   "source": [
    "print(np.abs(pearsonr(new_x,new_y))[0])"
   ]
  },
  {
   "cell_type": "markdown",
   "metadata": {},
   "source": [
    "# Conclusion between years"
   ]
  },
  {
   "cell_type": "code",
   "execution_count": 9,
   "metadata": {},
   "outputs": [
    {
     "name": "stdout",
     "output_type": "stream",
     "text": [
      "Coreness do ano 1950 feito\n",
      "Coreness do ano 1951 feito\n",
      "Coreness do ano 1952 feito\n",
      "Coreness do ano 1953 feito\n",
      "Coreness do ano 1954 feito\n",
      "Coreness do ano 1955 feito\n",
      "Coreness do ano 1956 feito\n",
      "Coreness do ano 1957 feito\n",
      "Coreness do ano 1958 feito\n",
      "Coreness do ano 1959 feito\n",
      "Coreness do ano 1960 feito\n"
     ]
    }
   ],
   "source": [
    "years_x = []\n",
    "years_y = []\n",
    "year_counter = 1950\n",
    "while(year_counter <= 1960):\n",
    "    years_x.append(year_counter)\n",
    "    g = sn.load_graph('graphs/{0}.gml'.format(year_counter))\n",
    "    sg = g.copy()\n",
    "\n",
    "    nodes = list(sg.nodes)\n",
    "\n",
    "    for n in nodes:\n",
    "        if sg.nodes[n]['sessions'] < 10:\n",
    "            sg.remove_node(n)\n",
    "\n",
    "    write_coreness(sg)\n",
    "    print('Coreness do ano {0} feito'.format(year_counter))\n",
    "\n",
    "    coreness = []\n",
    "    proportion_of_innovation = []\n",
    "    for n in sg.nodes:\n",
    "            coreness.append(sg.nodes[n]['coreness'])\n",
    "            if sg.nodes[n]['innovats'] > 0:\n",
    "                proportion_of_innovation.append((sg.nodes[n]['innovats']/sg.nodes[n]['sessions']) * 100)\n",
    "            else:\n",
    "                 proportion_of_innovation.append(0)\n",
    "\n",
    "    res = {}\n",
    "    for i in range(0,len(coreness)):\n",
    "        number = round(coreness[i],5)\n",
    "\n",
    "        if number not in res:\n",
    "            res[number]  = [proportion_of_innovation[i],1]\n",
    "        else:\n",
    "             res[number][0] += proportion_of_innovation[i]\n",
    "             res[number][1] += 1\n",
    "    x = []\n",
    "    y = []\n",
    "    for i in res:\n",
    "        x.append(i)\n",
    "        y.append(res[i][0]/res[i][1])\n",
    "\n",
    "    new_x = x.copy()\n",
    "    new_x.sort()\n",
    "    new_y = [a for _, a in sorted(zip(y,x), key=lambda pair: pair[0])]\n",
    "    corr = np.abs(pearsonr(new_x,new_y))[0]\n",
    "    years_y.append(corr)\n",
    "    year_counter +=1\n"
   ]
  },
  {
   "cell_type": "code",
   "execution_count": 10,
   "metadata": {},
   "outputs": [
    {
     "data": {
      "image/png": "[encoded data removed]",
      "text/plain": [
       "<Figure size 432x288 with 1 Axes>"
      ]
     },
     "metadata": {},
     "output_type": "display_data"
    }
   ],
   "source": [
    "plt.plot(years_x,years_y)\n",
    "plt.show()"
   ]
  },
  {
   "cell_type": "markdown",
   "metadata": {},
   "source": [
    "## Como teste de hipótese para a pergunta: 'Entre os anos 50 e 60,estar na periferia ou no centro influencia a chance de  inovação no jazz ?'\n",
    "Testaria as seguintes hipótesis, para checar se algo não é algo pontual de um ano só checaria o desvio padrão dos resultados  é menor que 0.2 (minha escolha). \n",
    "Para checar a influencia de estar no centro ou nao analisaria a média das correlações ao longo do ano (maior ou igual a 0.8).\n",
    "Passando nas duas hipóteses diria que sim Influencia estar ou não no centro.\n"
   ]
  },
  {
   "cell_type": "code",
   "execution_count": 13,
   "metadata": {},
   "outputs": [
    {
     "name": "stdout",
     "output_type": "stream",
     "text": [
      "0.12583978231219362\n",
      "0.176451047917468\n",
      "NEGAAADOOO\n"
     ]
    }
   ],
   "source": [
    "import math, os, sys\n",
    " \n",
    "def somar(valores):\n",
    "    soma = 0\n",
    "    for v in valores:\n",
    "        soma += v\n",
    "    return soma\n",
    "\n",
    "\n",
    "def media(valores):\n",
    "    soma = somar(valores)\n",
    "    qtd_elementos = len(valores)\n",
    "    media = soma / float(qtd_elementos)\n",
    "    return media\n",
    "\n",
    "\n",
    "def variancia(valores):\n",
    "    _media = media(valores)\n",
    "    soma = 0\n",
    "    _variancia = 0\n",
    "\n",
    "    for valor in valores:\n",
    "        soma += math.pow( (valor - _media), 2)\n",
    "    _variancia = soma / float( len(valores) )\n",
    "    return _variancia\n",
    "\n",
    "\n",
    "def desvio_padrao(valores):\n",
    "    return math.sqrt( variancia(valores) )\n",
    "\n",
    "dp = desvio_padrao(years_y)\n",
    "md =  media(years_y)\n",
    "print(dp)\n",
    "print(md)\n",
    "if(dp < 0.1 and md >= 0.8):\n",
    "    print('VALIDOU')\n",
    "else:\n",
    "    print('NEGAAADOOO')\n"
   ]
  },
  {
   "cell_type": "code",
   "execution_count": null,
   "metadata": {},
   "outputs": [],
   "source": []
  }
 ],
 "metadata": {
  "kernelspec": {
   "display_name": "Python 3",
   "language": "python",
   "name": "python3"
  },
  "language_info": {
   "codemirror_mode": {
    "name": "ipython",
    "version": 3
   },
   "file_extension": ".py",
   "mimetype": "text/x-python",
   "name": "python",
   "nbconvert_exporter": "python",
   "pygments_lexer": "ipython3",
   "version": "3.5.2"
  }
 },
 "nbformat": 4,
 "nbformat_minor": 1
}
